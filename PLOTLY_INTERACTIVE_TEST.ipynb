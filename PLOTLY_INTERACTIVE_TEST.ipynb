{
 "cells": [
  {
   "cell_type": "markdown",
   "metadata": {},
   "source": [
    "# LONESTAR PURCHASE AND SCRAP REPORT"
   ]
  },
  {
   "cell_type": "code",
   "execution_count": 1,
   "metadata": {},
   "outputs": [],
   "source": [
    "import pandas as pd\n",
    "import matplotlib.pyplot as plt\n",
    "%matplotlib inline\n",
    "\n",
    "from shutil import copyfile\n",
    "from splinter import Browser\n",
    "from bs4 import BeautifulSoup as soup\n",
    "from datetime import datetime\n",
    "from shutil import copyfile\n",
    "import os\n",
    "import shutil\n",
    "import time\n",
    "import re\n",
    "import plotly.graph_objects as go\n",
    "\n",
    "\n",
    "\n",
    "# PLOTLY INTERACTIVE CREDS:\n",
    "import chart_studio\n",
    "\n",
    "# Get environment variables\n",
    "username = os.getenv('plotly_chart_studio_username')\n",
    "api_key = os.environ.get('plotly_chart_studio_api_key')\n",
    "\n",
    "chart_studio.tools.set_credentials_file(username=username, api_key=api_key)\n",
    "import chart_studio.plotly as py\n",
    "import chart_studio.tools as tls"
   ]
  },
  {
   "cell_type": "code",
   "execution_count": 2,
   "metadata": {},
   "outputs": [],
   "source": [
    "Start_time = time.time()"
   ]
  },
  {
   "cell_type": "code",
   "execution_count": 3,
   "metadata": {},
   "outputs": [
    {
     "name": "stdout",
     "output_type": "stream",
     "text": [
      "now: 2021-11-04 08:10:09.861964\n",
      "--------\n",
      "Last_Month: 202110\n",
      "----------\n",
      "Last_Month_Descriptive: October\n",
      "----------\n",
      "Current_Year: 2021\n",
      "----------\n",
      "Last_Year: 2020\n",
      "----------\n",
      "-----------\n"
     ]
    }
   ],
   "source": [
    "# Get Current and Last Year as well as Current and Last Month as Integer:\n",
    "now = datetime.now()\n",
    "print(\"now:\", now)\n",
    "print(\"--------\")\n",
    "\n",
    "# Since we need to only report completed months, we will find the last completed month\n",
    "Current_Month = int(now.strftime(\"%Y%m\"))\n",
    "Last_Month = Current_Month - 1\n",
    "print(f\"Last_Month: {Last_Month}\")\n",
    "print('----------')\n",
    "\n",
    "# Now we'll get the month name so we can use it as a variable for graph titles and more:\n",
    "Last_Month_One_or_Two_Digit = now.month-1\n",
    "Last_Month_Descriptive = \"January February March April May June July August September October November December\".split()[Last_Month_One_or_Two_Digit-1]\n",
    "print(f'Last_Month_Descriptive: {Last_Month_Descriptive}')\n",
    "print('----------')\n",
    "\n",
    "# We'll use this version for the first banner title of the website/report:\n",
    "Last_Month_Descriptive_Short = \"JAN FEB MAR APR MAY JUN JUL AUG SEPT OCT NOV DEC\".split()[Last_Month_One_or_Two_Digit-1]\n",
    "\n",
    "Current_Year = int(now.strftime(\"%Y\"))\n",
    "print(f\"Current_Year: {Current_Year}\")\n",
    "print('----------')\n",
    "\n",
    "Last_Year = Current_Year -1\n",
    "print(f'Last_Year: {Last_Year}')\n",
    "print('----------')\n",
    "\n",
    "# Here we will create the numerical months in YYYYMM format for column name references later:\n",
    "\n",
    "\n",
    "# Finally, create a variable to list all the month abbreviations as strings:\n",
    "Months_Strings = [\"JAN\", \"FEB\", \"MAR\", \"APR\", \"MAY\", \"JUN\", \"JUL\", \"AUG\", \"SEPT\", \"OCT\", \"NOV\", \"DEC\"]\n",
    "print('-----------')"
   ]
  },
  {
   "cell_type": "code",
   "execution_count": 4,
   "metadata": {},
   "outputs": [],
   "source": [
    "# Connect to DB2 Databse:\n",
    "import pyodbc\n",
    "cnxn = pyodbc.connect(\"DSN=MaddenCo;UID=U212READO;PWD=stmffe\")\n",
    "cursor = cnxn.cursor()"
   ]
  },
  {
   "cell_type": "code",
   "execution_count": 5,
   "metadata": {},
   "outputs": [
    {
     "name": "stdout",
     "output_type": "stream",
     "text": [
      "Months:\n",
      "     202101\n",
      "     202102\n",
      "     202103\n",
      "     202104\n",
      "     202105\n",
      "     202106\n",
      "     202107\n",
      "     202108\n",
      "     202109\n",
      "     202110\n",
      "     202111\n",
      "     202112\n",
      "---------\n"
     ]
    }
   ],
   "source": [
    "# Depending on the chosen Year in the format YYYY, we will create variables for each month accordingly.\n",
    "# For example, if we had selected Current_Year = 2021, Jan will become 202101.  This is useful because the\n",
    "# Maddenco database has the dates formated in this manner YYYYMM.\n",
    "\n",
    "Jan = Current_Year * 100 + 1\n",
    "Feb = Current_Year * 100 + 2\n",
    "Mar = Current_Year * 100 + 3\n",
    "Apr = Current_Year * 100 + 4\n",
    "May = Current_Year * 100 + 5\n",
    "Jun = Current_Year * 100 + 6\n",
    "Jul = Current_Year * 100 + 7\n",
    "Aug = Current_Year * 100 + 8\n",
    "Sept = Current_Year * 100 + 9\n",
    "Oct = Current_Year * 100 + 10\n",
    "Nov = Current_Year * 100 + 11\n",
    "Dec = Current_Year * 100 + 12\n",
    "\n",
    "# We can also define a list of these numerical Months:\n",
    "# Again, these will be in format like Jan = 202101.\n",
    "Months = [Jan, Feb, Mar, Apr, May, Jun, Jul, Aug, Sept, Oct, Nov, Dec]\n",
    "print(\"Months:\")\n",
    "for x in Months:\n",
    "    print(f'    ', x)\n",
    "print(\"---------\")"
   ]
  },
  {
   "cell_type": "markdown",
   "metadata": {},
   "source": [
    "# Prepare a single column Sales Table df (we'll add to it later):"
   ]
  },
  {
   "cell_type": "code",
   "execution_count": 6,
   "metadata": {},
   "outputs": [],
   "source": [
    "# Create Dataframe of just categories.  Then we'll loop through and add each Location column to the dataframe:\n",
    "Data = {\n",
    "    \n",
    "'Category': ['SERVICE',\n",
    "                    'Flat Repair',\n",
    "                    'Tire Rotation',\n",
    "                    'Mount and Dismount',\n",
    "                    'Service Call Hours', \n",
    "                    'Scrap',\n",
    "                    'BANDAG RETREADS',\n",
    "                    '245/70R17.5 RETREAD',\n",
    "                    '295/75R22.5 RETREAD',\n",
    "                     'RETREAD + CASINGS', \n",
    "                     '10.00-20 CAP & CASING',\n",
    "                     '11R22.5 CAP & CASING', \n",
    "                     '295/75R22.5 CAP & CASING', \n",
    "                     'REPAIR ONLY', \n",
    "                     'NEW TIRES',\n",
    "                     'BRIDGESTONE',\n",
    "                     'Light Truck BRIDGESTONE',\n",
    "                     '225/70R19.5 BRIDGESTONE',\n",
    "                     '245/70R17.5 BRIDGESTONE',\n",
    "                     '9R22.5 BRIDGESTONE',\n",
    "                     '295/75R22.5 BRIDGESTONE', \n",
    "                     '11R22.5 BRIDGESTONE',\n",
    "                     'OTHER BRIDGESTONE',\n",
    "                     '10.00-20',\n",
    "                     'YOKOHAMA TIRES',\n",
    "                     'CONTINENTAL TIRES',\n",
    "                     'HANKOOK TIRES',\n",
    "                     'MISC NEW TIRES',\n",
    "                     'BS STEER-NEW TIRE',\n",
    "                     'BS DRIVE-NEW TIRE', \n",
    "                     'BS TRAILER-NEW TIRE']\n",
    "}\n",
    "\n",
    "# We'll create a starting df for each State (and the combination of all 3) based on that first column:\n",
    "Sales_Table_df = pd.DataFrame(Data)"
   ]
  },
  {
   "cell_type": "markdown",
   "metadata": {},
   "source": [
    "# Loop through last year and current year for Swift Transportation data and add each one to a separate dataframe:"
   ]
  },
  {
   "cell_type": "code",
   "execution_count": 7,
   "metadata": {},
   "outputs": [
    {
     "name": "stdout",
     "output_type": "stream",
     "text": [
      "-------------------------------------------\n",
      "year: 2020\n",
      "Months_Numerical:  [202001, 202002, 202003, 202004, 202005, 202006, 202007, 202008, 202009, 202010, 202011, 202012]\n",
      "Service of Flat Repairs JAN = 60.00\n",
      "Service of Flat Repairs FEB = 53.00\n",
      "Service of Flat Repairs MAR = 48.00\n",
      "Service of Flat Repairs APR = 48.00\n",
      "Service of Flat Repairs MAY = 39.00\n",
      "Service of Flat Repairs JUN = 40.00\n",
      "Service of Flat Repairs JUL = 26.00\n",
      "Service of Flat Repairs AUG = 34.00\n",
      "Service of Flat Repairs SEPT = 47.00\n",
      "Service of Flat Repairs OCT = 25.00\n",
      "Service of Flat Repairs NOV = 53.00\n",
      "Service of Flat Repairs DEC = 57.00\n",
      "Service of Flat Repairs YTD = 530.00\n",
      "Service of Tire Rotation JAN = 0\n",
      "Service of Tire Rotation FEB = 5.00\n",
      "Service of Tire Rotation MAR = 0\n",
      "Service of Tire Rotation APR = 2.00\n",
      "Service of Tire Rotation MAY = 16.00\n",
      "Service of Tire Rotation JUN = 5.00\n",
      "Service of Tire Rotation JUL = 74.00\n",
      "Service of Tire Rotation AUG = 29.00\n",
      "Service of Tire Rotation SEPT = 22.00\n",
      "Service of Tire Rotation OCT = 37.00\n",
      "Service of Tire Rotation NOV = 21.00\n",
      "Service of Tire Rotation DEC = 30.00\n",
      "Service of Tire Rotation YTD = 241.00\n",
      "Service of Mount and Dismount JAN = 748.00\n",
      "Service of Mount and Dismount FEB = 613.00\n",
      "Service of Mount and Dismount MAR = 539.00\n",
      "Service of Mount and Dismount APR = 657.00\n",
      "Service of Mount and Dismount MAY = 488.00\n",
      "Service of Mount and Dismount JUN = 621.00\n",
      "Service of Mount and Dismount JUL = 528.00\n",
      "Service of Mount and Dismount AUG = 524.00\n",
      "Service of Mount and Dismount SEPT = 569.00\n",
      "Service of Mount and Dismount OCT = 620.00\n",
      "Service of Mount and Dismount NOV = 383.00\n",
      "Service of Mount and Dismount DEC = 426.00\n",
      "Service of Mount and Dismount YTD = 6716.00\n",
      "Service of Service Call Hours JAN = 46.00\n",
      "Service of Service Call Hours FEB = 100.50\n",
      "Service of Service Call Hours MAR = 142.50\n",
      "Service of Service Call Hours APR = 138.25\n",
      "Service of Service Call Hours MAY = 175.75\n",
      "Service of Service Call Hours JUN = 243.00\n",
      "Service of Service Call Hours JUL = 201.00\n",
      "Service of Service Call Hours AUG = 227.00\n",
      "Service of Service Call Hours SEPT = 216.50\n",
      "Service of Service Call Hours OCT = 225.75\n",
      "Service of Service Call Hours NOV = 112.50\n",
      "Service of Service Call Hours DEC = 90.50\n",
      "Service of Service Call Hours YTD = 1919.25\n",
      "Service of Scrap JAN = 19.00\n",
      "Service of Scrap FEB = 32.00\n",
      "Service of Scrap MAR = 58.00\n",
      "Service of Scrap APR = 51.00\n",
      "Service of Scrap MAY = 78.00\n",
      "Service of Scrap JUN = 127.00\n",
      "Service of Scrap JUL = 127.00\n",
      "Service of Scrap AUG = 130.00\n",
      "Service of Scrap SEPT = 119.00\n",
      "Service of Scrap OCT = 96.00\n",
      "Service of Scrap NOV = 64.00\n",
      "Service of Scrap DEC = 55.00\n",
      "Service of Scrap YTD = 956.00\n",
      "RETREADS - 245/70R17.5 RETREAD JAN = 0\n",
      "RETREADS - 245/70R17.5 RETREAD FEB = 0\n",
      "RETREADS - 245/70R17.5 RETREAD MAR = 0\n",
      "RETREADS - 245/70R17.5 RETREAD APR = 0\n",
      "RETREADS - 245/70R17.5 RETREAD MAY = 0\n",
      "RETREADS - 245/70R17.5 RETREAD JUN = 0\n",
      "RETREADS - 245/70R17.5 RETREAD JUL = 0\n",
      "RETREADS - 245/70R17.5 RETREAD AUG = 0\n",
      "RETREADS - 245/70R17.5 RETREAD SEPT = 0\n",
      "RETREADS - 245/70R17.5 RETREAD OCT = 0\n",
      "RETREADS - 245/70R17.5 RETREAD NOV = 0\n",
      "RETREADS - 245/70R17.5 RETREAD DEC = 1.00\n",
      "RETREADS - 245/70R17.5 RETREAD YTD = 1.00\n",
      "RETREADS - 295/75R22.5 RETREAD JAN = 0\n",
      "RETREADS - 295/75R22.5 RETREAD FEB = 0\n",
      "RETREADS - 295/75R22.5 RETREAD MAR = 0\n",
      "RETREADS - 295/75R22.5 RETREAD APR = 0\n",
      "RETREADS - 295/75R22.5 RETREAD MAY = 0\n",
      "RETREADS - 295/75R22.5 RETREAD JUN = 0\n",
      "RETREADS - 295/75R22.5 RETREAD JUL = 0\n",
      "RETREADS - 295/75R22.5 RETREAD AUG = 1.00\n",
      "RETREADS - 295/75R22.5 RETREAD SEPT = 0\n",
      "RETREADS - 295/75R22.5 RETREAD OCT = 0\n",
      "RETREADS - 295/75R22.5 RETREAD NOV = 0\n",
      "RETREADS - 295/75R22.5 RETREAD DEC = 0\n",
      "RETREADS - 295/75R22.5 RETREAD YTD = 1.00\n",
      "RETREAD + CASINGS - 11R22.5 CAP & CASING JAN = 0\n",
      "RETREAD + CASINGS - 11R22.5 CAP & CASING FEB = 0\n",
      "RETREAD + CASINGS - 11R22.5 CAP & CASING MAR = 0\n",
      "RETREAD + CASINGS - 11R22.5 CAP & CASING APR = 0\n",
      "RETREAD + CASINGS - 11R22.5 CAP & CASING MAY = 0\n",
      "RETREAD + CASINGS - 11R22.5 CAP & CASING JUN = 0\n",
      "RETREAD + CASINGS - 11R22.5 CAP & CASING JUL = 0\n",
      "RETREAD + CASINGS - 11R22.5 CAP & CASING AUG = 0\n",
      "RETREAD + CASINGS - 11R22.5 CAP & CASING SEPT = 0\n",
      "RETREAD + CASINGS - 11R22.5 CAP & CASING OCT = 0\n",
      "RETREAD + CASINGS - 11R22.5 CAP & CASING NOV = 0\n",
      "RETREAD + CASINGS - 11R22.5 CAP & CASING DEC = 0\n",
      "RETREAD + CASINGS - 11R22.5 CAP & CASING YTD = 0\n",
      "RETREAD + CASINGS - 11R22.5 CAP & CASING JAN = 0\n",
      "RETREAD + CASINGS - 11R22.5 CAP & CASING FEB = 0\n",
      "RETREAD + CASINGS - 11R22.5 CAP & CASING MAR = 0\n",
      "RETREAD + CASINGS - 11R22.5 CAP & CASING APR = 0\n",
      "RETREAD + CASINGS - 11R22.5 CAP & CASING MAY = 0\n",
      "RETREAD + CASINGS - 11R22.5 CAP & CASING JUN = 0\n",
      "RETREAD + CASINGS - 11R22.5 CAP & CASING JUL = 0\n",
      "RETREAD + CASINGS - 11R22.5 CAP & CASING AUG = 0\n",
      "RETREAD + CASINGS - 11R22.5 CAP & CASING SEPT = 0\n",
      "RETREAD + CASINGS - 11R22.5 CAP & CASING OCT = 0\n",
      "RETREAD + CASINGS - 11R22.5 CAP & CASING NOV = 0\n",
      "RETREAD + CASINGS - 11R22.5 CAP & CASING DEC = 0\n",
      "RETREAD + CASINGS - 11R22.5 CAP & CASING YTD = 0\n",
      "RETREAD + CASINGS - 295/75R22.5 CAP & CASING JAN = 0\n",
      "RETREAD + CASINGS - 295/75R22.5 CAP & CASING FEB = 0\n",
      "RETREAD + CASINGS - 295/75R22.5 CAP & CASING MAR = 17.00\n",
      "RETREAD + CASINGS - 295/75R22.5 CAP & CASING APR = 18.00\n",
      "RETREAD + CASINGS - 295/75R22.5 CAP & CASING MAY = 0\n",
      "RETREAD + CASINGS - 295/75R22.5 CAP & CASING JUN = 0\n",
      "RETREAD + CASINGS - 295/75R22.5 CAP & CASING JUL = 0\n",
      "RETREAD + CASINGS - 295/75R22.5 CAP & CASING AUG = 1.00\n",
      "RETREAD + CASINGS - 295/75R22.5 CAP & CASING SEPT = 1.00\n",
      "RETREAD + CASINGS - 295/75R22.5 CAP & CASING OCT = 0\n",
      "RETREAD + CASINGS - 295/75R22.5 CAP & CASING NOV = 0\n",
      "RETREAD + CASINGS - 295/75R22.5 CAP & CASING DEC = 2.00\n",
      "RETREAD + CASINGS - 295/75R22.5 CAP & CASING YTD = 39.00\n",
      "REPAIR ONLY JAN = 0\n",
      "REPAIR ONLY FEB = 0\n",
      "REPAIR ONLY MAR = 0\n",
      "REPAIR ONLY APR = 0\n",
      "REPAIR ONLY MAY = 0\n",
      "REPAIR ONLY JUN = 0\n",
      "REPAIR ONLY JUL = 0\n",
      "REPAIR ONLY AUG = 0\n",
      "REPAIR ONLY SEPT = 0\n",
      "REPAIR ONLY OCT = 0\n",
      "REPAIR ONLY NOV = 0\n",
      "REPAIR ONLY DEC = 0\n",
      "REPAIR ONLY YTD = 0\n",
      "BRIDGESTONE - Light Truck JAN = 0\n",
      "BRIDGESTONE - Light Truck FEB = 0\n",
      "BRIDGESTONE - Light Truck MAR = 0\n",
      "BRIDGESTONE - Light Truck APR = 0\n",
      "BRIDGESTONE - Light Truck MAY = 0\n",
      "BRIDGESTONE - Light Truck JUN = 0\n",
      "BRIDGESTONE - Light Truck JUL = 0\n",
      "BRIDGESTONE - Light Truck AUG = 0\n",
      "BRIDGESTONE - Light Truck SEPT = 0\n",
      "BRIDGESTONE - Light Truck OCT = 0\n",
      "BRIDGESTONE - Light Truck NOV = 0\n",
      "BRIDGESTONE - Light Truck DEC = 0\n",
      "BRIDGESTONE - Light Truck YTD = 0\n",
      "BRIDGESTONE - 225/70R19.5 JAN = 0\n",
      "BRIDGESTONE - 225/70R19.5 FEB = 0\n",
      "BRIDGESTONE - 225/70R19.5 MAR = 0\n",
      "BRIDGESTONE - 225/70R19.5 APR = 2.00\n",
      "BRIDGESTONE - 225/70R19.5 MAY = 1.00\n",
      "BRIDGESTONE - 225/70R19.5 JUN = 0\n",
      "BRIDGESTONE - 225/70R19.5 JUL = 0\n",
      "BRIDGESTONE - 225/70R19.5 AUG = 0\n",
      "BRIDGESTONE - 225/70R19.5 SEPT = 0\n",
      "BRIDGESTONE - 225/70R19.5 OCT = 4.00\n",
      "BRIDGESTONE - 225/70R19.5 NOV = 0\n",
      "BRIDGESTONE - 225/70R19.5 DEC = 0\n",
      "BRIDGESTONE - 225/70R19.5 YTD = 7.00\n",
      "BRIDGESTONE - 245/70R17.5 JAN = 105.00\n",
      "BRIDGESTONE - 245/70R17.5 FEB = 92.00\n",
      "BRIDGESTONE - 245/70R17.5 MAR = 44.00\n",
      "BRIDGESTONE - 245/70R17.5 APR = 123.00\n",
      "BRIDGESTONE - 245/70R17.5 MAY = 106.00\n",
      "BRIDGESTONE - 245/70R17.5 JUN = 159.00\n",
      "BRIDGESTONE - 245/70R17.5 JUL = 172.00\n",
      "BRIDGESTONE - 245/70R17.5 AUG = 138.00\n",
      "BRIDGESTONE - 245/70R17.5 SEPT = 171.00\n",
      "BRIDGESTONE - 245/70R17.5 OCT = 132.00\n",
      "BRIDGESTONE - 245/70R17.5 NOV = 85.00\n",
      "BRIDGESTONE - 245/70R17.5 DEC = 48.00\n",
      "BRIDGESTONE - 245/70R17.5 YTD = 1375.00\n",
      "BRIDGESTONE - 9R22.5 JAN = 0\n",
      "BRIDGESTONE - 9R22.5 FEB = 0\n",
      "BRIDGESTONE - 9R22.5 MAR = 0\n",
      "BRIDGESTONE - 9R22.5 APR = 0\n",
      "BRIDGESTONE - 9R22.5 MAY = 0\n",
      "BRIDGESTONE - 9R22.5 JUN = 0\n",
      "BRIDGESTONE - 9R22.5 JUL = 0\n",
      "BRIDGESTONE - 9R22.5 AUG = 0\n",
      "BRIDGESTONE - 9R22.5 SEPT = 0\n",
      "BRIDGESTONE - 9R22.5 OCT = 0\n",
      "BRIDGESTONE - 9R22.5 NOV = 0\n",
      "BRIDGESTONE - 9R22.5 DEC = 0\n",
      "BRIDGESTONE - 9R22.5 YTD = 0\n",
      "BRIDGESTONE - 295/75R22.5 JAN = 305.00\n",
      "BRIDGESTONE - 295/75R22.5 FEB = 226.00\n",
      "BRIDGESTONE - 295/75R22.5 MAR = 226.00\n",
      "BRIDGESTONE - 295/75R22.5 APR = 218.00\n",
      "BRIDGESTONE - 295/75R22.5 MAY = 225.00\n",
      "BRIDGESTONE - 295/75R22.5 JUN = 266.00\n",
      "BRIDGESTONE - 295/75R22.5 JUL = 230.00\n",
      "BRIDGESTONE - 295/75R22.5 AUG = 216.00\n",
      "BRIDGESTONE - 295/75R22.5 SEPT = 248.00\n",
      "BRIDGESTONE - 295/75R22.5 OCT = 291.00\n",
      "BRIDGESTONE - 295/75R22.5 NOV = 217.00\n",
      "BRIDGESTONE - 295/75R22.5 DEC = 225.00\n",
      "BRIDGESTONE - 295/75R22.5 YTD = 2893.00\n",
      "BRIDGESTONE - 11R22.5 JAN = 1.00\n",
      "BRIDGESTONE - 11R22.5 FEB = 0\n",
      "BRIDGESTONE - 11R22.5 MAR = 2.00\n",
      "BRIDGESTONE - 11R22.5 APR = 9.00\n",
      "BRIDGESTONE - 11R22.5 MAY = 0\n",
      "BRIDGESTONE - 11R22.5 JUN = 6.00\n",
      "BRIDGESTONE - 11R22.5 JUL = 0\n",
      "BRIDGESTONE - 11R22.5 AUG = 0\n",
      "BRIDGESTONE - 11R22.5 SEPT = 6.00\n",
      "BRIDGESTONE - 11R22.5 OCT = 0\n",
      "BRIDGESTONE - 11R22.5 NOV = 3.00\n",
      "BRIDGESTONE - 11R22.5 DEC = 1.00\n",
      "BRIDGESTONE - 11R22.5 YTD = 28.00\n",
      "BRIDGESTONE - OTHER JAN = 57.00\n",
      "BRIDGESTONE - OTHER FEB = 54.00\n",
      "BRIDGESTONE - OTHER MAR = 35.00\n",
      "BRIDGESTONE - OTHER APR = 87.00\n",
      "BRIDGESTONE - OTHER MAY = 17.00\n",
      "BRIDGESTONE - OTHER JUN = 47.00\n",
      "BRIDGESTONE - OTHER JUL = 54.00\n",
      "BRIDGESTONE - OTHER AUG = 34.00\n",
      "BRIDGESTONE - OTHER SEPT = 53.00\n",
      "BRIDGESTONE - OTHER OCT = 77.00\n",
      "BRIDGESTONE - OTHER NOV = 29.00\n",
      "BRIDGESTONE - OTHER DEC = 41.00\n",
      "BRIDGESTONE - OTHER YTD = 585.00\n",
      "NEW TIRES - 10.00-20 JAN = 0\n",
      "NEW TIRES - 10.00-20 FEB = 0\n",
      "NEW TIRES - 10.00-20 MAR = 0\n",
      "NEW TIRES - 10.00-20 APR = 0\n",
      "NEW TIRES - 10.00-20 MAY = 0\n",
      "NEW TIRES - 10.00-20 JUN = 0\n",
      "NEW TIRES - 10.00-20 JUL = 0\n",
      "NEW TIRES - 10.00-20 AUG = 0\n",
      "NEW TIRES - 10.00-20 SEPT = 0\n",
      "NEW TIRES - 10.00-20 OCT = 0\n",
      "NEW TIRES - 10.00-20 NOV = 0\n",
      "NEW TIRES - 10.00-20 DEC = 0\n",
      "NEW TIRES - 10.00-20 YTD = 0\n",
      "NEW TIRES - Yokohama JAN = 54.00\n",
      "NEW TIRES - Yokohama FEB = 59.00\n",
      "NEW TIRES - Yokohama MAR = 66.00\n",
      "NEW TIRES - Yokohama APR = 84.00\n",
      "NEW TIRES - Yokohama MAY = 29.00\n",
      "NEW TIRES - Yokohama JUN = 103.00\n",
      "NEW TIRES - Yokohama JUL = 56.00\n",
      "NEW TIRES - Yokohama AUG = 65.00\n",
      "NEW TIRES - Yokohama SEPT = 46.00\n",
      "NEW TIRES - Yokohama OCT = 29.00\n",
      "NEW TIRES - Yokohama NOV = 46.00\n",
      "NEW TIRES - Yokohama DEC = 54.00\n",
      "NEW TIRES - Yokohama YTD = 691.00\n",
      "NEW TIRES - Continental JAN = 16.00\n",
      "NEW TIRES - Continental FEB = 2.00\n",
      "NEW TIRES - Continental MAR = 4.00\n",
      "NEW TIRES - Continental APR = 4.00\n",
      "NEW TIRES - Continental MAY = 7.00\n",
      "NEW TIRES - Continental JUN = 22.00\n",
      "NEW TIRES - Continental JUL = 15.00\n",
      "NEW TIRES - Continental AUG = 25.00\n",
      "NEW TIRES - Continental SEPT = 11.00\n",
      "NEW TIRES - Continental OCT = 10.00\n",
      "NEW TIRES - Continental NOV = 0\n",
      "NEW TIRES - Continental DEC = 0\n",
      "NEW TIRES - Continental YTD = 116.00\n",
      "NEW TIRES - Continental JAN = 2910.00\n",
      "NEW TIRES - Continental FEB = 3221.00\n",
      "NEW TIRES - Continental MAR = 4081.00\n",
      "NEW TIRES - Continental APR = 3825.00\n",
      "NEW TIRES - Continental MAY = 4414.00\n",
      "NEW TIRES - Continental JUN = 5224.00\n",
      "NEW TIRES - Continental JUL = 5834.00\n",
      "NEW TIRES - Continental AUG = 6228.00\n",
      "NEW TIRES - Continental SEPT = 6525.00\n",
      "NEW TIRES - Continental OCT = 6500.00\n",
      "NEW TIRES - Continental NOV = 5439.00\n",
      "NEW TIRES - Continental DEC = 5553.00\n",
      "NEW TIRES - Continental YTD = 59754.00\n",
      "MISC TIRES JAN = 76.00\n",
      "MISC TIRES FEB = 85.00\n",
      "MISC TIRES MAR = 60.00\n",
      "MISC TIRES APR = 116.00\n",
      "MISC TIRES MAY = 41.00\n",
      "MISC TIRES JUN = 75.00\n",
      "MISC TIRES JUL = 82.00\n",
      "MISC TIRES AUG = 71.00\n",
      "MISC TIRES SEPT = 99.00\n",
      "MISC TIRES OCT = 118.00\n",
      "MISC TIRES NOV = 43.00\n",
      "MISC TIRES DEC = 81.00\n",
      "MISC TIRES YTD = 947.00\n",
      "NEW TIRES - BS STEER JAN = 201.00\n",
      "NEW TIRES - BS STEER FEB = 192.00\n",
      "NEW TIRES - BS STEER MAR = 99.00\n",
      "NEW TIRES - BS STEER APR = 238.00\n",
      "NEW TIRES - BS STEER MAY = 151.00\n",
      "NEW TIRES - BS STEER JUN = 253.00\n",
      "NEW TIRES - BS STEER JUL = 252.00\n",
      "NEW TIRES - BS STEER AUG = 204.00\n",
      "NEW TIRES - BS STEER SEPT = 250.00\n",
      "NEW TIRES - BS STEER OCT = 213.00\n",
      "NEW TIRES - BS STEER NOV = 131.00\n",
      "NEW TIRES - BS STEER DEC = 103.00\n",
      "NEW TIRES - BS STEER YTD = 2287.00\n",
      "NEW TIRES - BS DRIVE JAN = 125.00\n",
      "NEW TIRES - BS DRIVE FEB = 69.00\n",
      "NEW TIRES - BS DRIVE MAR = 70.00\n",
      "NEW TIRES - BS DRIVE APR = 74.00\n",
      "NEW TIRES - BS DRIVE MAY = 83.00\n",
      "NEW TIRES - BS DRIVE JUN = 96.00\n",
      "NEW TIRES - BS DRIVE JUL = 74.00\n",
      "NEW TIRES - BS DRIVE AUG = 46.00\n",
      "NEW TIRES - BS DRIVE SEPT = 69.00\n",
      "NEW TIRES - BS DRIVE OCT = 129.00\n",
      "NEW TIRES - BS DRIVE NOV = 32.00\n",
      "NEW TIRES - BS DRIVE DEC = 51.00\n",
      "NEW TIRES - BS DRIVE YTD = 918.00\n",
      "NEW TIRES - BS TRAILER JAN = 142.00\n",
      "NEW TIRES - BS TRAILER FEB = 111.00\n",
      "NEW TIRES - BS TRAILER MAR = 138.00\n",
      "NEW TIRES - BS TRAILER APR = 127.00\n",
      "NEW TIRES - BS TRAILER MAY = 115.00\n",
      "NEW TIRES - BS TRAILER JUN = 129.00\n",
      "NEW TIRES - BS TRAILER JUL = 130.00\n",
      "NEW TIRES - BS TRAILER AUG = 138.00\n",
      "NEW TIRES - BS TRAILER SEPT = 159.00\n",
      "NEW TIRES - BS TRAILER OCT = 162.00\n",
      "NEW TIRES - BS TRAILER NOV = 171.00\n",
      "NEW TIRES - BS TRAILER DEC = 161.00\n",
      "NEW TIRES - BS TRAILER YTD = 1683.00\n",
      "-------------------------------------------\n",
      "year: 2021\n",
      "Months_Numerical:  [202101, 202102, 202103, 202104, 202105, 202106, 202107, 202108, 202109, 202110, 202111, 202112]\n",
      "Service of Flat Repairs JAN = 63.00\n",
      "Service of Flat Repairs FEB = 75.00\n",
      "Service of Flat Repairs MAR = 54.00\n",
      "Service of Flat Repairs APR = 60.00\n",
      "Service of Flat Repairs MAY = 46.00\n",
      "Service of Flat Repairs JUN = 50.00\n",
      "Service of Flat Repairs JUL = 40.00\n",
      "Service of Flat Repairs AUG = 24.00\n",
      "Service of Flat Repairs SEPT = 25.00\n",
      "Service of Flat Repairs OCT = 19.00\n",
      "Service of Flat Repairs NOV = 0\n",
      "Service of Flat Repairs DEC = 0\n",
      "Service of Flat Repairs YTD = 456.00\n",
      "Service of Tire Rotation JAN = 77.00\n",
      "Service of Tire Rotation FEB = 14.00\n",
      "Service of Tire Rotation MAR = 15.00\n",
      "Service of Tire Rotation APR = 19.00\n",
      "Service of Tire Rotation MAY = 19.00\n",
      "Service of Tire Rotation JUN = 57.00\n",
      "Service of Tire Rotation JUL = 22.00\n",
      "Service of Tire Rotation AUG = 7.00\n",
      "Service of Tire Rotation SEPT = 22.00\n",
      "Service of Tire Rotation OCT = 34.00\n",
      "Service of Tire Rotation NOV = 0\n",
      "Service of Tire Rotation DEC = 0\n",
      "Service of Tire Rotation YTD = 286.00\n",
      "Service of Mount and Dismount JAN = 288.00\n",
      "Service of Mount and Dismount FEB = 395.00\n",
      "Service of Mount and Dismount MAR = 585.00\n",
      "Service of Mount and Dismount APR = 546.00\n",
      "Service of Mount and Dismount MAY = 345.00\n",
      "Service of Mount and Dismount JUN = 420.00\n",
      "Service of Mount and Dismount JUL = 416.00\n",
      "Service of Mount and Dismount AUG = 377.00\n",
      "Service of Mount and Dismount SEPT = 500.00\n",
      "Service of Mount and Dismount OCT = 436.00\n",
      "Service of Mount and Dismount NOV = 0\n",
      "Service of Mount and Dismount DEC = 0\n",
      "Service of Mount and Dismount YTD = 4308.00\n",
      "Service of Service Call Hours JAN = 101.50\n",
      "Service of Service Call Hours FEB = 80.00\n",
      "Service of Service Call Hours MAR = 169.00\n",
      "Service of Service Call Hours APR = 168.50\n",
      "Service of Service Call Hours MAY = 220.00\n",
      "Service of Service Call Hours JUN = 209.50\n",
      "Service of Service Call Hours JUL = 236.00\n",
      "Service of Service Call Hours AUG = 313.00\n",
      "Service of Service Call Hours SEPT = 293.75\n",
      "Service of Service Call Hours OCT = 247.50\n",
      "Service of Service Call Hours NOV = 0\n",
      "Service of Service Call Hours DEC = 0\n",
      "Service of Service Call Hours YTD = 2038.75\n",
      "Service of Scrap JAN = 41.00\n",
      "Service of Scrap FEB = 32.00\n",
      "Service of Scrap MAR = 108.00\n",
      "Service of Scrap APR = 91.00\n",
      "Service of Scrap MAY = 136.00\n",
      "Service of Scrap JUN = 97.00\n",
      "Service of Scrap JUL = 105.00\n",
      "Service of Scrap AUG = 199.00\n",
      "Service of Scrap SEPT = 198.00\n",
      "Service of Scrap OCT = 182.00\n",
      "Service of Scrap NOV = 0\n",
      "Service of Scrap DEC = 0\n",
      "Service of Scrap YTD = 1189.00\n",
      "RETREADS - 245/70R17.5 RETREAD JAN = 2.00\n",
      "RETREADS - 245/70R17.5 RETREAD FEB = 1.00\n",
      "RETREADS - 245/70R17.5 RETREAD MAR = 6.00\n",
      "RETREADS - 245/70R17.5 RETREAD APR = 1.00\n",
      "RETREADS - 245/70R17.5 RETREAD MAY = 0\n",
      "RETREADS - 245/70R17.5 RETREAD JUN = 0\n",
      "RETREADS - 245/70R17.5 RETREAD JUL = 1.00\n",
      "RETREADS - 245/70R17.5 RETREAD AUG = 2.00\n",
      "RETREADS - 245/70R17.5 RETREAD SEPT = 4.00\n",
      "RETREADS - 245/70R17.5 RETREAD OCT = 0\n",
      "RETREADS - 245/70R17.5 RETREAD NOV = 0\n",
      "RETREADS - 245/70R17.5 RETREAD DEC = 0\n",
      "RETREADS - 245/70R17.5 RETREAD YTD = 17.00\n",
      "RETREADS - 295/75R22.5 RETREAD JAN = 0\n",
      "RETREADS - 295/75R22.5 RETREAD FEB = 0\n",
      "RETREADS - 295/75R22.5 RETREAD MAR = 87.00\n",
      "RETREADS - 295/75R22.5 RETREAD APR = 81.00\n",
      "RETREADS - 295/75R22.5 RETREAD MAY = 39.00\n",
      "RETREADS - 295/75R22.5 RETREAD JUN = 36.00\n",
      "RETREADS - 295/75R22.5 RETREAD JUL = 19.00\n",
      "RETREADS - 295/75R22.5 RETREAD AUG = 14.00\n",
      "RETREADS - 295/75R22.5 RETREAD SEPT = 53.00\n",
      "RETREADS - 295/75R22.5 RETREAD OCT = 31.00\n",
      "RETREADS - 295/75R22.5 RETREAD NOV = 0\n",
      "RETREADS - 295/75R22.5 RETREAD DEC = 0\n",
      "RETREADS - 295/75R22.5 RETREAD YTD = 360.00\n",
      "RETREAD + CASINGS - 11R22.5 CAP & CASING JAN = 0\n",
      "RETREAD + CASINGS - 11R22.5 CAP & CASING FEB = 0\n",
      "RETREAD + CASINGS - 11R22.5 CAP & CASING MAR = 0\n",
      "RETREAD + CASINGS - 11R22.5 CAP & CASING APR = 0\n",
      "RETREAD + CASINGS - 11R22.5 CAP & CASING MAY = 0\n",
      "RETREAD + CASINGS - 11R22.5 CAP & CASING JUN = 0\n",
      "RETREAD + CASINGS - 11R22.5 CAP & CASING JUL = 0\n",
      "RETREAD + CASINGS - 11R22.5 CAP & CASING AUG = 0\n",
      "RETREAD + CASINGS - 11R22.5 CAP & CASING SEPT = 0\n",
      "RETREAD + CASINGS - 11R22.5 CAP & CASING OCT = 0\n",
      "RETREAD + CASINGS - 11R22.5 CAP & CASING NOV = 0\n",
      "RETREAD + CASINGS - 11R22.5 CAP & CASING DEC = 0\n",
      "RETREAD + CASINGS - 11R22.5 CAP & CASING YTD = 0\n",
      "RETREAD + CASINGS - 11R22.5 CAP & CASING JAN = 0\n",
      "RETREAD + CASINGS - 11R22.5 CAP & CASING FEB = 0\n",
      "RETREAD + CASINGS - 11R22.5 CAP & CASING MAR = 0\n",
      "RETREAD + CASINGS - 11R22.5 CAP & CASING APR = 0\n",
      "RETREAD + CASINGS - 11R22.5 CAP & CASING MAY = 0\n",
      "RETREAD + CASINGS - 11R22.5 CAP & CASING JUN = 4.00\n",
      "RETREAD + CASINGS - 11R22.5 CAP & CASING JUL = 0\n",
      "RETREAD + CASINGS - 11R22.5 CAP & CASING AUG = 0\n",
      "RETREAD + CASINGS - 11R22.5 CAP & CASING SEPT = 0\n",
      "RETREAD + CASINGS - 11R22.5 CAP & CASING OCT = 0\n",
      "RETREAD + CASINGS - 11R22.5 CAP & CASING NOV = 0\n",
      "RETREAD + CASINGS - 11R22.5 CAP & CASING DEC = 0\n",
      "RETREAD + CASINGS - 11R22.5 CAP & CASING YTD = 4.00\n",
      "RETREAD + CASINGS - 295/75R22.5 CAP & CASING JAN = 0\n",
      "RETREAD + CASINGS - 295/75R22.5 CAP & CASING FEB = 0\n",
      "RETREAD + CASINGS - 295/75R22.5 CAP & CASING MAR = 6.00\n",
      "RETREAD + CASINGS - 295/75R22.5 CAP & CASING APR = 0\n",
      "RETREAD + CASINGS - 295/75R22.5 CAP & CASING MAY = 0\n",
      "RETREAD + CASINGS - 295/75R22.5 CAP & CASING JUN = 3.00\n",
      "RETREAD + CASINGS - 295/75R22.5 CAP & CASING JUL = 0\n",
      "RETREAD + CASINGS - 295/75R22.5 CAP & CASING AUG = 10.00\n",
      "RETREAD + CASINGS - 295/75R22.5 CAP & CASING SEPT = 0\n",
      "RETREAD + CASINGS - 295/75R22.5 CAP & CASING OCT = 0\n",
      "RETREAD + CASINGS - 295/75R22.5 CAP & CASING NOV = 0\n",
      "RETREAD + CASINGS - 295/75R22.5 CAP & CASING DEC = 0\n",
      "RETREAD + CASINGS - 295/75R22.5 CAP & CASING YTD = 19.00\n",
      "REPAIR ONLY JAN = 0\n",
      "REPAIR ONLY FEB = 2.00\n",
      "REPAIR ONLY MAR = 0\n",
      "REPAIR ONLY APR = 0\n",
      "REPAIR ONLY MAY = 0\n",
      "REPAIR ONLY JUN = 0\n",
      "REPAIR ONLY JUL = 0\n",
      "REPAIR ONLY AUG = 0\n",
      "REPAIR ONLY SEPT = 0\n",
      "REPAIR ONLY OCT = 0\n",
      "REPAIR ONLY NOV = 0\n",
      "REPAIR ONLY DEC = 0\n",
      "REPAIR ONLY YTD = 2.00\n",
      "BRIDGESTONE - Light Truck JAN = 0\n",
      "BRIDGESTONE - Light Truck FEB = 0\n",
      "BRIDGESTONE - Light Truck MAR = 0\n",
      "BRIDGESTONE - Light Truck APR = 0\n",
      "BRIDGESTONE - Light Truck MAY = 0\n",
      "BRIDGESTONE - Light Truck JUN = 0\n",
      "BRIDGESTONE - Light Truck JUL = 0\n",
      "BRIDGESTONE - Light Truck AUG = 0\n",
      "BRIDGESTONE - Light Truck SEPT = 0\n",
      "BRIDGESTONE - Light Truck OCT = 0\n",
      "BRIDGESTONE - Light Truck NOV = 0\n",
      "BRIDGESTONE - Light Truck DEC = 0\n",
      "BRIDGESTONE - Light Truck YTD = 0\n",
      "BRIDGESTONE - 225/70R19.5 JAN = 0\n",
      "BRIDGESTONE - 225/70R19.5 FEB = 0\n",
      "BRIDGESTONE - 225/70R19.5 MAR = 0\n",
      "BRIDGESTONE - 225/70R19.5 APR = 0\n",
      "BRIDGESTONE - 225/70R19.5 MAY = 0\n",
      "BRIDGESTONE - 225/70R19.5 JUN = 0\n",
      "BRIDGESTONE - 225/70R19.5 JUL = 2.00\n",
      "BRIDGESTONE - 225/70R19.5 AUG = 0\n",
      "BRIDGESTONE - 225/70R19.5 SEPT = 0\n",
      "BRIDGESTONE - 225/70R19.5 OCT = 0\n",
      "BRIDGESTONE - 225/70R19.5 NOV = 0\n",
      "BRIDGESTONE - 225/70R19.5 DEC = 0\n",
      "BRIDGESTONE - 225/70R19.5 YTD = 2.00\n",
      "BRIDGESTONE - 245/70R17.5 JAN = 35.00\n",
      "BRIDGESTONE - 245/70R17.5 FEB = 22.00\n",
      "BRIDGESTONE - 245/70R17.5 MAR = 110.00\n",
      "BRIDGESTONE - 245/70R17.5 APR = 140.00\n",
      "BRIDGESTONE - 245/70R17.5 MAY = 64.00\n",
      "BRIDGESTONE - 245/70R17.5 JUN = 29.00\n",
      "BRIDGESTONE - 245/70R17.5 JUL = 40.00\n",
      "BRIDGESTONE - 245/70R17.5 AUG = 84.00\n",
      "BRIDGESTONE - 245/70R17.5 SEPT = 98.00\n",
      "BRIDGESTONE - 245/70R17.5 OCT = 77.00\n",
      "BRIDGESTONE - 245/70R17.5 NOV = 0\n",
      "BRIDGESTONE - 245/70R17.5 DEC = 0\n",
      "BRIDGESTONE - 245/70R17.5 YTD = 699.00\n",
      "BRIDGESTONE - 9R22.5 JAN = 0\n",
      "BRIDGESTONE - 9R22.5 FEB = 0\n",
      "BRIDGESTONE - 9R22.5 MAR = 0\n",
      "BRIDGESTONE - 9R22.5 APR = 0\n",
      "BRIDGESTONE - 9R22.5 MAY = 0\n",
      "BRIDGESTONE - 9R22.5 JUN = 0\n",
      "BRIDGESTONE - 9R22.5 JUL = 0\n",
      "BRIDGESTONE - 9R22.5 AUG = 0\n",
      "BRIDGESTONE - 9R22.5 SEPT = 0\n",
      "BRIDGESTONE - 9R22.5 OCT = 0\n",
      "BRIDGESTONE - 9R22.5 NOV = 0\n",
      "BRIDGESTONE - 9R22.5 DEC = 0\n",
      "BRIDGESTONE - 9R22.5 YTD = 0\n",
      "BRIDGESTONE - 295/75R22.5 JAN = 134.00\n",
      "BRIDGESTONE - 295/75R22.5 FEB = 212.00\n",
      "BRIDGESTONE - 295/75R22.5 MAR = 158.00\n",
      "BRIDGESTONE - 295/75R22.5 APR = 94.00\n",
      "BRIDGESTONE - 295/75R22.5 MAY = 115.00\n",
      "BRIDGESTONE - 295/75R22.5 JUN = 76.00\n",
      "BRIDGESTONE - 295/75R22.5 JUL = 56.00\n",
      "BRIDGESTONE - 295/75R22.5 AUG = 101.00\n",
      "BRIDGESTONE - 295/75R22.5 SEPT = 76.00\n",
      "BRIDGESTONE - 295/75R22.5 OCT = 78.00\n",
      "BRIDGESTONE - 295/75R22.5 NOV = 0\n",
      "BRIDGESTONE - 295/75R22.5 DEC = 0\n",
      "BRIDGESTONE - 295/75R22.5 YTD = 1100.00\n",
      "BRIDGESTONE - 11R22.5 JAN = 0\n",
      "BRIDGESTONE - 11R22.5 FEB = 0\n",
      "BRIDGESTONE - 11R22.5 MAR = 1.00\n",
      "BRIDGESTONE - 11R22.5 APR = 8.00\n",
      "BRIDGESTONE - 11R22.5 MAY = 0\n",
      "BRIDGESTONE - 11R22.5 JUN = 4.00\n",
      "BRIDGESTONE - 11R22.5 JUL = 0\n",
      "BRIDGESTONE - 11R22.5 AUG = 0\n",
      "BRIDGESTONE - 11R22.5 SEPT = 9.00\n",
      "BRIDGESTONE - 11R22.5 OCT = 4.00\n",
      "BRIDGESTONE - 11R22.5 NOV = 0\n",
      "BRIDGESTONE - 11R22.5 DEC = 0\n",
      "BRIDGESTONE - 11R22.5 YTD = 26.00\n",
      "BRIDGESTONE - OTHER JAN = 40.00\n",
      "BRIDGESTONE - OTHER FEB = 31.00\n",
      "BRIDGESTONE - OTHER MAR = 83.00\n",
      "BRIDGESTONE - OTHER APR = 32.00\n",
      "BRIDGESTONE - OTHER MAY = 48.00\n",
      "BRIDGESTONE - OTHER JUN = 35.00\n",
      "BRIDGESTONE - OTHER JUL = 48.00\n",
      "BRIDGESTONE - OTHER AUG = 47.00\n",
      "BRIDGESTONE - OTHER SEPT = 71.00\n",
      "BRIDGESTONE - OTHER OCT = 70.00\n",
      "BRIDGESTONE - OTHER NOV = 0\n",
      "BRIDGESTONE - OTHER DEC = 0\n",
      "BRIDGESTONE - OTHER YTD = 505.00\n",
      "NEW TIRES - 10.00-20 JAN = 0\n",
      "NEW TIRES - 10.00-20 FEB = 0\n",
      "NEW TIRES - 10.00-20 MAR = 0\n",
      "NEW TIRES - 10.00-20 APR = 0\n",
      "NEW TIRES - 10.00-20 MAY = 0\n",
      "NEW TIRES - 10.00-20 JUN = 0\n",
      "NEW TIRES - 10.00-20 JUL = 0\n",
      "NEW TIRES - 10.00-20 AUG = 0\n",
      "NEW TIRES - 10.00-20 SEPT = 0\n",
      "NEW TIRES - 10.00-20 OCT = 0\n",
      "NEW TIRES - 10.00-20 NOV = 0\n",
      "NEW TIRES - 10.00-20 DEC = 0\n",
      "NEW TIRES - 10.00-20 YTD = 0\n",
      "NEW TIRES - Yokohama JAN = 32.00\n",
      "NEW TIRES - Yokohama FEB = 52.00\n",
      "NEW TIRES - Yokohama MAR = 40.00\n",
      "NEW TIRES - Yokohama APR = 61.00\n",
      "NEW TIRES - Yokohama MAY = 24.00\n",
      "NEW TIRES - Yokohama JUN = 13.00\n",
      "NEW TIRES - Yokohama JUL = 23.00\n",
      "NEW TIRES - Yokohama AUG = 20.00\n",
      "NEW TIRES - Yokohama SEPT = 17.00\n",
      "NEW TIRES - Yokohama OCT = 6.00\n",
      "NEW TIRES - Yokohama NOV = 0\n",
      "NEW TIRES - Yokohama DEC = 0\n",
      "NEW TIRES - Yokohama YTD = 288.00\n",
      "NEW TIRES - Continental JAN = 0\n",
      "NEW TIRES - Continental FEB = 1.00\n",
      "NEW TIRES - Continental MAR = 6.00\n",
      "NEW TIRES - Continental APR = 8.00\n",
      "NEW TIRES - Continental MAY = 65.00\n",
      "NEW TIRES - Continental JUN = 164.00\n",
      "NEW TIRES - Continental JUL = 122.00\n",
      "NEW TIRES - Continental AUG = 147.00\n",
      "NEW TIRES - Continental SEPT = 224.00\n",
      "NEW TIRES - Continental OCT = 219.00\n",
      "NEW TIRES - Continental NOV = 0\n",
      "NEW TIRES - Continental DEC = 0\n",
      "NEW TIRES - Continental YTD = 956.00\n",
      "NEW TIRES - Continental JAN = 5866.00\n",
      "NEW TIRES - Continental FEB = 4933.00\n",
      "NEW TIRES - Continental MAR = 9051.00\n",
      "NEW TIRES - Continental APR = 9609.00\n",
      "NEW TIRES - Continental MAY = 8850.00\n",
      "NEW TIRES - Continental JUN = 10880.00\n",
      "NEW TIRES - Continental JUL = 12219.00\n",
      "NEW TIRES - Continental AUG = 12360.00\n",
      "NEW TIRES - Continental SEPT = 11948.00\n",
      "NEW TIRES - Continental OCT = 11849.00\n",
      "NEW TIRES - Continental NOV = 0\n",
      "NEW TIRES - Continental DEC = 0\n",
      "NEW TIRES - Continental YTD = 97565.00\n",
      "MISC TIRES JAN = 75.00\n",
      "MISC TIRES FEB = 73.00\n",
      "MISC TIRES MAR = 150.00\n",
      "MISC TIRES APR = 91.00\n",
      "MISC TIRES MAY = 68.00\n",
      "MISC TIRES JUN = 60.00\n",
      "MISC TIRES JUL = 95.00\n",
      "MISC TIRES AUG = 122.00\n",
      "MISC TIRES SEPT = 122.00\n",
      "MISC TIRES OCT = 106.00\n",
      "MISC TIRES NOV = 0\n",
      "MISC TIRES DEC = 0\n",
      "MISC TIRES YTD = 962.00\n",
      "NEW TIRES - BS STEER JAN = 75.00\n",
      "NEW TIRES - BS STEER FEB = 65.00\n",
      "NEW TIRES - BS STEER MAR = 205.00\n",
      "NEW TIRES - BS STEER APR = 198.00\n",
      "NEW TIRES - BS STEER MAY = 114.00\n",
      "NEW TIRES - BS STEER JUN = 71.00\n",
      "NEW TIRES - BS STEER JUL = 102.00\n",
      "NEW TIRES - BS STEER AUG = 153.00\n",
      "NEW TIRES - BS STEER SEPT = 168.00\n",
      "NEW TIRES - BS STEER OCT = 149.00\n",
      "NEW TIRES - BS STEER NOV = 0\n",
      "NEW TIRES - BS STEER DEC = 0\n",
      "NEW TIRES - BS STEER YTD = 1300.00\n",
      "NEW TIRES - BS DRIVE JAN = 30.00\n",
      "NEW TIRES - BS DRIVE FEB = 46.00\n",
      "NEW TIRES - BS DRIVE MAR = 70.00\n",
      "NEW TIRES - BS DRIVE APR = 30.00\n",
      "NEW TIRES - BS DRIVE MAY = 46.00\n",
      "NEW TIRES - BS DRIVE JUN = 34.00\n",
      "NEW TIRES - BS DRIVE JUL = 19.00\n",
      "NEW TIRES - BS DRIVE AUG = 30.00\n",
      "NEW TIRES - BS DRIVE SEPT = 78.00\n",
      "NEW TIRES - BS DRIVE OCT = 62.00\n",
      "NEW TIRES - BS DRIVE NOV = 0\n",
      "NEW TIRES - BS DRIVE DEC = 0\n",
      "NEW TIRES - BS DRIVE YTD = 445.00\n",
      "NEW TIRES - BS TRAILER JAN = 104.00\n",
      "NEW TIRES - BS TRAILER FEB = 154.00\n",
      "NEW TIRES - BS TRAILER MAR = 77.00\n",
      "NEW TIRES - BS TRAILER APR = 46.00\n",
      "NEW TIRES - BS TRAILER MAY = 67.00\n",
      "NEW TIRES - BS TRAILER JUN = 35.00\n",
      "NEW TIRES - BS TRAILER JUL = 25.00\n",
      "NEW TIRES - BS TRAILER AUG = 49.00\n",
      "NEW TIRES - BS TRAILER SEPT = 8.00\n",
      "NEW TIRES - BS TRAILER OCT = 18.00\n",
      "NEW TIRES - BS TRAILER NOV = 0\n",
      "NEW TIRES - BS TRAILER DEC = 0\n",
      "NEW TIRES - BS TRAILER YTD = 583.00\n"
     ]
    }
   ],
   "source": [
    "years = [Last_Year, Current_Year]\n",
    "\n",
    "\n",
    "for year in years:\n",
    "    print('-------------------------------------------')\n",
    "    print(f'year: {year}')\n",
    "    Months_Numerical = []\n",
    "    for x in range(1,13):\n",
    "        Months_Numerical.append(year*100 + x)\n",
    "    print(\"Months_Numerical: \", Months_Numerical)\n",
    "\n",
    "    # ================================================================================================================================\n",
    "    # +++++++++++++++++++++++++++++++++++++ SERVICES +++++++++++++++++++++++++++++++++++++++++++++++++++++++++++++++++++++++++++++++++\n",
    "    # ================================================================================================================================\n",
    "    # Flat Repair:\n",
    "\n",
    "    Base_Query = f\"\"\"\n",
    "    SELECT IFNULL(SUM(TSUNITS),0) FROM TMSALE\n",
    "    WHERE TSCUS IN (SELECT CUNUMBER FROM TMCUST WHERE CUNUMENT = '4990085')\n",
    "    AND TSPD IN (SELECT PDNUMBER FROM TMPROD WHERE (PDNUMBER = '100' OR PDNUMBER = '104') AND PDDESCRIP LIKE 'FLAT%')\n",
    "    AND TSCODDEL <> 'D'\n",
    "    \"\"\"\n",
    "\n",
    "    Flat_Repair_Columns = {}\n",
    "    #--------------------------------------------------------------------\n",
    "    # Each Month values:\n",
    "    for i, month in enumerate(Months_Numerical):\n",
    "        value = 0\n",
    "        if month <= Last_Month:\n",
    "            cursor.execute(f\"\"\"{Base_Query}\n",
    "            AND TSYP = {month}\"\"\")\n",
    "            value = cursor.fetchone()[0]\n",
    "        Month_Name = Months_Strings[i]\n",
    "        Flat_Repair_Columns[Month_Name] = value\n",
    "    # Get SUM of YTD Values by adding up each month value:\n",
    "    Sum_YTD = 0\n",
    "    for i in Flat_Repair_Columns.values():\n",
    "        Sum_YTD = Sum_YTD + i\n",
    "    Flat_Repair_Columns['YTD'] = Sum_YTD\n",
    "\n",
    "    # Print values:\n",
    "    for column_header_key, value in Flat_Repair_Columns.items():\n",
    "        print(f\"Service of Flat Repairs {column_header_key} = {value}\")        \n",
    "\n",
    "# ============================================================================================================================\n",
    "    # Tire Rotation\n",
    "    Base_Query = f\"\"\"\n",
    "    SELECT IFNULL(SUM(TSUNITS),0) FROM TMSALE\n",
    "    WHERE TSCUS IN (SELECT CUNUMBER FROM TMCUST WHERE CUNUMENT = '4990085')\n",
    "    AND TSPD IN (SELECT PDNUMBER FROM TMPROD WHERE (PDNUMBER = '110') AND PDDESCRIP LIKE 'ROTA%')\n",
    "    AND TSCODDEL <> 'D'\n",
    "    \"\"\"\n",
    "\n",
    "    Tire_Rotation_Columns = {}\n",
    "    # Each month values:\n",
    "    for i, month in enumerate(Months_Numerical):\n",
    "        value = 0\n",
    "        if month <= Last_Month:\n",
    "            cursor.execute(f\"\"\"{Base_Query}\n",
    "            AND TSYP = {month}\"\"\")\n",
    "            value = cursor.fetchone()[0]\n",
    "        Month_Name = Months_Strings[i]\n",
    "        Tire_Rotation_Columns[Month_Name] = value\n",
    "    # Get SUM of YTD Values by adding up each month value:\n",
    "    Sum_YTD = 0\n",
    "    for i in Tire_Rotation_Columns.values():\n",
    "        Sum_YTD = Sum_YTD + i\n",
    "    Tire_Rotation_Columns['YTD'] = Sum_YTD\n",
    "    # Print values:\n",
    "    for column_header_key, value in Tire_Rotation_Columns.items():\n",
    "        print(f\"Service of Tire Rotation {column_header_key} = {value}\")\n",
    "\n",
    "\n",
    "    # =================================================================================================================================\n",
    "    # SERVICE: Mount and Dismount\n",
    "\n",
    "    Base_Query = f\"\"\"\n",
    "    SELECT IFNULL(SUM(TSUNITS),0) FROM TMSALE\n",
    "    WHERE TSCUS IN (SELECT CUNUMBER FROM TMCUST WHERE CUNUMENT = '4990085')\n",
    "    AND TSPD IN (SELECT PDNUMBER FROM TMPROD WHERE PDNUMBER IN ('120', '120WR', '121', '124', '132', '134LT', '153')) \n",
    "    AND TSCODDEL <> 'D'\n",
    "    \"\"\"\n",
    "\n",
    "    Mount_and_Dismount_Columns = {}\n",
    "    # Each month values:\n",
    "    for i, month in enumerate(Months_Numerical):\n",
    "        value = 0\n",
    "        if month <= Last_Month:\n",
    "            cursor.execute(f\"\"\"{Base_Query}\n",
    "            AND TSYP = {month}\"\"\")\n",
    "            value = cursor.fetchone()[0]\n",
    "        Month_Name = Months_Strings[i]\n",
    "        Mount_and_Dismount_Columns[Month_Name] = value\n",
    "    # Get SUM of YTD Values by adding up each month value:\n",
    "    Sum_YTD = 0\n",
    "    for i in Mount_and_Dismount_Columns.values():\n",
    "        Sum_YTD = Sum_YTD + i\n",
    "    Mount_and_Dismount_Columns['YTD'] = Sum_YTD\n",
    "    # Print values:\n",
    "    for column_header_key, value in Mount_and_Dismount_Columns.items():\n",
    "        print(f\"Service of Mount and Dismount {column_header_key} = {value}\")\n",
    "\n",
    "    # =========================================================================================================================================\n",
    "    # SERVICE CALL HOURS\n",
    "\n",
    "    Base_Query = f\"\"\"\n",
    "    SELECT IFNULL(SUM(TSUNITS),0) FROM TMSALE\n",
    "    WHERE TSCUS IN (SELECT CUNUMBER FROM TMCUST WHERE CUNUMENT = '4990085')\n",
    "    AND TSPD IN (SELECT PDNUMBER FROM TMPROD WHERE PDNUMBER IN ('160', '165', '166', '167', '175', '176', '177', '185', '167UPS', 'LAB191'))\n",
    "    AND TSCODDEL <> 'D'\n",
    "    \"\"\"\n",
    "    Service_Call_Hours_Columns = {}\n",
    "    # Each month values:\n",
    "    for i, month in enumerate(Months_Numerical):\n",
    "        value = 0\n",
    "        if month <= Last_Month:\n",
    "            cursor.execute(f\"\"\"{Base_Query}\n",
    "            AND TSYP = {month}\"\"\")\n",
    "            value = cursor.fetchone()[0]\n",
    "        Month_Name = Months_Strings[i]\n",
    "        Service_Call_Hours_Columns[Month_Name] = value\n",
    "    # Get SUM of YTD Values by adding up each month value:\n",
    "    Sum_YTD = 0\n",
    "    for i in Service_Call_Hours_Columns.values():\n",
    "        Sum_YTD = Sum_YTD + i\n",
    "    Service_Call_Hours_Columns['YTD'] = Sum_YTD\n",
    "    # Print values:\n",
    "    for column_header_key, value in Service_Call_Hours_Columns.items():\n",
    "        print(f\"Service of Service Call Hours {column_header_key} = {value}\")\n",
    "\n",
    "\n",
    "    # ==================================================================================================================================\n",
    "    # SCRAP\n",
    "\n",
    "    Base_Query = f\"\"\"\n",
    "    SELECT IFNULL(SUM(TSUNITS),0) FROM TMSALE\n",
    "    WHERE TSCUS IN (SELECT CUNUMBER FROM TMCUST WHERE CUNUMENT = '4990085')\n",
    "    AND TSPD IN (SELECT PDNUMBER FROM TMPROD WHERE PDNUMBER IN ('209', '210') OR PDNUMBER LIKE '%SCRAP%' OR PDDESCRIP LIKE '%SCRAP%' OR PDNUMBER LIKE '%SFM%' OR PDDESCRIP LIKE '%TIRE DISPOSAL%')\n",
    "    AND TSCODDEL <> 'D'\n",
    "    \"\"\"\n",
    "\n",
    "    Scrap_Columns = {}\n",
    "    # Each month values:\n",
    "    for i, month in enumerate(Months_Numerical):\n",
    "        value = 0\n",
    "        if month <= Last_Month:\n",
    "            cursor.execute(f\"\"\"{Base_Query}\n",
    "            AND TSYP = {month}\"\"\")\n",
    "            value = cursor.fetchone()[0]\n",
    "        Month_Name = Months_Strings[i]\n",
    "        Scrap_Columns[Month_Name] = value\n",
    "    # Get SUM of YTD Values by adding up each month value:\n",
    "    Sum_YTD = 0\n",
    "    for i in Scrap_Columns.values():\n",
    "        Sum_YTD = Sum_YTD + i\n",
    "    Scrap_Columns['YTD'] = Sum_YTD\n",
    "\n",
    "    # Print values:\n",
    "    for column_header_key, value in Scrap_Columns.items():\n",
    "        print(f\"Service of Scrap {column_header_key} = {value}\")\n",
    "\n",
    "\n",
    "    # ============================================================================================================================================================\n",
    "    # +++++++++++++++++++++++++ BANDAG RETREADS ++++++++++++++++++++++++++++++++++++++++++++++++++++++++++++++++++++++++++++++++++\n",
    "    # ============================================================================================================================================================\n",
    "    \n",
    "\n",
    "# ==================================================================================================================\n",
    "\n",
    "    # 245/70R17.5 RETREAD\n",
    "\n",
    "    Base_Query = f\"\"\"\n",
    "    SELECT IFNULL(SUM(TSUNITS),0) FROM TMSALE\n",
    "    WHERE TSCUS IN (SELECT CUNUMBER FROM TMCUST WHERE CUNUMENT = '4990085')\n",
    "    AND TSPD IN (SELECT PDNUMBER FROM TMPROD WHERE PDNUMBER LIKE '257%' AND PDNUMBER NOT LIKE '%257RC%')\n",
    "    AND TSCODDEL <> 'D'\n",
    "    \"\"\"\n",
    "\n",
    "    Retread_245_slash_70R17_point_5_Columns = {}\n",
    "    # Each month values:\n",
    "    for i, month in enumerate(Months_Numerical):\n",
    "        value = 0\n",
    "        if month <= Last_Month:\n",
    "            cursor.execute(f\"\"\"{Base_Query}\n",
    "            AND TSYP = {month}\"\"\")\n",
    "            value = cursor.fetchone()[0]\n",
    "        Month_Name = Months_Strings[i]\n",
    "        Retread_245_slash_70R17_point_5_Columns[Month_Name] = value\n",
    "    # Get SUM of YTD Values by adding up each month value:\n",
    "    Sum_YTD = 0\n",
    "    for i in Retread_245_slash_70R17_point_5_Columns.values():\n",
    "        Sum_YTD = Sum_YTD + i\n",
    "    Retread_245_slash_70R17_point_5_Columns['YTD'] = Sum_YTD\n",
    "\n",
    "    # Print values:\n",
    "    for column_header_key, value in Retread_245_slash_70R17_point_5_Columns.items():\n",
    "        print(f\"RETREADS - 245/70R17.5 RETREAD {column_header_key} = {value}\")\n",
    "\n",
    "# ==================================================================================================================\n",
    "    # 295/75R22.5 RETREAD\n",
    "\n",
    "    Base_Query = f\"\"\"\n",
    "    SELECT IFNULL(SUM(TSUNITS),0) FROM TMSALE\n",
    "    WHERE TSCUS IN (SELECT CUNUMBER FROM TMCUST WHERE CUNUMENT = '4990085')\n",
    "    AND TSPD IN (SELECT PDNUMBER FROM TMPROD WHERE PDNUMBER LIKE '354%' AND PDNUMBER NOT LIKE '%354RC%')\n",
    "    AND TSCODDEL <> 'D'\n",
    "    \"\"\"\n",
    "\n",
    "    Retread_295_slash_75R22_point_5_Columns = {}\n",
    "    # Each month values:\n",
    "    for i, month in enumerate(Months_Numerical):\n",
    "        value = 0\n",
    "        if month <= Last_Month:\n",
    "            cursor.execute(f\"\"\"{Base_Query}\n",
    "            AND TSYP = {month}\"\"\")\n",
    "            value = cursor.fetchone()[0]\n",
    "        Month_Name = Months_Strings[i]\n",
    "        Retread_295_slash_75R22_point_5_Columns[Month_Name] = value\n",
    "    # Get SUM of YTD Values by adding up each month value:\n",
    "    Sum_YTD = 0\n",
    "    for i in Retread_295_slash_75R22_point_5_Columns.values():\n",
    "        Sum_YTD = Sum_YTD + i\n",
    "    Retread_295_slash_75R22_point_5_Columns['YTD'] = Sum_YTD\n",
    "\n",
    "    # Print values:\n",
    "    for column_header_key, value in Retread_295_slash_75R22_point_5_Columns.items():\n",
    "        print(f\"RETREADS - 295/75R22.5 RETREAD {column_header_key} = {value}\")\n",
    "\n",
    "\n",
    "\n",
    "\n",
    "    # =============================================================================================================================================================\n",
    "    # +++++++++++++++++++++++ RETREAD + CASING +++++++++++++++++++++++++++++++++++++++++++++++++++++++++++++\n",
    "    # =============================================================================================================================================================\n",
    "    # 10.00-20 CAP & CASING\n",
    "\n",
    "    Base_Query = f\"\"\"\n",
    "    SELECT IFNULL(SUM(TSUNITS),0) FROM TMSALE\n",
    "    WHERE TSCUS IN (SELECT CUNUMBER FROM TMCUST WHERE CUNUMENT = '4990085')\n",
    "    AND TSPD IN (SELECT PDNUMBER FROM TMPROD WHERE PDNUMBER LIKE 'S821%')\n",
    "    AND TSCODDEL <> 'D'\n",
    "    \"\"\"\n",
    "\n",
    "    Retread_PLUS_CASING_10_point_00_dash_20_Columns = {}\n",
    "    # Each month values:\n",
    "    for i, month in enumerate(Months_Numerical):\n",
    "        value = 0\n",
    "        if month <= Last_Month:\n",
    "            cursor.execute(f\"\"\"{Base_Query}\n",
    "            AND TSYP = {month}\"\"\")\n",
    "            value = cursor.fetchone()[0]\n",
    "        Month_Name = Months_Strings[i]\n",
    "        Retread_PLUS_CASING_10_point_00_dash_20_Columns[Month_Name] = value\n",
    "    # Get SUM of YTD Values by adding up each month value:\n",
    "    Sum_YTD = 0\n",
    "    for i in Retread_PLUS_CASING_10_point_00_dash_20_Columns.values():\n",
    "        Sum_YTD = Sum_YTD + i\n",
    "    Retread_PLUS_CASING_10_point_00_dash_20_Columns['YTD'] = Sum_YTD\n",
    "\n",
    "    # Print values:\n",
    "    for column_header_key, value in Retread_PLUS_CASING_10_point_00_dash_20_Columns.items():\n",
    "        print(f\"RETREAD + CASINGS - 11R22.5 CAP & CASING {column_header_key} = {value}\")\n",
    "\n",
    "    # ====================================================================================================================================================\n",
    "\n",
    "\n",
    "    # 11R22.5 CAP & CASING\n",
    "\n",
    "    Base_Query = f\"\"\"\n",
    "    SELECT IFNULL(SUM(TSUNITS),0) FROM TMSALE\n",
    "    WHERE TSCUS IN (SELECT CUNUMBER FROM TMCUST WHERE CUNUMENT = '4990085')\n",
    "    AND TSPD IN (SELECT PDNUMBER FROM TMPROD WHERE PDNUMBER LIKE 'S388%')\n",
    "    AND TSCODDEL <> 'D'\n",
    "    \"\"\"\n",
    "\n",
    "    Retread_PLUS_CASING_11R22_point_5_Columns = {}\n",
    "    # Each month values:\n",
    "    for i, month in enumerate(Months_Numerical):\n",
    "        value = 0\n",
    "        if month <= Last_Month:\n",
    "            cursor.execute(f\"\"\"{Base_Query}\n",
    "            AND TSYP = {month}\"\"\")\n",
    "            value = cursor.fetchone()[0]\n",
    "        Month_Name = Months_Strings[i]\n",
    "        Retread_PLUS_CASING_11R22_point_5_Columns[Month_Name] = value\n",
    "    # Get SUM of YTD Values by adding up each month value:\n",
    "    Sum_YTD = 0\n",
    "    for i in Retread_PLUS_CASING_11R22_point_5_Columns.values():\n",
    "        Sum_YTD = Sum_YTD + i\n",
    "    Retread_PLUS_CASING_11R22_point_5_Columns['YTD'] = Sum_YTD\n",
    "\n",
    "    # Print values:\n",
    "    for column_header_key, value in Retread_PLUS_CASING_11R22_point_5_Columns.items():\n",
    "        print(f\"RETREAD + CASINGS - 11R22.5 CAP & CASING {column_header_key} = {value}\")\n",
    "\n",
    "    # ====================================================================================================================================================\n",
    "    # 295/75R22.5 CAP & CASING\n",
    "\n",
    "    Base_Query = f\"\"\"\n",
    "    SELECT IFNULL(SUM(TSUNITS),0) FROM TMSALE\n",
    "    WHERE TSCUS IN (SELECT CUNUMBER FROM TMCUST WHERE CUNUMENT = '4990085')\n",
    "    AND TSPD IN (SELECT PDNUMBER FROM TMPROD WHERE PDNUMBER LIKE 'S354%')\n",
    "    AND TSCODDEL <> 'D'\n",
    "    \"\"\"\n",
    "\n",
    "    Retread_PLUS_CASING_295_slash_75R22_point_5_Columns = {}\n",
    "    # Each month values:\n",
    "    for i, month in enumerate(Months_Numerical):\n",
    "        value = 0\n",
    "        if month <= Last_Month:\n",
    "            cursor.execute(f\"\"\"{Base_Query}\n",
    "            AND TSYP = {month}\"\"\")\n",
    "            value = cursor.fetchone()[0]\n",
    "        Month_Name = Months_Strings[i]\n",
    "        Retread_PLUS_CASING_295_slash_75R22_point_5_Columns[Month_Name] = value\n",
    "    # Get SUM of YTD Values by adding up each month value:\n",
    "    Sum_YTD = 0\n",
    "    for i in Retread_PLUS_CASING_295_slash_75R22_point_5_Columns.values():\n",
    "        Sum_YTD = Sum_YTD + i\n",
    "    Retread_PLUS_CASING_295_slash_75R22_point_5_Columns['YTD'] = Sum_YTD\n",
    "\n",
    "    # Print values:\n",
    "    for column_header_key, value in Retread_PLUS_CASING_295_slash_75R22_point_5_Columns.items():\n",
    "        print(f\"RETREAD + CASINGS - 295/75R22.5 CAP & CASING {column_header_key} = {value}\")\n",
    " \n",
    "    # ====================================================================================================================================================\n",
    " \n",
    "    # =========================================================================================================================================================================\n",
    "    # REPAIR ONLY\n",
    "\n",
    "    Base_Query = f\"\"\"\n",
    "    SELECT IFNULL(SUM(TSUNITS),0) FROM TMSALE\n",
    "    WHERE TSCUS IN (SELECT CUNUMBER FROM TMCUST WHERE CUNUMENT = '4990085')\n",
    "    AND TSPD IN (SELECT PDNUMBER FROM TMPROD WHERE PDNUMBER LIKE '2R0%' OR PDNUMBER LIKE '2B0%')\n",
    "    AND TSCODDEL <> 'D'\n",
    "    \"\"\"\n",
    "    Repair_Only_Columns = {}\n",
    "    # Each month values:\n",
    "    for i, month in enumerate(Months_Numerical):\n",
    "        value = 0\n",
    "        if month <= Last_Month:\n",
    "            cursor.execute(f\"\"\"{Base_Query}\n",
    "            AND TSYP = {month}\"\"\")\n",
    "            value = cursor.fetchone()[0]\n",
    "        Month_Name = Months_Strings[i]\n",
    "        Repair_Only_Columns[Month_Name] = value\n",
    "    # Get SUM of YTD Values by adding up each month value:\n",
    "    Sum_YTD = 0\n",
    "    for i in Repair_Only_Columns.values():\n",
    "        Sum_YTD = Sum_YTD + i\n",
    "    Repair_Only_Columns['YTD'] = Sum_YTD\n",
    "    # Print values:\n",
    "    for column_header_key, value in Repair_Only_Columns.items():\n",
    "        print(f\"REPAIR ONLY {column_header_key} = {value}\")\n",
    "\n",
    "\n",
    "\n",
    "    # =====================================================================================================================================================\n",
    "    # +++++++++++++++++++++++++++ BRIDGESTONE +++++++++++++++++++++++++++++++++++++++++++++++++++++++++++++++++++\n",
    "    # =====================================================================================================================================================\n",
    "\n",
    "    # (BRIDGESTONE) LIGHT TRUCK\n",
    "\n",
    "    Base_Query = f\"\"\"\n",
    "    SELECT IFNULL(SUM(TSUNITS),0) FROM TMSALE\n",
    "    WHERE TSCUS IN (SELECT CUNUMBER FROM TMCUST WHERE CUNUMENT = '4990085')\n",
    "    AND TSPD IN (SELECT PDNUMBER FROM TMPROD WHERE (PDSIZE LIKE '015%' OR PDSIZE LIKE '016%' OR PDSIZE LIKE '017%') \n",
    "    AND PDCLASS IN ('06', '07', '08') \n",
    "    AND PDNUMBER IN ('B192659', 'B002038', 'B002043', 'B213518', 'B000027', 'B000017', 'B191826', 'B191860', 'B214606', 'B002036', 'B003489') \n",
    "    AND (PDVENDOR = '007') \n",
    "    AND (TSCODDEL <> 'D'))\n",
    "    \"\"\"\n",
    "        \n",
    "    Bridgestone_Light_Truck_Columns = {}\n",
    "    # Each month values:\n",
    "    for i, month in enumerate(Months_Numerical):\n",
    "        value = 0\n",
    "        if month <= Last_Month:\n",
    "            cursor.execute(f\"\"\"{Base_Query}\n",
    "            AND TSYP = {month}\"\"\")\n",
    "            value = cursor.fetchone()[0]\n",
    "        Month_Name = Months_Strings[i]\n",
    "        Bridgestone_Light_Truck_Columns[Month_Name] = value\n",
    "    # Get SUM of YTD Values by adding up each month value:\n",
    "    Sum_YTD = 0\n",
    "    for i in Bridgestone_Light_Truck_Columns.values():\n",
    "        Sum_YTD = Sum_YTD + i\n",
    "    Bridgestone_Light_Truck_Columns['YTD'] = Sum_YTD\n",
    "\n",
    "    # Print values:\n",
    "    for column_header_key, value in Bridgestone_Light_Truck_Columns.items():\n",
    "        print(f\"BRIDGESTONE - Light Truck {column_header_key} = {value}\")\n",
    "\n",
    "    # =================================================================================================================================================\n",
    "    # (BRIDGESTONE) 225/70R19.5\n",
    "\n",
    "    Base_Query = f\"\"\"\n",
    "    SELECT IFNULL(SUM(TSUNITS),0) FROM TMSALE\n",
    "    WHERE TSCUS IN (SELECT CUNUMBER FROM TMCUST WHERE CUNUMENT = '4990085')\n",
    "    AND TSPD IN (SELECT PDNUMBER FROM TMPROD WHERE PDSIZE LIKE '%019500225700%' AND PDDESCRIP NOT LIKE '%BILL HOLD%')\n",
    "    AND TSVN IN ('007')\n",
    "    AND TSCODDEL <> 'D'\n",
    "    \"\"\"\n",
    "        \n",
    "    Bridgestone_225_slash_70R19_point_5_Columns = {}\n",
    "    # Each month values:\n",
    "    for i, month in enumerate(Months_Numerical):\n",
    "        value = 0\n",
    "        if month <= Last_Month:\n",
    "            cursor.execute(f\"\"\"{Base_Query}\n",
    "            AND TSYP = {month}\"\"\")\n",
    "            value = cursor.fetchone()[0]\n",
    "        Month_Name = Months_Strings[i]\n",
    "        Bridgestone_225_slash_70R19_point_5_Columns[Month_Name] = value\n",
    "    # Get SUM of YTD Values by adding up each month value:\n",
    "    Sum_YTD = 0\n",
    "    for i in Bridgestone_225_slash_70R19_point_5_Columns.values():\n",
    "        Sum_YTD = Sum_YTD + i\n",
    "    Bridgestone_225_slash_70R19_point_5_Columns['YTD'] = Sum_YTD\n",
    "\n",
    "    # Print values:\n",
    "    for column_header_key, value in Bridgestone_225_slash_70R19_point_5_Columns.items():\n",
    "        print(f\"BRIDGESTONE - 225/70R19.5 {column_header_key} = {value}\")\n",
    "\n",
    "    # =================================================================================================================================================\n",
    "    # (BRIDGESTONE) 245/70R17.5\n",
    "\n",
    "    Base_Query = f\"\"\"\n",
    "    SELECT IFNULL(SUM(TSUNITS),0) FROM TMSALE\n",
    "    WHERE TSCUS IN (SELECT CUNUMBER FROM TMCUST WHERE CUNUMENT = '4990085')\n",
    "    AND TSPD IN (SELECT PDNUMBER FROM TMPROD WHERE PDSIZE LIKE '%017500245700%' AND PDDESCRIP NOT LIKE '%BILL HOLD%')\n",
    "    AND TSVN IN ('007')\n",
    "    AND TSCODDEL <> 'D'\n",
    "    \"\"\"\n",
    "        \n",
    "    Bridgestone_245_slash_70R17_point_5_Columns = {}\n",
    "    # Each month values:\n",
    "    for i, month in enumerate(Months_Numerical):\n",
    "        value = 0\n",
    "        if month <= Last_Month:\n",
    "            cursor.execute(f\"\"\"{Base_Query}\n",
    "            AND TSYP = {month}\"\"\")\n",
    "            value = cursor.fetchone()[0]\n",
    "        Month_Name = Months_Strings[i]\n",
    "        Bridgestone_245_slash_70R17_point_5_Columns[Month_Name] = value\n",
    "    # Get SUM of YTD Values by adding up each month value:\n",
    "    Sum_YTD = 0\n",
    "    for i in Bridgestone_245_slash_70R17_point_5_Columns.values():\n",
    "        Sum_YTD = Sum_YTD + i\n",
    "    Bridgestone_245_slash_70R17_point_5_Columns['YTD'] = Sum_YTD\n",
    "\n",
    "    # Print values:\n",
    "    for column_header_key, value in Bridgestone_245_slash_70R17_point_5_Columns.items():\n",
    "        print(f\"BRIDGESTONE - 245/70R17.5 {column_header_key} = {value}\")\n",
    "\n",
    "    # =================================================================================================================================================\n",
    "    # (BRIDGESTONE) 9R22.5\n",
    "\n",
    "    Base_Query = f\"\"\"\n",
    "    SELECT IFNULL(SUM(TSUNITS),0) FROM TMSALE\n",
    "    WHERE TSCUS IN (SELECT CUNUMBER FROM TMCUST WHERE CUNUMENT = '4990085')\n",
    "    AND TSPD IN (SELECT PDNUMBER FROM TMPROD WHERE PDVENDOR = '007' AND PDSIZE LIKE '%022500009000%' AND PDDESCRIP NOT LIKE '%BILL HOLD%')\n",
    "    AND TSVN = '007'\n",
    "    AND TSCODDEL <> 'D'\n",
    "    \"\"\"\n",
    "        \n",
    "    Bridgestone_9R22_point_5_Columns = {}\n",
    "    # Each month values:\n",
    "    for i, month in enumerate(Months_Numerical):\n",
    "        value = 0\n",
    "        if month <= Last_Month:\n",
    "            cursor.execute(f\"\"\"{Base_Query}\n",
    "            AND TSYP = {month}\"\"\")\n",
    "            value = cursor.fetchone()[0]\n",
    "        Month_Name = Months_Strings[i]\n",
    "        Bridgestone_9R22_point_5_Columns[Month_Name] = value\n",
    "    # Get SUM of YTD Values by adding up each month value:\n",
    "    Sum_YTD = 0\n",
    "    for i in Bridgestone_9R22_point_5_Columns.values():\n",
    "        Sum_YTD = Sum_YTD + i\n",
    "    Bridgestone_9R22_point_5_Columns['YTD'] = Sum_YTD\n",
    "\n",
    "    # Print values:\n",
    "    for column_header_key, value in Bridgestone_9R22_point_5_Columns.items():\n",
    "        print(f\"BRIDGESTONE - 9R22.5 {column_header_key} = {value}\")\n",
    "\n",
    "    # =================================================================================================================================================\n",
    "    # (BRIDGESTONE) 295/75R22.5\n",
    "\n",
    "    Base_Query = f\"\"\"\n",
    "    SELECT IFNULL(SUM(TSUNITS),0) FROM TMSALE\n",
    "    WHERE TSCUS IN (SELECT CUNUMBER FROM TMCUST WHERE CUNUMENT = '4990085')\n",
    "    AND TSPD IN (SELECT PDNUMBER FROM TMPROD WHERE PDVENDOR = '007' AND PDSIZE LIKE '%022500295750%' AND PDDESCRIP NOT LIKE '%BILL HOLD%')\n",
    "    AND TSCODDEL <> 'D'\n",
    "    \"\"\"\n",
    "        \n",
    "    Bridgestone_295_slash_75R22_point_5_Columns = {}\n",
    "    # Each month values:\n",
    "    for i, month in enumerate(Months_Numerical):\n",
    "        value = 0\n",
    "        if month <= Last_Month:\n",
    "            cursor.execute(f\"\"\"{Base_Query}\n",
    "            AND TSYP = {month}\"\"\")\n",
    "            value = cursor.fetchone()[0]\n",
    "        Month_Name = Months_Strings[i]\n",
    "        Bridgestone_295_slash_75R22_point_5_Columns[Month_Name] = value\n",
    "    # Get SUM of YTD Values by adding up each month value:\n",
    "    Sum_YTD = 0\n",
    "    for i in Bridgestone_295_slash_75R22_point_5_Columns.values():\n",
    "        Sum_YTD = Sum_YTD + i\n",
    "    Bridgestone_295_slash_75R22_point_5_Columns['YTD'] = Sum_YTD\n",
    "\n",
    "    # Print values:\n",
    "    for column_header_key, value in Bridgestone_295_slash_75R22_point_5_Columns.items():\n",
    "        print(f\"BRIDGESTONE - 295/75R22.5 {column_header_key} = {value}\")\n",
    "\n",
    "    # =================================================================================================================================================\n",
    "\n",
    "    # (BRIDGESTONE) 11R22.5\n",
    "\n",
    "    Base_Query = f\"\"\"\n",
    "    SELECT IFNULL(SUM(TSUNITS),0) FROM TMSALE\n",
    "    WHERE TSCUS IN (SELECT CUNUMBER FROM TMCUST WHERE CUNUMENT = '4990085')\n",
    "    AND TSPD IN (SELECT PDNUMBER FROM TMPROD WHERE PDVENDOR = '007' AND PDSIZE LIKE '%022500011000%' AND PDDESCRIP NOT LIKE '%BILL HOLD%')\n",
    "    AND TSCODDEL <> 'D'\n",
    "    \"\"\"\n",
    "    Bridgestone_11R22_point_5_Columns = {}\n",
    "    # Each month values:\n",
    "    for i, month in enumerate(Months_Numerical):\n",
    "        value = 0\n",
    "        if month <= Last_Month:\n",
    "            cursor.execute(f\"\"\"{Base_Query}\n",
    "            AND TSYP = {month}\"\"\")\n",
    "            value = cursor.fetchone()[0]\n",
    "        Month_Name = Months_Strings[i]\n",
    "        Bridgestone_11R22_point_5_Columns[Month_Name] = value\n",
    "    # Get SUM of YTD Values by adding up each month value:\n",
    "    Sum_YTD = 0\n",
    "    for i in Bridgestone_11R22_point_5_Columns.values():\n",
    "        Sum_YTD = Sum_YTD + i\n",
    "    Bridgestone_11R22_point_5_Columns['YTD'] = Sum_YTD\n",
    "\n",
    "    # Print values:\n",
    "    for column_header_key, value in Bridgestone_11R22_point_5_Columns.items():\n",
    "        print(f\"BRIDGESTONE - 11R22.5 {column_header_key} = {value}\")\n",
    "\n",
    "    # =======================================================================================================================================================\n",
    "    # OTHER Bridgestone Tires:\n",
    "\n",
    "    Base_Query = f\"\"\"\n",
    "    SELECT IFNULL(SUM(TSUNITS),0) FROM TMSALE\n",
    "    WHERE TSCUS IN (SELECT CUNUMBER FROM TMCUST WHERE CUNUMENT = '4990085')\n",
    "    -- Exclude Light Truck (note, light truck is product classes 06,07,08)\n",
    "    AND TSPD NOT IN (SELECT PDNUMBER FROM TMPROD WHERE (PDSIZE LIKE '015%' OR PDSIZE LIKE '016%' OR PDSIZE LIKE '017%') AND PDCLASS IN ('06', '07', '08') AND PDNUMBER IN ('B192659', 'B002038', 'B002043', 'B213518', 'B000027', 'B000017', 'B191826', 'B191860', 'B214606', 'B002036', 'B003489'))\n",
    "    -- Exclude 225/70R19.5\n",
    "    AND TSPD NOT IN (SELECT PDNUMBER FROM TMPROD WHERE PDSIZE LIKE '%019500225700%' AND PDDESCRIP NOT LIKE '%BILL HOLD%')\n",
    "    ---- Exclude 245/70R17.5\n",
    "    AND TSPD NOT IN (SELECT PDNUMBER FROM TMPROD WHERE PDSIZE LIKE '%017500245700%' AND PDDESCRIP NOT LIKE '%BILL HOLD%')\n",
    "    ---- Exclude 9R225\n",
    "    AND TSPD NOT IN (SELECT PDNUMBER FROM TMPROD WHERE PDSIZE LIKE '%022500009000%' AND PDDESCRIP NOT LIKE '%BILL HOLD%')\n",
    "    ---- Exclude 295/75R22.5\n",
    "    AND TSPD NOT IN (SELECT PDNUMBER FROM TMPROD WHERE PDSIZE LIKE '%022500295750%' AND PDDESCRIP NOT LIKE '%BILL HOLD%')\n",
    "    ---- Exclude 11R22.5\n",
    "    AND TSPD NOT IN (SELECT PDNUMBER FROM TMPROD WHERE PDSIZE LIKE '%022500011000%' AND PDDESCRIP NOT LIKE '%BILL HOLD%')\n",
    "    --ENSURE PDFLDUSR1 does not have any value (or at least doesn't have \"DC\")... that way we exlcude junk/commission lines AND exclude any govt \"FET\":\n",
    "    AND TSPD IN (SELECT PDNUMBER FROM TMPROD WHERE PDDESCRIP NOT LIKE '%COMM%' AND PDFLDUSR1 = '')\n",
    "    AND TSVN = '007'\n",
    "    AND TSCODDEL <> 'D'\n",
    "    \"\"\"\n",
    "    Bridgestone_OTHER_Columns = {}\n",
    "    # Each month values:\n",
    "    for i, month in enumerate(Months_Numerical):\n",
    "        value = 0\n",
    "        if month <= Last_Month:\n",
    "            cursor.execute(f\"\"\"{Base_Query}\n",
    "            AND TSYP = {month}\"\"\")\n",
    "            value = cursor.fetchone()[0]\n",
    "        Month_Name = Months_Strings[i]\n",
    "        Bridgestone_OTHER_Columns[Month_Name] = value\n",
    "    # Get SUM of YTD Values by adding up each month value:\n",
    "    Sum_YTD = 0\n",
    "    for i in Bridgestone_OTHER_Columns.values():\n",
    "        Sum_YTD = Sum_YTD + i\n",
    "    Bridgestone_OTHER_Columns['YTD'] = Sum_YTD\n",
    "\n",
    "    # Print values:\n",
    "    for column_header_key, value in Bridgestone_OTHER_Columns.items():\n",
    "        print(f\"BRIDGESTONE - OTHER {column_header_key} = {value}\")\n",
    "\n",
    "\n",
    "# ==========================================================================================================================================================\n",
    "# ===================   OTHER NEW TIRES (besides bridgestone)  +++++++++++++++++++++++++++++++++++++++++++++++++++++++++\n",
    "# ==========================================================================================================================================================\n",
    "\n",
    "    # 10.00-20 NEW TIRES\n",
    "\n",
    "    Base_Query = f\"\"\"\n",
    "    SELECT IFNULL(SUM(TSUNITS),0) FROM TMSALE\n",
    "    WHERE TSCUS IN (SELECT CUNUMBER FROM TMCUST WHERE CUNUMENT = '4990085')\n",
    "    AND TSPD IN (SELECT PDNUMBER FROM TMPROD WHERE PDSIZE LIKE '%020001000000%' AND PDDESCRIP NOT LIKE '%BILL HOLD%' AND PDFLDUSR1 = '')\n",
    "    AND TSVN IN ('007')\n",
    "    AND TSCODDEL <> 'D'\n",
    "    \"\"\"\n",
    "    New_Tires_10_point_00_dash_20_Columns = {}\n",
    "    # Each month values:\n",
    "    for i, month in enumerate(Months_Numerical):\n",
    "        value = 0\n",
    "        if month <= Last_Month:\n",
    "            cursor.execute(f\"\"\"{Base_Query}\n",
    "            AND TSYP = {month}\"\"\")\n",
    "            value = cursor.fetchone()[0]\n",
    "        Month_Name = Months_Strings[i]\n",
    "        New_Tires_10_point_00_dash_20_Columns[Month_Name] = value\n",
    "    # Get SUM of YTD Values by adding up each month value:\n",
    "    Sum_YTD = 0\n",
    "    for i in New_Tires_10_point_00_dash_20_Columns.values():\n",
    "        Sum_YTD = Sum_YTD + i\n",
    "    New_Tires_10_point_00_dash_20_Columns['YTD'] = Sum_YTD\n",
    "\n",
    "    # Print values:\n",
    "    for column_header_key, value in New_Tires_10_point_00_dash_20_Columns.items():\n",
    "        print(f\"NEW TIRES - 10.00-20 {column_header_key} = {value}\")\n",
    "\n",
    "# ==========================================================================================================\n",
    "    # YOKOHAMA NEW TIRES\n",
    "\n",
    "    Base_Query = f\"\"\"\n",
    "    SELECT IFNULL(SUM(TSUNITS),0) FROM TMSALE\n",
    "    WHERE TSCUS IN (SELECT CUNUMBER FROM TMCUST WHERE CUNUMENT = '4990085')\n",
    "    AND TSPD IN (SELECT PDNUMBER FROM TMPROD WHERE PDVENDOR = '005' AND UPPER(PDDESCRIP) NOT LIKE '%BILL HOLD%' AND PDNUMBER NOT LIKE '%YOKOCOM%' AND PDFLDUSR1 = '')\n",
    "    AND TSVN = '005'\n",
    "    AND TSCODDEL <> 'D'\n",
    "    \"\"\"\n",
    "    New_Tires_Yokohama_New_Tires_Columns = {}\n",
    "    # Each month values:\n",
    "    for i, month in enumerate(Months_Numerical):\n",
    "        value = 0\n",
    "        if month <= Last_Month:\n",
    "            cursor.execute(f\"\"\"{Base_Query}\n",
    "            AND TSYP = {month}\"\"\")\n",
    "            value = cursor.fetchone()[0]\n",
    "        Month_Name = Months_Strings[i]\n",
    "        New_Tires_Yokohama_New_Tires_Columns[Month_Name] = value\n",
    "    # Get SUM of YTD Values by adding up each month value:\n",
    "    Sum_YTD = 0\n",
    "    for i in New_Tires_Yokohama_New_Tires_Columns.values():\n",
    "        Sum_YTD = Sum_YTD + i\n",
    "    New_Tires_Yokohama_New_Tires_Columns['YTD'] = Sum_YTD\n",
    "\n",
    "    # Print values:\n",
    "    for column_header_key, value in New_Tires_Yokohama_New_Tires_Columns.items():\n",
    "        print(f\"NEW TIRES - Yokohama {column_header_key} = {value}\")\n",
    "\n",
    "# ============================================================================================================\n",
    "    # CONTINENTAL NEW TIRES:\n",
    "    Base_Query = f\"\"\"\n",
    "    SELECT IFNULL(SUM(TSUNITS),0) FROM TMSALE\n",
    "    WHERE TSCUS IN (SELECT CUNUMBER FROM TMCUST WHERE CUNUMENT = '4990085')\n",
    "    AND TSPD IN (SELECT PDNUMBER FROM TMPROD WHERE PDVENDOR = '021' AND PDDESCRIP NOT LIKE '%BILL HOLD%' AND PDFLDUSR1 = '')\n",
    "    AND TSVN = '021'    \n",
    "    AND TSCODDEL <> 'D'\n",
    "    \"\"\"\n",
    "    New_Tires_Continental_New_Tires_Columns = {}\n",
    "    # Each month values:\n",
    "    for i, month in enumerate(Months_Numerical):\n",
    "        value = 0\n",
    "        if month <= Last_Month:\n",
    "            cursor.execute(f\"\"\"{Base_Query}\n",
    "            AND TSYP = {month}\"\"\")\n",
    "            value = cursor.fetchone()[0]\n",
    "        Month_Name = Months_Strings[i]\n",
    "        New_Tires_Continental_New_Tires_Columns[Month_Name] = value\n",
    "    # Get SUM of YTD Values by adding up each month value:\n",
    "    Sum_YTD = 0\n",
    "    for i in New_Tires_Continental_New_Tires_Columns.values():\n",
    "        Sum_YTD = Sum_YTD + i\n",
    "    New_Tires_Continental_New_Tires_Columns['YTD'] = Sum_YTD\n",
    "\n",
    "    # Print values:\n",
    "    for column_header_key, value in New_Tires_Continental_New_Tires_Columns.items():\n",
    "        print(f\"NEW TIRES - Continental {column_header_key} = {value}\")\n",
    "\n",
    "# ============================================================================================================\n",
    "    # HANKOOK NEW TIRES:\n",
    "    Base_Query = f\"\"\"\n",
    "    SELECT IFNULL(SUM(TSUNITS),0) AS TOTAL FROM TMSALE\n",
    "    -- Get rid of Bill Hold, get rid of anything that is commission lines or FET lines (For govt transactions)\n",
    "    WHERE TSPD IN (SELECT PDNUMBER FROM TMPROD WHERE TRIM(PDNUMBER) NOT LIKE '%BH' AND PDFLDUSR4 <> 'BH' AND PDNUMBER NOT LIKE 'FET%' AND PDDESCRIP NOT LIKE '%COMM%' AND PDFLDUSR1 = '')\n",
    "    -- Get rid of assemblies\n",
    "    AND TSCC <> 'A'\n",
    "    -- Exclude customer classes 6 (govt support), 8 (intercompany), and 9 (wholesale intercompany)\n",
    "    AND TSCC NOT IN ('6', '8', '9')\n",
    "    -- Specify which vendor:\n",
    "    AND TSVN IN ('027')\n",
    "    AND TSCODDEL <> 'D'\n",
    "    \"\"\"\n",
    "    New_Tires_Hankook_New_Tires_Columns = {}\n",
    "    # Each month values:\n",
    "    for i, month in enumerate(Months_Numerical):\n",
    "        value = 0\n",
    "        if month <= Last_Month:\n",
    "            cursor.execute(f\"\"\"{Base_Query}\n",
    "            AND TSYP = {month}\"\"\")\n",
    "            value = cursor.fetchone()[0]\n",
    "        Month_Name = Months_Strings[i]\n",
    "        New_Tires_Hankook_New_Tires_Columns[Month_Name] = value\n",
    "    # Get SUM of YTD Values by adding up each month value:\n",
    "    Sum_YTD = 0\n",
    "    for i in New_Tires_Hankook_New_Tires_Columns.values():\n",
    "        Sum_YTD = Sum_YTD + i\n",
    "    New_Tires_Hankook_New_Tires_Columns['YTD'] = Sum_YTD\n",
    "\n",
    "    # Print values:\n",
    "    for column_header_key, value in New_Tires_Hankook_New_Tires_Columns.items():\n",
    "        print(f\"NEW TIRES - Continental {column_header_key} = {value}\")\n",
    "\n",
    "\n",
    "\n",
    "# ==========================================================================================================================================================\n",
    "    # Misc Tires\n",
    "\n",
    "\n",
    "    Base_Query = f\"\"\"\n",
    "    SELECT IFNULL(SUM(TSUNITS),0) FROM TMSALE\n",
    "    WHERE TSCUS IN (SELECT CUNUMBER FROM TMCUST WHERE CUNUMENT = '4990085')\n",
    "    -- Exclude Bridgestone Light Truck\n",
    "    AND TSPD NOT IN (SELECT PDNUMBER FROM TMPROD WHERE (PDSIZE LIKE '015%' OR PDSIZE LIKE '016%' OR PDSIZE LIKE '017%') AND (PDCLASS = '06' OR PDCLASS = '07' OR PDCLASS = '08') AND PDNUMBER IN ('B192659', 'B002038', 'B002043', 'B213518', 'B000027', 'B000017', 'B191826', 'B191860', 'B214606', 'B002036', 'B003489')) \n",
    "    -- Exclude Bridgestone 225/70R19.5\n",
    "    AND TSPD NOT IN (SELECT PDNUMBER FROM TMPROD WHERE PDVENDOR = '007' AND PDSIZE LIKE '%019500225700%' AND PDDESCRIP NOT LIKE '%BILL HOLD%')\n",
    "    -- Exclude Bridgestone 245/70R17.5\n",
    "    AND TSPD NOT IN (SELECT PDNUMBER FROM TMPROD WHERE PDVENDOR = '007' AND PDSIZE LIKE '%017500245700%' AND PDDESCRIP NOT LIKE '%BILL HOLD%')\n",
    "    -- Exclude Bridgestone 9R225\n",
    "    AND TSPD NOT IN (SELECT PDNUMBER FROM TMPROD WHERE PDVENDOR = '007' AND PDSIZE LIKE '%022500009000%' AND PDDESCRIP NOT LIKE '%BILL HOLD%')\n",
    "    -- Exclude Bridgestone 295/75R22.5\n",
    "    AND TSPD NOT IN (SELECT PDNUMBER FROM TMPROD WHERE PDVENDOR = '007' AND PDSIZE LIKE '%022500295750%' AND PDDESCRIP NOT LIKE '%BILL HOLD%')\n",
    "    -- Exclude Bridgestone 11R22.5\n",
    "    AND TSPD NOT IN (SELECT PDNUMBER FROM TMPROD WHERE PDVENDOR = '007' AND PDSIZE LIKE '%022500011000%' AND PDDESCRIP NOT LIKE '%BILL HOLD%')\n",
    "    -- Exclude 10.00-20 New Tires\n",
    "    AND TSPD NOT IN (SELECT PDNUMBER FROM TMPROD WHERE PDSIZE = '020001000000' AND UPPER(PDDESCRIP) NOT LIKE '%BILL HOLD%' AND PDVENDOR NOT IN ('090', '091'))\n",
    "    -- Exclude Yokohama New Tires\n",
    "    AND TSPD NOT IN (SELECT PDNUMBER FROM TMPROD WHERE PDVENDOR = '005' AND UPPER(PDDESCRIP) NOT LIKE '%BILL HOLD%')\n",
    "    -- Exclude Continental New Tires\n",
    "    AND TSPD NOT IN (SELECT PDNUMBER FROM TMPROD WHERE PDVENDOR = '021' AND UPPER(PDDESCRIP) NOT LIKE '%BILL HOLD%')\n",
    "    -- Exclude HANKOOK New Tires:\n",
    "    AND TSPD NOT IN (SELECT PDNUMBER FROM TMPROD WHERE PDVENDOR = '027' AND UPPER(PDDESCRIP) NOT LIKE '%BILL HOLD%')\n",
    "    -- Here just make sure we exclude non-inventory and only get the tires which are of relevant classes (not OTRs etc)\n",
    "    AND TSPD IN (SELECT PDNUMBER FROM TMPROD WHERE PDNONINV <> 'Y' AND PDCLASS IN ('01', '02', '03', '04', '05','06', '07', '08', '09','10','11','12','13','14','15','16','17','18','19','20','21'))\n",
    "    --ENSURE PDFLDUSR1 does not have any value (or at least doesn't have \"DC\")... that way we exlcude junk/commission lines:\n",
    "    AND TSPD IN (SELECT PDNUMBER FROM TMPROD WHERE PDFLDUSR1 <> 'DC')\n",
    "    AND TSCODDEL <> 'D'\n",
    "    \"\"\"\n",
    "\n",
    "    Misc_Tires_Columns = {}\n",
    "    # Each month values:\n",
    "    for i, month in enumerate(Months_Numerical):\n",
    "        value = 0\n",
    "        if month <= Last_Month:\n",
    "            cursor.execute(f\"\"\"{Base_Query}\n",
    "            AND TSYP = {month}\"\"\")\n",
    "            value = cursor.fetchone()[0]\n",
    "        Month_Name = Months_Strings[i]\n",
    "        Misc_Tires_Columns[Month_Name] = value\n",
    "    # Get SUM of YTD Values by adding up each month value:\n",
    "    Sum_YTD = 0\n",
    "    for i in Misc_Tires_Columns.values():\n",
    "        Sum_YTD = Sum_YTD + i\n",
    "    Misc_Tires_Columns['YTD'] = Sum_YTD\n",
    "    # Print values:\n",
    "    for column_header_key, value in Misc_Tires_Columns.items():\n",
    "        print(f\"MISC TIRES {column_header_key} = {value}\")\n",
    "\n",
    "\n",
    "# ======================================================================================================================================================\n",
    "# ++++++++++++++++++++++++ 3 EXTRA BRIDGESTONE NEW TIRE CATEGORIES +++++++++++++++++++++++++++++++++++++++++++++++++\n",
    "# ======================================================================================================================================================\n",
    "    # Bridgestone STEER - NEW TIRE\n",
    "        # Notes:\n",
    "        # Lonestar customers are all under Enterprise number 4990085\n",
    "        # Bridgestone is vendor '007'.\n",
    "        # Product class for Steer is \"10\".\n",
    "        # when I did the raynond alley report, Sandra said PDFLDUSR1 needs to have no values in it.  In this case, it may make no difference but still.\n",
    "\n",
    "    Base_Query = f\"\"\"\n",
    "    SELECT IFNULL(SUM(TSUNITS),0) FROM TMSALE\n",
    "    WHERE TSCUS IN (SELECT CUNUMBER FROM TMCUST WHERE CUNUMENT = '4990085')\n",
    "    AND TSPD IN (SELECT PDNUMBER FROM TMPROD WHERE UPPER(PDDESCRIP) NOT LIKE '%BILL HOLD%' AND PDFLDUSR1 = '')\n",
    "    AND TSVN = '007'\n",
    "    AND TSPC = '10'\n",
    "    AND TSCODDEL <> 'D'\n",
    "    \"\"\"\n",
    "    New_Tires_BS_STEER_Columns = {}\n",
    "    # Each month values:\n",
    "    for i, month in enumerate(Months_Numerical):\n",
    "        value = 0\n",
    "        if month <= Last_Month:\n",
    "            cursor.execute(f\"\"\"{Base_Query}\n",
    "            AND TSYP = {month}\"\"\")\n",
    "            value = cursor.fetchone()[0]\n",
    "        Month_Name = Months_Strings[i]\n",
    "        New_Tires_BS_STEER_Columns[Month_Name] = value\n",
    "    # Get SUM of YTD Values by adding up each month value:\n",
    "    Sum_YTD = 0\n",
    "    for i in New_Tires_BS_STEER_Columns.values():\n",
    "        Sum_YTD = Sum_YTD + i\n",
    "    New_Tires_BS_STEER_Columns['YTD'] = Sum_YTD\n",
    "\n",
    "    # Print values:\n",
    "    for column_header_key, value in New_Tires_BS_STEER_Columns.items():\n",
    "        print(f\"NEW TIRES - BS STEER {column_header_key} = {value}\")\n",
    "        \n",
    "\n",
    "    # Bridgestone DRIVE - NEW TIRE\n",
    "    Base_Query = f\"\"\"\n",
    "    SELECT IFNULL(SUM(TSUNITS),0) FROM TMSALE\n",
    "    WHERE TSCUS IN (SELECT CUNUMBER FROM TMCUST WHERE CUNUMENT = '4990085')\n",
    "    AND TSPD IN (SELECT PDNUMBER FROM TMPROD WHERE UPPER(PDDESCRIP) NOT LIKE '%BILL HOLD%' AND PDFLDUSR1 = '')\n",
    "    AND TSVN = '007'\n",
    "    AND TSPC = '11'\n",
    "    AND TSCODDEL <> 'D'\n",
    "    \"\"\"\n",
    "    New_Tires_BS_DRIVE_Columns = {}\n",
    "    # Each month values:\n",
    "    for i, month in enumerate(Months_Numerical):\n",
    "        value = 0\n",
    "        if month <= Last_Month:\n",
    "            cursor.execute(f\"\"\"{Base_Query}\n",
    "            AND TSYP = {month}\"\"\")\n",
    "            value = cursor.fetchone()[0]\n",
    "        Month_Name = Months_Strings[i]\n",
    "        New_Tires_BS_DRIVE_Columns[Month_Name] = value\n",
    "    # Get SUM of YTD Values by adding up each month value:\n",
    "    Sum_YTD = 0\n",
    "    for i in New_Tires_BS_DRIVE_Columns.values():\n",
    "        Sum_YTD = Sum_YTD + i\n",
    "    New_Tires_BS_DRIVE_Columns['YTD'] = Sum_YTD\n",
    "\n",
    "    # Print values:\n",
    "    for column_header_key, value in New_Tires_BS_DRIVE_Columns.items():\n",
    "        print(f\"NEW TIRES - BS DRIVE {column_header_key} = {value}\")\n",
    "\n",
    "\n",
    "    # Bridgestone TRAILER - NEW TIRE\n",
    "    Base_Query = f\"\"\"\n",
    "    SELECT IFNULL(SUM(TSUNITS),0) FROM TMSALE\n",
    "    WHERE TSCUS IN (SELECT CUNUMBER FROM TMCUST WHERE CUNUMENT = '4990085')\n",
    "    AND TSPD IN (SELECT PDNUMBER FROM TMPROD WHERE UPPER(PDDESCRIP) NOT LIKE '%BILL HOLD%' AND PDFLDUSR1 = '')\n",
    "    AND TSVN = '007'\n",
    "    AND TSPC = '12'\n",
    "    AND TSCODDEL <> 'D'\n",
    "    \"\"\"\n",
    "    New_Tires_BS_TRAILER_Columns = {}\n",
    "    # Each month values:\n",
    "    for i, month in enumerate(Months_Numerical):\n",
    "        value = 0\n",
    "        if month <= Last_Month:\n",
    "            cursor.execute(f\"\"\"{Base_Query}\n",
    "            AND TSYP = {month}\"\"\")\n",
    "            value = cursor.fetchone()[0]\n",
    "        Month_Name = Months_Strings[i]\n",
    "        New_Tires_BS_TRAILER_Columns[Month_Name] = value\n",
    "    # Get SUM of YTD Values by adding up each month value:\n",
    "    Sum_YTD = 0\n",
    "    for i in New_Tires_BS_TRAILER_Columns.values():\n",
    "        Sum_YTD = Sum_YTD + i\n",
    "    New_Tires_BS_TRAILER_Columns['YTD'] = Sum_YTD\n",
    "\n",
    "    # Print values:\n",
    "    for column_header_key, value in New_Tires_BS_TRAILER_Columns.items():\n",
    "        print(f\"NEW TIRES - BS TRAILER {column_header_key} = {value}\")\n",
    "\n",
    "\n",
    "    \n",
    "\n",
    "\n",
    "    # ========================================================================================================================================================\n",
    "    # ++++++++++++++++++++++++ ALL TOTALS CALCULATIONS HERE +++++++++++++++++++++++++++++++++++++++++++++++++++++++++++++++++++++++++++++++\n",
    "    # ========================================================================================================================================================\n",
    "\n",
    "    Service_YTD_TOTAL = Flat_Repair_Columns[\"YTD\"] + Tire_Rotation_Columns['YTD'] + Mount_and_Dismount_Columns[\"YTD\"] + Service_Call_Hours_Columns[\"YTD\"] + Scrap_Columns[\"YTD\"]\n",
    "    Service_JAN_TOTAL = Flat_Repair_Columns[\"JAN\"] + Tire_Rotation_Columns['JAN'] + Mount_and_Dismount_Columns[\"JAN\"] + Service_Call_Hours_Columns[\"JAN\"] + Scrap_Columns[\"JAN\"]\n",
    "    Service_FEB_TOTAL = Flat_Repair_Columns[\"FEB\"] + Tire_Rotation_Columns['FEB'] + Mount_and_Dismount_Columns[\"FEB\"] + Service_Call_Hours_Columns[\"FEB\"] + Scrap_Columns[\"FEB\"]\n",
    "    Service_MAR_TOTAL = Flat_Repair_Columns[\"MAR\"] + Tire_Rotation_Columns['MAR'] + Mount_and_Dismount_Columns[\"MAR\"] + Service_Call_Hours_Columns[\"MAR\"] + Scrap_Columns[\"MAR\"]\n",
    "    Service_APR_TOTAL = Flat_Repair_Columns[\"APR\"] + Tire_Rotation_Columns['APR'] + Mount_and_Dismount_Columns[\"APR\"] + Service_Call_Hours_Columns[\"APR\"] + Scrap_Columns[\"APR\"]\n",
    "    Service_MAY_TOTAL = Flat_Repair_Columns[\"MAY\"] + Tire_Rotation_Columns['MAY'] + Mount_and_Dismount_Columns[\"MAY\"] + Service_Call_Hours_Columns[\"MAY\"] + Scrap_Columns[\"MAY\"]\n",
    "    Service_JUN_TOTAL = Flat_Repair_Columns[\"JUN\"] + Tire_Rotation_Columns['JUN'] + Mount_and_Dismount_Columns[\"JUN\"] + Service_Call_Hours_Columns[\"JUN\"] + Scrap_Columns[\"JUN\"]\n",
    "    Service_JUL_TOTAL = Flat_Repair_Columns[\"JUL\"] + Tire_Rotation_Columns['JUL'] + Mount_and_Dismount_Columns[\"JUL\"] + Service_Call_Hours_Columns[\"JUL\"] + Scrap_Columns[\"JUL\"]\n",
    "    Service_AUG_TOTAL = Flat_Repair_Columns[\"AUG\"] + Tire_Rotation_Columns['AUG'] + Mount_and_Dismount_Columns[\"AUG\"] + Service_Call_Hours_Columns[\"AUG\"] + Scrap_Columns[\"AUG\"]\n",
    "    Service_SEPT_TOTAL = Flat_Repair_Columns[\"SEPT\"] + Tire_Rotation_Columns['SEPT'] + Mount_and_Dismount_Columns[\"SEPT\"] + Service_Call_Hours_Columns[\"SEPT\"] + Scrap_Columns[\"SEPT\"]\n",
    "    Service_OCT_TOTAL = Flat_Repair_Columns[\"OCT\"] + Tire_Rotation_Columns['OCT'] + Mount_and_Dismount_Columns[\"OCT\"] + Service_Call_Hours_Columns[\"OCT\"] + Scrap_Columns[\"OCT\"]\n",
    "    Service_NOV_TOTAL = Flat_Repair_Columns[\"NOV\"] + Tire_Rotation_Columns['NOV'] + Mount_and_Dismount_Columns[\"NOV\"] + Service_Call_Hours_Columns[\"NOV\"] + Scrap_Columns[\"NOV\"]\n",
    "    Service_DEC_TOTAL = Flat_Repair_Columns[\"DEC\"] + Tire_Rotation_Columns['DEC'] + Mount_and_Dismount_Columns[\"DEC\"] + Service_Call_Hours_Columns[\"DEC\"] + Scrap_Columns[\"DEC\"]\n",
    "\n",
    "    # Bandag Retreads Total\n",
    "    Bandag_Retread_YTD_TOTAL = (Retread_245_slash_70R17_point_5_Columns[\"YTD\"] + Retread_295_slash_75R22_point_5_Columns['YTD'])\n",
    "    Bandag_Retread_JAN_TOTAL = (Retread_245_slash_70R17_point_5_Columns[\"JAN\"] + Retread_295_slash_75R22_point_5_Columns[\"JAN\"])\n",
    "    Bandag_Retread_FEB_TOTAL = (Retread_245_slash_70R17_point_5_Columns[\"FEB\"] + Retread_295_slash_75R22_point_5_Columns['FEB'])\n",
    "    Bandag_Retread_MAR_TOTAL = (Retread_245_slash_70R17_point_5_Columns[\"MAR\"] + Retread_295_slash_75R22_point_5_Columns['MAR'])\n",
    "    Bandag_Retread_APR_TOTAL = (Retread_245_slash_70R17_point_5_Columns[\"APR\"] + Retread_295_slash_75R22_point_5_Columns['APR'])\n",
    "    Bandag_Retread_MAY_TOTAL = (Retread_245_slash_70R17_point_5_Columns[\"MAY\"] + Retread_295_slash_75R22_point_5_Columns['MAY'])\n",
    "    Bandag_Retread_JUN_TOTAL = (Retread_245_slash_70R17_point_5_Columns[\"JUN\"] + Retread_295_slash_75R22_point_5_Columns['JUN'])\n",
    "    Bandag_Retread_JUL_TOTAL = (Retread_245_slash_70R17_point_5_Columns[\"JUL\"] + Retread_295_slash_75R22_point_5_Columns['JUL'])\n",
    "    Bandag_Retread_AUG_TOTAL = (Retread_245_slash_70R17_point_5_Columns[\"AUG\"] + Retread_295_slash_75R22_point_5_Columns['AUG'])\n",
    "    Bandag_Retread_SEPT_TOTAL = (Retread_245_slash_70R17_point_5_Columns[\"SEPT\"] + Retread_295_slash_75R22_point_5_Columns['SEPT'])\n",
    "    Bandag_Retread_OCT_TOTAL = (Retread_245_slash_70R17_point_5_Columns[\"OCT\"] + Retread_295_slash_75R22_point_5_Columns['OCT'])\n",
    "    Bandag_Retread_NOV_TOTAL = (Retread_245_slash_70R17_point_5_Columns[\"NOV\"] + Retread_295_slash_75R22_point_5_Columns['NOV'])\n",
    "    Bandag_Retread_DEC_TOTAL = (Retread_245_slash_70R17_point_5_Columns[\"DEC\"] + Retread_295_slash_75R22_point_5_Columns['DEC'])\n",
    "\n",
    "    # RETREAD & CASING\n",
    "    Retread_and_Casing_YTD_TOTAL = Retread_PLUS_CASING_10_point_00_dash_20_Columns[\"YTD\"] + Retread_PLUS_CASING_11R22_point_5_Columns[\"YTD\"] + Retread_PLUS_CASING_295_slash_75R22_point_5_Columns['YTD']\n",
    "    Retread_and_Casing_JAN_TOTAL = Retread_PLUS_CASING_10_point_00_dash_20_Columns[\"JAN\"] + Retread_PLUS_CASING_11R22_point_5_Columns[\"JAN\"] + Retread_PLUS_CASING_295_slash_75R22_point_5_Columns['JAN']\n",
    "    Retread_and_Casing_FEB_TOTAL = Retread_PLUS_CASING_10_point_00_dash_20_Columns[\"FEB\"] + Retread_PLUS_CASING_11R22_point_5_Columns[\"FEB\"] + Retread_PLUS_CASING_295_slash_75R22_point_5_Columns['FEB']\n",
    "    Retread_and_Casing_MAR_TOTAL = Retread_PLUS_CASING_10_point_00_dash_20_Columns[\"MAR\"] + Retread_PLUS_CASING_11R22_point_5_Columns[\"MAR\"] + Retread_PLUS_CASING_295_slash_75R22_point_5_Columns['MAR']\n",
    "    Retread_and_Casing_APR_TOTAL = Retread_PLUS_CASING_10_point_00_dash_20_Columns[\"APR\"] + Retread_PLUS_CASING_11R22_point_5_Columns[\"APR\"] + Retread_PLUS_CASING_295_slash_75R22_point_5_Columns['APR']\n",
    "    Retread_and_Casing_MAY_TOTAL = Retread_PLUS_CASING_10_point_00_dash_20_Columns[\"MAY\"] + Retread_PLUS_CASING_11R22_point_5_Columns[\"MAY\"] + Retread_PLUS_CASING_295_slash_75R22_point_5_Columns['MAY']\n",
    "    Retread_and_Casing_JUN_TOTAL = Retread_PLUS_CASING_10_point_00_dash_20_Columns[\"JUN\"] + Retread_PLUS_CASING_11R22_point_5_Columns[\"JUN\"] + Retread_PLUS_CASING_295_slash_75R22_point_5_Columns['JUN']\n",
    "    Retread_and_Casing_JUL_TOTAL = Retread_PLUS_CASING_10_point_00_dash_20_Columns[\"JUL\"] + Retread_PLUS_CASING_11R22_point_5_Columns[\"JUL\"] + Retread_PLUS_CASING_295_slash_75R22_point_5_Columns['JUL']\n",
    "    Retread_and_Casing_AUG_TOTAL = Retread_PLUS_CASING_10_point_00_dash_20_Columns[\"AUG\"] + Retread_PLUS_CASING_11R22_point_5_Columns[\"AUG\"] + Retread_PLUS_CASING_295_slash_75R22_point_5_Columns['AUG']\n",
    "    Retread_and_Casing_SEPT_TOTAL = Retread_PLUS_CASING_10_point_00_dash_20_Columns[\"SEPT\"] + Retread_PLUS_CASING_11R22_point_5_Columns[\"SEPT\"] + Retread_PLUS_CASING_295_slash_75R22_point_5_Columns['SEPT']\n",
    "    Retread_and_Casing_OCT_TOTAL = Retread_PLUS_CASING_10_point_00_dash_20_Columns[\"OCT\"] + Retread_PLUS_CASING_11R22_point_5_Columns[\"OCT\"] + Retread_PLUS_CASING_295_slash_75R22_point_5_Columns['OCT']\n",
    "    Retread_and_Casing_NOV_TOTAL = Retread_PLUS_CASING_10_point_00_dash_20_Columns[\"NOV\"] + Retread_PLUS_CASING_11R22_point_5_Columns[\"NOV\"] + Retread_PLUS_CASING_295_slash_75R22_point_5_Columns['NOV']\n",
    "    Retread_and_Casing_DEC_TOTAL = Retread_PLUS_CASING_10_point_00_dash_20_Columns[\"DEC\"] +  Retread_PLUS_CASING_11R22_point_5_Columns[\"DEC\"] + Retread_PLUS_CASING_295_slash_75R22_point_5_Columns['DEC']\n",
    "\n",
    "    # BRIDGESTONE TIRES TOTALS\n",
    "    Bridgestone_YTD_TOTAL = Bridgestone_Light_Truck_Columns[\"YTD\"] + Bridgestone_225_slash_70R19_point_5_Columns[\"YTD\"] + Bridgestone_245_slash_70R17_point_5_Columns[\"YTD\"] + Bridgestone_9R22_point_5_Columns['YTD'] + Bridgestone_295_slash_75R22_point_5_Columns['YTD'] + Bridgestone_11R22_point_5_Columns['YTD'] + Bridgestone_OTHER_Columns['YTD']\n",
    "    Bridgestone_JAN_TOTAL = Bridgestone_Light_Truck_Columns[\"JAN\"] + Bridgestone_225_slash_70R19_point_5_Columns[\"JAN\"] + Bridgestone_245_slash_70R17_point_5_Columns[\"JAN\"] + Bridgestone_9R22_point_5_Columns['JAN'] + Bridgestone_295_slash_75R22_point_5_Columns['JAN'] + Bridgestone_11R22_point_5_Columns['JAN'] + Bridgestone_OTHER_Columns['JAN']\n",
    "    Bridgestone_FEB_TOTAL = Bridgestone_Light_Truck_Columns[\"FEB\"] + Bridgestone_225_slash_70R19_point_5_Columns[\"FEB\"] + Bridgestone_245_slash_70R17_point_5_Columns[\"FEB\"] + Bridgestone_9R22_point_5_Columns['FEB'] + Bridgestone_295_slash_75R22_point_5_Columns['FEB'] + Bridgestone_11R22_point_5_Columns['FEB'] + Bridgestone_OTHER_Columns['FEB']\n",
    "    Bridgestone_MAR_TOTAL = Bridgestone_Light_Truck_Columns[\"MAR\"] + Bridgestone_225_slash_70R19_point_5_Columns[\"MAR\"] + Bridgestone_245_slash_70R17_point_5_Columns[\"MAR\"] + Bridgestone_9R22_point_5_Columns['MAR'] + Bridgestone_295_slash_75R22_point_5_Columns['MAR'] + Bridgestone_11R22_point_5_Columns['MAR'] + Bridgestone_OTHER_Columns['MAR']\n",
    "    Bridgestone_APR_TOTAL = Bridgestone_Light_Truck_Columns[\"APR\"] + Bridgestone_225_slash_70R19_point_5_Columns[\"APR\"] + Bridgestone_245_slash_70R17_point_5_Columns[\"APR\"] + Bridgestone_9R22_point_5_Columns['APR'] + Bridgestone_295_slash_75R22_point_5_Columns['APR'] + Bridgestone_11R22_point_5_Columns['APR'] + Bridgestone_OTHER_Columns['APR']\n",
    "    Bridgestone_MAY_TOTAL = Bridgestone_Light_Truck_Columns[\"MAY\"] + Bridgestone_225_slash_70R19_point_5_Columns[\"MAY\"] + Bridgestone_245_slash_70R17_point_5_Columns[\"MAY\"] + Bridgestone_9R22_point_5_Columns['MAY'] + Bridgestone_295_slash_75R22_point_5_Columns['MAY'] + Bridgestone_11R22_point_5_Columns['MAY'] + Bridgestone_OTHER_Columns['MAY']\n",
    "    Bridgestone_JUN_TOTAL = Bridgestone_Light_Truck_Columns[\"JUN\"] + Bridgestone_225_slash_70R19_point_5_Columns[\"JUN\"] + Bridgestone_245_slash_70R17_point_5_Columns[\"JUN\"] + Bridgestone_9R22_point_5_Columns['JUN'] + Bridgestone_295_slash_75R22_point_5_Columns['JUN'] + Bridgestone_11R22_point_5_Columns['JUN'] + Bridgestone_OTHER_Columns['JUN']\n",
    "    Bridgestone_JUL_TOTAL = Bridgestone_Light_Truck_Columns[\"JUL\"] + Bridgestone_225_slash_70R19_point_5_Columns[\"JUL\"] + Bridgestone_245_slash_70R17_point_5_Columns[\"JUL\"] + Bridgestone_9R22_point_5_Columns['JUL'] + Bridgestone_295_slash_75R22_point_5_Columns['JUL'] + Bridgestone_11R22_point_5_Columns['JUL'] + Bridgestone_OTHER_Columns['JUL']\n",
    "    Bridgestone_AUG_TOTAL = Bridgestone_Light_Truck_Columns[\"AUG\"] + Bridgestone_225_slash_70R19_point_5_Columns[\"AUG\"] + Bridgestone_245_slash_70R17_point_5_Columns[\"AUG\"] + Bridgestone_9R22_point_5_Columns['AUG'] + Bridgestone_295_slash_75R22_point_5_Columns['AUG'] + Bridgestone_11R22_point_5_Columns['AUG'] + Bridgestone_OTHER_Columns['AUG']\n",
    "    Bridgestone_SEPT_TOTAL = Bridgestone_Light_Truck_Columns[\"SEPT\"] + Bridgestone_225_slash_70R19_point_5_Columns[\"SEPT\"] + Bridgestone_245_slash_70R17_point_5_Columns[\"SEPT\"] + Bridgestone_9R22_point_5_Columns['SEPT'] + Bridgestone_295_slash_75R22_point_5_Columns['SEPT'] + Bridgestone_11R22_point_5_Columns['SEPT'] + Bridgestone_OTHER_Columns['SEPT']\n",
    "    Bridgestone_OCT_TOTAL = Bridgestone_Light_Truck_Columns[\"OCT\"] + Bridgestone_225_slash_70R19_point_5_Columns[\"OCT\"] + Bridgestone_245_slash_70R17_point_5_Columns[\"OCT\"] + Bridgestone_9R22_point_5_Columns['OCT'] + Bridgestone_295_slash_75R22_point_5_Columns['OCT'] + Bridgestone_11R22_point_5_Columns['OCT'] + Bridgestone_OTHER_Columns['OCT']\n",
    "    Bridgestone_NOV_TOTAL = Bridgestone_Light_Truck_Columns[\"NOV\"] + Bridgestone_225_slash_70R19_point_5_Columns[\"NOV\"] + Bridgestone_245_slash_70R17_point_5_Columns[\"NOV\"] + Bridgestone_9R22_point_5_Columns['NOV'] + Bridgestone_295_slash_75R22_point_5_Columns['NOV'] + Bridgestone_11R22_point_5_Columns['NOV'] + Bridgestone_OTHER_Columns['NOV']\n",
    "    Bridgestone_DEC_TOTAL = Bridgestone_Light_Truck_Columns[\"DEC\"] + Bridgestone_225_slash_70R19_point_5_Columns[\"DEC\"] + Bridgestone_245_slash_70R17_point_5_Columns[\"DEC\"] + Bridgestone_9R22_point_5_Columns['DEC'] + Bridgestone_295_slash_75R22_point_5_Columns['DEC'] + Bridgestone_11R22_point_5_Columns['DEC'] + Bridgestone_OTHER_Columns['DEC']\n",
    "\n",
    "    # NEW TIRES\n",
    "    New_Tires_YTD_TOTAL = Bridgestone_YTD_TOTAL + New_Tires_10_point_00_dash_20_Columns['YTD'] + New_Tires_Yokohama_New_Tires_Columns['YTD'] + New_Tires_Continental_New_Tires_Columns['YTD'] + New_Tires_Hankook_New_Tires_Columns['YTD'] + Misc_Tires_Columns[\"YTD\"]\n",
    "    New_Tires_JAN_TOTAL = Bridgestone_JAN_TOTAL + New_Tires_10_point_00_dash_20_Columns['JAN'] + New_Tires_Yokohama_New_Tires_Columns['JAN'] + New_Tires_Continental_New_Tires_Columns['JAN'] + New_Tires_Hankook_New_Tires_Columns['JAN'] + Misc_Tires_Columns[\"JAN\"]\n",
    "    New_Tires_FEB_TOTAL = Bridgestone_FEB_TOTAL + New_Tires_10_point_00_dash_20_Columns['FEB'] + New_Tires_Yokohama_New_Tires_Columns['FEB'] + New_Tires_Continental_New_Tires_Columns['FEB'] + New_Tires_Hankook_New_Tires_Columns['FEB'] + Misc_Tires_Columns[\"FEB\"]\n",
    "    New_Tires_MAR_TOTAL = Bridgestone_MAR_TOTAL + New_Tires_10_point_00_dash_20_Columns['MAR'] + New_Tires_Yokohama_New_Tires_Columns['MAR'] + New_Tires_Continental_New_Tires_Columns['MAR'] + New_Tires_Hankook_New_Tires_Columns['MAR'] + Misc_Tires_Columns[\"MAR\"]\n",
    "    New_Tires_APR_TOTAL = Bridgestone_APR_TOTAL + New_Tires_10_point_00_dash_20_Columns['APR'] + New_Tires_Yokohama_New_Tires_Columns['APR'] + New_Tires_Continental_New_Tires_Columns['APR'] + New_Tires_Hankook_New_Tires_Columns['APR'] + Misc_Tires_Columns[\"APR\"]\n",
    "    New_Tires_MAY_TOTAL = Bridgestone_MAY_TOTAL + New_Tires_10_point_00_dash_20_Columns['MAY'] + New_Tires_Yokohama_New_Tires_Columns['MAY'] + New_Tires_Continental_New_Tires_Columns['MAY'] + New_Tires_Hankook_New_Tires_Columns['MAY'] + Misc_Tires_Columns[\"MAY\"]\n",
    "    New_Tires_JUN_TOTAL = Bridgestone_JUN_TOTAL + New_Tires_10_point_00_dash_20_Columns['JUN'] + New_Tires_Yokohama_New_Tires_Columns['JUN'] + New_Tires_Continental_New_Tires_Columns['JUN'] + New_Tires_Hankook_New_Tires_Columns['JUN'] + Misc_Tires_Columns[\"JUN\"]\n",
    "    New_Tires_JUL_TOTAL = Bridgestone_JUL_TOTAL + New_Tires_10_point_00_dash_20_Columns['JUL'] + New_Tires_Yokohama_New_Tires_Columns['JUL'] + New_Tires_Continental_New_Tires_Columns['JUL'] + New_Tires_Hankook_New_Tires_Columns['JUL'] + Misc_Tires_Columns[\"JUL\"]\n",
    "    New_Tires_AUG_TOTAL = Bridgestone_AUG_TOTAL + New_Tires_10_point_00_dash_20_Columns['AUG'] + New_Tires_Yokohama_New_Tires_Columns['AUG'] + New_Tires_Continental_New_Tires_Columns['AUG'] + New_Tires_Hankook_New_Tires_Columns['AUG'] + Misc_Tires_Columns[\"AUG\"]\n",
    "    New_Tires_SEPT_TOTAL = Bridgestone_SEPT_TOTAL + New_Tires_10_point_00_dash_20_Columns['SEPT'] + New_Tires_Yokohama_New_Tires_Columns['SEPT'] + New_Tires_Continental_New_Tires_Columns['SEPT'] + New_Tires_Hankook_New_Tires_Columns['SEPT'] + Misc_Tires_Columns[\"SEPT\"]\n",
    "    New_Tires_OCT_TOTAL = Bridgestone_OCT_TOTAL +  New_Tires_10_point_00_dash_20_Columns['OCT'] + New_Tires_Yokohama_New_Tires_Columns['OCT'] + New_Tires_Continental_New_Tires_Columns['OCT'] + New_Tires_Hankook_New_Tires_Columns['OCT'] + Misc_Tires_Columns[\"OCT\"]\n",
    "    New_Tires_NOV_TOTAL = Bridgestone_NOV_TOTAL + New_Tires_10_point_00_dash_20_Columns['NOV'] + New_Tires_Yokohama_New_Tires_Columns['NOV'] + New_Tires_Continental_New_Tires_Columns['NOV'] + New_Tires_Hankook_New_Tires_Columns['NOV'] + Misc_Tires_Columns[\"NOV\"]\n",
    "    New_Tires_DEC_TOTAL = Bridgestone_DEC_TOTAL + New_Tires_10_point_00_dash_20_Columns['DEC'] + New_Tires_Yokohama_New_Tires_Columns['DEC'] + New_Tires_Continental_New_Tires_Columns['DEC'] + New_Tires_Hankook_New_Tires_Columns['DEC'] + Misc_Tires_Columns[\"DEC\"]\n",
    "\n",
    "    # OTHER NEW TIRES (BESIDES BRIDGESTONE):\n",
    "    # Other_New_Tires_YTD_TOTAL = New_Tires_YTD_TOTAL - Bridgestone_YTD_TOTAL\n",
    "    # Other_New_Tires_JAN_TOTAL = New_Tires_JAN_TOTAL - Bridgestone_JAN_TOTAL\n",
    "    # Other_New_Tires_FEB_TOTAL = New_Tires_FEB_TOTAL - Bridgestone_FEB_TOTAL\n",
    "    # Other_New_Tires_MAR_TOTAL = New_Tires_MAR_TOTAL - Bridgestone_MAR_TOTAL\n",
    "    # Other_New_Tires_APR_TOTAL = New_Tires_APR_TOTAL - Bridgestone_APR_TOTAL\n",
    "    # Other_New_Tires_MAY_TOTAL = New_Tires_MAY_TOTAL - Bridgestone_MAY_TOTAL\n",
    "    # Other_New_Tires_JUN_TOTAL = New_Tires_JUN_TOTAL - Bridgestone_JUN_TOTAL\n",
    "    # Other_New_Tires_JUL_TOTAL = New_Tires_JUL_TOTAL - Bridgestone_JUL_TOTAL\n",
    "    # Other_New_Tires_AUG_TOTAL = New_Tires_AUG_TOTAL - Bridgestone_AUG_TOTAL\n",
    "    # Other_New_Tires_SEPT_TOTAL = New_Tires_SEPT_TOTAL - Bridgestone_SEPT_TOTAL\n",
    "    # Other_New_Tires_OCT_TOTAL = New_Tires_OCT_TOTAL - Bridgestone_OCT_TOTAL\n",
    "    # Other_New_Tires_NOV_TOTAL = New_Tires_NOV_TOTAL - Bridgestone_NOV_TOTAL\n",
    "    # Other_New_Tires_DEC_TOTAL = New_Tires_DEC_TOTAL - Bridgestone_DEC_TOTAL\n",
    "\n",
    "    # NOW, with each loop through the last and current year, we'll create the Columns:\n",
    "\n",
    "    Sales_Table_df['YTD'] = [Service_YTD_TOTAL, \n",
    "                            Flat_Repair_Columns[\"YTD\"], \n",
    "                            Tire_Rotation_Columns['YTD'],\n",
    "                            Mount_and_Dismount_Columns[\"YTD\"], \n",
    "                            Service_Call_Hours_Columns[\"YTD\"], \n",
    "                            Scrap_Columns[\"YTD\"],\n",
    "                            Bandag_Retread_YTD_TOTAL,\n",
    "                            Retread_245_slash_70R17_point_5_Columns[\"YTD\"], \n",
    "                            Retread_295_slash_75R22_point_5_Columns['YTD'], \n",
    "                            Retread_and_Casing_YTD_TOTAL,\n",
    "                            Retread_PLUS_CASING_10_point_00_dash_20_Columns[\"YTD\"], \n",
    "                            Retread_PLUS_CASING_11R22_point_5_Columns[\"YTD\"], \n",
    "                            Retread_PLUS_CASING_295_slash_75R22_point_5_Columns['YTD'],\n",
    "                            Repair_Only_Columns[\"YTD\"],\n",
    "                            New_Tires_YTD_TOTAL, \n",
    "                            Bridgestone_YTD_TOTAL, \n",
    "                            Bridgestone_Light_Truck_Columns[\"YTD\"], \n",
    "                            Bridgestone_225_slash_70R19_point_5_Columns[\"YTD\"], \n",
    "                            Bridgestone_245_slash_70R17_point_5_Columns[\"YTD\"], \n",
    "                            Bridgestone_9R22_point_5_Columns['YTD'], \n",
    "                            Bridgestone_295_slash_75R22_point_5_Columns['YTD'], \n",
    "                            Bridgestone_11R22_point_5_Columns['YTD'],\n",
    "                            Bridgestone_OTHER_Columns['YTD'],\n",
    "                            New_Tires_10_point_00_dash_20_Columns['YTD'], \n",
    "                            New_Tires_Yokohama_New_Tires_Columns['YTD'], \n",
    "                            New_Tires_Continental_New_Tires_Columns['YTD'],\n",
    "                            New_Tires_Hankook_New_Tires_Columns['YTD'],\n",
    "                            Misc_Tires_Columns[\"YTD\"], \n",
    "                            New_Tires_BS_STEER_Columns['YTD'], \n",
    "                            New_Tires_BS_DRIVE_Columns['YTD'], \n",
    "                            New_Tires_BS_TRAILER_Columns['YTD']]\n",
    "\n",
    "    Sales_Table_df['JAN'] = [Service_JAN_TOTAL, \n",
    "                            Flat_Repair_Columns[\"JAN\"], \n",
    "                            Tire_Rotation_Columns['JAN'],\n",
    "                            Mount_and_Dismount_Columns[\"JAN\"], \n",
    "                            Service_Call_Hours_Columns[\"JAN\"], \n",
    "                            Scrap_Columns[\"JAN\"],\n",
    "                            Bandag_Retread_JAN_TOTAL, \n",
    "                            Retread_245_slash_70R17_point_5_Columns[\"JAN\"], \n",
    "                            Retread_295_slash_75R22_point_5_Columns['JAN'], \n",
    "                            Retread_and_Casing_JAN_TOTAL,\n",
    "                            Retread_PLUS_CASING_10_point_00_dash_20_Columns[\"JAN\"], \n",
    "                            Retread_PLUS_CASING_11R22_point_5_Columns[\"JAN\"], \n",
    "                            Retread_PLUS_CASING_295_slash_75R22_point_5_Columns['JAN'],\n",
    "                            Repair_Only_Columns[\"JAN\"],\n",
    "                            New_Tires_JAN_TOTAL, \n",
    "                            Bridgestone_JAN_TOTAL, \n",
    "                            Bridgestone_Light_Truck_Columns[\"JAN\"], \n",
    "                            Bridgestone_225_slash_70R19_point_5_Columns[\"JAN\"], \n",
    "                            Bridgestone_245_slash_70R17_point_5_Columns[\"JAN\"], \n",
    "                            Bridgestone_9R22_point_5_Columns['JAN'], \n",
    "                            Bridgestone_295_slash_75R22_point_5_Columns['JAN'], \n",
    "                            Bridgestone_11R22_point_5_Columns['JAN'],\n",
    "                            Bridgestone_OTHER_Columns['JAN'],\n",
    "                            New_Tires_10_point_00_dash_20_Columns['JAN'], \n",
    "                            New_Tires_Yokohama_New_Tires_Columns['JAN'], \n",
    "                            New_Tires_Continental_New_Tires_Columns['JAN'],\n",
    "                            New_Tires_Hankook_New_Tires_Columns['JAN'],\n",
    "                            Misc_Tires_Columns[\"JAN\"], \n",
    "                            New_Tires_BS_STEER_Columns['JAN'], \n",
    "                            New_Tires_BS_DRIVE_Columns['JAN'], \n",
    "                            New_Tires_BS_TRAILER_Columns['JAN']]\n",
    "\n",
    "    Sales_Table_df['FEB'] = [Service_FEB_TOTAL, \n",
    "                            Flat_Repair_Columns[\"FEB\"], \n",
    "                            Tire_Rotation_Columns['FEB'],\n",
    "                            Mount_and_Dismount_Columns[\"FEB\"], \n",
    "                            Service_Call_Hours_Columns[\"FEB\"], \n",
    "                            Scrap_Columns[\"FEB\"],\n",
    "                            Bandag_Retread_FEB_TOTAL, \n",
    "                            Retread_245_slash_70R17_point_5_Columns[\"FEB\"], \n",
    "                            Retread_295_slash_75R22_point_5_Columns['FEB'], \n",
    "                            Retread_and_Casing_FEB_TOTAL,\n",
    "                            Retread_PLUS_CASING_10_point_00_dash_20_Columns[\"FEB\"], \n",
    "                            Retread_PLUS_CASING_11R22_point_5_Columns[\"FEB\"], \n",
    "                            Retread_PLUS_CASING_295_slash_75R22_point_5_Columns['FEB'],\n",
    "                            Repair_Only_Columns[\"FEB\"],\n",
    "                            New_Tires_FEB_TOTAL, \n",
    "                            Bridgestone_FEB_TOTAL, \n",
    "                            Bridgestone_Light_Truck_Columns[\"FEB\"], \n",
    "                            Bridgestone_225_slash_70R19_point_5_Columns[\"FEB\"], \n",
    "                            Bridgestone_245_slash_70R17_point_5_Columns[\"FEB\"], \n",
    "                            Bridgestone_9R22_point_5_Columns['FEB'], \n",
    "                            Bridgestone_295_slash_75R22_point_5_Columns['FEB'], \n",
    "                            Bridgestone_11R22_point_5_Columns['FEB'],\n",
    "                            Bridgestone_OTHER_Columns['FEB'],\n",
    "                            New_Tires_10_point_00_dash_20_Columns['FEB'], \n",
    "                            New_Tires_Yokohama_New_Tires_Columns['FEB'], \n",
    "                            New_Tires_Continental_New_Tires_Columns['FEB'],\n",
    "                            New_Tires_Hankook_New_Tires_Columns['FEB'],\n",
    "                            Misc_Tires_Columns[\"FEB\"], \n",
    "                            New_Tires_BS_STEER_Columns['FEB'], \n",
    "                            New_Tires_BS_DRIVE_Columns['FEB'], \n",
    "                            New_Tires_BS_TRAILER_Columns['FEB']]\n",
    "\n",
    "    Sales_Table_df['MAR'] = [Service_MAR_TOTAL, \n",
    "                            Flat_Repair_Columns[\"MAR\"], \n",
    "                            Tire_Rotation_Columns['MAR'],\n",
    "                            Mount_and_Dismount_Columns[\"MAR\"], \n",
    "                            Service_Call_Hours_Columns[\"MAR\"], \n",
    "                            Scrap_Columns[\"MAR\"],\n",
    "                            Bandag_Retread_MAR_TOTAL, \n",
    "                            Retread_245_slash_70R17_point_5_Columns[\"MAR\"], \n",
    "                            Retread_295_slash_75R22_point_5_Columns['MAR'], \n",
    "                            Retread_and_Casing_MAR_TOTAL,\n",
    "                            Retread_PLUS_CASING_10_point_00_dash_20_Columns[\"MAR\"], \n",
    "                            Retread_PLUS_CASING_11R22_point_5_Columns[\"MAR\"], \n",
    "                            Retread_PLUS_CASING_295_slash_75R22_point_5_Columns['MAR'],\n",
    "                            Repair_Only_Columns[\"MAR\"],\n",
    "                            New_Tires_MAR_TOTAL, \n",
    "                            Bridgestone_MAR_TOTAL, \n",
    "                            Bridgestone_Light_Truck_Columns[\"MAR\"], \n",
    "                            Bridgestone_225_slash_70R19_point_5_Columns[\"MAR\"], \n",
    "                            Bridgestone_245_slash_70R17_point_5_Columns[\"MAR\"], \n",
    "                            Bridgestone_9R22_point_5_Columns['MAR'], \n",
    "                            Bridgestone_295_slash_75R22_point_5_Columns['MAR'], \n",
    "                            Bridgestone_11R22_point_5_Columns['MAR'],\n",
    "                            Bridgestone_OTHER_Columns['MAR'],\n",
    "                            New_Tires_10_point_00_dash_20_Columns['MAR'], \n",
    "                            New_Tires_Yokohama_New_Tires_Columns['MAR'],\n",
    "                            New_Tires_Continental_New_Tires_Columns['MAR'],\n",
    "                            New_Tires_Hankook_New_Tires_Columns['MAR'],\n",
    "                            Misc_Tires_Columns[\"MAR\"], \n",
    "                            New_Tires_BS_STEER_Columns['MAR'], \n",
    "                            New_Tires_BS_DRIVE_Columns['MAR'], \n",
    "                            New_Tires_BS_TRAILER_Columns['MAR']]\n",
    "\n",
    "    Sales_Table_df['APR'] = [Service_APR_TOTAL, \n",
    "                            Flat_Repair_Columns[\"APR\"], \n",
    "                            Tire_Rotation_Columns['APR'],\n",
    "                            Mount_and_Dismount_Columns[\"APR\"], \n",
    "                            Service_Call_Hours_Columns[\"APR\"], \n",
    "                            Scrap_Columns[\"APR\"],\n",
    "                            Bandag_Retread_APR_TOTAL, \n",
    "                            Retread_245_slash_70R17_point_5_Columns[\"APR\"], \n",
    "                            Retread_295_slash_75R22_point_5_Columns['APR'], \n",
    "                            Retread_and_Casing_APR_TOTAL,\n",
    "                            Retread_PLUS_CASING_10_point_00_dash_20_Columns[\"APR\"], \n",
    "                            Retread_PLUS_CASING_11R22_point_5_Columns[\"APR\"], \n",
    "                            Retread_PLUS_CASING_295_slash_75R22_point_5_Columns['APR'],\n",
    "                            Repair_Only_Columns[\"APR\"],\n",
    "                            New_Tires_APR_TOTAL, \n",
    "                            Bridgestone_APR_TOTAL, \n",
    "                            Bridgestone_Light_Truck_Columns[\"APR\"], \n",
    "                            Bridgestone_225_slash_70R19_point_5_Columns[\"APR\"], \n",
    "                            Bridgestone_245_slash_70R17_point_5_Columns[\"APR\"], \n",
    "                            Bridgestone_9R22_point_5_Columns['APR'], \n",
    "                            Bridgestone_295_slash_75R22_point_5_Columns['APR'], \n",
    "                            Bridgestone_OTHER_Columns['APR'],\n",
    "                            Bridgestone_11R22_point_5_Columns['APR'],\n",
    "                            New_Tires_10_point_00_dash_20_Columns['APR'], \n",
    "                            New_Tires_Yokohama_New_Tires_Columns['APR'], \n",
    "                            New_Tires_Continental_New_Tires_Columns['APR'],\n",
    "                            New_Tires_Hankook_New_Tires_Columns['APR'],\n",
    "                            Misc_Tires_Columns[\"APR\"], \n",
    "                            New_Tires_BS_STEER_Columns['APR'], \n",
    "                            New_Tires_BS_DRIVE_Columns['APR'], \n",
    "                            New_Tires_BS_TRAILER_Columns['APR']]\n",
    "\n",
    "    Sales_Table_df['MAY'] = [Service_MAY_TOTAL, \n",
    "                            Flat_Repair_Columns[\"MAY\"], \n",
    "                            Tire_Rotation_Columns['MAY'],\n",
    "                            Mount_and_Dismount_Columns[\"MAY\"], \n",
    "                            Service_Call_Hours_Columns[\"MAY\"], \n",
    "                            Scrap_Columns[\"MAY\"],\n",
    "                            Bandag_Retread_MAY_TOTAL, \n",
    "                            Retread_245_slash_70R17_point_5_Columns[\"MAY\"], \n",
    "                            Retread_295_slash_75R22_point_5_Columns['MAY'], \n",
    "                            Retread_and_Casing_MAY_TOTAL,\n",
    "                            Retread_PLUS_CASING_10_point_00_dash_20_Columns[\"MAY\"], \n",
    "                            Retread_PLUS_CASING_11R22_point_5_Columns[\"MAY\"], \n",
    "                            Retread_PLUS_CASING_295_slash_75R22_point_5_Columns['MAY'],\n",
    "                            Repair_Only_Columns[\"MAY\"],\n",
    "                            New_Tires_MAY_TOTAL, \n",
    "                            Bridgestone_MAY_TOTAL, \n",
    "                            Bridgestone_Light_Truck_Columns[\"MAY\"], \n",
    "                            Bridgestone_225_slash_70R19_point_5_Columns[\"MAY\"], \n",
    "                            Bridgestone_245_slash_70R17_point_5_Columns[\"MAY\"], \n",
    "                            Bridgestone_9R22_point_5_Columns['MAY'], \n",
    "                            Bridgestone_295_slash_75R22_point_5_Columns['MAY'], \n",
    "                            Bridgestone_11R22_point_5_Columns['MAY'],\n",
    "                            Bridgestone_OTHER_Columns['MAY'],\n",
    "                            New_Tires_10_point_00_dash_20_Columns['MAY'], \n",
    "                            New_Tires_Yokohama_New_Tires_Columns['MAY'], \n",
    "                            New_Tires_Continental_New_Tires_Columns['MAY'],\n",
    "                            New_Tires_Hankook_New_Tires_Columns['MAY'],\n",
    "                            Misc_Tires_Columns[\"MAY\"], \n",
    "                            New_Tires_BS_STEER_Columns['MAY'], \n",
    "                            New_Tires_BS_DRIVE_Columns['MAY'], \n",
    "                            New_Tires_BS_TRAILER_Columns['MAY']]\n",
    "\n",
    "    Sales_Table_df['JUN'] = [Service_JUN_TOTAL, \n",
    "                            Flat_Repair_Columns[\"JUN\"], \n",
    "                            Tire_Rotation_Columns['JUN'],\n",
    "                            Mount_and_Dismount_Columns[\"JUN\"], \n",
    "                            Service_Call_Hours_Columns[\"JUN\"], \n",
    "                            Scrap_Columns[\"JUN\"],\n",
    "                            Bandag_Retread_JUN_TOTAL, \n",
    "                            Retread_245_slash_70R17_point_5_Columns[\"JUN\"], \n",
    "                            Retread_295_slash_75R22_point_5_Columns['JUN'], \n",
    "                            Retread_and_Casing_JUN_TOTAL,\n",
    "                            Retread_PLUS_CASING_10_point_00_dash_20_Columns[\"JUN\"], \n",
    "                            Retread_PLUS_CASING_11R22_point_5_Columns[\"JUN\"], \n",
    "                            Retread_PLUS_CASING_295_slash_75R22_point_5_Columns['JUN'],\n",
    "                            Repair_Only_Columns[\"JUN\"],\n",
    "                            New_Tires_JUN_TOTAL, \n",
    "                            Bridgestone_JUN_TOTAL, \n",
    "                            Bridgestone_Light_Truck_Columns[\"JUN\"], \n",
    "                            Bridgestone_225_slash_70R19_point_5_Columns[\"JUN\"], \n",
    "                            Bridgestone_245_slash_70R17_point_5_Columns[\"JUN\"], \n",
    "                            Bridgestone_9R22_point_5_Columns['JUN'], \n",
    "                            Bridgestone_295_slash_75R22_point_5_Columns['JUN'], \n",
    "                            Bridgestone_11R22_point_5_Columns['JUN'],\n",
    "                            Bridgestone_OTHER_Columns['JUN'],\n",
    "                            New_Tires_10_point_00_dash_20_Columns['JUN'], \n",
    "                            New_Tires_Yokohama_New_Tires_Columns['JUN'], \n",
    "                            New_Tires_Continental_New_Tires_Columns['JUN'],\n",
    "                            New_Tires_Hankook_New_Tires_Columns['JUN'],\n",
    "                            Misc_Tires_Columns[\"JUN\"], \n",
    "                            New_Tires_BS_STEER_Columns['JUN'], \n",
    "                            New_Tires_BS_DRIVE_Columns['JUN'], \n",
    "                            New_Tires_BS_TRAILER_Columns['JUN']]\n",
    "\n",
    "    Sales_Table_df['JUL'] = [Service_JUL_TOTAL, \n",
    "                            Flat_Repair_Columns[\"JUL\"], \n",
    "                            Tire_Rotation_Columns['JUL'],\n",
    "                            Mount_and_Dismount_Columns[\"JUL\"], \n",
    "                            Service_Call_Hours_Columns[\"JUL\"], \n",
    "                            Scrap_Columns[\"JUL\"],\n",
    "                            Bandag_Retread_JUL_TOTAL, \n",
    "                            Retread_245_slash_70R17_point_5_Columns[\"JUL\"], \n",
    "                            Retread_295_slash_75R22_point_5_Columns['JUL'], \n",
    "                            Retread_and_Casing_JUL_TOTAL,\n",
    "                            Retread_PLUS_CASING_10_point_00_dash_20_Columns[\"JUL\"], \n",
    "                            Retread_PLUS_CASING_11R22_point_5_Columns[\"JUL\"], \n",
    "                            Retread_PLUS_CASING_295_slash_75R22_point_5_Columns['JUL'],\n",
    "                            Repair_Only_Columns[\"JUL\"],\n",
    "                            New_Tires_JUL_TOTAL, \n",
    "                            Bridgestone_JUL_TOTAL, \n",
    "                            Bridgestone_Light_Truck_Columns[\"JUL\"], \n",
    "                            Bridgestone_225_slash_70R19_point_5_Columns[\"JUL\"], \n",
    "                            Bridgestone_245_slash_70R17_point_5_Columns[\"JUL\"], \n",
    "                            Bridgestone_9R22_point_5_Columns['JUL'], \n",
    "                            Bridgestone_295_slash_75R22_point_5_Columns['JUL'], \n",
    "                            Bridgestone_11R22_point_5_Columns['JUL'],\n",
    "                            Bridgestone_OTHER_Columns['JUL'],\n",
    "                            New_Tires_10_point_00_dash_20_Columns['JUL'], \n",
    "                            New_Tires_Yokohama_New_Tires_Columns['JUL'], \n",
    "                            New_Tires_Continental_New_Tires_Columns['JUL'],\n",
    "                            New_Tires_Hankook_New_Tires_Columns['JUL'],\n",
    "                            Misc_Tires_Columns[\"JUL\"], \n",
    "                            New_Tires_BS_STEER_Columns['JUL'], \n",
    "                            New_Tires_BS_DRIVE_Columns['JUL'], \n",
    "                            New_Tires_BS_TRAILER_Columns['JUL']]\n",
    "\n",
    "    Sales_Table_df['AUG'] = [Service_AUG_TOTAL, \n",
    "                            Flat_Repair_Columns[\"AUG\"], \n",
    "                            Tire_Rotation_Columns['AUG'],\n",
    "                            Mount_and_Dismount_Columns[\"AUG\"], \n",
    "                            Service_Call_Hours_Columns[\"AUG\"], \n",
    "                            Scrap_Columns[\"AUG\"],\n",
    "                            Bandag_Retread_AUG_TOTAL, \n",
    "                            Retread_245_slash_70R17_point_5_Columns[\"AUG\"], \n",
    "                            Retread_295_slash_75R22_point_5_Columns['AUG'], \n",
    "                            Retread_and_Casing_AUG_TOTAL,\n",
    "                            Retread_PLUS_CASING_10_point_00_dash_20_Columns[\"AUG\"], \n",
    "                            Retread_PLUS_CASING_11R22_point_5_Columns[\"AUG\"], \n",
    "                            Retread_PLUS_CASING_295_slash_75R22_point_5_Columns['AUG'],\n",
    "                            Repair_Only_Columns[\"AUG\"],\n",
    "                            New_Tires_AUG_TOTAL, \n",
    "                            Bridgestone_AUG_TOTAL, \n",
    "                            Bridgestone_Light_Truck_Columns[\"AUG\"], \n",
    "                            Bridgestone_225_slash_70R19_point_5_Columns[\"AUG\"], \n",
    "                            Bridgestone_245_slash_70R17_point_5_Columns[\"AUG\"], \n",
    "                            Bridgestone_9R22_point_5_Columns['AUG'], \n",
    "                            Bridgestone_295_slash_75R22_point_5_Columns['AUG'], \n",
    "                            Bridgestone_11R22_point_5_Columns['AUG'],\n",
    "                            Bridgestone_OTHER_Columns['AUG'],\n",
    "                            New_Tires_10_point_00_dash_20_Columns['AUG'], \n",
    "                            New_Tires_Yokohama_New_Tires_Columns['AUG'], \n",
    "                            New_Tires_Continental_New_Tires_Columns['AUG'],\n",
    "                            New_Tires_Hankook_New_Tires_Columns['AUG'],\n",
    "                            Misc_Tires_Columns[\"AUG\"], \n",
    "                            New_Tires_BS_STEER_Columns['AUG'], \n",
    "                            New_Tires_BS_DRIVE_Columns['AUG'], \n",
    "                            New_Tires_BS_TRAILER_Columns['AUG']]\n",
    "\n",
    "    Sales_Table_df['SEPT'] = [Service_SEPT_TOTAL, \n",
    "                            Flat_Repair_Columns[\"SEPT\"], \n",
    "                            Tire_Rotation_Columns['SEPT'],\n",
    "                            Mount_and_Dismount_Columns[\"SEPT\"], \n",
    "                            Service_Call_Hours_Columns[\"SEPT\"], \n",
    "                            Scrap_Columns[\"SEPT\"],\n",
    "                            Bandag_Retread_SEPT_TOTAL, \n",
    "                            Retread_245_slash_70R17_point_5_Columns[\"SEPT\"], \n",
    "                            Retread_295_slash_75R22_point_5_Columns['SEPT'], \n",
    "                            Retread_and_Casing_SEPT_TOTAL,\n",
    "                            Retread_PLUS_CASING_10_point_00_dash_20_Columns[\"SEPT\"], \n",
    "                            Retread_PLUS_CASING_11R22_point_5_Columns[\"SEPT\"], \n",
    "                            Retread_PLUS_CASING_295_slash_75R22_point_5_Columns['SEPT'],\n",
    "                            Repair_Only_Columns[\"SEPT\"],\n",
    "                            New_Tires_SEPT_TOTAL, \n",
    "                            Bridgestone_SEPT_TOTAL, \n",
    "                            Bridgestone_Light_Truck_Columns[\"SEPT\"], \n",
    "                            Bridgestone_225_slash_70R19_point_5_Columns[\"SEPT\"], \n",
    "                            Bridgestone_245_slash_70R17_point_5_Columns[\"SEPT\"], \n",
    "                            Bridgestone_9R22_point_5_Columns['SEPT'], \n",
    "                            Bridgestone_295_slash_75R22_point_5_Columns['SEPT'], \n",
    "                            Bridgestone_11R22_point_5_Columns['SEPT'],\n",
    "                            Bridgestone_OTHER_Columns['SEPT'],\n",
    "                            New_Tires_10_point_00_dash_20_Columns['SEPT'], \n",
    "                            New_Tires_Yokohama_New_Tires_Columns['SEPT'], \n",
    "                            New_Tires_Continental_New_Tires_Columns['SEPT'],\n",
    "                            New_Tires_Hankook_New_Tires_Columns['SEPT'],\n",
    "                            Misc_Tires_Columns[\"SEPT\"], \n",
    "                            New_Tires_BS_STEER_Columns['SEPT'], \n",
    "                            New_Tires_BS_DRIVE_Columns['SEPT'], \n",
    "                            New_Tires_BS_TRAILER_Columns['SEPT']]\n",
    "\n",
    "    Sales_Table_df['OCT'] = [Service_OCT_TOTAL, \n",
    "                            Flat_Repair_Columns[\"OCT\"], \n",
    "                            Tire_Rotation_Columns['OCT'],\n",
    "                            Mount_and_Dismount_Columns[\"OCT\"], \n",
    "                            Service_Call_Hours_Columns[\"OCT\"], \n",
    "                            Scrap_Columns[\"OCT\"],\n",
    "                            Bandag_Retread_OCT_TOTAL, \n",
    "                            Retread_245_slash_70R17_point_5_Columns[\"OCT\"], \n",
    "                            Retread_295_slash_75R22_point_5_Columns['OCT'], \n",
    "                            Retread_and_Casing_OCT_TOTAL,\n",
    "                            Retread_PLUS_CASING_10_point_00_dash_20_Columns[\"OCT\"], \n",
    "                            Retread_PLUS_CASING_11R22_point_5_Columns[\"OCT\"], \n",
    "                            Retread_PLUS_CASING_295_slash_75R22_point_5_Columns['OCT'],\n",
    "                            Repair_Only_Columns[\"OCT\"],\n",
    "                            New_Tires_OCT_TOTAL, \n",
    "                            Bridgestone_OCT_TOTAL, \n",
    "                            Bridgestone_Light_Truck_Columns[\"OCT\"], \n",
    "                            Bridgestone_225_slash_70R19_point_5_Columns[\"OCT\"], \n",
    "                            Bridgestone_245_slash_70R17_point_5_Columns[\"OCT\"], \n",
    "                            Bridgestone_9R22_point_5_Columns['OCT'], \n",
    "                            Bridgestone_295_slash_75R22_point_5_Columns['OCT'], \n",
    "                            Bridgestone_11R22_point_5_Columns['OCT'],\n",
    "                            Bridgestone_OTHER_Columns['OCT'],\n",
    "                            New_Tires_10_point_00_dash_20_Columns['OCT'], \n",
    "                            New_Tires_Yokohama_New_Tires_Columns['OCT'], \n",
    "                            New_Tires_Continental_New_Tires_Columns['OCT'],\n",
    "                            New_Tires_Hankook_New_Tires_Columns['OCT'],\n",
    "                            Misc_Tires_Columns[\"OCT\"], \n",
    "                            New_Tires_BS_STEER_Columns['OCT'], \n",
    "                            New_Tires_BS_DRIVE_Columns['OCT'], \n",
    "                            New_Tires_BS_TRAILER_Columns['OCT']]\n",
    "\n",
    "    Sales_Table_df['NOV'] = [Service_NOV_TOTAL, \n",
    "                            Flat_Repair_Columns[\"NOV\"], \n",
    "                            Tire_Rotation_Columns['NOV'],\n",
    "                            Mount_and_Dismount_Columns[\"NOV\"], \n",
    "                            Service_Call_Hours_Columns[\"NOV\"], \n",
    "                            Scrap_Columns[\"NOV\"],\n",
    "                            Bandag_Retread_NOV_TOTAL, \n",
    "                            Retread_245_slash_70R17_point_5_Columns[\"NOV\"], \n",
    "                            Retread_295_slash_75R22_point_5_Columns['NOV'], \n",
    "                            Retread_and_Casing_NOV_TOTAL,\n",
    "                            Retread_PLUS_CASING_10_point_00_dash_20_Columns[\"NOV\"], \n",
    "                            Retread_PLUS_CASING_11R22_point_5_Columns[\"NOV\"], \n",
    "                            Retread_PLUS_CASING_295_slash_75R22_point_5_Columns['NOV'],\n",
    "                            Repair_Only_Columns[\"NOV\"],\n",
    "                            New_Tires_NOV_TOTAL, \n",
    "                            Bridgestone_NOV_TOTAL, \n",
    "                            Bridgestone_Light_Truck_Columns[\"NOV\"], \n",
    "                            Bridgestone_225_slash_70R19_point_5_Columns[\"NOV\"], \n",
    "                            Bridgestone_245_slash_70R17_point_5_Columns[\"NOV\"], \n",
    "                            Bridgestone_9R22_point_5_Columns['NOV'], \n",
    "                            Bridgestone_295_slash_75R22_point_5_Columns['NOV'], \n",
    "                            Bridgestone_11R22_point_5_Columns['NOV'],\n",
    "                            Bridgestone_OTHER_Columns['NOV'],\n",
    "                            New_Tires_10_point_00_dash_20_Columns['NOV'], \n",
    "                            New_Tires_Yokohama_New_Tires_Columns['NOV'], \n",
    "                            New_Tires_Continental_New_Tires_Columns['NOV'],\n",
    "                            New_Tires_Hankook_New_Tires_Columns['NOV'],\n",
    "                            Misc_Tires_Columns[\"NOV\"], \n",
    "                            New_Tires_BS_STEER_Columns['NOV'], \n",
    "                            New_Tires_BS_DRIVE_Columns['NOV'], \n",
    "                            New_Tires_BS_TRAILER_Columns['NOV']]\n",
    "\n",
    "    Sales_Table_df['DEC'] = [Service_DEC_TOTAL, \n",
    "                            Flat_Repair_Columns[\"DEC\"], \n",
    "                            Tire_Rotation_Columns['DEC'],\n",
    "                            Mount_and_Dismount_Columns[\"DEC\"], \n",
    "                            Service_Call_Hours_Columns[\"DEC\"], \n",
    "                            Scrap_Columns[\"DEC\"],\n",
    "                            Bandag_Retread_DEC_TOTAL, \n",
    "                            Retread_245_slash_70R17_point_5_Columns[\"DEC\"], \n",
    "                            Retread_295_slash_75R22_point_5_Columns['DEC'], \n",
    "                            Retread_and_Casing_DEC_TOTAL,\n",
    "                            Retread_PLUS_CASING_10_point_00_dash_20_Columns[\"DEC\"], \n",
    "                            Retread_PLUS_CASING_11R22_point_5_Columns[\"DEC\"], \n",
    "                            Retread_PLUS_CASING_295_slash_75R22_point_5_Columns['DEC'],\n",
    "                            Repair_Only_Columns[\"DEC\"],\n",
    "                            New_Tires_DEC_TOTAL, \n",
    "                            Bridgestone_DEC_TOTAL, \n",
    "                            Bridgestone_Light_Truck_Columns[\"DEC\"], \n",
    "                            Bridgestone_225_slash_70R19_point_5_Columns[\"DEC\"], \n",
    "                            Bridgestone_245_slash_70R17_point_5_Columns[\"DEC\"], \n",
    "                            Bridgestone_9R22_point_5_Columns['DEC'], \n",
    "                            Bridgestone_295_slash_75R22_point_5_Columns['DEC'], \n",
    "                            Bridgestone_11R22_point_5_Columns['DEC'],\n",
    "                            Bridgestone_OTHER_Columns['DEC'],\n",
    "                            New_Tires_10_point_00_dash_20_Columns['DEC'], \n",
    "                            New_Tires_Yokohama_New_Tires_Columns['DEC'], \n",
    "                            New_Tires_Continental_New_Tires_Columns['DEC'],\n",
    "                            New_Tires_Hankook_New_Tires_Columns['DEC'],\n",
    "                            Misc_Tires_Columns[\"DEC\"], \n",
    "                            New_Tires_BS_STEER_Columns['DEC'], \n",
    "                            New_Tires_BS_DRIVE_Columns['DEC'], \n",
    "                            New_Tires_BS_TRAILER_Columns['DEC']]\n",
    "\n",
    "\n",
    "    # Save last and current year's tables:\n",
    "    if year == Last_Year:\n",
    "        Sales_Table_df.to_csv(f'CSVs/Sales_Table_df_{Last_Year}.csv', index=False)\n",
    "    elif year == Current_Year:\n",
    "        Sales_Table_df.to_csv(f'CSVs/Sales_Table_df_{Current_Year}.csv', index=False)"
   ]
  },
  {
   "cell_type": "code",
   "execution_count": 8,
   "metadata": {},
   "outputs": [
    {
     "data": {
      "text/html": [
       "<div>\n",
       "<style scoped>\n",
       "    .dataframe tbody tr th:only-of-type {\n",
       "        vertical-align: middle;\n",
       "    }\n",
       "\n",
       "    .dataframe tbody tr th {\n",
       "        vertical-align: top;\n",
       "    }\n",
       "\n",
       "    .dataframe thead th {\n",
       "        text-align: right;\n",
       "    }\n",
       "</style>\n",
       "<table border=\"1\" class=\"dataframe\">\n",
       "  <thead>\n",
       "    <tr style=\"text-align: right;\">\n",
       "      <th></th>\n",
       "      <th>Category</th>\n",
       "      <th>YTD</th>\n",
       "      <th>JAN</th>\n",
       "      <th>FEB</th>\n",
       "      <th>MAR</th>\n",
       "      <th>APR</th>\n",
       "      <th>MAY</th>\n",
       "      <th>JUN</th>\n",
       "      <th>JUL</th>\n",
       "      <th>AUG</th>\n",
       "      <th>SEPT</th>\n",
       "      <th>OCT</th>\n",
       "      <th>NOV</th>\n",
       "      <th>DEC</th>\n",
       "    </tr>\n",
       "  </thead>\n",
       "  <tbody>\n",
       "    <tr>\n",
       "      <th>0</th>\n",
       "      <td>SERVICE</td>\n",
       "      <td>10362.25</td>\n",
       "      <td>873.0</td>\n",
       "      <td>803.5</td>\n",
       "      <td>787.5</td>\n",
       "      <td>896.25</td>\n",
       "      <td>796.75</td>\n",
       "      <td>1036.0</td>\n",
       "      <td>956.0</td>\n",
       "      <td>944.0</td>\n",
       "      <td>973.5</td>\n",
       "      <td>1003.75</td>\n",
       "      <td>633.5</td>\n",
       "      <td>658.5</td>\n",
       "    </tr>\n",
       "    <tr>\n",
       "      <th>1</th>\n",
       "      <td>Flat Repair</td>\n",
       "      <td>530.00</td>\n",
       "      <td>60.0</td>\n",
       "      <td>53.0</td>\n",
       "      <td>48.0</td>\n",
       "      <td>48.00</td>\n",
       "      <td>39.00</td>\n",
       "      <td>40.0</td>\n",
       "      <td>26.0</td>\n",
       "      <td>34.0</td>\n",
       "      <td>47.0</td>\n",
       "      <td>25.00</td>\n",
       "      <td>53.0</td>\n",
       "      <td>57.0</td>\n",
       "    </tr>\n",
       "    <tr>\n",
       "      <th>2</th>\n",
       "      <td>Tire Rotation</td>\n",
       "      <td>241.00</td>\n",
       "      <td>0.0</td>\n",
       "      <td>5.0</td>\n",
       "      <td>0.0</td>\n",
       "      <td>2.00</td>\n",
       "      <td>16.00</td>\n",
       "      <td>5.0</td>\n",
       "      <td>74.0</td>\n",
       "      <td>29.0</td>\n",
       "      <td>22.0</td>\n",
       "      <td>37.00</td>\n",
       "      <td>21.0</td>\n",
       "      <td>30.0</td>\n",
       "    </tr>\n",
       "    <tr>\n",
       "      <th>3</th>\n",
       "      <td>Mount and Dismount</td>\n",
       "      <td>6716.00</td>\n",
       "      <td>748.0</td>\n",
       "      <td>613.0</td>\n",
       "      <td>539.0</td>\n",
       "      <td>657.00</td>\n",
       "      <td>488.00</td>\n",
       "      <td>621.0</td>\n",
       "      <td>528.0</td>\n",
       "      <td>524.0</td>\n",
       "      <td>569.0</td>\n",
       "      <td>620.00</td>\n",
       "      <td>383.0</td>\n",
       "      <td>426.0</td>\n",
       "    </tr>\n",
       "    <tr>\n",
       "      <th>4</th>\n",
       "      <td>Service Call Hours</td>\n",
       "      <td>1919.25</td>\n",
       "      <td>46.0</td>\n",
       "      <td>100.5</td>\n",
       "      <td>142.5</td>\n",
       "      <td>138.25</td>\n",
       "      <td>175.75</td>\n",
       "      <td>243.0</td>\n",
       "      <td>201.0</td>\n",
       "      <td>227.0</td>\n",
       "      <td>216.5</td>\n",
       "      <td>225.75</td>\n",
       "      <td>112.5</td>\n",
       "      <td>90.5</td>\n",
       "    </tr>\n",
       "    <tr>\n",
       "      <th>5</th>\n",
       "      <td>Scrap</td>\n",
       "      <td>956.00</td>\n",
       "      <td>19.0</td>\n",
       "      <td>32.0</td>\n",
       "      <td>58.0</td>\n",
       "      <td>51.00</td>\n",
       "      <td>78.00</td>\n",
       "      <td>127.0</td>\n",
       "      <td>127.0</td>\n",
       "      <td>130.0</td>\n",
       "      <td>119.0</td>\n",
       "      <td>96.00</td>\n",
       "      <td>64.0</td>\n",
       "      <td>55.0</td>\n",
       "    </tr>\n",
       "    <tr>\n",
       "      <th>6</th>\n",
       "      <td>BANDAG RETREADS</td>\n",
       "      <td>2.00</td>\n",
       "      <td>0.0</td>\n",
       "      <td>0.0</td>\n",
       "      <td>0.0</td>\n",
       "      <td>0.00</td>\n",
       "      <td>0.00</td>\n",
       "      <td>0.0</td>\n",
       "      <td>0.0</td>\n",
       "      <td>1.0</td>\n",
       "      <td>0.0</td>\n",
       "      <td>0.00</td>\n",
       "      <td>0.0</td>\n",
       "      <td>1.0</td>\n",
       "    </tr>\n",
       "    <tr>\n",
       "      <th>7</th>\n",
       "      <td>245/70R17.5 RETREAD</td>\n",
       "      <td>1.00</td>\n",
       "      <td>0.0</td>\n",
       "      <td>0.0</td>\n",
       "      <td>0.0</td>\n",
       "      <td>0.00</td>\n",
       "      <td>0.00</td>\n",
       "      <td>0.0</td>\n",
       "      <td>0.0</td>\n",
       "      <td>0.0</td>\n",
       "      <td>0.0</td>\n",
       "      <td>0.00</td>\n",
       "      <td>0.0</td>\n",
       "      <td>1.0</td>\n",
       "    </tr>\n",
       "    <tr>\n",
       "      <th>8</th>\n",
       "      <td>295/75R22.5 RETREAD</td>\n",
       "      <td>1.00</td>\n",
       "      <td>0.0</td>\n",
       "      <td>0.0</td>\n",
       "      <td>0.0</td>\n",
       "      <td>0.00</td>\n",
       "      <td>0.00</td>\n",
       "      <td>0.0</td>\n",
       "      <td>0.0</td>\n",
       "      <td>1.0</td>\n",
       "      <td>0.0</td>\n",
       "      <td>0.00</td>\n",
       "      <td>0.0</td>\n",
       "      <td>0.0</td>\n",
       "    </tr>\n",
       "    <tr>\n",
       "      <th>9</th>\n",
       "      <td>RETREAD + CASINGS</td>\n",
       "      <td>39.00</td>\n",
       "      <td>0.0</td>\n",
       "      <td>0.0</td>\n",
       "      <td>17.0</td>\n",
       "      <td>18.00</td>\n",
       "      <td>0.00</td>\n",
       "      <td>0.0</td>\n",
       "      <td>0.0</td>\n",
       "      <td>1.0</td>\n",
       "      <td>1.0</td>\n",
       "      <td>0.00</td>\n",
       "      <td>0.0</td>\n",
       "      <td>2.0</td>\n",
       "    </tr>\n",
       "    <tr>\n",
       "      <th>10</th>\n",
       "      <td>10.00-20 CAP &amp; CASING</td>\n",
       "      <td>0.00</td>\n",
       "      <td>0.0</td>\n",
       "      <td>0.0</td>\n",
       "      <td>0.0</td>\n",
       "      <td>0.00</td>\n",
       "      <td>0.00</td>\n",
       "      <td>0.0</td>\n",
       "      <td>0.0</td>\n",
       "      <td>0.0</td>\n",
       "      <td>0.0</td>\n",
       "      <td>0.00</td>\n",
       "      <td>0.0</td>\n",
       "      <td>0.0</td>\n",
       "    </tr>\n",
       "    <tr>\n",
       "      <th>11</th>\n",
       "      <td>11R22.5 CAP &amp; CASING</td>\n",
       "      <td>0.00</td>\n",
       "      <td>0.0</td>\n",
       "      <td>0.0</td>\n",
       "      <td>0.0</td>\n",
       "      <td>0.00</td>\n",
       "      <td>0.00</td>\n",
       "      <td>0.0</td>\n",
       "      <td>0.0</td>\n",
       "      <td>0.0</td>\n",
       "      <td>0.0</td>\n",
       "      <td>0.00</td>\n",
       "      <td>0.0</td>\n",
       "      <td>0.0</td>\n",
       "    </tr>\n",
       "    <tr>\n",
       "      <th>12</th>\n",
       "      <td>295/75R22.5 CAP &amp; CASING</td>\n",
       "      <td>39.00</td>\n",
       "      <td>0.0</td>\n",
       "      <td>0.0</td>\n",
       "      <td>17.0</td>\n",
       "      <td>18.00</td>\n",
       "      <td>0.00</td>\n",
       "      <td>0.0</td>\n",
       "      <td>0.0</td>\n",
       "      <td>1.0</td>\n",
       "      <td>1.0</td>\n",
       "      <td>0.00</td>\n",
       "      <td>0.0</td>\n",
       "      <td>2.0</td>\n",
       "    </tr>\n",
       "    <tr>\n",
       "      <th>13</th>\n",
       "      <td>REPAIR ONLY</td>\n",
       "      <td>0.00</td>\n",
       "      <td>0.0</td>\n",
       "      <td>0.0</td>\n",
       "      <td>0.0</td>\n",
       "      <td>0.00</td>\n",
       "      <td>0.00</td>\n",
       "      <td>0.0</td>\n",
       "      <td>0.0</td>\n",
       "      <td>0.0</td>\n",
       "      <td>0.0</td>\n",
       "      <td>0.00</td>\n",
       "      <td>0.0</td>\n",
       "      <td>0.0</td>\n",
       "    </tr>\n",
       "    <tr>\n",
       "      <th>14</th>\n",
       "      <td>NEW TIRES</td>\n",
       "      <td>66396.00</td>\n",
       "      <td>3524.0</td>\n",
       "      <td>3739.0</td>\n",
       "      <td>4518.0</td>\n",
       "      <td>4468.00</td>\n",
       "      <td>4840.00</td>\n",
       "      <td>5902.0</td>\n",
       "      <td>6443.0</td>\n",
       "      <td>6777.0</td>\n",
       "      <td>7159.0</td>\n",
       "      <td>7161.00</td>\n",
       "      <td>5862.0</td>\n",
       "      <td>6003.0</td>\n",
       "    </tr>\n",
       "    <tr>\n",
       "      <th>15</th>\n",
       "      <td>BRIDGESTONE</td>\n",
       "      <td>4888.00</td>\n",
       "      <td>468.0</td>\n",
       "      <td>372.0</td>\n",
       "      <td>307.0</td>\n",
       "      <td>439.00</td>\n",
       "      <td>349.00</td>\n",
       "      <td>478.0</td>\n",
       "      <td>456.0</td>\n",
       "      <td>388.0</td>\n",
       "      <td>478.0</td>\n",
       "      <td>504.00</td>\n",
       "      <td>334.0</td>\n",
       "      <td>315.0</td>\n",
       "    </tr>\n",
       "    <tr>\n",
       "      <th>16</th>\n",
       "      <td>Light Truck BRIDGESTONE</td>\n",
       "      <td>0.00</td>\n",
       "      <td>0.0</td>\n",
       "      <td>0.0</td>\n",
       "      <td>0.0</td>\n",
       "      <td>0.00</td>\n",
       "      <td>0.00</td>\n",
       "      <td>0.0</td>\n",
       "      <td>0.0</td>\n",
       "      <td>0.0</td>\n",
       "      <td>0.0</td>\n",
       "      <td>0.00</td>\n",
       "      <td>0.0</td>\n",
       "      <td>0.0</td>\n",
       "    </tr>\n",
       "    <tr>\n",
       "      <th>17</th>\n",
       "      <td>225/70R19.5 BRIDGESTONE</td>\n",
       "      <td>7.00</td>\n",
       "      <td>0.0</td>\n",
       "      <td>0.0</td>\n",
       "      <td>0.0</td>\n",
       "      <td>2.00</td>\n",
       "      <td>1.00</td>\n",
       "      <td>0.0</td>\n",
       "      <td>0.0</td>\n",
       "      <td>0.0</td>\n",
       "      <td>0.0</td>\n",
       "      <td>4.00</td>\n",
       "      <td>0.0</td>\n",
       "      <td>0.0</td>\n",
       "    </tr>\n",
       "    <tr>\n",
       "      <th>18</th>\n",
       "      <td>245/70R17.5 BRIDGESTONE</td>\n",
       "      <td>1375.00</td>\n",
       "      <td>105.0</td>\n",
       "      <td>92.0</td>\n",
       "      <td>44.0</td>\n",
       "      <td>123.00</td>\n",
       "      <td>106.00</td>\n",
       "      <td>159.0</td>\n",
       "      <td>172.0</td>\n",
       "      <td>138.0</td>\n",
       "      <td>171.0</td>\n",
       "      <td>132.00</td>\n",
       "      <td>85.0</td>\n",
       "      <td>48.0</td>\n",
       "    </tr>\n",
       "    <tr>\n",
       "      <th>19</th>\n",
       "      <td>9R22.5 BRIDGESTONE</td>\n",
       "      <td>0.00</td>\n",
       "      <td>0.0</td>\n",
       "      <td>0.0</td>\n",
       "      <td>0.0</td>\n",
       "      <td>0.00</td>\n",
       "      <td>0.00</td>\n",
       "      <td>0.0</td>\n",
       "      <td>0.0</td>\n",
       "      <td>0.0</td>\n",
       "      <td>0.0</td>\n",
       "      <td>0.00</td>\n",
       "      <td>0.0</td>\n",
       "      <td>0.0</td>\n",
       "    </tr>\n",
       "    <tr>\n",
       "      <th>20</th>\n",
       "      <td>295/75R22.5 BRIDGESTONE</td>\n",
       "      <td>2893.00</td>\n",
       "      <td>305.0</td>\n",
       "      <td>226.0</td>\n",
       "      <td>226.0</td>\n",
       "      <td>218.00</td>\n",
       "      <td>225.00</td>\n",
       "      <td>266.0</td>\n",
       "      <td>230.0</td>\n",
       "      <td>216.0</td>\n",
       "      <td>248.0</td>\n",
       "      <td>291.00</td>\n",
       "      <td>217.0</td>\n",
       "      <td>225.0</td>\n",
       "    </tr>\n",
       "    <tr>\n",
       "      <th>21</th>\n",
       "      <td>11R22.5 BRIDGESTONE</td>\n",
       "      <td>28.00</td>\n",
       "      <td>1.0</td>\n",
       "      <td>0.0</td>\n",
       "      <td>2.0</td>\n",
       "      <td>87.00</td>\n",
       "      <td>0.00</td>\n",
       "      <td>6.0</td>\n",
       "      <td>0.0</td>\n",
       "      <td>0.0</td>\n",
       "      <td>6.0</td>\n",
       "      <td>0.00</td>\n",
       "      <td>3.0</td>\n",
       "      <td>1.0</td>\n",
       "    </tr>\n",
       "    <tr>\n",
       "      <th>22</th>\n",
       "      <td>OTHER BRIDGESTONE</td>\n",
       "      <td>585.00</td>\n",
       "      <td>57.0</td>\n",
       "      <td>54.0</td>\n",
       "      <td>35.0</td>\n",
       "      <td>9.00</td>\n",
       "      <td>17.00</td>\n",
       "      <td>47.0</td>\n",
       "      <td>54.0</td>\n",
       "      <td>34.0</td>\n",
       "      <td>53.0</td>\n",
       "      <td>77.00</td>\n",
       "      <td>29.0</td>\n",
       "      <td>41.0</td>\n",
       "    </tr>\n",
       "    <tr>\n",
       "      <th>23</th>\n",
       "      <td>10.00-20</td>\n",
       "      <td>0.00</td>\n",
       "      <td>0.0</td>\n",
       "      <td>0.0</td>\n",
       "      <td>0.0</td>\n",
       "      <td>0.00</td>\n",
       "      <td>0.00</td>\n",
       "      <td>0.0</td>\n",
       "      <td>0.0</td>\n",
       "      <td>0.0</td>\n",
       "      <td>0.0</td>\n",
       "      <td>0.00</td>\n",
       "      <td>0.0</td>\n",
       "      <td>0.0</td>\n",
       "    </tr>\n",
       "    <tr>\n",
       "      <th>24</th>\n",
       "      <td>YOKOHAMA TIRES</td>\n",
       "      <td>691.00</td>\n",
       "      <td>54.0</td>\n",
       "      <td>59.0</td>\n",
       "      <td>66.0</td>\n",
       "      <td>84.00</td>\n",
       "      <td>29.00</td>\n",
       "      <td>103.0</td>\n",
       "      <td>56.0</td>\n",
       "      <td>65.0</td>\n",
       "      <td>46.0</td>\n",
       "      <td>29.00</td>\n",
       "      <td>46.0</td>\n",
       "      <td>54.0</td>\n",
       "    </tr>\n",
       "    <tr>\n",
       "      <th>25</th>\n",
       "      <td>CONTINENTAL TIRES</td>\n",
       "      <td>116.00</td>\n",
       "      <td>16.0</td>\n",
       "      <td>2.0</td>\n",
       "      <td>4.0</td>\n",
       "      <td>4.00</td>\n",
       "      <td>7.00</td>\n",
       "      <td>22.0</td>\n",
       "      <td>15.0</td>\n",
       "      <td>25.0</td>\n",
       "      <td>11.0</td>\n",
       "      <td>10.00</td>\n",
       "      <td>0.0</td>\n",
       "      <td>0.0</td>\n",
       "    </tr>\n",
       "    <tr>\n",
       "      <th>26</th>\n",
       "      <td>HANKOOK TIRES</td>\n",
       "      <td>59754.00</td>\n",
       "      <td>2910.0</td>\n",
       "      <td>3221.0</td>\n",
       "      <td>4081.0</td>\n",
       "      <td>3825.00</td>\n",
       "      <td>4414.00</td>\n",
       "      <td>5224.0</td>\n",
       "      <td>5834.0</td>\n",
       "      <td>6228.0</td>\n",
       "      <td>6525.0</td>\n",
       "      <td>6500.00</td>\n",
       "      <td>5439.0</td>\n",
       "      <td>5553.0</td>\n",
       "    </tr>\n",
       "    <tr>\n",
       "      <th>27</th>\n",
       "      <td>MISC NEW TIRES</td>\n",
       "      <td>947.00</td>\n",
       "      <td>76.0</td>\n",
       "      <td>85.0</td>\n",
       "      <td>60.0</td>\n",
       "      <td>116.00</td>\n",
       "      <td>41.00</td>\n",
       "      <td>75.0</td>\n",
       "      <td>82.0</td>\n",
       "      <td>71.0</td>\n",
       "      <td>99.0</td>\n",
       "      <td>118.00</td>\n",
       "      <td>43.0</td>\n",
       "      <td>81.0</td>\n",
       "    </tr>\n",
       "    <tr>\n",
       "      <th>28</th>\n",
       "      <td>BS STEER-NEW TIRE</td>\n",
       "      <td>2287.00</td>\n",
       "      <td>201.0</td>\n",
       "      <td>192.0</td>\n",
       "      <td>99.0</td>\n",
       "      <td>238.00</td>\n",
       "      <td>151.00</td>\n",
       "      <td>253.0</td>\n",
       "      <td>252.0</td>\n",
       "      <td>204.0</td>\n",
       "      <td>250.0</td>\n",
       "      <td>213.00</td>\n",
       "      <td>131.0</td>\n",
       "      <td>103.0</td>\n",
       "    </tr>\n",
       "    <tr>\n",
       "      <th>29</th>\n",
       "      <td>BS DRIVE-NEW TIRE</td>\n",
       "      <td>918.00</td>\n",
       "      <td>125.0</td>\n",
       "      <td>69.0</td>\n",
       "      <td>70.0</td>\n",
       "      <td>74.00</td>\n",
       "      <td>83.00</td>\n",
       "      <td>96.0</td>\n",
       "      <td>74.0</td>\n",
       "      <td>46.0</td>\n",
       "      <td>69.0</td>\n",
       "      <td>129.00</td>\n",
       "      <td>32.0</td>\n",
       "      <td>51.0</td>\n",
       "    </tr>\n",
       "    <tr>\n",
       "      <th>30</th>\n",
       "      <td>BS TRAILER-NEW TIRE</td>\n",
       "      <td>1683.00</td>\n",
       "      <td>142.0</td>\n",
       "      <td>111.0</td>\n",
       "      <td>138.0</td>\n",
       "      <td>127.00</td>\n",
       "      <td>115.00</td>\n",
       "      <td>129.0</td>\n",
       "      <td>130.0</td>\n",
       "      <td>138.0</td>\n",
       "      <td>159.0</td>\n",
       "      <td>162.00</td>\n",
       "      <td>171.0</td>\n",
       "      <td>161.0</td>\n",
       "    </tr>\n",
       "  </tbody>\n",
       "</table>\n",
       "</div>"
      ],
      "text/plain": [
       "                    Category       YTD     JAN     FEB     MAR      APR  \\\n",
       "0                    SERVICE  10362.25   873.0   803.5   787.5   896.25   \n",
       "1                Flat Repair    530.00    60.0    53.0    48.0    48.00   \n",
       "2              Tire Rotation    241.00     0.0     5.0     0.0     2.00   \n",
       "3         Mount and Dismount   6716.00   748.0   613.0   539.0   657.00   \n",
       "4         Service Call Hours   1919.25    46.0   100.5   142.5   138.25   \n",
       "5                      Scrap    956.00    19.0    32.0    58.0    51.00   \n",
       "6            BANDAG RETREADS      2.00     0.0     0.0     0.0     0.00   \n",
       "7        245/70R17.5 RETREAD      1.00     0.0     0.0     0.0     0.00   \n",
       "8        295/75R22.5 RETREAD      1.00     0.0     0.0     0.0     0.00   \n",
       "9          RETREAD + CASINGS     39.00     0.0     0.0    17.0    18.00   \n",
       "10     10.00-20 CAP & CASING      0.00     0.0     0.0     0.0     0.00   \n",
       "11      11R22.5 CAP & CASING      0.00     0.0     0.0     0.0     0.00   \n",
       "12  295/75R22.5 CAP & CASING     39.00     0.0     0.0    17.0    18.00   \n",
       "13               REPAIR ONLY      0.00     0.0     0.0     0.0     0.00   \n",
       "14                 NEW TIRES  66396.00  3524.0  3739.0  4518.0  4468.00   \n",
       "15               BRIDGESTONE   4888.00   468.0   372.0   307.0   439.00   \n",
       "16   Light Truck BRIDGESTONE      0.00     0.0     0.0     0.0     0.00   \n",
       "17   225/70R19.5 BRIDGESTONE      7.00     0.0     0.0     0.0     2.00   \n",
       "18   245/70R17.5 BRIDGESTONE   1375.00   105.0    92.0    44.0   123.00   \n",
       "19        9R22.5 BRIDGESTONE      0.00     0.0     0.0     0.0     0.00   \n",
       "20   295/75R22.5 BRIDGESTONE   2893.00   305.0   226.0   226.0   218.00   \n",
       "21       11R22.5 BRIDGESTONE     28.00     1.0     0.0     2.0    87.00   \n",
       "22         OTHER BRIDGESTONE    585.00    57.0    54.0    35.0     9.00   \n",
       "23                  10.00-20      0.00     0.0     0.0     0.0     0.00   \n",
       "24            YOKOHAMA TIRES    691.00    54.0    59.0    66.0    84.00   \n",
       "25         CONTINENTAL TIRES    116.00    16.0     2.0     4.0     4.00   \n",
       "26             HANKOOK TIRES  59754.00  2910.0  3221.0  4081.0  3825.00   \n",
       "27            MISC NEW TIRES    947.00    76.0    85.0    60.0   116.00   \n",
       "28         BS STEER-NEW TIRE   2287.00   201.0   192.0    99.0   238.00   \n",
       "29         BS DRIVE-NEW TIRE    918.00   125.0    69.0    70.0    74.00   \n",
       "30       BS TRAILER-NEW TIRE   1683.00   142.0   111.0   138.0   127.00   \n",
       "\n",
       "        MAY     JUN     JUL     AUG    SEPT      OCT     NOV     DEC  \n",
       "0    796.75  1036.0   956.0   944.0   973.5  1003.75   633.5   658.5  \n",
       "1     39.00    40.0    26.0    34.0    47.0    25.00    53.0    57.0  \n",
       "2     16.00     5.0    74.0    29.0    22.0    37.00    21.0    30.0  \n",
       "3    488.00   621.0   528.0   524.0   569.0   620.00   383.0   426.0  \n",
       "4    175.75   243.0   201.0   227.0   216.5   225.75   112.5    90.5  \n",
       "5     78.00   127.0   127.0   130.0   119.0    96.00    64.0    55.0  \n",
       "6      0.00     0.0     0.0     1.0     0.0     0.00     0.0     1.0  \n",
       "7      0.00     0.0     0.0     0.0     0.0     0.00     0.0     1.0  \n",
       "8      0.00     0.0     0.0     1.0     0.0     0.00     0.0     0.0  \n",
       "9      0.00     0.0     0.0     1.0     1.0     0.00     0.0     2.0  \n",
       "10     0.00     0.0     0.0     0.0     0.0     0.00     0.0     0.0  \n",
       "11     0.00     0.0     0.0     0.0     0.0     0.00     0.0     0.0  \n",
       "12     0.00     0.0     0.0     1.0     1.0     0.00     0.0     2.0  \n",
       "13     0.00     0.0     0.0     0.0     0.0     0.00     0.0     0.0  \n",
       "14  4840.00  5902.0  6443.0  6777.0  7159.0  7161.00  5862.0  6003.0  \n",
       "15   349.00   478.0   456.0   388.0   478.0   504.00   334.0   315.0  \n",
       "16     0.00     0.0     0.0     0.0     0.0     0.00     0.0     0.0  \n",
       "17     1.00     0.0     0.0     0.0     0.0     4.00     0.0     0.0  \n",
       "18   106.00   159.0   172.0   138.0   171.0   132.00    85.0    48.0  \n",
       "19     0.00     0.0     0.0     0.0     0.0     0.00     0.0     0.0  \n",
       "20   225.00   266.0   230.0   216.0   248.0   291.00   217.0   225.0  \n",
       "21     0.00     6.0     0.0     0.0     6.0     0.00     3.0     1.0  \n",
       "22    17.00    47.0    54.0    34.0    53.0    77.00    29.0    41.0  \n",
       "23     0.00     0.0     0.0     0.0     0.0     0.00     0.0     0.0  \n",
       "24    29.00   103.0    56.0    65.0    46.0    29.00    46.0    54.0  \n",
       "25     7.00    22.0    15.0    25.0    11.0    10.00     0.0     0.0  \n",
       "26  4414.00  5224.0  5834.0  6228.0  6525.0  6500.00  5439.0  5553.0  \n",
       "27    41.00    75.0    82.0    71.0    99.0   118.00    43.0    81.0  \n",
       "28   151.00   253.0   252.0   204.0   250.0   213.00   131.0   103.0  \n",
       "29    83.00    96.0    74.0    46.0    69.0   129.00    32.0    51.0  \n",
       "30   115.00   129.0   130.0   138.0   159.0   162.00   171.0   161.0  "
      ]
     },
     "execution_count": 8,
     "metadata": {},
     "output_type": "execute_result"
    }
   ],
   "source": [
    "Last_Year_df = pd.read_csv(f'CSVs/Sales_Table_df_{Last_Year}.csv')\n",
    "Last_Year_df"
   ]
  },
  {
   "cell_type": "code",
   "execution_count": 9,
   "metadata": {},
   "outputs": [
    {
     "data": {
      "text/html": [
       "<div>\n",
       "<style scoped>\n",
       "    .dataframe tbody tr th:only-of-type {\n",
       "        vertical-align: middle;\n",
       "    }\n",
       "\n",
       "    .dataframe tbody tr th {\n",
       "        vertical-align: top;\n",
       "    }\n",
       "\n",
       "    .dataframe thead th {\n",
       "        text-align: right;\n",
       "    }\n",
       "</style>\n",
       "<table border=\"1\" class=\"dataframe\">\n",
       "  <thead>\n",
       "    <tr style=\"text-align: right;\">\n",
       "      <th></th>\n",
       "      <th>Category</th>\n",
       "      <th>YTD</th>\n",
       "      <th>JAN</th>\n",
       "      <th>FEB</th>\n",
       "      <th>MAR</th>\n",
       "      <th>APR</th>\n",
       "      <th>MAY</th>\n",
       "      <th>JUN</th>\n",
       "      <th>JUL</th>\n",
       "      <th>AUG</th>\n",
       "      <th>SEPT</th>\n",
       "      <th>OCT</th>\n",
       "      <th>NOV</th>\n",
       "      <th>DEC</th>\n",
       "    </tr>\n",
       "  </thead>\n",
       "  <tbody>\n",
       "    <tr>\n",
       "      <th>0</th>\n",
       "      <td>SERVICE</td>\n",
       "      <td>8277.75</td>\n",
       "      <td>570.5</td>\n",
       "      <td>596.0</td>\n",
       "      <td>931.0</td>\n",
       "      <td>884.5</td>\n",
       "      <td>766.0</td>\n",
       "      <td>833.5</td>\n",
       "      <td>819.0</td>\n",
       "      <td>920.0</td>\n",
       "      <td>1038.75</td>\n",
       "      <td>918.5</td>\n",
       "      <td>0</td>\n",
       "      <td>0</td>\n",
       "    </tr>\n",
       "    <tr>\n",
       "      <th>1</th>\n",
       "      <td>Flat Repair</td>\n",
       "      <td>456.00</td>\n",
       "      <td>63.0</td>\n",
       "      <td>75.0</td>\n",
       "      <td>54.0</td>\n",
       "      <td>60.0</td>\n",
       "      <td>46.0</td>\n",
       "      <td>50.0</td>\n",
       "      <td>40.0</td>\n",
       "      <td>24.0</td>\n",
       "      <td>25.00</td>\n",
       "      <td>19.0</td>\n",
       "      <td>0</td>\n",
       "      <td>0</td>\n",
       "    </tr>\n",
       "    <tr>\n",
       "      <th>2</th>\n",
       "      <td>Tire Rotation</td>\n",
       "      <td>286.00</td>\n",
       "      <td>77.0</td>\n",
       "      <td>14.0</td>\n",
       "      <td>15.0</td>\n",
       "      <td>19.0</td>\n",
       "      <td>19.0</td>\n",
       "      <td>57.0</td>\n",
       "      <td>22.0</td>\n",
       "      <td>7.0</td>\n",
       "      <td>22.00</td>\n",
       "      <td>34.0</td>\n",
       "      <td>0</td>\n",
       "      <td>0</td>\n",
       "    </tr>\n",
       "    <tr>\n",
       "      <th>3</th>\n",
       "      <td>Mount and Dismount</td>\n",
       "      <td>4308.00</td>\n",
       "      <td>288.0</td>\n",
       "      <td>395.0</td>\n",
       "      <td>585.0</td>\n",
       "      <td>546.0</td>\n",
       "      <td>345.0</td>\n",
       "      <td>420.0</td>\n",
       "      <td>416.0</td>\n",
       "      <td>377.0</td>\n",
       "      <td>500.00</td>\n",
       "      <td>436.0</td>\n",
       "      <td>0</td>\n",
       "      <td>0</td>\n",
       "    </tr>\n",
       "    <tr>\n",
       "      <th>4</th>\n",
       "      <td>Service Call Hours</td>\n",
       "      <td>2038.75</td>\n",
       "      <td>101.5</td>\n",
       "      <td>80.0</td>\n",
       "      <td>169.0</td>\n",
       "      <td>168.5</td>\n",
       "      <td>220.0</td>\n",
       "      <td>209.5</td>\n",
       "      <td>236.0</td>\n",
       "      <td>313.0</td>\n",
       "      <td>293.75</td>\n",
       "      <td>247.5</td>\n",
       "      <td>0</td>\n",
       "      <td>0</td>\n",
       "    </tr>\n",
       "    <tr>\n",
       "      <th>5</th>\n",
       "      <td>Scrap</td>\n",
       "      <td>1189.00</td>\n",
       "      <td>41.0</td>\n",
       "      <td>32.0</td>\n",
       "      <td>108.0</td>\n",
       "      <td>91.0</td>\n",
       "      <td>136.0</td>\n",
       "      <td>97.0</td>\n",
       "      <td>105.0</td>\n",
       "      <td>199.0</td>\n",
       "      <td>198.00</td>\n",
       "      <td>182.0</td>\n",
       "      <td>0</td>\n",
       "      <td>0</td>\n",
       "    </tr>\n",
       "    <tr>\n",
       "      <th>6</th>\n",
       "      <td>BANDAG RETREADS</td>\n",
       "      <td>377.00</td>\n",
       "      <td>2.0</td>\n",
       "      <td>1.0</td>\n",
       "      <td>93.0</td>\n",
       "      <td>82.0</td>\n",
       "      <td>39.0</td>\n",
       "      <td>36.0</td>\n",
       "      <td>20.0</td>\n",
       "      <td>16.0</td>\n",
       "      <td>57.00</td>\n",
       "      <td>31.0</td>\n",
       "      <td>0</td>\n",
       "      <td>0</td>\n",
       "    </tr>\n",
       "    <tr>\n",
       "      <th>7</th>\n",
       "      <td>245/70R17.5 RETREAD</td>\n",
       "      <td>17.00</td>\n",
       "      <td>2.0</td>\n",
       "      <td>1.0</td>\n",
       "      <td>6.0</td>\n",
       "      <td>1.0</td>\n",
       "      <td>0.0</td>\n",
       "      <td>0.0</td>\n",
       "      <td>1.0</td>\n",
       "      <td>2.0</td>\n",
       "      <td>4.00</td>\n",
       "      <td>0.0</td>\n",
       "      <td>0</td>\n",
       "      <td>0</td>\n",
       "    </tr>\n",
       "    <tr>\n",
       "      <th>8</th>\n",
       "      <td>295/75R22.5 RETREAD</td>\n",
       "      <td>360.00</td>\n",
       "      <td>0.0</td>\n",
       "      <td>0.0</td>\n",
       "      <td>87.0</td>\n",
       "      <td>81.0</td>\n",
       "      <td>39.0</td>\n",
       "      <td>36.0</td>\n",
       "      <td>19.0</td>\n",
       "      <td>14.0</td>\n",
       "      <td>53.00</td>\n",
       "      <td>31.0</td>\n",
       "      <td>0</td>\n",
       "      <td>0</td>\n",
       "    </tr>\n",
       "    <tr>\n",
       "      <th>9</th>\n",
       "      <td>RETREAD + CASINGS</td>\n",
       "      <td>23.00</td>\n",
       "      <td>0.0</td>\n",
       "      <td>0.0</td>\n",
       "      <td>6.0</td>\n",
       "      <td>0.0</td>\n",
       "      <td>0.0</td>\n",
       "      <td>7.0</td>\n",
       "      <td>0.0</td>\n",
       "      <td>10.0</td>\n",
       "      <td>0.00</td>\n",
       "      <td>0.0</td>\n",
       "      <td>0</td>\n",
       "      <td>0</td>\n",
       "    </tr>\n",
       "    <tr>\n",
       "      <th>10</th>\n",
       "      <td>10.00-20 CAP &amp; CASING</td>\n",
       "      <td>0.00</td>\n",
       "      <td>0.0</td>\n",
       "      <td>0.0</td>\n",
       "      <td>0.0</td>\n",
       "      <td>0.0</td>\n",
       "      <td>0.0</td>\n",
       "      <td>0.0</td>\n",
       "      <td>0.0</td>\n",
       "      <td>0.0</td>\n",
       "      <td>0.00</td>\n",
       "      <td>0.0</td>\n",
       "      <td>0</td>\n",
       "      <td>0</td>\n",
       "    </tr>\n",
       "    <tr>\n",
       "      <th>11</th>\n",
       "      <td>11R22.5 CAP &amp; CASING</td>\n",
       "      <td>4.00</td>\n",
       "      <td>0.0</td>\n",
       "      <td>0.0</td>\n",
       "      <td>0.0</td>\n",
       "      <td>0.0</td>\n",
       "      <td>0.0</td>\n",
       "      <td>4.0</td>\n",
       "      <td>0.0</td>\n",
       "      <td>0.0</td>\n",
       "      <td>0.00</td>\n",
       "      <td>0.0</td>\n",
       "      <td>0</td>\n",
       "      <td>0</td>\n",
       "    </tr>\n",
       "    <tr>\n",
       "      <th>12</th>\n",
       "      <td>295/75R22.5 CAP &amp; CASING</td>\n",
       "      <td>19.00</td>\n",
       "      <td>0.0</td>\n",
       "      <td>0.0</td>\n",
       "      <td>6.0</td>\n",
       "      <td>0.0</td>\n",
       "      <td>0.0</td>\n",
       "      <td>3.0</td>\n",
       "      <td>0.0</td>\n",
       "      <td>10.0</td>\n",
       "      <td>0.00</td>\n",
       "      <td>0.0</td>\n",
       "      <td>0</td>\n",
       "      <td>0</td>\n",
       "    </tr>\n",
       "    <tr>\n",
       "      <th>13</th>\n",
       "      <td>REPAIR ONLY</td>\n",
       "      <td>2.00</td>\n",
       "      <td>0.0</td>\n",
       "      <td>2.0</td>\n",
       "      <td>0.0</td>\n",
       "      <td>0.0</td>\n",
       "      <td>0.0</td>\n",
       "      <td>0.0</td>\n",
       "      <td>0.0</td>\n",
       "      <td>0.0</td>\n",
       "      <td>0.00</td>\n",
       "      <td>0.0</td>\n",
       "      <td>0</td>\n",
       "      <td>0</td>\n",
       "    </tr>\n",
       "    <tr>\n",
       "      <th>14</th>\n",
       "      <td>NEW TIRES</td>\n",
       "      <td>102103.00</td>\n",
       "      <td>6182.0</td>\n",
       "      <td>5324.0</td>\n",
       "      <td>9599.0</td>\n",
       "      <td>10043.0</td>\n",
       "      <td>9234.0</td>\n",
       "      <td>11261.0</td>\n",
       "      <td>12605.0</td>\n",
       "      <td>12881.0</td>\n",
       "      <td>12565.00</td>\n",
       "      <td>12409.0</td>\n",
       "      <td>0</td>\n",
       "      <td>0</td>\n",
       "    </tr>\n",
       "    <tr>\n",
       "      <th>15</th>\n",
       "      <td>BRIDGESTONE</td>\n",
       "      <td>2332.00</td>\n",
       "      <td>209.0</td>\n",
       "      <td>265.0</td>\n",
       "      <td>352.0</td>\n",
       "      <td>274.0</td>\n",
       "      <td>227.0</td>\n",
       "      <td>144.0</td>\n",
       "      <td>146.0</td>\n",
       "      <td>232.0</td>\n",
       "      <td>254.00</td>\n",
       "      <td>229.0</td>\n",
       "      <td>0</td>\n",
       "      <td>0</td>\n",
       "    </tr>\n",
       "    <tr>\n",
       "      <th>16</th>\n",
       "      <td>Light Truck BRIDGESTONE</td>\n",
       "      <td>0.00</td>\n",
       "      <td>0.0</td>\n",
       "      <td>0.0</td>\n",
       "      <td>0.0</td>\n",
       "      <td>0.0</td>\n",
       "      <td>0.0</td>\n",
       "      <td>0.0</td>\n",
       "      <td>0.0</td>\n",
       "      <td>0.0</td>\n",
       "      <td>0.00</td>\n",
       "      <td>0.0</td>\n",
       "      <td>0</td>\n",
       "      <td>0</td>\n",
       "    </tr>\n",
       "    <tr>\n",
       "      <th>17</th>\n",
       "      <td>225/70R19.5 BRIDGESTONE</td>\n",
       "      <td>2.00</td>\n",
       "      <td>0.0</td>\n",
       "      <td>0.0</td>\n",
       "      <td>0.0</td>\n",
       "      <td>0.0</td>\n",
       "      <td>0.0</td>\n",
       "      <td>0.0</td>\n",
       "      <td>2.0</td>\n",
       "      <td>0.0</td>\n",
       "      <td>0.00</td>\n",
       "      <td>0.0</td>\n",
       "      <td>0</td>\n",
       "      <td>0</td>\n",
       "    </tr>\n",
       "    <tr>\n",
       "      <th>18</th>\n",
       "      <td>245/70R17.5 BRIDGESTONE</td>\n",
       "      <td>699.00</td>\n",
       "      <td>35.0</td>\n",
       "      <td>22.0</td>\n",
       "      <td>110.0</td>\n",
       "      <td>140.0</td>\n",
       "      <td>64.0</td>\n",
       "      <td>29.0</td>\n",
       "      <td>40.0</td>\n",
       "      <td>84.0</td>\n",
       "      <td>98.00</td>\n",
       "      <td>77.0</td>\n",
       "      <td>0</td>\n",
       "      <td>0</td>\n",
       "    </tr>\n",
       "    <tr>\n",
       "      <th>19</th>\n",
       "      <td>9R22.5 BRIDGESTONE</td>\n",
       "      <td>0.00</td>\n",
       "      <td>0.0</td>\n",
       "      <td>0.0</td>\n",
       "      <td>0.0</td>\n",
       "      <td>0.0</td>\n",
       "      <td>0.0</td>\n",
       "      <td>0.0</td>\n",
       "      <td>0.0</td>\n",
       "      <td>0.0</td>\n",
       "      <td>0.00</td>\n",
       "      <td>0.0</td>\n",
       "      <td>0</td>\n",
       "      <td>0</td>\n",
       "    </tr>\n",
       "    <tr>\n",
       "      <th>20</th>\n",
       "      <td>295/75R22.5 BRIDGESTONE</td>\n",
       "      <td>1100.00</td>\n",
       "      <td>134.0</td>\n",
       "      <td>212.0</td>\n",
       "      <td>158.0</td>\n",
       "      <td>94.0</td>\n",
       "      <td>115.0</td>\n",
       "      <td>76.0</td>\n",
       "      <td>56.0</td>\n",
       "      <td>101.0</td>\n",
       "      <td>76.00</td>\n",
       "      <td>78.0</td>\n",
       "      <td>0</td>\n",
       "      <td>0</td>\n",
       "    </tr>\n",
       "    <tr>\n",
       "      <th>21</th>\n",
       "      <td>11R22.5 BRIDGESTONE</td>\n",
       "      <td>26.00</td>\n",
       "      <td>0.0</td>\n",
       "      <td>0.0</td>\n",
       "      <td>1.0</td>\n",
       "      <td>32.0</td>\n",
       "      <td>0.0</td>\n",
       "      <td>4.0</td>\n",
       "      <td>0.0</td>\n",
       "      <td>0.0</td>\n",
       "      <td>9.00</td>\n",
       "      <td>4.0</td>\n",
       "      <td>0</td>\n",
       "      <td>0</td>\n",
       "    </tr>\n",
       "    <tr>\n",
       "      <th>22</th>\n",
       "      <td>OTHER BRIDGESTONE</td>\n",
       "      <td>505.00</td>\n",
       "      <td>40.0</td>\n",
       "      <td>31.0</td>\n",
       "      <td>83.0</td>\n",
       "      <td>8.0</td>\n",
       "      <td>48.0</td>\n",
       "      <td>35.0</td>\n",
       "      <td>48.0</td>\n",
       "      <td>47.0</td>\n",
       "      <td>71.00</td>\n",
       "      <td>70.0</td>\n",
       "      <td>0</td>\n",
       "      <td>0</td>\n",
       "    </tr>\n",
       "    <tr>\n",
       "      <th>23</th>\n",
       "      <td>10.00-20</td>\n",
       "      <td>0.00</td>\n",
       "      <td>0.0</td>\n",
       "      <td>0.0</td>\n",
       "      <td>0.0</td>\n",
       "      <td>0.0</td>\n",
       "      <td>0.0</td>\n",
       "      <td>0.0</td>\n",
       "      <td>0.0</td>\n",
       "      <td>0.0</td>\n",
       "      <td>0.00</td>\n",
       "      <td>0.0</td>\n",
       "      <td>0</td>\n",
       "      <td>0</td>\n",
       "    </tr>\n",
       "    <tr>\n",
       "      <th>24</th>\n",
       "      <td>YOKOHAMA TIRES</td>\n",
       "      <td>288.00</td>\n",
       "      <td>32.0</td>\n",
       "      <td>52.0</td>\n",
       "      <td>40.0</td>\n",
       "      <td>61.0</td>\n",
       "      <td>24.0</td>\n",
       "      <td>13.0</td>\n",
       "      <td>23.0</td>\n",
       "      <td>20.0</td>\n",
       "      <td>17.00</td>\n",
       "      <td>6.0</td>\n",
       "      <td>0</td>\n",
       "      <td>0</td>\n",
       "    </tr>\n",
       "    <tr>\n",
       "      <th>25</th>\n",
       "      <td>CONTINENTAL TIRES</td>\n",
       "      <td>956.00</td>\n",
       "      <td>0.0</td>\n",
       "      <td>1.0</td>\n",
       "      <td>6.0</td>\n",
       "      <td>8.0</td>\n",
       "      <td>65.0</td>\n",
       "      <td>164.0</td>\n",
       "      <td>122.0</td>\n",
       "      <td>147.0</td>\n",
       "      <td>224.00</td>\n",
       "      <td>219.0</td>\n",
       "      <td>0</td>\n",
       "      <td>0</td>\n",
       "    </tr>\n",
       "    <tr>\n",
       "      <th>26</th>\n",
       "      <td>HANKOOK TIRES</td>\n",
       "      <td>97565.00</td>\n",
       "      <td>5866.0</td>\n",
       "      <td>4933.0</td>\n",
       "      <td>9051.0</td>\n",
       "      <td>9609.0</td>\n",
       "      <td>8850.0</td>\n",
       "      <td>10880.0</td>\n",
       "      <td>12219.0</td>\n",
       "      <td>12360.0</td>\n",
       "      <td>11948.00</td>\n",
       "      <td>11849.0</td>\n",
       "      <td>0</td>\n",
       "      <td>0</td>\n",
       "    </tr>\n",
       "    <tr>\n",
       "      <th>27</th>\n",
       "      <td>MISC NEW TIRES</td>\n",
       "      <td>962.00</td>\n",
       "      <td>75.0</td>\n",
       "      <td>73.0</td>\n",
       "      <td>150.0</td>\n",
       "      <td>91.0</td>\n",
       "      <td>68.0</td>\n",
       "      <td>60.0</td>\n",
       "      <td>95.0</td>\n",
       "      <td>122.0</td>\n",
       "      <td>122.00</td>\n",
       "      <td>106.0</td>\n",
       "      <td>0</td>\n",
       "      <td>0</td>\n",
       "    </tr>\n",
       "    <tr>\n",
       "      <th>28</th>\n",
       "      <td>BS STEER-NEW TIRE</td>\n",
       "      <td>1300.00</td>\n",
       "      <td>75.0</td>\n",
       "      <td>65.0</td>\n",
       "      <td>205.0</td>\n",
       "      <td>198.0</td>\n",
       "      <td>114.0</td>\n",
       "      <td>71.0</td>\n",
       "      <td>102.0</td>\n",
       "      <td>153.0</td>\n",
       "      <td>168.00</td>\n",
       "      <td>149.0</td>\n",
       "      <td>0</td>\n",
       "      <td>0</td>\n",
       "    </tr>\n",
       "    <tr>\n",
       "      <th>29</th>\n",
       "      <td>BS DRIVE-NEW TIRE</td>\n",
       "      <td>445.00</td>\n",
       "      <td>30.0</td>\n",
       "      <td>46.0</td>\n",
       "      <td>70.0</td>\n",
       "      <td>30.0</td>\n",
       "      <td>46.0</td>\n",
       "      <td>34.0</td>\n",
       "      <td>19.0</td>\n",
       "      <td>30.0</td>\n",
       "      <td>78.00</td>\n",
       "      <td>62.0</td>\n",
       "      <td>0</td>\n",
       "      <td>0</td>\n",
       "    </tr>\n",
       "    <tr>\n",
       "      <th>30</th>\n",
       "      <td>BS TRAILER-NEW TIRE</td>\n",
       "      <td>583.00</td>\n",
       "      <td>104.0</td>\n",
       "      <td>154.0</td>\n",
       "      <td>77.0</td>\n",
       "      <td>46.0</td>\n",
       "      <td>67.0</td>\n",
       "      <td>35.0</td>\n",
       "      <td>25.0</td>\n",
       "      <td>49.0</td>\n",
       "      <td>8.00</td>\n",
       "      <td>18.0</td>\n",
       "      <td>0</td>\n",
       "      <td>0</td>\n",
       "    </tr>\n",
       "  </tbody>\n",
       "</table>\n",
       "</div>"
      ],
      "text/plain": [
       "                    Category        YTD     JAN     FEB     MAR      APR  \\\n",
       "0                    SERVICE    8277.75   570.5   596.0   931.0    884.5   \n",
       "1                Flat Repair     456.00    63.0    75.0    54.0     60.0   \n",
       "2              Tire Rotation     286.00    77.0    14.0    15.0     19.0   \n",
       "3         Mount and Dismount    4308.00   288.0   395.0   585.0    546.0   \n",
       "4         Service Call Hours    2038.75   101.5    80.0   169.0    168.5   \n",
       "5                      Scrap    1189.00    41.0    32.0   108.0     91.0   \n",
       "6            BANDAG RETREADS     377.00     2.0     1.0    93.0     82.0   \n",
       "7        245/70R17.5 RETREAD      17.00     2.0     1.0     6.0      1.0   \n",
       "8        295/75R22.5 RETREAD     360.00     0.0     0.0    87.0     81.0   \n",
       "9          RETREAD + CASINGS      23.00     0.0     0.0     6.0      0.0   \n",
       "10     10.00-20 CAP & CASING       0.00     0.0     0.0     0.0      0.0   \n",
       "11      11R22.5 CAP & CASING       4.00     0.0     0.0     0.0      0.0   \n",
       "12  295/75R22.5 CAP & CASING      19.00     0.0     0.0     6.0      0.0   \n",
       "13               REPAIR ONLY       2.00     0.0     2.0     0.0      0.0   \n",
       "14                 NEW TIRES  102103.00  6182.0  5324.0  9599.0  10043.0   \n",
       "15               BRIDGESTONE    2332.00   209.0   265.0   352.0    274.0   \n",
       "16   Light Truck BRIDGESTONE       0.00     0.0     0.0     0.0      0.0   \n",
       "17   225/70R19.5 BRIDGESTONE       2.00     0.0     0.0     0.0      0.0   \n",
       "18   245/70R17.5 BRIDGESTONE     699.00    35.0    22.0   110.0    140.0   \n",
       "19        9R22.5 BRIDGESTONE       0.00     0.0     0.0     0.0      0.0   \n",
       "20   295/75R22.5 BRIDGESTONE    1100.00   134.0   212.0   158.0     94.0   \n",
       "21       11R22.5 BRIDGESTONE      26.00     0.0     0.0     1.0     32.0   \n",
       "22         OTHER BRIDGESTONE     505.00    40.0    31.0    83.0      8.0   \n",
       "23                  10.00-20       0.00     0.0     0.0     0.0      0.0   \n",
       "24            YOKOHAMA TIRES     288.00    32.0    52.0    40.0     61.0   \n",
       "25         CONTINENTAL TIRES     956.00     0.0     1.0     6.0      8.0   \n",
       "26             HANKOOK TIRES   97565.00  5866.0  4933.0  9051.0   9609.0   \n",
       "27            MISC NEW TIRES     962.00    75.0    73.0   150.0     91.0   \n",
       "28         BS STEER-NEW TIRE    1300.00    75.0    65.0   205.0    198.0   \n",
       "29         BS DRIVE-NEW TIRE     445.00    30.0    46.0    70.0     30.0   \n",
       "30       BS TRAILER-NEW TIRE     583.00   104.0   154.0    77.0     46.0   \n",
       "\n",
       "       MAY      JUN      JUL      AUG      SEPT      OCT  NOV  DEC  \n",
       "0    766.0    833.5    819.0    920.0   1038.75    918.5    0    0  \n",
       "1     46.0     50.0     40.0     24.0     25.00     19.0    0    0  \n",
       "2     19.0     57.0     22.0      7.0     22.00     34.0    0    0  \n",
       "3    345.0    420.0    416.0    377.0    500.00    436.0    0    0  \n",
       "4    220.0    209.5    236.0    313.0    293.75    247.5    0    0  \n",
       "5    136.0     97.0    105.0    199.0    198.00    182.0    0    0  \n",
       "6     39.0     36.0     20.0     16.0     57.00     31.0    0    0  \n",
       "7      0.0      0.0      1.0      2.0      4.00      0.0    0    0  \n",
       "8     39.0     36.0     19.0     14.0     53.00     31.0    0    0  \n",
       "9      0.0      7.0      0.0     10.0      0.00      0.0    0    0  \n",
       "10     0.0      0.0      0.0      0.0      0.00      0.0    0    0  \n",
       "11     0.0      4.0      0.0      0.0      0.00      0.0    0    0  \n",
       "12     0.0      3.0      0.0     10.0      0.00      0.0    0    0  \n",
       "13     0.0      0.0      0.0      0.0      0.00      0.0    0    0  \n",
       "14  9234.0  11261.0  12605.0  12881.0  12565.00  12409.0    0    0  \n",
       "15   227.0    144.0    146.0    232.0    254.00    229.0    0    0  \n",
       "16     0.0      0.0      0.0      0.0      0.00      0.0    0    0  \n",
       "17     0.0      0.0      2.0      0.0      0.00      0.0    0    0  \n",
       "18    64.0     29.0     40.0     84.0     98.00     77.0    0    0  \n",
       "19     0.0      0.0      0.0      0.0      0.00      0.0    0    0  \n",
       "20   115.0     76.0     56.0    101.0     76.00     78.0    0    0  \n",
       "21     0.0      4.0      0.0      0.0      9.00      4.0    0    0  \n",
       "22    48.0     35.0     48.0     47.0     71.00     70.0    0    0  \n",
       "23     0.0      0.0      0.0      0.0      0.00      0.0    0    0  \n",
       "24    24.0     13.0     23.0     20.0     17.00      6.0    0    0  \n",
       "25    65.0    164.0    122.0    147.0    224.00    219.0    0    0  \n",
       "26  8850.0  10880.0  12219.0  12360.0  11948.00  11849.0    0    0  \n",
       "27    68.0     60.0     95.0    122.0    122.00    106.0    0    0  \n",
       "28   114.0     71.0    102.0    153.0    168.00    149.0    0    0  \n",
       "29    46.0     34.0     19.0     30.0     78.00     62.0    0    0  \n",
       "30    67.0     35.0     25.0     49.0      8.00     18.0    0    0  "
      ]
     },
     "execution_count": 9,
     "metadata": {},
     "output_type": "execute_result"
    }
   ],
   "source": [
    "Current_Year_df = pd.read_csv(f'CSVs/Sales_Table_df_{Current_Year}.csv')\n",
    "Current_Year_df"
   ]
  },
  {
   "cell_type": "code",
   "execution_count": null,
   "metadata": {},
   "outputs": [],
   "source": []
  },
  {
   "cell_type": "markdown",
   "metadata": {},
   "source": [
    "# Create the HTML Sales Table:"
   ]
  },
  {
   "cell_type": "code",
   "execution_count": 10,
   "metadata": {},
   "outputs": [
    {
     "data": {
      "text/html": [
       "<div>\n",
       "<style scoped>\n",
       "    .dataframe tbody tr th:only-of-type {\n",
       "        vertical-align: middle;\n",
       "    }\n",
       "\n",
       "    .dataframe tbody tr th {\n",
       "        vertical-align: top;\n",
       "    }\n",
       "\n",
       "    .dataframe thead th {\n",
       "        text-align: right;\n",
       "    }\n",
       "</style>\n",
       "<table border=\"1\" class=\"dataframe\">\n",
       "  <thead>\n",
       "    <tr style=\"text-align: right;\">\n",
       "      <th></th>\n",
       "      <th>Category</th>\n",
       "      <th>YTD</th>\n",
       "      <th>JAN</th>\n",
       "      <th>FEB</th>\n",
       "      <th>MAR</th>\n",
       "      <th>APR</th>\n",
       "      <th>MAY</th>\n",
       "      <th>JUN</th>\n",
       "      <th>JUL</th>\n",
       "      <th>AUG</th>\n",
       "      <th>SEPT</th>\n",
       "      <th>OCT</th>\n",
       "      <th>NOV</th>\n",
       "      <th>DEC</th>\n",
       "    </tr>\n",
       "  </thead>\n",
       "  <tbody>\n",
       "    <tr>\n",
       "      <th>0</th>\n",
       "      <td>SERVICE</td>\n",
       "      <td>8,278</td>\n",
       "      <td>570</td>\n",
       "      <td>596</td>\n",
       "      <td>931</td>\n",
       "      <td>884</td>\n",
       "      <td>766</td>\n",
       "      <td>834</td>\n",
       "      <td>819</td>\n",
       "      <td>920</td>\n",
       "      <td>1,039</td>\n",
       "      <td>918</td>\n",
       "      <td>0</td>\n",
       "      <td>0</td>\n",
       "    </tr>\n",
       "    <tr>\n",
       "      <th>1</th>\n",
       "      <td>Flat Repair</td>\n",
       "      <td>456</td>\n",
       "      <td>63</td>\n",
       "      <td>75</td>\n",
       "      <td>54</td>\n",
       "      <td>60</td>\n",
       "      <td>46</td>\n",
       "      <td>50</td>\n",
       "      <td>40</td>\n",
       "      <td>24</td>\n",
       "      <td>25</td>\n",
       "      <td>19</td>\n",
       "      <td>0</td>\n",
       "      <td>0</td>\n",
       "    </tr>\n",
       "    <tr>\n",
       "      <th>2</th>\n",
       "      <td>Tire Rotation</td>\n",
       "      <td>286</td>\n",
       "      <td>77</td>\n",
       "      <td>14</td>\n",
       "      <td>15</td>\n",
       "      <td>19</td>\n",
       "      <td>19</td>\n",
       "      <td>57</td>\n",
       "      <td>22</td>\n",
       "      <td>7</td>\n",
       "      <td>22</td>\n",
       "      <td>34</td>\n",
       "      <td>0</td>\n",
       "      <td>0</td>\n",
       "    </tr>\n",
       "    <tr>\n",
       "      <th>3</th>\n",
       "      <td>Mount and Dismount</td>\n",
       "      <td>4,308</td>\n",
       "      <td>288</td>\n",
       "      <td>395</td>\n",
       "      <td>585</td>\n",
       "      <td>546</td>\n",
       "      <td>345</td>\n",
       "      <td>420</td>\n",
       "      <td>416</td>\n",
       "      <td>377</td>\n",
       "      <td>500</td>\n",
       "      <td>436</td>\n",
       "      <td>0</td>\n",
       "      <td>0</td>\n",
       "    </tr>\n",
       "    <tr>\n",
       "      <th>4</th>\n",
       "      <td>Service Call Hours</td>\n",
       "      <td>2,039</td>\n",
       "      <td>102</td>\n",
       "      <td>80</td>\n",
       "      <td>169</td>\n",
       "      <td>168</td>\n",
       "      <td>220</td>\n",
       "      <td>210</td>\n",
       "      <td>236</td>\n",
       "      <td>313</td>\n",
       "      <td>294</td>\n",
       "      <td>248</td>\n",
       "      <td>0</td>\n",
       "      <td>0</td>\n",
       "    </tr>\n",
       "    <tr>\n",
       "      <th>5</th>\n",
       "      <td>Scrap</td>\n",
       "      <td>1,189</td>\n",
       "      <td>41</td>\n",
       "      <td>32</td>\n",
       "      <td>108</td>\n",
       "      <td>91</td>\n",
       "      <td>136</td>\n",
       "      <td>97</td>\n",
       "      <td>105</td>\n",
       "      <td>199</td>\n",
       "      <td>198</td>\n",
       "      <td>182</td>\n",
       "      <td>0</td>\n",
       "      <td>0</td>\n",
       "    </tr>\n",
       "    <tr>\n",
       "      <th>6</th>\n",
       "      <td>BANDAG RETREADS</td>\n",
       "      <td>377</td>\n",
       "      <td>2</td>\n",
       "      <td>1</td>\n",
       "      <td>93</td>\n",
       "      <td>82</td>\n",
       "      <td>39</td>\n",
       "      <td>36</td>\n",
       "      <td>20</td>\n",
       "      <td>16</td>\n",
       "      <td>57</td>\n",
       "      <td>31</td>\n",
       "      <td>0</td>\n",
       "      <td>0</td>\n",
       "    </tr>\n",
       "    <tr>\n",
       "      <th>7</th>\n",
       "      <td>245/70R17.5 RETREAD</td>\n",
       "      <td>17</td>\n",
       "      <td>2</td>\n",
       "      <td>1</td>\n",
       "      <td>6</td>\n",
       "      <td>1</td>\n",
       "      <td>0</td>\n",
       "      <td>0</td>\n",
       "      <td>1</td>\n",
       "      <td>2</td>\n",
       "      <td>4</td>\n",
       "      <td>0</td>\n",
       "      <td>0</td>\n",
       "      <td>0</td>\n",
       "    </tr>\n",
       "    <tr>\n",
       "      <th>8</th>\n",
       "      <td>295/75R22.5 RETREAD</td>\n",
       "      <td>360</td>\n",
       "      <td>0</td>\n",
       "      <td>0</td>\n",
       "      <td>87</td>\n",
       "      <td>81</td>\n",
       "      <td>39</td>\n",
       "      <td>36</td>\n",
       "      <td>19</td>\n",
       "      <td>14</td>\n",
       "      <td>53</td>\n",
       "      <td>31</td>\n",
       "      <td>0</td>\n",
       "      <td>0</td>\n",
       "    </tr>\n",
       "    <tr>\n",
       "      <th>9</th>\n",
       "      <td>RETREAD + CASINGS</td>\n",
       "      <td>23</td>\n",
       "      <td>0</td>\n",
       "      <td>0</td>\n",
       "      <td>6</td>\n",
       "      <td>0</td>\n",
       "      <td>0</td>\n",
       "      <td>7</td>\n",
       "      <td>0</td>\n",
       "      <td>10</td>\n",
       "      <td>0</td>\n",
       "      <td>0</td>\n",
       "      <td>0</td>\n",
       "      <td>0</td>\n",
       "    </tr>\n",
       "    <tr>\n",
       "      <th>10</th>\n",
       "      <td>10.00-20 CAP &amp; CASING</td>\n",
       "      <td>0</td>\n",
       "      <td>0</td>\n",
       "      <td>0</td>\n",
       "      <td>0</td>\n",
       "      <td>0</td>\n",
       "      <td>0</td>\n",
       "      <td>0</td>\n",
       "      <td>0</td>\n",
       "      <td>0</td>\n",
       "      <td>0</td>\n",
       "      <td>0</td>\n",
       "      <td>0</td>\n",
       "      <td>0</td>\n",
       "    </tr>\n",
       "    <tr>\n",
       "      <th>11</th>\n",
       "      <td>11R22.5 CAP &amp; CASING</td>\n",
       "      <td>4</td>\n",
       "      <td>0</td>\n",
       "      <td>0</td>\n",
       "      <td>0</td>\n",
       "      <td>0</td>\n",
       "      <td>0</td>\n",
       "      <td>4</td>\n",
       "      <td>0</td>\n",
       "      <td>0</td>\n",
       "      <td>0</td>\n",
       "      <td>0</td>\n",
       "      <td>0</td>\n",
       "      <td>0</td>\n",
       "    </tr>\n",
       "    <tr>\n",
       "      <th>12</th>\n",
       "      <td>295/75R22.5 CAP &amp; CASING</td>\n",
       "      <td>19</td>\n",
       "      <td>0</td>\n",
       "      <td>0</td>\n",
       "      <td>6</td>\n",
       "      <td>0</td>\n",
       "      <td>0</td>\n",
       "      <td>3</td>\n",
       "      <td>0</td>\n",
       "      <td>10</td>\n",
       "      <td>0</td>\n",
       "      <td>0</td>\n",
       "      <td>0</td>\n",
       "      <td>0</td>\n",
       "    </tr>\n",
       "    <tr>\n",
       "      <th>13</th>\n",
       "      <td>REPAIR ONLY</td>\n",
       "      <td>2</td>\n",
       "      <td>0</td>\n",
       "      <td>2</td>\n",
       "      <td>0</td>\n",
       "      <td>0</td>\n",
       "      <td>0</td>\n",
       "      <td>0</td>\n",
       "      <td>0</td>\n",
       "      <td>0</td>\n",
       "      <td>0</td>\n",
       "      <td>0</td>\n",
       "      <td>0</td>\n",
       "      <td>0</td>\n",
       "    </tr>\n",
       "    <tr>\n",
       "      <th>14</th>\n",
       "      <td>NEW TIRES</td>\n",
       "      <td>102,103</td>\n",
       "      <td>6,182</td>\n",
       "      <td>5,324</td>\n",
       "      <td>9,599</td>\n",
       "      <td>10,043</td>\n",
       "      <td>9,234</td>\n",
       "      <td>11,261</td>\n",
       "      <td>12,605</td>\n",
       "      <td>12,881</td>\n",
       "      <td>12,565</td>\n",
       "      <td>12,409</td>\n",
       "      <td>0</td>\n",
       "      <td>0</td>\n",
       "    </tr>\n",
       "    <tr>\n",
       "      <th>15</th>\n",
       "      <td>BRIDGESTONE</td>\n",
       "      <td>2,332</td>\n",
       "      <td>209</td>\n",
       "      <td>265</td>\n",
       "      <td>352</td>\n",
       "      <td>274</td>\n",
       "      <td>227</td>\n",
       "      <td>144</td>\n",
       "      <td>146</td>\n",
       "      <td>232</td>\n",
       "      <td>254</td>\n",
       "      <td>229</td>\n",
       "      <td>0</td>\n",
       "      <td>0</td>\n",
       "    </tr>\n",
       "    <tr>\n",
       "      <th>16</th>\n",
       "      <td>Light Truck BRIDGESTONE</td>\n",
       "      <td>0</td>\n",
       "      <td>0</td>\n",
       "      <td>0</td>\n",
       "      <td>0</td>\n",
       "      <td>0</td>\n",
       "      <td>0</td>\n",
       "      <td>0</td>\n",
       "      <td>0</td>\n",
       "      <td>0</td>\n",
       "      <td>0</td>\n",
       "      <td>0</td>\n",
       "      <td>0</td>\n",
       "      <td>0</td>\n",
       "    </tr>\n",
       "    <tr>\n",
       "      <th>17</th>\n",
       "      <td>225/70R19.5 BRIDGESTONE</td>\n",
       "      <td>2</td>\n",
       "      <td>0</td>\n",
       "      <td>0</td>\n",
       "      <td>0</td>\n",
       "      <td>0</td>\n",
       "      <td>0</td>\n",
       "      <td>0</td>\n",
       "      <td>2</td>\n",
       "      <td>0</td>\n",
       "      <td>0</td>\n",
       "      <td>0</td>\n",
       "      <td>0</td>\n",
       "      <td>0</td>\n",
       "    </tr>\n",
       "    <tr>\n",
       "      <th>18</th>\n",
       "      <td>245/70R17.5 BRIDGESTONE</td>\n",
       "      <td>699</td>\n",
       "      <td>35</td>\n",
       "      <td>22</td>\n",
       "      <td>110</td>\n",
       "      <td>140</td>\n",
       "      <td>64</td>\n",
       "      <td>29</td>\n",
       "      <td>40</td>\n",
       "      <td>84</td>\n",
       "      <td>98</td>\n",
       "      <td>77</td>\n",
       "      <td>0</td>\n",
       "      <td>0</td>\n",
       "    </tr>\n",
       "    <tr>\n",
       "      <th>19</th>\n",
       "      <td>9R22.5 BRIDGESTONE</td>\n",
       "      <td>0</td>\n",
       "      <td>0</td>\n",
       "      <td>0</td>\n",
       "      <td>0</td>\n",
       "      <td>0</td>\n",
       "      <td>0</td>\n",
       "      <td>0</td>\n",
       "      <td>0</td>\n",
       "      <td>0</td>\n",
       "      <td>0</td>\n",
       "      <td>0</td>\n",
       "      <td>0</td>\n",
       "      <td>0</td>\n",
       "    </tr>\n",
       "    <tr>\n",
       "      <th>20</th>\n",
       "      <td>295/75R22.5 BRIDGESTONE</td>\n",
       "      <td>1,100</td>\n",
       "      <td>134</td>\n",
       "      <td>212</td>\n",
       "      <td>158</td>\n",
       "      <td>94</td>\n",
       "      <td>115</td>\n",
       "      <td>76</td>\n",
       "      <td>56</td>\n",
       "      <td>101</td>\n",
       "      <td>76</td>\n",
       "      <td>78</td>\n",
       "      <td>0</td>\n",
       "      <td>0</td>\n",
       "    </tr>\n",
       "    <tr>\n",
       "      <th>21</th>\n",
       "      <td>11R22.5 BRIDGESTONE</td>\n",
       "      <td>26</td>\n",
       "      <td>0</td>\n",
       "      <td>0</td>\n",
       "      <td>1</td>\n",
       "      <td>32</td>\n",
       "      <td>0</td>\n",
       "      <td>4</td>\n",
       "      <td>0</td>\n",
       "      <td>0</td>\n",
       "      <td>9</td>\n",
       "      <td>4</td>\n",
       "      <td>0</td>\n",
       "      <td>0</td>\n",
       "    </tr>\n",
       "    <tr>\n",
       "      <th>22</th>\n",
       "      <td>OTHER BRIDGESTONE</td>\n",
       "      <td>505</td>\n",
       "      <td>40</td>\n",
       "      <td>31</td>\n",
       "      <td>83</td>\n",
       "      <td>8</td>\n",
       "      <td>48</td>\n",
       "      <td>35</td>\n",
       "      <td>48</td>\n",
       "      <td>47</td>\n",
       "      <td>71</td>\n",
       "      <td>70</td>\n",
       "      <td>0</td>\n",
       "      <td>0</td>\n",
       "    </tr>\n",
       "    <tr>\n",
       "      <th>23</th>\n",
       "      <td>10.00-20</td>\n",
       "      <td>0</td>\n",
       "      <td>0</td>\n",
       "      <td>0</td>\n",
       "      <td>0</td>\n",
       "      <td>0</td>\n",
       "      <td>0</td>\n",
       "      <td>0</td>\n",
       "      <td>0</td>\n",
       "      <td>0</td>\n",
       "      <td>0</td>\n",
       "      <td>0</td>\n",
       "      <td>0</td>\n",
       "      <td>0</td>\n",
       "    </tr>\n",
       "    <tr>\n",
       "      <th>24</th>\n",
       "      <td>YOKOHAMA TIRES</td>\n",
       "      <td>288</td>\n",
       "      <td>32</td>\n",
       "      <td>52</td>\n",
       "      <td>40</td>\n",
       "      <td>61</td>\n",
       "      <td>24</td>\n",
       "      <td>13</td>\n",
       "      <td>23</td>\n",
       "      <td>20</td>\n",
       "      <td>17</td>\n",
       "      <td>6</td>\n",
       "      <td>0</td>\n",
       "      <td>0</td>\n",
       "    </tr>\n",
       "    <tr>\n",
       "      <th>25</th>\n",
       "      <td>CONTINENTAL TIRES</td>\n",
       "      <td>956</td>\n",
       "      <td>0</td>\n",
       "      <td>1</td>\n",
       "      <td>6</td>\n",
       "      <td>8</td>\n",
       "      <td>65</td>\n",
       "      <td>164</td>\n",
       "      <td>122</td>\n",
       "      <td>147</td>\n",
       "      <td>224</td>\n",
       "      <td>219</td>\n",
       "      <td>0</td>\n",
       "      <td>0</td>\n",
       "    </tr>\n",
       "    <tr>\n",
       "      <th>26</th>\n",
       "      <td>HANKOOK TIRES</td>\n",
       "      <td>97,565</td>\n",
       "      <td>5,866</td>\n",
       "      <td>4,933</td>\n",
       "      <td>9,051</td>\n",
       "      <td>9,609</td>\n",
       "      <td>8,850</td>\n",
       "      <td>10,880</td>\n",
       "      <td>12,219</td>\n",
       "      <td>12,360</td>\n",
       "      <td>11,948</td>\n",
       "      <td>11,849</td>\n",
       "      <td>0</td>\n",
       "      <td>0</td>\n",
       "    </tr>\n",
       "    <tr>\n",
       "      <th>27</th>\n",
       "      <td>MISC NEW TIRES</td>\n",
       "      <td>962</td>\n",
       "      <td>75</td>\n",
       "      <td>73</td>\n",
       "      <td>150</td>\n",
       "      <td>91</td>\n",
       "      <td>68</td>\n",
       "      <td>60</td>\n",
       "      <td>95</td>\n",
       "      <td>122</td>\n",
       "      <td>122</td>\n",
       "      <td>106</td>\n",
       "      <td>0</td>\n",
       "      <td>0</td>\n",
       "    </tr>\n",
       "    <tr>\n",
       "      <th>28</th>\n",
       "      <td>BS STEER-NEW TIRE</td>\n",
       "      <td>1,300</td>\n",
       "      <td>75</td>\n",
       "      <td>65</td>\n",
       "      <td>205</td>\n",
       "      <td>198</td>\n",
       "      <td>114</td>\n",
       "      <td>71</td>\n",
       "      <td>102</td>\n",
       "      <td>153</td>\n",
       "      <td>168</td>\n",
       "      <td>149</td>\n",
       "      <td>0</td>\n",
       "      <td>0</td>\n",
       "    </tr>\n",
       "    <tr>\n",
       "      <th>29</th>\n",
       "      <td>BS DRIVE-NEW TIRE</td>\n",
       "      <td>445</td>\n",
       "      <td>30</td>\n",
       "      <td>46</td>\n",
       "      <td>70</td>\n",
       "      <td>30</td>\n",
       "      <td>46</td>\n",
       "      <td>34</td>\n",
       "      <td>19</td>\n",
       "      <td>30</td>\n",
       "      <td>78</td>\n",
       "      <td>62</td>\n",
       "      <td>0</td>\n",
       "      <td>0</td>\n",
       "    </tr>\n",
       "    <tr>\n",
       "      <th>30</th>\n",
       "      <td>BS TRAILER-NEW TIRE</td>\n",
       "      <td>583</td>\n",
       "      <td>104</td>\n",
       "      <td>154</td>\n",
       "      <td>77</td>\n",
       "      <td>46</td>\n",
       "      <td>67</td>\n",
       "      <td>35</td>\n",
       "      <td>25</td>\n",
       "      <td>49</td>\n",
       "      <td>8</td>\n",
       "      <td>18</td>\n",
       "      <td>0</td>\n",
       "      <td>0</td>\n",
       "    </tr>\n",
       "  </tbody>\n",
       "</table>\n",
       "</div>"
      ],
      "text/plain": [
       "                    Category      YTD    JAN    FEB    MAR     APR    MAY  \\\n",
       "0                    SERVICE    8,278    570    596    931     884    766   \n",
       "1                Flat Repair      456     63     75     54      60     46   \n",
       "2              Tire Rotation      286     77     14     15      19     19   \n",
       "3         Mount and Dismount    4,308    288    395    585     546    345   \n",
       "4         Service Call Hours    2,039    102     80    169     168    220   \n",
       "5                      Scrap    1,189     41     32    108      91    136   \n",
       "6            BANDAG RETREADS      377      2      1     93      82     39   \n",
       "7        245/70R17.5 RETREAD       17      2      1      6       1      0   \n",
       "8        295/75R22.5 RETREAD      360      0      0     87      81     39   \n",
       "9          RETREAD + CASINGS       23      0      0      6       0      0   \n",
       "10     10.00-20 CAP & CASING        0      0      0      0       0      0   \n",
       "11      11R22.5 CAP & CASING        4      0      0      0       0      0   \n",
       "12  295/75R22.5 CAP & CASING       19      0      0      6       0      0   \n",
       "13               REPAIR ONLY        2      0      2      0       0      0   \n",
       "14                 NEW TIRES  102,103  6,182  5,324  9,599  10,043  9,234   \n",
       "15               BRIDGESTONE    2,332    209    265    352     274    227   \n",
       "16   Light Truck BRIDGESTONE        0      0      0      0       0      0   \n",
       "17   225/70R19.5 BRIDGESTONE        2      0      0      0       0      0   \n",
       "18   245/70R17.5 BRIDGESTONE      699     35     22    110     140     64   \n",
       "19        9R22.5 BRIDGESTONE        0      0      0      0       0      0   \n",
       "20   295/75R22.5 BRIDGESTONE    1,100    134    212    158      94    115   \n",
       "21       11R22.5 BRIDGESTONE       26      0      0      1      32      0   \n",
       "22         OTHER BRIDGESTONE      505     40     31     83       8     48   \n",
       "23                  10.00-20        0      0      0      0       0      0   \n",
       "24            YOKOHAMA TIRES      288     32     52     40      61     24   \n",
       "25         CONTINENTAL TIRES      956      0      1      6       8     65   \n",
       "26             HANKOOK TIRES   97,565  5,866  4,933  9,051   9,609  8,850   \n",
       "27            MISC NEW TIRES      962     75     73    150      91     68   \n",
       "28         BS STEER-NEW TIRE    1,300     75     65    205     198    114   \n",
       "29         BS DRIVE-NEW TIRE      445     30     46     70      30     46   \n",
       "30       BS TRAILER-NEW TIRE      583    104    154     77      46     67   \n",
       "\n",
       "       JUN     JUL     AUG    SEPT     OCT NOV DEC  \n",
       "0      834     819     920   1,039     918   0   0  \n",
       "1       50      40      24      25      19   0   0  \n",
       "2       57      22       7      22      34   0   0  \n",
       "3      420     416     377     500     436   0   0  \n",
       "4      210     236     313     294     248   0   0  \n",
       "5       97     105     199     198     182   0   0  \n",
       "6       36      20      16      57      31   0   0  \n",
       "7        0       1       2       4       0   0   0  \n",
       "8       36      19      14      53      31   0   0  \n",
       "9        7       0      10       0       0   0   0  \n",
       "10       0       0       0       0       0   0   0  \n",
       "11       4       0       0       0       0   0   0  \n",
       "12       3       0      10       0       0   0   0  \n",
       "13       0       0       0       0       0   0   0  \n",
       "14  11,261  12,605  12,881  12,565  12,409   0   0  \n",
       "15     144     146     232     254     229   0   0  \n",
       "16       0       0       0       0       0   0   0  \n",
       "17       0       2       0       0       0   0   0  \n",
       "18      29      40      84      98      77   0   0  \n",
       "19       0       0       0       0       0   0   0  \n",
       "20      76      56     101      76      78   0   0  \n",
       "21       4       0       0       9       4   0   0  \n",
       "22      35      48      47      71      70   0   0  \n",
       "23       0       0       0       0       0   0   0  \n",
       "24      13      23      20      17       6   0   0  \n",
       "25     164     122     147     224     219   0   0  \n",
       "26  10,880  12,219  12,360  11,948  11,849   0   0  \n",
       "27      60      95     122     122     106   0   0  \n",
       "28      71     102     153     168     149   0   0  \n",
       "29      34      19      30      78      62   0   0  \n",
       "30      35      25      49       8      18   0   0  "
      ]
     },
     "execution_count": 10,
     "metadata": {},
     "output_type": "execute_result"
    }
   ],
   "source": [
    "Sales_df_for_html = Sales_Table_df.copy()\n",
    "\n",
    "for columns in Sales_df_for_html.iloc[:,1:].columns:\n",
    "    Sales_df_for_html[columns] = Sales_df_for_html[columns].astype(float)\n",
    "    Sales_df_for_html[columns] = Sales_df_for_html.apply(lambda x: \"{:,.0f}\".format(x[columns]), axis=1)\n",
    "\n",
    "Sales_df_for_html"
   ]
  },
  {
   "cell_type": "markdown",
   "metadata": {},
   "source": [
    "## Now add dashes to month values where time doesn't exist yet:"
   ]
  },
  {
   "cell_type": "code",
   "execution_count": 11,
   "metadata": {},
   "outputs": [
    {
     "data": {
      "text/html": [
       "<div>\n",
       "<style scoped>\n",
       "    .dataframe tbody tr th:only-of-type {\n",
       "        vertical-align: middle;\n",
       "    }\n",
       "\n",
       "    .dataframe tbody tr th {\n",
       "        vertical-align: top;\n",
       "    }\n",
       "\n",
       "    .dataframe thead th {\n",
       "        text-align: right;\n",
       "    }\n",
       "</style>\n",
       "<table border=\"1\" class=\"dataframe\">\n",
       "  <thead>\n",
       "    <tr style=\"text-align: right;\">\n",
       "      <th></th>\n",
       "      <th>Category</th>\n",
       "      <th>YTD</th>\n",
       "      <th>JAN</th>\n",
       "      <th>FEB</th>\n",
       "      <th>MAR</th>\n",
       "      <th>APR</th>\n",
       "      <th>MAY</th>\n",
       "      <th>JUN</th>\n",
       "      <th>JUL</th>\n",
       "      <th>AUG</th>\n",
       "      <th>SEPT</th>\n",
       "      <th>OCT</th>\n",
       "      <th>NOV</th>\n",
       "      <th>DEC</th>\n",
       "    </tr>\n",
       "  </thead>\n",
       "  <tbody>\n",
       "    <tr>\n",
       "      <th>0</th>\n",
       "      <td>SERVICE</td>\n",
       "      <td>8,278</td>\n",
       "      <td>570</td>\n",
       "      <td>596</td>\n",
       "      <td>931</td>\n",
       "      <td>884</td>\n",
       "      <td>766</td>\n",
       "      <td>834</td>\n",
       "      <td>819</td>\n",
       "      <td>920</td>\n",
       "      <td>1,039</td>\n",
       "      <td>918</td>\n",
       "      <td>-</td>\n",
       "      <td>-</td>\n",
       "    </tr>\n",
       "    <tr>\n",
       "      <th>1</th>\n",
       "      <td>Flat Repair</td>\n",
       "      <td>456</td>\n",
       "      <td>63</td>\n",
       "      <td>75</td>\n",
       "      <td>54</td>\n",
       "      <td>60</td>\n",
       "      <td>46</td>\n",
       "      <td>50</td>\n",
       "      <td>40</td>\n",
       "      <td>24</td>\n",
       "      <td>25</td>\n",
       "      <td>19</td>\n",
       "      <td>-</td>\n",
       "      <td>-</td>\n",
       "    </tr>\n",
       "    <tr>\n",
       "      <th>2</th>\n",
       "      <td>Tire Rotation</td>\n",
       "      <td>286</td>\n",
       "      <td>77</td>\n",
       "      <td>14</td>\n",
       "      <td>15</td>\n",
       "      <td>19</td>\n",
       "      <td>19</td>\n",
       "      <td>57</td>\n",
       "      <td>22</td>\n",
       "      <td>7</td>\n",
       "      <td>22</td>\n",
       "      <td>34</td>\n",
       "      <td>-</td>\n",
       "      <td>-</td>\n",
       "    </tr>\n",
       "    <tr>\n",
       "      <th>3</th>\n",
       "      <td>Mount and Dismount</td>\n",
       "      <td>4,308</td>\n",
       "      <td>288</td>\n",
       "      <td>395</td>\n",
       "      <td>585</td>\n",
       "      <td>546</td>\n",
       "      <td>345</td>\n",
       "      <td>420</td>\n",
       "      <td>416</td>\n",
       "      <td>377</td>\n",
       "      <td>500</td>\n",
       "      <td>436</td>\n",
       "      <td>-</td>\n",
       "      <td>-</td>\n",
       "    </tr>\n",
       "    <tr>\n",
       "      <th>4</th>\n",
       "      <td>Service Call Hours</td>\n",
       "      <td>2,039</td>\n",
       "      <td>102</td>\n",
       "      <td>80</td>\n",
       "      <td>169</td>\n",
       "      <td>168</td>\n",
       "      <td>220</td>\n",
       "      <td>210</td>\n",
       "      <td>236</td>\n",
       "      <td>313</td>\n",
       "      <td>294</td>\n",
       "      <td>248</td>\n",
       "      <td>-</td>\n",
       "      <td>-</td>\n",
       "    </tr>\n",
       "    <tr>\n",
       "      <th>5</th>\n",
       "      <td>Scrap</td>\n",
       "      <td>1,189</td>\n",
       "      <td>41</td>\n",
       "      <td>32</td>\n",
       "      <td>108</td>\n",
       "      <td>91</td>\n",
       "      <td>136</td>\n",
       "      <td>97</td>\n",
       "      <td>105</td>\n",
       "      <td>199</td>\n",
       "      <td>198</td>\n",
       "      <td>182</td>\n",
       "      <td>-</td>\n",
       "      <td>-</td>\n",
       "    </tr>\n",
       "    <tr>\n",
       "      <th>6</th>\n",
       "      <td>BANDAG RETREADS</td>\n",
       "      <td>377</td>\n",
       "      <td>2</td>\n",
       "      <td>1</td>\n",
       "      <td>93</td>\n",
       "      <td>82</td>\n",
       "      <td>39</td>\n",
       "      <td>36</td>\n",
       "      <td>20</td>\n",
       "      <td>16</td>\n",
       "      <td>57</td>\n",
       "      <td>31</td>\n",
       "      <td>-</td>\n",
       "      <td>-</td>\n",
       "    </tr>\n",
       "    <tr>\n",
       "      <th>7</th>\n",
       "      <td>245/70R17.5 RETREAD</td>\n",
       "      <td>17</td>\n",
       "      <td>2</td>\n",
       "      <td>1</td>\n",
       "      <td>6</td>\n",
       "      <td>1</td>\n",
       "      <td>0</td>\n",
       "      <td>0</td>\n",
       "      <td>1</td>\n",
       "      <td>2</td>\n",
       "      <td>4</td>\n",
       "      <td>0</td>\n",
       "      <td>-</td>\n",
       "      <td>-</td>\n",
       "    </tr>\n",
       "    <tr>\n",
       "      <th>8</th>\n",
       "      <td>295/75R22.5 RETREAD</td>\n",
       "      <td>360</td>\n",
       "      <td>0</td>\n",
       "      <td>0</td>\n",
       "      <td>87</td>\n",
       "      <td>81</td>\n",
       "      <td>39</td>\n",
       "      <td>36</td>\n",
       "      <td>19</td>\n",
       "      <td>14</td>\n",
       "      <td>53</td>\n",
       "      <td>31</td>\n",
       "      <td>-</td>\n",
       "      <td>-</td>\n",
       "    </tr>\n",
       "    <tr>\n",
       "      <th>9</th>\n",
       "      <td>RETREAD + CASINGS</td>\n",
       "      <td>23</td>\n",
       "      <td>0</td>\n",
       "      <td>0</td>\n",
       "      <td>6</td>\n",
       "      <td>0</td>\n",
       "      <td>0</td>\n",
       "      <td>7</td>\n",
       "      <td>0</td>\n",
       "      <td>10</td>\n",
       "      <td>0</td>\n",
       "      <td>0</td>\n",
       "      <td>-</td>\n",
       "      <td>-</td>\n",
       "    </tr>\n",
       "    <tr>\n",
       "      <th>10</th>\n",
       "      <td>10.00-20 CAP &amp; CASING</td>\n",
       "      <td>0</td>\n",
       "      <td>0</td>\n",
       "      <td>0</td>\n",
       "      <td>0</td>\n",
       "      <td>0</td>\n",
       "      <td>0</td>\n",
       "      <td>0</td>\n",
       "      <td>0</td>\n",
       "      <td>0</td>\n",
       "      <td>0</td>\n",
       "      <td>0</td>\n",
       "      <td>-</td>\n",
       "      <td>-</td>\n",
       "    </tr>\n",
       "    <tr>\n",
       "      <th>11</th>\n",
       "      <td>11R22.5 CAP &amp; CASING</td>\n",
       "      <td>4</td>\n",
       "      <td>0</td>\n",
       "      <td>0</td>\n",
       "      <td>0</td>\n",
       "      <td>0</td>\n",
       "      <td>0</td>\n",
       "      <td>4</td>\n",
       "      <td>0</td>\n",
       "      <td>0</td>\n",
       "      <td>0</td>\n",
       "      <td>0</td>\n",
       "      <td>-</td>\n",
       "      <td>-</td>\n",
       "    </tr>\n",
       "    <tr>\n",
       "      <th>12</th>\n",
       "      <td>295/75R22.5 CAP &amp; CASING</td>\n",
       "      <td>19</td>\n",
       "      <td>0</td>\n",
       "      <td>0</td>\n",
       "      <td>6</td>\n",
       "      <td>0</td>\n",
       "      <td>0</td>\n",
       "      <td>3</td>\n",
       "      <td>0</td>\n",
       "      <td>10</td>\n",
       "      <td>0</td>\n",
       "      <td>0</td>\n",
       "      <td>-</td>\n",
       "      <td>-</td>\n",
       "    </tr>\n",
       "    <tr>\n",
       "      <th>13</th>\n",
       "      <td>REPAIR ONLY</td>\n",
       "      <td>2</td>\n",
       "      <td>0</td>\n",
       "      <td>2</td>\n",
       "      <td>0</td>\n",
       "      <td>0</td>\n",
       "      <td>0</td>\n",
       "      <td>0</td>\n",
       "      <td>0</td>\n",
       "      <td>0</td>\n",
       "      <td>0</td>\n",
       "      <td>0</td>\n",
       "      <td>-</td>\n",
       "      <td>-</td>\n",
       "    </tr>\n",
       "    <tr>\n",
       "      <th>14</th>\n",
       "      <td>NEW TIRES</td>\n",
       "      <td>102,103</td>\n",
       "      <td>6,182</td>\n",
       "      <td>5,324</td>\n",
       "      <td>9,599</td>\n",
       "      <td>10,043</td>\n",
       "      <td>9,234</td>\n",
       "      <td>11,261</td>\n",
       "      <td>12,605</td>\n",
       "      <td>12,881</td>\n",
       "      <td>12,565</td>\n",
       "      <td>12,409</td>\n",
       "      <td>-</td>\n",
       "      <td>-</td>\n",
       "    </tr>\n",
       "    <tr>\n",
       "      <th>15</th>\n",
       "      <td>BRIDGESTONE</td>\n",
       "      <td>2,332</td>\n",
       "      <td>209</td>\n",
       "      <td>265</td>\n",
       "      <td>352</td>\n",
       "      <td>274</td>\n",
       "      <td>227</td>\n",
       "      <td>144</td>\n",
       "      <td>146</td>\n",
       "      <td>232</td>\n",
       "      <td>254</td>\n",
       "      <td>229</td>\n",
       "      <td>-</td>\n",
       "      <td>-</td>\n",
       "    </tr>\n",
       "    <tr>\n",
       "      <th>16</th>\n",
       "      <td>Light Truck BRIDGESTONE</td>\n",
       "      <td>0</td>\n",
       "      <td>0</td>\n",
       "      <td>0</td>\n",
       "      <td>0</td>\n",
       "      <td>0</td>\n",
       "      <td>0</td>\n",
       "      <td>0</td>\n",
       "      <td>0</td>\n",
       "      <td>0</td>\n",
       "      <td>0</td>\n",
       "      <td>0</td>\n",
       "      <td>-</td>\n",
       "      <td>-</td>\n",
       "    </tr>\n",
       "    <tr>\n",
       "      <th>17</th>\n",
       "      <td>225/70R19.5 BRIDGESTONE</td>\n",
       "      <td>2</td>\n",
       "      <td>0</td>\n",
       "      <td>0</td>\n",
       "      <td>0</td>\n",
       "      <td>0</td>\n",
       "      <td>0</td>\n",
       "      <td>0</td>\n",
       "      <td>2</td>\n",
       "      <td>0</td>\n",
       "      <td>0</td>\n",
       "      <td>0</td>\n",
       "      <td>-</td>\n",
       "      <td>-</td>\n",
       "    </tr>\n",
       "    <tr>\n",
       "      <th>18</th>\n",
       "      <td>245/70R17.5 BRIDGESTONE</td>\n",
       "      <td>699</td>\n",
       "      <td>35</td>\n",
       "      <td>22</td>\n",
       "      <td>110</td>\n",
       "      <td>140</td>\n",
       "      <td>64</td>\n",
       "      <td>29</td>\n",
       "      <td>40</td>\n",
       "      <td>84</td>\n",
       "      <td>98</td>\n",
       "      <td>77</td>\n",
       "      <td>-</td>\n",
       "      <td>-</td>\n",
       "    </tr>\n",
       "    <tr>\n",
       "      <th>19</th>\n",
       "      <td>9R22.5 BRIDGESTONE</td>\n",
       "      <td>0</td>\n",
       "      <td>0</td>\n",
       "      <td>0</td>\n",
       "      <td>0</td>\n",
       "      <td>0</td>\n",
       "      <td>0</td>\n",
       "      <td>0</td>\n",
       "      <td>0</td>\n",
       "      <td>0</td>\n",
       "      <td>0</td>\n",
       "      <td>0</td>\n",
       "      <td>-</td>\n",
       "      <td>-</td>\n",
       "    </tr>\n",
       "    <tr>\n",
       "      <th>20</th>\n",
       "      <td>295/75R22.5 BRIDGESTONE</td>\n",
       "      <td>1,100</td>\n",
       "      <td>134</td>\n",
       "      <td>212</td>\n",
       "      <td>158</td>\n",
       "      <td>94</td>\n",
       "      <td>115</td>\n",
       "      <td>76</td>\n",
       "      <td>56</td>\n",
       "      <td>101</td>\n",
       "      <td>76</td>\n",
       "      <td>78</td>\n",
       "      <td>-</td>\n",
       "      <td>-</td>\n",
       "    </tr>\n",
       "    <tr>\n",
       "      <th>21</th>\n",
       "      <td>11R22.5 BRIDGESTONE</td>\n",
       "      <td>26</td>\n",
       "      <td>0</td>\n",
       "      <td>0</td>\n",
       "      <td>1</td>\n",
       "      <td>32</td>\n",
       "      <td>0</td>\n",
       "      <td>4</td>\n",
       "      <td>0</td>\n",
       "      <td>0</td>\n",
       "      <td>9</td>\n",
       "      <td>4</td>\n",
       "      <td>-</td>\n",
       "      <td>-</td>\n",
       "    </tr>\n",
       "    <tr>\n",
       "      <th>22</th>\n",
       "      <td>OTHER BRIDGESTONE</td>\n",
       "      <td>505</td>\n",
       "      <td>40</td>\n",
       "      <td>31</td>\n",
       "      <td>83</td>\n",
       "      <td>8</td>\n",
       "      <td>48</td>\n",
       "      <td>35</td>\n",
       "      <td>48</td>\n",
       "      <td>47</td>\n",
       "      <td>71</td>\n",
       "      <td>70</td>\n",
       "      <td>-</td>\n",
       "      <td>-</td>\n",
       "    </tr>\n",
       "    <tr>\n",
       "      <th>23</th>\n",
       "      <td>10.00-20</td>\n",
       "      <td>0</td>\n",
       "      <td>0</td>\n",
       "      <td>0</td>\n",
       "      <td>0</td>\n",
       "      <td>0</td>\n",
       "      <td>0</td>\n",
       "      <td>0</td>\n",
       "      <td>0</td>\n",
       "      <td>0</td>\n",
       "      <td>0</td>\n",
       "      <td>0</td>\n",
       "      <td>-</td>\n",
       "      <td>-</td>\n",
       "    </tr>\n",
       "    <tr>\n",
       "      <th>24</th>\n",
       "      <td>YOKOHAMA TIRES</td>\n",
       "      <td>288</td>\n",
       "      <td>32</td>\n",
       "      <td>52</td>\n",
       "      <td>40</td>\n",
       "      <td>61</td>\n",
       "      <td>24</td>\n",
       "      <td>13</td>\n",
       "      <td>23</td>\n",
       "      <td>20</td>\n",
       "      <td>17</td>\n",
       "      <td>6</td>\n",
       "      <td>-</td>\n",
       "      <td>-</td>\n",
       "    </tr>\n",
       "    <tr>\n",
       "      <th>25</th>\n",
       "      <td>CONTINENTAL TIRES</td>\n",
       "      <td>956</td>\n",
       "      <td>0</td>\n",
       "      <td>1</td>\n",
       "      <td>6</td>\n",
       "      <td>8</td>\n",
       "      <td>65</td>\n",
       "      <td>164</td>\n",
       "      <td>122</td>\n",
       "      <td>147</td>\n",
       "      <td>224</td>\n",
       "      <td>219</td>\n",
       "      <td>-</td>\n",
       "      <td>-</td>\n",
       "    </tr>\n",
       "    <tr>\n",
       "      <th>26</th>\n",
       "      <td>HANKOOK TIRES</td>\n",
       "      <td>97,565</td>\n",
       "      <td>5,866</td>\n",
       "      <td>4,933</td>\n",
       "      <td>9,051</td>\n",
       "      <td>9,609</td>\n",
       "      <td>8,850</td>\n",
       "      <td>10,880</td>\n",
       "      <td>12,219</td>\n",
       "      <td>12,360</td>\n",
       "      <td>11,948</td>\n",
       "      <td>11,849</td>\n",
       "      <td>-</td>\n",
       "      <td>-</td>\n",
       "    </tr>\n",
       "    <tr>\n",
       "      <th>27</th>\n",
       "      <td>MISC NEW TIRES</td>\n",
       "      <td>962</td>\n",
       "      <td>75</td>\n",
       "      <td>73</td>\n",
       "      <td>150</td>\n",
       "      <td>91</td>\n",
       "      <td>68</td>\n",
       "      <td>60</td>\n",
       "      <td>95</td>\n",
       "      <td>122</td>\n",
       "      <td>122</td>\n",
       "      <td>106</td>\n",
       "      <td>-</td>\n",
       "      <td>-</td>\n",
       "    </tr>\n",
       "    <tr>\n",
       "      <th>28</th>\n",
       "      <td>BS STEER-NEW TIRE</td>\n",
       "      <td>1,300</td>\n",
       "      <td>75</td>\n",
       "      <td>65</td>\n",
       "      <td>205</td>\n",
       "      <td>198</td>\n",
       "      <td>114</td>\n",
       "      <td>71</td>\n",
       "      <td>102</td>\n",
       "      <td>153</td>\n",
       "      <td>168</td>\n",
       "      <td>149</td>\n",
       "      <td>-</td>\n",
       "      <td>-</td>\n",
       "    </tr>\n",
       "    <tr>\n",
       "      <th>29</th>\n",
       "      <td>BS DRIVE-NEW TIRE</td>\n",
       "      <td>445</td>\n",
       "      <td>30</td>\n",
       "      <td>46</td>\n",
       "      <td>70</td>\n",
       "      <td>30</td>\n",
       "      <td>46</td>\n",
       "      <td>34</td>\n",
       "      <td>19</td>\n",
       "      <td>30</td>\n",
       "      <td>78</td>\n",
       "      <td>62</td>\n",
       "      <td>-</td>\n",
       "      <td>-</td>\n",
       "    </tr>\n",
       "    <tr>\n",
       "      <th>30</th>\n",
       "      <td>BS TRAILER-NEW TIRE</td>\n",
       "      <td>583</td>\n",
       "      <td>104</td>\n",
       "      <td>154</td>\n",
       "      <td>77</td>\n",
       "      <td>46</td>\n",
       "      <td>67</td>\n",
       "      <td>35</td>\n",
       "      <td>25</td>\n",
       "      <td>49</td>\n",
       "      <td>8</td>\n",
       "      <td>18</td>\n",
       "      <td>-</td>\n",
       "      <td>-</td>\n",
       "    </tr>\n",
       "  </tbody>\n",
       "</table>\n",
       "</div>"
      ],
      "text/plain": [
       "                    Category      YTD    JAN    FEB    MAR     APR    MAY  \\\n",
       "0                    SERVICE    8,278    570    596    931     884    766   \n",
       "1                Flat Repair      456     63     75     54      60     46   \n",
       "2              Tire Rotation      286     77     14     15      19     19   \n",
       "3         Mount and Dismount    4,308    288    395    585     546    345   \n",
       "4         Service Call Hours    2,039    102     80    169     168    220   \n",
       "5                      Scrap    1,189     41     32    108      91    136   \n",
       "6            BANDAG RETREADS      377      2      1     93      82     39   \n",
       "7        245/70R17.5 RETREAD       17      2      1      6       1      0   \n",
       "8        295/75R22.5 RETREAD      360      0      0     87      81     39   \n",
       "9          RETREAD + CASINGS       23      0      0      6       0      0   \n",
       "10     10.00-20 CAP & CASING        0      0      0      0       0      0   \n",
       "11      11R22.5 CAP & CASING        4      0      0      0       0      0   \n",
       "12  295/75R22.5 CAP & CASING       19      0      0      6       0      0   \n",
       "13               REPAIR ONLY        2      0      2      0       0      0   \n",
       "14                 NEW TIRES  102,103  6,182  5,324  9,599  10,043  9,234   \n",
       "15               BRIDGESTONE    2,332    209    265    352     274    227   \n",
       "16   Light Truck BRIDGESTONE        0      0      0      0       0      0   \n",
       "17   225/70R19.5 BRIDGESTONE        2      0      0      0       0      0   \n",
       "18   245/70R17.5 BRIDGESTONE      699     35     22    110     140     64   \n",
       "19        9R22.5 BRIDGESTONE        0      0      0      0       0      0   \n",
       "20   295/75R22.5 BRIDGESTONE    1,100    134    212    158      94    115   \n",
       "21       11R22.5 BRIDGESTONE       26      0      0      1      32      0   \n",
       "22         OTHER BRIDGESTONE      505     40     31     83       8     48   \n",
       "23                  10.00-20        0      0      0      0       0      0   \n",
       "24            YOKOHAMA TIRES      288     32     52     40      61     24   \n",
       "25         CONTINENTAL TIRES      956      0      1      6       8     65   \n",
       "26             HANKOOK TIRES   97,565  5,866  4,933  9,051   9,609  8,850   \n",
       "27            MISC NEW TIRES      962     75     73    150      91     68   \n",
       "28         BS STEER-NEW TIRE    1,300     75     65    205     198    114   \n",
       "29         BS DRIVE-NEW TIRE      445     30     46     70      30     46   \n",
       "30       BS TRAILER-NEW TIRE      583    104    154     77      46     67   \n",
       "\n",
       "       JUN     JUL     AUG    SEPT     OCT NOV DEC  \n",
       "0      834     819     920   1,039     918   -   -  \n",
       "1       50      40      24      25      19   -   -  \n",
       "2       57      22       7      22      34   -   -  \n",
       "3      420     416     377     500     436   -   -  \n",
       "4      210     236     313     294     248   -   -  \n",
       "5       97     105     199     198     182   -   -  \n",
       "6       36      20      16      57      31   -   -  \n",
       "7        0       1       2       4       0   -   -  \n",
       "8       36      19      14      53      31   -   -  \n",
       "9        7       0      10       0       0   -   -  \n",
       "10       0       0       0       0       0   -   -  \n",
       "11       4       0       0       0       0   -   -  \n",
       "12       3       0      10       0       0   -   -  \n",
       "13       0       0       0       0       0   -   -  \n",
       "14  11,261  12,605  12,881  12,565  12,409   -   -  \n",
       "15     144     146     232     254     229   -   -  \n",
       "16       0       0       0       0       0   -   -  \n",
       "17       0       2       0       0       0   -   -  \n",
       "18      29      40      84      98      77   -   -  \n",
       "19       0       0       0       0       0   -   -  \n",
       "20      76      56     101      76      78   -   -  \n",
       "21       4       0       0       9       4   -   -  \n",
       "22      35      48      47      71      70   -   -  \n",
       "23       0       0       0       0       0   -   -  \n",
       "24      13      23      20      17       6   -   -  \n",
       "25     164     122     147     224     219   -   -  \n",
       "26  10,880  12,219  12,360  11,948  11,849   -   -  \n",
       "27      60      95     122     122     106   -   -  \n",
       "28      71     102     153     168     149   -   -  \n",
       "29      34      19      30      78      62   -   -  \n",
       "30      35      25      49       8      18   -   -  "
      ]
     },
     "execution_count": 11,
     "metadata": {},
     "output_type": "execute_result"
    }
   ],
   "source": [
    "# ----------NOW ADD DASHES TO ANY MONTH THAT DOESN'T EXIST IN TIME YET---------------------------------------------------\n",
    "\n",
    "Sales_df_for_html_Transposed = Sales_df_for_html.T\n",
    "Sales_df_for_html_Transposed = Sales_df_for_html_Transposed.reset_index()\n",
    "\n",
    "# Recall each month name here represents a numerical date like 202101 is January 2021\n",
    "List_of_Dates = [0, 0, Jan, Feb, Mar, Apr,\n",
    "                    May, Jun, Jul, Aug, Sept, Oct, Nov, Dec]\n",
    "Sales_df_for_html_Transposed_EXTRA_COLUMN = Sales_df_for_html_Transposed\n",
    "# Create a new column that has the values from the list above\n",
    "Sales_df_for_html_Transposed_EXTRA_COLUMN['Date'] = List_of_Dates\n",
    "Sales_df_for_html_Transposed_EXTRA_COLUMN\n",
    "\n",
    "# ---------------------------------------------------------------------------------\n",
    "# This section will filx YTD to NOT include the current month IF the current month is in the df according to the month variables we assigned at the top of the notebook and, accordingly, the new \"Date\" column in the df.  In other words, this section will only be used if we are testing for the current year and it allows the test to be able to run smoothly for any year:\n",
    "if Current_Month in Sales_df_for_html_Transposed_EXTRA_COLUMN.Date:\n",
    "    # Assign a variable to the row where the date column is equal to the current month:\n",
    "    df_of_row_for_current_month = Sales_df_for_html_Transposed_EXTRA_COLUMN.loc[\n",
    "        Sales_df_for_html_Transposed_EXTRA_COLUMN['Date'] == Current_Month]\n",
    "    # Assign a variable to filter the df to omit the first column which is a string for the month name.  We just want the numbers from current month (so we can subtract it from YTD if the current month is in the df since we don't want to include it in the YTD sum)\n",
    "    df_current_month_row_numbers = df_of_row_for_current_month.iloc[0, 1:]\n",
    "    # Fix the YTD row numbers (so they don't include this month in the calc) by subtracting the current month's values from the YTD's values:\n",
    "    Sales_df_for_html_Transposed_EXTRA_COLUMN.iloc[1:2, 1:-\n",
    "                                            1] = Sales_df_for_html_Transposed_EXTRA_COLUMN.iloc[1:2, 1:-1] - df_current_month_row_numbers\n",
    "# ----------------------------------------------------------------------------------\n",
    "\n",
    "# Replace all zeros in all the df that occured before the current numerical month with dashes... except don't change the column called \"index\" which has the month names\n",
    "Sales_df_for_html_Transposed_EXTRA_COLUMN.loc[Sales_df_for_html_Transposed_EXTRA_COLUMN[\"Date\"]\n",
    "                                    >= Current_Month, Sales_df_for_html_Transposed_EXTRA_COLUMN.columns != 'index'] = '-'\n",
    "# Drop the date column:\n",
    "df_dropped_date_column = Sales_df_for_html_Transposed_EXTRA_COLUMN.drop(columns=[\n",
    "    'Date'])\n",
    "df_dropped_date_column\n",
    "\n",
    "# Retranspose the df back to normal (which will now have dashes rather than zeros for all months before the current month)\n",
    "df_DASHES_for_HTML = df_dropped_date_column.T\n",
    "df_DASHES_for_HTML = df_DASHES_for_HTML.iloc[1:, :]\n",
    "df_DASHES_for_HTML = df_DASHES_for_HTML.rename(\n",
    "    columns={0: 'Category', 1: 'YTD', 2: 'JAN', 3: 'FEB', 4: 'MAR', 5: 'APR', 6: 'MAY', 7: 'JUN', 8: 'JUL', 9: 'AUG', 10: 'SEPT', 11: 'OCT', 12: 'NOV', 13: 'DEC'})\n",
    "df_DASHES_for_HTML"
   ]
  },
  {
   "cell_type": "code",
   "execution_count": 12,
   "metadata": {},
   "outputs": [
    {
     "data": {
      "text/html": [
       "<div>\n",
       "<style scoped>\n",
       "    .dataframe tbody tr th:only-of-type {\n",
       "        vertical-align: middle;\n",
       "    }\n",
       "\n",
       "    .dataframe tbody tr th {\n",
       "        vertical-align: top;\n",
       "    }\n",
       "\n",
       "    .dataframe thead th {\n",
       "        text-align: right;\n",
       "    }\n",
       "</style>\n",
       "<table border=\"1\" class=\"dataframe\">\n",
       "  <thead>\n",
       "    <tr style=\"text-align: right;\">\n",
       "      <th></th>\n",
       "      <th>Category</th>\n",
       "      <th>YTD</th>\n",
       "      <th>JAN</th>\n",
       "      <th>FEB</th>\n",
       "      <th>MAR</th>\n",
       "      <th>APR</th>\n",
       "      <th>MAY</th>\n",
       "      <th>JUN</th>\n",
       "      <th>JUL</th>\n",
       "      <th>AUG</th>\n",
       "      <th>SEPT</th>\n",
       "      <th>OCT</th>\n",
       "      <th>NOV</th>\n",
       "      <th>DEC</th>\n",
       "    </tr>\n",
       "  </thead>\n",
       "  <tbody>\n",
       "    <tr>\n",
       "      <th>0</th>\n",
       "      <td>SERVICE</td>\n",
       "      <td>8,278</td>\n",
       "      <td>570</td>\n",
       "      <td>596</td>\n",
       "      <td>931</td>\n",
       "      <td>884</td>\n",
       "      <td>766</td>\n",
       "      <td>834</td>\n",
       "      <td>819</td>\n",
       "      <td>920</td>\n",
       "      <td>1,039</td>\n",
       "      <td>918</td>\n",
       "      <td>-</td>\n",
       "      <td>-</td>\n",
       "    </tr>\n",
       "    <tr>\n",
       "      <th>1</th>\n",
       "      <td>Flat Repair</td>\n",
       "      <td>456</td>\n",
       "      <td>63</td>\n",
       "      <td>75</td>\n",
       "      <td>54</td>\n",
       "      <td>60</td>\n",
       "      <td>46</td>\n",
       "      <td>50</td>\n",
       "      <td>40</td>\n",
       "      <td>24</td>\n",
       "      <td>25</td>\n",
       "      <td>19</td>\n",
       "      <td>-</td>\n",
       "      <td>-</td>\n",
       "    </tr>\n",
       "    <tr>\n",
       "      <th>2</th>\n",
       "      <td>Tire Rotation</td>\n",
       "      <td>286</td>\n",
       "      <td>77</td>\n",
       "      <td>14</td>\n",
       "      <td>15</td>\n",
       "      <td>19</td>\n",
       "      <td>19</td>\n",
       "      <td>57</td>\n",
       "      <td>22</td>\n",
       "      <td>7</td>\n",
       "      <td>22</td>\n",
       "      <td>34</td>\n",
       "      <td>-</td>\n",
       "      <td>-</td>\n",
       "    </tr>\n",
       "    <tr>\n",
       "      <th>3</th>\n",
       "      <td>Mount and Dismount</td>\n",
       "      <td>4,308</td>\n",
       "      <td>288</td>\n",
       "      <td>395</td>\n",
       "      <td>585</td>\n",
       "      <td>546</td>\n",
       "      <td>345</td>\n",
       "      <td>420</td>\n",
       "      <td>416</td>\n",
       "      <td>377</td>\n",
       "      <td>500</td>\n",
       "      <td>436</td>\n",
       "      <td>-</td>\n",
       "      <td>-</td>\n",
       "    </tr>\n",
       "    <tr>\n",
       "      <th>4</th>\n",
       "      <td>Service Call Hours</td>\n",
       "      <td>2,039</td>\n",
       "      <td>102</td>\n",
       "      <td>80</td>\n",
       "      <td>169</td>\n",
       "      <td>168</td>\n",
       "      <td>220</td>\n",
       "      <td>210</td>\n",
       "      <td>236</td>\n",
       "      <td>313</td>\n",
       "      <td>294</td>\n",
       "      <td>248</td>\n",
       "      <td>-</td>\n",
       "      <td>-</td>\n",
       "    </tr>\n",
       "    <tr>\n",
       "      <th>5</th>\n",
       "      <td>Scrap</td>\n",
       "      <td>1,189</td>\n",
       "      <td>41</td>\n",
       "      <td>32</td>\n",
       "      <td>108</td>\n",
       "      <td>91</td>\n",
       "      <td>136</td>\n",
       "      <td>97</td>\n",
       "      <td>105</td>\n",
       "      <td>199</td>\n",
       "      <td>198</td>\n",
       "      <td>182</td>\n",
       "      <td>-</td>\n",
       "      <td>-</td>\n",
       "    </tr>\n",
       "    <tr>\n",
       "      <th>6</th>\n",
       "      <td>BANDAG RETREADS</td>\n",
       "      <td>377</td>\n",
       "      <td>2</td>\n",
       "      <td>1</td>\n",
       "      <td>93</td>\n",
       "      <td>82</td>\n",
       "      <td>39</td>\n",
       "      <td>36</td>\n",
       "      <td>20</td>\n",
       "      <td>16</td>\n",
       "      <td>57</td>\n",
       "      <td>31</td>\n",
       "      <td>-</td>\n",
       "      <td>-</td>\n",
       "    </tr>\n",
       "    <tr>\n",
       "      <th>7</th>\n",
       "      <td>245/70R17.5</td>\n",
       "      <td>17</td>\n",
       "      <td>2</td>\n",
       "      <td>1</td>\n",
       "      <td>6</td>\n",
       "      <td>1</td>\n",
       "      <td>0</td>\n",
       "      <td>0</td>\n",
       "      <td>1</td>\n",
       "      <td>2</td>\n",
       "      <td>4</td>\n",
       "      <td>0</td>\n",
       "      <td>-</td>\n",
       "      <td>-</td>\n",
       "    </tr>\n",
       "    <tr>\n",
       "      <th>8</th>\n",
       "      <td>295/75R22.5</td>\n",
       "      <td>360</td>\n",
       "      <td>0</td>\n",
       "      <td>0</td>\n",
       "      <td>87</td>\n",
       "      <td>81</td>\n",
       "      <td>39</td>\n",
       "      <td>36</td>\n",
       "      <td>19</td>\n",
       "      <td>14</td>\n",
       "      <td>53</td>\n",
       "      <td>31</td>\n",
       "      <td>-</td>\n",
       "      <td>-</td>\n",
       "    </tr>\n",
       "    <tr>\n",
       "      <th>9</th>\n",
       "      <td>RETREAD + CASINGS</td>\n",
       "      <td>23</td>\n",
       "      <td>0</td>\n",
       "      <td>0</td>\n",
       "      <td>6</td>\n",
       "      <td>0</td>\n",
       "      <td>0</td>\n",
       "      <td>7</td>\n",
       "      <td>0</td>\n",
       "      <td>10</td>\n",
       "      <td>0</td>\n",
       "      <td>0</td>\n",
       "      <td>-</td>\n",
       "      <td>-</td>\n",
       "    </tr>\n",
       "    <tr>\n",
       "      <th>10</th>\n",
       "      <td>10.00-20</td>\n",
       "      <td>0</td>\n",
       "      <td>0</td>\n",
       "      <td>0</td>\n",
       "      <td>0</td>\n",
       "      <td>0</td>\n",
       "      <td>0</td>\n",
       "      <td>0</td>\n",
       "      <td>0</td>\n",
       "      <td>0</td>\n",
       "      <td>0</td>\n",
       "      <td>0</td>\n",
       "      <td>-</td>\n",
       "      <td>-</td>\n",
       "    </tr>\n",
       "    <tr>\n",
       "      <th>11</th>\n",
       "      <td>11R22.5</td>\n",
       "      <td>4</td>\n",
       "      <td>0</td>\n",
       "      <td>0</td>\n",
       "      <td>0</td>\n",
       "      <td>0</td>\n",
       "      <td>0</td>\n",
       "      <td>4</td>\n",
       "      <td>0</td>\n",
       "      <td>0</td>\n",
       "      <td>0</td>\n",
       "      <td>0</td>\n",
       "      <td>-</td>\n",
       "      <td>-</td>\n",
       "    </tr>\n",
       "    <tr>\n",
       "      <th>12</th>\n",
       "      <td>295/75R22.5</td>\n",
       "      <td>19</td>\n",
       "      <td>0</td>\n",
       "      <td>0</td>\n",
       "      <td>6</td>\n",
       "      <td>0</td>\n",
       "      <td>0</td>\n",
       "      <td>3</td>\n",
       "      <td>0</td>\n",
       "      <td>10</td>\n",
       "      <td>0</td>\n",
       "      <td>0</td>\n",
       "      <td>-</td>\n",
       "      <td>-</td>\n",
       "    </tr>\n",
       "    <tr>\n",
       "      <th>13</th>\n",
       "      <td>REPAIR ONLY</td>\n",
       "      <td>2</td>\n",
       "      <td>0</td>\n",
       "      <td>2</td>\n",
       "      <td>0</td>\n",
       "      <td>0</td>\n",
       "      <td>0</td>\n",
       "      <td>0</td>\n",
       "      <td>0</td>\n",
       "      <td>0</td>\n",
       "      <td>0</td>\n",
       "      <td>0</td>\n",
       "      <td>-</td>\n",
       "      <td>-</td>\n",
       "    </tr>\n",
       "    <tr>\n",
       "      <th>14</th>\n",
       "      <td>NEW TIRES</td>\n",
       "      <td>102,103</td>\n",
       "      <td>6,182</td>\n",
       "      <td>5,324</td>\n",
       "      <td>9,599</td>\n",
       "      <td>10,043</td>\n",
       "      <td>9,234</td>\n",
       "      <td>11,261</td>\n",
       "      <td>12,605</td>\n",
       "      <td>12,881</td>\n",
       "      <td>12,565</td>\n",
       "      <td>12,409</td>\n",
       "      <td>-</td>\n",
       "      <td>-</td>\n",
       "    </tr>\n",
       "    <tr>\n",
       "      <th>15</th>\n",
       "      <td>BRIDGESTONE</td>\n",
       "      <td>2,332</td>\n",
       "      <td>209</td>\n",
       "      <td>265</td>\n",
       "      <td>352</td>\n",
       "      <td>274</td>\n",
       "      <td>227</td>\n",
       "      <td>144</td>\n",
       "      <td>146</td>\n",
       "      <td>232</td>\n",
       "      <td>254</td>\n",
       "      <td>229</td>\n",
       "      <td>-</td>\n",
       "      <td>-</td>\n",
       "    </tr>\n",
       "    <tr>\n",
       "      <th>16</th>\n",
       "      <td>Light Truck</td>\n",
       "      <td>0</td>\n",
       "      <td>0</td>\n",
       "      <td>0</td>\n",
       "      <td>0</td>\n",
       "      <td>0</td>\n",
       "      <td>0</td>\n",
       "      <td>0</td>\n",
       "      <td>0</td>\n",
       "      <td>0</td>\n",
       "      <td>0</td>\n",
       "      <td>0</td>\n",
       "      <td>-</td>\n",
       "      <td>-</td>\n",
       "    </tr>\n",
       "    <tr>\n",
       "      <th>17</th>\n",
       "      <td>225/70R19.5</td>\n",
       "      <td>2</td>\n",
       "      <td>0</td>\n",
       "      <td>0</td>\n",
       "      <td>0</td>\n",
       "      <td>0</td>\n",
       "      <td>0</td>\n",
       "      <td>0</td>\n",
       "      <td>2</td>\n",
       "      <td>0</td>\n",
       "      <td>0</td>\n",
       "      <td>0</td>\n",
       "      <td>-</td>\n",
       "      <td>-</td>\n",
       "    </tr>\n",
       "    <tr>\n",
       "      <th>18</th>\n",
       "      <td>245/70R17.5</td>\n",
       "      <td>699</td>\n",
       "      <td>35</td>\n",
       "      <td>22</td>\n",
       "      <td>110</td>\n",
       "      <td>140</td>\n",
       "      <td>64</td>\n",
       "      <td>29</td>\n",
       "      <td>40</td>\n",
       "      <td>84</td>\n",
       "      <td>98</td>\n",
       "      <td>77</td>\n",
       "      <td>-</td>\n",
       "      <td>-</td>\n",
       "    </tr>\n",
       "    <tr>\n",
       "      <th>19</th>\n",
       "      <td>9R22.5</td>\n",
       "      <td>0</td>\n",
       "      <td>0</td>\n",
       "      <td>0</td>\n",
       "      <td>0</td>\n",
       "      <td>0</td>\n",
       "      <td>0</td>\n",
       "      <td>0</td>\n",
       "      <td>0</td>\n",
       "      <td>0</td>\n",
       "      <td>0</td>\n",
       "      <td>0</td>\n",
       "      <td>-</td>\n",
       "      <td>-</td>\n",
       "    </tr>\n",
       "    <tr>\n",
       "      <th>20</th>\n",
       "      <td>295/75R22.5</td>\n",
       "      <td>1,100</td>\n",
       "      <td>134</td>\n",
       "      <td>212</td>\n",
       "      <td>158</td>\n",
       "      <td>94</td>\n",
       "      <td>115</td>\n",
       "      <td>76</td>\n",
       "      <td>56</td>\n",
       "      <td>101</td>\n",
       "      <td>76</td>\n",
       "      <td>78</td>\n",
       "      <td>-</td>\n",
       "      <td>-</td>\n",
       "    </tr>\n",
       "    <tr>\n",
       "      <th>21</th>\n",
       "      <td>11R22.5</td>\n",
       "      <td>26</td>\n",
       "      <td>0</td>\n",
       "      <td>0</td>\n",
       "      <td>1</td>\n",
       "      <td>32</td>\n",
       "      <td>0</td>\n",
       "      <td>4</td>\n",
       "      <td>0</td>\n",
       "      <td>0</td>\n",
       "      <td>9</td>\n",
       "      <td>4</td>\n",
       "      <td>-</td>\n",
       "      <td>-</td>\n",
       "    </tr>\n",
       "    <tr>\n",
       "      <th>22</th>\n",
       "      <td>OTHER</td>\n",
       "      <td>505</td>\n",
       "      <td>40</td>\n",
       "      <td>31</td>\n",
       "      <td>83</td>\n",
       "      <td>8</td>\n",
       "      <td>48</td>\n",
       "      <td>35</td>\n",
       "      <td>48</td>\n",
       "      <td>47</td>\n",
       "      <td>71</td>\n",
       "      <td>70</td>\n",
       "      <td>-</td>\n",
       "      <td>-</td>\n",
       "    </tr>\n",
       "    <tr>\n",
       "      <th>23</th>\n",
       "      <td>10.00-20</td>\n",
       "      <td>0</td>\n",
       "      <td>0</td>\n",
       "      <td>0</td>\n",
       "      <td>0</td>\n",
       "      <td>0</td>\n",
       "      <td>0</td>\n",
       "      <td>0</td>\n",
       "      <td>0</td>\n",
       "      <td>0</td>\n",
       "      <td>0</td>\n",
       "      <td>0</td>\n",
       "      <td>-</td>\n",
       "      <td>-</td>\n",
       "    </tr>\n",
       "    <tr>\n",
       "      <th>24</th>\n",
       "      <td>YOKOHAMA TIRES</td>\n",
       "      <td>288</td>\n",
       "      <td>32</td>\n",
       "      <td>52</td>\n",
       "      <td>40</td>\n",
       "      <td>61</td>\n",
       "      <td>24</td>\n",
       "      <td>13</td>\n",
       "      <td>23</td>\n",
       "      <td>20</td>\n",
       "      <td>17</td>\n",
       "      <td>6</td>\n",
       "      <td>-</td>\n",
       "      <td>-</td>\n",
       "    </tr>\n",
       "    <tr>\n",
       "      <th>25</th>\n",
       "      <td>CONTINENTAL TIRES</td>\n",
       "      <td>956</td>\n",
       "      <td>0</td>\n",
       "      <td>1</td>\n",
       "      <td>6</td>\n",
       "      <td>8</td>\n",
       "      <td>65</td>\n",
       "      <td>164</td>\n",
       "      <td>122</td>\n",
       "      <td>147</td>\n",
       "      <td>224</td>\n",
       "      <td>219</td>\n",
       "      <td>-</td>\n",
       "      <td>-</td>\n",
       "    </tr>\n",
       "    <tr>\n",
       "      <th>26</th>\n",
       "      <td>HANKOOK TIRES</td>\n",
       "      <td>97,565</td>\n",
       "      <td>5,866</td>\n",
       "      <td>4,933</td>\n",
       "      <td>9,051</td>\n",
       "      <td>9,609</td>\n",
       "      <td>8,850</td>\n",
       "      <td>10,880</td>\n",
       "      <td>12,219</td>\n",
       "      <td>12,360</td>\n",
       "      <td>11,948</td>\n",
       "      <td>11,849</td>\n",
       "      <td>-</td>\n",
       "      <td>-</td>\n",
       "    </tr>\n",
       "    <tr>\n",
       "      <th>27</th>\n",
       "      <td>MISC NEW TIRES</td>\n",
       "      <td>962</td>\n",
       "      <td>75</td>\n",
       "      <td>73</td>\n",
       "      <td>150</td>\n",
       "      <td>91</td>\n",
       "      <td>68</td>\n",
       "      <td>60</td>\n",
       "      <td>95</td>\n",
       "      <td>122</td>\n",
       "      <td>122</td>\n",
       "      <td>106</td>\n",
       "      <td>-</td>\n",
       "      <td>-</td>\n",
       "    </tr>\n",
       "    <tr>\n",
       "      <th>28</th>\n",
       "      <td>BS STEER-NEW TIRE</td>\n",
       "      <td>1,300</td>\n",
       "      <td>75</td>\n",
       "      <td>65</td>\n",
       "      <td>205</td>\n",
       "      <td>198</td>\n",
       "      <td>114</td>\n",
       "      <td>71</td>\n",
       "      <td>102</td>\n",
       "      <td>153</td>\n",
       "      <td>168</td>\n",
       "      <td>149</td>\n",
       "      <td>-</td>\n",
       "      <td>-</td>\n",
       "    </tr>\n",
       "    <tr>\n",
       "      <th>29</th>\n",
       "      <td>BS DRIVE-NEW TIRE</td>\n",
       "      <td>445</td>\n",
       "      <td>30</td>\n",
       "      <td>46</td>\n",
       "      <td>70</td>\n",
       "      <td>30</td>\n",
       "      <td>46</td>\n",
       "      <td>34</td>\n",
       "      <td>19</td>\n",
       "      <td>30</td>\n",
       "      <td>78</td>\n",
       "      <td>62</td>\n",
       "      <td>-</td>\n",
       "      <td>-</td>\n",
       "    </tr>\n",
       "    <tr>\n",
       "      <th>30</th>\n",
       "      <td>BS TRAILER-NEW TIRE</td>\n",
       "      <td>583</td>\n",
       "      <td>104</td>\n",
       "      <td>154</td>\n",
       "      <td>77</td>\n",
       "      <td>46</td>\n",
       "      <td>67</td>\n",
       "      <td>35</td>\n",
       "      <td>25</td>\n",
       "      <td>49</td>\n",
       "      <td>8</td>\n",
       "      <td>18</td>\n",
       "      <td>-</td>\n",
       "      <td>-</td>\n",
       "    </tr>\n",
       "  </tbody>\n",
       "</table>\n",
       "</div>"
      ],
      "text/plain": [
       "               Category      YTD    JAN    FEB    MAR     APR    MAY     JUN  \\\n",
       "0               SERVICE    8,278    570    596    931     884    766     834   \n",
       "1           Flat Repair      456     63     75     54      60     46      50   \n",
       "2         Tire Rotation      286     77     14     15      19     19      57   \n",
       "3    Mount and Dismount    4,308    288    395    585     546    345     420   \n",
       "4    Service Call Hours    2,039    102     80    169     168    220     210   \n",
       "5                 Scrap    1,189     41     32    108      91    136      97   \n",
       "6       BANDAG RETREADS      377      2      1     93      82     39      36   \n",
       "7           245/70R17.5       17      2      1      6       1      0       0   \n",
       "8           295/75R22.5      360      0      0     87      81     39      36   \n",
       "9     RETREAD + CASINGS       23      0      0      6       0      0       7   \n",
       "10             10.00-20        0      0      0      0       0      0       0   \n",
       "11              11R22.5        4      0      0      0       0      0       4   \n",
       "12          295/75R22.5       19      0      0      6       0      0       3   \n",
       "13          REPAIR ONLY        2      0      2      0       0      0       0   \n",
       "14            NEW TIRES  102,103  6,182  5,324  9,599  10,043  9,234  11,261   \n",
       "15          BRIDGESTONE    2,332    209    265    352     274    227     144   \n",
       "16          Light Truck        0      0      0      0       0      0       0   \n",
       "17          225/70R19.5        2      0      0      0       0      0       0   \n",
       "18          245/70R17.5      699     35     22    110     140     64      29   \n",
       "19               9R22.5        0      0      0      0       0      0       0   \n",
       "20          295/75R22.5    1,100    134    212    158      94    115      76   \n",
       "21              11R22.5       26      0      0      1      32      0       4   \n",
       "22                OTHER      505     40     31     83       8     48      35   \n",
       "23             10.00-20        0      0      0      0       0      0       0   \n",
       "24       YOKOHAMA TIRES      288     32     52     40      61     24      13   \n",
       "25    CONTINENTAL TIRES      956      0      1      6       8     65     164   \n",
       "26        HANKOOK TIRES   97,565  5,866  4,933  9,051   9,609  8,850  10,880   \n",
       "27       MISC NEW TIRES      962     75     73    150      91     68      60   \n",
       "28    BS STEER-NEW TIRE    1,300     75     65    205     198    114      71   \n",
       "29    BS DRIVE-NEW TIRE      445     30     46     70      30     46      34   \n",
       "30  BS TRAILER-NEW TIRE      583    104    154     77      46     67      35   \n",
       "\n",
       "       JUL     AUG    SEPT     OCT NOV DEC  \n",
       "0      819     920   1,039     918   -   -  \n",
       "1       40      24      25      19   -   -  \n",
       "2       22       7      22      34   -   -  \n",
       "3      416     377     500     436   -   -  \n",
       "4      236     313     294     248   -   -  \n",
       "5      105     199     198     182   -   -  \n",
       "6       20      16      57      31   -   -  \n",
       "7        1       2       4       0   -   -  \n",
       "8       19      14      53      31   -   -  \n",
       "9        0      10       0       0   -   -  \n",
       "10       0       0       0       0   -   -  \n",
       "11       0       0       0       0   -   -  \n",
       "12       0      10       0       0   -   -  \n",
       "13       0       0       0       0   -   -  \n",
       "14  12,605  12,881  12,565  12,409   -   -  \n",
       "15     146     232     254     229   -   -  \n",
       "16       0       0       0       0   -   -  \n",
       "17       2       0       0       0   -   -  \n",
       "18      40      84      98      77   -   -  \n",
       "19       0       0       0       0   -   -  \n",
       "20      56     101      76      78   -   -  \n",
       "21       0       0       9       4   -   -  \n",
       "22      48      47      71      70   -   -  \n",
       "23       0       0       0       0   -   -  \n",
       "24      23      20      17       6   -   -  \n",
       "25     122     147     224     219   -   -  \n",
       "26  12,219  12,360  11,948  11,849   -   -  \n",
       "27      95     122     122     106   -   -  \n",
       "28     102     153     168     149   -   -  \n",
       "29      19      30      78      62   -   -  \n",
       "30      25      49       8      18   -   -  "
      ]
     },
     "execution_count": 12,
     "metadata": {},
     "output_type": "execute_result"
    }
   ],
   "source": [
    "# Although we named lots of long names in the Category column to help distinguish them in grpahing etc. We'll rename them the shorter ones for HTML to display in the report.  We'll use the replace method to do this.\n",
    "\n",
    "df_DASHES_for_HTML['Category'] = df_DASHES_for_HTML['Category'].replace(['245/70R17.5 RETREAD', '295/75R22.5 RETREAD', '10.00-20 CAP & CASING', '11R22.5 CAP & CASING', '295/75R22.5 CAP & CASING', 'Light Truck BRIDGESTONE', '225/70R19.5 BRIDGESTONE', '245/70R17.5 BRIDGESTONE', '9R22.5 BRIDGESTONE', '295/75R22.5 BRIDGESTONE', '11R22.5 BRIDGESTONE', 'OTHER BRIDGESTONE'], ['245/70R17.5', '295/75R22.5', '10.00-20', '11R22.5', '295/75R22.5', 'Light Truck', '225/70R19.5', '245/70R17.5', '9R22.5', '295/75R22.5', '11R22.5', 'OTHER'])\n",
    "\n",
    "df_DASHES_for_HTML"
   ]
  },
  {
   "cell_type": "code",
   "execution_count": 13,
   "metadata": {},
   "outputs": [],
   "source": [
    "\n",
    "# For the html table only, we'll get rid of the name \"Category\" as the first column since we want that part blank in the final pdf table:\n",
    "df_just_for_html = df_DASHES_for_HTML.rename(\n",
    "    columns={'Category': ''})\n",
    "# If we don't want the \"SERVICE\" category to have totals, we can replace all the totals with empty strings:\n",
    "df_just_for_html.iloc[0, 1:] = ''\n",
    "\n",
    "# BUILD THE HTML TABLE for the MAIN TABLE:\n",
    "\n",
    "def create_html_table(Primary_table):\n",
    "\n",
    "    # Create headers for HTML\n",
    "    row_data = '<!-- Start Sales Table --><thead>\\n<tr class=\"header\">'\n",
    "\n",
    "    # Create columns for HTML:    \n",
    "    for column in range(Primary_table.shape[1]):\n",
    "        adjust_header_css = \"header\"\n",
    "        if column in [0,1]:\n",
    "            adjust_header_css += \" make_white\"\n",
    "        if column not in [0, 1]:\n",
    "            adjust_header_css += \" lonestar_gold_color\"\n",
    "        if column not in []:\n",
    "            adjust_header_css += \" center\"    \n",
    "        row_data += '\\n <th class = \"'+adjust_header_css+'\">'+df_just_for_html.columns[column]+'</th>'\n",
    "    row_data += '\\n</tr> \\n </head> \\n <tbody>'\n",
    "    \n",
    "    # Create Body (rows for table) for html\n",
    "    for row in range(Primary_table.shape[0]):\n",
    "        if row in [0, 6, 9, 13, 14, 28, 29, 30]:\n",
    "            row_data += '\\n<tr class = \"lonestar_gold_color make_bold\">'\n",
    "        else: row_data += '\\n<tr>'\n",
    "        for column in range(Primary_table.shape[1]):\n",
    "            td_class_name = 'text_column'\n",
    "            if column in [0] and row in [1, 2, 3, 4, 5, 7, 8, 10, 11, 12, 16, 17, 18, 19, 20, 21, 22, 28, 29, 30]:\n",
    "                td_class_name += \" right_align\"\n",
    "            if column not in [0]:\n",
    "                td_class_name += \" center\"\n",
    "            if column in [0] and row in [0, 6, 9, 13, 14, 15, 23, 24, 25, 26, 27]:\n",
    "                td_class_name += \" make_bold left_align\"\n",
    "            if column not in [0] and row in [14, 15]:\n",
    "                td_class_name += \" lonestar_gold_color\"\n",
    "            if column in [0] and row in [28, 29, 30]:\n",
    "                td_class_name += \" make_bold right_align\"\n",
    "            if column not in [] and row in [15]:\n",
    "                td_class_name += \" make_bold\"            \n",
    "            row_data += '\\n <td class = \"'+td_class_name+'\">'+str(Primary_table.iloc[row,column])+'</td>'\n",
    "    row_data += '\\n</tr> \\n</tbody><!-- End Sales Table -->'\n",
    "    # -------------------------------------------------------------------------------------------------\n",
    "\n",
    "    return row_data\n",
    "\n",
    "# Call the function:\n",
    "html_table = create_html_table(df_just_for_html)"
   ]
  },
  {
   "cell_type": "markdown",
   "metadata": {},
   "source": [
    "# Create Current Year Percentage Sales Bar Chart:"
   ]
  },
  {
   "cell_type": "code",
   "execution_count": 14,
   "metadata": {},
   "outputs": [],
   "source": [
    "Total_of_Categories = Bandag_Retread_YTD_TOTAL + Retread_and_Casing_YTD_TOTAL + Repair_Only_Columns[\"YTD\"] + New_Tires_YTD_TOTAL\n",
    "\n",
    "if Bandag_Retread_YTD_TOTAL > 0:\n",
    "    Retreads_percentage = round(100 * (Bandag_Retread_YTD_TOTAL/Total_of_Categories), 2)\n",
    "    Retreads_plus_Casings_percentage = round(100 * (Retread_and_Casing_YTD_TOTAL/Total_of_Categories), 2)\n",
    "    Repair_Only_percentage = round(100 * (Repair_Only_Columns[\"YTD\"]/Total_of_Categories), 2)\n",
    "    New_Tires_percentage = round(100 * (New_Tires_YTD_TOTAL/Total_of_Categories), 2)\n",
    "\n",
    "else:\n",
    "    Retreads_percentage = 0\n",
    "    Retreads_plus_Casings_percentage = 0\n",
    "    Repair_Only_percentage = 0\n",
    "    New_Tires_percentage = 0"
   ]
  },
  {
   "cell_type": "code",
   "execution_count": 15,
   "metadata": {},
   "outputs": [
    {
     "data": {
      "application/vnd.plotly.v1+json": {
       "config": {
        "plotlyServerURL": "https://plotly.com"
       },
       "data": [
        {
         "marker": {
          "color": "black"
         },
         "name": "Retreads",
         "textfont": {
          "size": [
           27
          ]
         },
         "textposition": "auto",
         "texttemplate": "%{y:.s}%",
         "type": "bar",
         "x": [
          "RETREADS"
         ],
         "y": [
          0.4
         ]
        },
        {
         "marker": {
          "color": "dimgray"
         },
         "name": "Retread + Casing",
         "textfont": {
          "size": [
           27
          ]
         },
         "textposition": "auto",
         "texttemplate": "%{y:.s}%",
         "type": "bar",
         "x": [
          "RETREAD + CASING"
         ],
         "y": [
          0
         ]
        },
        {
         "marker": {
          "color": "royalblue"
         },
         "name": "Repair Only",
         "textfont": {
          "size": [
           27
          ]
         },
         "textposition": "auto",
         "texttemplate": "%{y:.s}%",
         "type": "bar",
         "x": [
          "REPAIR ONLY"
         ],
         "y": [
          0
         ]
        },
        {
         "marker": {
          "color": "#caa74d"
         },
         "name": "New Tires",
         "textfont": {
          "size": [
           27
          ]
         },
         "textposition": "auto",
         "texttemplate": "%{y:.s}%",
         "type": "bar",
         "x": [
          "NEW TIRES"
         ],
         "y": [
          99.6
         ]
        }
       ],
       "layout": {
        "autosize": false,
        "barmode": "group",
        "font": {
         "color": "black",
         "size": 25
        },
        "height": 900,
        "showlegend": false,
        "template": {
         "data": {
          "bar": [
           {
            "error_x": {
             "color": "#2a3f5f"
            },
            "error_y": {
             "color": "#2a3f5f"
            },
            "marker": {
             "line": {
              "color": "#E5ECF6",
              "width": 0.5
             }
            },
            "type": "bar"
           }
          ],
          "barpolar": [
           {
            "marker": {
             "line": {
              "color": "#E5ECF6",
              "width": 0.5
             }
            },
            "type": "barpolar"
           }
          ],
          "carpet": [
           {
            "aaxis": {
             "endlinecolor": "#2a3f5f",
             "gridcolor": "white",
             "linecolor": "white",
             "minorgridcolor": "white",
             "startlinecolor": "#2a3f5f"
            },
            "baxis": {
             "endlinecolor": "#2a3f5f",
             "gridcolor": "white",
             "linecolor": "white",
             "minorgridcolor": "white",
             "startlinecolor": "#2a3f5f"
            },
            "type": "carpet"
           }
          ],
          "choropleth": [
           {
            "colorbar": {
             "outlinewidth": 0,
             "ticks": ""
            },
            "type": "choropleth"
           }
          ],
          "contour": [
           {
            "colorbar": {
             "outlinewidth": 0,
             "ticks": ""
            },
            "colorscale": [
             [
              0,
              "#0d0887"
             ],
             [
              0.1111111111111111,
              "#46039f"
             ],
             [
              0.2222222222222222,
              "#7201a8"
             ],
             [
              0.3333333333333333,
              "#9c179e"
             ],
             [
              0.4444444444444444,
              "#bd3786"
             ],
             [
              0.5555555555555556,
              "#d8576b"
             ],
             [
              0.6666666666666666,
              "#ed7953"
             ],
             [
              0.7777777777777778,
              "#fb9f3a"
             ],
             [
              0.8888888888888888,
              "#fdca26"
             ],
             [
              1,
              "#f0f921"
             ]
            ],
            "type": "contour"
           }
          ],
          "contourcarpet": [
           {
            "colorbar": {
             "outlinewidth": 0,
             "ticks": ""
            },
            "type": "contourcarpet"
           }
          ],
          "heatmap": [
           {
            "colorbar": {
             "outlinewidth": 0,
             "ticks": ""
            },
            "colorscale": [
             [
              0,
              "#0d0887"
             ],
             [
              0.1111111111111111,
              "#46039f"
             ],
             [
              0.2222222222222222,
              "#7201a8"
             ],
             [
              0.3333333333333333,
              "#9c179e"
             ],
             [
              0.4444444444444444,
              "#bd3786"
             ],
             [
              0.5555555555555556,
              "#d8576b"
             ],
             [
              0.6666666666666666,
              "#ed7953"
             ],
             [
              0.7777777777777778,
              "#fb9f3a"
             ],
             [
              0.8888888888888888,
              "#fdca26"
             ],
             [
              1,
              "#f0f921"
             ]
            ],
            "type": "heatmap"
           }
          ],
          "heatmapgl": [
           {
            "colorbar": {
             "outlinewidth": 0,
             "ticks": ""
            },
            "colorscale": [
             [
              0,
              "#0d0887"
             ],
             [
              0.1111111111111111,
              "#46039f"
             ],
             [
              0.2222222222222222,
              "#7201a8"
             ],
             [
              0.3333333333333333,
              "#9c179e"
             ],
             [
              0.4444444444444444,
              "#bd3786"
             ],
             [
              0.5555555555555556,
              "#d8576b"
             ],
             [
              0.6666666666666666,
              "#ed7953"
             ],
             [
              0.7777777777777778,
              "#fb9f3a"
             ],
             [
              0.8888888888888888,
              "#fdca26"
             ],
             [
              1,
              "#f0f921"
             ]
            ],
            "type": "heatmapgl"
           }
          ],
          "histogram": [
           {
            "marker": {
             "colorbar": {
              "outlinewidth": 0,
              "ticks": ""
             }
            },
            "type": "histogram"
           }
          ],
          "histogram2d": [
           {
            "colorbar": {
             "outlinewidth": 0,
             "ticks": ""
            },
            "colorscale": [
             [
              0,
              "#0d0887"
             ],
             [
              0.1111111111111111,
              "#46039f"
             ],
             [
              0.2222222222222222,
              "#7201a8"
             ],
             [
              0.3333333333333333,
              "#9c179e"
             ],
             [
              0.4444444444444444,
              "#bd3786"
             ],
             [
              0.5555555555555556,
              "#d8576b"
             ],
             [
              0.6666666666666666,
              "#ed7953"
             ],
             [
              0.7777777777777778,
              "#fb9f3a"
             ],
             [
              0.8888888888888888,
              "#fdca26"
             ],
             [
              1,
              "#f0f921"
             ]
            ],
            "type": "histogram2d"
           }
          ],
          "histogram2dcontour": [
           {
            "colorbar": {
             "outlinewidth": 0,
             "ticks": ""
            },
            "colorscale": [
             [
              0,
              "#0d0887"
             ],
             [
              0.1111111111111111,
              "#46039f"
             ],
             [
              0.2222222222222222,
              "#7201a8"
             ],
             [
              0.3333333333333333,
              "#9c179e"
             ],
             [
              0.4444444444444444,
              "#bd3786"
             ],
             [
              0.5555555555555556,
              "#d8576b"
             ],
             [
              0.6666666666666666,
              "#ed7953"
             ],
             [
              0.7777777777777778,
              "#fb9f3a"
             ],
             [
              0.8888888888888888,
              "#fdca26"
             ],
             [
              1,
              "#f0f921"
             ]
            ],
            "type": "histogram2dcontour"
           }
          ],
          "mesh3d": [
           {
            "colorbar": {
             "outlinewidth": 0,
             "ticks": ""
            },
            "type": "mesh3d"
           }
          ],
          "parcoords": [
           {
            "line": {
             "colorbar": {
              "outlinewidth": 0,
              "ticks": ""
             }
            },
            "type": "parcoords"
           }
          ],
          "pie": [
           {
            "automargin": true,
            "type": "pie"
           }
          ],
          "scatter": [
           {
            "marker": {
             "colorbar": {
              "outlinewidth": 0,
              "ticks": ""
             }
            },
            "type": "scatter"
           }
          ],
          "scatter3d": [
           {
            "line": {
             "colorbar": {
              "outlinewidth": 0,
              "ticks": ""
             }
            },
            "marker": {
             "colorbar": {
              "outlinewidth": 0,
              "ticks": ""
             }
            },
            "type": "scatter3d"
           }
          ],
          "scattercarpet": [
           {
            "marker": {
             "colorbar": {
              "outlinewidth": 0,
              "ticks": ""
             }
            },
            "type": "scattercarpet"
           }
          ],
          "scattergeo": [
           {
            "marker": {
             "colorbar": {
              "outlinewidth": 0,
              "ticks": ""
             }
            },
            "type": "scattergeo"
           }
          ],
          "scattergl": [
           {
            "marker": {
             "colorbar": {
              "outlinewidth": 0,
              "ticks": ""
             }
            },
            "type": "scattergl"
           }
          ],
          "scattermapbox": [
           {
            "marker": {
             "colorbar": {
              "outlinewidth": 0,
              "ticks": ""
             }
            },
            "type": "scattermapbox"
           }
          ],
          "scatterpolar": [
           {
            "marker": {
             "colorbar": {
              "outlinewidth": 0,
              "ticks": ""
             }
            },
            "type": "scatterpolar"
           }
          ],
          "scatterpolargl": [
           {
            "marker": {
             "colorbar": {
              "outlinewidth": 0,
              "ticks": ""
             }
            },
            "type": "scatterpolargl"
           }
          ],
          "scatterternary": [
           {
            "marker": {
             "colorbar": {
              "outlinewidth": 0,
              "ticks": ""
             }
            },
            "type": "scatterternary"
           }
          ],
          "surface": [
           {
            "colorbar": {
             "outlinewidth": 0,
             "ticks": ""
            },
            "colorscale": [
             [
              0,
              "#0d0887"
             ],
             [
              0.1111111111111111,
              "#46039f"
             ],
             [
              0.2222222222222222,
              "#7201a8"
             ],
             [
              0.3333333333333333,
              "#9c179e"
             ],
             [
              0.4444444444444444,
              "#bd3786"
             ],
             [
              0.5555555555555556,
              "#d8576b"
             ],
             [
              0.6666666666666666,
              "#ed7953"
             ],
             [
              0.7777777777777778,
              "#fb9f3a"
             ],
             [
              0.8888888888888888,
              "#fdca26"
             ],
             [
              1,
              "#f0f921"
             ]
            ],
            "type": "surface"
           }
          ],
          "table": [
           {
            "cells": {
             "fill": {
              "color": "#EBF0F8"
             },
             "line": {
              "color": "white"
             }
            },
            "header": {
             "fill": {
              "color": "#C8D4E3"
             },
             "line": {
              "color": "white"
             }
            },
            "type": "table"
           }
          ]
         },
         "layout": {
          "annotationdefaults": {
           "arrowcolor": "#2a3f5f",
           "arrowhead": 0,
           "arrowwidth": 1
          },
          "autotypenumbers": "strict",
          "coloraxis": {
           "colorbar": {
            "outlinewidth": 0,
            "ticks": ""
           }
          },
          "colorscale": {
           "diverging": [
            [
             0,
             "#8e0152"
            ],
            [
             0.1,
             "#c51b7d"
            ],
            [
             0.2,
             "#de77ae"
            ],
            [
             0.3,
             "#f1b6da"
            ],
            [
             0.4,
             "#fde0ef"
            ],
            [
             0.5,
             "#f7f7f7"
            ],
            [
             0.6,
             "#e6f5d0"
            ],
            [
             0.7,
             "#b8e186"
            ],
            [
             0.8,
             "#7fbc41"
            ],
            [
             0.9,
             "#4d9221"
            ],
            [
             1,
             "#276419"
            ]
           ],
           "sequential": [
            [
             0,
             "#0d0887"
            ],
            [
             0.1111111111111111,
             "#46039f"
            ],
            [
             0.2222222222222222,
             "#7201a8"
            ],
            [
             0.3333333333333333,
             "#9c179e"
            ],
            [
             0.4444444444444444,
             "#bd3786"
            ],
            [
             0.5555555555555556,
             "#d8576b"
            ],
            [
             0.6666666666666666,
             "#ed7953"
            ],
            [
             0.7777777777777778,
             "#fb9f3a"
            ],
            [
             0.8888888888888888,
             "#fdca26"
            ],
            [
             1,
             "#f0f921"
            ]
           ],
           "sequentialminus": [
            [
             0,
             "#0d0887"
            ],
            [
             0.1111111111111111,
             "#46039f"
            ],
            [
             0.2222222222222222,
             "#7201a8"
            ],
            [
             0.3333333333333333,
             "#9c179e"
            ],
            [
             0.4444444444444444,
             "#bd3786"
            ],
            [
             0.5555555555555556,
             "#d8576b"
            ],
            [
             0.6666666666666666,
             "#ed7953"
            ],
            [
             0.7777777777777778,
             "#fb9f3a"
            ],
            [
             0.8888888888888888,
             "#fdca26"
            ],
            [
             1,
             "#f0f921"
            ]
           ]
          },
          "colorway": [
           "#636efa",
           "#EF553B",
           "#00cc96",
           "#ab63fa",
           "#FFA15A",
           "#19d3f3",
           "#FF6692",
           "#B6E880",
           "#FF97FF",
           "#FECB52"
          ],
          "font": {
           "color": "#2a3f5f"
          },
          "geo": {
           "bgcolor": "white",
           "lakecolor": "white",
           "landcolor": "#E5ECF6",
           "showlakes": true,
           "showland": true,
           "subunitcolor": "white"
          },
          "hoverlabel": {
           "align": "left"
          },
          "hovermode": "closest",
          "mapbox": {
           "style": "light"
          },
          "paper_bgcolor": "white",
          "plot_bgcolor": "#E5ECF6",
          "polar": {
           "angularaxis": {
            "gridcolor": "white",
            "linecolor": "white",
            "ticks": ""
           },
           "bgcolor": "#E5ECF6",
           "radialaxis": {
            "gridcolor": "white",
            "linecolor": "white",
            "ticks": ""
           }
          },
          "scene": {
           "xaxis": {
            "backgroundcolor": "#E5ECF6",
            "gridcolor": "white",
            "gridwidth": 2,
            "linecolor": "white",
            "showbackground": true,
            "ticks": "",
            "zerolinecolor": "white"
           },
           "yaxis": {
            "backgroundcolor": "#E5ECF6",
            "gridcolor": "white",
            "gridwidth": 2,
            "linecolor": "white",
            "showbackground": true,
            "ticks": "",
            "zerolinecolor": "white"
           },
           "zaxis": {
            "backgroundcolor": "#E5ECF6",
            "gridcolor": "white",
            "gridwidth": 2,
            "linecolor": "white",
            "showbackground": true,
            "ticks": "",
            "zerolinecolor": "white"
           }
          },
          "shapedefaults": {
           "line": {
            "color": "#2a3f5f"
           }
          },
          "ternary": {
           "aaxis": {
            "gridcolor": "white",
            "linecolor": "white",
            "ticks": ""
           },
           "baxis": {
            "gridcolor": "white",
            "linecolor": "white",
            "ticks": ""
           },
           "bgcolor": "#E5ECF6",
           "caxis": {
            "gridcolor": "white",
            "linecolor": "white",
            "ticks": ""
           }
          },
          "title": {
           "x": 0.05
          },
          "xaxis": {
           "automargin": true,
           "gridcolor": "white",
           "linecolor": "white",
           "ticks": "",
           "title": {
            "standoff": 15
           },
           "zerolinecolor": "white",
           "zerolinewidth": 2
          },
          "yaxis": {
           "automargin": true,
           "gridcolor": "white",
           "linecolor": "white",
           "ticks": "",
           "title": {
            "standoff": 15
           },
           "zerolinecolor": "white",
           "zerolinewidth": 2
          }
         }
        },
        "title": {
         "font": {
          "color": "#351C15",
          "size": 38
         },
         "text": "<b>YTD 2021 - Purchases Percentage Breakdown<b>",
         "x": 0.5
        },
        "width": 1445,
        "xaxis": {
         "title": {
          "text": "Purchase Categories"
         }
        },
        "yaxis": {
         "title": {
          "text": "Percentage"
         }
        }
       }
      }
     },
     "metadata": {},
     "output_type": "display_data"
    },
    {
     "data": {
      "application/vnd.plotly.v1+json": {
       "config": {
        "plotlyServerURL": "https://plotly.com"
       },
       "data": [
        {
         "marker": {
          "color": "black"
         },
         "name": "Retreads",
         "textfont": {
          "size": [
           20
          ]
         },
         "textposition": "auto",
         "texttemplate": "%{y:.s}%",
         "type": "bar",
         "x": [
          "RETREADS"
         ],
         "y": [
          0.4
         ]
        },
        {
         "marker": {
          "color": "dimgray"
         },
         "name": "Retread + Casing",
         "textfont": {
          "size": [
           20
          ]
         },
         "textposition": "auto",
         "texttemplate": "%{y:.s}%",
         "type": "bar",
         "x": [
          "RETREAD + CASING"
         ],
         "y": [
          0
         ]
        },
        {
         "marker": {
          "color": "royalblue"
         },
         "name": "Repair Only",
         "textfont": {
          "size": [
           20
          ]
         },
         "textposition": "auto",
         "texttemplate": "%{y:.s}%",
         "type": "bar",
         "x": [
          "REPAIR ONLY"
         ],
         "y": [
          0
         ]
        },
        {
         "marker": {
          "color": "#caa74d"
         },
         "name": "New Tires",
         "textfont": {
          "size": [
           20
          ]
         },
         "textposition": "auto",
         "texttemplate": "%{y:.s}%",
         "type": "bar",
         "x": [
          "NEW TIRES"
         ],
         "y": [
          99.6
         ]
        }
       ],
       "layout": {
        "autosize": false,
        "barmode": "group",
        "font": {
         "color": "black",
         "size": 16
        },
        "height": 650,
        "showlegend": false,
        "template": {
         "data": {
          "bar": [
           {
            "error_x": {
             "color": "#2a3f5f"
            },
            "error_y": {
             "color": "#2a3f5f"
            },
            "marker": {
             "line": {
              "color": "#E5ECF6",
              "width": 0.5
             }
            },
            "type": "bar"
           }
          ],
          "barpolar": [
           {
            "marker": {
             "line": {
              "color": "#E5ECF6",
              "width": 0.5
             }
            },
            "type": "barpolar"
           }
          ],
          "carpet": [
           {
            "aaxis": {
             "endlinecolor": "#2a3f5f",
             "gridcolor": "white",
             "linecolor": "white",
             "minorgridcolor": "white",
             "startlinecolor": "#2a3f5f"
            },
            "baxis": {
             "endlinecolor": "#2a3f5f",
             "gridcolor": "white",
             "linecolor": "white",
             "minorgridcolor": "white",
             "startlinecolor": "#2a3f5f"
            },
            "type": "carpet"
           }
          ],
          "choropleth": [
           {
            "colorbar": {
             "outlinewidth": 0,
             "ticks": ""
            },
            "type": "choropleth"
           }
          ],
          "contour": [
           {
            "colorbar": {
             "outlinewidth": 0,
             "ticks": ""
            },
            "colorscale": [
             [
              0,
              "#0d0887"
             ],
             [
              0.1111111111111111,
              "#46039f"
             ],
             [
              0.2222222222222222,
              "#7201a8"
             ],
             [
              0.3333333333333333,
              "#9c179e"
             ],
             [
              0.4444444444444444,
              "#bd3786"
             ],
             [
              0.5555555555555556,
              "#d8576b"
             ],
             [
              0.6666666666666666,
              "#ed7953"
             ],
             [
              0.7777777777777778,
              "#fb9f3a"
             ],
             [
              0.8888888888888888,
              "#fdca26"
             ],
             [
              1,
              "#f0f921"
             ]
            ],
            "type": "contour"
           }
          ],
          "contourcarpet": [
           {
            "colorbar": {
             "outlinewidth": 0,
             "ticks": ""
            },
            "type": "contourcarpet"
           }
          ],
          "heatmap": [
           {
            "colorbar": {
             "outlinewidth": 0,
             "ticks": ""
            },
            "colorscale": [
             [
              0,
              "#0d0887"
             ],
             [
              0.1111111111111111,
              "#46039f"
             ],
             [
              0.2222222222222222,
              "#7201a8"
             ],
             [
              0.3333333333333333,
              "#9c179e"
             ],
             [
              0.4444444444444444,
              "#bd3786"
             ],
             [
              0.5555555555555556,
              "#d8576b"
             ],
             [
              0.6666666666666666,
              "#ed7953"
             ],
             [
              0.7777777777777778,
              "#fb9f3a"
             ],
             [
              0.8888888888888888,
              "#fdca26"
             ],
             [
              1,
              "#f0f921"
             ]
            ],
            "type": "heatmap"
           }
          ],
          "heatmapgl": [
           {
            "colorbar": {
             "outlinewidth": 0,
             "ticks": ""
            },
            "colorscale": [
             [
              0,
              "#0d0887"
             ],
             [
              0.1111111111111111,
              "#46039f"
             ],
             [
              0.2222222222222222,
              "#7201a8"
             ],
             [
              0.3333333333333333,
              "#9c179e"
             ],
             [
              0.4444444444444444,
              "#bd3786"
             ],
             [
              0.5555555555555556,
              "#d8576b"
             ],
             [
              0.6666666666666666,
              "#ed7953"
             ],
             [
              0.7777777777777778,
              "#fb9f3a"
             ],
             [
              0.8888888888888888,
              "#fdca26"
             ],
             [
              1,
              "#f0f921"
             ]
            ],
            "type": "heatmapgl"
           }
          ],
          "histogram": [
           {
            "marker": {
             "colorbar": {
              "outlinewidth": 0,
              "ticks": ""
             }
            },
            "type": "histogram"
           }
          ],
          "histogram2d": [
           {
            "colorbar": {
             "outlinewidth": 0,
             "ticks": ""
            },
            "colorscale": [
             [
              0,
              "#0d0887"
             ],
             [
              0.1111111111111111,
              "#46039f"
             ],
             [
              0.2222222222222222,
              "#7201a8"
             ],
             [
              0.3333333333333333,
              "#9c179e"
             ],
             [
              0.4444444444444444,
              "#bd3786"
             ],
             [
              0.5555555555555556,
              "#d8576b"
             ],
             [
              0.6666666666666666,
              "#ed7953"
             ],
             [
              0.7777777777777778,
              "#fb9f3a"
             ],
             [
              0.8888888888888888,
              "#fdca26"
             ],
             [
              1,
              "#f0f921"
             ]
            ],
            "type": "histogram2d"
           }
          ],
          "histogram2dcontour": [
           {
            "colorbar": {
             "outlinewidth": 0,
             "ticks": ""
            },
            "colorscale": [
             [
              0,
              "#0d0887"
             ],
             [
              0.1111111111111111,
              "#46039f"
             ],
             [
              0.2222222222222222,
              "#7201a8"
             ],
             [
              0.3333333333333333,
              "#9c179e"
             ],
             [
              0.4444444444444444,
              "#bd3786"
             ],
             [
              0.5555555555555556,
              "#d8576b"
             ],
             [
              0.6666666666666666,
              "#ed7953"
             ],
             [
              0.7777777777777778,
              "#fb9f3a"
             ],
             [
              0.8888888888888888,
              "#fdca26"
             ],
             [
              1,
              "#f0f921"
             ]
            ],
            "type": "histogram2dcontour"
           }
          ],
          "mesh3d": [
           {
            "colorbar": {
             "outlinewidth": 0,
             "ticks": ""
            },
            "type": "mesh3d"
           }
          ],
          "parcoords": [
           {
            "line": {
             "colorbar": {
              "outlinewidth": 0,
              "ticks": ""
             }
            },
            "type": "parcoords"
           }
          ],
          "pie": [
           {
            "automargin": true,
            "type": "pie"
           }
          ],
          "scatter": [
           {
            "marker": {
             "colorbar": {
              "outlinewidth": 0,
              "ticks": ""
             }
            },
            "type": "scatter"
           }
          ],
          "scatter3d": [
           {
            "line": {
             "colorbar": {
              "outlinewidth": 0,
              "ticks": ""
             }
            },
            "marker": {
             "colorbar": {
              "outlinewidth": 0,
              "ticks": ""
             }
            },
            "type": "scatter3d"
           }
          ],
          "scattercarpet": [
           {
            "marker": {
             "colorbar": {
              "outlinewidth": 0,
              "ticks": ""
             }
            },
            "type": "scattercarpet"
           }
          ],
          "scattergeo": [
           {
            "marker": {
             "colorbar": {
              "outlinewidth": 0,
              "ticks": ""
             }
            },
            "type": "scattergeo"
           }
          ],
          "scattergl": [
           {
            "marker": {
             "colorbar": {
              "outlinewidth": 0,
              "ticks": ""
             }
            },
            "type": "scattergl"
           }
          ],
          "scattermapbox": [
           {
            "marker": {
             "colorbar": {
              "outlinewidth": 0,
              "ticks": ""
             }
            },
            "type": "scattermapbox"
           }
          ],
          "scatterpolar": [
           {
            "marker": {
             "colorbar": {
              "outlinewidth": 0,
              "ticks": ""
             }
            },
            "type": "scatterpolar"
           }
          ],
          "scatterpolargl": [
           {
            "marker": {
             "colorbar": {
              "outlinewidth": 0,
              "ticks": ""
             }
            },
            "type": "scatterpolargl"
           }
          ],
          "scatterternary": [
           {
            "marker": {
             "colorbar": {
              "outlinewidth": 0,
              "ticks": ""
             }
            },
            "type": "scatterternary"
           }
          ],
          "surface": [
           {
            "colorbar": {
             "outlinewidth": 0,
             "ticks": ""
            },
            "colorscale": [
             [
              0,
              "#0d0887"
             ],
             [
              0.1111111111111111,
              "#46039f"
             ],
             [
              0.2222222222222222,
              "#7201a8"
             ],
             [
              0.3333333333333333,
              "#9c179e"
             ],
             [
              0.4444444444444444,
              "#bd3786"
             ],
             [
              0.5555555555555556,
              "#d8576b"
             ],
             [
              0.6666666666666666,
              "#ed7953"
             ],
             [
              0.7777777777777778,
              "#fb9f3a"
             ],
             [
              0.8888888888888888,
              "#fdca26"
             ],
             [
              1,
              "#f0f921"
             ]
            ],
            "type": "surface"
           }
          ],
          "table": [
           {
            "cells": {
             "fill": {
              "color": "#EBF0F8"
             },
             "line": {
              "color": "white"
             }
            },
            "header": {
             "fill": {
              "color": "#C8D4E3"
             },
             "line": {
              "color": "white"
             }
            },
            "type": "table"
           }
          ]
         },
         "layout": {
          "annotationdefaults": {
           "arrowcolor": "#2a3f5f",
           "arrowhead": 0,
           "arrowwidth": 1
          },
          "autotypenumbers": "strict",
          "coloraxis": {
           "colorbar": {
            "outlinewidth": 0,
            "ticks": ""
           }
          },
          "colorscale": {
           "diverging": [
            [
             0,
             "#8e0152"
            ],
            [
             0.1,
             "#c51b7d"
            ],
            [
             0.2,
             "#de77ae"
            ],
            [
             0.3,
             "#f1b6da"
            ],
            [
             0.4,
             "#fde0ef"
            ],
            [
             0.5,
             "#f7f7f7"
            ],
            [
             0.6,
             "#e6f5d0"
            ],
            [
             0.7,
             "#b8e186"
            ],
            [
             0.8,
             "#7fbc41"
            ],
            [
             0.9,
             "#4d9221"
            ],
            [
             1,
             "#276419"
            ]
           ],
           "sequential": [
            [
             0,
             "#0d0887"
            ],
            [
             0.1111111111111111,
             "#46039f"
            ],
            [
             0.2222222222222222,
             "#7201a8"
            ],
            [
             0.3333333333333333,
             "#9c179e"
            ],
            [
             0.4444444444444444,
             "#bd3786"
            ],
            [
             0.5555555555555556,
             "#d8576b"
            ],
            [
             0.6666666666666666,
             "#ed7953"
            ],
            [
             0.7777777777777778,
             "#fb9f3a"
            ],
            [
             0.8888888888888888,
             "#fdca26"
            ],
            [
             1,
             "#f0f921"
            ]
           ],
           "sequentialminus": [
            [
             0,
             "#0d0887"
            ],
            [
             0.1111111111111111,
             "#46039f"
            ],
            [
             0.2222222222222222,
             "#7201a8"
            ],
            [
             0.3333333333333333,
             "#9c179e"
            ],
            [
             0.4444444444444444,
             "#bd3786"
            ],
            [
             0.5555555555555556,
             "#d8576b"
            ],
            [
             0.6666666666666666,
             "#ed7953"
            ],
            [
             0.7777777777777778,
             "#fb9f3a"
            ],
            [
             0.8888888888888888,
             "#fdca26"
            ],
            [
             1,
             "#f0f921"
            ]
           ]
          },
          "colorway": [
           "#636efa",
           "#EF553B",
           "#00cc96",
           "#ab63fa",
           "#FFA15A",
           "#19d3f3",
           "#FF6692",
           "#B6E880",
           "#FF97FF",
           "#FECB52"
          ],
          "font": {
           "color": "#2a3f5f"
          },
          "geo": {
           "bgcolor": "white",
           "lakecolor": "white",
           "landcolor": "#E5ECF6",
           "showlakes": true,
           "showland": true,
           "subunitcolor": "white"
          },
          "hoverlabel": {
           "align": "left"
          },
          "hovermode": "closest",
          "mapbox": {
           "style": "light"
          },
          "paper_bgcolor": "white",
          "plot_bgcolor": "#E5ECF6",
          "polar": {
           "angularaxis": {
            "gridcolor": "white",
            "linecolor": "white",
            "ticks": ""
           },
           "bgcolor": "#E5ECF6",
           "radialaxis": {
            "gridcolor": "white",
            "linecolor": "white",
            "ticks": ""
           }
          },
          "scene": {
           "xaxis": {
            "backgroundcolor": "#E5ECF6",
            "gridcolor": "white",
            "gridwidth": 2,
            "linecolor": "white",
            "showbackground": true,
            "ticks": "",
            "zerolinecolor": "white"
           },
           "yaxis": {
            "backgroundcolor": "#E5ECF6",
            "gridcolor": "white",
            "gridwidth": 2,
            "linecolor": "white",
            "showbackground": true,
            "ticks": "",
            "zerolinecolor": "white"
           },
           "zaxis": {
            "backgroundcolor": "#E5ECF6",
            "gridcolor": "white",
            "gridwidth": 2,
            "linecolor": "white",
            "showbackground": true,
            "ticks": "",
            "zerolinecolor": "white"
           }
          },
          "shapedefaults": {
           "line": {
            "color": "#2a3f5f"
           }
          },
          "ternary": {
           "aaxis": {
            "gridcolor": "white",
            "linecolor": "white",
            "ticks": ""
           },
           "baxis": {
            "gridcolor": "white",
            "linecolor": "white",
            "ticks": ""
           },
           "bgcolor": "#E5ECF6",
           "caxis": {
            "gridcolor": "white",
            "linecolor": "white",
            "ticks": ""
           }
          },
          "title": {
           "x": 0.05
          },
          "xaxis": {
           "automargin": true,
           "gridcolor": "white",
           "linecolor": "white",
           "ticks": "",
           "title": {
            "standoff": 15
           },
           "zerolinecolor": "white",
           "zerolinewidth": 2
          },
          "yaxis": {
           "automargin": true,
           "gridcolor": "white",
           "linecolor": "white",
           "ticks": "",
           "title": {
            "standoff": 15
           },
           "zerolinecolor": "white",
           "zerolinewidth": 2
          }
         }
        },
        "title": {
         "font": {
          "color": "#351C15",
          "size": 25
         },
         "text": "<b>YTD 2021 - Purchases Percentage Breakdown<b>",
         "x": 0.5
        },
        "width": 900,
        "xaxis": {
         "title": {
          "text": "Purchase Categories"
         }
        },
        "yaxis": {
         "title": {
          "text": "Percentage"
         }
        }
       }
      }
     },
     "metadata": {},
     "output_type": "display_data"
    }
   ],
   "source": [
    "import plotly.graph_objects as go\n",
    "\n",
    "Categories = ['RETREADS', 'RETREAD + CASING', 'REPAIR ONLY', 'NEW TIRES']\n",
    "\n",
    "# Create blank figure\n",
    "fig1 = go.Figure()\n",
    "\n",
    "# Add bar for RETREADS:\n",
    "if Retreads_percentage >= 1:\n",
    "    fig1.add_trace(go.Bar(\n",
    "        x=['RETREADS'],\n",
    "        y=[round(Retreads_percentage, 0)],\n",
    "        name='Retreads', \n",
    "        marker_color = 'black'))\n",
    "\n",
    "else: \n",
    "    fig1.add_trace(go.Bar(\n",
    "        x=['RETREADS'],\n",
    "        y=[round(Retreads_percentage, 1)],\n",
    "        name='Retreads', \n",
    "        marker_color = 'black'))\n",
    "\n",
    "# Add Bar for RETREAD + CASINGS\n",
    "if Retreads_plus_Casings_percentage >= 1:\n",
    "    fig1.add_trace(go.Bar(\n",
    "        x=['RETREAD + CASING'],\n",
    "        y=[round(Retreads_plus_Casings_percentage, 0)],\n",
    "        name='Retread + Casing',\n",
    "        marker_color='dimgray'))\n",
    "else:\n",
    "    fig1.add_trace(go.Bar(\n",
    "    x=['RETREAD + CASING'],\n",
    "    y=[round(Retreads_plus_Casings_percentage, 1)],\n",
    "    name='Retread + Casing',\n",
    "    marker_color='dimgray'))\n",
    "\n",
    "# Add Bar for REPAIR ONLY\n",
    "if Repair_Only_percentage >= 1:\n",
    "    fig1.add_trace(go.Bar(\n",
    "        x=['REPAIR ONLY'],\n",
    "        y=[round(Repair_Only_percentage, 0)],\n",
    "        name='Repair Only',\n",
    "        marker_color='royalblue'))\n",
    "else:\n",
    "    fig1.add_trace(go.Bar(\n",
    "        x=['REPAIR ONLY'],\n",
    "        y=[round(Repair_Only_percentage, 1)],\n",
    "        name='Repair Only',\n",
    "        marker_color='royalblue'))\n",
    "\n",
    "# Add Bar for NEW TIRES\n",
    "if New_Tires_percentage >= 1 and New_Tires_percentage <= 99:\n",
    "    fig1.add_trace(go.Bar(\n",
    "        x=['NEW TIRES'],\n",
    "        y=[round(New_Tires_percentage, 0)],\n",
    "        name='New Tires',\n",
    "        marker_color='#caa74d'))\n",
    "else:\n",
    "    fig1.add_trace(go.Bar(\n",
    "        x=['NEW TIRES'],\n",
    "        y=[round(New_Tires_percentage, 1)],\n",
    "        name='New Tires',\n",
    "        marker_color='#caa74d'))\n",
    "\n",
    "\n",
    "fig1.update_traces(texttemplate='%{y:.s}%', textposition= 'auto', textfont = {'size': [27]} )\n",
    "\n",
    "# Here let's setup fig2 = fig1 so that we can use fig2 as a different size JUST for the website.  We'll use fig1 for the FIRST index.html to generate the pdf.\n",
    "# Since the website needs smaller graphs, we'll need to do this last part twice JUST to change the size amounts.\n",
    "\n",
    "\n",
    "# Here we modify the tickangle of the xaxis, resulting in rotated labels.\n",
    "fig1.update_layout(\n",
    "    barmode='group', \n",
    "    title_text=f\"<b>YTD {Current_Year} - Purchases Percentage Breakdown<b>\", \n",
    "    title_font_size=38,\n",
    "    title_font_color=\"#351C15\",\n",
    "    title_x = 0.5,\n",
    "    xaxis_title=\"Purchase Categories\",\n",
    "    yaxis_title=\"Percentage\",\n",
    "    autosize=False, width=1445, height=900,\n",
    "    # xaxis_tickangle=-45,\n",
    "    showlegend=False, \n",
    "    font=dict(\n",
    "            family=None,\n",
    "            size=25,\n",
    "            color=\"black\"\n",
    "        ))\n",
    "\n",
    "\n",
    "\n",
    "# Write the image that we'll use for index.html to generate the pdf:\n",
    "fig1.write_image(f\"Images_graphs/{Current_Year}_Sales_Percentage_Breakdown.svg\")\n",
    "fig1.show()\n",
    "\n",
    "# NOW write fig2's size to be used for plotly interactive in the website afterwards\n",
    "# PLOTLY INTERACTIVE:\n",
    "fig2 = fig1\n",
    "fig1.update_traces(texttemplate='%{y:.s}%', textposition= 'auto', textfont = {'size': [20]} )\n",
    "# NOW do the same thing but with different image sizes for fig2 (for the website)!!!\n",
    "fig2.update_layout(\n",
    "    barmode='group', \n",
    "    title_text=f\"<b>YTD {Current_Year} - Purchases Percentage Breakdown<b>\", \n",
    "    title_font_size=25,\n",
    "    title_font_color=\"#351C15\",\n",
    "    title_x = 0.5,\n",
    "    xaxis_title=\"Purchase Categories\",\n",
    "    yaxis_title=\"Percentage\",\n",
    "    autosize=False, width=900, height=650,\n",
    "    # xaxis_tickangle=-45,\n",
    "    showlegend=False, \n",
    "    font=dict(\n",
    "            family=None,\n",
    "            size=16,\n",
    "            color=\"black\"\n",
    "        ))\n",
    "\n",
    "\n",
    "purchase_percentage_breakdown = fig2\n",
    "Lonestar_Purchase_Percentage_Breakdown_url = py.plot(purchase_percentage_breakdown, filename = 'Lonestar_Purchase_Percentage_Breakdown', auto_open=False)\n",
    "\n",
    "\n",
    "fig2.show()"
   ]
  },
  {
   "cell_type": "markdown",
   "metadata": {},
   "source": [
    "# Now Make a Percentage Breakdown for Retreads bar chart:"
   ]
  },
  {
   "cell_type": "code",
   "execution_count": 16,
   "metadata": {},
   "outputs": [],
   "source": [
    "if Bandag_Retread_YTD_TOTAL > 0:\n",
    "    Retread_245_percentage = round(100 * (Retread_245_slash_70R17_point_5_Columns[\"YTD\"]/Bandag_Retread_YTD_TOTAL), 2)\n",
    "    Retread_295_percentage = round(100 * (Retread_295_slash_75R22_point_5_Columns['YTD']/Bandag_Retread_YTD_TOTAL), 2)\n",
    "else:\n",
    "    Retread_245_percentage = 0\n",
    "    Retread_295_percentage = 0"
   ]
  },
  {
   "cell_type": "code",
   "execution_count": 17,
   "metadata": {},
   "outputs": [
    {
     "data": {
      "application/vnd.plotly.v1+json": {
       "config": {
        "plotlyServerURL": "https://plotly.com"
       },
       "data": [
        {
         "marker": {
          "color": "black"
         },
         "name": "245/70R17.5",
         "textfont": {
          "size": [
           32
          ]
         },
         "textposition": "auto",
         "texttemplate": "%{y:.s}%",
         "type": "bar",
         "x": [
          "245/70R17.5"
         ],
         "y": [
          5
         ]
        },
        {
         "marker": {
          "color": "#caa74d"
         },
         "name": "295/70R22.5",
         "textfont": {
          "size": [
           32
          ]
         },
         "textposition": "auto",
         "texttemplate": "%{y:.s}%",
         "type": "bar",
         "x": [
          "295/70R22.5"
         ],
         "y": [
          95
         ]
        }
       ],
       "layout": {
        "autosize": false,
        "barmode": "group",
        "font": {
         "color": "black",
         "size": 29
        },
        "height": 900,
        "showlegend": false,
        "template": {
         "data": {
          "bar": [
           {
            "error_x": {
             "color": "#2a3f5f"
            },
            "error_y": {
             "color": "#2a3f5f"
            },
            "marker": {
             "line": {
              "color": "#E5ECF6",
              "width": 0.5
             }
            },
            "type": "bar"
           }
          ],
          "barpolar": [
           {
            "marker": {
             "line": {
              "color": "#E5ECF6",
              "width": 0.5
             }
            },
            "type": "barpolar"
           }
          ],
          "carpet": [
           {
            "aaxis": {
             "endlinecolor": "#2a3f5f",
             "gridcolor": "white",
             "linecolor": "white",
             "minorgridcolor": "white",
             "startlinecolor": "#2a3f5f"
            },
            "baxis": {
             "endlinecolor": "#2a3f5f",
             "gridcolor": "white",
             "linecolor": "white",
             "minorgridcolor": "white",
             "startlinecolor": "#2a3f5f"
            },
            "type": "carpet"
           }
          ],
          "choropleth": [
           {
            "colorbar": {
             "outlinewidth": 0,
             "ticks": ""
            },
            "type": "choropleth"
           }
          ],
          "contour": [
           {
            "colorbar": {
             "outlinewidth": 0,
             "ticks": ""
            },
            "colorscale": [
             [
              0,
              "#0d0887"
             ],
             [
              0.1111111111111111,
              "#46039f"
             ],
             [
              0.2222222222222222,
              "#7201a8"
             ],
             [
              0.3333333333333333,
              "#9c179e"
             ],
             [
              0.4444444444444444,
              "#bd3786"
             ],
             [
              0.5555555555555556,
              "#d8576b"
             ],
             [
              0.6666666666666666,
              "#ed7953"
             ],
             [
              0.7777777777777778,
              "#fb9f3a"
             ],
             [
              0.8888888888888888,
              "#fdca26"
             ],
             [
              1,
              "#f0f921"
             ]
            ],
            "type": "contour"
           }
          ],
          "contourcarpet": [
           {
            "colorbar": {
             "outlinewidth": 0,
             "ticks": ""
            },
            "type": "contourcarpet"
           }
          ],
          "heatmap": [
           {
            "colorbar": {
             "outlinewidth": 0,
             "ticks": ""
            },
            "colorscale": [
             [
              0,
              "#0d0887"
             ],
             [
              0.1111111111111111,
              "#46039f"
             ],
             [
              0.2222222222222222,
              "#7201a8"
             ],
             [
              0.3333333333333333,
              "#9c179e"
             ],
             [
              0.4444444444444444,
              "#bd3786"
             ],
             [
              0.5555555555555556,
              "#d8576b"
             ],
             [
              0.6666666666666666,
              "#ed7953"
             ],
             [
              0.7777777777777778,
              "#fb9f3a"
             ],
             [
              0.8888888888888888,
              "#fdca26"
             ],
             [
              1,
              "#f0f921"
             ]
            ],
            "type": "heatmap"
           }
          ],
          "heatmapgl": [
           {
            "colorbar": {
             "outlinewidth": 0,
             "ticks": ""
            },
            "colorscale": [
             [
              0,
              "#0d0887"
             ],
             [
              0.1111111111111111,
              "#46039f"
             ],
             [
              0.2222222222222222,
              "#7201a8"
             ],
             [
              0.3333333333333333,
              "#9c179e"
             ],
             [
              0.4444444444444444,
              "#bd3786"
             ],
             [
              0.5555555555555556,
              "#d8576b"
             ],
             [
              0.6666666666666666,
              "#ed7953"
             ],
             [
              0.7777777777777778,
              "#fb9f3a"
             ],
             [
              0.8888888888888888,
              "#fdca26"
             ],
             [
              1,
              "#f0f921"
             ]
            ],
            "type": "heatmapgl"
           }
          ],
          "histogram": [
           {
            "marker": {
             "colorbar": {
              "outlinewidth": 0,
              "ticks": ""
             }
            },
            "type": "histogram"
           }
          ],
          "histogram2d": [
           {
            "colorbar": {
             "outlinewidth": 0,
             "ticks": ""
            },
            "colorscale": [
             [
              0,
              "#0d0887"
             ],
             [
              0.1111111111111111,
              "#46039f"
             ],
             [
              0.2222222222222222,
              "#7201a8"
             ],
             [
              0.3333333333333333,
              "#9c179e"
             ],
             [
              0.4444444444444444,
              "#bd3786"
             ],
             [
              0.5555555555555556,
              "#d8576b"
             ],
             [
              0.6666666666666666,
              "#ed7953"
             ],
             [
              0.7777777777777778,
              "#fb9f3a"
             ],
             [
              0.8888888888888888,
              "#fdca26"
             ],
             [
              1,
              "#f0f921"
             ]
            ],
            "type": "histogram2d"
           }
          ],
          "histogram2dcontour": [
           {
            "colorbar": {
             "outlinewidth": 0,
             "ticks": ""
            },
            "colorscale": [
             [
              0,
              "#0d0887"
             ],
             [
              0.1111111111111111,
              "#46039f"
             ],
             [
              0.2222222222222222,
              "#7201a8"
             ],
             [
              0.3333333333333333,
              "#9c179e"
             ],
             [
              0.4444444444444444,
              "#bd3786"
             ],
             [
              0.5555555555555556,
              "#d8576b"
             ],
             [
              0.6666666666666666,
              "#ed7953"
             ],
             [
              0.7777777777777778,
              "#fb9f3a"
             ],
             [
              0.8888888888888888,
              "#fdca26"
             ],
             [
              1,
              "#f0f921"
             ]
            ],
            "type": "histogram2dcontour"
           }
          ],
          "mesh3d": [
           {
            "colorbar": {
             "outlinewidth": 0,
             "ticks": ""
            },
            "type": "mesh3d"
           }
          ],
          "parcoords": [
           {
            "line": {
             "colorbar": {
              "outlinewidth": 0,
              "ticks": ""
             }
            },
            "type": "parcoords"
           }
          ],
          "pie": [
           {
            "automargin": true,
            "type": "pie"
           }
          ],
          "scatter": [
           {
            "marker": {
             "colorbar": {
              "outlinewidth": 0,
              "ticks": ""
             }
            },
            "type": "scatter"
           }
          ],
          "scatter3d": [
           {
            "line": {
             "colorbar": {
              "outlinewidth": 0,
              "ticks": ""
             }
            },
            "marker": {
             "colorbar": {
              "outlinewidth": 0,
              "ticks": ""
             }
            },
            "type": "scatter3d"
           }
          ],
          "scattercarpet": [
           {
            "marker": {
             "colorbar": {
              "outlinewidth": 0,
              "ticks": ""
             }
            },
            "type": "scattercarpet"
           }
          ],
          "scattergeo": [
           {
            "marker": {
             "colorbar": {
              "outlinewidth": 0,
              "ticks": ""
             }
            },
            "type": "scattergeo"
           }
          ],
          "scattergl": [
           {
            "marker": {
             "colorbar": {
              "outlinewidth": 0,
              "ticks": ""
             }
            },
            "type": "scattergl"
           }
          ],
          "scattermapbox": [
           {
            "marker": {
             "colorbar": {
              "outlinewidth": 0,
              "ticks": ""
             }
            },
            "type": "scattermapbox"
           }
          ],
          "scatterpolar": [
           {
            "marker": {
             "colorbar": {
              "outlinewidth": 0,
              "ticks": ""
             }
            },
            "type": "scatterpolar"
           }
          ],
          "scatterpolargl": [
           {
            "marker": {
             "colorbar": {
              "outlinewidth": 0,
              "ticks": ""
             }
            },
            "type": "scatterpolargl"
           }
          ],
          "scatterternary": [
           {
            "marker": {
             "colorbar": {
              "outlinewidth": 0,
              "ticks": ""
             }
            },
            "type": "scatterternary"
           }
          ],
          "surface": [
           {
            "colorbar": {
             "outlinewidth": 0,
             "ticks": ""
            },
            "colorscale": [
             [
              0,
              "#0d0887"
             ],
             [
              0.1111111111111111,
              "#46039f"
             ],
             [
              0.2222222222222222,
              "#7201a8"
             ],
             [
              0.3333333333333333,
              "#9c179e"
             ],
             [
              0.4444444444444444,
              "#bd3786"
             ],
             [
              0.5555555555555556,
              "#d8576b"
             ],
             [
              0.6666666666666666,
              "#ed7953"
             ],
             [
              0.7777777777777778,
              "#fb9f3a"
             ],
             [
              0.8888888888888888,
              "#fdca26"
             ],
             [
              1,
              "#f0f921"
             ]
            ],
            "type": "surface"
           }
          ],
          "table": [
           {
            "cells": {
             "fill": {
              "color": "#EBF0F8"
             },
             "line": {
              "color": "white"
             }
            },
            "header": {
             "fill": {
              "color": "#C8D4E3"
             },
             "line": {
              "color": "white"
             }
            },
            "type": "table"
           }
          ]
         },
         "layout": {
          "annotationdefaults": {
           "arrowcolor": "#2a3f5f",
           "arrowhead": 0,
           "arrowwidth": 1
          },
          "autotypenumbers": "strict",
          "coloraxis": {
           "colorbar": {
            "outlinewidth": 0,
            "ticks": ""
           }
          },
          "colorscale": {
           "diverging": [
            [
             0,
             "#8e0152"
            ],
            [
             0.1,
             "#c51b7d"
            ],
            [
             0.2,
             "#de77ae"
            ],
            [
             0.3,
             "#f1b6da"
            ],
            [
             0.4,
             "#fde0ef"
            ],
            [
             0.5,
             "#f7f7f7"
            ],
            [
             0.6,
             "#e6f5d0"
            ],
            [
             0.7,
             "#b8e186"
            ],
            [
             0.8,
             "#7fbc41"
            ],
            [
             0.9,
             "#4d9221"
            ],
            [
             1,
             "#276419"
            ]
           ],
           "sequential": [
            [
             0,
             "#0d0887"
            ],
            [
             0.1111111111111111,
             "#46039f"
            ],
            [
             0.2222222222222222,
             "#7201a8"
            ],
            [
             0.3333333333333333,
             "#9c179e"
            ],
            [
             0.4444444444444444,
             "#bd3786"
            ],
            [
             0.5555555555555556,
             "#d8576b"
            ],
            [
             0.6666666666666666,
             "#ed7953"
            ],
            [
             0.7777777777777778,
             "#fb9f3a"
            ],
            [
             0.8888888888888888,
             "#fdca26"
            ],
            [
             1,
             "#f0f921"
            ]
           ],
           "sequentialminus": [
            [
             0,
             "#0d0887"
            ],
            [
             0.1111111111111111,
             "#46039f"
            ],
            [
             0.2222222222222222,
             "#7201a8"
            ],
            [
             0.3333333333333333,
             "#9c179e"
            ],
            [
             0.4444444444444444,
             "#bd3786"
            ],
            [
             0.5555555555555556,
             "#d8576b"
            ],
            [
             0.6666666666666666,
             "#ed7953"
            ],
            [
             0.7777777777777778,
             "#fb9f3a"
            ],
            [
             0.8888888888888888,
             "#fdca26"
            ],
            [
             1,
             "#f0f921"
            ]
           ]
          },
          "colorway": [
           "#636efa",
           "#EF553B",
           "#00cc96",
           "#ab63fa",
           "#FFA15A",
           "#19d3f3",
           "#FF6692",
           "#B6E880",
           "#FF97FF",
           "#FECB52"
          ],
          "font": {
           "color": "#2a3f5f"
          },
          "geo": {
           "bgcolor": "white",
           "lakecolor": "white",
           "landcolor": "#E5ECF6",
           "showlakes": true,
           "showland": true,
           "subunitcolor": "white"
          },
          "hoverlabel": {
           "align": "left"
          },
          "hovermode": "closest",
          "mapbox": {
           "style": "light"
          },
          "paper_bgcolor": "white",
          "plot_bgcolor": "#E5ECF6",
          "polar": {
           "angularaxis": {
            "gridcolor": "white",
            "linecolor": "white",
            "ticks": ""
           },
           "bgcolor": "#E5ECF6",
           "radialaxis": {
            "gridcolor": "white",
            "linecolor": "white",
            "ticks": ""
           }
          },
          "scene": {
           "xaxis": {
            "backgroundcolor": "#E5ECF6",
            "gridcolor": "white",
            "gridwidth": 2,
            "linecolor": "white",
            "showbackground": true,
            "ticks": "",
            "zerolinecolor": "white"
           },
           "yaxis": {
            "backgroundcolor": "#E5ECF6",
            "gridcolor": "white",
            "gridwidth": 2,
            "linecolor": "white",
            "showbackground": true,
            "ticks": "",
            "zerolinecolor": "white"
           },
           "zaxis": {
            "backgroundcolor": "#E5ECF6",
            "gridcolor": "white",
            "gridwidth": 2,
            "linecolor": "white",
            "showbackground": true,
            "ticks": "",
            "zerolinecolor": "white"
           }
          },
          "shapedefaults": {
           "line": {
            "color": "#2a3f5f"
           }
          },
          "ternary": {
           "aaxis": {
            "gridcolor": "white",
            "linecolor": "white",
            "ticks": ""
           },
           "baxis": {
            "gridcolor": "white",
            "linecolor": "white",
            "ticks": ""
           },
           "bgcolor": "#E5ECF6",
           "caxis": {
            "gridcolor": "white",
            "linecolor": "white",
            "ticks": ""
           }
          },
          "title": {
           "x": 0.05
          },
          "xaxis": {
           "automargin": true,
           "gridcolor": "white",
           "linecolor": "white",
           "ticks": "",
           "title": {
            "standoff": 15
           },
           "zerolinecolor": "white",
           "zerolinewidth": 2
          },
          "yaxis": {
           "automargin": true,
           "gridcolor": "white",
           "linecolor": "white",
           "ticks": "",
           "title": {
            "standoff": 15
           },
           "zerolinecolor": "white",
           "zerolinewidth": 2
          }
         }
        },
        "title": {
         "font": {
          "color": "#351C15",
          "size": 38
         },
         "text": "<b>YTD 2021 - Retreads Percentage Breakdown<b>",
         "x": 0.5
        },
        "width": 1445,
        "xaxis": {
         "title": {
          "text": "Tire Size"
         }
        },
        "yaxis": {
         "title": {
          "text": "Percentage"
         }
        }
       }
      }
     },
     "metadata": {},
     "output_type": "display_data"
    }
   ],
   "source": [
    "import plotly.graph_objects as go\n",
    "\n",
    "Categories = ['245/70R17.5', '295/70R22.5']\n",
    "\n",
    "# Create blank figure\n",
    "fig1 = go.Figure()\n",
    "\n",
    "# Add bar for 245/70R17.5 RETREADS:\n",
    "if Retread_245_percentage >= 1:\n",
    "    fig1.add_trace(go.Bar(\n",
    "        x=['245/70R17.5'],\n",
    "        y=[round(Retread_245_percentage, 0)],\n",
    "        name='245/70R17.5', \n",
    "        marker_color = 'black'))\n",
    "else: \n",
    "    fig1.add_trace(go.Bar(\n",
    "        x=['245/70R17.5'],\n",
    "        y=[round(Retread_245_percentage, 1)],\n",
    "        name='245/70R17.5', \n",
    "        marker_color = 'black'))\n",
    "\n",
    "# Add bar for 295/70R22.5 RETREADS:\n",
    "if Retread_295_percentage >= 1:\n",
    "    fig1.add_trace(go.Bar(\n",
    "        x=['295/70R22.5'],\n",
    "        y=[round(Retread_295_percentage, 0)],\n",
    "        name='295/70R22.5', \n",
    "        marker_color = '#caa74d'))\n",
    "else: \n",
    "    fig1.add_trace(go.Bar(\n",
    "        x=['295/70R22.5'],\n",
    "        y=[round(Retread_295_percentage, 1)],\n",
    "        name='295/70R22.5', \n",
    "        marker_color = '#caa74d'))\n",
    "\n",
    "\n",
    "fig1.update_traces(texttemplate='%{y:.s}%', textposition= 'auto', textfont = {'size': [32]} )\n",
    "\n",
    "# Here we modify the tickangle of the xaxis, resulting in rotated labels.\n",
    "fig1.update_layout(\n",
    "    barmode='group', \n",
    "    title_text=f\"<b>YTD {Current_Year} - Retreads Percentage Breakdown<b>\", \n",
    "    title_font_size=38,\n",
    "    title_font_color=\"#351C15\",\n",
    "    title_x = 0.5,\n",
    "    xaxis_title=\"Tire Size\",\n",
    "    yaxis_title=\"Percentage\",\n",
    "    autosize=False, width=1445, height=900,\n",
    "    # xaxis_tickangle=-45,\n",
    "    showlegend=False, \n",
    "    font=dict(\n",
    "            family=None,\n",
    "            size=29,\n",
    "            color=\"black\"\n",
    "        ))\n",
    "\n",
    "\n",
    "fig1.write_image(f\"Images_graphs/{Current_Year}_Retreads_Percentage_Breakdown.svg\")\n",
    "fig1.show()"
   ]
  },
  {
   "cell_type": "markdown",
   "metadata": {},
   "source": [
    "# Create 3 Trend Line charts:"
   ]
  },
  {
   "cell_type": "code",
   "execution_count": 18,
   "metadata": {},
   "outputs": [
    {
     "data": {
      "text/html": [
       "<div>\n",
       "<style scoped>\n",
       "    .dataframe tbody tr th:only-of-type {\n",
       "        vertical-align: middle;\n",
       "    }\n",
       "\n",
       "    .dataframe tbody tr th {\n",
       "        vertical-align: top;\n",
       "    }\n",
       "\n",
       "    .dataframe thead th {\n",
       "        text-align: right;\n",
       "    }\n",
       "</style>\n",
       "<table border=\"1\" class=\"dataframe\">\n",
       "  <thead>\n",
       "    <tr style=\"text-align: right;\">\n",
       "      <th></th>\n",
       "      <th>Category</th>\n",
       "      <th>YTD</th>\n",
       "      <th>JAN</th>\n",
       "      <th>FEB</th>\n",
       "      <th>MAR</th>\n",
       "      <th>APR</th>\n",
       "      <th>MAY</th>\n",
       "      <th>JUN</th>\n",
       "      <th>JUL</th>\n",
       "      <th>AUG</th>\n",
       "      <th>SEPT</th>\n",
       "      <th>OCT</th>\n",
       "      <th>NOV</th>\n",
       "      <th>DEC</th>\n",
       "    </tr>\n",
       "  </thead>\n",
       "  <tbody>\n",
       "    <tr>\n",
       "      <th>0</th>\n",
       "      <td>SERVICE</td>\n",
       "      <td>8277.75</td>\n",
       "      <td>570.5</td>\n",
       "      <td>596.0</td>\n",
       "      <td>931.0</td>\n",
       "      <td>884.5</td>\n",
       "      <td>766.0</td>\n",
       "      <td>833.5</td>\n",
       "      <td>819.0</td>\n",
       "      <td>920.0</td>\n",
       "      <td>1038.75</td>\n",
       "      <td>918.5</td>\n",
       "      <td>-</td>\n",
       "      <td>-</td>\n",
       "    </tr>\n",
       "    <tr>\n",
       "      <th>1</th>\n",
       "      <td>Flat Repair</td>\n",
       "      <td>456.0</td>\n",
       "      <td>63.0</td>\n",
       "      <td>75.0</td>\n",
       "      <td>54.0</td>\n",
       "      <td>60.0</td>\n",
       "      <td>46.0</td>\n",
       "      <td>50.0</td>\n",
       "      <td>40.0</td>\n",
       "      <td>24.0</td>\n",
       "      <td>25.0</td>\n",
       "      <td>19.0</td>\n",
       "      <td>-</td>\n",
       "      <td>-</td>\n",
       "    </tr>\n",
       "    <tr>\n",
       "      <th>2</th>\n",
       "      <td>Tire Rotation</td>\n",
       "      <td>286.0</td>\n",
       "      <td>77.0</td>\n",
       "      <td>14.0</td>\n",
       "      <td>15.0</td>\n",
       "      <td>19.0</td>\n",
       "      <td>19.0</td>\n",
       "      <td>57.0</td>\n",
       "      <td>22.0</td>\n",
       "      <td>7.0</td>\n",
       "      <td>22.0</td>\n",
       "      <td>34.0</td>\n",
       "      <td>-</td>\n",
       "      <td>-</td>\n",
       "    </tr>\n",
       "    <tr>\n",
       "      <th>3</th>\n",
       "      <td>Mount and Dismount</td>\n",
       "      <td>4308.0</td>\n",
       "      <td>288.0</td>\n",
       "      <td>395.0</td>\n",
       "      <td>585.0</td>\n",
       "      <td>546.0</td>\n",
       "      <td>345.0</td>\n",
       "      <td>420.0</td>\n",
       "      <td>416.0</td>\n",
       "      <td>377.0</td>\n",
       "      <td>500.0</td>\n",
       "      <td>436.0</td>\n",
       "      <td>-</td>\n",
       "      <td>-</td>\n",
       "    </tr>\n",
       "    <tr>\n",
       "      <th>4</th>\n",
       "      <td>Service Call Hours</td>\n",
       "      <td>2038.75</td>\n",
       "      <td>101.5</td>\n",
       "      <td>80.0</td>\n",
       "      <td>169.0</td>\n",
       "      <td>168.5</td>\n",
       "      <td>220.0</td>\n",
       "      <td>209.5</td>\n",
       "      <td>236.0</td>\n",
       "      <td>313.0</td>\n",
       "      <td>293.75</td>\n",
       "      <td>247.5</td>\n",
       "      <td>-</td>\n",
       "      <td>-</td>\n",
       "    </tr>\n",
       "    <tr>\n",
       "      <th>5</th>\n",
       "      <td>Scrap</td>\n",
       "      <td>1189.0</td>\n",
       "      <td>41.0</td>\n",
       "      <td>32.0</td>\n",
       "      <td>108.0</td>\n",
       "      <td>91.0</td>\n",
       "      <td>136.0</td>\n",
       "      <td>97.0</td>\n",
       "      <td>105.0</td>\n",
       "      <td>199.0</td>\n",
       "      <td>198.0</td>\n",
       "      <td>182.0</td>\n",
       "      <td>-</td>\n",
       "      <td>-</td>\n",
       "    </tr>\n",
       "    <tr>\n",
       "      <th>6</th>\n",
       "      <td>BANDAG RETREADS</td>\n",
       "      <td>377.0</td>\n",
       "      <td>2.0</td>\n",
       "      <td>1.0</td>\n",
       "      <td>93.0</td>\n",
       "      <td>82.0</td>\n",
       "      <td>39.0</td>\n",
       "      <td>36.0</td>\n",
       "      <td>20.0</td>\n",
       "      <td>16.0</td>\n",
       "      <td>57.0</td>\n",
       "      <td>31.0</td>\n",
       "      <td>-</td>\n",
       "      <td>-</td>\n",
       "    </tr>\n",
       "    <tr>\n",
       "      <th>7</th>\n",
       "      <td>245/70R17.5 RETREAD</td>\n",
       "      <td>17.0</td>\n",
       "      <td>2.0</td>\n",
       "      <td>1.0</td>\n",
       "      <td>6.0</td>\n",
       "      <td>1.0</td>\n",
       "      <td>0.0</td>\n",
       "      <td>0.0</td>\n",
       "      <td>1.0</td>\n",
       "      <td>2.0</td>\n",
       "      <td>4.0</td>\n",
       "      <td>0.0</td>\n",
       "      <td>-</td>\n",
       "      <td>-</td>\n",
       "    </tr>\n",
       "    <tr>\n",
       "      <th>8</th>\n",
       "      <td>295/75R22.5 RETREAD</td>\n",
       "      <td>360.0</td>\n",
       "      <td>0.0</td>\n",
       "      <td>0.0</td>\n",
       "      <td>87.0</td>\n",
       "      <td>81.0</td>\n",
       "      <td>39.0</td>\n",
       "      <td>36.0</td>\n",
       "      <td>19.0</td>\n",
       "      <td>14.0</td>\n",
       "      <td>53.0</td>\n",
       "      <td>31.0</td>\n",
       "      <td>-</td>\n",
       "      <td>-</td>\n",
       "    </tr>\n",
       "    <tr>\n",
       "      <th>9</th>\n",
       "      <td>RETREAD + CASINGS</td>\n",
       "      <td>23.0</td>\n",
       "      <td>0.0</td>\n",
       "      <td>0.0</td>\n",
       "      <td>6.0</td>\n",
       "      <td>0.0</td>\n",
       "      <td>0.0</td>\n",
       "      <td>7.0</td>\n",
       "      <td>0.0</td>\n",
       "      <td>10.0</td>\n",
       "      <td>0.0</td>\n",
       "      <td>0.0</td>\n",
       "      <td>-</td>\n",
       "      <td>-</td>\n",
       "    </tr>\n",
       "    <tr>\n",
       "      <th>10</th>\n",
       "      <td>10.00-20 CAP &amp; CASING</td>\n",
       "      <td>0.0</td>\n",
       "      <td>0.0</td>\n",
       "      <td>0.0</td>\n",
       "      <td>0.0</td>\n",
       "      <td>0.0</td>\n",
       "      <td>0.0</td>\n",
       "      <td>0.0</td>\n",
       "      <td>0.0</td>\n",
       "      <td>0.0</td>\n",
       "      <td>0.0</td>\n",
       "      <td>0.0</td>\n",
       "      <td>-</td>\n",
       "      <td>-</td>\n",
       "    </tr>\n",
       "    <tr>\n",
       "      <th>11</th>\n",
       "      <td>11R22.5 CAP &amp; CASING</td>\n",
       "      <td>4.0</td>\n",
       "      <td>0.0</td>\n",
       "      <td>0.0</td>\n",
       "      <td>0.0</td>\n",
       "      <td>0.0</td>\n",
       "      <td>0.0</td>\n",
       "      <td>4.0</td>\n",
       "      <td>0.0</td>\n",
       "      <td>0.0</td>\n",
       "      <td>0.0</td>\n",
       "      <td>0.0</td>\n",
       "      <td>-</td>\n",
       "      <td>-</td>\n",
       "    </tr>\n",
       "    <tr>\n",
       "      <th>12</th>\n",
       "      <td>295/75R22.5 CAP &amp; CASING</td>\n",
       "      <td>19.0</td>\n",
       "      <td>0.0</td>\n",
       "      <td>0.0</td>\n",
       "      <td>6.0</td>\n",
       "      <td>0.0</td>\n",
       "      <td>0.0</td>\n",
       "      <td>3.0</td>\n",
       "      <td>0.0</td>\n",
       "      <td>10.0</td>\n",
       "      <td>0.0</td>\n",
       "      <td>0.0</td>\n",
       "      <td>-</td>\n",
       "      <td>-</td>\n",
       "    </tr>\n",
       "    <tr>\n",
       "      <th>13</th>\n",
       "      <td>REPAIR ONLY</td>\n",
       "      <td>2.0</td>\n",
       "      <td>0.0</td>\n",
       "      <td>2.0</td>\n",
       "      <td>0.0</td>\n",
       "      <td>0.0</td>\n",
       "      <td>0.0</td>\n",
       "      <td>0.0</td>\n",
       "      <td>0.0</td>\n",
       "      <td>0.0</td>\n",
       "      <td>0.0</td>\n",
       "      <td>0.0</td>\n",
       "      <td>-</td>\n",
       "      <td>-</td>\n",
       "    </tr>\n",
       "    <tr>\n",
       "      <th>14</th>\n",
       "      <td>NEW TIRES</td>\n",
       "      <td>102103.0</td>\n",
       "      <td>6182.0</td>\n",
       "      <td>5324.0</td>\n",
       "      <td>9599.0</td>\n",
       "      <td>10043.0</td>\n",
       "      <td>9234.0</td>\n",
       "      <td>11261.0</td>\n",
       "      <td>12605.0</td>\n",
       "      <td>12881.0</td>\n",
       "      <td>12565.0</td>\n",
       "      <td>12409.0</td>\n",
       "      <td>-</td>\n",
       "      <td>-</td>\n",
       "    </tr>\n",
       "    <tr>\n",
       "      <th>15</th>\n",
       "      <td>BRIDGESTONE</td>\n",
       "      <td>2332.0</td>\n",
       "      <td>209.0</td>\n",
       "      <td>265.0</td>\n",
       "      <td>352.0</td>\n",
       "      <td>274.0</td>\n",
       "      <td>227.0</td>\n",
       "      <td>144.0</td>\n",
       "      <td>146.0</td>\n",
       "      <td>232.0</td>\n",
       "      <td>254.0</td>\n",
       "      <td>229.0</td>\n",
       "      <td>-</td>\n",
       "      <td>-</td>\n",
       "    </tr>\n",
       "    <tr>\n",
       "      <th>16</th>\n",
       "      <td>Light Truck BRIDGESTONE</td>\n",
       "      <td>0.0</td>\n",
       "      <td>0.0</td>\n",
       "      <td>0.0</td>\n",
       "      <td>0.0</td>\n",
       "      <td>0.0</td>\n",
       "      <td>0.0</td>\n",
       "      <td>0.0</td>\n",
       "      <td>0.0</td>\n",
       "      <td>0.0</td>\n",
       "      <td>0.0</td>\n",
       "      <td>0.0</td>\n",
       "      <td>-</td>\n",
       "      <td>-</td>\n",
       "    </tr>\n",
       "    <tr>\n",
       "      <th>17</th>\n",
       "      <td>225/70R19.5 BRIDGESTONE</td>\n",
       "      <td>2.0</td>\n",
       "      <td>0.0</td>\n",
       "      <td>0.0</td>\n",
       "      <td>0.0</td>\n",
       "      <td>0.0</td>\n",
       "      <td>0.0</td>\n",
       "      <td>0.0</td>\n",
       "      <td>2.0</td>\n",
       "      <td>0.0</td>\n",
       "      <td>0.0</td>\n",
       "      <td>0.0</td>\n",
       "      <td>-</td>\n",
       "      <td>-</td>\n",
       "    </tr>\n",
       "    <tr>\n",
       "      <th>18</th>\n",
       "      <td>245/70R17.5 BRIDGESTONE</td>\n",
       "      <td>699.0</td>\n",
       "      <td>35.0</td>\n",
       "      <td>22.0</td>\n",
       "      <td>110.0</td>\n",
       "      <td>140.0</td>\n",
       "      <td>64.0</td>\n",
       "      <td>29.0</td>\n",
       "      <td>40.0</td>\n",
       "      <td>84.0</td>\n",
       "      <td>98.0</td>\n",
       "      <td>77.0</td>\n",
       "      <td>-</td>\n",
       "      <td>-</td>\n",
       "    </tr>\n",
       "    <tr>\n",
       "      <th>19</th>\n",
       "      <td>9R22.5 BRIDGESTONE</td>\n",
       "      <td>0.0</td>\n",
       "      <td>0.0</td>\n",
       "      <td>0.0</td>\n",
       "      <td>0.0</td>\n",
       "      <td>0.0</td>\n",
       "      <td>0.0</td>\n",
       "      <td>0.0</td>\n",
       "      <td>0.0</td>\n",
       "      <td>0.0</td>\n",
       "      <td>0.0</td>\n",
       "      <td>0.0</td>\n",
       "      <td>-</td>\n",
       "      <td>-</td>\n",
       "    </tr>\n",
       "    <tr>\n",
       "      <th>20</th>\n",
       "      <td>295/75R22.5 BRIDGESTONE</td>\n",
       "      <td>1100.0</td>\n",
       "      <td>134.0</td>\n",
       "      <td>212.0</td>\n",
       "      <td>158.0</td>\n",
       "      <td>94.0</td>\n",
       "      <td>115.0</td>\n",
       "      <td>76.0</td>\n",
       "      <td>56.0</td>\n",
       "      <td>101.0</td>\n",
       "      <td>76.0</td>\n",
       "      <td>78.0</td>\n",
       "      <td>-</td>\n",
       "      <td>-</td>\n",
       "    </tr>\n",
       "    <tr>\n",
       "      <th>21</th>\n",
       "      <td>11R22.5 BRIDGESTONE</td>\n",
       "      <td>26.0</td>\n",
       "      <td>0.0</td>\n",
       "      <td>0.0</td>\n",
       "      <td>1.0</td>\n",
       "      <td>32.0</td>\n",
       "      <td>0.0</td>\n",
       "      <td>4.0</td>\n",
       "      <td>0.0</td>\n",
       "      <td>0.0</td>\n",
       "      <td>9.0</td>\n",
       "      <td>4.0</td>\n",
       "      <td>-</td>\n",
       "      <td>-</td>\n",
       "    </tr>\n",
       "    <tr>\n",
       "      <th>22</th>\n",
       "      <td>OTHER BRIDGESTONE</td>\n",
       "      <td>505.0</td>\n",
       "      <td>40.0</td>\n",
       "      <td>31.0</td>\n",
       "      <td>83.0</td>\n",
       "      <td>8.0</td>\n",
       "      <td>48.0</td>\n",
       "      <td>35.0</td>\n",
       "      <td>48.0</td>\n",
       "      <td>47.0</td>\n",
       "      <td>71.0</td>\n",
       "      <td>70.0</td>\n",
       "      <td>-</td>\n",
       "      <td>-</td>\n",
       "    </tr>\n",
       "    <tr>\n",
       "      <th>23</th>\n",
       "      <td>10.00-20</td>\n",
       "      <td>0.0</td>\n",
       "      <td>0.0</td>\n",
       "      <td>0.0</td>\n",
       "      <td>0.0</td>\n",
       "      <td>0.0</td>\n",
       "      <td>0.0</td>\n",
       "      <td>0.0</td>\n",
       "      <td>0.0</td>\n",
       "      <td>0.0</td>\n",
       "      <td>0.0</td>\n",
       "      <td>0.0</td>\n",
       "      <td>-</td>\n",
       "      <td>-</td>\n",
       "    </tr>\n",
       "    <tr>\n",
       "      <th>24</th>\n",
       "      <td>YOKOHAMA TIRES</td>\n",
       "      <td>288.0</td>\n",
       "      <td>32.0</td>\n",
       "      <td>52.0</td>\n",
       "      <td>40.0</td>\n",
       "      <td>61.0</td>\n",
       "      <td>24.0</td>\n",
       "      <td>13.0</td>\n",
       "      <td>23.0</td>\n",
       "      <td>20.0</td>\n",
       "      <td>17.0</td>\n",
       "      <td>6.0</td>\n",
       "      <td>-</td>\n",
       "      <td>-</td>\n",
       "    </tr>\n",
       "    <tr>\n",
       "      <th>25</th>\n",
       "      <td>CONTINENTAL TIRES</td>\n",
       "      <td>956.0</td>\n",
       "      <td>0.0</td>\n",
       "      <td>1.0</td>\n",
       "      <td>6.0</td>\n",
       "      <td>8.0</td>\n",
       "      <td>65.0</td>\n",
       "      <td>164.0</td>\n",
       "      <td>122.0</td>\n",
       "      <td>147.0</td>\n",
       "      <td>224.0</td>\n",
       "      <td>219.0</td>\n",
       "      <td>-</td>\n",
       "      <td>-</td>\n",
       "    </tr>\n",
       "    <tr>\n",
       "      <th>26</th>\n",
       "      <td>HANKOOK TIRES</td>\n",
       "      <td>97565.0</td>\n",
       "      <td>5866.0</td>\n",
       "      <td>4933.0</td>\n",
       "      <td>9051.0</td>\n",
       "      <td>9609.0</td>\n",
       "      <td>8850.0</td>\n",
       "      <td>10880.0</td>\n",
       "      <td>12219.0</td>\n",
       "      <td>12360.0</td>\n",
       "      <td>11948.0</td>\n",
       "      <td>11849.0</td>\n",
       "      <td>-</td>\n",
       "      <td>-</td>\n",
       "    </tr>\n",
       "    <tr>\n",
       "      <th>27</th>\n",
       "      <td>MISC NEW TIRES</td>\n",
       "      <td>962.0</td>\n",
       "      <td>75.0</td>\n",
       "      <td>73.0</td>\n",
       "      <td>150.0</td>\n",
       "      <td>91.0</td>\n",
       "      <td>68.0</td>\n",
       "      <td>60.0</td>\n",
       "      <td>95.0</td>\n",
       "      <td>122.0</td>\n",
       "      <td>122.0</td>\n",
       "      <td>106.0</td>\n",
       "      <td>-</td>\n",
       "      <td>-</td>\n",
       "    </tr>\n",
       "    <tr>\n",
       "      <th>28</th>\n",
       "      <td>BS STEER-NEW TIRE</td>\n",
       "      <td>1300.0</td>\n",
       "      <td>75.0</td>\n",
       "      <td>65.0</td>\n",
       "      <td>205.0</td>\n",
       "      <td>198.0</td>\n",
       "      <td>114.0</td>\n",
       "      <td>71.0</td>\n",
       "      <td>102.0</td>\n",
       "      <td>153.0</td>\n",
       "      <td>168.0</td>\n",
       "      <td>149.0</td>\n",
       "      <td>-</td>\n",
       "      <td>-</td>\n",
       "    </tr>\n",
       "    <tr>\n",
       "      <th>29</th>\n",
       "      <td>BS DRIVE-NEW TIRE</td>\n",
       "      <td>445.0</td>\n",
       "      <td>30.0</td>\n",
       "      <td>46.0</td>\n",
       "      <td>70.0</td>\n",
       "      <td>30.0</td>\n",
       "      <td>46.0</td>\n",
       "      <td>34.0</td>\n",
       "      <td>19.0</td>\n",
       "      <td>30.0</td>\n",
       "      <td>78.0</td>\n",
       "      <td>62.0</td>\n",
       "      <td>-</td>\n",
       "      <td>-</td>\n",
       "    </tr>\n",
       "    <tr>\n",
       "      <th>30</th>\n",
       "      <td>BS TRAILER-NEW TIRE</td>\n",
       "      <td>583.0</td>\n",
       "      <td>104.0</td>\n",
       "      <td>154.0</td>\n",
       "      <td>77.0</td>\n",
       "      <td>46.0</td>\n",
       "      <td>67.0</td>\n",
       "      <td>35.0</td>\n",
       "      <td>25.0</td>\n",
       "      <td>49.0</td>\n",
       "      <td>8.0</td>\n",
       "      <td>18.0</td>\n",
       "      <td>-</td>\n",
       "      <td>-</td>\n",
       "    </tr>\n",
       "  </tbody>\n",
       "</table>\n",
       "</div>"
      ],
      "text/plain": [
       "                    Category       YTD     JAN     FEB     MAR      APR  \\\n",
       "0                    SERVICE   8277.75   570.5   596.0   931.0    884.5   \n",
       "1                Flat Repair     456.0    63.0    75.0    54.0     60.0   \n",
       "2              Tire Rotation     286.0    77.0    14.0    15.0     19.0   \n",
       "3         Mount and Dismount    4308.0   288.0   395.0   585.0    546.0   \n",
       "4         Service Call Hours   2038.75   101.5    80.0   169.0    168.5   \n",
       "5                      Scrap    1189.0    41.0    32.0   108.0     91.0   \n",
       "6            BANDAG RETREADS     377.0     2.0     1.0    93.0     82.0   \n",
       "7        245/70R17.5 RETREAD      17.0     2.0     1.0     6.0      1.0   \n",
       "8        295/75R22.5 RETREAD     360.0     0.0     0.0    87.0     81.0   \n",
       "9          RETREAD + CASINGS      23.0     0.0     0.0     6.0      0.0   \n",
       "10     10.00-20 CAP & CASING       0.0     0.0     0.0     0.0      0.0   \n",
       "11      11R22.5 CAP & CASING       4.0     0.0     0.0     0.0      0.0   \n",
       "12  295/75R22.5 CAP & CASING      19.0     0.0     0.0     6.0      0.0   \n",
       "13               REPAIR ONLY       2.0     0.0     2.0     0.0      0.0   \n",
       "14                 NEW TIRES  102103.0  6182.0  5324.0  9599.0  10043.0   \n",
       "15               BRIDGESTONE    2332.0   209.0   265.0   352.0    274.0   \n",
       "16   Light Truck BRIDGESTONE       0.0     0.0     0.0     0.0      0.0   \n",
       "17   225/70R19.5 BRIDGESTONE       2.0     0.0     0.0     0.0      0.0   \n",
       "18   245/70R17.5 BRIDGESTONE     699.0    35.0    22.0   110.0    140.0   \n",
       "19        9R22.5 BRIDGESTONE       0.0     0.0     0.0     0.0      0.0   \n",
       "20   295/75R22.5 BRIDGESTONE    1100.0   134.0   212.0   158.0     94.0   \n",
       "21       11R22.5 BRIDGESTONE      26.0     0.0     0.0     1.0     32.0   \n",
       "22         OTHER BRIDGESTONE     505.0    40.0    31.0    83.0      8.0   \n",
       "23                  10.00-20       0.0     0.0     0.0     0.0      0.0   \n",
       "24            YOKOHAMA TIRES     288.0    32.0    52.0    40.0     61.0   \n",
       "25         CONTINENTAL TIRES     956.0     0.0     1.0     6.0      8.0   \n",
       "26             HANKOOK TIRES   97565.0  5866.0  4933.0  9051.0   9609.0   \n",
       "27            MISC NEW TIRES     962.0    75.0    73.0   150.0     91.0   \n",
       "28         BS STEER-NEW TIRE    1300.0    75.0    65.0   205.0    198.0   \n",
       "29         BS DRIVE-NEW TIRE     445.0    30.0    46.0    70.0     30.0   \n",
       "30       BS TRAILER-NEW TIRE     583.0   104.0   154.0    77.0     46.0   \n",
       "\n",
       "       MAY      JUN      JUL      AUG     SEPT      OCT NOV DEC  \n",
       "0    766.0    833.5    819.0    920.0  1038.75    918.5   -   -  \n",
       "1     46.0     50.0     40.0     24.0     25.0     19.0   -   -  \n",
       "2     19.0     57.0     22.0      7.0     22.0     34.0   -   -  \n",
       "3    345.0    420.0    416.0    377.0    500.0    436.0   -   -  \n",
       "4    220.0    209.5    236.0    313.0   293.75    247.5   -   -  \n",
       "5    136.0     97.0    105.0    199.0    198.0    182.0   -   -  \n",
       "6     39.0     36.0     20.0     16.0     57.0     31.0   -   -  \n",
       "7      0.0      0.0      1.0      2.0      4.0      0.0   -   -  \n",
       "8     39.0     36.0     19.0     14.0     53.0     31.0   -   -  \n",
       "9      0.0      7.0      0.0     10.0      0.0      0.0   -   -  \n",
       "10     0.0      0.0      0.0      0.0      0.0      0.0   -   -  \n",
       "11     0.0      4.0      0.0      0.0      0.0      0.0   -   -  \n",
       "12     0.0      3.0      0.0     10.0      0.0      0.0   -   -  \n",
       "13     0.0      0.0      0.0      0.0      0.0      0.0   -   -  \n",
       "14  9234.0  11261.0  12605.0  12881.0  12565.0  12409.0   -   -  \n",
       "15   227.0    144.0    146.0    232.0    254.0    229.0   -   -  \n",
       "16     0.0      0.0      0.0      0.0      0.0      0.0   -   -  \n",
       "17     0.0      0.0      2.0      0.0      0.0      0.0   -   -  \n",
       "18    64.0     29.0     40.0     84.0     98.0     77.0   -   -  \n",
       "19     0.0      0.0      0.0      0.0      0.0      0.0   -   -  \n",
       "20   115.0     76.0     56.0    101.0     76.0     78.0   -   -  \n",
       "21     0.0      4.0      0.0      0.0      9.0      4.0   -   -  \n",
       "22    48.0     35.0     48.0     47.0     71.0     70.0   -   -  \n",
       "23     0.0      0.0      0.0      0.0      0.0      0.0   -   -  \n",
       "24    24.0     13.0     23.0     20.0     17.0      6.0   -   -  \n",
       "25    65.0    164.0    122.0    147.0    224.0    219.0   -   -  \n",
       "26  8850.0  10880.0  12219.0  12360.0  11948.0  11849.0   -   -  \n",
       "27    68.0     60.0     95.0    122.0    122.0    106.0   -   -  \n",
       "28   114.0     71.0    102.0    153.0    168.0    149.0   -   -  \n",
       "29    46.0     34.0     19.0     30.0     78.0     62.0   -   -  \n",
       "30    67.0     35.0     25.0     49.0      8.0     18.0   -   -  "
      ]
     },
     "execution_count": 18,
     "metadata": {},
     "output_type": "execute_result"
    }
   ],
   "source": [
    "Current_Year_df_Transposed = Current_Year_df.T\n",
    "Current_Year_df_Transposed = Current_Year_df_Transposed.reset_index()\n",
    "\n",
    "# Recall each month name here represents a numerical date like 202101 is January 2021\n",
    "List_of_Dates = [0, 0, Jan, Feb, Mar, Apr,\n",
    "                    May, Jun, Jul, Aug, Sept, Oct, Nov, Dec]\n",
    "Current_Year_df_Transposed_EXTRA_COLUMN = Current_Year_df_Transposed\n",
    "# Create a new column that has the values from the list above\n",
    "Current_Year_df_Transposed_EXTRA_COLUMN['Date'] = List_of_Dates\n",
    "Current_Year_df_Transposed_EXTRA_COLUMN\n",
    "\n",
    "# ---------------------------------------------------------------------------------\n",
    "# This section will filx YTD to NOT include the current month IF the current month is in the df according to the month variables we assigned at the top of the notebook and, accordingly, the new \"Date\" column in the df.  In other words, this section will only be used if we are testing for the current year and it allows the test to be able to run smoothly for any year:\n",
    "if Current_Month in Current_Year_df_Transposed_EXTRA_COLUMN.Date:\n",
    "    # Assign a variable to the row where the date column is equal to the current month:\n",
    "    df_of_row_for_current_month = Current_Year_df_Transposed_EXTRA_COLUMN.loc[Current_Year_df_Transposed_EXTRA_COLUMN['Date'] == Current_Month]\n",
    "    # Assign a variable to filter the df to omit the first column which is a string for the month name.  We just want the numbers from current month (so we can subtract it from YTD if the current month is in the df since we don't want to include it in the YTD sum)\n",
    "    df_current_month_row_numbers = df_of_row_for_current_month.iloc[0, 1:]\n",
    "    # Fix the YTD row numbers (so they don't include this month in the calc) by subtracting the current month's values from the YTD's values:\n",
    "    Current_Year_df_Transposed_EXTRA_COLUMN.iloc[1:2, 1:-1] = Current_Year_df_Transposed_EXTRA_COLUMN.iloc[1:2, 1:-1] - df_current_month_row_numbers\n",
    "# ----------------------------------------------------------------------------------\n",
    "\n",
    "# Replace all zeros in all the df that occured before the current numerical month with dashes... except don't change the column called \"index\" which has the month names\n",
    "Current_Year_df_Transposed_EXTRA_COLUMN.loc[Current_Year_df_Transposed_EXTRA_COLUMN[\"Date\"]\n",
    "                                    >= Current_Month, Current_Year_df_Transposed_EXTRA_COLUMN.columns != 'index'] = '-'\n",
    "# Drop the date column:\n",
    "df_Current_Year_dropped_date_column = Current_Year_df_Transposed_EXTRA_COLUMN.drop(columns=[\n",
    "    'Date'])\n",
    "df_Current_Year_dropped_date_column\n",
    "\n",
    "# Retranspose the df back to normal (which will now have dashes rather than zeros for all months before the current month)\n",
    "df_Current_Year_DASHES = df_Current_Year_dropped_date_column.T\n",
    "df_Current_Year_DASHES = df_Current_Year_DASHES.iloc[1:, :]\n",
    "df_Current_Year_DASHES = df_Current_Year_DASHES.rename(\n",
    "    columns={0: 'Category', 1: 'YTD', 2: 'JAN', 3: 'FEB', 4: 'MAR', 5: 'APR', 6: 'MAY', 7: 'JUN', 8: 'JUL', 9: 'AUG', 10: 'SEPT', 11: 'OCT', 12: 'NOV', 13: 'DEC'})\n",
    "df_Current_Year_DASHES"
   ]
  },
  {
   "cell_type": "code",
   "execution_count": 19,
   "metadata": {},
   "outputs": [
    {
     "data": {
      "text/html": [
       "<div>\n",
       "<style scoped>\n",
       "    .dataframe tbody tr th:only-of-type {\n",
       "        vertical-align: middle;\n",
       "    }\n",
       "\n",
       "    .dataframe tbody tr th {\n",
       "        vertical-align: top;\n",
       "    }\n",
       "\n",
       "    .dataframe thead th {\n",
       "        text-align: right;\n",
       "    }\n",
       "</style>\n",
       "<table border=\"1\" class=\"dataframe\">\n",
       "  <thead>\n",
       "    <tr style=\"text-align: right;\">\n",
       "      <th></th>\n",
       "      <th>Category</th>\n",
       "      <th>JAN</th>\n",
       "      <th>FEB</th>\n",
       "      <th>MAR</th>\n",
       "      <th>APR</th>\n",
       "      <th>MAY</th>\n",
       "      <th>JUN</th>\n",
       "      <th>JUL</th>\n",
       "      <th>AUG</th>\n",
       "      <th>SEPT</th>\n",
       "      <th>OCT</th>\n",
       "      <th>NOV</th>\n",
       "      <th>DEC</th>\n",
       "    </tr>\n",
       "  </thead>\n",
       "  <tbody>\n",
       "    <tr>\n",
       "      <th>0</th>\n",
       "      <td>SERVICE</td>\n",
       "      <td>570.5</td>\n",
       "      <td>596.0</td>\n",
       "      <td>931.0</td>\n",
       "      <td>884.5</td>\n",
       "      <td>766.0</td>\n",
       "      <td>833.5</td>\n",
       "      <td>819.0</td>\n",
       "      <td>920.0</td>\n",
       "      <td>1038.75</td>\n",
       "      <td>918.5</td>\n",
       "      <td>-</td>\n",
       "      <td>-</td>\n",
       "    </tr>\n",
       "    <tr>\n",
       "      <th>1</th>\n",
       "      <td>Flat Repair</td>\n",
       "      <td>63.0</td>\n",
       "      <td>75.0</td>\n",
       "      <td>54.0</td>\n",
       "      <td>60.0</td>\n",
       "      <td>46.0</td>\n",
       "      <td>50.0</td>\n",
       "      <td>40.0</td>\n",
       "      <td>24.0</td>\n",
       "      <td>25.0</td>\n",
       "      <td>19.0</td>\n",
       "      <td>-</td>\n",
       "      <td>-</td>\n",
       "    </tr>\n",
       "    <tr>\n",
       "      <th>2</th>\n",
       "      <td>Tire Rotation</td>\n",
       "      <td>77.0</td>\n",
       "      <td>14.0</td>\n",
       "      <td>15.0</td>\n",
       "      <td>19.0</td>\n",
       "      <td>19.0</td>\n",
       "      <td>57.0</td>\n",
       "      <td>22.0</td>\n",
       "      <td>7.0</td>\n",
       "      <td>22.0</td>\n",
       "      <td>34.0</td>\n",
       "      <td>-</td>\n",
       "      <td>-</td>\n",
       "    </tr>\n",
       "    <tr>\n",
       "      <th>3</th>\n",
       "      <td>Mount and Dismount</td>\n",
       "      <td>288.0</td>\n",
       "      <td>395.0</td>\n",
       "      <td>585.0</td>\n",
       "      <td>546.0</td>\n",
       "      <td>345.0</td>\n",
       "      <td>420.0</td>\n",
       "      <td>416.0</td>\n",
       "      <td>377.0</td>\n",
       "      <td>500.0</td>\n",
       "      <td>436.0</td>\n",
       "      <td>-</td>\n",
       "      <td>-</td>\n",
       "    </tr>\n",
       "    <tr>\n",
       "      <th>4</th>\n",
       "      <td>Service Call Hours</td>\n",
       "      <td>101.5</td>\n",
       "      <td>80.0</td>\n",
       "      <td>169.0</td>\n",
       "      <td>168.5</td>\n",
       "      <td>220.0</td>\n",
       "      <td>209.5</td>\n",
       "      <td>236.0</td>\n",
       "      <td>313.0</td>\n",
       "      <td>293.75</td>\n",
       "      <td>247.5</td>\n",
       "      <td>-</td>\n",
       "      <td>-</td>\n",
       "    </tr>\n",
       "    <tr>\n",
       "      <th>5</th>\n",
       "      <td>Scrap</td>\n",
       "      <td>41.0</td>\n",
       "      <td>32.0</td>\n",
       "      <td>108.0</td>\n",
       "      <td>91.0</td>\n",
       "      <td>136.0</td>\n",
       "      <td>97.0</td>\n",
       "      <td>105.0</td>\n",
       "      <td>199.0</td>\n",
       "      <td>198.0</td>\n",
       "      <td>182.0</td>\n",
       "      <td>-</td>\n",
       "      <td>-</td>\n",
       "    </tr>\n",
       "    <tr>\n",
       "      <th>6</th>\n",
       "      <td>BANDAG RETREADS</td>\n",
       "      <td>2.0</td>\n",
       "      <td>1.0</td>\n",
       "      <td>93.0</td>\n",
       "      <td>82.0</td>\n",
       "      <td>39.0</td>\n",
       "      <td>36.0</td>\n",
       "      <td>20.0</td>\n",
       "      <td>16.0</td>\n",
       "      <td>57.0</td>\n",
       "      <td>31.0</td>\n",
       "      <td>-</td>\n",
       "      <td>-</td>\n",
       "    </tr>\n",
       "    <tr>\n",
       "      <th>7</th>\n",
       "      <td>245/70R17.5 RETREAD</td>\n",
       "      <td>2.0</td>\n",
       "      <td>1.0</td>\n",
       "      <td>6.0</td>\n",
       "      <td>1.0</td>\n",
       "      <td>0.0</td>\n",
       "      <td>0.0</td>\n",
       "      <td>1.0</td>\n",
       "      <td>2.0</td>\n",
       "      <td>4.0</td>\n",
       "      <td>0.0</td>\n",
       "      <td>-</td>\n",
       "      <td>-</td>\n",
       "    </tr>\n",
       "    <tr>\n",
       "      <th>8</th>\n",
       "      <td>295/75R22.5 RETREAD</td>\n",
       "      <td>0.0</td>\n",
       "      <td>0.0</td>\n",
       "      <td>87.0</td>\n",
       "      <td>81.0</td>\n",
       "      <td>39.0</td>\n",
       "      <td>36.0</td>\n",
       "      <td>19.0</td>\n",
       "      <td>14.0</td>\n",
       "      <td>53.0</td>\n",
       "      <td>31.0</td>\n",
       "      <td>-</td>\n",
       "      <td>-</td>\n",
       "    </tr>\n",
       "    <tr>\n",
       "      <th>9</th>\n",
       "      <td>RETREAD + CASINGS</td>\n",
       "      <td>0.0</td>\n",
       "      <td>0.0</td>\n",
       "      <td>6.0</td>\n",
       "      <td>0.0</td>\n",
       "      <td>0.0</td>\n",
       "      <td>7.0</td>\n",
       "      <td>0.0</td>\n",
       "      <td>10.0</td>\n",
       "      <td>0.0</td>\n",
       "      <td>0.0</td>\n",
       "      <td>-</td>\n",
       "      <td>-</td>\n",
       "    </tr>\n",
       "    <tr>\n",
       "      <th>10</th>\n",
       "      <td>10.00-20 CAP &amp; CASING</td>\n",
       "      <td>0.0</td>\n",
       "      <td>0.0</td>\n",
       "      <td>0.0</td>\n",
       "      <td>0.0</td>\n",
       "      <td>0.0</td>\n",
       "      <td>0.0</td>\n",
       "      <td>0.0</td>\n",
       "      <td>0.0</td>\n",
       "      <td>0.0</td>\n",
       "      <td>0.0</td>\n",
       "      <td>-</td>\n",
       "      <td>-</td>\n",
       "    </tr>\n",
       "    <tr>\n",
       "      <th>11</th>\n",
       "      <td>11R22.5 CAP &amp; CASING</td>\n",
       "      <td>0.0</td>\n",
       "      <td>0.0</td>\n",
       "      <td>0.0</td>\n",
       "      <td>0.0</td>\n",
       "      <td>0.0</td>\n",
       "      <td>4.0</td>\n",
       "      <td>0.0</td>\n",
       "      <td>0.0</td>\n",
       "      <td>0.0</td>\n",
       "      <td>0.0</td>\n",
       "      <td>-</td>\n",
       "      <td>-</td>\n",
       "    </tr>\n",
       "    <tr>\n",
       "      <th>12</th>\n",
       "      <td>295/75R22.5 CAP &amp; CASING</td>\n",
       "      <td>0.0</td>\n",
       "      <td>0.0</td>\n",
       "      <td>6.0</td>\n",
       "      <td>0.0</td>\n",
       "      <td>0.0</td>\n",
       "      <td>3.0</td>\n",
       "      <td>0.0</td>\n",
       "      <td>10.0</td>\n",
       "      <td>0.0</td>\n",
       "      <td>0.0</td>\n",
       "      <td>-</td>\n",
       "      <td>-</td>\n",
       "    </tr>\n",
       "    <tr>\n",
       "      <th>13</th>\n",
       "      <td>REPAIR ONLY</td>\n",
       "      <td>0.0</td>\n",
       "      <td>2.0</td>\n",
       "      <td>0.0</td>\n",
       "      <td>0.0</td>\n",
       "      <td>0.0</td>\n",
       "      <td>0.0</td>\n",
       "      <td>0.0</td>\n",
       "      <td>0.0</td>\n",
       "      <td>0.0</td>\n",
       "      <td>0.0</td>\n",
       "      <td>-</td>\n",
       "      <td>-</td>\n",
       "    </tr>\n",
       "    <tr>\n",
       "      <th>14</th>\n",
       "      <td>NEW TIRES</td>\n",
       "      <td>6182.0</td>\n",
       "      <td>5324.0</td>\n",
       "      <td>9599.0</td>\n",
       "      <td>10043.0</td>\n",
       "      <td>9234.0</td>\n",
       "      <td>11261.0</td>\n",
       "      <td>12605.0</td>\n",
       "      <td>12881.0</td>\n",
       "      <td>12565.0</td>\n",
       "      <td>12409.0</td>\n",
       "      <td>-</td>\n",
       "      <td>-</td>\n",
       "    </tr>\n",
       "    <tr>\n",
       "      <th>15</th>\n",
       "      <td>BRIDGESTONE</td>\n",
       "      <td>209.0</td>\n",
       "      <td>265.0</td>\n",
       "      <td>352.0</td>\n",
       "      <td>274.0</td>\n",
       "      <td>227.0</td>\n",
       "      <td>144.0</td>\n",
       "      <td>146.0</td>\n",
       "      <td>232.0</td>\n",
       "      <td>254.0</td>\n",
       "      <td>229.0</td>\n",
       "      <td>-</td>\n",
       "      <td>-</td>\n",
       "    </tr>\n",
       "    <tr>\n",
       "      <th>16</th>\n",
       "      <td>Light Truck BRIDGESTONE</td>\n",
       "      <td>0.0</td>\n",
       "      <td>0.0</td>\n",
       "      <td>0.0</td>\n",
       "      <td>0.0</td>\n",
       "      <td>0.0</td>\n",
       "      <td>0.0</td>\n",
       "      <td>0.0</td>\n",
       "      <td>0.0</td>\n",
       "      <td>0.0</td>\n",
       "      <td>0.0</td>\n",
       "      <td>-</td>\n",
       "      <td>-</td>\n",
       "    </tr>\n",
       "    <tr>\n",
       "      <th>17</th>\n",
       "      <td>225/70R19.5 BRIDGESTONE</td>\n",
       "      <td>0.0</td>\n",
       "      <td>0.0</td>\n",
       "      <td>0.0</td>\n",
       "      <td>0.0</td>\n",
       "      <td>0.0</td>\n",
       "      <td>0.0</td>\n",
       "      <td>2.0</td>\n",
       "      <td>0.0</td>\n",
       "      <td>0.0</td>\n",
       "      <td>0.0</td>\n",
       "      <td>-</td>\n",
       "      <td>-</td>\n",
       "    </tr>\n",
       "    <tr>\n",
       "      <th>18</th>\n",
       "      <td>245/70R17.5 BRIDGESTONE</td>\n",
       "      <td>35.0</td>\n",
       "      <td>22.0</td>\n",
       "      <td>110.0</td>\n",
       "      <td>140.0</td>\n",
       "      <td>64.0</td>\n",
       "      <td>29.0</td>\n",
       "      <td>40.0</td>\n",
       "      <td>84.0</td>\n",
       "      <td>98.0</td>\n",
       "      <td>77.0</td>\n",
       "      <td>-</td>\n",
       "      <td>-</td>\n",
       "    </tr>\n",
       "    <tr>\n",
       "      <th>19</th>\n",
       "      <td>9R22.5 BRIDGESTONE</td>\n",
       "      <td>0.0</td>\n",
       "      <td>0.0</td>\n",
       "      <td>0.0</td>\n",
       "      <td>0.0</td>\n",
       "      <td>0.0</td>\n",
       "      <td>0.0</td>\n",
       "      <td>0.0</td>\n",
       "      <td>0.0</td>\n",
       "      <td>0.0</td>\n",
       "      <td>0.0</td>\n",
       "      <td>-</td>\n",
       "      <td>-</td>\n",
       "    </tr>\n",
       "    <tr>\n",
       "      <th>20</th>\n",
       "      <td>295/75R22.5 BRIDGESTONE</td>\n",
       "      <td>134.0</td>\n",
       "      <td>212.0</td>\n",
       "      <td>158.0</td>\n",
       "      <td>94.0</td>\n",
       "      <td>115.0</td>\n",
       "      <td>76.0</td>\n",
       "      <td>56.0</td>\n",
       "      <td>101.0</td>\n",
       "      <td>76.0</td>\n",
       "      <td>78.0</td>\n",
       "      <td>-</td>\n",
       "      <td>-</td>\n",
       "    </tr>\n",
       "    <tr>\n",
       "      <th>21</th>\n",
       "      <td>11R22.5 BRIDGESTONE</td>\n",
       "      <td>0.0</td>\n",
       "      <td>0.0</td>\n",
       "      <td>1.0</td>\n",
       "      <td>32.0</td>\n",
       "      <td>0.0</td>\n",
       "      <td>4.0</td>\n",
       "      <td>0.0</td>\n",
       "      <td>0.0</td>\n",
       "      <td>9.0</td>\n",
       "      <td>4.0</td>\n",
       "      <td>-</td>\n",
       "      <td>-</td>\n",
       "    </tr>\n",
       "    <tr>\n",
       "      <th>22</th>\n",
       "      <td>OTHER BRIDGESTONE</td>\n",
       "      <td>40.0</td>\n",
       "      <td>31.0</td>\n",
       "      <td>83.0</td>\n",
       "      <td>8.0</td>\n",
       "      <td>48.0</td>\n",
       "      <td>35.0</td>\n",
       "      <td>48.0</td>\n",
       "      <td>47.0</td>\n",
       "      <td>71.0</td>\n",
       "      <td>70.0</td>\n",
       "      <td>-</td>\n",
       "      <td>-</td>\n",
       "    </tr>\n",
       "    <tr>\n",
       "      <th>23</th>\n",
       "      <td>10.00-20</td>\n",
       "      <td>0.0</td>\n",
       "      <td>0.0</td>\n",
       "      <td>0.0</td>\n",
       "      <td>0.0</td>\n",
       "      <td>0.0</td>\n",
       "      <td>0.0</td>\n",
       "      <td>0.0</td>\n",
       "      <td>0.0</td>\n",
       "      <td>0.0</td>\n",
       "      <td>0.0</td>\n",
       "      <td>-</td>\n",
       "      <td>-</td>\n",
       "    </tr>\n",
       "    <tr>\n",
       "      <th>24</th>\n",
       "      <td>YOKOHAMA TIRES</td>\n",
       "      <td>32.0</td>\n",
       "      <td>52.0</td>\n",
       "      <td>40.0</td>\n",
       "      <td>61.0</td>\n",
       "      <td>24.0</td>\n",
       "      <td>13.0</td>\n",
       "      <td>23.0</td>\n",
       "      <td>20.0</td>\n",
       "      <td>17.0</td>\n",
       "      <td>6.0</td>\n",
       "      <td>-</td>\n",
       "      <td>-</td>\n",
       "    </tr>\n",
       "    <tr>\n",
       "      <th>25</th>\n",
       "      <td>CONTINENTAL TIRES</td>\n",
       "      <td>0.0</td>\n",
       "      <td>1.0</td>\n",
       "      <td>6.0</td>\n",
       "      <td>8.0</td>\n",
       "      <td>65.0</td>\n",
       "      <td>164.0</td>\n",
       "      <td>122.0</td>\n",
       "      <td>147.0</td>\n",
       "      <td>224.0</td>\n",
       "      <td>219.0</td>\n",
       "      <td>-</td>\n",
       "      <td>-</td>\n",
       "    </tr>\n",
       "    <tr>\n",
       "      <th>26</th>\n",
       "      <td>HANKOOK TIRES</td>\n",
       "      <td>5866.0</td>\n",
       "      <td>4933.0</td>\n",
       "      <td>9051.0</td>\n",
       "      <td>9609.0</td>\n",
       "      <td>8850.0</td>\n",
       "      <td>10880.0</td>\n",
       "      <td>12219.0</td>\n",
       "      <td>12360.0</td>\n",
       "      <td>11948.0</td>\n",
       "      <td>11849.0</td>\n",
       "      <td>-</td>\n",
       "      <td>-</td>\n",
       "    </tr>\n",
       "    <tr>\n",
       "      <th>27</th>\n",
       "      <td>MISC NEW TIRES</td>\n",
       "      <td>75.0</td>\n",
       "      <td>73.0</td>\n",
       "      <td>150.0</td>\n",
       "      <td>91.0</td>\n",
       "      <td>68.0</td>\n",
       "      <td>60.0</td>\n",
       "      <td>95.0</td>\n",
       "      <td>122.0</td>\n",
       "      <td>122.0</td>\n",
       "      <td>106.0</td>\n",
       "      <td>-</td>\n",
       "      <td>-</td>\n",
       "    </tr>\n",
       "    <tr>\n",
       "      <th>28</th>\n",
       "      <td>BS STEER-NEW TIRE</td>\n",
       "      <td>75.0</td>\n",
       "      <td>65.0</td>\n",
       "      <td>205.0</td>\n",
       "      <td>198.0</td>\n",
       "      <td>114.0</td>\n",
       "      <td>71.0</td>\n",
       "      <td>102.0</td>\n",
       "      <td>153.0</td>\n",
       "      <td>168.0</td>\n",
       "      <td>149.0</td>\n",
       "      <td>-</td>\n",
       "      <td>-</td>\n",
       "    </tr>\n",
       "    <tr>\n",
       "      <th>29</th>\n",
       "      <td>BS DRIVE-NEW TIRE</td>\n",
       "      <td>30.0</td>\n",
       "      <td>46.0</td>\n",
       "      <td>70.0</td>\n",
       "      <td>30.0</td>\n",
       "      <td>46.0</td>\n",
       "      <td>34.0</td>\n",
       "      <td>19.0</td>\n",
       "      <td>30.0</td>\n",
       "      <td>78.0</td>\n",
       "      <td>62.0</td>\n",
       "      <td>-</td>\n",
       "      <td>-</td>\n",
       "    </tr>\n",
       "    <tr>\n",
       "      <th>30</th>\n",
       "      <td>BS TRAILER-NEW TIRE</td>\n",
       "      <td>104.0</td>\n",
       "      <td>154.0</td>\n",
       "      <td>77.0</td>\n",
       "      <td>46.0</td>\n",
       "      <td>67.0</td>\n",
       "      <td>35.0</td>\n",
       "      <td>25.0</td>\n",
       "      <td>49.0</td>\n",
       "      <td>8.0</td>\n",
       "      <td>18.0</td>\n",
       "      <td>-</td>\n",
       "      <td>-</td>\n",
       "    </tr>\n",
       "  </tbody>\n",
       "</table>\n",
       "</div>"
      ],
      "text/plain": [
       "                    Category     JAN     FEB     MAR      APR     MAY  \\\n",
       "0                    SERVICE   570.5   596.0   931.0    884.5   766.0   \n",
       "1                Flat Repair    63.0    75.0    54.0     60.0    46.0   \n",
       "2              Tire Rotation    77.0    14.0    15.0     19.0    19.0   \n",
       "3         Mount and Dismount   288.0   395.0   585.0    546.0   345.0   \n",
       "4         Service Call Hours   101.5    80.0   169.0    168.5   220.0   \n",
       "5                      Scrap    41.0    32.0   108.0     91.0   136.0   \n",
       "6            BANDAG RETREADS     2.0     1.0    93.0     82.0    39.0   \n",
       "7        245/70R17.5 RETREAD     2.0     1.0     6.0      1.0     0.0   \n",
       "8        295/75R22.5 RETREAD     0.0     0.0    87.0     81.0    39.0   \n",
       "9          RETREAD + CASINGS     0.0     0.0     6.0      0.0     0.0   \n",
       "10     10.00-20 CAP & CASING     0.0     0.0     0.0      0.0     0.0   \n",
       "11      11R22.5 CAP & CASING     0.0     0.0     0.0      0.0     0.0   \n",
       "12  295/75R22.5 CAP & CASING     0.0     0.0     6.0      0.0     0.0   \n",
       "13               REPAIR ONLY     0.0     2.0     0.0      0.0     0.0   \n",
       "14                 NEW TIRES  6182.0  5324.0  9599.0  10043.0  9234.0   \n",
       "15               BRIDGESTONE   209.0   265.0   352.0    274.0   227.0   \n",
       "16   Light Truck BRIDGESTONE     0.0     0.0     0.0      0.0     0.0   \n",
       "17   225/70R19.5 BRIDGESTONE     0.0     0.0     0.0      0.0     0.0   \n",
       "18   245/70R17.5 BRIDGESTONE    35.0    22.0   110.0    140.0    64.0   \n",
       "19        9R22.5 BRIDGESTONE     0.0     0.0     0.0      0.0     0.0   \n",
       "20   295/75R22.5 BRIDGESTONE   134.0   212.0   158.0     94.0   115.0   \n",
       "21       11R22.5 BRIDGESTONE     0.0     0.0     1.0     32.0     0.0   \n",
       "22         OTHER BRIDGESTONE    40.0    31.0    83.0      8.0    48.0   \n",
       "23                  10.00-20     0.0     0.0     0.0      0.0     0.0   \n",
       "24            YOKOHAMA TIRES    32.0    52.0    40.0     61.0    24.0   \n",
       "25         CONTINENTAL TIRES     0.0     1.0     6.0      8.0    65.0   \n",
       "26             HANKOOK TIRES  5866.0  4933.0  9051.0   9609.0  8850.0   \n",
       "27            MISC NEW TIRES    75.0    73.0   150.0     91.0    68.0   \n",
       "28         BS STEER-NEW TIRE    75.0    65.0   205.0    198.0   114.0   \n",
       "29         BS DRIVE-NEW TIRE    30.0    46.0    70.0     30.0    46.0   \n",
       "30       BS TRAILER-NEW TIRE   104.0   154.0    77.0     46.0    67.0   \n",
       "\n",
       "        JUN      JUL      AUG     SEPT      OCT NOV DEC  \n",
       "0     833.5    819.0    920.0  1038.75    918.5   -   -  \n",
       "1      50.0     40.0     24.0     25.0     19.0   -   -  \n",
       "2      57.0     22.0      7.0     22.0     34.0   -   -  \n",
       "3     420.0    416.0    377.0    500.0    436.0   -   -  \n",
       "4     209.5    236.0    313.0   293.75    247.5   -   -  \n",
       "5      97.0    105.0    199.0    198.0    182.0   -   -  \n",
       "6      36.0     20.0     16.0     57.0     31.0   -   -  \n",
       "7       0.0      1.0      2.0      4.0      0.0   -   -  \n",
       "8      36.0     19.0     14.0     53.0     31.0   -   -  \n",
       "9       7.0      0.0     10.0      0.0      0.0   -   -  \n",
       "10      0.0      0.0      0.0      0.0      0.0   -   -  \n",
       "11      4.0      0.0      0.0      0.0      0.0   -   -  \n",
       "12      3.0      0.0     10.0      0.0      0.0   -   -  \n",
       "13      0.0      0.0      0.0      0.0      0.0   -   -  \n",
       "14  11261.0  12605.0  12881.0  12565.0  12409.0   -   -  \n",
       "15    144.0    146.0    232.0    254.0    229.0   -   -  \n",
       "16      0.0      0.0      0.0      0.0      0.0   -   -  \n",
       "17      0.0      2.0      0.0      0.0      0.0   -   -  \n",
       "18     29.0     40.0     84.0     98.0     77.0   -   -  \n",
       "19      0.0      0.0      0.0      0.0      0.0   -   -  \n",
       "20     76.0     56.0    101.0     76.0     78.0   -   -  \n",
       "21      4.0      0.0      0.0      9.0      4.0   -   -  \n",
       "22     35.0     48.0     47.0     71.0     70.0   -   -  \n",
       "23      0.0      0.0      0.0      0.0      0.0   -   -  \n",
       "24     13.0     23.0     20.0     17.0      6.0   -   -  \n",
       "25    164.0    122.0    147.0    224.0    219.0   -   -  \n",
       "26  10880.0  12219.0  12360.0  11948.0  11849.0   -   -  \n",
       "27     60.0     95.0    122.0    122.0    106.0   -   -  \n",
       "28     71.0    102.0    153.0    168.0    149.0   -   -  \n",
       "29     34.0     19.0     30.0     78.0     62.0   -   -  \n",
       "30     35.0     25.0     49.0      8.0     18.0   -   -  "
      ]
     },
     "execution_count": 19,
     "metadata": {},
     "output_type": "execute_result"
    }
   ],
   "source": [
    "# Drop the YTD column from each df to prepare it for graphing.\n",
    "Last_Year_df = Last_Year_df.drop(columns=['YTD'])\n",
    "Current_Year_df = df_Current_Year_DASHES.drop(columns=['YTD'])\n",
    "\n",
    "Current_Year_df"
   ]
  },
  {
   "cell_type": "code",
   "execution_count": 20,
   "metadata": {},
   "outputs": [
    {
     "data": {
      "text/html": [
       "<div>\n",
       "<style scoped>\n",
       "    .dataframe tbody tr th:only-of-type {\n",
       "        vertical-align: middle;\n",
       "    }\n",
       "\n",
       "    .dataframe tbody tr th {\n",
       "        vertical-align: top;\n",
       "    }\n",
       "\n",
       "    .dataframe thead th {\n",
       "        text-align: right;\n",
       "    }\n",
       "</style>\n",
       "<table border=\"1\" class=\"dataframe\">\n",
       "  <thead>\n",
       "    <tr style=\"text-align: right;\">\n",
       "      <th></th>\n",
       "      <th>Category</th>\n",
       "      <th>JAN 2020</th>\n",
       "      <th>FEB 2020</th>\n",
       "      <th>MAR 2020</th>\n",
       "      <th>APR 2020</th>\n",
       "      <th>MAY 2020</th>\n",
       "      <th>JUN 2020</th>\n",
       "      <th>JUL 2020</th>\n",
       "      <th>AUG 2020</th>\n",
       "      <th>SEPT 2020</th>\n",
       "      <th>...</th>\n",
       "      <th>JAN 2021</th>\n",
       "      <th>FEB 2021</th>\n",
       "      <th>MAR 2021</th>\n",
       "      <th>APR 2021</th>\n",
       "      <th>MAY 2021</th>\n",
       "      <th>JUN 2021</th>\n",
       "      <th>JUL 2021</th>\n",
       "      <th>AUG 2021</th>\n",
       "      <th>SEPT 2021</th>\n",
       "      <th>OCT 2021</th>\n",
       "    </tr>\n",
       "  </thead>\n",
       "  <tbody>\n",
       "    <tr>\n",
       "      <th>0</th>\n",
       "      <td>Light Truck BRIDGESTONE</td>\n",
       "      <td>0.0</td>\n",
       "      <td>0.0</td>\n",
       "      <td>0.0</td>\n",
       "      <td>0.0</td>\n",
       "      <td>0.0</td>\n",
       "      <td>0.0</td>\n",
       "      <td>0.0</td>\n",
       "      <td>0.0</td>\n",
       "      <td>0.0</td>\n",
       "      <td>...</td>\n",
       "      <td>0.0</td>\n",
       "      <td>0.0</td>\n",
       "      <td>0.0</td>\n",
       "      <td>0.0</td>\n",
       "      <td>0.0</td>\n",
       "      <td>0.0</td>\n",
       "      <td>0.0</td>\n",
       "      <td>0.0</td>\n",
       "      <td>0.0</td>\n",
       "      <td>0.0</td>\n",
       "    </tr>\n",
       "    <tr>\n",
       "      <th>1</th>\n",
       "      <td>225/70R19.5 BRIDGESTONE</td>\n",
       "      <td>0.0</td>\n",
       "      <td>0.0</td>\n",
       "      <td>0.0</td>\n",
       "      <td>2.0</td>\n",
       "      <td>1.0</td>\n",
       "      <td>0.0</td>\n",
       "      <td>0.0</td>\n",
       "      <td>0.0</td>\n",
       "      <td>0.0</td>\n",
       "      <td>...</td>\n",
       "      <td>0.0</td>\n",
       "      <td>0.0</td>\n",
       "      <td>0.0</td>\n",
       "      <td>0.0</td>\n",
       "      <td>0.0</td>\n",
       "      <td>0.0</td>\n",
       "      <td>2.0</td>\n",
       "      <td>0.0</td>\n",
       "      <td>0.0</td>\n",
       "      <td>0.0</td>\n",
       "    </tr>\n",
       "    <tr>\n",
       "      <th>2</th>\n",
       "      <td>245/70R17.5 BRIDGESTONE</td>\n",
       "      <td>105.0</td>\n",
       "      <td>92.0</td>\n",
       "      <td>44.0</td>\n",
       "      <td>123.0</td>\n",
       "      <td>106.0</td>\n",
       "      <td>159.0</td>\n",
       "      <td>172.0</td>\n",
       "      <td>138.0</td>\n",
       "      <td>171.0</td>\n",
       "      <td>...</td>\n",
       "      <td>35.0</td>\n",
       "      <td>22.0</td>\n",
       "      <td>110.0</td>\n",
       "      <td>140.0</td>\n",
       "      <td>64.0</td>\n",
       "      <td>29.0</td>\n",
       "      <td>40.0</td>\n",
       "      <td>84.0</td>\n",
       "      <td>98.0</td>\n",
       "      <td>77.0</td>\n",
       "    </tr>\n",
       "    <tr>\n",
       "      <th>3</th>\n",
       "      <td>9R22.5 BRIDGESTONE</td>\n",
       "      <td>0.0</td>\n",
       "      <td>0.0</td>\n",
       "      <td>0.0</td>\n",
       "      <td>0.0</td>\n",
       "      <td>0.0</td>\n",
       "      <td>0.0</td>\n",
       "      <td>0.0</td>\n",
       "      <td>0.0</td>\n",
       "      <td>0.0</td>\n",
       "      <td>...</td>\n",
       "      <td>0.0</td>\n",
       "      <td>0.0</td>\n",
       "      <td>0.0</td>\n",
       "      <td>0.0</td>\n",
       "      <td>0.0</td>\n",
       "      <td>0.0</td>\n",
       "      <td>0.0</td>\n",
       "      <td>0.0</td>\n",
       "      <td>0.0</td>\n",
       "      <td>0.0</td>\n",
       "    </tr>\n",
       "    <tr>\n",
       "      <th>4</th>\n",
       "      <td>295/75R22.5 BRIDGESTONE</td>\n",
       "      <td>305.0</td>\n",
       "      <td>226.0</td>\n",
       "      <td>226.0</td>\n",
       "      <td>218.0</td>\n",
       "      <td>225.0</td>\n",
       "      <td>266.0</td>\n",
       "      <td>230.0</td>\n",
       "      <td>216.0</td>\n",
       "      <td>248.0</td>\n",
       "      <td>...</td>\n",
       "      <td>134.0</td>\n",
       "      <td>212.0</td>\n",
       "      <td>158.0</td>\n",
       "      <td>94.0</td>\n",
       "      <td>115.0</td>\n",
       "      <td>76.0</td>\n",
       "      <td>56.0</td>\n",
       "      <td>101.0</td>\n",
       "      <td>76.0</td>\n",
       "      <td>78.0</td>\n",
       "    </tr>\n",
       "    <tr>\n",
       "      <th>5</th>\n",
       "      <td>11R22.5 BRIDGESTONE</td>\n",
       "      <td>1.0</td>\n",
       "      <td>0.0</td>\n",
       "      <td>2.0</td>\n",
       "      <td>87.0</td>\n",
       "      <td>0.0</td>\n",
       "      <td>6.0</td>\n",
       "      <td>0.0</td>\n",
       "      <td>0.0</td>\n",
       "      <td>6.0</td>\n",
       "      <td>...</td>\n",
       "      <td>0.0</td>\n",
       "      <td>0.0</td>\n",
       "      <td>1.0</td>\n",
       "      <td>32.0</td>\n",
       "      <td>0.0</td>\n",
       "      <td>4.0</td>\n",
       "      <td>0.0</td>\n",
       "      <td>0.0</td>\n",
       "      <td>9.0</td>\n",
       "      <td>4.0</td>\n",
       "    </tr>\n",
       "  </tbody>\n",
       "</table>\n",
       "<p>6 rows × 23 columns</p>\n",
       "</div>"
      ],
      "text/plain": [
       "                  Category  JAN 2020  FEB 2020  MAR 2020  APR 2020  MAY 2020  \\\n",
       "0  Light Truck BRIDGESTONE       0.0       0.0       0.0       0.0       0.0   \n",
       "1  225/70R19.5 BRIDGESTONE       0.0       0.0       0.0       2.0       1.0   \n",
       "2  245/70R17.5 BRIDGESTONE     105.0      92.0      44.0     123.0     106.0   \n",
       "3       9R22.5 BRIDGESTONE       0.0       0.0       0.0       0.0       0.0   \n",
       "4  295/75R22.5 BRIDGESTONE     305.0     226.0     226.0     218.0     225.0   \n",
       "5      11R22.5 BRIDGESTONE       1.0       0.0       2.0      87.0       0.0   \n",
       "\n",
       "   JUN 2020  JUL 2020  AUG 2020  SEPT 2020  ...  JAN 2021  FEB 2021  MAR 2021  \\\n",
       "0       0.0       0.0       0.0        0.0  ...       0.0       0.0       0.0   \n",
       "1       0.0       0.0       0.0        0.0  ...       0.0       0.0       0.0   \n",
       "2     159.0     172.0     138.0      171.0  ...      35.0      22.0     110.0   \n",
       "3       0.0       0.0       0.0        0.0  ...       0.0       0.0       0.0   \n",
       "4     266.0     230.0     216.0      248.0  ...     134.0     212.0     158.0   \n",
       "5       6.0       0.0       0.0        6.0  ...       0.0       0.0       1.0   \n",
       "\n",
       "  APR 2021 MAY 2021 JUN 2021 JUL 2021 AUG 2021 SEPT 2021 OCT 2021  \n",
       "0      0.0      0.0      0.0      0.0      0.0       0.0      0.0  \n",
       "1      0.0      0.0      0.0      2.0      0.0       0.0      0.0  \n",
       "2    140.0     64.0     29.0     40.0     84.0      98.0     77.0  \n",
       "3      0.0      0.0      0.0      0.0      0.0       0.0      0.0  \n",
       "4     94.0    115.0     76.0     56.0    101.0      76.0     78.0  \n",
       "5     32.0      0.0      4.0      0.0      0.0       9.0      4.0  \n",
       "\n",
       "[6 rows x 23 columns]"
      ]
     },
     "execution_count": 20,
     "metadata": {},
     "output_type": "execute_result"
    }
   ],
   "source": [
    "# Rename the columns on Each Year's data so it shows not only the month but also the year:\n",
    "# Last Year:\n",
    "Last_Year_df.columns = ['Category', f'JAN {Last_Year}', f'FEB {Last_Year}', f'MAR {Last_Year}', f'APR {Last_Year}', f'MAY {Last_Year}',\n",
    "                                f'JUN {Last_Year}', f'JUL {Last_Year}', f'AUG {Last_Year}', f'SEPT {Last_Year}', f'OCT {Last_Year}', f'NOV {Last_Year}', f'DEC {Last_Year}']\n",
    "# Current Year:\n",
    "Current_Year_df.columns = ['Category', f'JAN {Current_Year}', f'FEB {Current_Year}', f'MAR {Current_Year}', f'APR {Current_Year}', f'MAY {Current_Year}',\n",
    "                                f'JUN {Current_Year}', f'JUL {Current_Year}', f'AUG {Current_Year}', f'SEPT {Current_Year}', f'OCT {Current_Year}', f'NOV {Current_Year}', f'DEC {Current_Year}']\n",
    "\n",
    "# For the Current Year, drop columns with dashes:\n",
    "Current_Year_df = Current_Year_df.loc[:, ~(Current_Year_df.astype(str) == '-').all()]\n",
    "# To merge, we ONLY want \"Category\" on ONE df.  We'll drop \"Category\" on ALL dfs that are not the oldest year we're testing.\n",
    "Current_Year_df = Current_Year_df.drop(columns=['Category'])\n",
    "# Now add a new TEMPORARY column for ALL dfs we're testing which will be ALL unique values but identical for each df, so we can merge \"on\" that temporary column\n",
    "Last_Year_df['Temp Col'] = range(len(Last_Year_df))#\n",
    "Current_Year_df['Temp Col'] = range(len(Current_Year_df))\n",
    "# Merge each year together into one DF:\n",
    "Merged_Years_df = pd.merge(Last_Year_df, Current_Year_df, how='outer', on='Temp Col')\n",
    "# Now delete the \"Temp Col\" from the merged df:\n",
    "Merged_Years_df = Merged_Years_df.drop(columns=['Temp Col'])\n",
    "\n",
    "# For last year's df, create individual dfs for each category we want to graph (Services, Bandag Retreads, and Bridgestone):\n",
    "Merged_Service_df = Merged_Years_df.iloc[1:6, :].reset_index(drop=True)\n",
    "Merged_Bandag_Retread_df = Merged_Years_df.iloc[7:9, :].reset_index(drop=True)\n",
    "Merged_Bridgestone_df = Merged_Years_df.iloc[16:22, :].reset_index(drop=True)\n",
    "\n",
    "Merged_Bridgestone_df"
   ]
  },
  {
   "cell_type": "markdown",
   "metadata": {},
   "source": [
    "## 1. Service Trend Line Graph"
   ]
  },
  {
   "cell_type": "code",
   "execution_count": 21,
   "metadata": {},
   "outputs": [
    {
     "data": {
      "text/html": [
       "<div>\n",
       "<style scoped>\n",
       "    .dataframe tbody tr th:only-of-type {\n",
       "        vertical-align: middle;\n",
       "    }\n",
       "\n",
       "    .dataframe tbody tr th {\n",
       "        vertical-align: top;\n",
       "    }\n",
       "\n",
       "    .dataframe thead th {\n",
       "        text-align: right;\n",
       "    }\n",
       "</style>\n",
       "<table border=\"1\" class=\"dataframe\">\n",
       "  <thead>\n",
       "    <tr style=\"text-align: right;\">\n",
       "      <th></th>\n",
       "      <th>month-yr</th>\n",
       "      <th>Flat Repair</th>\n",
       "      <th>Tire Rotation</th>\n",
       "      <th>Mount and Dismount</th>\n",
       "      <th>Service Call Hours</th>\n",
       "      <th>Scrap</th>\n",
       "    </tr>\n",
       "  </thead>\n",
       "  <tbody>\n",
       "    <tr>\n",
       "      <th>0</th>\n",
       "      <td>JAN 2020</td>\n",
       "      <td>60.0</td>\n",
       "      <td>0.0</td>\n",
       "      <td>748.0</td>\n",
       "      <td>46.0</td>\n",
       "      <td>19.0</td>\n",
       "    </tr>\n",
       "    <tr>\n",
       "      <th>1</th>\n",
       "      <td>FEB 2020</td>\n",
       "      <td>53.0</td>\n",
       "      <td>5.0</td>\n",
       "      <td>613.0</td>\n",
       "      <td>100.5</td>\n",
       "      <td>32.0</td>\n",
       "    </tr>\n",
       "    <tr>\n",
       "      <th>2</th>\n",
       "      <td>MAR 2020</td>\n",
       "      <td>48.0</td>\n",
       "      <td>0.0</td>\n",
       "      <td>539.0</td>\n",
       "      <td>142.5</td>\n",
       "      <td>58.0</td>\n",
       "    </tr>\n",
       "    <tr>\n",
       "      <th>3</th>\n",
       "      <td>APR 2020</td>\n",
       "      <td>48.0</td>\n",
       "      <td>2.0</td>\n",
       "      <td>657.0</td>\n",
       "      <td>138.25</td>\n",
       "      <td>51.0</td>\n",
       "    </tr>\n",
       "    <tr>\n",
       "      <th>4</th>\n",
       "      <td>MAY 2020</td>\n",
       "      <td>39.0</td>\n",
       "      <td>16.0</td>\n",
       "      <td>488.0</td>\n",
       "      <td>175.75</td>\n",
       "      <td>78.0</td>\n",
       "    </tr>\n",
       "    <tr>\n",
       "      <th>5</th>\n",
       "      <td>JUN 2020</td>\n",
       "      <td>40.0</td>\n",
       "      <td>5.0</td>\n",
       "      <td>621.0</td>\n",
       "      <td>243.0</td>\n",
       "      <td>127.0</td>\n",
       "    </tr>\n",
       "    <tr>\n",
       "      <th>6</th>\n",
       "      <td>JUL 2020</td>\n",
       "      <td>26.0</td>\n",
       "      <td>74.0</td>\n",
       "      <td>528.0</td>\n",
       "      <td>201.0</td>\n",
       "      <td>127.0</td>\n",
       "    </tr>\n",
       "    <tr>\n",
       "      <th>7</th>\n",
       "      <td>AUG 2020</td>\n",
       "      <td>34.0</td>\n",
       "      <td>29.0</td>\n",
       "      <td>524.0</td>\n",
       "      <td>227.0</td>\n",
       "      <td>130.0</td>\n",
       "    </tr>\n",
       "    <tr>\n",
       "      <th>8</th>\n",
       "      <td>SEPT 2020</td>\n",
       "      <td>47.0</td>\n",
       "      <td>22.0</td>\n",
       "      <td>569.0</td>\n",
       "      <td>216.5</td>\n",
       "      <td>119.0</td>\n",
       "    </tr>\n",
       "    <tr>\n",
       "      <th>9</th>\n",
       "      <td>OCT 2020</td>\n",
       "      <td>25.0</td>\n",
       "      <td>37.0</td>\n",
       "      <td>620.0</td>\n",
       "      <td>225.75</td>\n",
       "      <td>96.0</td>\n",
       "    </tr>\n",
       "    <tr>\n",
       "      <th>10</th>\n",
       "      <td>NOV 2020</td>\n",
       "      <td>53.0</td>\n",
       "      <td>21.0</td>\n",
       "      <td>383.0</td>\n",
       "      <td>112.5</td>\n",
       "      <td>64.0</td>\n",
       "    </tr>\n",
       "    <tr>\n",
       "      <th>11</th>\n",
       "      <td>DEC 2020</td>\n",
       "      <td>57.0</td>\n",
       "      <td>30.0</td>\n",
       "      <td>426.0</td>\n",
       "      <td>90.5</td>\n",
       "      <td>55.0</td>\n",
       "    </tr>\n",
       "    <tr>\n",
       "      <th>12</th>\n",
       "      <td>JAN 2021</td>\n",
       "      <td>63.0</td>\n",
       "      <td>77.0</td>\n",
       "      <td>288.0</td>\n",
       "      <td>101.5</td>\n",
       "      <td>41.0</td>\n",
       "    </tr>\n",
       "    <tr>\n",
       "      <th>13</th>\n",
       "      <td>FEB 2021</td>\n",
       "      <td>75.0</td>\n",
       "      <td>14.0</td>\n",
       "      <td>395.0</td>\n",
       "      <td>80.0</td>\n",
       "      <td>32.0</td>\n",
       "    </tr>\n",
       "    <tr>\n",
       "      <th>14</th>\n",
       "      <td>MAR 2021</td>\n",
       "      <td>54.0</td>\n",
       "      <td>15.0</td>\n",
       "      <td>585.0</td>\n",
       "      <td>169.0</td>\n",
       "      <td>108.0</td>\n",
       "    </tr>\n",
       "    <tr>\n",
       "      <th>15</th>\n",
       "      <td>APR 2021</td>\n",
       "      <td>60.0</td>\n",
       "      <td>19.0</td>\n",
       "      <td>546.0</td>\n",
       "      <td>168.5</td>\n",
       "      <td>91.0</td>\n",
       "    </tr>\n",
       "    <tr>\n",
       "      <th>16</th>\n",
       "      <td>MAY 2021</td>\n",
       "      <td>46.0</td>\n",
       "      <td>19.0</td>\n",
       "      <td>345.0</td>\n",
       "      <td>220.0</td>\n",
       "      <td>136.0</td>\n",
       "    </tr>\n",
       "    <tr>\n",
       "      <th>17</th>\n",
       "      <td>JUN 2021</td>\n",
       "      <td>50.0</td>\n",
       "      <td>57.0</td>\n",
       "      <td>420.0</td>\n",
       "      <td>209.5</td>\n",
       "      <td>97.0</td>\n",
       "    </tr>\n",
       "    <tr>\n",
       "      <th>18</th>\n",
       "      <td>JUL 2021</td>\n",
       "      <td>40.0</td>\n",
       "      <td>22.0</td>\n",
       "      <td>416.0</td>\n",
       "      <td>236.0</td>\n",
       "      <td>105.0</td>\n",
       "    </tr>\n",
       "    <tr>\n",
       "      <th>19</th>\n",
       "      <td>AUG 2021</td>\n",
       "      <td>24.0</td>\n",
       "      <td>7.0</td>\n",
       "      <td>377.0</td>\n",
       "      <td>313.0</td>\n",
       "      <td>199.0</td>\n",
       "    </tr>\n",
       "    <tr>\n",
       "      <th>20</th>\n",
       "      <td>SEPT 2021</td>\n",
       "      <td>25.0</td>\n",
       "      <td>22.0</td>\n",
       "      <td>500.0</td>\n",
       "      <td>293.75</td>\n",
       "      <td>198.0</td>\n",
       "    </tr>\n",
       "    <tr>\n",
       "      <th>21</th>\n",
       "      <td>OCT 2021</td>\n",
       "      <td>19.0</td>\n",
       "      <td>34.0</td>\n",
       "      <td>436.0</td>\n",
       "      <td>247.5</td>\n",
       "      <td>182.0</td>\n",
       "    </tr>\n",
       "  </tbody>\n",
       "</table>\n",
       "</div>"
      ],
      "text/plain": [
       "     month-yr Flat Repair Tire Rotation Mount and Dismount Service Call Hours  \\\n",
       "0    JAN 2020        60.0           0.0              748.0               46.0   \n",
       "1    FEB 2020        53.0           5.0              613.0              100.5   \n",
       "2    MAR 2020        48.0           0.0              539.0              142.5   \n",
       "3    APR 2020        48.0           2.0              657.0             138.25   \n",
       "4    MAY 2020        39.0          16.0              488.0             175.75   \n",
       "5    JUN 2020        40.0           5.0              621.0              243.0   \n",
       "6    JUL 2020        26.0          74.0              528.0              201.0   \n",
       "7    AUG 2020        34.0          29.0              524.0              227.0   \n",
       "8   SEPT 2020        47.0          22.0              569.0              216.5   \n",
       "9    OCT 2020        25.0          37.0              620.0             225.75   \n",
       "10   NOV 2020        53.0          21.0              383.0              112.5   \n",
       "11   DEC 2020        57.0          30.0              426.0               90.5   \n",
       "12   JAN 2021        63.0          77.0              288.0              101.5   \n",
       "13   FEB 2021        75.0          14.0              395.0               80.0   \n",
       "14   MAR 2021        54.0          15.0              585.0              169.0   \n",
       "15   APR 2021        60.0          19.0              546.0              168.5   \n",
       "16   MAY 2021        46.0          19.0              345.0              220.0   \n",
       "17   JUN 2021        50.0          57.0              420.0              209.5   \n",
       "18   JUL 2021        40.0          22.0              416.0              236.0   \n",
       "19   AUG 2021        24.0           7.0              377.0              313.0   \n",
       "20  SEPT 2021        25.0          22.0              500.0             293.75   \n",
       "21   OCT 2021        19.0          34.0              436.0              247.5   \n",
       "\n",
       "    Scrap  \n",
       "0    19.0  \n",
       "1    32.0  \n",
       "2    58.0  \n",
       "3    51.0  \n",
       "4    78.0  \n",
       "5   127.0  \n",
       "6   127.0  \n",
       "7   130.0  \n",
       "8   119.0  \n",
       "9    96.0  \n",
       "10   64.0  \n",
       "11   55.0  \n",
       "12   41.0  \n",
       "13   32.0  \n",
       "14  108.0  \n",
       "15   91.0  \n",
       "16  136.0  \n",
       "17   97.0  \n",
       "18  105.0  \n",
       "19  199.0  \n",
       "20  198.0  \n",
       "21  182.0  "
      ]
     },
     "execution_count": 21,
     "metadata": {},
     "output_type": "execute_result"
    }
   ],
   "source": [
    "# Transpose the Merged_Service_df to make it easier for graphing:\n",
    "Service_df_TRANSPOSED = Merged_Service_df.T\n",
    "\n",
    "Description_list_from_first_row = list(Service_df_TRANSPOSED.iloc[0])\n",
    "Service_df_TRANSPOSED = Service_df_TRANSPOSED.iloc[1:, :]\n",
    "Service_df_TRANSPOSED.columns = Description_list_from_first_row\n",
    "\n",
    "Service_df_TRANSPOSED = Service_df_TRANSPOSED.reset_index()\n",
    "Service_df_TRANSPOSED = Service_df_TRANSPOSED.rename(columns={'index': 'month-yr'})\n",
    "\n",
    "Service_df_TRANSPOSED"
   ]
  },
  {
   "cell_type": "code",
   "execution_count": 22,
   "metadata": {},
   "outputs": [
    {
     "data": {
      "application/vnd.plotly.v1+json": {
       "config": {
        "plotlyServerURL": "https://plotly.com"
       },
       "data": [
        {
         "line": {
          "color": "purple",
          "width": 2
         },
         "name": "Flat Repair",
         "type": "scatter",
         "x": [
          "JAN 2020",
          "FEB 2020",
          "MAR 2020",
          "APR 2020",
          "MAY 2020",
          "JUN 2020",
          "JUL 2020",
          "AUG 2020",
          "SEPT 2020",
          "OCT 2020",
          "NOV 2020",
          "DEC 2020",
          "JAN 2021",
          "FEB 2021",
          "MAR 2021",
          "APR 2021",
          "MAY 2021",
          "JUN 2021",
          "JUL 2021",
          "AUG 2021",
          "SEPT 2021",
          "OCT 2021"
         ],
         "y": [
          60,
          53,
          48,
          48,
          39,
          40,
          26,
          34,
          47,
          25,
          53,
          57,
          63,
          75,
          54,
          60,
          46,
          50,
          40,
          24,
          25,
          19
         ]
        },
        {
         "line": {
          "color": "#FFB500",
          "width": 2
         },
         "name": "Tire Rotation",
         "type": "scatter",
         "x": [
          "JAN 2020",
          "FEB 2020",
          "MAR 2020",
          "APR 2020",
          "MAY 2020",
          "JUN 2020",
          "JUL 2020",
          "AUG 2020",
          "SEPT 2020",
          "OCT 2020",
          "NOV 2020",
          "DEC 2020",
          "JAN 2021",
          "FEB 2021",
          "MAR 2021",
          "APR 2021",
          "MAY 2021",
          "JUN 2021",
          "JUL 2021",
          "AUG 2021",
          "SEPT 2021",
          "OCT 2021"
         ],
         "y": [
          0,
          5,
          0,
          2,
          16,
          5,
          74,
          29,
          22,
          37,
          21,
          30,
          77,
          14,
          15,
          19,
          19,
          57,
          22,
          7,
          22,
          34
         ]
        },
        {
         "line": {
          "color": "royalblue",
          "width": 2
         },
         "name": "Mount and Dismount",
         "type": "scatter",
         "x": [
          "JAN 2020",
          "FEB 2020",
          "MAR 2020",
          "APR 2020",
          "MAY 2020",
          "JUN 2020",
          "JUL 2020",
          "AUG 2020",
          "SEPT 2020",
          "OCT 2020",
          "NOV 2020",
          "DEC 2020",
          "JAN 2021",
          "FEB 2021",
          "MAR 2021",
          "APR 2021",
          "MAY 2021",
          "JUN 2021",
          "JUL 2021",
          "AUG 2021",
          "SEPT 2021",
          "OCT 2021"
         ],
         "y": [
          748,
          613,
          539,
          657,
          488,
          621,
          528,
          524,
          569,
          620,
          383,
          426,
          288,
          395,
          585,
          546,
          345,
          420,
          416,
          377,
          500,
          436
         ]
        },
        {
         "line": {
          "color": "red",
          "width": 2
         },
         "name": "Service Call Hours",
         "type": "scatter",
         "x": [
          "JAN 2020",
          "FEB 2020",
          "MAR 2020",
          "APR 2020",
          "MAY 2020",
          "JUN 2020",
          "JUL 2020",
          "AUG 2020",
          "SEPT 2020",
          "OCT 2020",
          "NOV 2020",
          "DEC 2020",
          "JAN 2021",
          "FEB 2021",
          "MAR 2021",
          "APR 2021",
          "MAY 2021",
          "JUN 2021",
          "JUL 2021",
          "AUG 2021",
          "SEPT 2021",
          "OCT 2021"
         ],
         "y": [
          46,
          100.5,
          142.5,
          138.25,
          175.75,
          243,
          201,
          227,
          216.5,
          225.75,
          112.5,
          90.5,
          101.5,
          80,
          169,
          168.5,
          220,
          209.5,
          236,
          313,
          293.75,
          247.5
         ]
        },
        {
         "line": {
          "color": "#351C15",
          "width": 2
         },
         "name": "Scrap",
         "type": "scatter",
         "x": [
          "JAN 2020",
          "FEB 2020",
          "MAR 2020",
          "APR 2020",
          "MAY 2020",
          "JUN 2020",
          "JUL 2020",
          "AUG 2020",
          "SEPT 2020",
          "OCT 2020",
          "NOV 2020",
          "DEC 2020",
          "JAN 2021",
          "FEB 2021",
          "MAR 2021",
          "APR 2021",
          "MAY 2021",
          "JUN 2021",
          "JUL 2021",
          "AUG 2021",
          "SEPT 2021",
          "OCT 2021"
         ],
         "y": [
          19,
          32,
          58,
          51,
          78,
          127,
          127,
          130,
          119,
          96,
          64,
          55,
          41,
          32,
          108,
          91,
          136,
          97,
          105,
          199,
          198,
          182
         ]
        }
       ],
       "layout": {
        "annotations": [
         {
          "font": {
           "family": "Times New Roman",
           "size": 27
          },
          "showarrow": false,
          "text": " Last Year ",
          "x": 0,
          "xanchor": "left",
          "xref": "x",
          "y": 1,
          "yanchor": "top",
          "yref": "y domain"
         },
         {
          "font": {
           "family": "Times New Roman",
           "size": 27
          },
          "showarrow": false,
          "text": " Current Year ",
          "x": 12,
          "xanchor": "left",
          "xref": "x",
          "y": 1,
          "yanchor": "top",
          "yref": "y domain"
         }
        ],
        "autosize": false,
        "font": {
         "color": "black",
         "size": 16
        },
        "height": 675,
        "legend": {
         "bgcolor": "white",
         "bordercolor": "dimgray",
         "borderwidth": 0.05,
         "font": {
          "color": "black",
          "size": 15
         },
         "title": {
          "font": {
           "family": "Times New Roman"
          }
         },
         "x": 1,
         "y": 1
        },
        "shapes": [
         {
          "line": {
           "width": 0
          },
          "opacity": 0.25,
          "type": "rect",
          "x0": 0,
          "x1": 12,
          "xref": "x",
          "y0": 0,
          "y1": 1,
          "yref": "y domain"
         },
         {
          "line": {
           "width": 0
          },
          "opacity": 0.15,
          "type": "rect",
          "x0": 12,
          "x1": 12,
          "xref": "x",
          "y0": 0,
          "y1": 1,
          "yref": "y domain"
         },
         {
          "line": {
           "color": "green",
           "dash": "dash",
           "width": 3.5
          },
          "type": "line",
          "x0": 11.5,
          "x1": 11.5,
          "xref": "x",
          "y0": 0,
          "y1": 1,
          "yref": "y domain"
         },
         {
          "line": {
           "color": "green",
           "dash": "dash",
           "width": 3.5
          },
          "type": "line",
          "x0": 11.5,
          "x1": 11.5,
          "xref": "x",
          "y0": 0,
          "y1": 1,
          "yref": "y domain"
         }
        ],
        "showlegend": true,
        "template": {
         "data": {
          "bar": [
           {
            "error_x": {
             "color": "#2a3f5f"
            },
            "error_y": {
             "color": "#2a3f5f"
            },
            "marker": {
             "line": {
              "color": "#E5ECF6",
              "width": 0.5
             }
            },
            "type": "bar"
           }
          ],
          "barpolar": [
           {
            "marker": {
             "line": {
              "color": "#E5ECF6",
              "width": 0.5
             }
            },
            "type": "barpolar"
           }
          ],
          "carpet": [
           {
            "aaxis": {
             "endlinecolor": "#2a3f5f",
             "gridcolor": "white",
             "linecolor": "white",
             "minorgridcolor": "white",
             "startlinecolor": "#2a3f5f"
            },
            "baxis": {
             "endlinecolor": "#2a3f5f",
             "gridcolor": "white",
             "linecolor": "white",
             "minorgridcolor": "white",
             "startlinecolor": "#2a3f5f"
            },
            "type": "carpet"
           }
          ],
          "choropleth": [
           {
            "colorbar": {
             "outlinewidth": 0,
             "ticks": ""
            },
            "type": "choropleth"
           }
          ],
          "contour": [
           {
            "colorbar": {
             "outlinewidth": 0,
             "ticks": ""
            },
            "colorscale": [
             [
              0,
              "#0d0887"
             ],
             [
              0.1111111111111111,
              "#46039f"
             ],
             [
              0.2222222222222222,
              "#7201a8"
             ],
             [
              0.3333333333333333,
              "#9c179e"
             ],
             [
              0.4444444444444444,
              "#bd3786"
             ],
             [
              0.5555555555555556,
              "#d8576b"
             ],
             [
              0.6666666666666666,
              "#ed7953"
             ],
             [
              0.7777777777777778,
              "#fb9f3a"
             ],
             [
              0.8888888888888888,
              "#fdca26"
             ],
             [
              1,
              "#f0f921"
             ]
            ],
            "type": "contour"
           }
          ],
          "contourcarpet": [
           {
            "colorbar": {
             "outlinewidth": 0,
             "ticks": ""
            },
            "type": "contourcarpet"
           }
          ],
          "heatmap": [
           {
            "colorbar": {
             "outlinewidth": 0,
             "ticks": ""
            },
            "colorscale": [
             [
              0,
              "#0d0887"
             ],
             [
              0.1111111111111111,
              "#46039f"
             ],
             [
              0.2222222222222222,
              "#7201a8"
             ],
             [
              0.3333333333333333,
              "#9c179e"
             ],
             [
              0.4444444444444444,
              "#bd3786"
             ],
             [
              0.5555555555555556,
              "#d8576b"
             ],
             [
              0.6666666666666666,
              "#ed7953"
             ],
             [
              0.7777777777777778,
              "#fb9f3a"
             ],
             [
              0.8888888888888888,
              "#fdca26"
             ],
             [
              1,
              "#f0f921"
             ]
            ],
            "type": "heatmap"
           }
          ],
          "heatmapgl": [
           {
            "colorbar": {
             "outlinewidth": 0,
             "ticks": ""
            },
            "colorscale": [
             [
              0,
              "#0d0887"
             ],
             [
              0.1111111111111111,
              "#46039f"
             ],
             [
              0.2222222222222222,
              "#7201a8"
             ],
             [
              0.3333333333333333,
              "#9c179e"
             ],
             [
              0.4444444444444444,
              "#bd3786"
             ],
             [
              0.5555555555555556,
              "#d8576b"
             ],
             [
              0.6666666666666666,
              "#ed7953"
             ],
             [
              0.7777777777777778,
              "#fb9f3a"
             ],
             [
              0.8888888888888888,
              "#fdca26"
             ],
             [
              1,
              "#f0f921"
             ]
            ],
            "type": "heatmapgl"
           }
          ],
          "histogram": [
           {
            "marker": {
             "colorbar": {
              "outlinewidth": 0,
              "ticks": ""
             }
            },
            "type": "histogram"
           }
          ],
          "histogram2d": [
           {
            "colorbar": {
             "outlinewidth": 0,
             "ticks": ""
            },
            "colorscale": [
             [
              0,
              "#0d0887"
             ],
             [
              0.1111111111111111,
              "#46039f"
             ],
             [
              0.2222222222222222,
              "#7201a8"
             ],
             [
              0.3333333333333333,
              "#9c179e"
             ],
             [
              0.4444444444444444,
              "#bd3786"
             ],
             [
              0.5555555555555556,
              "#d8576b"
             ],
             [
              0.6666666666666666,
              "#ed7953"
             ],
             [
              0.7777777777777778,
              "#fb9f3a"
             ],
             [
              0.8888888888888888,
              "#fdca26"
             ],
             [
              1,
              "#f0f921"
             ]
            ],
            "type": "histogram2d"
           }
          ],
          "histogram2dcontour": [
           {
            "colorbar": {
             "outlinewidth": 0,
             "ticks": ""
            },
            "colorscale": [
             [
              0,
              "#0d0887"
             ],
             [
              0.1111111111111111,
              "#46039f"
             ],
             [
              0.2222222222222222,
              "#7201a8"
             ],
             [
              0.3333333333333333,
              "#9c179e"
             ],
             [
              0.4444444444444444,
              "#bd3786"
             ],
             [
              0.5555555555555556,
              "#d8576b"
             ],
             [
              0.6666666666666666,
              "#ed7953"
             ],
             [
              0.7777777777777778,
              "#fb9f3a"
             ],
             [
              0.8888888888888888,
              "#fdca26"
             ],
             [
              1,
              "#f0f921"
             ]
            ],
            "type": "histogram2dcontour"
           }
          ],
          "mesh3d": [
           {
            "colorbar": {
             "outlinewidth": 0,
             "ticks": ""
            },
            "type": "mesh3d"
           }
          ],
          "parcoords": [
           {
            "line": {
             "colorbar": {
              "outlinewidth": 0,
              "ticks": ""
             }
            },
            "type": "parcoords"
           }
          ],
          "pie": [
           {
            "automargin": true,
            "type": "pie"
           }
          ],
          "scatter": [
           {
            "marker": {
             "colorbar": {
              "outlinewidth": 0,
              "ticks": ""
             }
            },
            "type": "scatter"
           }
          ],
          "scatter3d": [
           {
            "line": {
             "colorbar": {
              "outlinewidth": 0,
              "ticks": ""
             }
            },
            "marker": {
             "colorbar": {
              "outlinewidth": 0,
              "ticks": ""
             }
            },
            "type": "scatter3d"
           }
          ],
          "scattercarpet": [
           {
            "marker": {
             "colorbar": {
              "outlinewidth": 0,
              "ticks": ""
             }
            },
            "type": "scattercarpet"
           }
          ],
          "scattergeo": [
           {
            "marker": {
             "colorbar": {
              "outlinewidth": 0,
              "ticks": ""
             }
            },
            "type": "scattergeo"
           }
          ],
          "scattergl": [
           {
            "marker": {
             "colorbar": {
              "outlinewidth": 0,
              "ticks": ""
             }
            },
            "type": "scattergl"
           }
          ],
          "scattermapbox": [
           {
            "marker": {
             "colorbar": {
              "outlinewidth": 0,
              "ticks": ""
             }
            },
            "type": "scattermapbox"
           }
          ],
          "scatterpolar": [
           {
            "marker": {
             "colorbar": {
              "outlinewidth": 0,
              "ticks": ""
             }
            },
            "type": "scatterpolar"
           }
          ],
          "scatterpolargl": [
           {
            "marker": {
             "colorbar": {
              "outlinewidth": 0,
              "ticks": ""
             }
            },
            "type": "scatterpolargl"
           }
          ],
          "scatterternary": [
           {
            "marker": {
             "colorbar": {
              "outlinewidth": 0,
              "ticks": ""
             }
            },
            "type": "scatterternary"
           }
          ],
          "surface": [
           {
            "colorbar": {
             "outlinewidth": 0,
             "ticks": ""
            },
            "colorscale": [
             [
              0,
              "#0d0887"
             ],
             [
              0.1111111111111111,
              "#46039f"
             ],
             [
              0.2222222222222222,
              "#7201a8"
             ],
             [
              0.3333333333333333,
              "#9c179e"
             ],
             [
              0.4444444444444444,
              "#bd3786"
             ],
             [
              0.5555555555555556,
              "#d8576b"
             ],
             [
              0.6666666666666666,
              "#ed7953"
             ],
             [
              0.7777777777777778,
              "#fb9f3a"
             ],
             [
              0.8888888888888888,
              "#fdca26"
             ],
             [
              1,
              "#f0f921"
             ]
            ],
            "type": "surface"
           }
          ],
          "table": [
           {
            "cells": {
             "fill": {
              "color": "#EBF0F8"
             },
             "line": {
              "color": "white"
             }
            },
            "header": {
             "fill": {
              "color": "#C8D4E3"
             },
             "line": {
              "color": "white"
             }
            },
            "type": "table"
           }
          ]
         },
         "layout": {
          "annotationdefaults": {
           "arrowcolor": "#2a3f5f",
           "arrowhead": 0,
           "arrowwidth": 1
          },
          "autotypenumbers": "strict",
          "coloraxis": {
           "colorbar": {
            "outlinewidth": 0,
            "ticks": ""
           }
          },
          "colorscale": {
           "diverging": [
            [
             0,
             "#8e0152"
            ],
            [
             0.1,
             "#c51b7d"
            ],
            [
             0.2,
             "#de77ae"
            ],
            [
             0.3,
             "#f1b6da"
            ],
            [
             0.4,
             "#fde0ef"
            ],
            [
             0.5,
             "#f7f7f7"
            ],
            [
             0.6,
             "#e6f5d0"
            ],
            [
             0.7,
             "#b8e186"
            ],
            [
             0.8,
             "#7fbc41"
            ],
            [
             0.9,
             "#4d9221"
            ],
            [
             1,
             "#276419"
            ]
           ],
           "sequential": [
            [
             0,
             "#0d0887"
            ],
            [
             0.1111111111111111,
             "#46039f"
            ],
            [
             0.2222222222222222,
             "#7201a8"
            ],
            [
             0.3333333333333333,
             "#9c179e"
            ],
            [
             0.4444444444444444,
             "#bd3786"
            ],
            [
             0.5555555555555556,
             "#d8576b"
            ],
            [
             0.6666666666666666,
             "#ed7953"
            ],
            [
             0.7777777777777778,
             "#fb9f3a"
            ],
            [
             0.8888888888888888,
             "#fdca26"
            ],
            [
             1,
             "#f0f921"
            ]
           ],
           "sequentialminus": [
            [
             0,
             "#0d0887"
            ],
            [
             0.1111111111111111,
             "#46039f"
            ],
            [
             0.2222222222222222,
             "#7201a8"
            ],
            [
             0.3333333333333333,
             "#9c179e"
            ],
            [
             0.4444444444444444,
             "#bd3786"
            ],
            [
             0.5555555555555556,
             "#d8576b"
            ],
            [
             0.6666666666666666,
             "#ed7953"
            ],
            [
             0.7777777777777778,
             "#fb9f3a"
            ],
            [
             0.8888888888888888,
             "#fdca26"
            ],
            [
             1,
             "#f0f921"
            ]
           ]
          },
          "colorway": [
           "#636efa",
           "#EF553B",
           "#00cc96",
           "#ab63fa",
           "#FFA15A",
           "#19d3f3",
           "#FF6692",
           "#B6E880",
           "#FF97FF",
           "#FECB52"
          ],
          "font": {
           "color": "#2a3f5f"
          },
          "geo": {
           "bgcolor": "white",
           "lakecolor": "white",
           "landcolor": "#E5ECF6",
           "showlakes": true,
           "showland": true,
           "subunitcolor": "white"
          },
          "hoverlabel": {
           "align": "left"
          },
          "hovermode": "closest",
          "mapbox": {
           "style": "light"
          },
          "paper_bgcolor": "white",
          "plot_bgcolor": "#E5ECF6",
          "polar": {
           "angularaxis": {
            "gridcolor": "white",
            "linecolor": "white",
            "ticks": ""
           },
           "bgcolor": "#E5ECF6",
           "radialaxis": {
            "gridcolor": "white",
            "linecolor": "white",
            "ticks": ""
           }
          },
          "scene": {
           "xaxis": {
            "backgroundcolor": "#E5ECF6",
            "gridcolor": "white",
            "gridwidth": 2,
            "linecolor": "white",
            "showbackground": true,
            "ticks": "",
            "zerolinecolor": "white"
           },
           "yaxis": {
            "backgroundcolor": "#E5ECF6",
            "gridcolor": "white",
            "gridwidth": 2,
            "linecolor": "white",
            "showbackground": true,
            "ticks": "",
            "zerolinecolor": "white"
           },
           "zaxis": {
            "backgroundcolor": "#E5ECF6",
            "gridcolor": "white",
            "gridwidth": 2,
            "linecolor": "white",
            "showbackground": true,
            "ticks": "",
            "zerolinecolor": "white"
           }
          },
          "shapedefaults": {
           "line": {
            "color": "#2a3f5f"
           }
          },
          "ternary": {
           "aaxis": {
            "gridcolor": "white",
            "linecolor": "white",
            "ticks": ""
           },
           "baxis": {
            "gridcolor": "white",
            "linecolor": "white",
            "ticks": ""
           },
           "bgcolor": "#E5ECF6",
           "caxis": {
            "gridcolor": "white",
            "linecolor": "white",
            "ticks": ""
           }
          },
          "title": {
           "x": 0.05
          },
          "xaxis": {
           "automargin": true,
           "gridcolor": "white",
           "linecolor": "white",
           "ticks": "",
           "title": {
            "standoff": 15
           },
           "zerolinecolor": "white",
           "zerolinewidth": 2
          },
          "yaxis": {
           "automargin": true,
           "gridcolor": "white",
           "linecolor": "white",
           "ticks": "",
           "title": {
            "standoff": 15
           },
           "zerolinecolor": "white",
           "zerolinewidth": 2
          }
         }
        },
        "title": {
         "font": {
          "color": "#351C15",
          "size": 24
         },
         "text": "<b>Service Purchases Trend 2020 - 2021</b>",
         "x": 0.5
        },
        "width": 1350,
        "xaxis": {
         "title": {
          "text": "Month"
         }
        },
        "yaxis": {
         "title": {
          "text": "Services"
         }
        }
       }
      }
     },
     "metadata": {},
     "output_type": "display_data"
    },
    {
     "data": {
      "text/plain": [
       "'https://plotly.com/~alex3/8/'"
      ]
     },
     "execution_count": 22,
     "metadata": {},
     "output_type": "execute_result"
    }
   ],
   "source": [
    "\n",
    "# Setup independent X Variables (which is just the month and save a list):\n",
    "Month_LIST = Service_df_TRANSPOSED['month-yr'].to_list()\n",
    "\n",
    "# Setup a dependent Y Variables (By Creating separate lists for each type of service):\n",
    "Flat_Repair_Values = Service_df_TRANSPOSED['Flat Repair'].to_list()\n",
    "\n",
    "Tire_Rotation_Values = Service_df_TRANSPOSED[\"Tire Rotation\"].tolist()\n",
    "\n",
    "Mount_and_Dismount_Values = Service_df_TRANSPOSED[\"Mount and Dismount\"].to_list()\n",
    "\n",
    "Service_Call_Hours_Values = Service_df_TRANSPOSED[\"Service Call Hours\"].to_list()\n",
    "\n",
    "Scrap_Values = Service_df_TRANSPOSED[\"Scrap\"].to_list()\n",
    "\n",
    "fig = go.Figure()\n",
    "# Add a light blue filter over last year's graph to distinguish it from this year:\n",
    "fig.add_vrect(x0=0, x1=12,\n",
    "                annotation_text=\" Last Year \", annotation_position=\"top left\",\n",
    "                annotation=dict(\n",
    "    font_size=27, font_family=\"Times New Roman\"),\n",
    "    fillcolor=None, opacity=0.25, line_width=0)\n",
    "# Optionally add a filter color for this yr too, lightgreen works (or choose \"white\" or comment out this block for none)\n",
    "fig.add_vrect(x0=12, x1=12,\n",
    "                annotation_text=\" Current Year \", annotation_position=\"top left\",\n",
    "                annotation=dict(\n",
    "    font_size=27, font_family=\"Times New Roman\"),\n",
    "    fillcolor=None, opacity=0.15, line_width=0)\n",
    "\n",
    "# Add a green vertical line the graph to separate last year from the current one:\n",
    "fig.add_vline(x=11.5, line_width=3.5,\n",
    "                line_dash=\"dash\", line_color=\"green\")\n",
    "\n",
    "# Create and Style Traces:\n",
    "fig.add_trace(go.Scatter(x=Month_LIST, y=Flat_Repair_Values, name='Flat Repair',\n",
    "                            line=dict(color='purple', width=2)))\n",
    "fig.add_trace(go.Scatter(x=Month_LIST, y=Tire_Rotation_Values, name='Tire Rotation',\n",
    "                            line=dict(color='#FFB500', width=2)))\n",
    "fig.add_trace(go.Scatter(x=Month_LIST, y=Mount_and_Dismount_Values, name='Mount and Dismount',\n",
    "                            line=dict(color='royalblue', width=2)))\n",
    "fig.add_trace(go.Scatter(x=Month_LIST, y=Service_Call_Hours_Values, name='Service Call Hours',\n",
    "                            line=dict(color='red', width=2)))\n",
    "fig.add_trace(go.Scatter(x=Month_LIST, y=Scrap_Values, name='Scrap',\n",
    "                            line=dict(color='#351C15', width=2)))\n",
    "\n",
    "# Edit the Layout:\n",
    "fig.update_layout(\n",
    "    title_text=f\"<b>Service Purchases Trend {Last_Year} - {Current_Year}</b>\",\n",
    "    title_x=0.5,\n",
    "    title_font_size=24,\n",
    "    title_font_color=\"#351C15\",\n",
    "    xaxis_title=\"Month\",\n",
    "    yaxis_title='Services',\n",
    "    autosize=False, width=1350, height=675,\n",
    "    showlegend=True,\n",
    "    legend=dict(\n",
    "        x=1,\n",
    "        y=1,\n",
    "        title_font_family=\"Times New Roman\",\n",
    "        font=dict(\n",
    "            family=None,\n",
    "            size=15,\n",
    "            color=\"black\"\n",
    "        ),\n",
    "        bgcolor=\"white\",\n",
    "        bordercolor=\"dimgray\",\n",
    "        borderwidth=.05\n",
    "    ),\n",
    "    # General axes and axes labels fonts:\n",
    "    font=dict(\n",
    "        family=None,\n",
    "        size=16,\n",
    "        color=\"black\"\n",
    "    ))\n",
    "\n",
    "\n",
    "# Add a green vertical line the graph to separate last year from the current one:\n",
    "fig.add_vline(x=11.5, line_width=3.5,\n",
    "                line_dash=\"dash\", line_color=\"green\")\n",
    "\n",
    "# Save the file to use in HTML, PDF, etc.\n",
    "fig.write_image(f\"Images_graphs/{Current_Year}_Service_Purchase_Analysis.svg\")\n",
    "fig.show()\n",
    "\n",
    "\n",
    "\n",
    "\n",
    "\n",
    "\n",
    "\n",
    "\n",
    "\n",
    "# NOW.... we have to do all that again to create the same graph but different size for our interactive webpage version:\n",
    "fig2 = go.Figure()\n",
    "# Add a light blue filter over last year's graph to distinguish it from this year:\n",
    "fig2.add_vrect(x0=0, x1=12,\n",
    "                annotation_text=\" Last Year \", annotation_position=\"top left\",\n",
    "                annotation=dict(\n",
    "    font_size=23, font_family=\"Times New Roman\"),\n",
    "    fillcolor=None, opacity=0.25, line_width=0)\n",
    "# Optionally add a filter color for this yr too, lightgreen works (or choose \"white\" or comment out this block for none)\n",
    "fig2.add_vrect(x0=12, x1=12,\n",
    "                annotation_text=\" Current Year \", annotation_position=\"top left\",\n",
    "                annotation=dict(\n",
    "    font_size=23, font_family=\"Times New Roman\"),\n",
    "    fillcolor=None, opacity=0.15, line_width=0)\n",
    "\n",
    "# Add a green vertical line the graph to separate last year from the current one:\n",
    "fig2.add_vline(x=11.5, line_width=3.5,\n",
    "                line_dash=\"dash\", line_color=\"green\")\n",
    "\n",
    "# Create and Style Traces:\n",
    "fig2.add_trace(go.Scatter(x=Month_LIST, y=Flat_Repair_Values, name='Flat Repair',\n",
    "                            line=dict(color='purple', width=2)))\n",
    "fig2.add_trace(go.Scatter(x=Month_LIST, y=Tire_Rotation_Values, name='Tire Rotation',\n",
    "                            line=dict(color='#FFB500', width=2)))\n",
    "fig2.add_trace(go.Scatter(x=Month_LIST, y=Mount_and_Dismount_Values, name='Mount and Dismount',\n",
    "                            line=dict(color='royalblue', width=2)))\n",
    "fig2.add_trace(go.Scatter(x=Month_LIST, y=Service_Call_Hours_Values, name='Service Call Hours',\n",
    "                            line=dict(color='red', width=2)))\n",
    "fig2.add_trace(go.Scatter(x=Month_LIST, y=Scrap_Values, name='Scrap',\n",
    "                            line=dict(color='#351C15', width=2)))\n",
    "\n",
    "# Edit the Layout:\n",
    "fig2.update_layout(\n",
    "    title_text=f\"<b>Service Purchases Trend {Last_Year} - {Current_Year}</b>\",\n",
    "    title_x=0.5,\n",
    "    title_font_size=20,\n",
    "    title_font_color=\"#351C15\",\n",
    "    xaxis_title=\"Month\",\n",
    "    yaxis_title='Services',\n",
    "    autosize=False, width=1050, height=525,\n",
    "    showlegend=True,\n",
    "    legend=dict(\n",
    "        x=1,\n",
    "        y=1,\n",
    "        title_font_family=\"Times New Roman\",\n",
    "        font=dict(\n",
    "            family=None,\n",
    "            size=13,\n",
    "            color=\"black\"\n",
    "        ),\n",
    "        bgcolor=\"white\",\n",
    "        bordercolor=\"dimgray\",\n",
    "        borderwidth=.05\n",
    "    ),\n",
    "    # General axes and axes labels fonts:\n",
    "    font=dict(\n",
    "        family=None,\n",
    "        size=13,\n",
    "        color=\"black\"\n",
    "    ))\n",
    "\n",
    "\n",
    "# Add a green vertical line the graph to separate last year from the current one:\n",
    "fig2.add_vline(x=11.5, line_width=3.5,\n",
    "                line_dash=\"dash\", line_color=\"green\")\n",
    "\n",
    "\n",
    "\n",
    "# PLOTLY INTERACTIVE:\n",
    "Service_Purchases_Trend_graph = fig2\n",
    "Service_Purchases_Trend_graph_for_iframe = py.plot(Service_Purchases_Trend_graph, filename = 'Service_Purchases_Trend_graph', auto_open=False)\n",
    "Service_Purchases_Trend_graph_for_iframe\n"
   ]
  },
  {
   "cell_type": "markdown",
   "metadata": {},
   "source": [
    "## 2. Bandag Retread Purchase Analysis Line Chart:"
   ]
  },
  {
   "cell_type": "code",
   "execution_count": 23,
   "metadata": {},
   "outputs": [
    {
     "data": {
      "text/html": [
       "<div>\n",
       "<style scoped>\n",
       "    .dataframe tbody tr th:only-of-type {\n",
       "        vertical-align: middle;\n",
       "    }\n",
       "\n",
       "    .dataframe tbody tr th {\n",
       "        vertical-align: top;\n",
       "    }\n",
       "\n",
       "    .dataframe thead th {\n",
       "        text-align: right;\n",
       "    }\n",
       "</style>\n",
       "<table border=\"1\" class=\"dataframe\">\n",
       "  <thead>\n",
       "    <tr style=\"text-align: right;\">\n",
       "      <th></th>\n",
       "      <th>month-yr</th>\n",
       "      <th>245/70R17.5 RETREAD</th>\n",
       "      <th>295/75R22.5 RETREAD</th>\n",
       "    </tr>\n",
       "  </thead>\n",
       "  <tbody>\n",
       "    <tr>\n",
       "      <th>0</th>\n",
       "      <td>JAN 2020</td>\n",
       "      <td>0.0</td>\n",
       "      <td>0.0</td>\n",
       "    </tr>\n",
       "    <tr>\n",
       "      <th>1</th>\n",
       "      <td>FEB 2020</td>\n",
       "      <td>0.0</td>\n",
       "      <td>0.0</td>\n",
       "    </tr>\n",
       "    <tr>\n",
       "      <th>2</th>\n",
       "      <td>MAR 2020</td>\n",
       "      <td>0.0</td>\n",
       "      <td>0.0</td>\n",
       "    </tr>\n",
       "    <tr>\n",
       "      <th>3</th>\n",
       "      <td>APR 2020</td>\n",
       "      <td>0.0</td>\n",
       "      <td>0.0</td>\n",
       "    </tr>\n",
       "    <tr>\n",
       "      <th>4</th>\n",
       "      <td>MAY 2020</td>\n",
       "      <td>0.0</td>\n",
       "      <td>0.0</td>\n",
       "    </tr>\n",
       "    <tr>\n",
       "      <th>5</th>\n",
       "      <td>JUN 2020</td>\n",
       "      <td>0.0</td>\n",
       "      <td>0.0</td>\n",
       "    </tr>\n",
       "    <tr>\n",
       "      <th>6</th>\n",
       "      <td>JUL 2020</td>\n",
       "      <td>0.0</td>\n",
       "      <td>0.0</td>\n",
       "    </tr>\n",
       "    <tr>\n",
       "      <th>7</th>\n",
       "      <td>AUG 2020</td>\n",
       "      <td>0.0</td>\n",
       "      <td>1.0</td>\n",
       "    </tr>\n",
       "    <tr>\n",
       "      <th>8</th>\n",
       "      <td>SEPT 2020</td>\n",
       "      <td>0.0</td>\n",
       "      <td>0.0</td>\n",
       "    </tr>\n",
       "    <tr>\n",
       "      <th>9</th>\n",
       "      <td>OCT 2020</td>\n",
       "      <td>0.0</td>\n",
       "      <td>0.0</td>\n",
       "    </tr>\n",
       "    <tr>\n",
       "      <th>10</th>\n",
       "      <td>NOV 2020</td>\n",
       "      <td>0.0</td>\n",
       "      <td>0.0</td>\n",
       "    </tr>\n",
       "    <tr>\n",
       "      <th>11</th>\n",
       "      <td>DEC 2020</td>\n",
       "      <td>1.0</td>\n",
       "      <td>0.0</td>\n",
       "    </tr>\n",
       "    <tr>\n",
       "      <th>12</th>\n",
       "      <td>JAN 2021</td>\n",
       "      <td>2.0</td>\n",
       "      <td>0.0</td>\n",
       "    </tr>\n",
       "    <tr>\n",
       "      <th>13</th>\n",
       "      <td>FEB 2021</td>\n",
       "      <td>1.0</td>\n",
       "      <td>0.0</td>\n",
       "    </tr>\n",
       "    <tr>\n",
       "      <th>14</th>\n",
       "      <td>MAR 2021</td>\n",
       "      <td>6.0</td>\n",
       "      <td>87.0</td>\n",
       "    </tr>\n",
       "    <tr>\n",
       "      <th>15</th>\n",
       "      <td>APR 2021</td>\n",
       "      <td>1.0</td>\n",
       "      <td>81.0</td>\n",
       "    </tr>\n",
       "    <tr>\n",
       "      <th>16</th>\n",
       "      <td>MAY 2021</td>\n",
       "      <td>0.0</td>\n",
       "      <td>39.0</td>\n",
       "    </tr>\n",
       "    <tr>\n",
       "      <th>17</th>\n",
       "      <td>JUN 2021</td>\n",
       "      <td>0.0</td>\n",
       "      <td>36.0</td>\n",
       "    </tr>\n",
       "    <tr>\n",
       "      <th>18</th>\n",
       "      <td>JUL 2021</td>\n",
       "      <td>1.0</td>\n",
       "      <td>19.0</td>\n",
       "    </tr>\n",
       "    <tr>\n",
       "      <th>19</th>\n",
       "      <td>AUG 2021</td>\n",
       "      <td>2.0</td>\n",
       "      <td>14.0</td>\n",
       "    </tr>\n",
       "    <tr>\n",
       "      <th>20</th>\n",
       "      <td>SEPT 2021</td>\n",
       "      <td>4.0</td>\n",
       "      <td>53.0</td>\n",
       "    </tr>\n",
       "    <tr>\n",
       "      <th>21</th>\n",
       "      <td>OCT 2021</td>\n",
       "      <td>0.0</td>\n",
       "      <td>31.0</td>\n",
       "    </tr>\n",
       "  </tbody>\n",
       "</table>\n",
       "</div>"
      ],
      "text/plain": [
       "     month-yr 245/70R17.5 RETREAD 295/75R22.5 RETREAD\n",
       "0    JAN 2020                 0.0                 0.0\n",
       "1    FEB 2020                 0.0                 0.0\n",
       "2    MAR 2020                 0.0                 0.0\n",
       "3    APR 2020                 0.0                 0.0\n",
       "4    MAY 2020                 0.0                 0.0\n",
       "5    JUN 2020                 0.0                 0.0\n",
       "6    JUL 2020                 0.0                 0.0\n",
       "7    AUG 2020                 0.0                 1.0\n",
       "8   SEPT 2020                 0.0                 0.0\n",
       "9    OCT 2020                 0.0                 0.0\n",
       "10   NOV 2020                 0.0                 0.0\n",
       "11   DEC 2020                 1.0                 0.0\n",
       "12   JAN 2021                 2.0                 0.0\n",
       "13   FEB 2021                 1.0                 0.0\n",
       "14   MAR 2021                 6.0                87.0\n",
       "15   APR 2021                 1.0                81.0\n",
       "16   MAY 2021                 0.0                39.0\n",
       "17   JUN 2021                 0.0                36.0\n",
       "18   JUL 2021                 1.0                19.0\n",
       "19   AUG 2021                 2.0                14.0\n",
       "20  SEPT 2021                 4.0                53.0\n",
       "21   OCT 2021                 0.0                31.0"
      ]
     },
     "execution_count": 23,
     "metadata": {},
     "output_type": "execute_result"
    }
   ],
   "source": [
    "# Transpose the Merged_Bandag_Retread_df to make it easier for graphing:\n",
    "Merged_Bandag_Retread_df_TRANSPOSED = Merged_Bandag_Retread_df.T\n",
    "\n",
    "Description_list_from_first_row = list(Merged_Bandag_Retread_df_TRANSPOSED.iloc[0])\n",
    "Merged_Bandag_Retread_df_TRANSPOSED = Merged_Bandag_Retread_df_TRANSPOSED.iloc[1:, :]\n",
    "Merged_Bandag_Retread_df_TRANSPOSED.columns = Description_list_from_first_row\n",
    "\n",
    "Merged_Bandag_Retread_df_TRANSPOSED = Merged_Bandag_Retread_df_TRANSPOSED.reset_index()\n",
    "Merged_Bandag_Retread_df_TRANSPOSED = Merged_Bandag_Retread_df_TRANSPOSED.rename(columns={'index': 'month-yr'})\n",
    "\n",
    "Merged_Bandag_Retread_df_TRANSPOSED"
   ]
  },
  {
   "cell_type": "code",
   "execution_count": 24,
   "metadata": {},
   "outputs": [
    {
     "data": {
      "application/vnd.plotly.v1+json": {
       "config": {
        "plotlyServerURL": "https://plotly.com"
       },
       "data": [
        {
         "line": {
          "color": "black",
          "width": 2.5
         },
         "name": "245/70R17.5",
         "type": "scatter",
         "x": [
          "JAN 2020",
          "FEB 2020",
          "MAR 2020",
          "APR 2020",
          "MAY 2020",
          "JUN 2020",
          "JUL 2020",
          "AUG 2020",
          "SEPT 2020",
          "OCT 2020",
          "NOV 2020",
          "DEC 2020",
          "JAN 2021",
          "FEB 2021",
          "MAR 2021",
          "APR 2021",
          "MAY 2021",
          "JUN 2021",
          "JUL 2021",
          "AUG 2021",
          "SEPT 2021",
          "OCT 2021"
         ],
         "y": [
          0,
          0,
          0,
          0,
          0,
          0,
          0,
          0,
          0,
          0,
          0,
          1,
          2,
          1,
          6,
          1,
          0,
          0,
          1,
          2,
          4,
          0
         ]
        },
        {
         "line": {
          "color": "#caa74d",
          "width": 2.5
         },
         "name": "295/75R22.5",
         "type": "scatter",
         "x": [
          "JAN 2020",
          "FEB 2020",
          "MAR 2020",
          "APR 2020",
          "MAY 2020",
          "JUN 2020",
          "JUL 2020",
          "AUG 2020",
          "SEPT 2020",
          "OCT 2020",
          "NOV 2020",
          "DEC 2020",
          "JAN 2021",
          "FEB 2021",
          "MAR 2021",
          "APR 2021",
          "MAY 2021",
          "JUN 2021",
          "JUL 2021",
          "AUG 2021",
          "SEPT 2021",
          "OCT 2021"
         ],
         "y": [
          0,
          0,
          0,
          0,
          0,
          0,
          0,
          1,
          0,
          0,
          0,
          0,
          0,
          0,
          87,
          81,
          39,
          36,
          19,
          14,
          53,
          31
         ]
        }
       ],
       "layout": {
        "annotations": [
         {
          "font": {
           "family": "Times New Roman",
           "size": 27
          },
          "showarrow": false,
          "text": " Last Year ",
          "x": 0,
          "xanchor": "left",
          "xref": "x",
          "y": 1,
          "yanchor": "top",
          "yref": "y domain"
         },
         {
          "font": {
           "family": "Times New Roman",
           "size": 27
          },
          "showarrow": false,
          "text": " Current Year ",
          "x": 12,
          "xanchor": "left",
          "xref": "x",
          "y": 1,
          "yanchor": "top",
          "yref": "y domain"
         }
        ],
        "autosize": false,
        "font": {
         "color": "black",
         "size": 16
        },
        "height": 675,
        "legend": {
         "bgcolor": "white",
         "bordercolor": "dimgray",
         "borderwidth": 0.05,
         "font": {
          "color": "black",
          "size": 15
         },
         "title": {
          "font": {
           "family": "Times New Roman"
          }
         },
         "x": 1,
         "y": 1
        },
        "shapes": [
         {
          "line": {
           "width": 0
          },
          "opacity": 0.25,
          "type": "rect",
          "x0": 0,
          "x1": 12,
          "xref": "x",
          "y0": 0,
          "y1": 1,
          "yref": "y domain"
         },
         {
          "line": {
           "width": 0
          },
          "opacity": 0.15,
          "type": "rect",
          "x0": 12,
          "x1": 12,
          "xref": "x",
          "y0": 0,
          "y1": 1,
          "yref": "y domain"
         },
         {
          "line": {
           "color": "green",
           "dash": "dash",
           "width": 3.5
          },
          "type": "line",
          "x0": 11.5,
          "x1": 11.5,
          "xref": "x",
          "y0": 0,
          "y1": 1,
          "yref": "y domain"
         }
        ],
        "showlegend": true,
        "template": {
         "data": {
          "bar": [
           {
            "error_x": {
             "color": "#2a3f5f"
            },
            "error_y": {
             "color": "#2a3f5f"
            },
            "marker": {
             "line": {
              "color": "#E5ECF6",
              "width": 0.5
             }
            },
            "type": "bar"
           }
          ],
          "barpolar": [
           {
            "marker": {
             "line": {
              "color": "#E5ECF6",
              "width": 0.5
             }
            },
            "type": "barpolar"
           }
          ],
          "carpet": [
           {
            "aaxis": {
             "endlinecolor": "#2a3f5f",
             "gridcolor": "white",
             "linecolor": "white",
             "minorgridcolor": "white",
             "startlinecolor": "#2a3f5f"
            },
            "baxis": {
             "endlinecolor": "#2a3f5f",
             "gridcolor": "white",
             "linecolor": "white",
             "minorgridcolor": "white",
             "startlinecolor": "#2a3f5f"
            },
            "type": "carpet"
           }
          ],
          "choropleth": [
           {
            "colorbar": {
             "outlinewidth": 0,
             "ticks": ""
            },
            "type": "choropleth"
           }
          ],
          "contour": [
           {
            "colorbar": {
             "outlinewidth": 0,
             "ticks": ""
            },
            "colorscale": [
             [
              0,
              "#0d0887"
             ],
             [
              0.1111111111111111,
              "#46039f"
             ],
             [
              0.2222222222222222,
              "#7201a8"
             ],
             [
              0.3333333333333333,
              "#9c179e"
             ],
             [
              0.4444444444444444,
              "#bd3786"
             ],
             [
              0.5555555555555556,
              "#d8576b"
             ],
             [
              0.6666666666666666,
              "#ed7953"
             ],
             [
              0.7777777777777778,
              "#fb9f3a"
             ],
             [
              0.8888888888888888,
              "#fdca26"
             ],
             [
              1,
              "#f0f921"
             ]
            ],
            "type": "contour"
           }
          ],
          "contourcarpet": [
           {
            "colorbar": {
             "outlinewidth": 0,
             "ticks": ""
            },
            "type": "contourcarpet"
           }
          ],
          "heatmap": [
           {
            "colorbar": {
             "outlinewidth": 0,
             "ticks": ""
            },
            "colorscale": [
             [
              0,
              "#0d0887"
             ],
             [
              0.1111111111111111,
              "#46039f"
             ],
             [
              0.2222222222222222,
              "#7201a8"
             ],
             [
              0.3333333333333333,
              "#9c179e"
             ],
             [
              0.4444444444444444,
              "#bd3786"
             ],
             [
              0.5555555555555556,
              "#d8576b"
             ],
             [
              0.6666666666666666,
              "#ed7953"
             ],
             [
              0.7777777777777778,
              "#fb9f3a"
             ],
             [
              0.8888888888888888,
              "#fdca26"
             ],
             [
              1,
              "#f0f921"
             ]
            ],
            "type": "heatmap"
           }
          ],
          "heatmapgl": [
           {
            "colorbar": {
             "outlinewidth": 0,
             "ticks": ""
            },
            "colorscale": [
             [
              0,
              "#0d0887"
             ],
             [
              0.1111111111111111,
              "#46039f"
             ],
             [
              0.2222222222222222,
              "#7201a8"
             ],
             [
              0.3333333333333333,
              "#9c179e"
             ],
             [
              0.4444444444444444,
              "#bd3786"
             ],
             [
              0.5555555555555556,
              "#d8576b"
             ],
             [
              0.6666666666666666,
              "#ed7953"
             ],
             [
              0.7777777777777778,
              "#fb9f3a"
             ],
             [
              0.8888888888888888,
              "#fdca26"
             ],
             [
              1,
              "#f0f921"
             ]
            ],
            "type": "heatmapgl"
           }
          ],
          "histogram": [
           {
            "marker": {
             "colorbar": {
              "outlinewidth": 0,
              "ticks": ""
             }
            },
            "type": "histogram"
           }
          ],
          "histogram2d": [
           {
            "colorbar": {
             "outlinewidth": 0,
             "ticks": ""
            },
            "colorscale": [
             [
              0,
              "#0d0887"
             ],
             [
              0.1111111111111111,
              "#46039f"
             ],
             [
              0.2222222222222222,
              "#7201a8"
             ],
             [
              0.3333333333333333,
              "#9c179e"
             ],
             [
              0.4444444444444444,
              "#bd3786"
             ],
             [
              0.5555555555555556,
              "#d8576b"
             ],
             [
              0.6666666666666666,
              "#ed7953"
             ],
             [
              0.7777777777777778,
              "#fb9f3a"
             ],
             [
              0.8888888888888888,
              "#fdca26"
             ],
             [
              1,
              "#f0f921"
             ]
            ],
            "type": "histogram2d"
           }
          ],
          "histogram2dcontour": [
           {
            "colorbar": {
             "outlinewidth": 0,
             "ticks": ""
            },
            "colorscale": [
             [
              0,
              "#0d0887"
             ],
             [
              0.1111111111111111,
              "#46039f"
             ],
             [
              0.2222222222222222,
              "#7201a8"
             ],
             [
              0.3333333333333333,
              "#9c179e"
             ],
             [
              0.4444444444444444,
              "#bd3786"
             ],
             [
              0.5555555555555556,
              "#d8576b"
             ],
             [
              0.6666666666666666,
              "#ed7953"
             ],
             [
              0.7777777777777778,
              "#fb9f3a"
             ],
             [
              0.8888888888888888,
              "#fdca26"
             ],
             [
              1,
              "#f0f921"
             ]
            ],
            "type": "histogram2dcontour"
           }
          ],
          "mesh3d": [
           {
            "colorbar": {
             "outlinewidth": 0,
             "ticks": ""
            },
            "type": "mesh3d"
           }
          ],
          "parcoords": [
           {
            "line": {
             "colorbar": {
              "outlinewidth": 0,
              "ticks": ""
             }
            },
            "type": "parcoords"
           }
          ],
          "pie": [
           {
            "automargin": true,
            "type": "pie"
           }
          ],
          "scatter": [
           {
            "marker": {
             "colorbar": {
              "outlinewidth": 0,
              "ticks": ""
             }
            },
            "type": "scatter"
           }
          ],
          "scatter3d": [
           {
            "line": {
             "colorbar": {
              "outlinewidth": 0,
              "ticks": ""
             }
            },
            "marker": {
             "colorbar": {
              "outlinewidth": 0,
              "ticks": ""
             }
            },
            "type": "scatter3d"
           }
          ],
          "scattercarpet": [
           {
            "marker": {
             "colorbar": {
              "outlinewidth": 0,
              "ticks": ""
             }
            },
            "type": "scattercarpet"
           }
          ],
          "scattergeo": [
           {
            "marker": {
             "colorbar": {
              "outlinewidth": 0,
              "ticks": ""
             }
            },
            "type": "scattergeo"
           }
          ],
          "scattergl": [
           {
            "marker": {
             "colorbar": {
              "outlinewidth": 0,
              "ticks": ""
             }
            },
            "type": "scattergl"
           }
          ],
          "scattermapbox": [
           {
            "marker": {
             "colorbar": {
              "outlinewidth": 0,
              "ticks": ""
             }
            },
            "type": "scattermapbox"
           }
          ],
          "scatterpolar": [
           {
            "marker": {
             "colorbar": {
              "outlinewidth": 0,
              "ticks": ""
             }
            },
            "type": "scatterpolar"
           }
          ],
          "scatterpolargl": [
           {
            "marker": {
             "colorbar": {
              "outlinewidth": 0,
              "ticks": ""
             }
            },
            "type": "scatterpolargl"
           }
          ],
          "scatterternary": [
           {
            "marker": {
             "colorbar": {
              "outlinewidth": 0,
              "ticks": ""
             }
            },
            "type": "scatterternary"
           }
          ],
          "surface": [
           {
            "colorbar": {
             "outlinewidth": 0,
             "ticks": ""
            },
            "colorscale": [
             [
              0,
              "#0d0887"
             ],
             [
              0.1111111111111111,
              "#46039f"
             ],
             [
              0.2222222222222222,
              "#7201a8"
             ],
             [
              0.3333333333333333,
              "#9c179e"
             ],
             [
              0.4444444444444444,
              "#bd3786"
             ],
             [
              0.5555555555555556,
              "#d8576b"
             ],
             [
              0.6666666666666666,
              "#ed7953"
             ],
             [
              0.7777777777777778,
              "#fb9f3a"
             ],
             [
              0.8888888888888888,
              "#fdca26"
             ],
             [
              1,
              "#f0f921"
             ]
            ],
            "type": "surface"
           }
          ],
          "table": [
           {
            "cells": {
             "fill": {
              "color": "#EBF0F8"
             },
             "line": {
              "color": "white"
             }
            },
            "header": {
             "fill": {
              "color": "#C8D4E3"
             },
             "line": {
              "color": "white"
             }
            },
            "type": "table"
           }
          ]
         },
         "layout": {
          "annotationdefaults": {
           "arrowcolor": "#2a3f5f",
           "arrowhead": 0,
           "arrowwidth": 1
          },
          "autotypenumbers": "strict",
          "coloraxis": {
           "colorbar": {
            "outlinewidth": 0,
            "ticks": ""
           }
          },
          "colorscale": {
           "diverging": [
            [
             0,
             "#8e0152"
            ],
            [
             0.1,
             "#c51b7d"
            ],
            [
             0.2,
             "#de77ae"
            ],
            [
             0.3,
             "#f1b6da"
            ],
            [
             0.4,
             "#fde0ef"
            ],
            [
             0.5,
             "#f7f7f7"
            ],
            [
             0.6,
             "#e6f5d0"
            ],
            [
             0.7,
             "#b8e186"
            ],
            [
             0.8,
             "#7fbc41"
            ],
            [
             0.9,
             "#4d9221"
            ],
            [
             1,
             "#276419"
            ]
           ],
           "sequential": [
            [
             0,
             "#0d0887"
            ],
            [
             0.1111111111111111,
             "#46039f"
            ],
            [
             0.2222222222222222,
             "#7201a8"
            ],
            [
             0.3333333333333333,
             "#9c179e"
            ],
            [
             0.4444444444444444,
             "#bd3786"
            ],
            [
             0.5555555555555556,
             "#d8576b"
            ],
            [
             0.6666666666666666,
             "#ed7953"
            ],
            [
             0.7777777777777778,
             "#fb9f3a"
            ],
            [
             0.8888888888888888,
             "#fdca26"
            ],
            [
             1,
             "#f0f921"
            ]
           ],
           "sequentialminus": [
            [
             0,
             "#0d0887"
            ],
            [
             0.1111111111111111,
             "#46039f"
            ],
            [
             0.2222222222222222,
             "#7201a8"
            ],
            [
             0.3333333333333333,
             "#9c179e"
            ],
            [
             0.4444444444444444,
             "#bd3786"
            ],
            [
             0.5555555555555556,
             "#d8576b"
            ],
            [
             0.6666666666666666,
             "#ed7953"
            ],
            [
             0.7777777777777778,
             "#fb9f3a"
            ],
            [
             0.8888888888888888,
             "#fdca26"
            ],
            [
             1,
             "#f0f921"
            ]
           ]
          },
          "colorway": [
           "#636efa",
           "#EF553B",
           "#00cc96",
           "#ab63fa",
           "#FFA15A",
           "#19d3f3",
           "#FF6692",
           "#B6E880",
           "#FF97FF",
           "#FECB52"
          ],
          "font": {
           "color": "#2a3f5f"
          },
          "geo": {
           "bgcolor": "white",
           "lakecolor": "white",
           "landcolor": "#E5ECF6",
           "showlakes": true,
           "showland": true,
           "subunitcolor": "white"
          },
          "hoverlabel": {
           "align": "left"
          },
          "hovermode": "closest",
          "mapbox": {
           "style": "light"
          },
          "paper_bgcolor": "white",
          "plot_bgcolor": "#E5ECF6",
          "polar": {
           "angularaxis": {
            "gridcolor": "white",
            "linecolor": "white",
            "ticks": ""
           },
           "bgcolor": "#E5ECF6",
           "radialaxis": {
            "gridcolor": "white",
            "linecolor": "white",
            "ticks": ""
           }
          },
          "scene": {
           "xaxis": {
            "backgroundcolor": "#E5ECF6",
            "gridcolor": "white",
            "gridwidth": 2,
            "linecolor": "white",
            "showbackground": true,
            "ticks": "",
            "zerolinecolor": "white"
           },
           "yaxis": {
            "backgroundcolor": "#E5ECF6",
            "gridcolor": "white",
            "gridwidth": 2,
            "linecolor": "white",
            "showbackground": true,
            "ticks": "",
            "zerolinecolor": "white"
           },
           "zaxis": {
            "backgroundcolor": "#E5ECF6",
            "gridcolor": "white",
            "gridwidth": 2,
            "linecolor": "white",
            "showbackground": true,
            "ticks": "",
            "zerolinecolor": "white"
           }
          },
          "shapedefaults": {
           "line": {
            "color": "#2a3f5f"
           }
          },
          "ternary": {
           "aaxis": {
            "gridcolor": "white",
            "linecolor": "white",
            "ticks": ""
           },
           "baxis": {
            "gridcolor": "white",
            "linecolor": "white",
            "ticks": ""
           },
           "bgcolor": "#E5ECF6",
           "caxis": {
            "gridcolor": "white",
            "linecolor": "white",
            "ticks": ""
           }
          },
          "title": {
           "x": 0.05
          },
          "xaxis": {
           "automargin": true,
           "gridcolor": "white",
           "linecolor": "white",
           "ticks": "",
           "title": {
            "standoff": 15
           },
           "zerolinecolor": "white",
           "zerolinewidth": 2
          },
          "yaxis": {
           "automargin": true,
           "gridcolor": "white",
           "linecolor": "white",
           "ticks": "",
           "title": {
            "standoff": 15
           },
           "zerolinecolor": "white",
           "zerolinewidth": 2
          }
         }
        },
        "title": {
         "font": {
          "color": "#351C15",
          "size": 24
         },
         "text": "<b>Bandag Retread Purchases Trend 2020 - 2021</b>",
         "x": 0.5
        },
        "width": 1350,
        "xaxis": {
         "title": {
          "text": "Month"
         }
        },
        "yaxis": {
         "title": {
          "text": "Purchases"
         }
        }
       }
      }
     },
     "metadata": {},
     "output_type": "display_data"
    },
    {
     "data": {
      "application/vnd.plotly.v1+json": {
       "config": {
        "plotlyServerURL": "https://plotly.com"
       },
       "data": [
        {
         "line": {
          "color": "black",
          "width": 2
         },
         "name": "245/70R17.5",
         "type": "scatter",
         "x": [
          "JAN 2020",
          "FEB 2020",
          "MAR 2020",
          "APR 2020",
          "MAY 2020",
          "JUN 2020",
          "JUL 2020",
          "AUG 2020",
          "SEPT 2020",
          "OCT 2020",
          "NOV 2020",
          "DEC 2020",
          "JAN 2021",
          "FEB 2021",
          "MAR 2021",
          "APR 2021",
          "MAY 2021",
          "JUN 2021",
          "JUL 2021",
          "AUG 2021",
          "SEPT 2021",
          "OCT 2021"
         ],
         "y": [
          0,
          0,
          0,
          0,
          0,
          0,
          0,
          0,
          0,
          0,
          0,
          1,
          2,
          1,
          6,
          1,
          0,
          0,
          1,
          2,
          4,
          0
         ]
        },
        {
         "line": {
          "color": "#caa74d",
          "width": 2
         },
         "name": "295/75R22.5",
         "type": "scatter",
         "x": [
          "JAN 2020",
          "FEB 2020",
          "MAR 2020",
          "APR 2020",
          "MAY 2020",
          "JUN 2020",
          "JUL 2020",
          "AUG 2020",
          "SEPT 2020",
          "OCT 2020",
          "NOV 2020",
          "DEC 2020",
          "JAN 2021",
          "FEB 2021",
          "MAR 2021",
          "APR 2021",
          "MAY 2021",
          "JUN 2021",
          "JUL 2021",
          "AUG 2021",
          "SEPT 2021",
          "OCT 2021"
         ],
         "y": [
          0,
          0,
          0,
          0,
          0,
          0,
          0,
          1,
          0,
          0,
          0,
          0,
          0,
          0,
          87,
          81,
          39,
          36,
          19,
          14,
          53,
          31
         ]
        }
       ],
       "layout": {
        "annotations": [
         {
          "font": {
           "family": "Times New Roman",
           "size": 20
          },
          "showarrow": false,
          "text": " Last Year ",
          "x": 0,
          "xanchor": "left",
          "xref": "x",
          "y": 1,
          "yanchor": "top",
          "yref": "y domain"
         },
         {
          "font": {
           "family": "Times New Roman",
           "size": 20
          },
          "showarrow": false,
          "text": " Current Year ",
          "x": 12,
          "xanchor": "left",
          "xref": "x",
          "y": 1,
          "yanchor": "top",
          "yref": "y domain"
         }
        ],
        "autosize": false,
        "font": {
         "color": "black",
         "size": 13
        },
        "height": 525,
        "legend": {
         "bgcolor": "white",
         "bordercolor": "dimgray",
         "borderwidth": 0.05,
         "font": {
          "color": "black",
          "size": 13
         },
         "title": {
          "font": {
           "family": "Times New Roman"
          }
         },
         "x": 1,
         "y": 1
        },
        "shapes": [
         {
          "line": {
           "width": 0
          },
          "opacity": 0.25,
          "type": "rect",
          "x0": 0,
          "x1": 12,
          "xref": "x",
          "y0": 0,
          "y1": 1,
          "yref": "y domain"
         },
         {
          "line": {
           "width": 0
          },
          "opacity": 0.15,
          "type": "rect",
          "x0": 12,
          "x1": 12,
          "xref": "x",
          "y0": 0,
          "y1": 1,
          "yref": "y domain"
         },
         {
          "line": {
           "color": "green",
           "dash": "dash",
           "width": 3.5
          },
          "type": "line",
          "x0": 11.5,
          "x1": 11.5,
          "xref": "x",
          "y0": 0,
          "y1": 1,
          "yref": "y domain"
         }
        ],
        "showlegend": true,
        "template": {
         "data": {
          "bar": [
           {
            "error_x": {
             "color": "#2a3f5f"
            },
            "error_y": {
             "color": "#2a3f5f"
            },
            "marker": {
             "line": {
              "color": "#E5ECF6",
              "width": 0.5
             }
            },
            "type": "bar"
           }
          ],
          "barpolar": [
           {
            "marker": {
             "line": {
              "color": "#E5ECF6",
              "width": 0.5
             }
            },
            "type": "barpolar"
           }
          ],
          "carpet": [
           {
            "aaxis": {
             "endlinecolor": "#2a3f5f",
             "gridcolor": "white",
             "linecolor": "white",
             "minorgridcolor": "white",
             "startlinecolor": "#2a3f5f"
            },
            "baxis": {
             "endlinecolor": "#2a3f5f",
             "gridcolor": "white",
             "linecolor": "white",
             "minorgridcolor": "white",
             "startlinecolor": "#2a3f5f"
            },
            "type": "carpet"
           }
          ],
          "choropleth": [
           {
            "colorbar": {
             "outlinewidth": 0,
             "ticks": ""
            },
            "type": "choropleth"
           }
          ],
          "contour": [
           {
            "colorbar": {
             "outlinewidth": 0,
             "ticks": ""
            },
            "colorscale": [
             [
              0,
              "#0d0887"
             ],
             [
              0.1111111111111111,
              "#46039f"
             ],
             [
              0.2222222222222222,
              "#7201a8"
             ],
             [
              0.3333333333333333,
              "#9c179e"
             ],
             [
              0.4444444444444444,
              "#bd3786"
             ],
             [
              0.5555555555555556,
              "#d8576b"
             ],
             [
              0.6666666666666666,
              "#ed7953"
             ],
             [
              0.7777777777777778,
              "#fb9f3a"
             ],
             [
              0.8888888888888888,
              "#fdca26"
             ],
             [
              1,
              "#f0f921"
             ]
            ],
            "type": "contour"
           }
          ],
          "contourcarpet": [
           {
            "colorbar": {
             "outlinewidth": 0,
             "ticks": ""
            },
            "type": "contourcarpet"
           }
          ],
          "heatmap": [
           {
            "colorbar": {
             "outlinewidth": 0,
             "ticks": ""
            },
            "colorscale": [
             [
              0,
              "#0d0887"
             ],
             [
              0.1111111111111111,
              "#46039f"
             ],
             [
              0.2222222222222222,
              "#7201a8"
             ],
             [
              0.3333333333333333,
              "#9c179e"
             ],
             [
              0.4444444444444444,
              "#bd3786"
             ],
             [
              0.5555555555555556,
              "#d8576b"
             ],
             [
              0.6666666666666666,
              "#ed7953"
             ],
             [
              0.7777777777777778,
              "#fb9f3a"
             ],
             [
              0.8888888888888888,
              "#fdca26"
             ],
             [
              1,
              "#f0f921"
             ]
            ],
            "type": "heatmap"
           }
          ],
          "heatmapgl": [
           {
            "colorbar": {
             "outlinewidth": 0,
             "ticks": ""
            },
            "colorscale": [
             [
              0,
              "#0d0887"
             ],
             [
              0.1111111111111111,
              "#46039f"
             ],
             [
              0.2222222222222222,
              "#7201a8"
             ],
             [
              0.3333333333333333,
              "#9c179e"
             ],
             [
              0.4444444444444444,
              "#bd3786"
             ],
             [
              0.5555555555555556,
              "#d8576b"
             ],
             [
              0.6666666666666666,
              "#ed7953"
             ],
             [
              0.7777777777777778,
              "#fb9f3a"
             ],
             [
              0.8888888888888888,
              "#fdca26"
             ],
             [
              1,
              "#f0f921"
             ]
            ],
            "type": "heatmapgl"
           }
          ],
          "histogram": [
           {
            "marker": {
             "colorbar": {
              "outlinewidth": 0,
              "ticks": ""
             }
            },
            "type": "histogram"
           }
          ],
          "histogram2d": [
           {
            "colorbar": {
             "outlinewidth": 0,
             "ticks": ""
            },
            "colorscale": [
             [
              0,
              "#0d0887"
             ],
             [
              0.1111111111111111,
              "#46039f"
             ],
             [
              0.2222222222222222,
              "#7201a8"
             ],
             [
              0.3333333333333333,
              "#9c179e"
             ],
             [
              0.4444444444444444,
              "#bd3786"
             ],
             [
              0.5555555555555556,
              "#d8576b"
             ],
             [
              0.6666666666666666,
              "#ed7953"
             ],
             [
              0.7777777777777778,
              "#fb9f3a"
             ],
             [
              0.8888888888888888,
              "#fdca26"
             ],
             [
              1,
              "#f0f921"
             ]
            ],
            "type": "histogram2d"
           }
          ],
          "histogram2dcontour": [
           {
            "colorbar": {
             "outlinewidth": 0,
             "ticks": ""
            },
            "colorscale": [
             [
              0,
              "#0d0887"
             ],
             [
              0.1111111111111111,
              "#46039f"
             ],
             [
              0.2222222222222222,
              "#7201a8"
             ],
             [
              0.3333333333333333,
              "#9c179e"
             ],
             [
              0.4444444444444444,
              "#bd3786"
             ],
             [
              0.5555555555555556,
              "#d8576b"
             ],
             [
              0.6666666666666666,
              "#ed7953"
             ],
             [
              0.7777777777777778,
              "#fb9f3a"
             ],
             [
              0.8888888888888888,
              "#fdca26"
             ],
             [
              1,
              "#f0f921"
             ]
            ],
            "type": "histogram2dcontour"
           }
          ],
          "mesh3d": [
           {
            "colorbar": {
             "outlinewidth": 0,
             "ticks": ""
            },
            "type": "mesh3d"
           }
          ],
          "parcoords": [
           {
            "line": {
             "colorbar": {
              "outlinewidth": 0,
              "ticks": ""
             }
            },
            "type": "parcoords"
           }
          ],
          "pie": [
           {
            "automargin": true,
            "type": "pie"
           }
          ],
          "scatter": [
           {
            "marker": {
             "colorbar": {
              "outlinewidth": 0,
              "ticks": ""
             }
            },
            "type": "scatter"
           }
          ],
          "scatter3d": [
           {
            "line": {
             "colorbar": {
              "outlinewidth": 0,
              "ticks": ""
             }
            },
            "marker": {
             "colorbar": {
              "outlinewidth": 0,
              "ticks": ""
             }
            },
            "type": "scatter3d"
           }
          ],
          "scattercarpet": [
           {
            "marker": {
             "colorbar": {
              "outlinewidth": 0,
              "ticks": ""
             }
            },
            "type": "scattercarpet"
           }
          ],
          "scattergeo": [
           {
            "marker": {
             "colorbar": {
              "outlinewidth": 0,
              "ticks": ""
             }
            },
            "type": "scattergeo"
           }
          ],
          "scattergl": [
           {
            "marker": {
             "colorbar": {
              "outlinewidth": 0,
              "ticks": ""
             }
            },
            "type": "scattergl"
           }
          ],
          "scattermapbox": [
           {
            "marker": {
             "colorbar": {
              "outlinewidth": 0,
              "ticks": ""
             }
            },
            "type": "scattermapbox"
           }
          ],
          "scatterpolar": [
           {
            "marker": {
             "colorbar": {
              "outlinewidth": 0,
              "ticks": ""
             }
            },
            "type": "scatterpolar"
           }
          ],
          "scatterpolargl": [
           {
            "marker": {
             "colorbar": {
              "outlinewidth": 0,
              "ticks": ""
             }
            },
            "type": "scatterpolargl"
           }
          ],
          "scatterternary": [
           {
            "marker": {
             "colorbar": {
              "outlinewidth": 0,
              "ticks": ""
             }
            },
            "type": "scatterternary"
           }
          ],
          "surface": [
           {
            "colorbar": {
             "outlinewidth": 0,
             "ticks": ""
            },
            "colorscale": [
             [
              0,
              "#0d0887"
             ],
             [
              0.1111111111111111,
              "#46039f"
             ],
             [
              0.2222222222222222,
              "#7201a8"
             ],
             [
              0.3333333333333333,
              "#9c179e"
             ],
             [
              0.4444444444444444,
              "#bd3786"
             ],
             [
              0.5555555555555556,
              "#d8576b"
             ],
             [
              0.6666666666666666,
              "#ed7953"
             ],
             [
              0.7777777777777778,
              "#fb9f3a"
             ],
             [
              0.8888888888888888,
              "#fdca26"
             ],
             [
              1,
              "#f0f921"
             ]
            ],
            "type": "surface"
           }
          ],
          "table": [
           {
            "cells": {
             "fill": {
              "color": "#EBF0F8"
             },
             "line": {
              "color": "white"
             }
            },
            "header": {
             "fill": {
              "color": "#C8D4E3"
             },
             "line": {
              "color": "white"
             }
            },
            "type": "table"
           }
          ]
         },
         "layout": {
          "annotationdefaults": {
           "arrowcolor": "#2a3f5f",
           "arrowhead": 0,
           "arrowwidth": 1
          },
          "autotypenumbers": "strict",
          "coloraxis": {
           "colorbar": {
            "outlinewidth": 0,
            "ticks": ""
           }
          },
          "colorscale": {
           "diverging": [
            [
             0,
             "#8e0152"
            ],
            [
             0.1,
             "#c51b7d"
            ],
            [
             0.2,
             "#de77ae"
            ],
            [
             0.3,
             "#f1b6da"
            ],
            [
             0.4,
             "#fde0ef"
            ],
            [
             0.5,
             "#f7f7f7"
            ],
            [
             0.6,
             "#e6f5d0"
            ],
            [
             0.7,
             "#b8e186"
            ],
            [
             0.8,
             "#7fbc41"
            ],
            [
             0.9,
             "#4d9221"
            ],
            [
             1,
             "#276419"
            ]
           ],
           "sequential": [
            [
             0,
             "#0d0887"
            ],
            [
             0.1111111111111111,
             "#46039f"
            ],
            [
             0.2222222222222222,
             "#7201a8"
            ],
            [
             0.3333333333333333,
             "#9c179e"
            ],
            [
             0.4444444444444444,
             "#bd3786"
            ],
            [
             0.5555555555555556,
             "#d8576b"
            ],
            [
             0.6666666666666666,
             "#ed7953"
            ],
            [
             0.7777777777777778,
             "#fb9f3a"
            ],
            [
             0.8888888888888888,
             "#fdca26"
            ],
            [
             1,
             "#f0f921"
            ]
           ],
           "sequentialminus": [
            [
             0,
             "#0d0887"
            ],
            [
             0.1111111111111111,
             "#46039f"
            ],
            [
             0.2222222222222222,
             "#7201a8"
            ],
            [
             0.3333333333333333,
             "#9c179e"
            ],
            [
             0.4444444444444444,
             "#bd3786"
            ],
            [
             0.5555555555555556,
             "#d8576b"
            ],
            [
             0.6666666666666666,
             "#ed7953"
            ],
            [
             0.7777777777777778,
             "#fb9f3a"
            ],
            [
             0.8888888888888888,
             "#fdca26"
            ],
            [
             1,
             "#f0f921"
            ]
           ]
          },
          "colorway": [
           "#636efa",
           "#EF553B",
           "#00cc96",
           "#ab63fa",
           "#FFA15A",
           "#19d3f3",
           "#FF6692",
           "#B6E880",
           "#FF97FF",
           "#FECB52"
          ],
          "font": {
           "color": "#2a3f5f"
          },
          "geo": {
           "bgcolor": "white",
           "lakecolor": "white",
           "landcolor": "#E5ECF6",
           "showlakes": true,
           "showland": true,
           "subunitcolor": "white"
          },
          "hoverlabel": {
           "align": "left"
          },
          "hovermode": "closest",
          "mapbox": {
           "style": "light"
          },
          "paper_bgcolor": "white",
          "plot_bgcolor": "#E5ECF6",
          "polar": {
           "angularaxis": {
            "gridcolor": "white",
            "linecolor": "white",
            "ticks": ""
           },
           "bgcolor": "#E5ECF6",
           "radialaxis": {
            "gridcolor": "white",
            "linecolor": "white",
            "ticks": ""
           }
          },
          "scene": {
           "xaxis": {
            "backgroundcolor": "#E5ECF6",
            "gridcolor": "white",
            "gridwidth": 2,
            "linecolor": "white",
            "showbackground": true,
            "ticks": "",
            "zerolinecolor": "white"
           },
           "yaxis": {
            "backgroundcolor": "#E5ECF6",
            "gridcolor": "white",
            "gridwidth": 2,
            "linecolor": "white",
            "showbackground": true,
            "ticks": "",
            "zerolinecolor": "white"
           },
           "zaxis": {
            "backgroundcolor": "#E5ECF6",
            "gridcolor": "white",
            "gridwidth": 2,
            "linecolor": "white",
            "showbackground": true,
            "ticks": "",
            "zerolinecolor": "white"
           }
          },
          "shapedefaults": {
           "line": {
            "color": "#2a3f5f"
           }
          },
          "ternary": {
           "aaxis": {
            "gridcolor": "white",
            "linecolor": "white",
            "ticks": ""
           },
           "baxis": {
            "gridcolor": "white",
            "linecolor": "white",
            "ticks": ""
           },
           "bgcolor": "#E5ECF6",
           "caxis": {
            "gridcolor": "white",
            "linecolor": "white",
            "ticks": ""
           }
          },
          "title": {
           "x": 0.05
          },
          "xaxis": {
           "automargin": true,
           "gridcolor": "white",
           "linecolor": "white",
           "ticks": "",
           "title": {
            "standoff": 15
           },
           "zerolinecolor": "white",
           "zerolinewidth": 2
          },
          "yaxis": {
           "automargin": true,
           "gridcolor": "white",
           "linecolor": "white",
           "ticks": "",
           "title": {
            "standoff": 15
           },
           "zerolinecolor": "white",
           "zerolinewidth": 2
          }
         }
        },
        "title": {
         "font": {
          "color": "#351C15",
          "size": 20
         },
         "text": "<b>Bandag Retread Purchases Trend 2020 - 2021</b>",
         "x": 0.5
        },
        "width": 1050,
        "xaxis": {
         "title": {
          "text": "Month"
         }
        },
        "yaxis": {
         "title": {
          "text": "Purchases"
         }
        }
       }
      }
     },
     "metadata": {},
     "output_type": "display_data"
    }
   ],
   "source": [
    "# Create Bandag Purchase Analysis Graph:\n",
    "\n",
    "# Setup independent X Variables (which is just the month and save a list):\n",
    "Month_LIST2 = Merged_Bandag_Retread_df_TRANSPOSED['month-yr'].to_list()\n",
    "\n",
    "# Setup a dependent Y Variables (By Creating separate lists for each type of Bandag Retread):\n",
    "Two_Forty_Five_LIST = Merged_Bandag_Retread_df_TRANSPOSED['245/70R17.5 RETREAD'].to_list()\n",
    "Two_Ninety_Five_LIST = Merged_Bandag_Retread_df_TRANSPOSED['295/75R22.5 RETREAD'].to_list()\n",
    "\n",
    "\n",
    "fig = go.Figure()\n",
    "# Add a filter over last year's graph to distinguish it from this year:\n",
    "fig.add_vrect(x0=0, x1=12,\n",
    "                annotation_text=\" Last Year \", annotation_position=\"top left\",\n",
    "                annotation=dict(\n",
    "    font_size=27, font_family=\"Times New Roman\"),\n",
    "    fillcolor=None, opacity=0.25, line_width=0)\n",
    "\n",
    "# Optionally add a filter color for this yr too, lightgreen works (or choose \"white\" or comment out this block for none)\n",
    "fig.add_vrect(x0=12, x1=12,\n",
    "                annotation_text=\" Current Year \", annotation_position=\"top left\",\n",
    "                annotation=dict(\n",
    "    font_size=27, font_family=\"Times New Roman\"),\n",
    "    fillcolor=None, opacity=0.15, line_width=0)\n",
    "\n",
    "# Create and Style Traces:\n",
    "fig.add_trace(go.Scatter(x=Month_LIST2, y=Two_Forty_Five_LIST, name='245/70R17.5',\n",
    "                            line=dict(color='black', width=2.5)))\n",
    "fig.add_trace(go.Scatter(x=Month_LIST2, y=Two_Ninety_Five_LIST, name='295/75R22.5',\n",
    "                            line=dict(color='#caa74d', width=2.5)))\n",
    "\n",
    "# HERE IS A GREAT Hack TO MAKE SURE ALL THE MONTHS SHOW UP!!!!  ADD A WHITE LINE THAT HAS all zeros and name it as a blank string so the legend doesn't show it!\n",
    "# fig.add_trace(go.Scatter(x=Month_LIST2, y=[0, 0, 0, 0, 0, 0, 0, 0, 0, 0, 0, 0, 0, 0, 0], name='',\n",
    "#                          line=dict(color='white', width=1)))\n",
    "# Edit the Layout:\n",
    "fig.update_layout(\n",
    "    title_text=f\"<b>Bandag Retread Purchases Trend {Last_Year} - {Current_Year}</b>\",\n",
    "    title_x=.5,\n",
    "    title_font_size=24,\n",
    "    title_font_color=\"#351C15\",\n",
    "    xaxis_title='Month',\n",
    "    yaxis_title='Purchases',\n",
    "    autosize=False, width=1350, height=675,\n",
    "    showlegend=True,\n",
    "    legend=dict(\n",
    "        x=1,\n",
    "        y=1,\n",
    "        title_font_family=\"Times New Roman\",\n",
    "        font=dict(\n",
    "            family=None,\n",
    "            size=15,\n",
    "            color=\"black\"\n",
    "        ),\n",
    "        bgcolor=\"white\",\n",
    "        bordercolor=\"dimgray\",\n",
    "        borderwidth=.05\n",
    "    ),\n",
    "    # General axes and axes labels fonts:\n",
    "    font=dict(\n",
    "        family=None,\n",
    "        size=16,\n",
    "        color=\"black\"\n",
    "    ))\n",
    "\n",
    "# Add a green vertical line the graph to separate last year from the current one:\n",
    "fig.add_vline(x=11.5, line_width=3.5,\n",
    "                line_dash=\"dash\", line_color=\"green\")\n",
    "\n",
    "# Save the file to use in HTML, PDF, etc.\n",
    "fig.write_image(f\"Images_graphs/{Current_Year}_Bandag_Purchase_Analysis.svg\")\n",
    "fig.show()\n",
    "\n",
    "\n",
    "\n",
    "\n",
    "\n",
    "# ============================================================================================================================================\n",
    "# AGAIN, we'll need to create a graph for the webpage version as well that will be different sizes and interactive with plotly:\n",
    "# ============================================================================================================================================\n",
    "fig2 = go.Figure()\n",
    "# Add a filter over last year's graph to distinguish it from this year:\n",
    "fig2.add_vrect(x0=0, x1=12,\n",
    "                annotation_text=\" Last Year \", annotation_position=\"top left\",\n",
    "                annotation=dict(\n",
    "    font_size=20, font_family=\"Times New Roman\"),\n",
    "    fillcolor=None, opacity=0.25, line_width=0)\n",
    "\n",
    "# Optionally add a filter color for this yr too, lightgreen works (or choose \"white\" or comment out this block for none)\n",
    "fig2.add_vrect(x0=12, x1=12,\n",
    "                annotation_text=\" Current Year \", annotation_position=\"top left\",\n",
    "                annotation=dict(\n",
    "    font_size=20, font_family=\"Times New Roman\"),\n",
    "    fillcolor=None, opacity=0.15, line_width=0)\n",
    "\n",
    "# Create and Style Traces:\n",
    "fig2.add_trace(go.Scatter(x=Month_LIST2, y=Two_Forty_Five_LIST, name='245/70R17.5',\n",
    "                            line=dict(color='black', width=2)))\n",
    "fig2.add_trace(go.Scatter(x=Month_LIST2, y=Two_Ninety_Five_LIST, name='295/75R22.5',\n",
    "                            line=dict(color='#caa74d', width=2)))\n",
    "\n",
    "# HERE IS A GREAT Hack TO MAKE SURE ALL THE MONTHS SHOW UP!!!!  ADD A WHITE LINE THAT HAS all zeros and name it as a blank string so the legend doesn't show it!\n",
    "# fig.add_trace(go.Scatter(x=Month_LIST2, y=[0, 0, 0, 0, 0, 0, 0, 0, 0, 0, 0, 0, 0, 0, 0], name='',\n",
    "#                          line=dict(color='white', width=1)))\n",
    "# Edit the Layout:\n",
    "fig2.update_layout(\n",
    "    title_text=f\"<b>Bandag Retread Purchases Trend {Last_Year} - {Current_Year}</b>\",\n",
    "    title_x=.5,\n",
    "    title_font_size=20,\n",
    "    title_font_color=\"#351C15\",\n",
    "    xaxis_title='Month',\n",
    "    yaxis_title='Purchases',\n",
    "    autosize=False, width=1050, height=525,\n",
    "    showlegend=True,\n",
    "    legend=dict(\n",
    "        x=1,\n",
    "        y=1,\n",
    "        title_font_family=\"Times New Roman\",\n",
    "        font=dict(\n",
    "            family=None,\n",
    "            size=13,\n",
    "            color=\"black\"\n",
    "        ),\n",
    "        bgcolor=\"white\",\n",
    "        bordercolor=\"dimgray\",\n",
    "        borderwidth=.05\n",
    "    ),\n",
    "    # General axes and axes labels fonts:\n",
    "    font=dict(\n",
    "        family=None,\n",
    "        size=13,\n",
    "        color=\"black\"\n",
    "    ))\n",
    "\n",
    "# Add a green vertical line the graph to separate last year from the current one:\n",
    "fig2.add_vline(x=11.5, line_width=3.5,\n",
    "                line_dash=\"dash\", line_color=\"green\")\n",
    "\n",
    "# Save the file to use in HTML, PDF, etc.\n",
    "fig2.write_image(f\"Images_graphs/{Current_Year}_Bandag_Purchase_Analysis.svg\")\n",
    "fig2.show()\n",
    "\n",
    "\n",
    "\n",
    "\n",
    "\n",
    "# PLOTLY INTERACTIVE:\n",
    "Bandag_Purchases_Trend_graph = fig2\n",
    "Bandag_Purchases_Trend_graph_for_iframe = py.plot(Bandag_Purchases_Trend_graph, filename = 'Bandag_Purchases_Trend_graph', auto_open=False)"
   ]
  },
  {
   "cell_type": "markdown",
   "metadata": {},
   "source": [
    "## 3. Bridgestone Purchases Trend Analysis Line Chart:"
   ]
  },
  {
   "cell_type": "code",
   "execution_count": 25,
   "metadata": {},
   "outputs": [
    {
     "data": {
      "text/html": [
       "<div>\n",
       "<style scoped>\n",
       "    .dataframe tbody tr th:only-of-type {\n",
       "        vertical-align: middle;\n",
       "    }\n",
       "\n",
       "    .dataframe tbody tr th {\n",
       "        vertical-align: top;\n",
       "    }\n",
       "\n",
       "    .dataframe thead th {\n",
       "        text-align: right;\n",
       "    }\n",
       "</style>\n",
       "<table border=\"1\" class=\"dataframe\">\n",
       "  <thead>\n",
       "    <tr style=\"text-align: right;\">\n",
       "      <th></th>\n",
       "      <th>month-yr</th>\n",
       "      <th>Light Truck BRIDGESTONE</th>\n",
       "      <th>225/70R19.5 BRIDGESTONE</th>\n",
       "      <th>245/70R17.5 BRIDGESTONE</th>\n",
       "      <th>9R22.5 BRIDGESTONE</th>\n",
       "      <th>295/75R22.5 BRIDGESTONE</th>\n",
       "      <th>11R22.5 BRIDGESTONE</th>\n",
       "    </tr>\n",
       "  </thead>\n",
       "  <tbody>\n",
       "    <tr>\n",
       "      <th>0</th>\n",
       "      <td>JAN 2020</td>\n",
       "      <td>0.0</td>\n",
       "      <td>0.0</td>\n",
       "      <td>105.0</td>\n",
       "      <td>0.0</td>\n",
       "      <td>305.0</td>\n",
       "      <td>1.0</td>\n",
       "    </tr>\n",
       "    <tr>\n",
       "      <th>1</th>\n",
       "      <td>FEB 2020</td>\n",
       "      <td>0.0</td>\n",
       "      <td>0.0</td>\n",
       "      <td>92.0</td>\n",
       "      <td>0.0</td>\n",
       "      <td>226.0</td>\n",
       "      <td>0.0</td>\n",
       "    </tr>\n",
       "    <tr>\n",
       "      <th>2</th>\n",
       "      <td>MAR 2020</td>\n",
       "      <td>0.0</td>\n",
       "      <td>0.0</td>\n",
       "      <td>44.0</td>\n",
       "      <td>0.0</td>\n",
       "      <td>226.0</td>\n",
       "      <td>2.0</td>\n",
       "    </tr>\n",
       "    <tr>\n",
       "      <th>3</th>\n",
       "      <td>APR 2020</td>\n",
       "      <td>0.0</td>\n",
       "      <td>2.0</td>\n",
       "      <td>123.0</td>\n",
       "      <td>0.0</td>\n",
       "      <td>218.0</td>\n",
       "      <td>87.0</td>\n",
       "    </tr>\n",
       "    <tr>\n",
       "      <th>4</th>\n",
       "      <td>MAY 2020</td>\n",
       "      <td>0.0</td>\n",
       "      <td>1.0</td>\n",
       "      <td>106.0</td>\n",
       "      <td>0.0</td>\n",
       "      <td>225.0</td>\n",
       "      <td>0.0</td>\n",
       "    </tr>\n",
       "    <tr>\n",
       "      <th>5</th>\n",
       "      <td>JUN 2020</td>\n",
       "      <td>0.0</td>\n",
       "      <td>0.0</td>\n",
       "      <td>159.0</td>\n",
       "      <td>0.0</td>\n",
       "      <td>266.0</td>\n",
       "      <td>6.0</td>\n",
       "    </tr>\n",
       "    <tr>\n",
       "      <th>6</th>\n",
       "      <td>JUL 2020</td>\n",
       "      <td>0.0</td>\n",
       "      <td>0.0</td>\n",
       "      <td>172.0</td>\n",
       "      <td>0.0</td>\n",
       "      <td>230.0</td>\n",
       "      <td>0.0</td>\n",
       "    </tr>\n",
       "    <tr>\n",
       "      <th>7</th>\n",
       "      <td>AUG 2020</td>\n",
       "      <td>0.0</td>\n",
       "      <td>0.0</td>\n",
       "      <td>138.0</td>\n",
       "      <td>0.0</td>\n",
       "      <td>216.0</td>\n",
       "      <td>0.0</td>\n",
       "    </tr>\n",
       "    <tr>\n",
       "      <th>8</th>\n",
       "      <td>SEPT 2020</td>\n",
       "      <td>0.0</td>\n",
       "      <td>0.0</td>\n",
       "      <td>171.0</td>\n",
       "      <td>0.0</td>\n",
       "      <td>248.0</td>\n",
       "      <td>6.0</td>\n",
       "    </tr>\n",
       "    <tr>\n",
       "      <th>9</th>\n",
       "      <td>OCT 2020</td>\n",
       "      <td>0.0</td>\n",
       "      <td>4.0</td>\n",
       "      <td>132.0</td>\n",
       "      <td>0.0</td>\n",
       "      <td>291.0</td>\n",
       "      <td>0.0</td>\n",
       "    </tr>\n",
       "    <tr>\n",
       "      <th>10</th>\n",
       "      <td>NOV 2020</td>\n",
       "      <td>0.0</td>\n",
       "      <td>0.0</td>\n",
       "      <td>85.0</td>\n",
       "      <td>0.0</td>\n",
       "      <td>217.0</td>\n",
       "      <td>3.0</td>\n",
       "    </tr>\n",
       "    <tr>\n",
       "      <th>11</th>\n",
       "      <td>DEC 2020</td>\n",
       "      <td>0.0</td>\n",
       "      <td>0.0</td>\n",
       "      <td>48.0</td>\n",
       "      <td>0.0</td>\n",
       "      <td>225.0</td>\n",
       "      <td>1.0</td>\n",
       "    </tr>\n",
       "    <tr>\n",
       "      <th>12</th>\n",
       "      <td>JAN 2021</td>\n",
       "      <td>0.0</td>\n",
       "      <td>0.0</td>\n",
       "      <td>35.0</td>\n",
       "      <td>0.0</td>\n",
       "      <td>134.0</td>\n",
       "      <td>0.0</td>\n",
       "    </tr>\n",
       "    <tr>\n",
       "      <th>13</th>\n",
       "      <td>FEB 2021</td>\n",
       "      <td>0.0</td>\n",
       "      <td>0.0</td>\n",
       "      <td>22.0</td>\n",
       "      <td>0.0</td>\n",
       "      <td>212.0</td>\n",
       "      <td>0.0</td>\n",
       "    </tr>\n",
       "    <tr>\n",
       "      <th>14</th>\n",
       "      <td>MAR 2021</td>\n",
       "      <td>0.0</td>\n",
       "      <td>0.0</td>\n",
       "      <td>110.0</td>\n",
       "      <td>0.0</td>\n",
       "      <td>158.0</td>\n",
       "      <td>1.0</td>\n",
       "    </tr>\n",
       "    <tr>\n",
       "      <th>15</th>\n",
       "      <td>APR 2021</td>\n",
       "      <td>0.0</td>\n",
       "      <td>0.0</td>\n",
       "      <td>140.0</td>\n",
       "      <td>0.0</td>\n",
       "      <td>94.0</td>\n",
       "      <td>32.0</td>\n",
       "    </tr>\n",
       "    <tr>\n",
       "      <th>16</th>\n",
       "      <td>MAY 2021</td>\n",
       "      <td>0.0</td>\n",
       "      <td>0.0</td>\n",
       "      <td>64.0</td>\n",
       "      <td>0.0</td>\n",
       "      <td>115.0</td>\n",
       "      <td>0.0</td>\n",
       "    </tr>\n",
       "    <tr>\n",
       "      <th>17</th>\n",
       "      <td>JUN 2021</td>\n",
       "      <td>0.0</td>\n",
       "      <td>0.0</td>\n",
       "      <td>29.0</td>\n",
       "      <td>0.0</td>\n",
       "      <td>76.0</td>\n",
       "      <td>4.0</td>\n",
       "    </tr>\n",
       "    <tr>\n",
       "      <th>18</th>\n",
       "      <td>JUL 2021</td>\n",
       "      <td>0.0</td>\n",
       "      <td>2.0</td>\n",
       "      <td>40.0</td>\n",
       "      <td>0.0</td>\n",
       "      <td>56.0</td>\n",
       "      <td>0.0</td>\n",
       "    </tr>\n",
       "    <tr>\n",
       "      <th>19</th>\n",
       "      <td>AUG 2021</td>\n",
       "      <td>0.0</td>\n",
       "      <td>0.0</td>\n",
       "      <td>84.0</td>\n",
       "      <td>0.0</td>\n",
       "      <td>101.0</td>\n",
       "      <td>0.0</td>\n",
       "    </tr>\n",
       "    <tr>\n",
       "      <th>20</th>\n",
       "      <td>SEPT 2021</td>\n",
       "      <td>0.0</td>\n",
       "      <td>0.0</td>\n",
       "      <td>98.0</td>\n",
       "      <td>0.0</td>\n",
       "      <td>76.0</td>\n",
       "      <td>9.0</td>\n",
       "    </tr>\n",
       "    <tr>\n",
       "      <th>21</th>\n",
       "      <td>OCT 2021</td>\n",
       "      <td>0.0</td>\n",
       "      <td>0.0</td>\n",
       "      <td>77.0</td>\n",
       "      <td>0.0</td>\n",
       "      <td>78.0</td>\n",
       "      <td>4.0</td>\n",
       "    </tr>\n",
       "  </tbody>\n",
       "</table>\n",
       "</div>"
      ],
      "text/plain": [
       "     month-yr Light Truck BRIDGESTONE 225/70R19.5 BRIDGESTONE  \\\n",
       "0    JAN 2020                     0.0                     0.0   \n",
       "1    FEB 2020                     0.0                     0.0   \n",
       "2    MAR 2020                     0.0                     0.0   \n",
       "3    APR 2020                     0.0                     2.0   \n",
       "4    MAY 2020                     0.0                     1.0   \n",
       "5    JUN 2020                     0.0                     0.0   \n",
       "6    JUL 2020                     0.0                     0.0   \n",
       "7    AUG 2020                     0.0                     0.0   \n",
       "8   SEPT 2020                     0.0                     0.0   \n",
       "9    OCT 2020                     0.0                     4.0   \n",
       "10   NOV 2020                     0.0                     0.0   \n",
       "11   DEC 2020                     0.0                     0.0   \n",
       "12   JAN 2021                     0.0                     0.0   \n",
       "13   FEB 2021                     0.0                     0.0   \n",
       "14   MAR 2021                     0.0                     0.0   \n",
       "15   APR 2021                     0.0                     0.0   \n",
       "16   MAY 2021                     0.0                     0.0   \n",
       "17   JUN 2021                     0.0                     0.0   \n",
       "18   JUL 2021                     0.0                     2.0   \n",
       "19   AUG 2021                     0.0                     0.0   \n",
       "20  SEPT 2021                     0.0                     0.0   \n",
       "21   OCT 2021                     0.0                     0.0   \n",
       "\n",
       "   245/70R17.5 BRIDGESTONE 9R22.5 BRIDGESTONE 295/75R22.5 BRIDGESTONE  \\\n",
       "0                    105.0                0.0                   305.0   \n",
       "1                     92.0                0.0                   226.0   \n",
       "2                     44.0                0.0                   226.0   \n",
       "3                    123.0                0.0                   218.0   \n",
       "4                    106.0                0.0                   225.0   \n",
       "5                    159.0                0.0                   266.0   \n",
       "6                    172.0                0.0                   230.0   \n",
       "7                    138.0                0.0                   216.0   \n",
       "8                    171.0                0.0                   248.0   \n",
       "9                    132.0                0.0                   291.0   \n",
       "10                    85.0                0.0                   217.0   \n",
       "11                    48.0                0.0                   225.0   \n",
       "12                    35.0                0.0                   134.0   \n",
       "13                    22.0                0.0                   212.0   \n",
       "14                   110.0                0.0                   158.0   \n",
       "15                   140.0                0.0                    94.0   \n",
       "16                    64.0                0.0                   115.0   \n",
       "17                    29.0                0.0                    76.0   \n",
       "18                    40.0                0.0                    56.0   \n",
       "19                    84.0                0.0                   101.0   \n",
       "20                    98.0                0.0                    76.0   \n",
       "21                    77.0                0.0                    78.0   \n",
       "\n",
       "   11R22.5 BRIDGESTONE  \n",
       "0                  1.0  \n",
       "1                  0.0  \n",
       "2                  2.0  \n",
       "3                 87.0  \n",
       "4                  0.0  \n",
       "5                  6.0  \n",
       "6                  0.0  \n",
       "7                  0.0  \n",
       "8                  6.0  \n",
       "9                  0.0  \n",
       "10                 3.0  \n",
       "11                 1.0  \n",
       "12                 0.0  \n",
       "13                 0.0  \n",
       "14                 1.0  \n",
       "15                32.0  \n",
       "16                 0.0  \n",
       "17                 4.0  \n",
       "18                 0.0  \n",
       "19                 0.0  \n",
       "20                 9.0  \n",
       "21                 4.0  "
      ]
     },
     "execution_count": 25,
     "metadata": {},
     "output_type": "execute_result"
    }
   ],
   "source": [
    "# Transpose the Merged_Service_df to make it easier for graphing:\n",
    "Bridgestone_df_TRANSPOSED = Merged_Bridgestone_df.T\n",
    "\n",
    "Description_list_from_first_row = list(Bridgestone_df_TRANSPOSED.iloc[0])\n",
    "Bridgestone_df_TRANSPOSED = Bridgestone_df_TRANSPOSED.iloc[1:, :]\n",
    "Bridgestone_df_TRANSPOSED.columns = Description_list_from_first_row\n",
    "\n",
    "Bridgestone_df_TRANSPOSED = Bridgestone_df_TRANSPOSED.reset_index()\n",
    "Bridgestone_df_TRANSPOSED = Bridgestone_df_TRANSPOSED.rename(columns={'index': 'month-yr'})\n",
    "\n",
    "Bridgestone_df_TRANSPOSED"
   ]
  },
  {
   "cell_type": "code",
   "execution_count": 26,
   "metadata": {},
   "outputs": [
    {
     "data": {
      "application/vnd.plotly.v1+json": {
       "config": {
        "plotlyServerURL": "https://plotly.com"
       },
       "data": [
        {
         "line": {
          "color": "red",
          "width": 2.5
         },
         "name": "Light Truck",
         "type": "scatter",
         "x": [
          "JAN 2020",
          "FEB 2020",
          "MAR 2020",
          "APR 2020",
          "MAY 2020",
          "JUN 2020",
          "JUL 2020",
          "AUG 2020",
          "SEPT 2020",
          "OCT 2020",
          "NOV 2020",
          "DEC 2020",
          "JAN 2021",
          "FEB 2021",
          "MAR 2021",
          "APR 2021",
          "MAY 2021",
          "JUN 2021",
          "JUL 2021",
          "AUG 2021",
          "SEPT 2021",
          "OCT 2021"
         ],
         "y": [
          0,
          0,
          0,
          0,
          0,
          0,
          0,
          0,
          0,
          0,
          0,
          0,
          0,
          0,
          0,
          0,
          0,
          0,
          0,
          0,
          0,
          0
         ]
        },
        {
         "line": {
          "color": "green",
          "width": 2.5
         },
         "name": "225/70R19.5",
         "type": "scatter",
         "x": [
          "JAN 2020",
          "FEB 2020",
          "MAR 2020",
          "APR 2020",
          "MAY 2020",
          "JUN 2020",
          "JUL 2020",
          "AUG 2020",
          "SEPT 2020",
          "OCT 2020",
          "NOV 2020",
          "DEC 2020",
          "JAN 2021",
          "FEB 2021",
          "MAR 2021",
          "APR 2021",
          "MAY 2021",
          "JUN 2021",
          "JUL 2021",
          "AUG 2021",
          "SEPT 2021",
          "OCT 2021"
         ],
         "y": [
          0,
          0,
          0,
          2,
          1,
          0,
          0,
          0,
          0,
          4,
          0,
          0,
          0,
          0,
          0,
          0,
          0,
          0,
          2,
          0,
          0,
          0
         ]
        },
        {
         "line": {
          "color": "black",
          "width": 2.5
         },
         "name": "245/70R17.5",
         "type": "scatter",
         "x": [
          "JAN 2020",
          "FEB 2020",
          "MAR 2020",
          "APR 2020",
          "MAY 2020",
          "JUN 2020",
          "JUL 2020",
          "AUG 2020",
          "SEPT 2020",
          "OCT 2020",
          "NOV 2020",
          "DEC 2020",
          "JAN 2021",
          "FEB 2021",
          "MAR 2021",
          "APR 2021",
          "MAY 2021",
          "JUN 2021",
          "JUL 2021",
          "AUG 2021",
          "SEPT 2021",
          "OCT 2021"
         ],
         "y": [
          105,
          92,
          44,
          123,
          106,
          159,
          172,
          138,
          171,
          132,
          85,
          48,
          35,
          22,
          110,
          140,
          64,
          29,
          40,
          84,
          98,
          77
         ]
        },
        {
         "line": {
          "color": "purple",
          "width": 2.5
         },
         "name": "9R22.5",
         "type": "scatter",
         "x": [
          "JAN 2020",
          "FEB 2020",
          "MAR 2020",
          "APR 2020",
          "MAY 2020",
          "JUN 2020",
          "JUL 2020",
          "AUG 2020",
          "SEPT 2020",
          "OCT 2020",
          "NOV 2020",
          "DEC 2020",
          "JAN 2021",
          "FEB 2021",
          "MAR 2021",
          "APR 2021",
          "MAY 2021",
          "JUN 2021",
          "JUL 2021",
          "AUG 2021",
          "SEPT 2021",
          "OCT 2021"
         ],
         "y": [
          0,
          0,
          0,
          0,
          0,
          0,
          0,
          0,
          0,
          0,
          0,
          0,
          0,
          0,
          0,
          0,
          0,
          0,
          0,
          0,
          0,
          0
         ]
        },
        {
         "line": {
          "color": "#caa74d",
          "width": 2.5
         },
         "name": "295/75R22.5",
         "type": "scatter",
         "x": [
          "JAN 2020",
          "FEB 2020",
          "MAR 2020",
          "APR 2020",
          "MAY 2020",
          "JUN 2020",
          "JUL 2020",
          "AUG 2020",
          "SEPT 2020",
          "OCT 2020",
          "NOV 2020",
          "DEC 2020",
          "JAN 2021",
          "FEB 2021",
          "MAR 2021",
          "APR 2021",
          "MAY 2021",
          "JUN 2021",
          "JUL 2021",
          "AUG 2021",
          "SEPT 2021",
          "OCT 2021"
         ],
         "y": [
          305,
          226,
          226,
          218,
          225,
          266,
          230,
          216,
          248,
          291,
          217,
          225,
          134,
          212,
          158,
          94,
          115,
          76,
          56,
          101,
          76,
          78
         ]
        },
        {
         "line": {
          "color": "royalblue",
          "width": 2.5
         },
         "name": "11R22.5",
         "type": "scatter",
         "x": [
          "JAN 2020",
          "FEB 2020",
          "MAR 2020",
          "APR 2020",
          "MAY 2020",
          "JUN 2020",
          "JUL 2020",
          "AUG 2020",
          "SEPT 2020",
          "OCT 2020",
          "NOV 2020",
          "DEC 2020",
          "JAN 2021",
          "FEB 2021",
          "MAR 2021",
          "APR 2021",
          "MAY 2021",
          "JUN 2021",
          "JUL 2021",
          "AUG 2021",
          "SEPT 2021",
          "OCT 2021"
         ],
         "y": [
          1,
          0,
          2,
          87,
          0,
          6,
          0,
          0,
          6,
          0,
          3,
          1,
          0,
          0,
          1,
          32,
          0,
          4,
          0,
          0,
          9,
          4
         ]
        }
       ],
       "layout": {
        "annotations": [
         {
          "font": {
           "family": "Times New Roman",
           "size": 29
          },
          "showarrow": false,
          "text": " Last Year ",
          "x": 0,
          "xanchor": "left",
          "xref": "x",
          "y": 1,
          "yanchor": "top",
          "yref": "y domain"
         },
         {
          "font": {
           "family": "Times New Roman",
           "size": 29
          },
          "showarrow": false,
          "text": " Current Year ",
          "x": 12,
          "xanchor": "left",
          "xref": "x",
          "y": 1,
          "yanchor": "top",
          "yref": "y domain"
         }
        ],
        "autosize": false,
        "font": {
         "color": "black",
         "size": 16
        },
        "height": 675,
        "legend": {
         "bgcolor": "white",
         "bordercolor": "dimgray",
         "borderwidth": 0.05,
         "font": {
          "color": "black",
          "size": 15
         },
         "title": {
          "font": {
           "family": "Times New Roman"
          }
         },
         "x": 1,
         "y": 1
        },
        "shapes": [
         {
          "line": {
           "width": 0
          },
          "opacity": 0.25,
          "type": "rect",
          "x0": 0,
          "x1": 12,
          "xref": "x",
          "y0": 0,
          "y1": 1,
          "yref": "y domain"
         },
         {
          "line": {
           "width": 0
          },
          "opacity": 0.15,
          "type": "rect",
          "x0": 12,
          "x1": 12,
          "xref": "x",
          "y0": 0,
          "y1": 1,
          "yref": "y domain"
         },
         {
          "line": {
           "color": "green",
           "dash": "dash",
           "width": 3.5
          },
          "type": "line",
          "x0": 11.5,
          "x1": 11.5,
          "xref": "x",
          "y0": 0,
          "y1": 1,
          "yref": "y domain"
         }
        ],
        "showlegend": true,
        "template": {
         "data": {
          "bar": [
           {
            "error_x": {
             "color": "#2a3f5f"
            },
            "error_y": {
             "color": "#2a3f5f"
            },
            "marker": {
             "line": {
              "color": "#E5ECF6",
              "width": 0.5
             }
            },
            "type": "bar"
           }
          ],
          "barpolar": [
           {
            "marker": {
             "line": {
              "color": "#E5ECF6",
              "width": 0.5
             }
            },
            "type": "barpolar"
           }
          ],
          "carpet": [
           {
            "aaxis": {
             "endlinecolor": "#2a3f5f",
             "gridcolor": "white",
             "linecolor": "white",
             "minorgridcolor": "white",
             "startlinecolor": "#2a3f5f"
            },
            "baxis": {
             "endlinecolor": "#2a3f5f",
             "gridcolor": "white",
             "linecolor": "white",
             "minorgridcolor": "white",
             "startlinecolor": "#2a3f5f"
            },
            "type": "carpet"
           }
          ],
          "choropleth": [
           {
            "colorbar": {
             "outlinewidth": 0,
             "ticks": ""
            },
            "type": "choropleth"
           }
          ],
          "contour": [
           {
            "colorbar": {
             "outlinewidth": 0,
             "ticks": ""
            },
            "colorscale": [
             [
              0,
              "#0d0887"
             ],
             [
              0.1111111111111111,
              "#46039f"
             ],
             [
              0.2222222222222222,
              "#7201a8"
             ],
             [
              0.3333333333333333,
              "#9c179e"
             ],
             [
              0.4444444444444444,
              "#bd3786"
             ],
             [
              0.5555555555555556,
              "#d8576b"
             ],
             [
              0.6666666666666666,
              "#ed7953"
             ],
             [
              0.7777777777777778,
              "#fb9f3a"
             ],
             [
              0.8888888888888888,
              "#fdca26"
             ],
             [
              1,
              "#f0f921"
             ]
            ],
            "type": "contour"
           }
          ],
          "contourcarpet": [
           {
            "colorbar": {
             "outlinewidth": 0,
             "ticks": ""
            },
            "type": "contourcarpet"
           }
          ],
          "heatmap": [
           {
            "colorbar": {
             "outlinewidth": 0,
             "ticks": ""
            },
            "colorscale": [
             [
              0,
              "#0d0887"
             ],
             [
              0.1111111111111111,
              "#46039f"
             ],
             [
              0.2222222222222222,
              "#7201a8"
             ],
             [
              0.3333333333333333,
              "#9c179e"
             ],
             [
              0.4444444444444444,
              "#bd3786"
             ],
             [
              0.5555555555555556,
              "#d8576b"
             ],
             [
              0.6666666666666666,
              "#ed7953"
             ],
             [
              0.7777777777777778,
              "#fb9f3a"
             ],
             [
              0.8888888888888888,
              "#fdca26"
             ],
             [
              1,
              "#f0f921"
             ]
            ],
            "type": "heatmap"
           }
          ],
          "heatmapgl": [
           {
            "colorbar": {
             "outlinewidth": 0,
             "ticks": ""
            },
            "colorscale": [
             [
              0,
              "#0d0887"
             ],
             [
              0.1111111111111111,
              "#46039f"
             ],
             [
              0.2222222222222222,
              "#7201a8"
             ],
             [
              0.3333333333333333,
              "#9c179e"
             ],
             [
              0.4444444444444444,
              "#bd3786"
             ],
             [
              0.5555555555555556,
              "#d8576b"
             ],
             [
              0.6666666666666666,
              "#ed7953"
             ],
             [
              0.7777777777777778,
              "#fb9f3a"
             ],
             [
              0.8888888888888888,
              "#fdca26"
             ],
             [
              1,
              "#f0f921"
             ]
            ],
            "type": "heatmapgl"
           }
          ],
          "histogram": [
           {
            "marker": {
             "colorbar": {
              "outlinewidth": 0,
              "ticks": ""
             }
            },
            "type": "histogram"
           }
          ],
          "histogram2d": [
           {
            "colorbar": {
             "outlinewidth": 0,
             "ticks": ""
            },
            "colorscale": [
             [
              0,
              "#0d0887"
             ],
             [
              0.1111111111111111,
              "#46039f"
             ],
             [
              0.2222222222222222,
              "#7201a8"
             ],
             [
              0.3333333333333333,
              "#9c179e"
             ],
             [
              0.4444444444444444,
              "#bd3786"
             ],
             [
              0.5555555555555556,
              "#d8576b"
             ],
             [
              0.6666666666666666,
              "#ed7953"
             ],
             [
              0.7777777777777778,
              "#fb9f3a"
             ],
             [
              0.8888888888888888,
              "#fdca26"
             ],
             [
              1,
              "#f0f921"
             ]
            ],
            "type": "histogram2d"
           }
          ],
          "histogram2dcontour": [
           {
            "colorbar": {
             "outlinewidth": 0,
             "ticks": ""
            },
            "colorscale": [
             [
              0,
              "#0d0887"
             ],
             [
              0.1111111111111111,
              "#46039f"
             ],
             [
              0.2222222222222222,
              "#7201a8"
             ],
             [
              0.3333333333333333,
              "#9c179e"
             ],
             [
              0.4444444444444444,
              "#bd3786"
             ],
             [
              0.5555555555555556,
              "#d8576b"
             ],
             [
              0.6666666666666666,
              "#ed7953"
             ],
             [
              0.7777777777777778,
              "#fb9f3a"
             ],
             [
              0.8888888888888888,
              "#fdca26"
             ],
             [
              1,
              "#f0f921"
             ]
            ],
            "type": "histogram2dcontour"
           }
          ],
          "mesh3d": [
           {
            "colorbar": {
             "outlinewidth": 0,
             "ticks": ""
            },
            "type": "mesh3d"
           }
          ],
          "parcoords": [
           {
            "line": {
             "colorbar": {
              "outlinewidth": 0,
              "ticks": ""
             }
            },
            "type": "parcoords"
           }
          ],
          "pie": [
           {
            "automargin": true,
            "type": "pie"
           }
          ],
          "scatter": [
           {
            "marker": {
             "colorbar": {
              "outlinewidth": 0,
              "ticks": ""
             }
            },
            "type": "scatter"
           }
          ],
          "scatter3d": [
           {
            "line": {
             "colorbar": {
              "outlinewidth": 0,
              "ticks": ""
             }
            },
            "marker": {
             "colorbar": {
              "outlinewidth": 0,
              "ticks": ""
             }
            },
            "type": "scatter3d"
           }
          ],
          "scattercarpet": [
           {
            "marker": {
             "colorbar": {
              "outlinewidth": 0,
              "ticks": ""
             }
            },
            "type": "scattercarpet"
           }
          ],
          "scattergeo": [
           {
            "marker": {
             "colorbar": {
              "outlinewidth": 0,
              "ticks": ""
             }
            },
            "type": "scattergeo"
           }
          ],
          "scattergl": [
           {
            "marker": {
             "colorbar": {
              "outlinewidth": 0,
              "ticks": ""
             }
            },
            "type": "scattergl"
           }
          ],
          "scattermapbox": [
           {
            "marker": {
             "colorbar": {
              "outlinewidth": 0,
              "ticks": ""
             }
            },
            "type": "scattermapbox"
           }
          ],
          "scatterpolar": [
           {
            "marker": {
             "colorbar": {
              "outlinewidth": 0,
              "ticks": ""
             }
            },
            "type": "scatterpolar"
           }
          ],
          "scatterpolargl": [
           {
            "marker": {
             "colorbar": {
              "outlinewidth": 0,
              "ticks": ""
             }
            },
            "type": "scatterpolargl"
           }
          ],
          "scatterternary": [
           {
            "marker": {
             "colorbar": {
              "outlinewidth": 0,
              "ticks": ""
             }
            },
            "type": "scatterternary"
           }
          ],
          "surface": [
           {
            "colorbar": {
             "outlinewidth": 0,
             "ticks": ""
            },
            "colorscale": [
             [
              0,
              "#0d0887"
             ],
             [
              0.1111111111111111,
              "#46039f"
             ],
             [
              0.2222222222222222,
              "#7201a8"
             ],
             [
              0.3333333333333333,
              "#9c179e"
             ],
             [
              0.4444444444444444,
              "#bd3786"
             ],
             [
              0.5555555555555556,
              "#d8576b"
             ],
             [
              0.6666666666666666,
              "#ed7953"
             ],
             [
              0.7777777777777778,
              "#fb9f3a"
             ],
             [
              0.8888888888888888,
              "#fdca26"
             ],
             [
              1,
              "#f0f921"
             ]
            ],
            "type": "surface"
           }
          ],
          "table": [
           {
            "cells": {
             "fill": {
              "color": "#EBF0F8"
             },
             "line": {
              "color": "white"
             }
            },
            "header": {
             "fill": {
              "color": "#C8D4E3"
             },
             "line": {
              "color": "white"
             }
            },
            "type": "table"
           }
          ]
         },
         "layout": {
          "annotationdefaults": {
           "arrowcolor": "#2a3f5f",
           "arrowhead": 0,
           "arrowwidth": 1
          },
          "autotypenumbers": "strict",
          "coloraxis": {
           "colorbar": {
            "outlinewidth": 0,
            "ticks": ""
           }
          },
          "colorscale": {
           "diverging": [
            [
             0,
             "#8e0152"
            ],
            [
             0.1,
             "#c51b7d"
            ],
            [
             0.2,
             "#de77ae"
            ],
            [
             0.3,
             "#f1b6da"
            ],
            [
             0.4,
             "#fde0ef"
            ],
            [
             0.5,
             "#f7f7f7"
            ],
            [
             0.6,
             "#e6f5d0"
            ],
            [
             0.7,
             "#b8e186"
            ],
            [
             0.8,
             "#7fbc41"
            ],
            [
             0.9,
             "#4d9221"
            ],
            [
             1,
             "#276419"
            ]
           ],
           "sequential": [
            [
             0,
             "#0d0887"
            ],
            [
             0.1111111111111111,
             "#46039f"
            ],
            [
             0.2222222222222222,
             "#7201a8"
            ],
            [
             0.3333333333333333,
             "#9c179e"
            ],
            [
             0.4444444444444444,
             "#bd3786"
            ],
            [
             0.5555555555555556,
             "#d8576b"
            ],
            [
             0.6666666666666666,
             "#ed7953"
            ],
            [
             0.7777777777777778,
             "#fb9f3a"
            ],
            [
             0.8888888888888888,
             "#fdca26"
            ],
            [
             1,
             "#f0f921"
            ]
           ],
           "sequentialminus": [
            [
             0,
             "#0d0887"
            ],
            [
             0.1111111111111111,
             "#46039f"
            ],
            [
             0.2222222222222222,
             "#7201a8"
            ],
            [
             0.3333333333333333,
             "#9c179e"
            ],
            [
             0.4444444444444444,
             "#bd3786"
            ],
            [
             0.5555555555555556,
             "#d8576b"
            ],
            [
             0.6666666666666666,
             "#ed7953"
            ],
            [
             0.7777777777777778,
             "#fb9f3a"
            ],
            [
             0.8888888888888888,
             "#fdca26"
            ],
            [
             1,
             "#f0f921"
            ]
           ]
          },
          "colorway": [
           "#636efa",
           "#EF553B",
           "#00cc96",
           "#ab63fa",
           "#FFA15A",
           "#19d3f3",
           "#FF6692",
           "#B6E880",
           "#FF97FF",
           "#FECB52"
          ],
          "font": {
           "color": "#2a3f5f"
          },
          "geo": {
           "bgcolor": "white",
           "lakecolor": "white",
           "landcolor": "#E5ECF6",
           "showlakes": true,
           "showland": true,
           "subunitcolor": "white"
          },
          "hoverlabel": {
           "align": "left"
          },
          "hovermode": "closest",
          "mapbox": {
           "style": "light"
          },
          "paper_bgcolor": "white",
          "plot_bgcolor": "#E5ECF6",
          "polar": {
           "angularaxis": {
            "gridcolor": "white",
            "linecolor": "white",
            "ticks": ""
           },
           "bgcolor": "#E5ECF6",
           "radialaxis": {
            "gridcolor": "white",
            "linecolor": "white",
            "ticks": ""
           }
          },
          "scene": {
           "xaxis": {
            "backgroundcolor": "#E5ECF6",
            "gridcolor": "white",
            "gridwidth": 2,
            "linecolor": "white",
            "showbackground": true,
            "ticks": "",
            "zerolinecolor": "white"
           },
           "yaxis": {
            "backgroundcolor": "#E5ECF6",
            "gridcolor": "white",
            "gridwidth": 2,
            "linecolor": "white",
            "showbackground": true,
            "ticks": "",
            "zerolinecolor": "white"
           },
           "zaxis": {
            "backgroundcolor": "#E5ECF6",
            "gridcolor": "white",
            "gridwidth": 2,
            "linecolor": "white",
            "showbackground": true,
            "ticks": "",
            "zerolinecolor": "white"
           }
          },
          "shapedefaults": {
           "line": {
            "color": "#2a3f5f"
           }
          },
          "ternary": {
           "aaxis": {
            "gridcolor": "white",
            "linecolor": "white",
            "ticks": ""
           },
           "baxis": {
            "gridcolor": "white",
            "linecolor": "white",
            "ticks": ""
           },
           "bgcolor": "#E5ECF6",
           "caxis": {
            "gridcolor": "white",
            "linecolor": "white",
            "ticks": ""
           }
          },
          "title": {
           "x": 0.05
          },
          "xaxis": {
           "automargin": true,
           "gridcolor": "white",
           "linecolor": "white",
           "ticks": "",
           "title": {
            "standoff": 15
           },
           "zerolinecolor": "white",
           "zerolinewidth": 2
          },
          "yaxis": {
           "automargin": true,
           "gridcolor": "white",
           "linecolor": "white",
           "ticks": "",
           "title": {
            "standoff": 15
           },
           "zerolinecolor": "white",
           "zerolinewidth": 2
          }
         }
        },
        "title": {
         "font": {
          "color": "#351C15",
          "size": 24
         },
         "text": "<b>Bridgestone Purchases Trend 2020 - 2021</b>",
         "x": 0.5
        },
        "width": 1350,
        "xaxis": {
         "title": {
          "text": "Month"
         }
        },
        "yaxis": {
         "title": {
          "text": "Purchases"
         }
        }
       }
      }
     },
     "metadata": {},
     "output_type": "display_data"
    },
    {
     "data": {
      "application/vnd.plotly.v1+json": {
       "config": {
        "plotlyServerURL": "https://plotly.com"
       },
       "data": [
        {
         "line": {
          "color": "red",
          "width": 2
         },
         "name": "Light Truck",
         "type": "scatter",
         "x": [
          "JAN 2020",
          "FEB 2020",
          "MAR 2020",
          "APR 2020",
          "MAY 2020",
          "JUN 2020",
          "JUL 2020",
          "AUG 2020",
          "SEPT 2020",
          "OCT 2020",
          "NOV 2020",
          "DEC 2020",
          "JAN 2021",
          "FEB 2021",
          "MAR 2021",
          "APR 2021",
          "MAY 2021",
          "JUN 2021",
          "JUL 2021",
          "AUG 2021",
          "SEPT 2021",
          "OCT 2021"
         ],
         "y": [
          0,
          0,
          0,
          0,
          0,
          0,
          0,
          0,
          0,
          0,
          0,
          0,
          0,
          0,
          0,
          0,
          0,
          0,
          0,
          0,
          0,
          0
         ]
        },
        {
         "line": {
          "color": "green",
          "width": 2
         },
         "name": "225/70R19.5",
         "type": "scatter",
         "x": [
          "JAN 2020",
          "FEB 2020",
          "MAR 2020",
          "APR 2020",
          "MAY 2020",
          "JUN 2020",
          "JUL 2020",
          "AUG 2020",
          "SEPT 2020",
          "OCT 2020",
          "NOV 2020",
          "DEC 2020",
          "JAN 2021",
          "FEB 2021",
          "MAR 2021",
          "APR 2021",
          "MAY 2021",
          "JUN 2021",
          "JUL 2021",
          "AUG 2021",
          "SEPT 2021",
          "OCT 2021"
         ],
         "y": [
          0,
          0,
          0,
          2,
          1,
          0,
          0,
          0,
          0,
          4,
          0,
          0,
          0,
          0,
          0,
          0,
          0,
          0,
          2,
          0,
          0,
          0
         ]
        },
        {
         "line": {
          "color": "black",
          "width": 2
         },
         "name": "245/70R17.5",
         "type": "scatter",
         "x": [
          "JAN 2020",
          "FEB 2020",
          "MAR 2020",
          "APR 2020",
          "MAY 2020",
          "JUN 2020",
          "JUL 2020",
          "AUG 2020",
          "SEPT 2020",
          "OCT 2020",
          "NOV 2020",
          "DEC 2020",
          "JAN 2021",
          "FEB 2021",
          "MAR 2021",
          "APR 2021",
          "MAY 2021",
          "JUN 2021",
          "JUL 2021",
          "AUG 2021",
          "SEPT 2021",
          "OCT 2021"
         ],
         "y": [
          105,
          92,
          44,
          123,
          106,
          159,
          172,
          138,
          171,
          132,
          85,
          48,
          35,
          22,
          110,
          140,
          64,
          29,
          40,
          84,
          98,
          77
         ]
        },
        {
         "line": {
          "color": "purple",
          "width": 2
         },
         "name": "9R22.5",
         "type": "scatter",
         "x": [
          "JAN 2020",
          "FEB 2020",
          "MAR 2020",
          "APR 2020",
          "MAY 2020",
          "JUN 2020",
          "JUL 2020",
          "AUG 2020",
          "SEPT 2020",
          "OCT 2020",
          "NOV 2020",
          "DEC 2020",
          "JAN 2021",
          "FEB 2021",
          "MAR 2021",
          "APR 2021",
          "MAY 2021",
          "JUN 2021",
          "JUL 2021",
          "AUG 2021",
          "SEPT 2021",
          "OCT 2021"
         ],
         "y": [
          0,
          0,
          0,
          0,
          0,
          0,
          0,
          0,
          0,
          0,
          0,
          0,
          0,
          0,
          0,
          0,
          0,
          0,
          0,
          0,
          0,
          0
         ]
        },
        {
         "line": {
          "color": "#caa74d",
          "width": 2
         },
         "name": "295/75R22.5",
         "type": "scatter",
         "x": [
          "JAN 2020",
          "FEB 2020",
          "MAR 2020",
          "APR 2020",
          "MAY 2020",
          "JUN 2020",
          "JUL 2020",
          "AUG 2020",
          "SEPT 2020",
          "OCT 2020",
          "NOV 2020",
          "DEC 2020",
          "JAN 2021",
          "FEB 2021",
          "MAR 2021",
          "APR 2021",
          "MAY 2021",
          "JUN 2021",
          "JUL 2021",
          "AUG 2021",
          "SEPT 2021",
          "OCT 2021"
         ],
         "y": [
          305,
          226,
          226,
          218,
          225,
          266,
          230,
          216,
          248,
          291,
          217,
          225,
          134,
          212,
          158,
          94,
          115,
          76,
          56,
          101,
          76,
          78
         ]
        },
        {
         "line": {
          "color": "royalblue",
          "width": 2
         },
         "name": "11R22.5",
         "type": "scatter",
         "x": [
          "JAN 2020",
          "FEB 2020",
          "MAR 2020",
          "APR 2020",
          "MAY 2020",
          "JUN 2020",
          "JUL 2020",
          "AUG 2020",
          "SEPT 2020",
          "OCT 2020",
          "NOV 2020",
          "DEC 2020",
          "JAN 2021",
          "FEB 2021",
          "MAR 2021",
          "APR 2021",
          "MAY 2021",
          "JUN 2021",
          "JUL 2021",
          "AUG 2021",
          "SEPT 2021",
          "OCT 2021"
         ],
         "y": [
          1,
          0,
          2,
          87,
          0,
          6,
          0,
          0,
          6,
          0,
          3,
          1,
          0,
          0,
          1,
          32,
          0,
          4,
          0,
          0,
          9,
          4
         ]
        }
       ],
       "layout": {
        "annotations": [
         {
          "font": {
           "family": "Times New Roman",
           "size": 20
          },
          "showarrow": false,
          "text": " Last Year ",
          "x": 0,
          "xanchor": "left",
          "xref": "x",
          "y": 1,
          "yanchor": "top",
          "yref": "y domain"
         },
         {
          "font": {
           "family": "Times New Roman",
           "size": 20
          },
          "showarrow": false,
          "text": " Current Year ",
          "x": 12,
          "xanchor": "left",
          "xref": "x",
          "y": 1,
          "yanchor": "top",
          "yref": "y domain"
         }
        ],
        "autosize": false,
        "font": {
         "color": "black",
         "size": 13
        },
        "height": 525,
        "legend": {
         "bgcolor": "white",
         "bordercolor": "dimgray",
         "borderwidth": 0.05,
         "font": {
          "color": "black",
          "size": 13
         },
         "title": {
          "font": {
           "family": "Times New Roman"
          }
         },
         "x": 1,
         "y": 1
        },
        "shapes": [
         {
          "line": {
           "width": 0
          },
          "opacity": 0.25,
          "type": "rect",
          "x0": 0,
          "x1": 12,
          "xref": "x",
          "y0": 0,
          "y1": 1,
          "yref": "y domain"
         },
         {
          "line": {
           "width": 0
          },
          "opacity": 0.15,
          "type": "rect",
          "x0": 12,
          "x1": 12,
          "xref": "x",
          "y0": 0,
          "y1": 1,
          "yref": "y domain"
         },
         {
          "line": {
           "color": "green",
           "dash": "dash",
           "width": 3.5
          },
          "type": "line",
          "x0": 11.5,
          "x1": 11.5,
          "xref": "x",
          "y0": 0,
          "y1": 1,
          "yref": "y domain"
         }
        ],
        "showlegend": true,
        "template": {
         "data": {
          "bar": [
           {
            "error_x": {
             "color": "#2a3f5f"
            },
            "error_y": {
             "color": "#2a3f5f"
            },
            "marker": {
             "line": {
              "color": "#E5ECF6",
              "width": 0.5
             }
            },
            "type": "bar"
           }
          ],
          "barpolar": [
           {
            "marker": {
             "line": {
              "color": "#E5ECF6",
              "width": 0.5
             }
            },
            "type": "barpolar"
           }
          ],
          "carpet": [
           {
            "aaxis": {
             "endlinecolor": "#2a3f5f",
             "gridcolor": "white",
             "linecolor": "white",
             "minorgridcolor": "white",
             "startlinecolor": "#2a3f5f"
            },
            "baxis": {
             "endlinecolor": "#2a3f5f",
             "gridcolor": "white",
             "linecolor": "white",
             "minorgridcolor": "white",
             "startlinecolor": "#2a3f5f"
            },
            "type": "carpet"
           }
          ],
          "choropleth": [
           {
            "colorbar": {
             "outlinewidth": 0,
             "ticks": ""
            },
            "type": "choropleth"
           }
          ],
          "contour": [
           {
            "colorbar": {
             "outlinewidth": 0,
             "ticks": ""
            },
            "colorscale": [
             [
              0,
              "#0d0887"
             ],
             [
              0.1111111111111111,
              "#46039f"
             ],
             [
              0.2222222222222222,
              "#7201a8"
             ],
             [
              0.3333333333333333,
              "#9c179e"
             ],
             [
              0.4444444444444444,
              "#bd3786"
             ],
             [
              0.5555555555555556,
              "#d8576b"
             ],
             [
              0.6666666666666666,
              "#ed7953"
             ],
             [
              0.7777777777777778,
              "#fb9f3a"
             ],
             [
              0.8888888888888888,
              "#fdca26"
             ],
             [
              1,
              "#f0f921"
             ]
            ],
            "type": "contour"
           }
          ],
          "contourcarpet": [
           {
            "colorbar": {
             "outlinewidth": 0,
             "ticks": ""
            },
            "type": "contourcarpet"
           }
          ],
          "heatmap": [
           {
            "colorbar": {
             "outlinewidth": 0,
             "ticks": ""
            },
            "colorscale": [
             [
              0,
              "#0d0887"
             ],
             [
              0.1111111111111111,
              "#46039f"
             ],
             [
              0.2222222222222222,
              "#7201a8"
             ],
             [
              0.3333333333333333,
              "#9c179e"
             ],
             [
              0.4444444444444444,
              "#bd3786"
             ],
             [
              0.5555555555555556,
              "#d8576b"
             ],
             [
              0.6666666666666666,
              "#ed7953"
             ],
             [
              0.7777777777777778,
              "#fb9f3a"
             ],
             [
              0.8888888888888888,
              "#fdca26"
             ],
             [
              1,
              "#f0f921"
             ]
            ],
            "type": "heatmap"
           }
          ],
          "heatmapgl": [
           {
            "colorbar": {
             "outlinewidth": 0,
             "ticks": ""
            },
            "colorscale": [
             [
              0,
              "#0d0887"
             ],
             [
              0.1111111111111111,
              "#46039f"
             ],
             [
              0.2222222222222222,
              "#7201a8"
             ],
             [
              0.3333333333333333,
              "#9c179e"
             ],
             [
              0.4444444444444444,
              "#bd3786"
             ],
             [
              0.5555555555555556,
              "#d8576b"
             ],
             [
              0.6666666666666666,
              "#ed7953"
             ],
             [
              0.7777777777777778,
              "#fb9f3a"
             ],
             [
              0.8888888888888888,
              "#fdca26"
             ],
             [
              1,
              "#f0f921"
             ]
            ],
            "type": "heatmapgl"
           }
          ],
          "histogram": [
           {
            "marker": {
             "colorbar": {
              "outlinewidth": 0,
              "ticks": ""
             }
            },
            "type": "histogram"
           }
          ],
          "histogram2d": [
           {
            "colorbar": {
             "outlinewidth": 0,
             "ticks": ""
            },
            "colorscale": [
             [
              0,
              "#0d0887"
             ],
             [
              0.1111111111111111,
              "#46039f"
             ],
             [
              0.2222222222222222,
              "#7201a8"
             ],
             [
              0.3333333333333333,
              "#9c179e"
             ],
             [
              0.4444444444444444,
              "#bd3786"
             ],
             [
              0.5555555555555556,
              "#d8576b"
             ],
             [
              0.6666666666666666,
              "#ed7953"
             ],
             [
              0.7777777777777778,
              "#fb9f3a"
             ],
             [
              0.8888888888888888,
              "#fdca26"
             ],
             [
              1,
              "#f0f921"
             ]
            ],
            "type": "histogram2d"
           }
          ],
          "histogram2dcontour": [
           {
            "colorbar": {
             "outlinewidth": 0,
             "ticks": ""
            },
            "colorscale": [
             [
              0,
              "#0d0887"
             ],
             [
              0.1111111111111111,
              "#46039f"
             ],
             [
              0.2222222222222222,
              "#7201a8"
             ],
             [
              0.3333333333333333,
              "#9c179e"
             ],
             [
              0.4444444444444444,
              "#bd3786"
             ],
             [
              0.5555555555555556,
              "#d8576b"
             ],
             [
              0.6666666666666666,
              "#ed7953"
             ],
             [
              0.7777777777777778,
              "#fb9f3a"
             ],
             [
              0.8888888888888888,
              "#fdca26"
             ],
             [
              1,
              "#f0f921"
             ]
            ],
            "type": "histogram2dcontour"
           }
          ],
          "mesh3d": [
           {
            "colorbar": {
             "outlinewidth": 0,
             "ticks": ""
            },
            "type": "mesh3d"
           }
          ],
          "parcoords": [
           {
            "line": {
             "colorbar": {
              "outlinewidth": 0,
              "ticks": ""
             }
            },
            "type": "parcoords"
           }
          ],
          "pie": [
           {
            "automargin": true,
            "type": "pie"
           }
          ],
          "scatter": [
           {
            "marker": {
             "colorbar": {
              "outlinewidth": 0,
              "ticks": ""
             }
            },
            "type": "scatter"
           }
          ],
          "scatter3d": [
           {
            "line": {
             "colorbar": {
              "outlinewidth": 0,
              "ticks": ""
             }
            },
            "marker": {
             "colorbar": {
              "outlinewidth": 0,
              "ticks": ""
             }
            },
            "type": "scatter3d"
           }
          ],
          "scattercarpet": [
           {
            "marker": {
             "colorbar": {
              "outlinewidth": 0,
              "ticks": ""
             }
            },
            "type": "scattercarpet"
           }
          ],
          "scattergeo": [
           {
            "marker": {
             "colorbar": {
              "outlinewidth": 0,
              "ticks": ""
             }
            },
            "type": "scattergeo"
           }
          ],
          "scattergl": [
           {
            "marker": {
             "colorbar": {
              "outlinewidth": 0,
              "ticks": ""
             }
            },
            "type": "scattergl"
           }
          ],
          "scattermapbox": [
           {
            "marker": {
             "colorbar": {
              "outlinewidth": 0,
              "ticks": ""
             }
            },
            "type": "scattermapbox"
           }
          ],
          "scatterpolar": [
           {
            "marker": {
             "colorbar": {
              "outlinewidth": 0,
              "ticks": ""
             }
            },
            "type": "scatterpolar"
           }
          ],
          "scatterpolargl": [
           {
            "marker": {
             "colorbar": {
              "outlinewidth": 0,
              "ticks": ""
             }
            },
            "type": "scatterpolargl"
           }
          ],
          "scatterternary": [
           {
            "marker": {
             "colorbar": {
              "outlinewidth": 0,
              "ticks": ""
             }
            },
            "type": "scatterternary"
           }
          ],
          "surface": [
           {
            "colorbar": {
             "outlinewidth": 0,
             "ticks": ""
            },
            "colorscale": [
             [
              0,
              "#0d0887"
             ],
             [
              0.1111111111111111,
              "#46039f"
             ],
             [
              0.2222222222222222,
              "#7201a8"
             ],
             [
              0.3333333333333333,
              "#9c179e"
             ],
             [
              0.4444444444444444,
              "#bd3786"
             ],
             [
              0.5555555555555556,
              "#d8576b"
             ],
             [
              0.6666666666666666,
              "#ed7953"
             ],
             [
              0.7777777777777778,
              "#fb9f3a"
             ],
             [
              0.8888888888888888,
              "#fdca26"
             ],
             [
              1,
              "#f0f921"
             ]
            ],
            "type": "surface"
           }
          ],
          "table": [
           {
            "cells": {
             "fill": {
              "color": "#EBF0F8"
             },
             "line": {
              "color": "white"
             }
            },
            "header": {
             "fill": {
              "color": "#C8D4E3"
             },
             "line": {
              "color": "white"
             }
            },
            "type": "table"
           }
          ]
         },
         "layout": {
          "annotationdefaults": {
           "arrowcolor": "#2a3f5f",
           "arrowhead": 0,
           "arrowwidth": 1
          },
          "autotypenumbers": "strict",
          "coloraxis": {
           "colorbar": {
            "outlinewidth": 0,
            "ticks": ""
           }
          },
          "colorscale": {
           "diverging": [
            [
             0,
             "#8e0152"
            ],
            [
             0.1,
             "#c51b7d"
            ],
            [
             0.2,
             "#de77ae"
            ],
            [
             0.3,
             "#f1b6da"
            ],
            [
             0.4,
             "#fde0ef"
            ],
            [
             0.5,
             "#f7f7f7"
            ],
            [
             0.6,
             "#e6f5d0"
            ],
            [
             0.7,
             "#b8e186"
            ],
            [
             0.8,
             "#7fbc41"
            ],
            [
             0.9,
             "#4d9221"
            ],
            [
             1,
             "#276419"
            ]
           ],
           "sequential": [
            [
             0,
             "#0d0887"
            ],
            [
             0.1111111111111111,
             "#46039f"
            ],
            [
             0.2222222222222222,
             "#7201a8"
            ],
            [
             0.3333333333333333,
             "#9c179e"
            ],
            [
             0.4444444444444444,
             "#bd3786"
            ],
            [
             0.5555555555555556,
             "#d8576b"
            ],
            [
             0.6666666666666666,
             "#ed7953"
            ],
            [
             0.7777777777777778,
             "#fb9f3a"
            ],
            [
             0.8888888888888888,
             "#fdca26"
            ],
            [
             1,
             "#f0f921"
            ]
           ],
           "sequentialminus": [
            [
             0,
             "#0d0887"
            ],
            [
             0.1111111111111111,
             "#46039f"
            ],
            [
             0.2222222222222222,
             "#7201a8"
            ],
            [
             0.3333333333333333,
             "#9c179e"
            ],
            [
             0.4444444444444444,
             "#bd3786"
            ],
            [
             0.5555555555555556,
             "#d8576b"
            ],
            [
             0.6666666666666666,
             "#ed7953"
            ],
            [
             0.7777777777777778,
             "#fb9f3a"
            ],
            [
             0.8888888888888888,
             "#fdca26"
            ],
            [
             1,
             "#f0f921"
            ]
           ]
          },
          "colorway": [
           "#636efa",
           "#EF553B",
           "#00cc96",
           "#ab63fa",
           "#FFA15A",
           "#19d3f3",
           "#FF6692",
           "#B6E880",
           "#FF97FF",
           "#FECB52"
          ],
          "font": {
           "color": "#2a3f5f"
          },
          "geo": {
           "bgcolor": "white",
           "lakecolor": "white",
           "landcolor": "#E5ECF6",
           "showlakes": true,
           "showland": true,
           "subunitcolor": "white"
          },
          "hoverlabel": {
           "align": "left"
          },
          "hovermode": "closest",
          "mapbox": {
           "style": "light"
          },
          "paper_bgcolor": "white",
          "plot_bgcolor": "#E5ECF6",
          "polar": {
           "angularaxis": {
            "gridcolor": "white",
            "linecolor": "white",
            "ticks": ""
           },
           "bgcolor": "#E5ECF6",
           "radialaxis": {
            "gridcolor": "white",
            "linecolor": "white",
            "ticks": ""
           }
          },
          "scene": {
           "xaxis": {
            "backgroundcolor": "#E5ECF6",
            "gridcolor": "white",
            "gridwidth": 2,
            "linecolor": "white",
            "showbackground": true,
            "ticks": "",
            "zerolinecolor": "white"
           },
           "yaxis": {
            "backgroundcolor": "#E5ECF6",
            "gridcolor": "white",
            "gridwidth": 2,
            "linecolor": "white",
            "showbackground": true,
            "ticks": "",
            "zerolinecolor": "white"
           },
           "zaxis": {
            "backgroundcolor": "#E5ECF6",
            "gridcolor": "white",
            "gridwidth": 2,
            "linecolor": "white",
            "showbackground": true,
            "ticks": "",
            "zerolinecolor": "white"
           }
          },
          "shapedefaults": {
           "line": {
            "color": "#2a3f5f"
           }
          },
          "ternary": {
           "aaxis": {
            "gridcolor": "white",
            "linecolor": "white",
            "ticks": ""
           },
           "baxis": {
            "gridcolor": "white",
            "linecolor": "white",
            "ticks": ""
           },
           "bgcolor": "#E5ECF6",
           "caxis": {
            "gridcolor": "white",
            "linecolor": "white",
            "ticks": ""
           }
          },
          "title": {
           "x": 0.05
          },
          "xaxis": {
           "automargin": true,
           "gridcolor": "white",
           "linecolor": "white",
           "ticks": "",
           "title": {
            "standoff": 15
           },
           "zerolinecolor": "white",
           "zerolinewidth": 2
          },
          "yaxis": {
           "automargin": true,
           "gridcolor": "white",
           "linecolor": "white",
           "ticks": "",
           "title": {
            "standoff": 15
           },
           "zerolinecolor": "white",
           "zerolinewidth": 2
          }
         }
        },
        "title": {
         "font": {
          "color": "#351C15",
          "size": 20
         },
         "text": "<b>Bridgestone Purchases Trend 2020 - 2021</b>",
         "x": 0.5
        },
        "width": 1050,
        "xaxis": {
         "title": {
          "text": "Month"
         }
        },
        "yaxis": {
         "title": {
          "text": "Purchases"
         }
        }
       }
      }
     },
     "metadata": {},
     "output_type": "display_data"
    }
   ],
   "source": [
    "# Create Bridgestone Purchase Analysis Graph:\n",
    "\n",
    "# Setup independent X Variables (which is just the month and save a list):\n",
    "Month_LIST2 = Bridgestone_df_TRANSPOSED['month-yr'].to_list()\n",
    "\n",
    "# Setup a dependent Y Variables (By Creating separate lists for each type of Bandag Retread):\n",
    "Light_Truck_List = Bridgestone_df_TRANSPOSED['Light Truck BRIDGESTONE'].to_list()\n",
    "Two_Twenty_Five_LIST = Bridgestone_df_TRANSPOSED['225/70R19.5 BRIDGESTONE'].to_list()\n",
    "Two_Forty_Five_LIST = Bridgestone_df_TRANSPOSED['245/70R17.5 BRIDGESTONE'].to_list()\n",
    "Nine_R_Twenty_Two_Five_LIST = Bridgestone_df_TRANSPOSED['9R22.5 BRIDGESTONE'].to_list()\n",
    "Two_Ninety_Five_LIST = Bridgestone_df_TRANSPOSED['295/75R22.5 BRIDGESTONE'].to_list()\n",
    "Eleven_R_Twenty_Two_Point_Five_List = Bridgestone_df_TRANSPOSED['11R22.5 BRIDGESTONE'].to_list()\n",
    "\n",
    "fig = go.Figure()\n",
    "# Add a filter over last year's graph to distinguish it from this year:\n",
    "fig.add_vrect(x0=0, x1=12,\n",
    "                annotation_text=\" Last Year \", annotation_position=\"top left\",\n",
    "                annotation=dict(\n",
    "    font_size=29, font_family=\"Times New Roman\"),\n",
    "    fillcolor=None, opacity=0.25, line_width=0)\n",
    "\n",
    "# Optionally add a filter color for this yr too, lightgreen works (or choose \"white\" or comment out this block for none)\n",
    "fig.add_vrect(x0=12, x1=12,\n",
    "                annotation_text=\" Current Year \", annotation_position=\"top left\",\n",
    "                annotation=dict(\n",
    "    font_size=29, font_family=\"Times New Roman\"),\n",
    "    fillcolor=None, opacity=0.15, line_width=0)\n",
    "\n",
    "# Create and Style Traces:\n",
    "fig.add_trace(go.Scatter(x=Month_LIST2, y=Light_Truck_List, name='Light Truck',\n",
    "                            line=dict(color='red', width=2.5)))\n",
    "fig.add_trace(go.Scatter(x=Month_LIST2, y=Two_Twenty_Five_LIST, name='225/70R19.5',\n",
    "                            line=dict(color='green', width=2.5)))\n",
    "fig.add_trace(go.Scatter(x=Month_LIST2, y=Two_Forty_Five_LIST, name='245/70R17.5',\n",
    "                            line=dict(color='black', width=2.5)))\n",
    "fig.add_trace(go.Scatter(x=Month_LIST2, y=Nine_R_Twenty_Two_Five_LIST, name='9R22.5',\n",
    "                            line=dict(color='purple', width=2.5)))\n",
    "fig.add_trace(go.Scatter(x=Month_LIST2, y=Two_Ninety_Five_LIST, name='295/75R22.5',\n",
    "                            line=dict(color='#caa74d', width=2.5)))\n",
    "fig.add_trace(go.Scatter(x=Month_LIST2, y=Eleven_R_Twenty_Two_Point_Five_List, name='11R22.5',\n",
    "                            line=dict(color='royalblue', width=2.5)))\n",
    "\n",
    "# HERE IS A GREAT Hack TO MAKE SURE ALL THE MONTHS SHOW UP!!!!  ADD A WHITE LINE THAT HAS all zeros and name it as a blank string so the legend doesn't show it!\n",
    "# fig.add_trace(go.Scatter(x=Month_LIST2, y=[0, 0, 0, 0, 0, 0, 0, 0, 0, 0, 0, 0, 0, 0, 0, 0, 0, 0, 0, 0, 0, 0, 0, 0, 0, 0], name='',\n",
    "#                          line=dict(color='white', width=1)))\n",
    "# Edit the Layout:\n",
    "fig.update_layout(\n",
    "    title_text=f\"<b>Bridgestone Purchases Trend {Last_Year} - {Current_Year}</b>\",\n",
    "    title_x=.5,\n",
    "    title_font_size=24,\n",
    "    title_font_color=\"#351C15\",\n",
    "    xaxis_title='Month',\n",
    "    yaxis_title='Purchases',\n",
    "    autosize=False, width=1350, height=675,\n",
    "    showlegend=True,\n",
    "    legend=dict(\n",
    "        x=1,\n",
    "        y=1,\n",
    "        title_font_family=\"Times New Roman\",\n",
    "        font=dict(\n",
    "            family=None,\n",
    "            size=15,\n",
    "            color=\"black\"\n",
    "        ),\n",
    "        bgcolor=\"white\",\n",
    "        bordercolor=\"dimgray\",\n",
    "        borderwidth=.05\n",
    "    ),\n",
    "    # General axes and axes labels fonts:\n",
    "    font=dict(\n",
    "        family=None,\n",
    "        size=16,\n",
    "        color=\"black\"\n",
    "    ))\n",
    "\n",
    "# Add a green vertical line the graph to separate last year from the current one:\n",
    "fig.add_vline(x=11.5, line_width=3.5,\n",
    "                line_dash=\"dash\", line_color=\"green\")\n",
    "\n",
    "# Save the file to use in HTML, PDF, etc.\n",
    "fig.write_image(f\"Images_graphs/{Current_Year}_Bridgestone_Purchase_Analysis.svg\")\n",
    "fig.show()\n",
    "\n",
    "\n",
    "\n",
    "\n",
    "\n",
    "# =================================================================================================================\n",
    "# Now let's make ANOTHER version for our webpage which will need to be resized and customized:\n",
    "fig2 = go.Figure()\n",
    "# Add a filter over last year's graph to distinguish it from this year:\n",
    "fig2.add_vrect(x0=0, x1=12,\n",
    "                annotation_text=\" Last Year \", annotation_position=\"top left\",\n",
    "                annotation=dict(\n",
    "    font_size=20, font_family=\"Times New Roman\"),\n",
    "    fillcolor=None, opacity=0.25, line_width=0)\n",
    "\n",
    "# Optionally add a filter color for this yr too, lightgreen works (or choose \"white\" or comment out this block for none)\n",
    "fig2.add_vrect(x0=12, x1=12,\n",
    "                annotation_text=\" Current Year \", annotation_position=\"top left\",\n",
    "                annotation=dict(\n",
    "    font_size=20, font_family=\"Times New Roman\"),\n",
    "    fillcolor=None, opacity=0.15, line_width=0)\n",
    "\n",
    "# Create and Style Traces:\n",
    "fig2.add_trace(go.Scatter(x=Month_LIST2, y=Light_Truck_List, name='Light Truck',\n",
    "                            line=dict(color='red', width=2)))\n",
    "fig2.add_trace(go.Scatter(x=Month_LIST2, y=Two_Twenty_Five_LIST, name='225/70R19.5',\n",
    "                            line=dict(color='green', width=2)))\n",
    "fig2.add_trace(go.Scatter(x=Month_LIST2, y=Two_Forty_Five_LIST, name='245/70R17.5',\n",
    "                            line=dict(color='black', width=2)))\n",
    "fig2.add_trace(go.Scatter(x=Month_LIST2, y=Nine_R_Twenty_Two_Five_LIST, name='9R22.5',\n",
    "                            line=dict(color='purple', width=2)))\n",
    "fig2.add_trace(go.Scatter(x=Month_LIST2, y=Two_Ninety_Five_LIST, name='295/75R22.5',\n",
    "                            line=dict(color='#caa74d', width=2)))\n",
    "fig2.add_trace(go.Scatter(x=Month_LIST2, y=Eleven_R_Twenty_Two_Point_Five_List, name='11R22.5',\n",
    "                            line=dict(color='royalblue', width=2)))\n",
    "\n",
    "fig2.update_layout(\n",
    "    title_text=f\"<b>Bridgestone Purchases Trend {Last_Year} - {Current_Year}</b>\",\n",
    "    title_x=.5,\n",
    "    title_font_size=20,\n",
    "    title_font_color=\"#351C15\",\n",
    "    xaxis_title='Month',\n",
    "    yaxis_title='Purchases',\n",
    "    autosize=False, width=1050, height=525,\n",
    "    showlegend=True,\n",
    "    legend=dict(\n",
    "        x=1,\n",
    "        y=1,\n",
    "        title_font_family=\"Times New Roman\",\n",
    "        font=dict(\n",
    "            family=None,\n",
    "            size=13,\n",
    "            color=\"black\"\n",
    "        ),\n",
    "        bgcolor=\"white\",\n",
    "        bordercolor=\"dimgray\",\n",
    "        borderwidth=.05\n",
    "    ),\n",
    "    # General axes and axes labels fonts:\n",
    "    font=dict(\n",
    "        family=None,\n",
    "        size=13,\n",
    "        color=\"black\"\n",
    "    ))\n",
    "\n",
    "# Add a green vertical line the graph to separate last year from the current one:\n",
    "fig2.add_vline(x=11.5, line_width=3.5,\n",
    "                line_dash=\"dash\", line_color=\"green\")\n",
    "\n",
    "# PLOTLY INTERACTIVE:\n",
    "Bridgestone_Purchases_Trend_graph = fig2\n",
    "Bridgestone_Purchases_Trend_graph_for_iframe = py.plot(Bridgestone_Purchases_Trend_graph, filename = 'Bridgestone_Purchases_Trend_graph', auto_open=False)\n",
    "\n",
    "fig2.show()"
   ]
  },
  {
   "cell_type": "markdown",
   "metadata": {},
   "source": [
    "# Get SWIFT NRT DATA by scraping BFI site.  \n",
    "\n",
    "### NOTE:  We will scrape both last year and the current YTD bc we want to compare last year with current YTD in graphs:"
   ]
  },
  {
   "cell_type": "markdown",
   "metadata": {},
   "source": [
    "## Since the website appears to do better the second attempt of selecting the NRT template, we'll \n",
    "## do a mock selection here prior to doing it for real in the loop afterwards:"
   ]
  },
  {
   "cell_type": "code",
   "execution_count": 27,
   "metadata": {},
   "outputs": [],
   "source": [
    "# ---------Set the executable path and initialize the chrome browser in splinter -------\n",
    "executable_path = {'executable_path': 'C:/webdrivers/chromedriver'}\n",
    "browser = Browser('chrome', **executable_path)\n",
    "\n",
    "# --------------------------- LOGIN ------------------------------------------\n",
    "# ---Set Variables for login:\n",
    "Page_usrname = 'stmreport'\n",
    "Page_pword = 'stmreport'\n",
    "\n",
    "attempts = 0\n",
    "\n",
    "# Go to BFI login page:\n",
    "browser.visit('https://fleetinventory.com')\n",
    "\n",
    "#Find the username and password boxes and fill them in:\n",
    "browser.find_by_id('username').fill(Page_usrname)\n",
    "browser.find_by_id('password').fill(Page_pword)\n",
    "# Click on login button:\n",
    "browser.find_by_name('submit').first.click()\n",
    "\n",
    "# ---------------- Navigate to the NRT Summary page ---------------------------\n",
    "# Click on \"Reporting\" tab and then click \"NRT Summary\":\n",
    "time.sleep(3)\n",
    "browser.find_by_text('Reporting', wait_time=4).first.click()\n",
    "browser.find_by_text('NRT Summary', wait_time=4).first.click()\n",
    "time.sleep(10)\n",
    "\n",
    "# Click on the \"Report Profile\" drop down box.  This will give you options from saved profiles you can choose from (for example, RR-UPS SCRAP SUMMARY)\n",
    "browser.find_by_id('id_report_profile', wait_time=6).first.click()\n",
    "\n",
    "# ----------------- To select the region on the BFI site, we'll SELECT ONE OF THE SAVED TEMPLATES FROM THE DROP-DOWN WE JUST CLICKED ON -----------------\n",
    "time.sleep(2)\n",
    "browser.find_by_text('LONESTAR NRT SUMMARY WALTON REPORT', wait_time=10).first.click()\n",
    "time.sleep(15)\n",
    "# Once done, logout and quit the browser:\n",
    "browser.find_by_id('logout').first.click()\n",
    "browser.quit()"
   ]
  },
  {
   "cell_type": "code",
   "execution_count": 28,
   "metadata": {},
   "outputs": [],
   "source": [
    "# Loop through last year and YTD of current year:\n",
    "years = [Last_Year, Current_Year]\n",
    "\n",
    "for year in years:\n",
    "\n",
    "    Jan = year * 100 + 1\n",
    "    Feb = year * 100 + 2\n",
    "    Mar = year * 100 + 3\n",
    "    Apr = year * 100 + 4\n",
    "    May = year * 100 + 5\n",
    "    Jun = year * 100 + 6\n",
    "    Jul = year * 100 + 7\n",
    "    Aug = year * 100 + 8\n",
    "    Sept = year * 100 + 9\n",
    "    Oct = year * 100 + 10\n",
    "    Nov = year * 100 + 11\n",
    "    Dec = year * 100 + 12\n",
    "\n",
    "    # We can also define a list of these numerical Months:\n",
    "    # Again, these will be in format like Jan = 202101.\n",
    "    Months = [Jan, Feb, Mar, Apr, May, Jun, Jul, Aug, Sept, Oct, Nov, Dec]\n",
    "\n",
    "    # ---------Set the executable path and initialize the chrome browser in splinter -------\n",
    "    executable_path = {'executable_path': 'C:/webdrivers/chromedriver'}\n",
    "    browser = Browser('chrome', **executable_path)\n",
    "\n",
    "    # --------------------------- LOGIN ------------------------------------------\n",
    "    # ---Set Variables for login:\n",
    "    Page_usrname = 'stmreport'\n",
    "    Page_pword = 'stmreport'\n",
    "\n",
    "    attempts = 0\n",
    "\n",
    "    # Go to BFI login page:\n",
    "    browser.visit('https://fleetinventory.com')\n",
    "\n",
    "    #Find the username and password boxes and fill them in:\n",
    "    browser.find_by_id('username').fill(Page_usrname)\n",
    "    browser.find_by_id('password').fill(Page_pword)\n",
    "    # Click on login button:\n",
    "    browser.find_by_name('submit').first.click()\n",
    "\n",
    "    # ---------------- Navigate to the NRT Summary page ---------------------------\n",
    "    # Click on \"Reporting\" tab and then click \"NRT Summary\":\n",
    "    time.sleep(3)\n",
    "    browser.find_by_text('Reporting', wait_time=4).first.click()\n",
    "    browser.find_by_text('NRT Summary', wait_time=4).first.click()\n",
    "    time.sleep(10)\n",
    "\n",
    "    # Click on the \"Report Profile\" drop down box.  This will give you options from saved profiles you can choose from (for example, RR-UPS SCRAP SUMMARY)\n",
    "    browser.find_by_id('id_report_profile', wait_time=6).first.click()\n",
    "\n",
    "    # ----------------- To select the region on the BFI site, we'll SELECT ONE OF THE SAVED TEMPLATES FROM THE DROP-DOWN WE JUST CLICKED ON -----------------\n",
    "    time.sleep(2)\n",
    "    browser.find_by_text('LONESTAR NRT SUMMARY WALTON REPORT', wait_time=10).first.click()\n",
    "    time.sleep(15)\n",
    "\n",
    "    while attempts < 4:\n",
    "        attempts += 1\n",
    "\n",
    "        browser.find_by_id('id_date_range', wait_time=15).first.click()\n",
    "        browser.find_by_text('Range', wait_time=1).first.click()\n",
    "\n",
    "\n",
    "        # ------------- To fill in the date range on the BFI site, we'll first need to define Start and End Date variables for each month --------------\n",
    "        January_Start = f'01-01-{year}'\n",
    "        January_End = f'01-31-{year}'\n",
    "\n",
    "        February_Start = f'02-01-{year}'\n",
    "        # ----------------------\n",
    "        #Adjust for Leap year:\n",
    "        if (year % 400 == 0) and (year % 100 != 0) and (year % 4 != 0): \n",
    "            # (If all the above are true, it's a leap year)\n",
    "            February_End = f'02-29-{year}'\n",
    "        else:\n",
    "            February_End = f'02-28-{year}'\n",
    "        # ----------------------\n",
    "\n",
    "        March_Start = f'03-01-{year}'\n",
    "        March_End = f'03-31-{year}'\n",
    "\n",
    "        April_Start = f'04-01-{year}'\n",
    "        April_End = f'04-30-{year}'\n",
    "\n",
    "        May_Start = f'05-01-{year}'\n",
    "        May_End = f'05-31-{year}'\n",
    "\n",
    "        June_Start = f'06-01-{year}'\n",
    "        June_End = f'06-30-{year}'\n",
    "\n",
    "        July_Start = f'07-01-{year}'\n",
    "        July_End = f'07-31-{year}'\n",
    "\n",
    "        August_Start = f'08-01-{year}'\n",
    "        August_End = f'08-31-{year}'\n",
    "\n",
    "        September_Start = f'09-01-{year}'\n",
    "        September_End = f'09-30-{year}'\n",
    "\n",
    "        October_Start = f'10-01-{year}'\n",
    "        October_End = f'10-31-{year}'\n",
    "\n",
    "        November_Start = f'11-01-{year}'\n",
    "        November_End = f'11-30-{year}'\n",
    "\n",
    "        December_Start = f'12-01-{year}'\n",
    "        December_End = f'12-31-{year}'\n",
    "\n",
    "        # ------ Create a List of lists.  The inner lists will each be for each month's start, end, and number (for instacn Jan's number could be 202101 if 2021 is year).\n",
    "        Months_Start_End_Numerical = [[January_Start, January_End, Jan],\n",
    "                                    [February_Start, February_End, Feb],\n",
    "                                    [March_Start, March_End, Mar],\n",
    "                                    [April_Start, April_End, Apr],\n",
    "                                    [May_Start, May_End, May],\n",
    "                                    [June_Start, June_End, Jun], \n",
    "                                    [July_Start, July_End, Jul],\n",
    "                                    [August_Start, August_End, Aug],\n",
    "                                    [September_Start,September_End, Sept],\n",
    "                                    [October_Start, October_End, Oct], \n",
    "                                    [November_Start, November_End, Nov], \n",
    "                                    [December_Start, December_End, Dec]]\n",
    "\n",
    "        #Give the webpage a moment to continue loading:\n",
    "        time.sleep(2)\n",
    "        prompt = browser.get_alert()\n",
    "        # Now loop through the list of lists to download the CSVs for only the months that have been completed (Current_Month > month_abbr)\n",
    "        Was_Successful = True\n",
    "        for start, end, month_as_YYYYMM in Months_Start_End_Numerical:\n",
    "            if Current_Month > month_as_YYYYMM:\n",
    "                try:\n",
    "                    # Fill in the date range for the NRT CSV:\n",
    "                    time.sleep(2)\n",
    "                    browser.find_by_id('id_start_date', wait_time=4).fill(start)\n",
    "                    browser.find_by_id('id_end_date', wait_time=4).fill(end)\n",
    "                    # Click the \"run report\" button to download the NRT CSV\n",
    "                    browser.find_by_id('form_submit').first.click()\n",
    "                    # Give the dowload 2 seconds to complete:\n",
    "                    time.sleep(1)\n",
    "                    # Move the file from \"downloads\" folder \n",
    "                    # and rename it from nrt_analysis.csv to specify the region and date\n",
    "                    original = r'C:/Users/alex.conerly/Downloads/nrt_analysis.csv'\n",
    "                    target = f'{os.getcwd()}/NRT_CSVs_BFI_SCRAPE/LONESTAR_NRT_{month_as_YYYYMM}.csv'\n",
    "\n",
    "                    # Attempt to move the file\n",
    "                    shutil.move(original,target)\n",
    "                    time.sleep(1)\n",
    "\n",
    "                except:\n",
    "                    print('FileNotFoundError, likely because page did not fully load')\n",
    "                    Was_Successful = False\n",
    "                    break\n",
    "\n",
    "        if Was_Successful == True:\n",
    "            break\n",
    "\n",
    "    # Once done, logout and quit the browser:\n",
    "    browser.find_by_id('logout').first.click()\n",
    "    browser.quit()"
   ]
  },
  {
   "cell_type": "markdown",
   "metadata": {},
   "source": [
    "## Now that we've scraped and imported the NRT data for two years and saved them as CSVs, we'll loop through both years again\n",
    "## and format the data to prepare it for html and also graphing.  Of course, html will only show the current year.  The graph will show both."
   ]
  },
  {
   "cell_type": "code",
   "execution_count": 29,
   "metadata": {},
   "outputs": [
    {
     "name": "stderr",
     "output_type": "stream",
     "text": [
      "<ipython-input-29-6a5b0bbe6914>:464: SettingWithCopyWarning:\n",
      "\n",
      "\n",
      "A value is trying to be set on a copy of a slice from a DataFrame.\n",
      "Try using .loc[row_indexer,col_indexer] = value instead\n",
      "\n",
      "See the caveats in the documentation: https://pandas.pydata.org/pandas-docs/stable/user_guide/indexing.html#returning-a-view-versus-a-copy\n",
      "\n"
     ]
    },
    {
     "data": {
      "text/html": [
       "<div>\n",
       "<style scoped>\n",
       "    .dataframe tbody tr th:only-of-type {\n",
       "        vertical-align: middle;\n",
       "    }\n",
       "\n",
       "    .dataframe tbody tr th {\n",
       "        vertical-align: top;\n",
       "    }\n",
       "\n",
       "    .dataframe thead th {\n",
       "        text-align: right;\n",
       "    }\n",
       "</style>\n",
       "<table border=\"1\" class=\"dataframe\">\n",
       "  <thead>\n",
       "    <tr style=\"text-align: right;\">\n",
       "      <th></th>\n",
       "      <th>NRT Code</th>\n",
       "      <th>Description</th>\n",
       "      <th>YTD</th>\n",
       "      <th>JAN</th>\n",
       "      <th>FEB</th>\n",
       "      <th>MAR</th>\n",
       "      <th>APR</th>\n",
       "      <th>MAY</th>\n",
       "      <th>JUN</th>\n",
       "      <th>JUL</th>\n",
       "      <th>AUG</th>\n",
       "      <th>SEPT</th>\n",
       "      <th>OCT</th>\n",
       "    </tr>\n",
       "  </thead>\n",
       "  <tbody>\n",
       "    <tr>\n",
       "      <th>0</th>\n",
       "      <td>2002</td>\n",
       "      <td>Sidewall Cut(s)/Snag(s)</td>\n",
       "      <td>27</td>\n",
       "      <td>9</td>\n",
       "      <td>9</td>\n",
       "      <td>1</td>\n",
       "      <td>2</td>\n",
       "      <td>0</td>\n",
       "      <td>1</td>\n",
       "      <td>0</td>\n",
       "      <td>1</td>\n",
       "      <td>0</td>\n",
       "      <td>4</td>\n",
       "    </tr>\n",
       "    <tr>\n",
       "      <th>1</th>\n",
       "      <td>2005</td>\n",
       "      <td>Run to Destruction</td>\n",
       "      <td>0</td>\n",
       "      <td>0</td>\n",
       "      <td>0</td>\n",
       "      <td>0</td>\n",
       "      <td>0</td>\n",
       "      <td>0</td>\n",
       "      <td>0</td>\n",
       "      <td>0</td>\n",
       "      <td>0</td>\n",
       "      <td>0</td>\n",
       "      <td>0</td>\n",
       "    </tr>\n",
       "    <tr>\n",
       "      <th>2</th>\n",
       "      <td>2004</td>\n",
       "      <td>Run Under-Inflated</td>\n",
       "      <td>2</td>\n",
       "      <td>0</td>\n",
       "      <td>0</td>\n",
       "      <td>1</td>\n",
       "      <td>1</td>\n",
       "      <td>0</td>\n",
       "      <td>0</td>\n",
       "      <td>0</td>\n",
       "      <td>0</td>\n",
       "      <td>0</td>\n",
       "      <td>0</td>\n",
       "    </tr>\n",
       "    <tr>\n",
       "      <th>3</th>\n",
       "      <td>2101</td>\n",
       "      <td>Bead Damage - Mount/Dismount R</td>\n",
       "      <td>0</td>\n",
       "      <td>0</td>\n",
       "      <td>0</td>\n",
       "      <td>0</td>\n",
       "      <td>0</td>\n",
       "      <td>0</td>\n",
       "      <td>0</td>\n",
       "      <td>0</td>\n",
       "      <td>0</td>\n",
       "      <td>0</td>\n",
       "      <td>0</td>\n",
       "    </tr>\n",
       "    <tr>\n",
       "      <th>4</th>\n",
       "      <td>2006</td>\n",
       "      <td>Impact Split(s)</td>\n",
       "      <td>6</td>\n",
       "      <td>1</td>\n",
       "      <td>1</td>\n",
       "      <td>0</td>\n",
       "      <td>0</td>\n",
       "      <td>0</td>\n",
       "      <td>2</td>\n",
       "      <td>1</td>\n",
       "      <td>1</td>\n",
       "      <td>0</td>\n",
       "      <td>0</td>\n",
       "    </tr>\n",
       "    <tr>\n",
       "      <th>5</th>\n",
       "      <td>2009</td>\n",
       "      <td>Pinch Shock</td>\n",
       "      <td>17</td>\n",
       "      <td>7</td>\n",
       "      <td>2</td>\n",
       "      <td>1</td>\n",
       "      <td>4</td>\n",
       "      <td>1</td>\n",
       "      <td>0</td>\n",
       "      <td>1</td>\n",
       "      <td>0</td>\n",
       "      <td>1</td>\n",
       "      <td>0</td>\n",
       "    </tr>\n",
       "    <tr>\n",
       "      <th>6</th>\n",
       "      <td>2010</td>\n",
       "      <td>Rock Drilling</td>\n",
       "      <td>1</td>\n",
       "      <td>0</td>\n",
       "      <td>0</td>\n",
       "      <td>1</td>\n",
       "      <td>0</td>\n",
       "      <td>0</td>\n",
       "      <td>0</td>\n",
       "      <td>0</td>\n",
       "      <td>0</td>\n",
       "      <td>0</td>\n",
       "      <td>0</td>\n",
       "    </tr>\n",
       "    <tr>\n",
       "      <th>7</th>\n",
       "      <td>2102</td>\n",
       "      <td>Worn Too Far</td>\n",
       "      <td>10</td>\n",
       "      <td>2</td>\n",
       "      <td>3</td>\n",
       "      <td>2</td>\n",
       "      <td>1</td>\n",
       "      <td>0</td>\n",
       "      <td>0</td>\n",
       "      <td>0</td>\n",
       "      <td>1</td>\n",
       "      <td>0</td>\n",
       "      <td>1</td>\n",
       "    </tr>\n",
       "    <tr>\n",
       "      <th>8</th>\n",
       "      <td>2205</td>\n",
       "      <td>Shoulder Separation</td>\n",
       "      <td>10</td>\n",
       "      <td>0</td>\n",
       "      <td>2</td>\n",
       "      <td>5</td>\n",
       "      <td>1</td>\n",
       "      <td>0</td>\n",
       "      <td>1</td>\n",
       "      <td>1</td>\n",
       "      <td>0</td>\n",
       "      <td>0</td>\n",
       "      <td>0</td>\n",
       "    </tr>\n",
       "    <tr>\n",
       "      <th>9</th>\n",
       "      <td>2300</td>\n",
       "      <td>Outside of Fleet Specifications</td>\n",
       "      <td>167</td>\n",
       "      <td>10</td>\n",
       "      <td>17</td>\n",
       "      <td>43</td>\n",
       "      <td>28</td>\n",
       "      <td>8</td>\n",
       "      <td>10</td>\n",
       "      <td>16</td>\n",
       "      <td>7</td>\n",
       "      <td>16</td>\n",
       "      <td>12</td>\n",
       "    </tr>\n",
       "    <tr>\n",
       "      <th>10</th>\n",
       "      <td>2400</td>\n",
       "      <td>Injuries too Close/Large</td>\n",
       "      <td>14</td>\n",
       "      <td>5</td>\n",
       "      <td>2</td>\n",
       "      <td>2</td>\n",
       "      <td>1</td>\n",
       "      <td>2</td>\n",
       "      <td>0</td>\n",
       "      <td>1</td>\n",
       "      <td>0</td>\n",
       "      <td>1</td>\n",
       "      <td>0</td>\n",
       "    </tr>\n",
       "    <tr>\n",
       "      <th>11</th>\n",
       "      <td></td>\n",
       "      <td>OTHER NRT CODES</td>\n",
       "      <td>88</td>\n",
       "      <td>16</td>\n",
       "      <td>21</td>\n",
       "      <td>12</td>\n",
       "      <td>18</td>\n",
       "      <td>7</td>\n",
       "      <td>2</td>\n",
       "      <td>2</td>\n",
       "      <td>4</td>\n",
       "      <td>1</td>\n",
       "      <td>5</td>\n",
       "    </tr>\n",
       "    <tr>\n",
       "      <th>12</th>\n",
       "      <td></td>\n",
       "      <td>TOTAL</td>\n",
       "      <td>342</td>\n",
       "      <td>50</td>\n",
       "      <td>57</td>\n",
       "      <td>68</td>\n",
       "      <td>56</td>\n",
       "      <td>18</td>\n",
       "      <td>16</td>\n",
       "      <td>22</td>\n",
       "      <td>14</td>\n",
       "      <td>19</td>\n",
       "      <td>22</td>\n",
       "    </tr>\n",
       "  </tbody>\n",
       "</table>\n",
       "</div>"
      ],
      "text/plain": [
       "   NRT Code                      Description  YTD  JAN  FEB  MAR  APR  MAY  \\\n",
       "0      2002          Sidewall Cut(s)/Snag(s)   27    9    9    1    2    0   \n",
       "1      2005               Run to Destruction    0    0    0    0    0    0   \n",
       "2      2004               Run Under-Inflated    2    0    0    1    1    0   \n",
       "3      2101   Bead Damage - Mount/Dismount R    0    0    0    0    0    0   \n",
       "4      2006                  Impact Split(s)    6    1    1    0    0    0   \n",
       "5      2009                      Pinch Shock   17    7    2    1    4    1   \n",
       "6      2010                    Rock Drilling    1    0    0    1    0    0   \n",
       "7      2102                     Worn Too Far   10    2    3    2    1    0   \n",
       "8      2205              Shoulder Separation   10    0    2    5    1    0   \n",
       "9      2300  Outside of Fleet Specifications  167   10   17   43   28    8   \n",
       "10     2400         Injuries too Close/Large   14    5    2    2    1    2   \n",
       "11                           OTHER NRT CODES   88   16   21   12   18    7   \n",
       "12                                     TOTAL  342   50   57   68   56   18   \n",
       "\n",
       "    JUN  JUL  AUG  SEPT  OCT  \n",
       "0     1    0    1     0    4  \n",
       "1     0    0    0     0    0  \n",
       "2     0    0    0     0    0  \n",
       "3     0    0    0     0    0  \n",
       "4     2    1    1     0    0  \n",
       "5     0    1    0     1    0  \n",
       "6     0    0    0     0    0  \n",
       "7     0    0    1     0    1  \n",
       "8     1    1    0     0    0  \n",
       "9    10   16    7    16   12  \n",
       "10    0    1    0     1    0  \n",
       "11    2    2    4     1    5  \n",
       "12   16   22   14    19   22  "
      ]
     },
     "execution_count": 29,
     "metadata": {},
     "output_type": "execute_result"
    }
   ],
   "source": [
    "\n",
    "years = [Last_Year, Current_Year]\n",
    "\n",
    "for year in years:\n",
    "\n",
    "    Jan = year * 100 + 1\n",
    "    Feb = year * 100 + 2\n",
    "    Mar = year * 100 + 3\n",
    "    Apr = year * 100 + 4\n",
    "    May = year * 100 + 5\n",
    "    Jun = year * 100 + 6\n",
    "    Jul = year * 100 + 7\n",
    "    Aug = year * 100 + 8\n",
    "    Sept = year * 100 + 9\n",
    "    Oct = year * 100 + 10\n",
    "    Nov = year * 100 + 11\n",
    "    Dec = year * 100 + 12\n",
    "\n",
    "\n",
    "    # JAN\n",
    "    if Jan < Current_Month:\n",
    "        Nrt_JAN = pd.read_csv(f'NRT_CSVs_BFI_SCRAPE/LONESTAR_NRT_{Jan}.csv', skiprows=24)\n",
    "        # Get rid of the Top 25 unecessary rows and the bottom 2 rows for \"Total\" and \"Grand Total\"\n",
    "        Nrt_JAN = Nrt_JAN.iloc[:-2, :]\n",
    "        # Get rid of the \"% of Total\" column.  We will calculate percentages manually later after merging all month dfs etc.\n",
    "        Nrt_JAN = Nrt_JAN.drop(columns=[r'% of Total'])\n",
    "        # Rename the \"Total\" column to the month from which this NRT data was derived:\n",
    "        Nrt_JAN = Nrt_JAN.rename(columns = {'Total': 'JAN'})\n",
    "\n",
    "    # For all the rest of the months, do the same as above BUT drop the Description column to \n",
    "    # prepare for merging with the January df (which already has the Description column):\n",
    "    # FEB\n",
    "    if Feb < Current_Month:\n",
    "        Nrt_FEB = pd.read_csv(f'NRT_CSVs_BFI_SCRAPE/LONESTAR_NRT_{Feb}.csv', skiprows=24)\n",
    "        Nrt_FEB = Nrt_FEB.iloc[:-2, :]\n",
    "        Nrt_FEB = Nrt_FEB.drop(columns=[r'% of Total'])\n",
    "        Nrt_FEB = Nrt_FEB.rename(columns = {'Total': 'FEB'})\n",
    "        Nrt_FEB = Nrt_FEB.drop(columns = ['Description'])\n",
    "\n",
    "    # MAR\n",
    "    if Mar < Current_Month:\n",
    "        Nrt_MAR = pd.read_csv(f'NRT_CSVs_BFI_SCRAPE/LONESTAR_NRT_{Mar}.csv', skiprows=24)\n",
    "        Nrt_MAR = Nrt_MAR.iloc[:-2, :]\n",
    "        Nrt_MAR = Nrt_MAR.drop(columns=[r'% of Total'])\n",
    "        Nrt_MAR = Nrt_MAR.rename(columns = {'Total': 'MAR'})\n",
    "        Nrt_MAR = Nrt_MAR.drop(columns = ['Description'])\n",
    "\n",
    "    # APR\n",
    "    if Apr < Current_Month:\n",
    "        Nrt_APR = pd.read_csv(f'NRT_CSVs_BFI_SCRAPE/LONESTAR_NRT_{Apr}.csv', skiprows=24)\n",
    "        Nrt_APR = Nrt_APR.iloc[:-2, :]\n",
    "        Nrt_APR = Nrt_APR.drop(columns=[r'% of Total'])\n",
    "        Nrt_APR = Nrt_APR.rename(columns = {'Total': 'APR'})\n",
    "        Nrt_APR = Nrt_APR.drop(columns = ['Description'])\n",
    "\n",
    "    # MAY\n",
    "    if May < Current_Month:\n",
    "        Nrt_MAY = pd.read_csv(f'NRT_CSVs_BFI_SCRAPE/LONESTAR_NRT_{May}.csv', skiprows=24)\n",
    "        Nrt_MAY = Nrt_MAY.iloc[:-2, :]\n",
    "        Nrt_MAY = Nrt_MAY.drop(columns=[r'% of Total'])\n",
    "        Nrt_MAY = Nrt_MAY.rename(columns = {'Total': 'MAY'})\n",
    "        Nrt_MAY = Nrt_MAY.drop(columns = ['Description'])\n",
    "\n",
    "    # JUN\n",
    "    if Jun < Current_Month:\n",
    "        Nrt_JUN = pd.read_csv(f'NRT_CSVs_BFI_SCRAPE/LONESTAR_NRT_{Jun}.csv', skiprows=24)\n",
    "        Nrt_JUN = Nrt_JUN.iloc[:-2, :]\n",
    "        Nrt_JUN = Nrt_JUN.drop(columns=[r'% of Total'])\n",
    "        Nrt_JUN = Nrt_JUN.rename(columns = {'Total': 'JUN'})\n",
    "        Nrt_JUN = Nrt_JUN.drop(columns = ['Description'])\n",
    "\n",
    "    # JUL\n",
    "    if Jul < Current_Month:\n",
    "        Nrt_JUL = pd.read_csv(f'NRT_CSVs_BFI_SCRAPE/LONESTAR_NRT_{Jul}.csv', skiprows=24)\n",
    "        Nrt_JUL = Nrt_JUL.iloc[:-2, :]\n",
    "        Nrt_JUL = Nrt_JUL.drop(columns=[r'% of Total'])\n",
    "        Nrt_JUL = Nrt_JUL.rename(columns = {'Total': 'JUL'})\n",
    "        Nrt_JUL = Nrt_JUL.drop(columns = ['Description'])\n",
    "\n",
    "    # AUG\n",
    "    if Aug < Current_Month:\n",
    "        Nrt_AUG = pd.read_csv(f'NRT_CSVs_BFI_SCRAPE/LONESTAR_NRT_{Aug}.csv', skiprows=24)\n",
    "        Nrt_AUG = Nrt_AUG.iloc[:-2, :]\n",
    "        Nrt_AUG = Nrt_AUG.drop(columns=[r'% of Total'])\n",
    "        Nrt_AUG = Nrt_AUG.rename(columns = {'Total': 'AUG'})\n",
    "        Nrt_AUG = Nrt_AUG.drop(columns = ['Description'])\n",
    "\n",
    "    # SEPT\n",
    "    if Sept < Current_Month:\n",
    "        Nrt_SEPT = pd.read_csv(f'NRT_CSVs_BFI_SCRAPE/LONESTAR_NRT_{Sept}.csv', skiprows=24)\n",
    "        Nrt_SEPT = Nrt_SEPT.iloc[:-2, :]\n",
    "        Nrt_SEPT = Nrt_SEPT.drop(columns=[r'% of Total'])\n",
    "        Nrt_SEPT = Nrt_SEPT.rename(columns = {'Total': 'SEPT'})\n",
    "        Nrt_SEPT = Nrt_SEPT.drop(columns = ['Description'])\n",
    "\n",
    "    # OCT\n",
    "    if Oct < Current_Month:\n",
    "        Nrt_OCT = pd.read_csv(f'NRT_CSVs_BFI_SCRAPE/LONESTAR_NRT_{Oct}.csv', skiprows=24)\n",
    "        Nrt_OCT = Nrt_OCT.iloc[:-2, :]\n",
    "        Nrt_OCT = Nrt_OCT.drop(columns=[r'% of Total'])\n",
    "        Nrt_OCT = Nrt_OCT.rename(columns = {'Total': 'OCT'})\n",
    "        Nrt_OCT = Nrt_OCT.drop(columns = ['Description'])\n",
    "\n",
    "    # NOV\n",
    "    if Nov < Current_Month:\n",
    "        Nrt_NOV = pd.read_csv(f'NRT_CSVs_BFI_SCRAPE/LONESTAR_NRT_{Nov}.csv', skiprows=24)\n",
    "        Nrt_NOV = Nrt_NOV.iloc[:-2, :]\n",
    "        Nrt_NOV = Nrt_NOV.drop(columns=[r'% of Total'])\n",
    "        Nrt_NOV = Nrt_NOV.rename(columns = {'Total': 'NOV'})\n",
    "        Nrt_NOV = Nrt_NOV.drop(columns = ['Description'])\n",
    "\n",
    "    # DEC\n",
    "    if Dec < Current_Month:\n",
    "        Nrt_DEC = pd.read_csv(f'NRT_CSVs_BFI_SCRAPE/LONESTAR_NRT_{Dec}.csv', skiprows=24)\n",
    "        Nrt_DEC = Nrt_DEC.iloc[:-2, :]\n",
    "        Nrt_DEC = Nrt_DEC.drop(columns=[r'% of Total'])\n",
    "        Nrt_DEC = Nrt_DEC.rename(columns = {'Total': 'DEC'})\n",
    "        Nrt_DEC = Nrt_DEC.drop(columns = ['Description'])\n",
    "\n",
    "\n",
    "    # Merge each month if it exists:\n",
    "    if Current_Month > Jan:\n",
    "        Lonestar_Nrt_Merged = Nrt_JAN\n",
    "    if Current_Month > Feb:\n",
    "        Lonestar_Nrt_Merged = pd.merge(Lonestar_Nrt_Merged, Nrt_FEB, how='outer', on=\"NRT Code\") # Merged JAN - FEB\n",
    "    if Current_Month > Mar:\n",
    "        Lonestar_Nrt_Merged = pd.merge(Lonestar_Nrt_Merged, Nrt_MAR, how='outer', on=\"NRT Code\") # Merged JAN - MAR\n",
    "    if Current_Month > Apr:\n",
    "        Lonestar_Nrt_Merged = pd.merge(Lonestar_Nrt_Merged, Nrt_APR, how='outer', on=\"NRT Code\") # Merged JAN - APR\n",
    "    if Current_Month > May:\n",
    "        Lonestar_Nrt_Merged = pd.merge(Lonestar_Nrt_Merged, Nrt_MAY, how='outer', on=\"NRT Code\") # Merged JAN - MAY\n",
    "    if Current_Month > Jun:\n",
    "        Lonestar_Nrt_Merged = pd.merge(Lonestar_Nrt_Merged, Nrt_JUN, how='outer', on=\"NRT Code\") # Merged JAN - JUN\n",
    "    if Current_Month > Jul:\n",
    "        Lonestar_Nrt_Merged = pd.merge(Lonestar_Nrt_Merged, Nrt_JUL, how='outer', on=\"NRT Code\") # Merged JAN - JUL\n",
    "    if Current_Month > Aug:\n",
    "        Lonestar_Nrt_Merged = pd.merge(Lonestar_Nrt_Merged, Nrt_AUG, how='outer', on=\"NRT Code\") # Merged JAN - AUG\n",
    "    if Current_Month > Sept:\n",
    "        Lonestar_Nrt_Merged = pd.merge(Lonestar_Nrt_Merged, Nrt_SEPT, how='outer', on=\"NRT Code\") # Merged JAN - SEPT\n",
    "    if Current_Month > Oct:\n",
    "        Lonestar_Nrt_Merged = pd.merge(Lonestar_Nrt_Merged, Nrt_OCT, how='outer', on=\"NRT Code\") # Merged JAN - OCT\n",
    "    if Current_Month > Nov:\n",
    "        Lonestar_Nrt_Merged = pd.merge(Lonestar_Nrt_Merged, Nrt_NOV, how='outer', on=\"NRT Code\") # Merged JAN - NOV\n",
    "    if Current_Month > Dec:\n",
    "        Lonestar_Nrt_Merged = pd.merge(Lonestar_Nrt_Merged, Nrt_DEC, how='outer', on=\"NRT Code\") # Merged JAN - DEC\n",
    "\n",
    "    Lonestar_Nrt_Merged = Lonestar_Nrt_Merged.fillna(0)\n",
    "\n",
    "\n",
    "\n",
    "    # Create the YTD COlUMN by adding all the months (if they have) completed:\n",
    "    if Current_Month > Dec:\n",
    "        Lonestar_Nrt_Merged['YTD'] = Lonestar_Nrt_Merged['JAN'] + \\\n",
    "                            Lonestar_Nrt_Merged['FEB'] + \\\n",
    "                            Lonestar_Nrt_Merged['MAR'] + \\\n",
    "                            Lonestar_Nrt_Merged['APR'] + \\\n",
    "                            Lonestar_Nrt_Merged['MAY'] + \\\n",
    "                            Lonestar_Nrt_Merged['JUN'] + \\\n",
    "                            Lonestar_Nrt_Merged['JUL'] + \\\n",
    "                            Lonestar_Nrt_Merged['AUG'] + \\\n",
    "                            Lonestar_Nrt_Merged['SEPT'] + \\\n",
    "                            Lonestar_Nrt_Merged['OCT'] + \\\n",
    "                            Lonestar_Nrt_Merged['NOV'] + \\\n",
    "                            Lonestar_Nrt_Merged['DEC']\n",
    "    elif Current_Month > Nov:\n",
    "        Lonestar_Nrt_Merged['YTD'] = Lonestar_Nrt_Merged['JAN'] + \\\n",
    "                            Lonestar_Nrt_Merged['FEB'] + \\\n",
    "                            Lonestar_Nrt_Merged['MAR'] + \\\n",
    "                            Lonestar_Nrt_Merged['APR'] + \\\n",
    "                            Lonestar_Nrt_Merged['MAY'] + \\\n",
    "                            Lonestar_Nrt_Merged['JUN'] + \\\n",
    "                            Lonestar_Nrt_Merged['JUL'] + \\\n",
    "                            Lonestar_Nrt_Merged['AUG'] + \\\n",
    "                            Lonestar_Nrt_Merged['SEPT'] + \\\n",
    "                            Lonestar_Nrt_Merged['OCT'] + \\\n",
    "                            Lonestar_Nrt_Merged['NOV']\n",
    "    elif Current_Month > Oct:\n",
    "        Lonestar_Nrt_Merged['YTD'] = Lonestar_Nrt_Merged['JAN'] + \\\n",
    "                            Lonestar_Nrt_Merged['FEB'] + \\\n",
    "                            Lonestar_Nrt_Merged['MAR'] + \\\n",
    "                            Lonestar_Nrt_Merged['APR'] + \\\n",
    "                            Lonestar_Nrt_Merged['MAY'] + \\\n",
    "                            Lonestar_Nrt_Merged['JUN'] + \\\n",
    "                            Lonestar_Nrt_Merged['JUL'] + \\\n",
    "                            Lonestar_Nrt_Merged['AUG'] + \\\n",
    "                            Lonestar_Nrt_Merged['SEPT'] + \\\n",
    "                            Lonestar_Nrt_Merged['OCT']\n",
    "    elif Current_Month > Sept:\n",
    "        Lonestar_Nrt_Merged['YTD'] = Lonestar_Nrt_Merged['JAN'] + \\\n",
    "                            Lonestar_Nrt_Merged['FEB'] + \\\n",
    "                            Lonestar_Nrt_Merged['MAR'] + \\\n",
    "                            Lonestar_Nrt_Merged['APR'] + \\\n",
    "                            Lonestar_Nrt_Merged['MAY'] + \\\n",
    "                            Lonestar_Nrt_Merged['JUN'] + \\\n",
    "                            Lonestar_Nrt_Merged['JUL'] + \\\n",
    "                            Lonestar_Nrt_Merged['AUG'] + \\\n",
    "                            Lonestar_Nrt_Merged['SEPT']\n",
    "    elif Current_Month > Aug:\n",
    "        Lonestar_Nrt_Merged['YTD'] = Lonestar_Nrt_Merged['JAN'] + \\\n",
    "                            Lonestar_Nrt_Merged['FEB'] + \\\n",
    "                            Lonestar_Nrt_Merged['MAR'] + \\\n",
    "                            Lonestar_Nrt_Merged['APR'] + \\\n",
    "                            Lonestar_Nrt_Merged['MAY'] + \\\n",
    "                            Lonestar_Nrt_Merged['JUN'] + \\\n",
    "                            Lonestar_Nrt_Merged['JUL'] + \\\n",
    "                            Lonestar_Nrt_Merged['AUG']\n",
    "    elif Current_Month > Jul:\n",
    "        Lonestar_Nrt_Merged['YTD'] = Lonestar_Nrt_Merged['JAN'] + \\\n",
    "                            Lonestar_Nrt_Merged['FEB'] + \\\n",
    "                            Lonestar_Nrt_Merged['MAR'] + \\\n",
    "                            Lonestar_Nrt_Merged['APR'] + \\\n",
    "                            Lonestar_Nrt_Merged['MAY'] + \\\n",
    "                            Lonestar_Nrt_Merged['JUN'] + \\\n",
    "                            Lonestar_Nrt_Merged['JUL']\n",
    "    elif Current_Month > Jun:\n",
    "        Lonestar_Nrt_Merged['YTD'] = Lonestar_Nrt_Merged['JAN'] + \\\n",
    "                            Lonestar_Nrt_Merged['FEB'] + \\\n",
    "                            Lonestar_Nrt_Merged['MAR'] + \\\n",
    "                            Lonestar_Nrt_Merged['APR'] + \\\n",
    "                            Lonestar_Nrt_Merged['MAY'] + \\\n",
    "                            Lonestar_Nrt_Merged['JUN']\n",
    "    elif Current_Month > May:\n",
    "        Lonestar_Nrt_Merged['YTD'] = Lonestar_Nrt_Merged['JAN'] + \\\n",
    "                            Lonestar_Nrt_Merged['FEB'] + \\\n",
    "                            Lonestar_Nrt_Merged['MAR'] + \\\n",
    "                            Lonestar_Nrt_Merged['APR'] + \\\n",
    "                            Lonestar_Nrt_Merged['MAY']\n",
    "    elif Current_Month > Apr:\n",
    "        # Lonestar_Nrt_Merged['YTD'] = Lonestar_Nrt_Merged.sum(numeric_only=True)\n",
    "        Lonestar_Nrt_Merged['YTD'] = Lonestar_Nrt_Merged['JAN'] + \\\n",
    "                            Lonestar_Nrt_Merged['FEB'] + \\\n",
    "                            Lonestar_Nrt_Merged['MAR'] + \\\n",
    "                            Lonestar_Nrt_Merged['APR']\n",
    "    elif Current_Month > Mar:\n",
    "        Lonestar_Nrt_Merged['YTD'] = Lonestar_Nrt_Merged['JAN'] + \\\n",
    "                            Lonestar_Nrt_Merged['FEB'] + \\\n",
    "                            Lonestar_Nrt_Merged['MAR']\n",
    "    elif Current_Month > Feb:\n",
    "        Lonestar_Nrt_Merged['YTD'] = Lonestar_Nrt_Merged['JAN'] + \\\n",
    "                            Lonestar_Nrt_Merged['FEB']\n",
    "    elif Current_Month >= Jan:\n",
    "        Lonestar_Nrt_Merged['YTD'] = Lonestar_Nrt_Merged['JAN']\n",
    "\n",
    "    # Reorder YTD to be right after description:\n",
    "    if Current_Month > Dec:\n",
    "        Lonestar_Nrt_Merged = Lonestar_Nrt_Merged[['NRT Code', \"Description\", 'YTD', 'JAN', 'FEB', 'MAR', 'APR', 'MAY', 'JUN', 'JUL', 'AUG', 'SEPT', 'OCT', 'NOV', 'DEC']]\n",
    "    elif Current_Month > Nov:\n",
    "        Lonestar_Nrt_Merged = Lonestar_Nrt_Merged[['NRT Code', \"Description\", 'YTD', 'JAN', 'FEB', 'MAR', 'APR', 'MAY', 'JUN', 'JUL', 'AUG', 'SEPT', 'OCT', 'NOV']]\n",
    "    elif Current_Month > Oct:\n",
    "        Lonestar_Nrt_Merged = Lonestar_Nrt_Merged[['NRT Code', \"Description\", 'YTD', 'JAN', 'FEB', 'MAR', 'APR', 'MAY', 'JUN', 'JUL', 'AUG', 'SEPT', 'OCT']]\n",
    "    elif Current_Month > Sept:\n",
    "        Lonestar_Nrt_Merged = Lonestar_Nrt_Merged[['NRT Code', \"Description\", 'YTD', 'JAN', 'FEB', 'MAR', 'APR', 'MAY', 'JUN', 'JUL', 'AUG', 'SEPT']]\n",
    "    elif Current_Month > Aug:\n",
    "        Lonestar_Nrt_Merged = Lonestar_Nrt_Merged[['NRT Code', \"Description\", 'YTD', 'JAN', 'FEB', 'MAR', 'APR', 'MAY', 'JUN', 'JUL', 'AUG']]\n",
    "    elif Current_Month > Jul:\n",
    "        Lonestar_Nrt_Merged = Lonestar_Nrt_Merged[['NRT Code', \"Description\", 'YTD', 'JAN', 'FEB', 'MAR', 'APR', 'MAY', 'JUN', 'JUL']]\n",
    "    elif Current_Month > Jun:\n",
    "        Lonestar_Nrt_Merged = Lonestar_Nrt_Merged[['NRT Code', \"Description\", 'YTD', 'JAN', 'FEB', 'MAR', 'APR', 'MAY', 'JUN']]\n",
    "    elif Current_Month > May:\n",
    "        Lonestar_Nrt_Merged = Lonestar_Nrt_Merged[['NRT Code', \"Description\", 'YTD', 'JAN', 'FEB', 'MAR', 'APR', 'MAY']]\n",
    "    elif Current_Month > Apr:\n",
    "        Lonestar_Nrt_Merged = Lonestar_Nrt_Merged[['NRT Code', \"Description\", 'YTD', 'JAN', 'FEB', 'MAR', 'APR']]\n",
    "    elif Current_Month > Mar:\n",
    "        Lonestar_Nrt_Merged = Lonestar_Nrt_Merged[['NRT Code', \"Description\", 'YTD', 'JAN', 'FEB', 'MAR']]\n",
    "    elif Current_Month > Feb:\n",
    "        Lonestar_Nrt_Merged = Lonestar_Nrt_Merged[['NRT Code', \"Description\", 'YTD', 'JAN', 'FEB']]\n",
    "    elif Current_Month >= Jan:\n",
    "        Lonestar_Nrt_Merged = Lonestar_Nrt_Merged[['NRT Code', \"Description\", 'YTD', 'JAN']]\n",
    "\n",
    "\n",
    "    # Sort Nrt Codes in order.  Then Rename Missing Descriptions:\n",
    "    Lonestar_Nrt_Merged = Lonestar_Nrt_Merged.sort_values(['NRT Code'])\n",
    "    Lonestar_Nrt_Merged = Lonestar_Nrt_Merged.reset_index().drop(columns=['index'])\n",
    "\n",
    "    # In some cases, where a particular NRT Code had all zeros, the \"Description\" column value will have a '0'\n",
    "    # Therefore, we will manually ensure each NRT Code has the correct description\n",
    "    # by replacing whatever was there prior with the correct Description for that NRT Code. \n",
    "    # Note, we won't fix EVERY POSSIBLE Description because these are the only NRT Code names we'll \n",
    "    # need for all the for the NRT Summary Table.\n",
    "\n",
    "    Lonestar_Nrt_Merged.loc[Lonestar_Nrt_Merged['NRT Code'] == '2002', 'Description'] = 'Sidewall Cut(s)/Snag(s)'\n",
    "    Lonestar_Nrt_Merged.loc[Lonestar_Nrt_Merged['NRT Code'] == '2004', 'Description'] = 'Run Under-Inflated'\n",
    "    Lonestar_Nrt_Merged.loc[Lonestar_Nrt_Merged['NRT Code'] == '2005', 'Description'] = 'Run To Destruction'\n",
    "    Lonestar_Nrt_Merged.loc[Lonestar_Nrt_Merged['NRT Code'] == '2006', 'Description'] = 'Impact Split(s)'\n",
    "    Lonestar_Nrt_Merged.loc[Lonestar_Nrt_Merged['NRT Code'] == '2009', 'Description'] = 'Pinch Shock'\n",
    "    Lonestar_Nrt_Merged.loc[Lonestar_Nrt_Merged['NRT Code'] == '2010', 'Description'] = 'Rock Drilling'\n",
    "    Lonestar_Nrt_Merged.loc[Lonestar_Nrt_Merged['NRT Code'] == '2101', 'Description'] = 'Bead Damage - Mount/Dismount R'\n",
    "    Lonestar_Nrt_Merged.loc[Lonestar_Nrt_Merged['NRT Code'] == '2102', 'Description'] = 'Worn Too Far'\n",
    "    Lonestar_Nrt_Merged.loc[Lonestar_Nrt_Merged['NRT Code'] == '2205', 'Description'] = 'Shoulder Separation'\n",
    "\n",
    "\n",
    "    if '2002' not in Lonestar_Nrt_Merged.values:\n",
    "        line = pd.DataFrame({\"NRT Code\": '2002', \"Description\": 'Sidewall Cut(s)/Snag(s)'}, index=[1.1])\n",
    "        Lonestar_Nrt_Merged = Lonestar_Nrt_Merged.append(line, ignore_index=False)\n",
    "        Lonestar_Nrt_Merged = Lonestar_Nrt_Merged.sort_index().reset_index(drop=True)\n",
    "    if '2004' not in Lonestar_Nrt_Merged.values:\n",
    "        line = pd.DataFrame({\"NRT Code\": '2004', \"Description\": 'Run Under-Inflated'}, index=[2.1])\n",
    "        Lonestar_Nrt_Merged = Lonestar_Nrt_Merged.append(line, ignore_index=False)\n",
    "        Lonestar_Nrt_Merged = Lonestar_Nrt_Merged.sort_index().reset_index(drop=True)\n",
    "    if '2005' not in Lonestar_Nrt_Merged.values:\n",
    "        line = pd.DataFrame({\"NRT Code\": '2005', \"Description\": 'Run to Destruction'}, index=[2.1])\n",
    "        Lonestar_Nrt_Merged = Lonestar_Nrt_Merged.append(line, ignore_index=False)\n",
    "        Lonestar_Nrt_Merged = Lonestar_Nrt_Merged.sort_index().reset_index(drop=True)\n",
    "    if '2006' not in Lonestar_Nrt_Merged.values:\n",
    "        line = pd.DataFrame({\"NRT Code\": '2006', \"Description\": 'Impact Split(s)'}, index=[4.1])\n",
    "        Lonestar_Nrt_Merged = Lonestar_Nrt_Merged.append(line, ignore_index=False)\n",
    "        Lonestar_Nrt_Merged = Lonestar_Nrt_Merged.sort_index().reset_index(drop=True)\n",
    "    if '2009' not in Lonestar_Nrt_Merged.values:\n",
    "        line = pd.DataFrame({\"NRT Code\": '2009', \"Description\": 'Pinch Shock'}, index=[4.1])\n",
    "        Lonestar_Nrt_Merged = Lonestar_Nrt_Merged.append(line, ignore_index=False)\n",
    "        Lonestar_Nrt_Merged = Lonestar_Nrt_Merged.sort_index().reset_index(drop=True)\n",
    "    if '2010' not in Lonestar_Nrt_Merged.values:\n",
    "        line = pd.DataFrame({\"NRT Code\": '2010', \"Description\": 'Rock Drilling'}, index=[4.1])\n",
    "        Lonestar_Nrt_Merged = Lonestar_Nrt_Merged.append(line, ignore_index=False)\n",
    "        Lonestar_Nrt_Merged = Lonestar_Nrt_Merged.sort_index().reset_index(drop=True)\n",
    "    if '2101' not in Lonestar_Nrt_Merged.values:\n",
    "        line = pd.DataFrame({\"NRT Code\": '2101', \"Description\": 'Bead Damage - Mount/Dismount R'}, index=[4.1])\n",
    "        Lonestar_Nrt_Merged = Lonestar_Nrt_Merged.append(line, ignore_index=False)\n",
    "        Lonestar_Nrt_Merged = Lonestar_Nrt_Merged.sort_index().reset_index(drop=True)\n",
    "    if '2102' not in Lonestar_Nrt_Merged.values:\n",
    "        line = pd.DataFrame({\"NRT Code\": '2102', \"Description\": 'Worn Too Far'}, index=[10.1])\n",
    "        Lonestar_Nrt_Merged = Lonestar_Nrt_Merged.append(line, ignore_index=False)\n",
    "        Lonestar_Nrt_Merged = Lonestar_Nrt_Merged.sort_index().reset_index(drop=True)\n",
    "    if '2205' not in Lonestar_Nrt_Merged.values:\n",
    "        line = pd.DataFrame({\"NRT Code\": '2205', \"Description\": 'Shoulder Separation'}, index=[16.1])\n",
    "        Lonestar_Nrt_Merged = Lonestar_Nrt_Merged.append(line, ignore_index=False)\n",
    "        Lonestar_Nrt_Merged = Lonestar_Nrt_Merged.sort_index().reset_index(drop=True)\n",
    "\n",
    "    # -------------------------------------------------\n",
    "    # Here we need to check the df to see if any NRT Code from 2300-2309 (or 2400-2409) exists and if at least one NRT Code doesn't appear to exist, then we will create a placeholder value for the range(s).\n",
    "    # As a placeholder for 2300-2309 (or 2400-2409), we'll use 2300 (or 2400) and run a loop with regex to check if the value occured somewhere and, if so, we won't create a new row.\n",
    "\n",
    "    Is_there_a_2300_based_row = False\n",
    "\n",
    "    for row_number in range(len(Lonestar_Nrt_Merged)):\n",
    "        if re.match('230\\d', Lonestar_Nrt_Merged['NRT Code'].values[row_number]):\n",
    "            Is_there_a_2300_based_row = True\n",
    "\n",
    "    if Is_there_a_2300_based_row == False:\n",
    "        line = pd.DataFrame({\"NRT Code\": '2300', \"Description\": 'Outside of Fleet Specs'}, index=[17.1])\n",
    "        Lonestar_Nrt_Merged = Lonestar_Nrt_Merged.append(line, ignore_index=False)\n",
    "        Lonestar_Nrt_Merged = Lonestar_Nrt_Merged.sort_index().reset_index(drop=True)\n",
    "\n",
    "    Is_there_a_2400_based_row = False\n",
    "\n",
    "    for row_number in range(len(Lonestar_Nrt_Merged)):\n",
    "        if re.match('240\\d', Lonestar_Nrt_Merged['NRT Code'].values[row_number]):\n",
    "            Is_there_a_2400_based_row = True\n",
    "\n",
    "    if Is_there_a_2400_based_row == False:\n",
    "        line = pd.DataFrame({\"NRT Code\": '2400', \"Description\": 'Injuries too Close/Large'}, index=[17.1])\n",
    "        Lonestar_Nrt_Merged = Lonestar_Nrt_Merged.append(line, ignore_index=False)\n",
    "        Lonestar_Nrt_Merged = Lonestar_Nrt_Merged.sort_index().reset_index(drop=True)\n",
    "\n",
    "\n",
    "    # ---------------------------------------------------------------------------------------------------------------------------------------------------------------------\n",
    "    # Group all codes that start with 23** to 2300 and change description to \"Outside of Fleet Specifications\" AND\n",
    "    # Group all codes that start with 24** to 2400 and change description to \"Injuries too Close/Large\"\n",
    "\n",
    "    List_of_2300 = ['2300', '2301', '2302', '2303', '2304', '2305', '2306', '2307', '2308', '2309']\n",
    "    List_of_2400 = ['2400', '2401', '2402', '2403', '2404', '2405', '2406', '2407', '2408', '2409']\n",
    "\n",
    "    # Create two TEMPORARY dfs, one for 2300 based codes and the other for 2400 based codes:\n",
    "    Nrt_2300_df = Lonestar_Nrt_Merged.loc[Lonestar_Nrt_Merged['NRT Code'].isin(List_of_2300)]\n",
    "    Nrt_2400_df = Lonestar_Nrt_Merged.loc[Lonestar_Nrt_Merged['NRT Code'].isin(List_of_2400)]\n",
    "\n",
    "    # Drop all ungrouped 2300 and 2400 based codes from main Nrt df:\n",
    "    Lonestar_Nrt_Merged = Lonestar_Nrt_Merged.loc[~Lonestar_Nrt_Merged[\"NRT Code\"].isin(List_of_2300)]\n",
    "    Lonestar_Nrt_Merged = Lonestar_Nrt_Merged.loc[~Lonestar_Nrt_Merged[\"NRT Code\"].isin(List_of_2400)]\n",
    "\n",
    "    # Set ALL values for the first TEMPORARY df to 2300 and all values for the second TEMPORARY df to 2400:\n",
    "    Nrt_2300_df[\"NRT Code\"] = '2300'\n",
    "    Nrt_2400_df[\"NRT Code\"] = '2400'\n",
    "\n",
    "    # Group all the NRT Codes that are 2300 into ONE (Summed) row... each column will be summed (YTD, JAN, etc):\n",
    "    Nrt_2300_df = Nrt_2300_df.groupby(Nrt_2300_df[\"NRT Code\"]).sum()\n",
    "    Nrt_2300_df = Nrt_2300_df.reset_index()\n",
    "    Nrt_2300_df['Description'] = \"Outside of Fleet Specifications\"\n",
    "\n",
    "    # Group all the NRT Codes that are 2400 into ONE (Summed) row... each column will be summed (YTD, Jan, etc):\n",
    "    Nrt_2400_df = Nrt_2400_df.groupby(Nrt_2400_df[\"NRT Code\"]).sum()\n",
    "    Nrt_2400_df = Nrt_2400_df.reset_index()\n",
    "    Nrt_2400_df['Description'] = \"Injuries too Close/Large\"\n",
    "\n",
    "    #---------------------------- REORDER the columns depending on whether the month exists yet:\n",
    "    if Current_Month > Dec:\n",
    "        Nrt_2300_df = Nrt_2300_df[['NRT Code', \"Description\", 'YTD', 'JAN', 'FEB', 'MAR', 'APR', 'MAY', 'JUN', 'JUL', 'AUG', 'SEPT', 'OCT', 'NOV', 'DEC']]\n",
    "        Nrt_2400_df = Nrt_2400_df[['NRT Code', \"Description\", 'YTD', 'JAN', 'FEB', 'MAR', 'APR', 'MAY', 'JUN', 'JUL', 'AUG', 'SEPT', 'OCT', 'NOV', 'DEC']]\n",
    "\n",
    "    elif Current_Month > Nov:\n",
    "        Nrt_2300_df = Nrt_2300_df[['NRT Code', \"Description\", 'YTD', 'JAN', 'FEB', 'MAR', 'APR', 'MAY', 'JUN', 'JUL', 'AUG', 'SEPT', 'OCT', 'NOV']]\n",
    "        Nrt_2400_df = Nrt_2400_df[['NRT Code', \"Description\", 'YTD', 'JAN', 'FEB', 'MAR', 'APR', 'MAY', 'JUN', 'JUL', 'AUG', 'SEPT', 'OCT', 'NOV']]\n",
    "\n",
    "    elif Current_Month > Oct:\n",
    "        Nrt_2300_df = Nrt_2300_df[['NRT Code', \"Description\", 'YTD', 'JAN', 'FEB', 'MAR', 'APR', 'MAY', 'JUN', 'JUL', 'AUG', 'SEPT', 'OCT']]\n",
    "        Nrt_2400_df = Nrt_2400_df[['NRT Code', \"Description\", 'YTD', 'JAN', 'FEB', 'MAR', 'APR', 'MAY', 'JUN', 'JUL', 'AUG', 'SEPT', 'OCT']]\n",
    "\n",
    "    elif Current_Month > Sept:\n",
    "        Nrt_2300_df = Nrt_2300_df[['NRT Code', \"Description\", 'YTD', 'JAN', 'FEB', 'MAR', 'APR', 'MAY', 'JUN', 'JUL', 'AUG', 'SEPT']]\n",
    "        Nrt_2400_df = Nrt_2400_df[['NRT Code', \"Description\", 'YTD', 'JAN', 'FEB', 'MAR', 'APR', 'MAY', 'JUN', 'JUL', 'AUG', 'SEPT']]\n",
    "\n",
    "    elif Current_Month > Aug:\n",
    "        Nrt_2300_df = Nrt_2300_df[['NRT Code', \"Description\", 'YTD', 'JAN', 'FEB', 'MAR', 'APR', 'MAY', 'JUN', 'JUL', 'AUG']]\n",
    "        Nrt_2400_df = Nrt_2400_df[['NRT Code', \"Description\", 'YTD', 'JAN', 'FEB', 'MAR', 'APR', 'MAY', 'JUN', 'JUL', 'AUG']]\n",
    "\n",
    "    elif Current_Month > Jul:\n",
    "        Nrt_2300_df = Nrt_2300_df[['NRT Code', \"Description\", 'YTD', 'JAN', 'FEB', 'MAR', 'APR', 'MAY', 'JUN', 'JUL']]\n",
    "        Nrt_2400_df = Nrt_2400_df[['NRT Code', \"Description\", 'YTD', 'JAN', 'FEB', 'MAR', 'APR', 'MAY', 'JUN', 'JUL']]\n",
    "\n",
    "    elif Current_Month > Jun:\n",
    "        Nrt_2300_df = Nrt_2300_df[['NRT Code', \"Description\", 'YTD', 'JAN', 'FEB', 'MAR', 'APR', 'MAY', 'JUN']]\n",
    "        Nrt_2400_df = Nrt_2400_df[['NRT Code', \"Description\", 'YTD', 'JAN', 'FEB', 'MAR', 'APR', 'MAY', 'JUN']]\n",
    "\n",
    "    elif Current_Month > May:\n",
    "        Nrt_2300_df = Nrt_2300_df[['NRT Code', \"Description\", 'YTD', 'JAN', 'FEB', 'MAR', 'APR', 'MAY']]\n",
    "        Nrt_2400_df = Nrt_2400_df[['NRT Code', \"Description\", 'YTD', 'JAN', 'FEB', 'MAR', 'APR', 'MAY']]\n",
    "\n",
    "    elif Current_Month > Apr:\n",
    "        Nrt_2300_df = Nrt_2300_df[['NRT Code', \"Description\", 'YTD', 'JAN', 'FEB', 'MAR', 'APR']]\n",
    "        Nrt_2400_df = Nrt_2400_df[['NRT Code', \"Description\", 'YTD', 'JAN', 'FEB', 'MAR', 'APR']]\n",
    "\n",
    "    elif Current_Month > Mar:\n",
    "        Nrt_2300_df = Nrt_2300_df[['NRT Code', \"Description\", 'YTD', 'JAN', 'FEB', 'MAR']]\n",
    "        Nrt_2400_df = Nrt_2400_df[['NRT Code', \"Description\", 'YTD', 'JAN', 'FEB', 'MAR']]\n",
    "\n",
    "    elif Current_Month > Feb:\n",
    "        Nrt_2300_df = Nrt_2300_df[['NRT Code', \"Description\", 'YTD', 'JAN', 'FEB']]\n",
    "        Nrt_2400_df = Nrt_2400_df[['NRT Code', \"Description\", 'YTD', 'JAN', 'FEB']]\n",
    "\n",
    "    elif Current_Month > Jan:\n",
    "        Nrt_2300_df = Nrt_2300_df[['NRT Code', \"Description\", 'YTD', 'JAN']]\n",
    "        Nrt_2400_df = Nrt_2400_df[['NRT Code', \"Description\", 'YTD', 'JAN']]\n",
    "\n",
    "    # # NOW, Append the \"2300\" and \"2400\" one-row dataframes to the main NRT df:\n",
    "    Lonestar_Nrt_Merged = Lonestar_Nrt_Merged.append(Nrt_2300_df)\n",
    "    Lonestar_Nrt_Merged = Lonestar_Nrt_Merged.append(Nrt_2400_df)\n",
    "    Lonestar_Nrt_Merged = Lonestar_Nrt_Merged.reset_index().drop(columns=['index'])\n",
    "\n",
    "    #Convert YTD and Each Month from object to int:\n",
    "    Lonestar_Nrt_Merged = Lonestar_Nrt_Merged.fillna(0)\n",
    "    Lonestar_Nrt_Merged.iloc[:, 2:] = Lonestar_Nrt_Merged.iloc[:, 2:].astype(int)\n",
    "    # ------------------------------------------------------------------------------------------------------------------------------------------------------------------------------------------------------\n",
    "\n",
    "    # ------------------------------------------------------------------------------------------------------------------------------------------------------------------------------------------------------\n",
    "\n",
    "    # Create the short list that Lonestar Nrt df needs:\n",
    "    Lonestar_Codes_List = ['2002', '2004', '2005', '2006', '2009', '2010', '2101', '2102', '2205', '2300', '2400']\n",
    "\n",
    "\n",
    "    #---------------------------------------------------------------------------------------------------------------\n",
    "    # Assign to variable a filtered merged df that only includes Codes we want according to Lonestar:\n",
    "    Lonestar_Nrt_Codes_df = Lonestar_Nrt_Merged[Lonestar_Nrt_Merged['NRT Code'].isin(Lonestar_Codes_List)]\n",
    "    Lonestar_Nrt_Codes_df = Lonestar_Nrt_Codes_df.reset_index(drop=True)\n",
    "\n",
    "    # Check either df if desired:\n",
    "    Lonestar_Nrt_Codes_df\n",
    "\n",
    "    # -------------------------------------------------------------------------------------------------------------------------------------------------------------------\n",
    "    # NOW we need to create a new row with a Description called  \"OTHER\" which will be a total of all other codes that were not part of the list above.\n",
    "\n",
    "    # Assign a TEMPORARY df of all OTHER codes NOT in relevant list:\n",
    "    Nrt_df_NOT_in_Lonestar_CODES = Lonestar_Nrt_Merged[~Lonestar_Nrt_Merged['NRT Code'].isin(Lonestar_Codes_List)]\n",
    "\n",
    "    # Make all \"NRT Code\" values in this new df for OTHER NRT Codes to ALL be OTHER:\n",
    "    Nrt_df_NOT_in_Lonestar_CODES[\"NRT Code\"] = 'OTHER'\n",
    "\n",
    "    # Group by ALL of the OTHER codes to sum into ONE ROW:\n",
    "    Nrt_df_NOT_in_Lonestar_CODES = Nrt_df_NOT_in_Lonestar_CODES.groupby(Nrt_df_NOT_in_Lonestar_CODES['NRT Code']).sum()\n",
    "    Nrt_df_NOT_in_Lonestar_CODES = Nrt_df_NOT_in_Lonestar_CODES.reset_index()\n",
    "    Nrt_df_NOT_in_Lonestar_CODES['Description'] = 'OTHER'\n",
    "\n",
    "    # NOW, Append the \"OTHER\" df (the one-row df we just created) to the main NRT df:\n",
    "    Lonestar_Nrt_Codes_df = Lonestar_Nrt_Codes_df.append(Nrt_df_NOT_in_Lonestar_CODES)\n",
    "    Lonestar_Nrt_Codes_df = Lonestar_Nrt_Codes_df.reset_index().drop(columns=['index'])\n",
    " \n",
    "                    # ------------------------------------------------- Now this will set it up for HTML aesthetically---------------------------------------\n",
    "    # SUM COLUMNS FOR NUMERIC ONLY!\n",
    "    Lonestar_Nrt_Codes_df.loc['this_value_will_be_in_the_index_and_thus_removed_in_the_next_step'] = Lonestar_Nrt_Codes_df.sum(numeric_only=True)\n",
    "\n",
    "    # Reset the index and then drop the extra index column to make it clean:\n",
    "    Lonestar_Nrt_Codes_df = Lonestar_Nrt_Codes_df.reset_index().drop(columns=['index'])\n",
    "\n",
    "    # Replace NaNs with empty strings:\n",
    "    Lonestar_Nrt_Codes_df = Lonestar_Nrt_Codes_df.fillna('')\n",
    "    Lonestar_Nrt_Codes_df\n",
    "\n",
    "    # Replace the blank Description with the word \"TOTAL\", then replace OTHER in row 10 with blank and \"OTHER NRT CODES\"\n",
    "    Lonestar_Nrt_Codes_df['Description'] = Lonestar_Nrt_Codes_df[\"Description\"].replace('',\"TOTAL\")\n",
    "    Lonestar_Nrt_Codes_df['NRT Code'] = Lonestar_Nrt_Codes_df[\"NRT Code\"].replace('OTHER',\"\")\n",
    "    Lonestar_Nrt_Codes_df['Description'] = Lonestar_Nrt_Codes_df[\"Description\"].replace('OTHER',\"OTHER NRT CODES\")\n",
    "\n",
    "    # Ensure the YTD TOTAL at the very bottom of the df is a sum of each of the months total:\n",
    "    Lonestar_Nrt_Codes_df.iloc[-1,2] = Lonestar_Nrt_Codes_df.iloc[-1, 3:].sum()\n",
    "        # Convert all YTD and months columns to Integers:\n",
    "    for column in Lonestar_Nrt_Codes_df.columns:\n",
    "        if column != 'Description' and column != 'NRT Code':\n",
    "            Lonestar_Nrt_Codes_df[f'{column}'] = Lonestar_Nrt_Codes_df[f'{column}'].astype(int)\n",
    "\n",
    "    # Save the NRT table of BOTH YEARS.\n",
    "    Lonestar_Nrt_Codes_df.to_csv(f'./CSVs/Lonestar_NRT_TABLE_{year}.csv', index=False)\n",
    "\n",
    "\n",
    "Lonestar_Nrt_Codes_df"
   ]
  },
  {
   "cell_type": "code",
   "execution_count": 30,
   "metadata": {},
   "outputs": [
    {
     "data": {
      "text/html": [
       "<div>\n",
       "<style scoped>\n",
       "    .dataframe tbody tr th:only-of-type {\n",
       "        vertical-align: middle;\n",
       "    }\n",
       "\n",
       "    .dataframe tbody tr th {\n",
       "        vertical-align: top;\n",
       "    }\n",
       "\n",
       "    .dataframe thead th {\n",
       "        text-align: right;\n",
       "    }\n",
       "</style>\n",
       "<table border=\"1\" class=\"dataframe\">\n",
       "  <thead>\n",
       "    <tr style=\"text-align: right;\">\n",
       "      <th></th>\n",
       "      <th>NRT Code</th>\n",
       "      <th>Description</th>\n",
       "      <th>YTD</th>\n",
       "      <th>JAN</th>\n",
       "      <th>FEB</th>\n",
       "      <th>MAR</th>\n",
       "      <th>APR</th>\n",
       "      <th>MAY</th>\n",
       "      <th>JUN</th>\n",
       "      <th>JUL</th>\n",
       "      <th>AUG</th>\n",
       "      <th>SEPT</th>\n",
       "      <th>OCT</th>\n",
       "      <th>NOV</th>\n",
       "      <th>DEC</th>\n",
       "    </tr>\n",
       "  </thead>\n",
       "  <tbody>\n",
       "    <tr>\n",
       "      <th>0</th>\n",
       "      <td>2002</td>\n",
       "      <td>Sidewall Cut(s)/Snag(s)</td>\n",
       "      <td>27</td>\n",
       "      <td>9</td>\n",
       "      <td>9</td>\n",
       "      <td>1</td>\n",
       "      <td>2</td>\n",
       "      <td>0</td>\n",
       "      <td>1</td>\n",
       "      <td>0</td>\n",
       "      <td>1</td>\n",
       "      <td>0</td>\n",
       "      <td>4</td>\n",
       "      <td>-</td>\n",
       "      <td>-</td>\n",
       "    </tr>\n",
       "    <tr>\n",
       "      <th>1</th>\n",
       "      <td>2005</td>\n",
       "      <td>Run to Destruction</td>\n",
       "      <td>0</td>\n",
       "      <td>0</td>\n",
       "      <td>0</td>\n",
       "      <td>0</td>\n",
       "      <td>0</td>\n",
       "      <td>0</td>\n",
       "      <td>0</td>\n",
       "      <td>0</td>\n",
       "      <td>0</td>\n",
       "      <td>0</td>\n",
       "      <td>0</td>\n",
       "      <td>-</td>\n",
       "      <td>-</td>\n",
       "    </tr>\n",
       "    <tr>\n",
       "      <th>2</th>\n",
       "      <td>2004</td>\n",
       "      <td>Run Under-Inflated</td>\n",
       "      <td>2</td>\n",
       "      <td>0</td>\n",
       "      <td>0</td>\n",
       "      <td>1</td>\n",
       "      <td>1</td>\n",
       "      <td>0</td>\n",
       "      <td>0</td>\n",
       "      <td>0</td>\n",
       "      <td>0</td>\n",
       "      <td>0</td>\n",
       "      <td>0</td>\n",
       "      <td>-</td>\n",
       "      <td>-</td>\n",
       "    </tr>\n",
       "    <tr>\n",
       "      <th>3</th>\n",
       "      <td>2101</td>\n",
       "      <td>Bead Damage - Mount/Dismount R</td>\n",
       "      <td>0</td>\n",
       "      <td>0</td>\n",
       "      <td>0</td>\n",
       "      <td>0</td>\n",
       "      <td>0</td>\n",
       "      <td>0</td>\n",
       "      <td>0</td>\n",
       "      <td>0</td>\n",
       "      <td>0</td>\n",
       "      <td>0</td>\n",
       "      <td>0</td>\n",
       "      <td>-</td>\n",
       "      <td>-</td>\n",
       "    </tr>\n",
       "    <tr>\n",
       "      <th>4</th>\n",
       "      <td>2006</td>\n",
       "      <td>Impact Split(s)</td>\n",
       "      <td>6</td>\n",
       "      <td>1</td>\n",
       "      <td>1</td>\n",
       "      <td>0</td>\n",
       "      <td>0</td>\n",
       "      <td>0</td>\n",
       "      <td>2</td>\n",
       "      <td>1</td>\n",
       "      <td>1</td>\n",
       "      <td>0</td>\n",
       "      <td>0</td>\n",
       "      <td>-</td>\n",
       "      <td>-</td>\n",
       "    </tr>\n",
       "    <tr>\n",
       "      <th>5</th>\n",
       "      <td>2009</td>\n",
       "      <td>Pinch Shock</td>\n",
       "      <td>17</td>\n",
       "      <td>7</td>\n",
       "      <td>2</td>\n",
       "      <td>1</td>\n",
       "      <td>4</td>\n",
       "      <td>1</td>\n",
       "      <td>0</td>\n",
       "      <td>1</td>\n",
       "      <td>0</td>\n",
       "      <td>1</td>\n",
       "      <td>0</td>\n",
       "      <td>-</td>\n",
       "      <td>-</td>\n",
       "    </tr>\n",
       "    <tr>\n",
       "      <th>6</th>\n",
       "      <td>2010</td>\n",
       "      <td>Rock Drilling</td>\n",
       "      <td>1</td>\n",
       "      <td>0</td>\n",
       "      <td>0</td>\n",
       "      <td>1</td>\n",
       "      <td>0</td>\n",
       "      <td>0</td>\n",
       "      <td>0</td>\n",
       "      <td>0</td>\n",
       "      <td>0</td>\n",
       "      <td>0</td>\n",
       "      <td>0</td>\n",
       "      <td>-</td>\n",
       "      <td>-</td>\n",
       "    </tr>\n",
       "    <tr>\n",
       "      <th>7</th>\n",
       "      <td>2102</td>\n",
       "      <td>Worn Too Far</td>\n",
       "      <td>10</td>\n",
       "      <td>2</td>\n",
       "      <td>3</td>\n",
       "      <td>2</td>\n",
       "      <td>1</td>\n",
       "      <td>0</td>\n",
       "      <td>0</td>\n",
       "      <td>0</td>\n",
       "      <td>1</td>\n",
       "      <td>0</td>\n",
       "      <td>1</td>\n",
       "      <td>-</td>\n",
       "      <td>-</td>\n",
       "    </tr>\n",
       "    <tr>\n",
       "      <th>8</th>\n",
       "      <td>2205</td>\n",
       "      <td>Shoulder Separation</td>\n",
       "      <td>10</td>\n",
       "      <td>0</td>\n",
       "      <td>2</td>\n",
       "      <td>5</td>\n",
       "      <td>1</td>\n",
       "      <td>0</td>\n",
       "      <td>1</td>\n",
       "      <td>1</td>\n",
       "      <td>0</td>\n",
       "      <td>0</td>\n",
       "      <td>0</td>\n",
       "      <td>-</td>\n",
       "      <td>-</td>\n",
       "    </tr>\n",
       "    <tr>\n",
       "      <th>9</th>\n",
       "      <td>2300</td>\n",
       "      <td>Outside of Fleet Specifications</td>\n",
       "      <td>167</td>\n",
       "      <td>10</td>\n",
       "      <td>17</td>\n",
       "      <td>43</td>\n",
       "      <td>28</td>\n",
       "      <td>8</td>\n",
       "      <td>10</td>\n",
       "      <td>16</td>\n",
       "      <td>7</td>\n",
       "      <td>16</td>\n",
       "      <td>12</td>\n",
       "      <td>-</td>\n",
       "      <td>-</td>\n",
       "    </tr>\n",
       "    <tr>\n",
       "      <th>10</th>\n",
       "      <td>2400</td>\n",
       "      <td>Injuries too Close/Large</td>\n",
       "      <td>14</td>\n",
       "      <td>5</td>\n",
       "      <td>2</td>\n",
       "      <td>2</td>\n",
       "      <td>1</td>\n",
       "      <td>2</td>\n",
       "      <td>0</td>\n",
       "      <td>1</td>\n",
       "      <td>0</td>\n",
       "      <td>1</td>\n",
       "      <td>0</td>\n",
       "      <td>-</td>\n",
       "      <td>-</td>\n",
       "    </tr>\n",
       "    <tr>\n",
       "      <th>11</th>\n",
       "      <td></td>\n",
       "      <td>OTHER NRT CODES</td>\n",
       "      <td>88</td>\n",
       "      <td>16</td>\n",
       "      <td>21</td>\n",
       "      <td>12</td>\n",
       "      <td>18</td>\n",
       "      <td>7</td>\n",
       "      <td>2</td>\n",
       "      <td>2</td>\n",
       "      <td>4</td>\n",
       "      <td>1</td>\n",
       "      <td>5</td>\n",
       "      <td>-</td>\n",
       "      <td>-</td>\n",
       "    </tr>\n",
       "    <tr>\n",
       "      <th>12</th>\n",
       "      <td></td>\n",
       "      <td>TOTAL</td>\n",
       "      <td>342</td>\n",
       "      <td>50</td>\n",
       "      <td>57</td>\n",
       "      <td>68</td>\n",
       "      <td>56</td>\n",
       "      <td>18</td>\n",
       "      <td>16</td>\n",
       "      <td>22</td>\n",
       "      <td>14</td>\n",
       "      <td>19</td>\n",
       "      <td>22</td>\n",
       "      <td>-</td>\n",
       "      <td>-</td>\n",
       "    </tr>\n",
       "  </tbody>\n",
       "</table>\n",
       "</div>"
      ],
      "text/plain": [
       "   NRT Code                      Description  YTD JAN FEB MAR APR MAY JUN JUL  \\\n",
       "0      2002          Sidewall Cut(s)/Snag(s)   27   9   9   1   2   0   1   0   \n",
       "1      2005               Run to Destruction    0   0   0   0   0   0   0   0   \n",
       "2      2004               Run Under-Inflated    2   0   0   1   1   0   0   0   \n",
       "3      2101   Bead Damage - Mount/Dismount R    0   0   0   0   0   0   0   0   \n",
       "4      2006                  Impact Split(s)    6   1   1   0   0   0   2   1   \n",
       "5      2009                      Pinch Shock   17   7   2   1   4   1   0   1   \n",
       "6      2010                    Rock Drilling    1   0   0   1   0   0   0   0   \n",
       "7      2102                     Worn Too Far   10   2   3   2   1   0   0   0   \n",
       "8      2205              Shoulder Separation   10   0   2   5   1   0   1   1   \n",
       "9      2300  Outside of Fleet Specifications  167  10  17  43  28   8  10  16   \n",
       "10     2400         Injuries too Close/Large   14   5   2   2   1   2   0   1   \n",
       "11                           OTHER NRT CODES   88  16  21  12  18   7   2   2   \n",
       "12                                     TOTAL  342  50  57  68  56  18  16  22   \n",
       "\n",
       "   AUG SEPT OCT NOV DEC  \n",
       "0    1    0   4   -   -  \n",
       "1    0    0   0   -   -  \n",
       "2    0    0   0   -   -  \n",
       "3    0    0   0   -   -  \n",
       "4    1    0   0   -   -  \n",
       "5    0    1   0   -   -  \n",
       "6    0    0   0   -   -  \n",
       "7    1    0   1   -   -  \n",
       "8    0    0   0   -   -  \n",
       "9    7   16  12   -   -  \n",
       "10   0    1   0   -   -  \n",
       "11   4    1   5   -   -  \n",
       "12  14   19  22   -   -  "
      ]
     },
     "execution_count": 30,
     "metadata": {},
     "output_type": "execute_result"
    }
   ],
   "source": [
    "# Now, ensure each numerical column in the NRT TABLE has commas as separators:\n",
    "Lonestar_Nrt_Codes_df_with_COMMAS_and_DASHES_for_HTML = Lonestar_Nrt_Codes_df.copy()\n",
    "Lonestar_Nrt_Codes_df_with_DASHES = Lonestar_Nrt_Codes_df.copy()\n",
    "\n",
    "columns_in_df = Lonestar_Nrt_Codes_df_with_COMMAS_and_DASHES_for_HTML.iloc[:,2:].columns\n",
    "for columns in columns_in_df:\n",
    "    Lonestar_Nrt_Codes_df_with_COMMAS_and_DASHES_for_HTML[columns] = Lonestar_Nrt_Codes_df_with_COMMAS_and_DASHES_for_HTML.apply(lambda x: \"{:,}\".format(x[columns]), axis=1)\n",
    "\n",
    "# Finally, we'll add dashes for months that don't exist for the html table:\n",
    "\n",
    "if Current_Month < Jan:\n",
    "    Lonestar_Nrt_Codes_df_with_COMMAS_and_DASHES_for_HTML['JAN'] = '-'\n",
    "    Lonestar_Nrt_Codes_df_with_DASHES['JAN'] = '-'\n",
    "if Current_Month <= Feb:\n",
    "    Lonestar_Nrt_Codes_df_with_COMMAS_and_DASHES_for_HTML['FEB'] = '-'\n",
    "    Lonestar_Nrt_Codes_df_with_DASHES['FEB'] = '-'\n",
    "if Current_Month <= Mar:\n",
    "    Lonestar_Nrt_Codes_df_with_COMMAS_and_DASHES_for_HTML['MAR'] = '-'\n",
    "    Lonestar_Nrt_Codes_df_with_DASHES['MAR'] = '-'\n",
    "if Current_Month <= Apr:\n",
    "    Lonestar_Nrt_Codes_df_with_COMMAS_and_DASHES_for_HTML['APR'] = '-'\n",
    "    Lonestar_Nrt_Codes_df_with_DASHES['APR'] = '-'\n",
    "if Current_Month <= May:\n",
    "    Lonestar_Nrt_Codes_df_with_COMMAS_and_DASHES_for_HTML['MAY'] = '-'\n",
    "    Lonestar_Nrt_Codes_df_with_DASHES['MAY'] = '-'\n",
    "if Current_Month <= Jun:\n",
    "    Lonestar_Nrt_Codes_df_with_COMMAS_and_DASHES_for_HTML['JUN'] = '-'\n",
    "    Lonestar_Nrt_Codes_df_with_DASHES['JUN'] = '-'\n",
    "if Current_Month <= Jul:\n",
    "    Lonestar_Nrt_Codes_df_with_COMMAS_and_DASHES_for_HTML['JUL'] = '-'\n",
    "    Lonestar_Nrt_Codes_df_with_DASHES['JUL'] = '-'\n",
    "if Current_Month <= Aug:\n",
    "    Lonestar_Nrt_Codes_df_with_COMMAS_and_DASHES_for_HTML['AUG'] = '-'\n",
    "    Lonestar_Nrt_Codes_df_with_DASHES['AUG'] = '-'\n",
    "if Current_Month <= Sept:\n",
    "    Lonestar_Nrt_Codes_df_with_COMMAS_and_DASHES_for_HTML['SEPT'] = '-'\n",
    "    Lonestar_Nrt_Codes_df_with_DASHES['SEPT'] = '-'\n",
    "if Current_Month <= Oct:\n",
    "    Lonestar_Nrt_Codes_df_with_COMMAS_and_DASHES_for_HTML['OCT'] = '-'\n",
    "    Lonestar_Nrt_Codes_df_with_DASHES['OCT'] = '-'\n",
    "if Current_Month <= Nov:\n",
    "    Lonestar_Nrt_Codes_df_with_COMMAS_and_DASHES_for_HTML['NOV'] = '-'\n",
    "    Lonestar_Nrt_Codes_df_with_DASHES['NOV'] = '-'\n",
    "if Current_Month <= Dec:\n",
    "    Lonestar_Nrt_Codes_df_with_COMMAS_and_DASHES_for_HTML['DEC'] = '-'\n",
    "    Lonestar_Nrt_Codes_df_with_DASHES['DEC'] = '-'\n",
    "\n",
    "\n",
    "# Check the df that only has dashes to be used for graphing (we'll use the dashes to our advantage to remove incompleted month columns):\n",
    "Lonestar_Nrt_Codes_df_with_DASHES\n",
    "# Or check the df that has commas and dashes used for html (the commas, of course, won't appear unless 4 or more digits in a value):\n",
    "Lonestar_Nrt_Codes_df_with_COMMAS_and_DASHES_for_HTML"
   ]
  },
  {
   "cell_type": "markdown",
   "metadata": {},
   "source": [
    "## Sort the NRT Table for the html:"
   ]
  },
  {
   "cell_type": "code",
   "execution_count": 31,
   "metadata": {},
   "outputs": [
    {
     "data": {
      "text/html": [
       "<div>\n",
       "<style scoped>\n",
       "    .dataframe tbody tr th:only-of-type {\n",
       "        vertical-align: middle;\n",
       "    }\n",
       "\n",
       "    .dataframe tbody tr th {\n",
       "        vertical-align: top;\n",
       "    }\n",
       "\n",
       "    .dataframe thead th {\n",
       "        text-align: right;\n",
       "    }\n",
       "</style>\n",
       "<table border=\"1\" class=\"dataframe\">\n",
       "  <thead>\n",
       "    <tr style=\"text-align: right;\">\n",
       "      <th></th>\n",
       "      <th>NRT Code</th>\n",
       "      <th>Description</th>\n",
       "      <th>YTD</th>\n",
       "      <th>JAN</th>\n",
       "      <th>FEB</th>\n",
       "      <th>MAR</th>\n",
       "      <th>APR</th>\n",
       "      <th>MAY</th>\n",
       "      <th>JUN</th>\n",
       "      <th>JUL</th>\n",
       "      <th>AUG</th>\n",
       "      <th>SEPT</th>\n",
       "      <th>OCT</th>\n",
       "      <th>NOV</th>\n",
       "      <th>DEC</th>\n",
       "    </tr>\n",
       "  </thead>\n",
       "  <tbody>\n",
       "    <tr>\n",
       "      <th>0</th>\n",
       "      <td>2300</td>\n",
       "      <td>Outside of Fleet Specifications</td>\n",
       "      <td>167</td>\n",
       "      <td>10</td>\n",
       "      <td>17</td>\n",
       "      <td>43</td>\n",
       "      <td>28</td>\n",
       "      <td>8</td>\n",
       "      <td>10</td>\n",
       "      <td>16</td>\n",
       "      <td>7</td>\n",
       "      <td>16</td>\n",
       "      <td>12</td>\n",
       "      <td>-</td>\n",
       "      <td>-</td>\n",
       "    </tr>\n",
       "    <tr>\n",
       "      <th>1</th>\n",
       "      <td>-</td>\n",
       "      <td>OTHER NRT CODES</td>\n",
       "      <td>88</td>\n",
       "      <td>16</td>\n",
       "      <td>21</td>\n",
       "      <td>12</td>\n",
       "      <td>18</td>\n",
       "      <td>7</td>\n",
       "      <td>2</td>\n",
       "      <td>2</td>\n",
       "      <td>4</td>\n",
       "      <td>1</td>\n",
       "      <td>5</td>\n",
       "      <td>-</td>\n",
       "      <td>-</td>\n",
       "    </tr>\n",
       "    <tr>\n",
       "      <th>2</th>\n",
       "      <td>2002</td>\n",
       "      <td>Sidewall Cut(s)/Snag(s)</td>\n",
       "      <td>27</td>\n",
       "      <td>9</td>\n",
       "      <td>9</td>\n",
       "      <td>1</td>\n",
       "      <td>2</td>\n",
       "      <td>0</td>\n",
       "      <td>1</td>\n",
       "      <td>0</td>\n",
       "      <td>1</td>\n",
       "      <td>0</td>\n",
       "      <td>4</td>\n",
       "      <td>-</td>\n",
       "      <td>-</td>\n",
       "    </tr>\n",
       "    <tr>\n",
       "      <th>3</th>\n",
       "      <td>2009</td>\n",
       "      <td>Pinch Shock</td>\n",
       "      <td>17</td>\n",
       "      <td>7</td>\n",
       "      <td>2</td>\n",
       "      <td>1</td>\n",
       "      <td>4</td>\n",
       "      <td>1</td>\n",
       "      <td>0</td>\n",
       "      <td>1</td>\n",
       "      <td>0</td>\n",
       "      <td>1</td>\n",
       "      <td>0</td>\n",
       "      <td>-</td>\n",
       "      <td>-</td>\n",
       "    </tr>\n",
       "    <tr>\n",
       "      <th>4</th>\n",
       "      <td>2400</td>\n",
       "      <td>Injuries too Close/Large</td>\n",
       "      <td>14</td>\n",
       "      <td>5</td>\n",
       "      <td>2</td>\n",
       "      <td>2</td>\n",
       "      <td>1</td>\n",
       "      <td>2</td>\n",
       "      <td>0</td>\n",
       "      <td>1</td>\n",
       "      <td>0</td>\n",
       "      <td>1</td>\n",
       "      <td>0</td>\n",
       "      <td>-</td>\n",
       "      <td>-</td>\n",
       "    </tr>\n",
       "    <tr>\n",
       "      <th>5</th>\n",
       "      <td>2102</td>\n",
       "      <td>Worn Too Far</td>\n",
       "      <td>10</td>\n",
       "      <td>2</td>\n",
       "      <td>3</td>\n",
       "      <td>2</td>\n",
       "      <td>1</td>\n",
       "      <td>0</td>\n",
       "      <td>0</td>\n",
       "      <td>0</td>\n",
       "      <td>1</td>\n",
       "      <td>0</td>\n",
       "      <td>1</td>\n",
       "      <td>-</td>\n",
       "      <td>-</td>\n",
       "    </tr>\n",
       "    <tr>\n",
       "      <th>6</th>\n",
       "      <td>2205</td>\n",
       "      <td>Shoulder Separation</td>\n",
       "      <td>10</td>\n",
       "      <td>0</td>\n",
       "      <td>2</td>\n",
       "      <td>5</td>\n",
       "      <td>1</td>\n",
       "      <td>0</td>\n",
       "      <td>1</td>\n",
       "      <td>1</td>\n",
       "      <td>0</td>\n",
       "      <td>0</td>\n",
       "      <td>0</td>\n",
       "      <td>-</td>\n",
       "      <td>-</td>\n",
       "    </tr>\n",
       "    <tr>\n",
       "      <th>7</th>\n",
       "      <td>2006</td>\n",
       "      <td>Impact Split(s)</td>\n",
       "      <td>6</td>\n",
       "      <td>1</td>\n",
       "      <td>1</td>\n",
       "      <td>0</td>\n",
       "      <td>0</td>\n",
       "      <td>0</td>\n",
       "      <td>2</td>\n",
       "      <td>1</td>\n",
       "      <td>1</td>\n",
       "      <td>0</td>\n",
       "      <td>0</td>\n",
       "      <td>-</td>\n",
       "      <td>-</td>\n",
       "    </tr>\n",
       "    <tr>\n",
       "      <th>8</th>\n",
       "      <td>2004</td>\n",
       "      <td>Run Under-Inflated</td>\n",
       "      <td>2</td>\n",
       "      <td>0</td>\n",
       "      <td>0</td>\n",
       "      <td>1</td>\n",
       "      <td>1</td>\n",
       "      <td>0</td>\n",
       "      <td>0</td>\n",
       "      <td>0</td>\n",
       "      <td>0</td>\n",
       "      <td>0</td>\n",
       "      <td>0</td>\n",
       "      <td>-</td>\n",
       "      <td>-</td>\n",
       "    </tr>\n",
       "    <tr>\n",
       "      <th>9</th>\n",
       "      <td>2010</td>\n",
       "      <td>Rock Drilling</td>\n",
       "      <td>1</td>\n",
       "      <td>0</td>\n",
       "      <td>0</td>\n",
       "      <td>1</td>\n",
       "      <td>0</td>\n",
       "      <td>0</td>\n",
       "      <td>0</td>\n",
       "      <td>0</td>\n",
       "      <td>0</td>\n",
       "      <td>0</td>\n",
       "      <td>0</td>\n",
       "      <td>-</td>\n",
       "      <td>-</td>\n",
       "    </tr>\n",
       "    <tr>\n",
       "      <th>10</th>\n",
       "      <td>2005</td>\n",
       "      <td>Run to Destruction</td>\n",
       "      <td>0</td>\n",
       "      <td>0</td>\n",
       "      <td>0</td>\n",
       "      <td>0</td>\n",
       "      <td>0</td>\n",
       "      <td>0</td>\n",
       "      <td>0</td>\n",
       "      <td>0</td>\n",
       "      <td>0</td>\n",
       "      <td>0</td>\n",
       "      <td>0</td>\n",
       "      <td>-</td>\n",
       "      <td>-</td>\n",
       "    </tr>\n",
       "    <tr>\n",
       "      <th>11</th>\n",
       "      <td>2101</td>\n",
       "      <td>Bead Damage - Mount/Dismount R</td>\n",
       "      <td>0</td>\n",
       "      <td>0</td>\n",
       "      <td>0</td>\n",
       "      <td>0</td>\n",
       "      <td>0</td>\n",
       "      <td>0</td>\n",
       "      <td>0</td>\n",
       "      <td>0</td>\n",
       "      <td>0</td>\n",
       "      <td>0</td>\n",
       "      <td>0</td>\n",
       "      <td>-</td>\n",
       "      <td>-</td>\n",
       "    </tr>\n",
       "    <tr>\n",
       "      <th>12</th>\n",
       "      <td></td>\n",
       "      <td>TOTAL</td>\n",
       "      <td>342</td>\n",
       "      <td>50</td>\n",
       "      <td>57</td>\n",
       "      <td>68</td>\n",
       "      <td>56</td>\n",
       "      <td>18</td>\n",
       "      <td>16</td>\n",
       "      <td>22</td>\n",
       "      <td>14</td>\n",
       "      <td>19</td>\n",
       "      <td>22</td>\n",
       "      <td>-</td>\n",
       "      <td>-</td>\n",
       "    </tr>\n",
       "  </tbody>\n",
       "</table>\n",
       "</div>"
      ],
      "text/plain": [
       "   NRT Code                      Description  YTD JAN FEB MAR APR MAY JUN JUL  \\\n",
       "0      2300  Outside of Fleet Specifications  167  10  17  43  28   8  10  16   \n",
       "1         -                  OTHER NRT CODES   88  16  21  12  18   7   2   2   \n",
       "2      2002          Sidewall Cut(s)/Snag(s)   27   9   9   1   2   0   1   0   \n",
       "3      2009                      Pinch Shock   17   7   2   1   4   1   0   1   \n",
       "4      2400         Injuries too Close/Large   14   5   2   2   1   2   0   1   \n",
       "5      2102                     Worn Too Far   10   2   3   2   1   0   0   0   \n",
       "6      2205              Shoulder Separation   10   0   2   5   1   0   1   1   \n",
       "7      2006                  Impact Split(s)    6   1   1   0   0   0   2   1   \n",
       "8      2004               Run Under-Inflated    2   0   0   1   1   0   0   0   \n",
       "9      2010                    Rock Drilling    1   0   0   1   0   0   0   0   \n",
       "10     2005               Run to Destruction    0   0   0   0   0   0   0   0   \n",
       "11     2101   Bead Damage - Mount/Dismount R    0   0   0   0   0   0   0   0   \n",
       "12                                     TOTAL  342  50  57  68  56  18  16  22   \n",
       "\n",
       "   AUG SEPT OCT NOV DEC  \n",
       "0    7   16  12   -   -  \n",
       "1    4    1   5   -   -  \n",
       "2    1    0   4   -   -  \n",
       "3    0    1   0   -   -  \n",
       "4    0    1   0   -   -  \n",
       "5    1    0   1   -   -  \n",
       "6    0    0   0   -   -  \n",
       "7    1    0   0   -   -  \n",
       "8    0    0   0   -   -  \n",
       "9    0    0   0   -   -  \n",
       "10   0    0   0   -   -  \n",
       "11   0    0   0   -   -  \n",
       "12  14   19  22   -   -  "
      ]
     },
     "execution_count": 31,
     "metadata": {},
     "output_type": "execute_result"
    }
   ],
   "source": [
    "Lonestar_NRT_df_sorted_for_html = Lonestar_Nrt_Codes_df_with_COMMAS_and_DASHES_for_HTML.copy()\n",
    "\n",
    "# Create a temp varaible that ONLY holds the \"TOTALS\" row:\n",
    "temp_TOTALS_row = Lonestar_NRT_df_sorted_for_html.loc[Lonestar_NRT_df_sorted_for_html['Description'] == 'TOTAL', :]\n",
    "\n",
    "# Assign ALL rows and columns EXCEPT the TOTALS row:\n",
    "Lonestar_NRT_df_sorted_for_html = Lonestar_NRT_df_sorted_for_html.iloc[0:-1, :]\n",
    "Lonestar_NRT_df_sorted_for_html['YTD'] = Lonestar_NRT_df_sorted_for_html['YTD'].astype(int)\n",
    "# Sort all rows baased on the the YTD column:\n",
    "Lonestar_NRT_df_sorted_for_html = Lonestar_NRT_df_sorted_for_html.sort_values('YTD', ascending=False)\n",
    "Lonestar_NRT_df_sorted_for_html = Lonestar_NRT_df_sorted_for_html.reset_index(drop=True)\n",
    "\n",
    "# Add the \"TOTALS\" row back into the df:\n",
    "Lonestar_NRT_df_sorted_for_html = pd.concat([Lonestar_NRT_df_sorted_for_html, temp_TOTALS_row], ignore_index=True)\n",
    "\n",
    "# For NRT Code of \"OTHER NRT CODES\", let's add a dash since there's no NRT Code for that:\n",
    "Lonestar_NRT_df_sorted_for_html.loc[Lonestar_NRT_df_sorted_for_html['Description'] == 'OTHER NRT CODES', 'NRT Code'] = '-'\n",
    "\n",
    "Lonestar_NRT_df_sorted_for_html"
   ]
  },
  {
   "cell_type": "code",
   "execution_count": 32,
   "metadata": {},
   "outputs": [],
   "source": [
    "# ------------------------------------------------------------------\n",
    "\n",
    "# BUILD THE HTML TABLE for the NRT TABLE:\n",
    "\n",
    "def create_html_table(Nrt_table):\n",
    "    \n",
    "    # Create headers for HTML\n",
    "    row_data = '<!-- Start NRT Table --><thead>\\n<tr class=\"NRT_header\">'\n",
    "\n",
    "    # Create columns for HTML:    \n",
    "    for column in range(Nrt_table.shape[1]):\n",
    "        adjust_header_css = \"NRT_header\"\n",
    "        if column not in [2]:\n",
    "            adjust_header_css += \" black_color make_bold make_text_white\"\n",
    "        if column in [2]:\n",
    "            adjust_header_css += \" lonestar_gold_color make_bold\"\n",
    "        if column not in []:\n",
    "            adjust_header_css += \" center\"    \n",
    "        row_data += '\\n <th class = \"'+adjust_header_css+'\">'+Lonestar_NRT_df_sorted_for_html.columns[column]+'</th>'\n",
    "    row_data += '\\n</tr> \\n </head> \\n <tbody>'\n",
    "    \n",
    "    # Create Body (rows for table) for html\n",
    "    for row in range(Nrt_table.shape[0]):\n",
    "        if row in [0,1,2,3,4,5,6,7,8,9,10,11,12]:\n",
    "            row_data += '\\n<tr class = \"make_bold\">'\n",
    "        else: row_data += '\\n<tr>'\n",
    "        for column in range(Nrt_table.shape[1]):\n",
    "            td_class_name = 'NRT_text_column'\n",
    "            if column not in []:\n",
    "                td_class_name += \" center\"\n",
    "            if row in [12]:\n",
    "                td_class_name += \" black_color make_bold make_text_white\"\n",
    "            # if column not in [2] and row in [13]:\n",
    "            #     td_class_name += \" blue_color make_text_white\"\n",
    "            if column in [2]:\n",
    "                td_class_name += \" lonestar_gold_color make_bold make_text_black\"\n",
    "            row_data += '\\n <td class = \"'+td_class_name+'\">'+str(Nrt_table.iloc[row,column])+'</td>'\n",
    "    row_data += '\\n</tr> \\n</tbody><!-- End NRT Table -->'\n",
    "                # -------------------------------------------------------------------------------------------------\n",
    "\n",
    "    return row_data\n",
    "\n",
    "# Call the function:\n",
    "html_table2 = create_html_table(Lonestar_NRT_df_sorted_for_html)"
   ]
  },
  {
   "cell_type": "markdown",
   "metadata": {},
   "source": [
    "## Now create NRT Year-to_Year Line GRAPH:"
   ]
  },
  {
   "cell_type": "code",
   "execution_count": 33,
   "metadata": {},
   "outputs": [
    {
     "data": {
      "text/html": [
       "<div>\n",
       "<style scoped>\n",
       "    .dataframe tbody tr th:only-of-type {\n",
       "        vertical-align: middle;\n",
       "    }\n",
       "\n",
       "    .dataframe tbody tr th {\n",
       "        vertical-align: top;\n",
       "    }\n",
       "\n",
       "    .dataframe thead th {\n",
       "        text-align: right;\n",
       "    }\n",
       "</style>\n",
       "<table border=\"1\" class=\"dataframe\">\n",
       "  <thead>\n",
       "    <tr style=\"text-align: right;\">\n",
       "      <th></th>\n",
       "      <th>NRT Code</th>\n",
       "      <th>Description</th>\n",
       "      <th>YTD</th>\n",
       "      <th>JAN</th>\n",
       "      <th>FEB</th>\n",
       "      <th>MAR</th>\n",
       "      <th>APR</th>\n",
       "      <th>MAY</th>\n",
       "      <th>JUN</th>\n",
       "      <th>JUL</th>\n",
       "      <th>AUG</th>\n",
       "      <th>SEPT</th>\n",
       "      <th>OCT</th>\n",
       "      <th>NOV</th>\n",
       "      <th>DEC</th>\n",
       "    </tr>\n",
       "  </thead>\n",
       "  <tbody>\n",
       "    <tr>\n",
       "      <th>0</th>\n",
       "      <td>2002</td>\n",
       "      <td>Sidewall Cut(s)/Snag(s)</td>\n",
       "      <td>42</td>\n",
       "      <td>2</td>\n",
       "      <td>6</td>\n",
       "      <td>6</td>\n",
       "      <td>1</td>\n",
       "      <td>2</td>\n",
       "      <td>3</td>\n",
       "      <td>3</td>\n",
       "      <td>3</td>\n",
       "      <td>3</td>\n",
       "      <td>5</td>\n",
       "      <td>2</td>\n",
       "      <td>6</td>\n",
       "    </tr>\n",
       "    <tr>\n",
       "      <th>1</th>\n",
       "      <td>2004</td>\n",
       "      <td>Run Under-Inflated</td>\n",
       "      <td>4</td>\n",
       "      <td>0</td>\n",
       "      <td>1</td>\n",
       "      <td>0</td>\n",
       "      <td>0</td>\n",
       "      <td>1</td>\n",
       "      <td>0</td>\n",
       "      <td>0</td>\n",
       "      <td>0</td>\n",
       "      <td>0</td>\n",
       "      <td>1</td>\n",
       "      <td>1</td>\n",
       "      <td>0</td>\n",
       "    </tr>\n",
       "    <tr>\n",
       "      <th>2</th>\n",
       "      <td>2005</td>\n",
       "      <td>Run to Destruction</td>\n",
       "      <td>0</td>\n",
       "      <td>0</td>\n",
       "      <td>0</td>\n",
       "      <td>0</td>\n",
       "      <td>0</td>\n",
       "      <td>0</td>\n",
       "      <td>0</td>\n",
       "      <td>0</td>\n",
       "      <td>0</td>\n",
       "      <td>0</td>\n",
       "      <td>0</td>\n",
       "      <td>0</td>\n",
       "      <td>0</td>\n",
       "    </tr>\n",
       "    <tr>\n",
       "      <th>3</th>\n",
       "      <td>2006</td>\n",
       "      <td>Impact Split(s)</td>\n",
       "      <td>2</td>\n",
       "      <td>0</td>\n",
       "      <td>1</td>\n",
       "      <td>0</td>\n",
       "      <td>0</td>\n",
       "      <td>0</td>\n",
       "      <td>0</td>\n",
       "      <td>0</td>\n",
       "      <td>0</td>\n",
       "      <td>0</td>\n",
       "      <td>1</td>\n",
       "      <td>0</td>\n",
       "      <td>0</td>\n",
       "    </tr>\n",
       "    <tr>\n",
       "      <th>4</th>\n",
       "      <td>2009</td>\n",
       "      <td>Pinch Shock</td>\n",
       "      <td>33</td>\n",
       "      <td>5</td>\n",
       "      <td>1</td>\n",
       "      <td>2</td>\n",
       "      <td>1</td>\n",
       "      <td>1</td>\n",
       "      <td>0</td>\n",
       "      <td>1</td>\n",
       "      <td>1</td>\n",
       "      <td>2</td>\n",
       "      <td>4</td>\n",
       "      <td>4</td>\n",
       "      <td>11</td>\n",
       "    </tr>\n",
       "    <tr>\n",
       "      <th>5</th>\n",
       "      <td>2010</td>\n",
       "      <td>Rock Drilling</td>\n",
       "      <td>5</td>\n",
       "      <td>1</td>\n",
       "      <td>1</td>\n",
       "      <td>1</td>\n",
       "      <td>0</td>\n",
       "      <td>0</td>\n",
       "      <td>0</td>\n",
       "      <td>0</td>\n",
       "      <td>0</td>\n",
       "      <td>0</td>\n",
       "      <td>1</td>\n",
       "      <td>1</td>\n",
       "      <td>0</td>\n",
       "    </tr>\n",
       "    <tr>\n",
       "      <th>6</th>\n",
       "      <td>2101</td>\n",
       "      <td>Bead Damage - Mount/Dismount R</td>\n",
       "      <td>2</td>\n",
       "      <td>0</td>\n",
       "      <td>1</td>\n",
       "      <td>0</td>\n",
       "      <td>0</td>\n",
       "      <td>1</td>\n",
       "      <td>0</td>\n",
       "      <td>0</td>\n",
       "      <td>0</td>\n",
       "      <td>0</td>\n",
       "      <td>0</td>\n",
       "      <td>0</td>\n",
       "      <td>0</td>\n",
       "    </tr>\n",
       "    <tr>\n",
       "      <th>7</th>\n",
       "      <td>2102</td>\n",
       "      <td>Worn Too Far</td>\n",
       "      <td>16</td>\n",
       "      <td>2</td>\n",
       "      <td>0</td>\n",
       "      <td>1</td>\n",
       "      <td>1</td>\n",
       "      <td>0</td>\n",
       "      <td>0</td>\n",
       "      <td>0</td>\n",
       "      <td>3</td>\n",
       "      <td>0</td>\n",
       "      <td>4</td>\n",
       "      <td>2</td>\n",
       "      <td>3</td>\n",
       "    </tr>\n",
       "    <tr>\n",
       "      <th>8</th>\n",
       "      <td>2205</td>\n",
       "      <td>Shoulder Separation</td>\n",
       "      <td>24</td>\n",
       "      <td>6</td>\n",
       "      <td>2</td>\n",
       "      <td>1</td>\n",
       "      <td>1</td>\n",
       "      <td>1</td>\n",
       "      <td>0</td>\n",
       "      <td>3</td>\n",
       "      <td>0</td>\n",
       "      <td>1</td>\n",
       "      <td>1</td>\n",
       "      <td>2</td>\n",
       "      <td>6</td>\n",
       "    </tr>\n",
       "    <tr>\n",
       "      <th>9</th>\n",
       "      <td>2300</td>\n",
       "      <td>Outside of Fleet Specifications</td>\n",
       "      <td>90</td>\n",
       "      <td>14</td>\n",
       "      <td>19</td>\n",
       "      <td>11</td>\n",
       "      <td>3</td>\n",
       "      <td>1</td>\n",
       "      <td>0</td>\n",
       "      <td>4</td>\n",
       "      <td>1</td>\n",
       "      <td>6</td>\n",
       "      <td>6</td>\n",
       "      <td>8</td>\n",
       "      <td>17</td>\n",
       "    </tr>\n",
       "    <tr>\n",
       "      <th>10</th>\n",
       "      <td>2400</td>\n",
       "      <td>Injuries too Close/Large</td>\n",
       "      <td>8</td>\n",
       "      <td>0</td>\n",
       "      <td>0</td>\n",
       "      <td>1</td>\n",
       "      <td>0</td>\n",
       "      <td>2</td>\n",
       "      <td>0</td>\n",
       "      <td>0</td>\n",
       "      <td>2</td>\n",
       "      <td>1</td>\n",
       "      <td>1</td>\n",
       "      <td>1</td>\n",
       "      <td>0</td>\n",
       "    </tr>\n",
       "    <tr>\n",
       "      <th>11</th>\n",
       "      <td></td>\n",
       "      <td>OTHER NRT CODES</td>\n",
       "      <td>130</td>\n",
       "      <td>10</td>\n",
       "      <td>10</td>\n",
       "      <td>13</td>\n",
       "      <td>2</td>\n",
       "      <td>4</td>\n",
       "      <td>2</td>\n",
       "      <td>5</td>\n",
       "      <td>8</td>\n",
       "      <td>7</td>\n",
       "      <td>42</td>\n",
       "      <td>10</td>\n",
       "      <td>17</td>\n",
       "    </tr>\n",
       "    <tr>\n",
       "      <th>12</th>\n",
       "      <td></td>\n",
       "      <td>TOTAL</td>\n",
       "      <td>356</td>\n",
       "      <td>40</td>\n",
       "      <td>42</td>\n",
       "      <td>36</td>\n",
       "      <td>9</td>\n",
       "      <td>13</td>\n",
       "      <td>5</td>\n",
       "      <td>16</td>\n",
       "      <td>18</td>\n",
       "      <td>20</td>\n",
       "      <td>66</td>\n",
       "      <td>31</td>\n",
       "      <td>60</td>\n",
       "    </tr>\n",
       "  </tbody>\n",
       "</table>\n",
       "</div>"
      ],
      "text/plain": [
       "   NRT Code                      Description  YTD  JAN  FEB  MAR  APR  MAY  \\\n",
       "0      2002          Sidewall Cut(s)/Snag(s)   42    2    6    6    1    2   \n",
       "1      2004               Run Under-Inflated    4    0    1    0    0    1   \n",
       "2      2005               Run to Destruction    0    0    0    0    0    0   \n",
       "3      2006                  Impact Split(s)    2    0    1    0    0    0   \n",
       "4      2009                      Pinch Shock   33    5    1    2    1    1   \n",
       "5      2010                    Rock Drilling    5    1    1    1    0    0   \n",
       "6      2101   Bead Damage - Mount/Dismount R    2    0    1    0    0    1   \n",
       "7      2102                     Worn Too Far   16    2    0    1    1    0   \n",
       "8      2205              Shoulder Separation   24    6    2    1    1    1   \n",
       "9      2300  Outside of Fleet Specifications   90   14   19   11    3    1   \n",
       "10     2400         Injuries too Close/Large    8    0    0    1    0    2   \n",
       "11                           OTHER NRT CODES  130   10   10   13    2    4   \n",
       "12                                     TOTAL  356   40   42   36    9   13   \n",
       "\n",
       "    JUN  JUL  AUG  SEPT  OCT  NOV  DEC  \n",
       "0     3    3    3     3    5    2    6  \n",
       "1     0    0    0     0    1    1    0  \n",
       "2     0    0    0     0    0    0    0  \n",
       "3     0    0    0     0    1    0    0  \n",
       "4     0    1    1     2    4    4   11  \n",
       "5     0    0    0     0    1    1    0  \n",
       "6     0    0    0     0    0    0    0  \n",
       "7     0    0    3     0    4    2    3  \n",
       "8     0    3    0     1    1    2    6  \n",
       "9     0    4    1     6    6    8   17  \n",
       "10    0    0    2     1    1    1    0  \n",
       "11    2    5    8     7   42   10   17  \n",
       "12    5   16   18    20   66   31   60  "
      ]
     },
     "execution_count": 33,
     "metadata": {},
     "output_type": "execute_result"
    }
   ],
   "source": [
    "\n",
    "# Pull back in last year's data and reformat it again:\n",
    "if os.path.isfile(f'CSVs/LONESTAR_NRT_TABLE_{Last_Year}.csv'):\n",
    "    Last_Year_NRT_df = pd.read_csv(f'CSVs/LONESTAR_NRT_TABLE_{Last_Year}.csv')\n",
    "    Last_Year_NRT_df['NRT Code'] = Last_Year_NRT_df['NRT Code'].fillna(0)\n",
    "    Last_Year_NRT_df['NRT Code'] = Last_Year_NRT_df['NRT Code'].astype(int)\n",
    "    Last_Year_NRT_df.iloc[-2:, 0] = ''\n",
    "\n",
    "Last_Year_NRT_df\n",
    "# Note, you already have this year's data you need, you can use the Swift_Nrt_Codes_df dataframe."
   ]
  },
  {
   "cell_type": "code",
   "execution_count": 34,
   "metadata": {},
   "outputs": [
    {
     "data": {
      "text/html": [
       "<div>\n",
       "<style scoped>\n",
       "    .dataframe tbody tr th:only-of-type {\n",
       "        vertical-align: middle;\n",
       "    }\n",
       "\n",
       "    .dataframe tbody tr th {\n",
       "        vertical-align: top;\n",
       "    }\n",
       "\n",
       "    .dataframe thead th {\n",
       "        text-align: right;\n",
       "    }\n",
       "</style>\n",
       "<table border=\"1\" class=\"dataframe\">\n",
       "  <thead>\n",
       "    <tr style=\"text-align: right;\">\n",
       "      <th></th>\n",
       "      <th>NRT Code</th>\n",
       "      <th>Description</th>\n",
       "      <th>JAN 2021</th>\n",
       "      <th>FEB 2021</th>\n",
       "      <th>MAR 2021</th>\n",
       "      <th>APR 2021</th>\n",
       "      <th>MAY 2021</th>\n",
       "      <th>JUN 2021</th>\n",
       "      <th>JUL 2021</th>\n",
       "      <th>AUG 2021</th>\n",
       "      <th>SEPT 2021</th>\n",
       "      <th>OCT 2021</th>\n",
       "    </tr>\n",
       "  </thead>\n",
       "  <tbody>\n",
       "    <tr>\n",
       "      <th>0</th>\n",
       "      <td>2002</td>\n",
       "      <td>Sidewall Cut(s)/Snag(s)</td>\n",
       "      <td>9</td>\n",
       "      <td>9</td>\n",
       "      <td>1</td>\n",
       "      <td>2</td>\n",
       "      <td>0</td>\n",
       "      <td>1</td>\n",
       "      <td>0</td>\n",
       "      <td>1</td>\n",
       "      <td>0</td>\n",
       "      <td>4</td>\n",
       "    </tr>\n",
       "    <tr>\n",
       "      <th>1</th>\n",
       "      <td>2005</td>\n",
       "      <td>Run to Destruction</td>\n",
       "      <td>0</td>\n",
       "      <td>0</td>\n",
       "      <td>0</td>\n",
       "      <td>0</td>\n",
       "      <td>0</td>\n",
       "      <td>0</td>\n",
       "      <td>0</td>\n",
       "      <td>0</td>\n",
       "      <td>0</td>\n",
       "      <td>0</td>\n",
       "    </tr>\n",
       "    <tr>\n",
       "      <th>2</th>\n",
       "      <td>2004</td>\n",
       "      <td>Run Under-Inflated</td>\n",
       "      <td>0</td>\n",
       "      <td>0</td>\n",
       "      <td>1</td>\n",
       "      <td>1</td>\n",
       "      <td>0</td>\n",
       "      <td>0</td>\n",
       "      <td>0</td>\n",
       "      <td>0</td>\n",
       "      <td>0</td>\n",
       "      <td>0</td>\n",
       "    </tr>\n",
       "    <tr>\n",
       "      <th>3</th>\n",
       "      <td>2101</td>\n",
       "      <td>Bead Damage - Mount/Dismount R</td>\n",
       "      <td>0</td>\n",
       "      <td>0</td>\n",
       "      <td>0</td>\n",
       "      <td>0</td>\n",
       "      <td>0</td>\n",
       "      <td>0</td>\n",
       "      <td>0</td>\n",
       "      <td>0</td>\n",
       "      <td>0</td>\n",
       "      <td>0</td>\n",
       "    </tr>\n",
       "    <tr>\n",
       "      <th>4</th>\n",
       "      <td>2006</td>\n",
       "      <td>Impact Split(s)</td>\n",
       "      <td>1</td>\n",
       "      <td>1</td>\n",
       "      <td>0</td>\n",
       "      <td>0</td>\n",
       "      <td>0</td>\n",
       "      <td>2</td>\n",
       "      <td>1</td>\n",
       "      <td>1</td>\n",
       "      <td>0</td>\n",
       "      <td>0</td>\n",
       "    </tr>\n",
       "    <tr>\n",
       "      <th>5</th>\n",
       "      <td>2009</td>\n",
       "      <td>Pinch Shock</td>\n",
       "      <td>7</td>\n",
       "      <td>2</td>\n",
       "      <td>1</td>\n",
       "      <td>4</td>\n",
       "      <td>1</td>\n",
       "      <td>0</td>\n",
       "      <td>1</td>\n",
       "      <td>0</td>\n",
       "      <td>1</td>\n",
       "      <td>0</td>\n",
       "    </tr>\n",
       "    <tr>\n",
       "      <th>6</th>\n",
       "      <td>2010</td>\n",
       "      <td>Rock Drilling</td>\n",
       "      <td>0</td>\n",
       "      <td>0</td>\n",
       "      <td>1</td>\n",
       "      <td>0</td>\n",
       "      <td>0</td>\n",
       "      <td>0</td>\n",
       "      <td>0</td>\n",
       "      <td>0</td>\n",
       "      <td>0</td>\n",
       "      <td>0</td>\n",
       "    </tr>\n",
       "    <tr>\n",
       "      <th>7</th>\n",
       "      <td>2102</td>\n",
       "      <td>Worn Too Far</td>\n",
       "      <td>2</td>\n",
       "      <td>3</td>\n",
       "      <td>2</td>\n",
       "      <td>1</td>\n",
       "      <td>0</td>\n",
       "      <td>0</td>\n",
       "      <td>0</td>\n",
       "      <td>1</td>\n",
       "      <td>0</td>\n",
       "      <td>1</td>\n",
       "    </tr>\n",
       "    <tr>\n",
       "      <th>8</th>\n",
       "      <td>2205</td>\n",
       "      <td>Shoulder Separation</td>\n",
       "      <td>0</td>\n",
       "      <td>2</td>\n",
       "      <td>5</td>\n",
       "      <td>1</td>\n",
       "      <td>0</td>\n",
       "      <td>1</td>\n",
       "      <td>1</td>\n",
       "      <td>0</td>\n",
       "      <td>0</td>\n",
       "      <td>0</td>\n",
       "    </tr>\n",
       "    <tr>\n",
       "      <th>9</th>\n",
       "      <td>2300</td>\n",
       "      <td>Outside of Fleet Specifications</td>\n",
       "      <td>10</td>\n",
       "      <td>17</td>\n",
       "      <td>43</td>\n",
       "      <td>28</td>\n",
       "      <td>8</td>\n",
       "      <td>10</td>\n",
       "      <td>16</td>\n",
       "      <td>7</td>\n",
       "      <td>16</td>\n",
       "      <td>12</td>\n",
       "    </tr>\n",
       "    <tr>\n",
       "      <th>10</th>\n",
       "      <td>2400</td>\n",
       "      <td>Injuries too Close/Large</td>\n",
       "      <td>5</td>\n",
       "      <td>2</td>\n",
       "      <td>2</td>\n",
       "      <td>1</td>\n",
       "      <td>2</td>\n",
       "      <td>0</td>\n",
       "      <td>1</td>\n",
       "      <td>0</td>\n",
       "      <td>1</td>\n",
       "      <td>0</td>\n",
       "    </tr>\n",
       "    <tr>\n",
       "      <th>11</th>\n",
       "      <td></td>\n",
       "      <td>OTHER NRT CODES</td>\n",
       "      <td>16</td>\n",
       "      <td>21</td>\n",
       "      <td>12</td>\n",
       "      <td>18</td>\n",
       "      <td>7</td>\n",
       "      <td>2</td>\n",
       "      <td>2</td>\n",
       "      <td>4</td>\n",
       "      <td>1</td>\n",
       "      <td>5</td>\n",
       "    </tr>\n",
       "    <tr>\n",
       "      <th>12</th>\n",
       "      <td></td>\n",
       "      <td>TOTAL</td>\n",
       "      <td>50</td>\n",
       "      <td>57</td>\n",
       "      <td>68</td>\n",
       "      <td>56</td>\n",
       "      <td>18</td>\n",
       "      <td>16</td>\n",
       "      <td>22</td>\n",
       "      <td>14</td>\n",
       "      <td>19</td>\n",
       "      <td>22</td>\n",
       "    </tr>\n",
       "  </tbody>\n",
       "</table>\n",
       "</div>"
      ],
      "text/plain": [
       "   NRT Code                      Description  JAN 2021  FEB 2021  MAR 2021  \\\n",
       "0      2002          Sidewall Cut(s)/Snag(s)         9         9         1   \n",
       "1      2005               Run to Destruction         0         0         0   \n",
       "2      2004               Run Under-Inflated         0         0         1   \n",
       "3      2101   Bead Damage - Mount/Dismount R         0         0         0   \n",
       "4      2006                  Impact Split(s)         1         1         0   \n",
       "5      2009                      Pinch Shock         7         2         1   \n",
       "6      2010                    Rock Drilling         0         0         1   \n",
       "7      2102                     Worn Too Far         2         3         2   \n",
       "8      2205              Shoulder Separation         0         2         5   \n",
       "9      2300  Outside of Fleet Specifications        10        17        43   \n",
       "10     2400         Injuries too Close/Large         5         2         2   \n",
       "11                           OTHER NRT CODES        16        21        12   \n",
       "12                                     TOTAL        50        57        68   \n",
       "\n",
       "    APR 2021  MAY 2021  JUN 2021  JUL 2021  AUG 2021  SEPT 2021  OCT 2021  \n",
       "0          2         0         1         0         1          0         4  \n",
       "1          0         0         0         0         0          0         0  \n",
       "2          1         0         0         0         0          0         0  \n",
       "3          0         0         0         0         0          0         0  \n",
       "4          0         0         2         1         1          0         0  \n",
       "5          4         1         0         1         0          1         0  \n",
       "6          0         0         0         0         0          0         0  \n",
       "7          1         0         0         0         1          0         1  \n",
       "8          1         0         1         1         0          0         0  \n",
       "9         28         8        10        16         7         16        12  \n",
       "10         1         2         0         1         0          1         0  \n",
       "11        18         7         2         2         4          1         5  \n",
       "12        56        18        16        22        14         19        22  "
      ]
     },
     "execution_count": 34,
     "metadata": {},
     "output_type": "execute_result"
    }
   ],
   "source": [
    "# Drop YTD column for each df:\n",
    "Last_Year_NRT_df = Last_Year_NRT_df.drop(columns=['YTD'])\n",
    "Current_Year_NRT_df = Lonestar_Nrt_Codes_df_with_DASHES.drop(columns=['YTD'])\n",
    "\n",
    "# Rename the columns on Each Year's data so it shows not only the month but also the year:\n",
    "    # Last Year:\n",
    "Last_Year_NRT_df.columns = ['NRT Code', 'Description', f'JAN {Last_Year}', f'FEB {Last_Year}', f'MAR {Last_Year}', f'APR {Last_Year}', f'MAY {Last_Year}', f'JUN {Last_Year}', f'JUL {Last_Year}', f'AUG {Last_Year}', f'SEPT {Last_Year}', f'OCT {Last_Year}', f'NOV {Last_Year}', f'DEC {Last_Year}']\n",
    "    # Current Year:\n",
    "Current_Year_NRT_df.columns = ['NRT Code', 'Description', f'JAN {Current_Year}', f'FEB {Current_Year}', f'MAR {Current_Year}', f'APR {Current_Year}', f'MAY {Current_Year}', f'JUN {Current_Year}', f'JUL {Current_Year}', f'AUG {Current_Year}', f'SEPT {Current_Year}', f'OCT {Current_Year}', f'NOV {Current_Year}', f'DEC {Current_Year}']\n",
    "\n",
    "# For the Current Year, drop columns with dashes:\n",
    "Current_Year_NRT_df = Current_Year_NRT_df.loc[:, ~(Current_Year_NRT_df.astype(str) == '-').all()]\n",
    "\n",
    "Current_Year_NRT_df"
   ]
  },
  {
   "cell_type": "code",
   "execution_count": 35,
   "metadata": {},
   "outputs": [
    {
     "data": {
      "text/html": [
       "<div>\n",
       "<style scoped>\n",
       "    .dataframe tbody tr th:only-of-type {\n",
       "        vertical-align: middle;\n",
       "    }\n",
       "\n",
       "    .dataframe tbody tr th {\n",
       "        vertical-align: top;\n",
       "    }\n",
       "\n",
       "    .dataframe thead th {\n",
       "        text-align: right;\n",
       "    }\n",
       "</style>\n",
       "<table border=\"1\" class=\"dataframe\">\n",
       "  <thead>\n",
       "    <tr style=\"text-align: right;\">\n",
       "      <th></th>\n",
       "      <th>NRT Code</th>\n",
       "      <th>Description</th>\n",
       "      <th>JAN 2020</th>\n",
       "      <th>FEB 2020</th>\n",
       "      <th>MAR 2020</th>\n",
       "      <th>APR 2020</th>\n",
       "      <th>MAY 2020</th>\n",
       "      <th>JUN 2020</th>\n",
       "      <th>JUL 2020</th>\n",
       "      <th>AUG 2020</th>\n",
       "      <th>SEPT 2020</th>\n",
       "      <th>OCT 2020</th>\n",
       "      <th>NOV 2020</th>\n",
       "      <th>DEC 2020</th>\n",
       "      <th>JAN 2021</th>\n",
       "      <th>FEB 2021</th>\n",
       "      <th>MAR 2021</th>\n",
       "      <th>APR 2021</th>\n",
       "      <th>MAY 2021</th>\n",
       "      <th>JUN 2021</th>\n",
       "      <th>JUL 2021</th>\n",
       "      <th>AUG 2021</th>\n",
       "      <th>SEPT 2021</th>\n",
       "      <th>OCT 2021</th>\n",
       "    </tr>\n",
       "  </thead>\n",
       "  <tbody>\n",
       "    <tr>\n",
       "      <th>0</th>\n",
       "      <td>2002</td>\n",
       "      <td>Sidewall Cut(s)/Snag(s)</td>\n",
       "      <td>2</td>\n",
       "      <td>6</td>\n",
       "      <td>6</td>\n",
       "      <td>1</td>\n",
       "      <td>2</td>\n",
       "      <td>3</td>\n",
       "      <td>3</td>\n",
       "      <td>3</td>\n",
       "      <td>3</td>\n",
       "      <td>5</td>\n",
       "      <td>2</td>\n",
       "      <td>6</td>\n",
       "      <td>9</td>\n",
       "      <td>9</td>\n",
       "      <td>1</td>\n",
       "      <td>2</td>\n",
       "      <td>0</td>\n",
       "      <td>1</td>\n",
       "      <td>0</td>\n",
       "      <td>1</td>\n",
       "      <td>0</td>\n",
       "      <td>4</td>\n",
       "    </tr>\n",
       "    <tr>\n",
       "      <th>1</th>\n",
       "      <td>2004</td>\n",
       "      <td>Run Under-Inflated</td>\n",
       "      <td>0</td>\n",
       "      <td>1</td>\n",
       "      <td>0</td>\n",
       "      <td>0</td>\n",
       "      <td>1</td>\n",
       "      <td>0</td>\n",
       "      <td>0</td>\n",
       "      <td>0</td>\n",
       "      <td>0</td>\n",
       "      <td>1</td>\n",
       "      <td>1</td>\n",
       "      <td>0</td>\n",
       "      <td>0</td>\n",
       "      <td>0</td>\n",
       "      <td>0</td>\n",
       "      <td>0</td>\n",
       "      <td>0</td>\n",
       "      <td>0</td>\n",
       "      <td>0</td>\n",
       "      <td>0</td>\n",
       "      <td>0</td>\n",
       "      <td>0</td>\n",
       "    </tr>\n",
       "    <tr>\n",
       "      <th>2</th>\n",
       "      <td>2005</td>\n",
       "      <td>Run to Destruction</td>\n",
       "      <td>0</td>\n",
       "      <td>0</td>\n",
       "      <td>0</td>\n",
       "      <td>0</td>\n",
       "      <td>0</td>\n",
       "      <td>0</td>\n",
       "      <td>0</td>\n",
       "      <td>0</td>\n",
       "      <td>0</td>\n",
       "      <td>0</td>\n",
       "      <td>0</td>\n",
       "      <td>0</td>\n",
       "      <td>0</td>\n",
       "      <td>0</td>\n",
       "      <td>1</td>\n",
       "      <td>1</td>\n",
       "      <td>0</td>\n",
       "      <td>0</td>\n",
       "      <td>0</td>\n",
       "      <td>0</td>\n",
       "      <td>0</td>\n",
       "      <td>0</td>\n",
       "    </tr>\n",
       "    <tr>\n",
       "      <th>3</th>\n",
       "      <td>2006</td>\n",
       "      <td>Impact Split(s)</td>\n",
       "      <td>0</td>\n",
       "      <td>1</td>\n",
       "      <td>0</td>\n",
       "      <td>0</td>\n",
       "      <td>0</td>\n",
       "      <td>0</td>\n",
       "      <td>0</td>\n",
       "      <td>0</td>\n",
       "      <td>0</td>\n",
       "      <td>1</td>\n",
       "      <td>0</td>\n",
       "      <td>0</td>\n",
       "      <td>0</td>\n",
       "      <td>0</td>\n",
       "      <td>0</td>\n",
       "      <td>0</td>\n",
       "      <td>0</td>\n",
       "      <td>0</td>\n",
       "      <td>0</td>\n",
       "      <td>0</td>\n",
       "      <td>0</td>\n",
       "      <td>0</td>\n",
       "    </tr>\n",
       "    <tr>\n",
       "      <th>4</th>\n",
       "      <td>2009</td>\n",
       "      <td>Pinch Shock</td>\n",
       "      <td>5</td>\n",
       "      <td>1</td>\n",
       "      <td>2</td>\n",
       "      <td>1</td>\n",
       "      <td>1</td>\n",
       "      <td>0</td>\n",
       "      <td>1</td>\n",
       "      <td>1</td>\n",
       "      <td>2</td>\n",
       "      <td>4</td>\n",
       "      <td>4</td>\n",
       "      <td>11</td>\n",
       "      <td>1</td>\n",
       "      <td>1</td>\n",
       "      <td>0</td>\n",
       "      <td>0</td>\n",
       "      <td>0</td>\n",
       "      <td>2</td>\n",
       "      <td>1</td>\n",
       "      <td>1</td>\n",
       "      <td>0</td>\n",
       "      <td>0</td>\n",
       "    </tr>\n",
       "    <tr>\n",
       "      <th>5</th>\n",
       "      <td>2010</td>\n",
       "      <td>Rock Drilling</td>\n",
       "      <td>1</td>\n",
       "      <td>1</td>\n",
       "      <td>1</td>\n",
       "      <td>0</td>\n",
       "      <td>0</td>\n",
       "      <td>0</td>\n",
       "      <td>0</td>\n",
       "      <td>0</td>\n",
       "      <td>0</td>\n",
       "      <td>1</td>\n",
       "      <td>1</td>\n",
       "      <td>0</td>\n",
       "      <td>7</td>\n",
       "      <td>2</td>\n",
       "      <td>1</td>\n",
       "      <td>4</td>\n",
       "      <td>1</td>\n",
       "      <td>0</td>\n",
       "      <td>1</td>\n",
       "      <td>0</td>\n",
       "      <td>1</td>\n",
       "      <td>0</td>\n",
       "    </tr>\n",
       "    <tr>\n",
       "      <th>6</th>\n",
       "      <td>2101</td>\n",
       "      <td>Bead Damage - Mount/Dismount R</td>\n",
       "      <td>0</td>\n",
       "      <td>1</td>\n",
       "      <td>0</td>\n",
       "      <td>0</td>\n",
       "      <td>1</td>\n",
       "      <td>0</td>\n",
       "      <td>0</td>\n",
       "      <td>0</td>\n",
       "      <td>0</td>\n",
       "      <td>0</td>\n",
       "      <td>0</td>\n",
       "      <td>0</td>\n",
       "      <td>0</td>\n",
       "      <td>0</td>\n",
       "      <td>1</td>\n",
       "      <td>0</td>\n",
       "      <td>0</td>\n",
       "      <td>0</td>\n",
       "      <td>0</td>\n",
       "      <td>0</td>\n",
       "      <td>0</td>\n",
       "      <td>0</td>\n",
       "    </tr>\n",
       "    <tr>\n",
       "      <th>7</th>\n",
       "      <td>2102</td>\n",
       "      <td>Worn Too Far</td>\n",
       "      <td>2</td>\n",
       "      <td>0</td>\n",
       "      <td>1</td>\n",
       "      <td>1</td>\n",
       "      <td>0</td>\n",
       "      <td>0</td>\n",
       "      <td>0</td>\n",
       "      <td>3</td>\n",
       "      <td>0</td>\n",
       "      <td>4</td>\n",
       "      <td>2</td>\n",
       "      <td>3</td>\n",
       "      <td>2</td>\n",
       "      <td>3</td>\n",
       "      <td>2</td>\n",
       "      <td>1</td>\n",
       "      <td>0</td>\n",
       "      <td>0</td>\n",
       "      <td>0</td>\n",
       "      <td>1</td>\n",
       "      <td>0</td>\n",
       "      <td>1</td>\n",
       "    </tr>\n",
       "    <tr>\n",
       "      <th>8</th>\n",
       "      <td>2205</td>\n",
       "      <td>Shoulder Separation</td>\n",
       "      <td>6</td>\n",
       "      <td>2</td>\n",
       "      <td>1</td>\n",
       "      <td>1</td>\n",
       "      <td>1</td>\n",
       "      <td>0</td>\n",
       "      <td>3</td>\n",
       "      <td>0</td>\n",
       "      <td>1</td>\n",
       "      <td>1</td>\n",
       "      <td>2</td>\n",
       "      <td>6</td>\n",
       "      <td>0</td>\n",
       "      <td>2</td>\n",
       "      <td>5</td>\n",
       "      <td>1</td>\n",
       "      <td>0</td>\n",
       "      <td>1</td>\n",
       "      <td>1</td>\n",
       "      <td>0</td>\n",
       "      <td>0</td>\n",
       "      <td>0</td>\n",
       "    </tr>\n",
       "    <tr>\n",
       "      <th>9</th>\n",
       "      <td>2300</td>\n",
       "      <td>Outside of Fleet Specifications</td>\n",
       "      <td>14</td>\n",
       "      <td>19</td>\n",
       "      <td>11</td>\n",
       "      <td>3</td>\n",
       "      <td>1</td>\n",
       "      <td>0</td>\n",
       "      <td>4</td>\n",
       "      <td>1</td>\n",
       "      <td>6</td>\n",
       "      <td>6</td>\n",
       "      <td>8</td>\n",
       "      <td>17</td>\n",
       "      <td>10</td>\n",
       "      <td>17</td>\n",
       "      <td>43</td>\n",
       "      <td>28</td>\n",
       "      <td>8</td>\n",
       "      <td>10</td>\n",
       "      <td>16</td>\n",
       "      <td>7</td>\n",
       "      <td>16</td>\n",
       "      <td>12</td>\n",
       "    </tr>\n",
       "    <tr>\n",
       "      <th>10</th>\n",
       "      <td>2400</td>\n",
       "      <td>Injuries too Close/Large</td>\n",
       "      <td>0</td>\n",
       "      <td>0</td>\n",
       "      <td>1</td>\n",
       "      <td>0</td>\n",
       "      <td>2</td>\n",
       "      <td>0</td>\n",
       "      <td>0</td>\n",
       "      <td>2</td>\n",
       "      <td>1</td>\n",
       "      <td>1</td>\n",
       "      <td>1</td>\n",
       "      <td>0</td>\n",
       "      <td>5</td>\n",
       "      <td>2</td>\n",
       "      <td>2</td>\n",
       "      <td>1</td>\n",
       "      <td>2</td>\n",
       "      <td>0</td>\n",
       "      <td>1</td>\n",
       "      <td>0</td>\n",
       "      <td>1</td>\n",
       "      <td>0</td>\n",
       "    </tr>\n",
       "    <tr>\n",
       "      <th>11</th>\n",
       "      <td></td>\n",
       "      <td>OTHER NRT CODES</td>\n",
       "      <td>10</td>\n",
       "      <td>10</td>\n",
       "      <td>13</td>\n",
       "      <td>2</td>\n",
       "      <td>4</td>\n",
       "      <td>2</td>\n",
       "      <td>5</td>\n",
       "      <td>8</td>\n",
       "      <td>7</td>\n",
       "      <td>42</td>\n",
       "      <td>10</td>\n",
       "      <td>17</td>\n",
       "      <td>16</td>\n",
       "      <td>21</td>\n",
       "      <td>12</td>\n",
       "      <td>18</td>\n",
       "      <td>7</td>\n",
       "      <td>2</td>\n",
       "      <td>2</td>\n",
       "      <td>4</td>\n",
       "      <td>1</td>\n",
       "      <td>5</td>\n",
       "    </tr>\n",
       "    <tr>\n",
       "      <th>12</th>\n",
       "      <td></td>\n",
       "      <td>TOTAL</td>\n",
       "      <td>40</td>\n",
       "      <td>42</td>\n",
       "      <td>36</td>\n",
       "      <td>9</td>\n",
       "      <td>13</td>\n",
       "      <td>5</td>\n",
       "      <td>16</td>\n",
       "      <td>18</td>\n",
       "      <td>20</td>\n",
       "      <td>66</td>\n",
       "      <td>31</td>\n",
       "      <td>60</td>\n",
       "      <td>50</td>\n",
       "      <td>57</td>\n",
       "      <td>68</td>\n",
       "      <td>56</td>\n",
       "      <td>18</td>\n",
       "      <td>16</td>\n",
       "      <td>22</td>\n",
       "      <td>14</td>\n",
       "      <td>19</td>\n",
       "      <td>22</td>\n",
       "    </tr>\n",
       "  </tbody>\n",
       "</table>\n",
       "</div>"
      ],
      "text/plain": [
       "   NRT Code                      Description  JAN 2020  FEB 2020  MAR 2020  \\\n",
       "0      2002          Sidewall Cut(s)/Snag(s)         2         6         6   \n",
       "1      2004               Run Under-Inflated         0         1         0   \n",
       "2      2005               Run to Destruction         0         0         0   \n",
       "3      2006                  Impact Split(s)         0         1         0   \n",
       "4      2009                      Pinch Shock         5         1         2   \n",
       "5      2010                    Rock Drilling         1         1         1   \n",
       "6      2101   Bead Damage - Mount/Dismount R         0         1         0   \n",
       "7      2102                     Worn Too Far         2         0         1   \n",
       "8      2205              Shoulder Separation         6         2         1   \n",
       "9      2300  Outside of Fleet Specifications        14        19        11   \n",
       "10     2400         Injuries too Close/Large         0         0         1   \n",
       "11                           OTHER NRT CODES        10        10        13   \n",
       "12                                     TOTAL        40        42        36   \n",
       "\n",
       "    APR 2020  MAY 2020  JUN 2020  JUL 2020  AUG 2020  SEPT 2020  OCT 2020  \\\n",
       "0          1         2         3         3         3          3         5   \n",
       "1          0         1         0         0         0          0         1   \n",
       "2          0         0         0         0         0          0         0   \n",
       "3          0         0         0         0         0          0         1   \n",
       "4          1         1         0         1         1          2         4   \n",
       "5          0         0         0         0         0          0         1   \n",
       "6          0         1         0         0         0          0         0   \n",
       "7          1         0         0         0         3          0         4   \n",
       "8          1         1         0         3         0          1         1   \n",
       "9          3         1         0         4         1          6         6   \n",
       "10         0         2         0         0         2          1         1   \n",
       "11         2         4         2         5         8          7        42   \n",
       "12         9        13         5        16        18         20        66   \n",
       "\n",
       "    NOV 2020  DEC 2020  JAN 2021  FEB 2021  MAR 2021  APR 2021  MAY 2021  \\\n",
       "0          2         6         9         9         1         2         0   \n",
       "1          1         0         0         0         0         0         0   \n",
       "2          0         0         0         0         1         1         0   \n",
       "3          0         0         0         0         0         0         0   \n",
       "4          4        11         1         1         0         0         0   \n",
       "5          1         0         7         2         1         4         1   \n",
       "6          0         0         0         0         1         0         0   \n",
       "7          2         3         2         3         2         1         0   \n",
       "8          2         6         0         2         5         1         0   \n",
       "9          8        17        10        17        43        28         8   \n",
       "10         1         0         5         2         2         1         2   \n",
       "11        10        17        16        21        12        18         7   \n",
       "12        31        60        50        57        68        56        18   \n",
       "\n",
       "    JUN 2021  JUL 2021  AUG 2021  SEPT 2021  OCT 2021  \n",
       "0          1         0         1          0         4  \n",
       "1          0         0         0          0         0  \n",
       "2          0         0         0          0         0  \n",
       "3          0         0         0          0         0  \n",
       "4          2         1         1          0         0  \n",
       "5          0         1         0          1         0  \n",
       "6          0         0         0          0         0  \n",
       "7          0         0         1          0         1  \n",
       "8          1         1         0          0         0  \n",
       "9         10        16         7         16        12  \n",
       "10         0         1         0          1         0  \n",
       "11         2         2         4          1         5  \n",
       "12        16        22        14         19        22  "
      ]
     },
     "execution_count": 35,
     "metadata": {},
     "output_type": "execute_result"
    }
   ],
   "source": [
    "# To merge, we ONLY want \"Category\" on ONE df.  We'll drop \"NRT Code\" and \"Description\" on ALL dfs that are not the oldest year we're testing.\n",
    "Current_Year_NRT_df = Current_Year_NRT_df.drop(columns = ['NRT Code', 'Description'])\n",
    "\n",
    "# Now add a new TEMPORARY column for ALL dfs we're testing which will be ALL unique values but identical for each df, so we can merge \"on\" that temporary column\n",
    "Last_Year_NRT_df['Temp Col'] = range(len(Last_Year_NRT_df))\n",
    "Current_Year_NRT_df['Temp Col'] = range(len(Current_Year_NRT_df))\n",
    "\n",
    "# Merge each year together into one DF:\n",
    "Merged_NRT_df = pd.merge(Last_Year_NRT_df, Current_Year_NRT_df, how='outer', on='Temp Col')\n",
    "\n",
    "# Now delete the \"Temp Col\" from the merged df:\n",
    "Merged_NRT_df = Merged_NRT_df.drop(columns = ['Temp Col'])\n",
    "\n",
    "pd.set_option('display.max_columns', None)\n",
    "Merged_NRT_df"
   ]
  },
  {
   "cell_type": "code",
   "execution_count": 36,
   "metadata": {},
   "outputs": [
    {
     "data": {
      "text/html": [
       "<div>\n",
       "<style scoped>\n",
       "    .dataframe tbody tr th:only-of-type {\n",
       "        vertical-align: middle;\n",
       "    }\n",
       "\n",
       "    .dataframe tbody tr th {\n",
       "        vertical-align: top;\n",
       "    }\n",
       "\n",
       "    .dataframe thead th {\n",
       "        text-align: right;\n",
       "    }\n",
       "</style>\n",
       "<table border=\"1\" class=\"dataframe\">\n",
       "  <thead>\n",
       "    <tr style=\"text-align: right;\">\n",
       "      <th></th>\n",
       "      <th>month-yr</th>\n",
       "      <th>Sidewall Cut(s)/Snag(s)</th>\n",
       "      <th>Run Under-Inflated</th>\n",
       "      <th>Run to Destruction</th>\n",
       "      <th>Impact Split(s)</th>\n",
       "      <th>Pinch Shock</th>\n",
       "      <th>Rock Drilling</th>\n",
       "      <th>Bead Damage - Mount/Dismount R</th>\n",
       "      <th>Worn Too Far</th>\n",
       "      <th>Shoulder Separation</th>\n",
       "      <th>Outside of Fleet Specifications</th>\n",
       "      <th>Injuries too Close/Large</th>\n",
       "      <th>OTHER NRT CODES</th>\n",
       "    </tr>\n",
       "  </thead>\n",
       "  <tbody>\n",
       "    <tr>\n",
       "      <th>0</th>\n",
       "      <td>JAN 2020</td>\n",
       "      <td>2</td>\n",
       "      <td>0</td>\n",
       "      <td>0</td>\n",
       "      <td>0</td>\n",
       "      <td>5</td>\n",
       "      <td>1</td>\n",
       "      <td>0</td>\n",
       "      <td>2</td>\n",
       "      <td>6</td>\n",
       "      <td>14</td>\n",
       "      <td>0</td>\n",
       "      <td>10</td>\n",
       "    </tr>\n",
       "    <tr>\n",
       "      <th>1</th>\n",
       "      <td>FEB 2020</td>\n",
       "      <td>6</td>\n",
       "      <td>1</td>\n",
       "      <td>0</td>\n",
       "      <td>1</td>\n",
       "      <td>1</td>\n",
       "      <td>1</td>\n",
       "      <td>1</td>\n",
       "      <td>0</td>\n",
       "      <td>2</td>\n",
       "      <td>19</td>\n",
       "      <td>0</td>\n",
       "      <td>10</td>\n",
       "    </tr>\n",
       "    <tr>\n",
       "      <th>2</th>\n",
       "      <td>MAR 2020</td>\n",
       "      <td>6</td>\n",
       "      <td>0</td>\n",
       "      <td>0</td>\n",
       "      <td>0</td>\n",
       "      <td>2</td>\n",
       "      <td>1</td>\n",
       "      <td>0</td>\n",
       "      <td>1</td>\n",
       "      <td>1</td>\n",
       "      <td>11</td>\n",
       "      <td>1</td>\n",
       "      <td>13</td>\n",
       "    </tr>\n",
       "    <tr>\n",
       "      <th>3</th>\n",
       "      <td>APR 2020</td>\n",
       "      <td>1</td>\n",
       "      <td>0</td>\n",
       "      <td>0</td>\n",
       "      <td>0</td>\n",
       "      <td>1</td>\n",
       "      <td>0</td>\n",
       "      <td>0</td>\n",
       "      <td>1</td>\n",
       "      <td>1</td>\n",
       "      <td>3</td>\n",
       "      <td>0</td>\n",
       "      <td>2</td>\n",
       "    </tr>\n",
       "    <tr>\n",
       "      <th>4</th>\n",
       "      <td>MAY 2020</td>\n",
       "      <td>2</td>\n",
       "      <td>1</td>\n",
       "      <td>0</td>\n",
       "      <td>0</td>\n",
       "      <td>1</td>\n",
       "      <td>0</td>\n",
       "      <td>1</td>\n",
       "      <td>0</td>\n",
       "      <td>1</td>\n",
       "      <td>1</td>\n",
       "      <td>2</td>\n",
       "      <td>4</td>\n",
       "    </tr>\n",
       "    <tr>\n",
       "      <th>5</th>\n",
       "      <td>JUN 2020</td>\n",
       "      <td>3</td>\n",
       "      <td>0</td>\n",
       "      <td>0</td>\n",
       "      <td>0</td>\n",
       "      <td>0</td>\n",
       "      <td>0</td>\n",
       "      <td>0</td>\n",
       "      <td>0</td>\n",
       "      <td>0</td>\n",
       "      <td>0</td>\n",
       "      <td>0</td>\n",
       "      <td>2</td>\n",
       "    </tr>\n",
       "    <tr>\n",
       "      <th>6</th>\n",
       "      <td>JUL 2020</td>\n",
       "      <td>3</td>\n",
       "      <td>0</td>\n",
       "      <td>0</td>\n",
       "      <td>0</td>\n",
       "      <td>1</td>\n",
       "      <td>0</td>\n",
       "      <td>0</td>\n",
       "      <td>0</td>\n",
       "      <td>3</td>\n",
       "      <td>4</td>\n",
       "      <td>0</td>\n",
       "      <td>5</td>\n",
       "    </tr>\n",
       "    <tr>\n",
       "      <th>7</th>\n",
       "      <td>AUG 2020</td>\n",
       "      <td>3</td>\n",
       "      <td>0</td>\n",
       "      <td>0</td>\n",
       "      <td>0</td>\n",
       "      <td>1</td>\n",
       "      <td>0</td>\n",
       "      <td>0</td>\n",
       "      <td>3</td>\n",
       "      <td>0</td>\n",
       "      <td>1</td>\n",
       "      <td>2</td>\n",
       "      <td>8</td>\n",
       "    </tr>\n",
       "    <tr>\n",
       "      <th>8</th>\n",
       "      <td>SEPT 2020</td>\n",
       "      <td>3</td>\n",
       "      <td>0</td>\n",
       "      <td>0</td>\n",
       "      <td>0</td>\n",
       "      <td>2</td>\n",
       "      <td>0</td>\n",
       "      <td>0</td>\n",
       "      <td>0</td>\n",
       "      <td>1</td>\n",
       "      <td>6</td>\n",
       "      <td>1</td>\n",
       "      <td>7</td>\n",
       "    </tr>\n",
       "    <tr>\n",
       "      <th>9</th>\n",
       "      <td>OCT 2020</td>\n",
       "      <td>5</td>\n",
       "      <td>1</td>\n",
       "      <td>0</td>\n",
       "      <td>1</td>\n",
       "      <td>4</td>\n",
       "      <td>1</td>\n",
       "      <td>0</td>\n",
       "      <td>4</td>\n",
       "      <td>1</td>\n",
       "      <td>6</td>\n",
       "      <td>1</td>\n",
       "      <td>42</td>\n",
       "    </tr>\n",
       "    <tr>\n",
       "      <th>10</th>\n",
       "      <td>NOV 2020</td>\n",
       "      <td>2</td>\n",
       "      <td>1</td>\n",
       "      <td>0</td>\n",
       "      <td>0</td>\n",
       "      <td>4</td>\n",
       "      <td>1</td>\n",
       "      <td>0</td>\n",
       "      <td>2</td>\n",
       "      <td>2</td>\n",
       "      <td>8</td>\n",
       "      <td>1</td>\n",
       "      <td>10</td>\n",
       "    </tr>\n",
       "    <tr>\n",
       "      <th>11</th>\n",
       "      <td>DEC 2020</td>\n",
       "      <td>6</td>\n",
       "      <td>0</td>\n",
       "      <td>0</td>\n",
       "      <td>0</td>\n",
       "      <td>11</td>\n",
       "      <td>0</td>\n",
       "      <td>0</td>\n",
       "      <td>3</td>\n",
       "      <td>6</td>\n",
       "      <td>17</td>\n",
       "      <td>0</td>\n",
       "      <td>17</td>\n",
       "    </tr>\n",
       "    <tr>\n",
       "      <th>12</th>\n",
       "      <td>JAN 2021</td>\n",
       "      <td>9</td>\n",
       "      <td>0</td>\n",
       "      <td>0</td>\n",
       "      <td>0</td>\n",
       "      <td>1</td>\n",
       "      <td>7</td>\n",
       "      <td>0</td>\n",
       "      <td>2</td>\n",
       "      <td>0</td>\n",
       "      <td>10</td>\n",
       "      <td>5</td>\n",
       "      <td>16</td>\n",
       "    </tr>\n",
       "    <tr>\n",
       "      <th>13</th>\n",
       "      <td>FEB 2021</td>\n",
       "      <td>9</td>\n",
       "      <td>0</td>\n",
       "      <td>0</td>\n",
       "      <td>0</td>\n",
       "      <td>1</td>\n",
       "      <td>2</td>\n",
       "      <td>0</td>\n",
       "      <td>3</td>\n",
       "      <td>2</td>\n",
       "      <td>17</td>\n",
       "      <td>2</td>\n",
       "      <td>21</td>\n",
       "    </tr>\n",
       "    <tr>\n",
       "      <th>14</th>\n",
       "      <td>MAR 2021</td>\n",
       "      <td>1</td>\n",
       "      <td>0</td>\n",
       "      <td>1</td>\n",
       "      <td>0</td>\n",
       "      <td>0</td>\n",
       "      <td>1</td>\n",
       "      <td>1</td>\n",
       "      <td>2</td>\n",
       "      <td>5</td>\n",
       "      <td>43</td>\n",
       "      <td>2</td>\n",
       "      <td>12</td>\n",
       "    </tr>\n",
       "    <tr>\n",
       "      <th>15</th>\n",
       "      <td>APR 2021</td>\n",
       "      <td>2</td>\n",
       "      <td>0</td>\n",
       "      <td>1</td>\n",
       "      <td>0</td>\n",
       "      <td>0</td>\n",
       "      <td>4</td>\n",
       "      <td>0</td>\n",
       "      <td>1</td>\n",
       "      <td>1</td>\n",
       "      <td>28</td>\n",
       "      <td>1</td>\n",
       "      <td>18</td>\n",
       "    </tr>\n",
       "    <tr>\n",
       "      <th>16</th>\n",
       "      <td>MAY 2021</td>\n",
       "      <td>0</td>\n",
       "      <td>0</td>\n",
       "      <td>0</td>\n",
       "      <td>0</td>\n",
       "      <td>0</td>\n",
       "      <td>1</td>\n",
       "      <td>0</td>\n",
       "      <td>0</td>\n",
       "      <td>0</td>\n",
       "      <td>8</td>\n",
       "      <td>2</td>\n",
       "      <td>7</td>\n",
       "    </tr>\n",
       "    <tr>\n",
       "      <th>17</th>\n",
       "      <td>JUN 2021</td>\n",
       "      <td>1</td>\n",
       "      <td>0</td>\n",
       "      <td>0</td>\n",
       "      <td>0</td>\n",
       "      <td>2</td>\n",
       "      <td>0</td>\n",
       "      <td>0</td>\n",
       "      <td>0</td>\n",
       "      <td>1</td>\n",
       "      <td>10</td>\n",
       "      <td>0</td>\n",
       "      <td>2</td>\n",
       "    </tr>\n",
       "    <tr>\n",
       "      <th>18</th>\n",
       "      <td>JUL 2021</td>\n",
       "      <td>0</td>\n",
       "      <td>0</td>\n",
       "      <td>0</td>\n",
       "      <td>0</td>\n",
       "      <td>1</td>\n",
       "      <td>1</td>\n",
       "      <td>0</td>\n",
       "      <td>0</td>\n",
       "      <td>1</td>\n",
       "      <td>16</td>\n",
       "      <td>1</td>\n",
       "      <td>2</td>\n",
       "    </tr>\n",
       "    <tr>\n",
       "      <th>19</th>\n",
       "      <td>AUG 2021</td>\n",
       "      <td>1</td>\n",
       "      <td>0</td>\n",
       "      <td>0</td>\n",
       "      <td>0</td>\n",
       "      <td>1</td>\n",
       "      <td>0</td>\n",
       "      <td>0</td>\n",
       "      <td>1</td>\n",
       "      <td>0</td>\n",
       "      <td>7</td>\n",
       "      <td>0</td>\n",
       "      <td>4</td>\n",
       "    </tr>\n",
       "    <tr>\n",
       "      <th>20</th>\n",
       "      <td>SEPT 2021</td>\n",
       "      <td>0</td>\n",
       "      <td>0</td>\n",
       "      <td>0</td>\n",
       "      <td>0</td>\n",
       "      <td>0</td>\n",
       "      <td>1</td>\n",
       "      <td>0</td>\n",
       "      <td>0</td>\n",
       "      <td>0</td>\n",
       "      <td>16</td>\n",
       "      <td>1</td>\n",
       "      <td>1</td>\n",
       "    </tr>\n",
       "    <tr>\n",
       "      <th>21</th>\n",
       "      <td>OCT 2021</td>\n",
       "      <td>4</td>\n",
       "      <td>0</td>\n",
       "      <td>0</td>\n",
       "      <td>0</td>\n",
       "      <td>0</td>\n",
       "      <td>0</td>\n",
       "      <td>0</td>\n",
       "      <td>1</td>\n",
       "      <td>0</td>\n",
       "      <td>12</td>\n",
       "      <td>0</td>\n",
       "      <td>5</td>\n",
       "    </tr>\n",
       "  </tbody>\n",
       "</table>\n",
       "</div>"
      ],
      "text/plain": [
       "     month-yr Sidewall Cut(s)/Snag(s) Run Under-Inflated Run to Destruction  \\\n",
       "0    JAN 2020                       2                  0                  0   \n",
       "1    FEB 2020                       6                  1                  0   \n",
       "2    MAR 2020                       6                  0                  0   \n",
       "3    APR 2020                       1                  0                  0   \n",
       "4    MAY 2020                       2                  1                  0   \n",
       "5    JUN 2020                       3                  0                  0   \n",
       "6    JUL 2020                       3                  0                  0   \n",
       "7    AUG 2020                       3                  0                  0   \n",
       "8   SEPT 2020                       3                  0                  0   \n",
       "9    OCT 2020                       5                  1                  0   \n",
       "10   NOV 2020                       2                  1                  0   \n",
       "11   DEC 2020                       6                  0                  0   \n",
       "12   JAN 2021                       9                  0                  0   \n",
       "13   FEB 2021                       9                  0                  0   \n",
       "14   MAR 2021                       1                  0                  1   \n",
       "15   APR 2021                       2                  0                  1   \n",
       "16   MAY 2021                       0                  0                  0   \n",
       "17   JUN 2021                       1                  0                  0   \n",
       "18   JUL 2021                       0                  0                  0   \n",
       "19   AUG 2021                       1                  0                  0   \n",
       "20  SEPT 2021                       0                  0                  0   \n",
       "21   OCT 2021                       4                  0                  0   \n",
       "\n",
       "   Impact Split(s) Pinch Shock Rock Drilling Bead Damage - Mount/Dismount R  \\\n",
       "0                0           5             1                              0   \n",
       "1                1           1             1                              1   \n",
       "2                0           2             1                              0   \n",
       "3                0           1             0                              0   \n",
       "4                0           1             0                              1   \n",
       "5                0           0             0                              0   \n",
       "6                0           1             0                              0   \n",
       "7                0           1             0                              0   \n",
       "8                0           2             0                              0   \n",
       "9                1           4             1                              0   \n",
       "10               0           4             1                              0   \n",
       "11               0          11             0                              0   \n",
       "12               0           1             7                              0   \n",
       "13               0           1             2                              0   \n",
       "14               0           0             1                              1   \n",
       "15               0           0             4                              0   \n",
       "16               0           0             1                              0   \n",
       "17               0           2             0                              0   \n",
       "18               0           1             1                              0   \n",
       "19               0           1             0                              0   \n",
       "20               0           0             1                              0   \n",
       "21               0           0             0                              0   \n",
       "\n",
       "   Worn Too Far Shoulder Separation Outside of Fleet Specifications  \\\n",
       "0             2                   6                              14   \n",
       "1             0                   2                              19   \n",
       "2             1                   1                              11   \n",
       "3             1                   1                               3   \n",
       "4             0                   1                               1   \n",
       "5             0                   0                               0   \n",
       "6             0                   3                               4   \n",
       "7             3                   0                               1   \n",
       "8             0                   1                               6   \n",
       "9             4                   1                               6   \n",
       "10            2                   2                               8   \n",
       "11            3                   6                              17   \n",
       "12            2                   0                              10   \n",
       "13            3                   2                              17   \n",
       "14            2                   5                              43   \n",
       "15            1                   1                              28   \n",
       "16            0                   0                               8   \n",
       "17            0                   1                              10   \n",
       "18            0                   1                              16   \n",
       "19            1                   0                               7   \n",
       "20            0                   0                              16   \n",
       "21            1                   0                              12   \n",
       "\n",
       "   Injuries too Close/Large OTHER NRT CODES  \n",
       "0                         0              10  \n",
       "1                         0              10  \n",
       "2                         1              13  \n",
       "3                         0               2  \n",
       "4                         2               4  \n",
       "5                         0               2  \n",
       "6                         0               5  \n",
       "7                         2               8  \n",
       "8                         1               7  \n",
       "9                         1              42  \n",
       "10                        1              10  \n",
       "11                        0              17  \n",
       "12                        5              16  \n",
       "13                        2              21  \n",
       "14                        2              12  \n",
       "15                        1              18  \n",
       "16                        2               7  \n",
       "17                        0               2  \n",
       "18                        1               2  \n",
       "19                        0               4  \n",
       "20                        1               1  \n",
       "21                        0               5  "
      ]
     },
     "execution_count": 36,
     "metadata": {},
     "output_type": "execute_result"
    }
   ],
   "source": [
    "# Transpose the Merged_Service_df to make it easier for graphing:\n",
    "Merged_NRT_df_TRANSPOSED = Merged_NRT_df.T\n",
    "\n",
    "Description_list_from_second_row = list(Merged_NRT_df_TRANSPOSED.iloc[1])\n",
    "Merged_NRT_df_TRANSPOSED = Merged_NRT_df_TRANSPOSED.iloc[2:, :]\n",
    "Merged_NRT_df_TRANSPOSED.columns = Description_list_from_second_row\n",
    "\n",
    "Merged_NRT_df_TRANSPOSED = Merged_NRT_df_TRANSPOSED.reset_index()\n",
    "Merged_NRT_df_TRANSPOSED = Merged_NRT_df_TRANSPOSED.rename(columns = {'index': 'month-yr'})\n",
    "Merged_NRT_df_TRANSPOSED = Merged_NRT_df_TRANSPOSED.drop(columns=['TOTAL'])\n",
    "\n",
    "\n",
    "Merged_NRT_df_TRANSPOSED"
   ]
  },
  {
   "cell_type": "code",
   "execution_count": 37,
   "metadata": {},
   "outputs": [
    {
     "data": {
      "application/vnd.plotly.v1+json": {
       "config": {
        "plotlyServerURL": "https://plotly.com"
       },
       "data": [
        {
         "line": {
          "color": "red",
          "width": 2.2
         },
         "marker": {
          "line": {
           "width": 0
          },
          "size": 2,
          "symbol": "diamond"
         },
         "name": "Sidewall Cut(s)/Snag(s)",
         "type": "scatter",
         "x": [
          "JAN 2020",
          "FEB 2020",
          "MAR 2020",
          "APR 2020",
          "MAY 2020",
          "JUN 2020",
          "JUL 2020",
          "AUG 2020",
          "SEPT 2020",
          "OCT 2020",
          "NOV 2020",
          "DEC 2020",
          "JAN 2021",
          "FEB 2021",
          "MAR 2021",
          "APR 2021",
          "MAY 2021",
          "JUN 2021",
          "JUL 2021",
          "AUG 2021",
          "SEPT 2021",
          "OCT 2021"
         ],
         "y": [
          2,
          6,
          6,
          1,
          2,
          3,
          3,
          3,
          3,
          5,
          2,
          6,
          9,
          9,
          1,
          2,
          0,
          1,
          0,
          1,
          0,
          4
         ]
        },
        {
         "line": {
          "color": "orange",
          "width": 2.2
         },
         "marker": {
          "line": {
           "width": 0
          },
          "size": 2,
          "symbol": "diamond"
         },
         "name": "Run Under-Inflated",
         "type": "scatter",
         "x": [
          "JAN 2020",
          "FEB 2020",
          "MAR 2020",
          "APR 2020",
          "MAY 2020",
          "JUN 2020",
          "JUL 2020",
          "AUG 2020",
          "SEPT 2020",
          "OCT 2020",
          "NOV 2020",
          "DEC 2020",
          "JAN 2021",
          "FEB 2021",
          "MAR 2021",
          "APR 2021",
          "MAY 2021",
          "JUN 2021",
          "JUL 2021",
          "AUG 2021",
          "SEPT 2021",
          "OCT 2021"
         ],
         "y": [
          0,
          1,
          0,
          0,
          1,
          0,
          0,
          0,
          0,
          1,
          1,
          0,
          0,
          0,
          0,
          0,
          0,
          0,
          0,
          0,
          0,
          0
         ]
        },
        {
         "line": {
          "color": "blue",
          "width": 2.2
         },
         "marker": {
          "line": {
           "width": 0
          },
          "size": 2,
          "symbol": "diamond"
         },
         "name": "Run to Destruction",
         "type": "scatter",
         "x": [
          "JAN 2020",
          "FEB 2020",
          "MAR 2020",
          "APR 2020",
          "MAY 2020",
          "JUN 2020",
          "JUL 2020",
          "AUG 2020",
          "SEPT 2020",
          "OCT 2020",
          "NOV 2020",
          "DEC 2020",
          "JAN 2021",
          "FEB 2021",
          "MAR 2021",
          "APR 2021",
          "MAY 2021",
          "JUN 2021",
          "JUL 2021",
          "AUG 2021",
          "SEPT 2021",
          "OCT 2021"
         ],
         "y": [
          0,
          0,
          0,
          0,
          0,
          0,
          0,
          0,
          0,
          0,
          0,
          0,
          0,
          0,
          1,
          1,
          0,
          0,
          0,
          0,
          0,
          0
         ]
        },
        {
         "line": {
          "color": "purple",
          "width": 2.2
         },
         "marker": {
          "line": {
           "width": 0
          },
          "size": 2,
          "symbol": "diamond"
         },
         "name": "Impact Split(s)",
         "type": "scatter",
         "x": [
          "JAN 2020",
          "FEB 2020",
          "MAR 2020",
          "APR 2020",
          "MAY 2020",
          "JUN 2020",
          "JUL 2020",
          "AUG 2020",
          "SEPT 2020",
          "OCT 2020",
          "NOV 2020",
          "DEC 2020",
          "JAN 2021",
          "FEB 2021",
          "MAR 2021",
          "APR 2021",
          "MAY 2021",
          "JUN 2021",
          "JUL 2021",
          "AUG 2021",
          "SEPT 2021",
          "OCT 2021"
         ],
         "y": [
          5,
          1,
          2,
          1,
          1,
          0,
          1,
          1,
          2,
          4,
          4,
          11,
          1,
          1,
          0,
          0,
          0,
          2,
          1,
          1,
          0,
          0
         ]
        },
        {
         "line": {
          "color": "darkgreen",
          "width": 2.2
         },
         "marker": {
          "line": {
           "width": 0
          },
          "size": 2,
          "symbol": "diamond"
         },
         "name": "Pinch Shock",
         "type": "scatter",
         "x": [
          "JAN 2020",
          "FEB 2020",
          "MAR 2020",
          "APR 2020",
          "MAY 2020",
          "JUN 2020",
          "JUL 2020",
          "AUG 2020",
          "SEPT 2020",
          "OCT 2020",
          "NOV 2020",
          "DEC 2020",
          "JAN 2021",
          "FEB 2021",
          "MAR 2021",
          "APR 2021",
          "MAY 2021",
          "JUN 2021",
          "JUL 2021",
          "AUG 2021",
          "SEPT 2021",
          "OCT 2021"
         ],
         "y": [
          2,
          0,
          1,
          1,
          0,
          0,
          0,
          3,
          0,
          4,
          2,
          3,
          2,
          3,
          2,
          1,
          0,
          0,
          0,
          1,
          0,
          1
         ]
        },
        {
         "line": {
          "color": "brown",
          "dash": "dot",
          "width": 2.2
         },
         "marker": {
          "line": {
           "width": 0
          },
          "size": 6,
          "symbol": "diamond"
         },
         "name": "Rock Drilling",
         "type": "scatter",
         "x": [
          "JAN 2020",
          "FEB 2020",
          "MAR 2020",
          "APR 2020",
          "MAY 2020",
          "JUN 2020",
          "JUL 2020",
          "AUG 2020",
          "SEPT 2020",
          "OCT 2020",
          "NOV 2020",
          "DEC 2020",
          "JAN 2021",
          "FEB 2021",
          "MAR 2021",
          "APR 2021",
          "MAY 2021",
          "JUN 2021",
          "JUL 2021",
          "AUG 2021",
          "SEPT 2021",
          "OCT 2021"
         ],
         "y": [
          1,
          1,
          1,
          0,
          0,
          0,
          0,
          0,
          0,
          1,
          1,
          0,
          7,
          2,
          1,
          4,
          1,
          0,
          1,
          0,
          1,
          0
         ]
        },
        {
         "line": {
          "color": "orange",
          "dash": "dot",
          "width": 2.2
         },
         "marker": {
          "line": {
           "width": 0
          },
          "size": 6,
          "symbol": "diamond"
         },
         "name": "Bead Damage - Mount/Dismount R",
         "type": "scatter",
         "x": [
          "JAN 2020",
          "FEB 2020",
          "MAR 2020",
          "APR 2020",
          "MAY 2020",
          "JUN 2020",
          "JUL 2020",
          "AUG 2020",
          "SEPT 2020",
          "OCT 2020",
          "NOV 2020",
          "DEC 2020",
          "JAN 2021",
          "FEB 2021",
          "MAR 2021",
          "APR 2021",
          "MAY 2021",
          "JUN 2021",
          "JUL 2021",
          "AUG 2021",
          "SEPT 2021",
          "OCT 2021"
         ],
         "y": [
          0,
          1,
          0,
          0,
          1,
          0,
          0,
          0,
          0,
          0,
          0,
          0,
          0,
          0,
          1,
          0,
          0,
          0,
          0,
          0,
          0,
          0
         ]
        },
        {
         "line": {
          "color": "royalblue",
          "dash": "dot",
          "width": 2.2
         },
         "marker": {
          "line": {
           "width": 0
          },
          "size": 6,
          "symbol": "diamond"
         },
         "name": "Worn Too Far",
         "type": "scatter",
         "x": [
          "JAN 2020",
          "FEB 2020",
          "MAR 2020",
          "APR 2020",
          "MAY 2020",
          "JUN 2020",
          "JUL 2020",
          "AUG 2020",
          "SEPT 2020",
          "OCT 2020",
          "NOV 2020",
          "DEC 2020",
          "JAN 2021",
          "FEB 2021",
          "MAR 2021",
          "APR 2021",
          "MAY 2021",
          "JUN 2021",
          "JUL 2021",
          "AUG 2021",
          "SEPT 2021",
          "OCT 2021"
         ],
         "y": [
          2,
          0,
          1,
          1,
          0,
          0,
          0,
          3,
          0,
          4,
          2,
          3,
          2,
          3,
          2,
          1,
          0,
          0,
          0,
          1,
          0,
          1
         ]
        },
        {
         "line": {
          "color": "purple",
          "dash": "dot",
          "width": 2.2
         },
         "marker": {
          "line": {
           "width": 0
          },
          "size": 6,
          "symbol": "diamond"
         },
         "name": "Shoulder Separation",
         "type": "scatter",
         "x": [
          "JAN 2020",
          "FEB 2020",
          "MAR 2020",
          "APR 2020",
          "MAY 2020",
          "JUN 2020",
          "JUL 2020",
          "AUG 2020",
          "SEPT 2020",
          "OCT 2020",
          "NOV 2020",
          "DEC 2020",
          "JAN 2021",
          "FEB 2021",
          "MAR 2021",
          "APR 2021",
          "MAY 2021",
          "JUN 2021",
          "JUL 2021",
          "AUG 2021",
          "SEPT 2021",
          "OCT 2021"
         ],
         "y": [
          6,
          2,
          1,
          1,
          1,
          0,
          3,
          0,
          1,
          1,
          2,
          6,
          0,
          2,
          5,
          1,
          0,
          1,
          1,
          0,
          0,
          0
         ]
        },
        {
         "line": {
          "color": "darkgreen",
          "dash": "dot",
          "width": 2.2
         },
         "marker": {
          "line": {
           "width": 0
          },
          "size": 6,
          "symbol": "diamond"
         },
         "name": "Outside of Fleet Specifications",
         "type": "scatter",
         "x": [
          "JAN 2020",
          "FEB 2020",
          "MAR 2020",
          "APR 2020",
          "MAY 2020",
          "JUN 2020",
          "JUL 2020",
          "AUG 2020",
          "SEPT 2020",
          "OCT 2020",
          "NOV 2020",
          "DEC 2020",
          "JAN 2021",
          "FEB 2021",
          "MAR 2021",
          "APR 2021",
          "MAY 2021",
          "JUN 2021",
          "JUL 2021",
          "AUG 2021",
          "SEPT 2021",
          "OCT 2021"
         ],
         "y": [
          14,
          19,
          11,
          3,
          1,
          0,
          4,
          1,
          6,
          6,
          8,
          17,
          10,
          17,
          43,
          28,
          8,
          10,
          16,
          7,
          16,
          12
         ]
        },
        {
         "line": {
          "color": "dimgray",
          "width": 3
         },
         "marker": {
          "line": {
           "width": 0
          },
          "size": 6,
          "symbol": "triangle-up"
         },
         "name": "Injuries too Close/Large",
         "type": "scatter",
         "x": [
          "JAN 2020",
          "FEB 2020",
          "MAR 2020",
          "APR 2020",
          "MAY 2020",
          "JUN 2020",
          "JUL 2020",
          "AUG 2020",
          "SEPT 2020",
          "OCT 2020",
          "NOV 2020",
          "DEC 2020",
          "JAN 2021",
          "FEB 2021",
          "MAR 2021",
          "APR 2021",
          "MAY 2021",
          "JUN 2021",
          "JUL 2021",
          "AUG 2021",
          "SEPT 2021",
          "OCT 2021"
         ],
         "y": [
          0,
          0,
          1,
          0,
          2,
          0,
          0,
          2,
          1,
          1,
          1,
          0,
          5,
          2,
          2,
          1,
          2,
          0,
          1,
          0,
          1,
          0
         ]
        },
        {
         "line": {
          "color": "turquoise",
          "width": 2.2
         },
         "marker": {
          "line": {
           "width": 0
          },
          "size": 2,
          "symbol": "diamond"
         },
         "name": "OTHER NRT CODES",
         "type": "scatter",
         "x": [
          "JAN 2020",
          "FEB 2020",
          "MAR 2020",
          "APR 2020",
          "MAY 2020",
          "JUN 2020",
          "JUL 2020",
          "AUG 2020",
          "SEPT 2020",
          "OCT 2020",
          "NOV 2020",
          "DEC 2020",
          "JAN 2021",
          "FEB 2021",
          "MAR 2021",
          "APR 2021",
          "MAY 2021",
          "JUN 2021",
          "JUL 2021",
          "AUG 2021",
          "SEPT 2021",
          "OCT 2021"
         ],
         "y": [
          10,
          10,
          13,
          2,
          4,
          2,
          5,
          8,
          7,
          42,
          10,
          17,
          16,
          21,
          12,
          18,
          7,
          2,
          2,
          4,
          1,
          5
         ]
        }
       ],
       "layout": {
        "annotations": [
         {
          "font": {
           "family": "Helvetica",
           "size": 30
          },
          "showarrow": false,
          "text": "<b>LAST YEAR<b>",
          "x": 0,
          "xanchor": "left",
          "xref": "x",
          "y": 1,
          "yanchor": "top",
          "yref": "y domain"
         },
         {
          "font": {
           "family": "Helvetica",
           "size": 30
          },
          "showarrow": false,
          "text": "<b>CURRENT YEAR<b>",
          "x": 12,
          "xanchor": "left",
          "xref": "x",
          "y": 1,
          "yanchor": "top",
          "yref": "y domain"
         }
        ],
        "autosize": false,
        "font": {
         "color": "black",
         "family": "Arial",
         "size": 19
        },
        "height": 1330,
        "legend": {
         "bgcolor": "white",
         "bordercolor": "black",
         "borderwidth": 0.03,
         "font": {
          "color": "black",
          "size": 23
         },
         "title": {
          "font": {
           "family": "Times New Roman"
          }
         },
         "x": 0,
         "y": -0.76
        },
        "shapes": [
         {
          "line": {
           "color": "green",
           "dash": "dash",
           "width": 6
          },
          "type": "line",
          "x0": 11.5,
          "x1": 11.5,
          "xref": "x",
          "y0": 0,
          "y1": 1,
          "yref": "y domain"
         },
         {
          "line": {
           "width": 0
          },
          "opacity": 0.25,
          "type": "rect",
          "x0": 0,
          "x1": 12,
          "xref": "x",
          "y0": 0,
          "y1": 1,
          "yref": "y domain"
         },
         {
          "line": {
           "width": 0
          },
          "opacity": 0.15,
          "type": "rect",
          "x0": 12,
          "x1": 12,
          "xref": "x",
          "y0": 0,
          "y1": 1,
          "yref": "y domain"
         }
        ],
        "showlegend": true,
        "template": {
         "data": {
          "bar": [
           {
            "error_x": {
             "color": "#2a3f5f"
            },
            "error_y": {
             "color": "#2a3f5f"
            },
            "marker": {
             "line": {
              "color": "#E5ECF6",
              "width": 0.5
             }
            },
            "type": "bar"
           }
          ],
          "barpolar": [
           {
            "marker": {
             "line": {
              "color": "#E5ECF6",
              "width": 0.5
             }
            },
            "type": "barpolar"
           }
          ],
          "carpet": [
           {
            "aaxis": {
             "endlinecolor": "#2a3f5f",
             "gridcolor": "white",
             "linecolor": "white",
             "minorgridcolor": "white",
             "startlinecolor": "#2a3f5f"
            },
            "baxis": {
             "endlinecolor": "#2a3f5f",
             "gridcolor": "white",
             "linecolor": "white",
             "minorgridcolor": "white",
             "startlinecolor": "#2a3f5f"
            },
            "type": "carpet"
           }
          ],
          "choropleth": [
           {
            "colorbar": {
             "outlinewidth": 0,
             "ticks": ""
            },
            "type": "choropleth"
           }
          ],
          "contour": [
           {
            "colorbar": {
             "outlinewidth": 0,
             "ticks": ""
            },
            "colorscale": [
             [
              0,
              "#0d0887"
             ],
             [
              0.1111111111111111,
              "#46039f"
             ],
             [
              0.2222222222222222,
              "#7201a8"
             ],
             [
              0.3333333333333333,
              "#9c179e"
             ],
             [
              0.4444444444444444,
              "#bd3786"
             ],
             [
              0.5555555555555556,
              "#d8576b"
             ],
             [
              0.6666666666666666,
              "#ed7953"
             ],
             [
              0.7777777777777778,
              "#fb9f3a"
             ],
             [
              0.8888888888888888,
              "#fdca26"
             ],
             [
              1,
              "#f0f921"
             ]
            ],
            "type": "contour"
           }
          ],
          "contourcarpet": [
           {
            "colorbar": {
             "outlinewidth": 0,
             "ticks": ""
            },
            "type": "contourcarpet"
           }
          ],
          "heatmap": [
           {
            "colorbar": {
             "outlinewidth": 0,
             "ticks": ""
            },
            "colorscale": [
             [
              0,
              "#0d0887"
             ],
             [
              0.1111111111111111,
              "#46039f"
             ],
             [
              0.2222222222222222,
              "#7201a8"
             ],
             [
              0.3333333333333333,
              "#9c179e"
             ],
             [
              0.4444444444444444,
              "#bd3786"
             ],
             [
              0.5555555555555556,
              "#d8576b"
             ],
             [
              0.6666666666666666,
              "#ed7953"
             ],
             [
              0.7777777777777778,
              "#fb9f3a"
             ],
             [
              0.8888888888888888,
              "#fdca26"
             ],
             [
              1,
              "#f0f921"
             ]
            ],
            "type": "heatmap"
           }
          ],
          "heatmapgl": [
           {
            "colorbar": {
             "outlinewidth": 0,
             "ticks": ""
            },
            "colorscale": [
             [
              0,
              "#0d0887"
             ],
             [
              0.1111111111111111,
              "#46039f"
             ],
             [
              0.2222222222222222,
              "#7201a8"
             ],
             [
              0.3333333333333333,
              "#9c179e"
             ],
             [
              0.4444444444444444,
              "#bd3786"
             ],
             [
              0.5555555555555556,
              "#d8576b"
             ],
             [
              0.6666666666666666,
              "#ed7953"
             ],
             [
              0.7777777777777778,
              "#fb9f3a"
             ],
             [
              0.8888888888888888,
              "#fdca26"
             ],
             [
              1,
              "#f0f921"
             ]
            ],
            "type": "heatmapgl"
           }
          ],
          "histogram": [
           {
            "marker": {
             "colorbar": {
              "outlinewidth": 0,
              "ticks": ""
             }
            },
            "type": "histogram"
           }
          ],
          "histogram2d": [
           {
            "colorbar": {
             "outlinewidth": 0,
             "ticks": ""
            },
            "colorscale": [
             [
              0,
              "#0d0887"
             ],
             [
              0.1111111111111111,
              "#46039f"
             ],
             [
              0.2222222222222222,
              "#7201a8"
             ],
             [
              0.3333333333333333,
              "#9c179e"
             ],
             [
              0.4444444444444444,
              "#bd3786"
             ],
             [
              0.5555555555555556,
              "#d8576b"
             ],
             [
              0.6666666666666666,
              "#ed7953"
             ],
             [
              0.7777777777777778,
              "#fb9f3a"
             ],
             [
              0.8888888888888888,
              "#fdca26"
             ],
             [
              1,
              "#f0f921"
             ]
            ],
            "type": "histogram2d"
           }
          ],
          "histogram2dcontour": [
           {
            "colorbar": {
             "outlinewidth": 0,
             "ticks": ""
            },
            "colorscale": [
             [
              0,
              "#0d0887"
             ],
             [
              0.1111111111111111,
              "#46039f"
             ],
             [
              0.2222222222222222,
              "#7201a8"
             ],
             [
              0.3333333333333333,
              "#9c179e"
             ],
             [
              0.4444444444444444,
              "#bd3786"
             ],
             [
              0.5555555555555556,
              "#d8576b"
             ],
             [
              0.6666666666666666,
              "#ed7953"
             ],
             [
              0.7777777777777778,
              "#fb9f3a"
             ],
             [
              0.8888888888888888,
              "#fdca26"
             ],
             [
              1,
              "#f0f921"
             ]
            ],
            "type": "histogram2dcontour"
           }
          ],
          "mesh3d": [
           {
            "colorbar": {
             "outlinewidth": 0,
             "ticks": ""
            },
            "type": "mesh3d"
           }
          ],
          "parcoords": [
           {
            "line": {
             "colorbar": {
              "outlinewidth": 0,
              "ticks": ""
             }
            },
            "type": "parcoords"
           }
          ],
          "pie": [
           {
            "automargin": true,
            "type": "pie"
           }
          ],
          "scatter": [
           {
            "marker": {
             "colorbar": {
              "outlinewidth": 0,
              "ticks": ""
             }
            },
            "type": "scatter"
           }
          ],
          "scatter3d": [
           {
            "line": {
             "colorbar": {
              "outlinewidth": 0,
              "ticks": ""
             }
            },
            "marker": {
             "colorbar": {
              "outlinewidth": 0,
              "ticks": ""
             }
            },
            "type": "scatter3d"
           }
          ],
          "scattercarpet": [
           {
            "marker": {
             "colorbar": {
              "outlinewidth": 0,
              "ticks": ""
             }
            },
            "type": "scattercarpet"
           }
          ],
          "scattergeo": [
           {
            "marker": {
             "colorbar": {
              "outlinewidth": 0,
              "ticks": ""
             }
            },
            "type": "scattergeo"
           }
          ],
          "scattergl": [
           {
            "marker": {
             "colorbar": {
              "outlinewidth": 0,
              "ticks": ""
             }
            },
            "type": "scattergl"
           }
          ],
          "scattermapbox": [
           {
            "marker": {
             "colorbar": {
              "outlinewidth": 0,
              "ticks": ""
             }
            },
            "type": "scattermapbox"
           }
          ],
          "scatterpolar": [
           {
            "marker": {
             "colorbar": {
              "outlinewidth": 0,
              "ticks": ""
             }
            },
            "type": "scatterpolar"
           }
          ],
          "scatterpolargl": [
           {
            "marker": {
             "colorbar": {
              "outlinewidth": 0,
              "ticks": ""
             }
            },
            "type": "scatterpolargl"
           }
          ],
          "scatterternary": [
           {
            "marker": {
             "colorbar": {
              "outlinewidth": 0,
              "ticks": ""
             }
            },
            "type": "scatterternary"
           }
          ],
          "surface": [
           {
            "colorbar": {
             "outlinewidth": 0,
             "ticks": ""
            },
            "colorscale": [
             [
              0,
              "#0d0887"
             ],
             [
              0.1111111111111111,
              "#46039f"
             ],
             [
              0.2222222222222222,
              "#7201a8"
             ],
             [
              0.3333333333333333,
              "#9c179e"
             ],
             [
              0.4444444444444444,
              "#bd3786"
             ],
             [
              0.5555555555555556,
              "#d8576b"
             ],
             [
              0.6666666666666666,
              "#ed7953"
             ],
             [
              0.7777777777777778,
              "#fb9f3a"
             ],
             [
              0.8888888888888888,
              "#fdca26"
             ],
             [
              1,
              "#f0f921"
             ]
            ],
            "type": "surface"
           }
          ],
          "table": [
           {
            "cells": {
             "fill": {
              "color": "#EBF0F8"
             },
             "line": {
              "color": "white"
             }
            },
            "header": {
             "fill": {
              "color": "#C8D4E3"
             },
             "line": {
              "color": "white"
             }
            },
            "type": "table"
           }
          ]
         },
         "layout": {
          "annotationdefaults": {
           "arrowcolor": "#2a3f5f",
           "arrowhead": 0,
           "arrowwidth": 1
          },
          "autotypenumbers": "strict",
          "coloraxis": {
           "colorbar": {
            "outlinewidth": 0,
            "ticks": ""
           }
          },
          "colorscale": {
           "diverging": [
            [
             0,
             "#8e0152"
            ],
            [
             0.1,
             "#c51b7d"
            ],
            [
             0.2,
             "#de77ae"
            ],
            [
             0.3,
             "#f1b6da"
            ],
            [
             0.4,
             "#fde0ef"
            ],
            [
             0.5,
             "#f7f7f7"
            ],
            [
             0.6,
             "#e6f5d0"
            ],
            [
             0.7,
             "#b8e186"
            ],
            [
             0.8,
             "#7fbc41"
            ],
            [
             0.9,
             "#4d9221"
            ],
            [
             1,
             "#276419"
            ]
           ],
           "sequential": [
            [
             0,
             "#0d0887"
            ],
            [
             0.1111111111111111,
             "#46039f"
            ],
            [
             0.2222222222222222,
             "#7201a8"
            ],
            [
             0.3333333333333333,
             "#9c179e"
            ],
            [
             0.4444444444444444,
             "#bd3786"
            ],
            [
             0.5555555555555556,
             "#d8576b"
            ],
            [
             0.6666666666666666,
             "#ed7953"
            ],
            [
             0.7777777777777778,
             "#fb9f3a"
            ],
            [
             0.8888888888888888,
             "#fdca26"
            ],
            [
             1,
             "#f0f921"
            ]
           ],
           "sequentialminus": [
            [
             0,
             "#0d0887"
            ],
            [
             0.1111111111111111,
             "#46039f"
            ],
            [
             0.2222222222222222,
             "#7201a8"
            ],
            [
             0.3333333333333333,
             "#9c179e"
            ],
            [
             0.4444444444444444,
             "#bd3786"
            ],
            [
             0.5555555555555556,
             "#d8576b"
            ],
            [
             0.6666666666666666,
             "#ed7953"
            ],
            [
             0.7777777777777778,
             "#fb9f3a"
            ],
            [
             0.8888888888888888,
             "#fdca26"
            ],
            [
             1,
             "#f0f921"
            ]
           ]
          },
          "colorway": [
           "#636efa",
           "#EF553B",
           "#00cc96",
           "#ab63fa",
           "#FFA15A",
           "#19d3f3",
           "#FF6692",
           "#B6E880",
           "#FF97FF",
           "#FECB52"
          ],
          "font": {
           "color": "#2a3f5f"
          },
          "geo": {
           "bgcolor": "white",
           "lakecolor": "white",
           "landcolor": "#E5ECF6",
           "showlakes": true,
           "showland": true,
           "subunitcolor": "white"
          },
          "hoverlabel": {
           "align": "left"
          },
          "hovermode": "closest",
          "mapbox": {
           "style": "light"
          },
          "paper_bgcolor": "white",
          "plot_bgcolor": "#E5ECF6",
          "polar": {
           "angularaxis": {
            "gridcolor": "white",
            "linecolor": "white",
            "ticks": ""
           },
           "bgcolor": "#E5ECF6",
           "radialaxis": {
            "gridcolor": "white",
            "linecolor": "white",
            "ticks": ""
           }
          },
          "scene": {
           "xaxis": {
            "backgroundcolor": "#E5ECF6",
            "gridcolor": "white",
            "gridwidth": 2,
            "linecolor": "white",
            "showbackground": true,
            "ticks": "",
            "zerolinecolor": "white"
           },
           "yaxis": {
            "backgroundcolor": "#E5ECF6",
            "gridcolor": "white",
            "gridwidth": 2,
            "linecolor": "white",
            "showbackground": true,
            "ticks": "",
            "zerolinecolor": "white"
           },
           "zaxis": {
            "backgroundcolor": "#E5ECF6",
            "gridcolor": "white",
            "gridwidth": 2,
            "linecolor": "white",
            "showbackground": true,
            "ticks": "",
            "zerolinecolor": "white"
           }
          },
          "shapedefaults": {
           "line": {
            "color": "#2a3f5f"
           }
          },
          "ternary": {
           "aaxis": {
            "gridcolor": "white",
            "linecolor": "white",
            "ticks": ""
           },
           "baxis": {
            "gridcolor": "white",
            "linecolor": "white",
            "ticks": ""
           },
           "bgcolor": "#E5ECF6",
           "caxis": {
            "gridcolor": "white",
            "linecolor": "white",
            "ticks": ""
           }
          },
          "title": {
           "x": 0.05
          },
          "xaxis": {
           "automargin": true,
           "gridcolor": "white",
           "linecolor": "white",
           "ticks": "",
           "title": {
            "standoff": 15
           },
           "zerolinecolor": "white",
           "zerolinewidth": 2
          },
          "yaxis": {
           "automargin": true,
           "gridcolor": "white",
           "linecolor": "white",
           "ticks": "",
           "title": {
            "standoff": 15
           },
           "zerolinecolor": "white",
           "zerolinewidth": 2
          }
         }
        },
        "title": {
         "font": {
          "color": "black",
          "size": 29
         },
         "text": "<b>SCRAP TREND  2020 - 2021</b>",
         "x": 0.5
        },
        "width": 1445,
        "xaxis": {
         "title": {
          "text": "Month-Year"
         }
        },
        "yaxis": {
         "title": {
          "text": "NUMBER OF NRT"
         }
        }
       }
      }
     },
     "metadata": {},
     "output_type": "display_data"
    },
    {
     "data": {
      "application/vnd.plotly.v1+json": {
       "config": {
        "plotlyServerURL": "https://plotly.com"
       },
       "data": [
        {
         "line": {
          "color": "red",
          "width": 2
         },
         "marker": {
          "line": {
           "width": 0
          },
          "size": 2,
          "symbol": "diamond"
         },
         "name": "Sidewall Cut(s)/Snag(s)",
         "type": "scatter",
         "x": [
          "JAN 2020",
          "FEB 2020",
          "MAR 2020",
          "APR 2020",
          "MAY 2020",
          "JUN 2020",
          "JUL 2020",
          "AUG 2020",
          "SEPT 2020",
          "OCT 2020",
          "NOV 2020",
          "DEC 2020",
          "JAN 2021",
          "FEB 2021",
          "MAR 2021",
          "APR 2021",
          "MAY 2021",
          "JUN 2021",
          "JUL 2021",
          "AUG 2021",
          "SEPT 2021",
          "OCT 2021"
         ],
         "y": [
          2,
          6,
          6,
          1,
          2,
          3,
          3,
          3,
          3,
          5,
          2,
          6,
          9,
          9,
          1,
          2,
          0,
          1,
          0,
          1,
          0,
          4
         ]
        },
        {
         "line": {
          "color": "orange",
          "width": 2
         },
         "marker": {
          "line": {
           "width": 0
          },
          "size": 2,
          "symbol": "diamond"
         },
         "name": "Run Under-Inflated",
         "type": "scatter",
         "x": [
          "JAN 2020",
          "FEB 2020",
          "MAR 2020",
          "APR 2020",
          "MAY 2020",
          "JUN 2020",
          "JUL 2020",
          "AUG 2020",
          "SEPT 2020",
          "OCT 2020",
          "NOV 2020",
          "DEC 2020",
          "JAN 2021",
          "FEB 2021",
          "MAR 2021",
          "APR 2021",
          "MAY 2021",
          "JUN 2021",
          "JUL 2021",
          "AUG 2021",
          "SEPT 2021",
          "OCT 2021"
         ],
         "y": [
          0,
          1,
          0,
          0,
          1,
          0,
          0,
          0,
          0,
          1,
          1,
          0,
          0,
          0,
          0,
          0,
          0,
          0,
          0,
          0,
          0,
          0
         ]
        },
        {
         "line": {
          "color": "blue",
          "width": 2
         },
         "marker": {
          "line": {
           "width": 0
          },
          "size": 2,
          "symbol": "diamond"
         },
         "name": "Run to Destruction",
         "type": "scatter",
         "x": [
          "JAN 2020",
          "FEB 2020",
          "MAR 2020",
          "APR 2020",
          "MAY 2020",
          "JUN 2020",
          "JUL 2020",
          "AUG 2020",
          "SEPT 2020",
          "OCT 2020",
          "NOV 2020",
          "DEC 2020",
          "JAN 2021",
          "FEB 2021",
          "MAR 2021",
          "APR 2021",
          "MAY 2021",
          "JUN 2021",
          "JUL 2021",
          "AUG 2021",
          "SEPT 2021",
          "OCT 2021"
         ],
         "y": [
          0,
          0,
          0,
          0,
          0,
          0,
          0,
          0,
          0,
          0,
          0,
          0,
          0,
          0,
          1,
          1,
          0,
          0,
          0,
          0,
          0,
          0
         ]
        },
        {
         "line": {
          "color": "purple",
          "width": 2
         },
         "marker": {
          "line": {
           "width": 0
          },
          "size": 2,
          "symbol": "diamond"
         },
         "name": "Impact Split(s)",
         "type": "scatter",
         "x": [
          "JAN 2020",
          "FEB 2020",
          "MAR 2020",
          "APR 2020",
          "MAY 2020",
          "JUN 2020",
          "JUL 2020",
          "AUG 2020",
          "SEPT 2020",
          "OCT 2020",
          "NOV 2020",
          "DEC 2020",
          "JAN 2021",
          "FEB 2021",
          "MAR 2021",
          "APR 2021",
          "MAY 2021",
          "JUN 2021",
          "JUL 2021",
          "AUG 2021",
          "SEPT 2021",
          "OCT 2021"
         ],
         "y": [
          5,
          1,
          2,
          1,
          1,
          0,
          1,
          1,
          2,
          4,
          4,
          11,
          1,
          1,
          0,
          0,
          0,
          2,
          1,
          1,
          0,
          0
         ]
        },
        {
         "line": {
          "color": "darkgreen",
          "width": 2
         },
         "marker": {
          "line": {
           "width": 0
          },
          "size": 2,
          "symbol": "diamond"
         },
         "name": "Pinch Shock",
         "type": "scatter",
         "x": [
          "JAN 2020",
          "FEB 2020",
          "MAR 2020",
          "APR 2020",
          "MAY 2020",
          "JUN 2020",
          "JUL 2020",
          "AUG 2020",
          "SEPT 2020",
          "OCT 2020",
          "NOV 2020",
          "DEC 2020",
          "JAN 2021",
          "FEB 2021",
          "MAR 2021",
          "APR 2021",
          "MAY 2021",
          "JUN 2021",
          "JUL 2021",
          "AUG 2021",
          "SEPT 2021",
          "OCT 2021"
         ],
         "y": [
          2,
          0,
          1,
          1,
          0,
          0,
          0,
          3,
          0,
          4,
          2,
          3,
          2,
          3,
          2,
          1,
          0,
          0,
          0,
          1,
          0,
          1
         ]
        },
        {
         "line": {
          "color": "brown",
          "dash": "dot",
          "width": 2
         },
         "marker": {
          "line": {
           "width": 0
          },
          "size": 6,
          "symbol": "diamond"
         },
         "name": "Rock Drilling",
         "type": "scatter",
         "x": [
          "JAN 2020",
          "FEB 2020",
          "MAR 2020",
          "APR 2020",
          "MAY 2020",
          "JUN 2020",
          "JUL 2020",
          "AUG 2020",
          "SEPT 2020",
          "OCT 2020",
          "NOV 2020",
          "DEC 2020",
          "JAN 2021",
          "FEB 2021",
          "MAR 2021",
          "APR 2021",
          "MAY 2021",
          "JUN 2021",
          "JUL 2021",
          "AUG 2021",
          "SEPT 2021",
          "OCT 2021"
         ],
         "y": [
          1,
          1,
          1,
          0,
          0,
          0,
          0,
          0,
          0,
          1,
          1,
          0,
          7,
          2,
          1,
          4,
          1,
          0,
          1,
          0,
          1,
          0
         ]
        },
        {
         "line": {
          "color": "orange",
          "dash": "dot",
          "width": 2
         },
         "marker": {
          "line": {
           "width": 0
          },
          "size": 6,
          "symbol": "diamond"
         },
         "name": "Bead Damage - Mount/Dismount R",
         "type": "scatter",
         "x": [
          "JAN 2020",
          "FEB 2020",
          "MAR 2020",
          "APR 2020",
          "MAY 2020",
          "JUN 2020",
          "JUL 2020",
          "AUG 2020",
          "SEPT 2020",
          "OCT 2020",
          "NOV 2020",
          "DEC 2020",
          "JAN 2021",
          "FEB 2021",
          "MAR 2021",
          "APR 2021",
          "MAY 2021",
          "JUN 2021",
          "JUL 2021",
          "AUG 2021",
          "SEPT 2021",
          "OCT 2021"
         ],
         "y": [
          0,
          1,
          0,
          0,
          1,
          0,
          0,
          0,
          0,
          0,
          0,
          0,
          0,
          0,
          1,
          0,
          0,
          0,
          0,
          0,
          0,
          0
         ]
        },
        {
         "line": {
          "color": "royalblue",
          "dash": "dot",
          "width": 2
         },
         "marker": {
          "line": {
           "width": 0
          },
          "size": 6,
          "symbol": "diamond"
         },
         "name": "Worn Too Far",
         "type": "scatter",
         "x": [
          "JAN 2020",
          "FEB 2020",
          "MAR 2020",
          "APR 2020",
          "MAY 2020",
          "JUN 2020",
          "JUL 2020",
          "AUG 2020",
          "SEPT 2020",
          "OCT 2020",
          "NOV 2020",
          "DEC 2020",
          "JAN 2021",
          "FEB 2021",
          "MAR 2021",
          "APR 2021",
          "MAY 2021",
          "JUN 2021",
          "JUL 2021",
          "AUG 2021",
          "SEPT 2021",
          "OCT 2021"
         ],
         "y": [
          2,
          0,
          1,
          1,
          0,
          0,
          0,
          3,
          0,
          4,
          2,
          3,
          2,
          3,
          2,
          1,
          0,
          0,
          0,
          1,
          0,
          1
         ]
        },
        {
         "line": {
          "color": "purple",
          "dash": "dot",
          "width": 2
         },
         "marker": {
          "line": {
           "width": 0
          },
          "size": 6,
          "symbol": "diamond"
         },
         "name": "Shoulder Separation",
         "type": "scatter",
         "x": [
          "JAN 2020",
          "FEB 2020",
          "MAR 2020",
          "APR 2020",
          "MAY 2020",
          "JUN 2020",
          "JUL 2020",
          "AUG 2020",
          "SEPT 2020",
          "OCT 2020",
          "NOV 2020",
          "DEC 2020",
          "JAN 2021",
          "FEB 2021",
          "MAR 2021",
          "APR 2021",
          "MAY 2021",
          "JUN 2021",
          "JUL 2021",
          "AUG 2021",
          "SEPT 2021",
          "OCT 2021"
         ],
         "y": [
          6,
          2,
          1,
          1,
          1,
          0,
          3,
          0,
          1,
          1,
          2,
          6,
          0,
          2,
          5,
          1,
          0,
          1,
          1,
          0,
          0,
          0
         ]
        },
        {
         "line": {
          "color": "darkgreen",
          "dash": "dot",
          "width": 2
         },
         "marker": {
          "line": {
           "width": 0
          },
          "size": 6,
          "symbol": "diamond"
         },
         "name": "Outside of Fleet Specifications",
         "type": "scatter",
         "x": [
          "JAN 2020",
          "FEB 2020",
          "MAR 2020",
          "APR 2020",
          "MAY 2020",
          "JUN 2020",
          "JUL 2020",
          "AUG 2020",
          "SEPT 2020",
          "OCT 2020",
          "NOV 2020",
          "DEC 2020",
          "JAN 2021",
          "FEB 2021",
          "MAR 2021",
          "APR 2021",
          "MAY 2021",
          "JUN 2021",
          "JUL 2021",
          "AUG 2021",
          "SEPT 2021",
          "OCT 2021"
         ],
         "y": [
          14,
          19,
          11,
          3,
          1,
          0,
          4,
          1,
          6,
          6,
          8,
          17,
          10,
          17,
          43,
          28,
          8,
          10,
          16,
          7,
          16,
          12
         ]
        },
        {
         "line": {
          "color": "dimgray",
          "width": 2
         },
         "marker": {
          "line": {
           "width": 0
          },
          "size": 6,
          "symbol": "triangle-up"
         },
         "name": "Injuries too Close/Large",
         "type": "scatter",
         "x": [
          "JAN 2020",
          "FEB 2020",
          "MAR 2020",
          "APR 2020",
          "MAY 2020",
          "JUN 2020",
          "JUL 2020",
          "AUG 2020",
          "SEPT 2020",
          "OCT 2020",
          "NOV 2020",
          "DEC 2020",
          "JAN 2021",
          "FEB 2021",
          "MAR 2021",
          "APR 2021",
          "MAY 2021",
          "JUN 2021",
          "JUL 2021",
          "AUG 2021",
          "SEPT 2021",
          "OCT 2021"
         ],
         "y": [
          0,
          0,
          1,
          0,
          2,
          0,
          0,
          2,
          1,
          1,
          1,
          0,
          5,
          2,
          2,
          1,
          2,
          0,
          1,
          0,
          1,
          0
         ]
        },
        {
         "line": {
          "color": "turquoise",
          "width": 2
         },
         "marker": {
          "line": {
           "width": 0
          },
          "size": 2,
          "symbol": "diamond"
         },
         "name": "OTHER NRT CODES",
         "type": "scatter",
         "x": [
          "JAN 2020",
          "FEB 2020",
          "MAR 2020",
          "APR 2020",
          "MAY 2020",
          "JUN 2020",
          "JUL 2020",
          "AUG 2020",
          "SEPT 2020",
          "OCT 2020",
          "NOV 2020",
          "DEC 2020",
          "JAN 2021",
          "FEB 2021",
          "MAR 2021",
          "APR 2021",
          "MAY 2021",
          "JUN 2021",
          "JUL 2021",
          "AUG 2021",
          "SEPT 2021",
          "OCT 2021"
         ],
         "y": [
          10,
          10,
          13,
          2,
          4,
          2,
          5,
          8,
          7,
          42,
          10,
          17,
          16,
          21,
          12,
          18,
          7,
          2,
          2,
          4,
          1,
          5
         ]
        }
       ],
       "layout": {
        "annotations": [
         {
          "font": {
           "family": "Helvetica",
           "size": 20
          },
          "showarrow": false,
          "text": "<b>LAST YEAR<b>",
          "x": 0,
          "xanchor": "left",
          "xref": "x",
          "y": 1,
          "yanchor": "top",
          "yref": "y domain"
         },
         {
          "font": {
           "family": "Helvetica",
           "size": 20
          },
          "showarrow": false,
          "text": "<b>CURRENT YEAR<b>",
          "x": 12,
          "xanchor": "left",
          "xref": "x",
          "y": 1,
          "yanchor": "top",
          "yref": "y domain"
         }
        ],
        "autosize": false,
        "font": {
         "color": "black",
         "family": "Arial",
         "size": 13
        },
        "height": 1020,
        "legend": {
         "bgcolor": "white",
         "bordercolor": "black",
         "borderwidth": 0.03,
         "font": {
          "color": "black",
          "size": 19
         },
         "title": {
          "font": {
           "family": "Times New Roman"
          }
         },
         "x": 0,
         "y": -0.9
        },
        "shapes": [
         {
          "line": {
           "color": "green",
           "dash": "dash",
           "width": 6
          },
          "type": "line",
          "x0": 11.5,
          "x1": 11.5,
          "xref": "x",
          "y0": 0,
          "y1": 1,
          "yref": "y domain"
         },
         {
          "line": {
           "width": 0
          },
          "opacity": 0.25,
          "type": "rect",
          "x0": 0,
          "x1": 12,
          "xref": "x",
          "y0": 0,
          "y1": 1,
          "yref": "y domain"
         },
         {
          "line": {
           "width": 0
          },
          "opacity": 0.15,
          "type": "rect",
          "x0": 12,
          "x1": 12,
          "xref": "x",
          "y0": 0,
          "y1": 1,
          "yref": "y domain"
         }
        ],
        "showlegend": true,
        "template": {
         "data": {
          "bar": [
           {
            "error_x": {
             "color": "#2a3f5f"
            },
            "error_y": {
             "color": "#2a3f5f"
            },
            "marker": {
             "line": {
              "color": "#E5ECF6",
              "width": 0.5
             }
            },
            "type": "bar"
           }
          ],
          "barpolar": [
           {
            "marker": {
             "line": {
              "color": "#E5ECF6",
              "width": 0.5
             }
            },
            "type": "barpolar"
           }
          ],
          "carpet": [
           {
            "aaxis": {
             "endlinecolor": "#2a3f5f",
             "gridcolor": "white",
             "linecolor": "white",
             "minorgridcolor": "white",
             "startlinecolor": "#2a3f5f"
            },
            "baxis": {
             "endlinecolor": "#2a3f5f",
             "gridcolor": "white",
             "linecolor": "white",
             "minorgridcolor": "white",
             "startlinecolor": "#2a3f5f"
            },
            "type": "carpet"
           }
          ],
          "choropleth": [
           {
            "colorbar": {
             "outlinewidth": 0,
             "ticks": ""
            },
            "type": "choropleth"
           }
          ],
          "contour": [
           {
            "colorbar": {
             "outlinewidth": 0,
             "ticks": ""
            },
            "colorscale": [
             [
              0,
              "#0d0887"
             ],
             [
              0.1111111111111111,
              "#46039f"
             ],
             [
              0.2222222222222222,
              "#7201a8"
             ],
             [
              0.3333333333333333,
              "#9c179e"
             ],
             [
              0.4444444444444444,
              "#bd3786"
             ],
             [
              0.5555555555555556,
              "#d8576b"
             ],
             [
              0.6666666666666666,
              "#ed7953"
             ],
             [
              0.7777777777777778,
              "#fb9f3a"
             ],
             [
              0.8888888888888888,
              "#fdca26"
             ],
             [
              1,
              "#f0f921"
             ]
            ],
            "type": "contour"
           }
          ],
          "contourcarpet": [
           {
            "colorbar": {
             "outlinewidth": 0,
             "ticks": ""
            },
            "type": "contourcarpet"
           }
          ],
          "heatmap": [
           {
            "colorbar": {
             "outlinewidth": 0,
             "ticks": ""
            },
            "colorscale": [
             [
              0,
              "#0d0887"
             ],
             [
              0.1111111111111111,
              "#46039f"
             ],
             [
              0.2222222222222222,
              "#7201a8"
             ],
             [
              0.3333333333333333,
              "#9c179e"
             ],
             [
              0.4444444444444444,
              "#bd3786"
             ],
             [
              0.5555555555555556,
              "#d8576b"
             ],
             [
              0.6666666666666666,
              "#ed7953"
             ],
             [
              0.7777777777777778,
              "#fb9f3a"
             ],
             [
              0.8888888888888888,
              "#fdca26"
             ],
             [
              1,
              "#f0f921"
             ]
            ],
            "type": "heatmap"
           }
          ],
          "heatmapgl": [
           {
            "colorbar": {
             "outlinewidth": 0,
             "ticks": ""
            },
            "colorscale": [
             [
              0,
              "#0d0887"
             ],
             [
              0.1111111111111111,
              "#46039f"
             ],
             [
              0.2222222222222222,
              "#7201a8"
             ],
             [
              0.3333333333333333,
              "#9c179e"
             ],
             [
              0.4444444444444444,
              "#bd3786"
             ],
             [
              0.5555555555555556,
              "#d8576b"
             ],
             [
              0.6666666666666666,
              "#ed7953"
             ],
             [
              0.7777777777777778,
              "#fb9f3a"
             ],
             [
              0.8888888888888888,
              "#fdca26"
             ],
             [
              1,
              "#f0f921"
             ]
            ],
            "type": "heatmapgl"
           }
          ],
          "histogram": [
           {
            "marker": {
             "colorbar": {
              "outlinewidth": 0,
              "ticks": ""
             }
            },
            "type": "histogram"
           }
          ],
          "histogram2d": [
           {
            "colorbar": {
             "outlinewidth": 0,
             "ticks": ""
            },
            "colorscale": [
             [
              0,
              "#0d0887"
             ],
             [
              0.1111111111111111,
              "#46039f"
             ],
             [
              0.2222222222222222,
              "#7201a8"
             ],
             [
              0.3333333333333333,
              "#9c179e"
             ],
             [
              0.4444444444444444,
              "#bd3786"
             ],
             [
              0.5555555555555556,
              "#d8576b"
             ],
             [
              0.6666666666666666,
              "#ed7953"
             ],
             [
              0.7777777777777778,
              "#fb9f3a"
             ],
             [
              0.8888888888888888,
              "#fdca26"
             ],
             [
              1,
              "#f0f921"
             ]
            ],
            "type": "histogram2d"
           }
          ],
          "histogram2dcontour": [
           {
            "colorbar": {
             "outlinewidth": 0,
             "ticks": ""
            },
            "colorscale": [
             [
              0,
              "#0d0887"
             ],
             [
              0.1111111111111111,
              "#46039f"
             ],
             [
              0.2222222222222222,
              "#7201a8"
             ],
             [
              0.3333333333333333,
              "#9c179e"
             ],
             [
              0.4444444444444444,
              "#bd3786"
             ],
             [
              0.5555555555555556,
              "#d8576b"
             ],
             [
              0.6666666666666666,
              "#ed7953"
             ],
             [
              0.7777777777777778,
              "#fb9f3a"
             ],
             [
              0.8888888888888888,
              "#fdca26"
             ],
             [
              1,
              "#f0f921"
             ]
            ],
            "type": "histogram2dcontour"
           }
          ],
          "mesh3d": [
           {
            "colorbar": {
             "outlinewidth": 0,
             "ticks": ""
            },
            "type": "mesh3d"
           }
          ],
          "parcoords": [
           {
            "line": {
             "colorbar": {
              "outlinewidth": 0,
              "ticks": ""
             }
            },
            "type": "parcoords"
           }
          ],
          "pie": [
           {
            "automargin": true,
            "type": "pie"
           }
          ],
          "scatter": [
           {
            "marker": {
             "colorbar": {
              "outlinewidth": 0,
              "ticks": ""
             }
            },
            "type": "scatter"
           }
          ],
          "scatter3d": [
           {
            "line": {
             "colorbar": {
              "outlinewidth": 0,
              "ticks": ""
             }
            },
            "marker": {
             "colorbar": {
              "outlinewidth": 0,
              "ticks": ""
             }
            },
            "type": "scatter3d"
           }
          ],
          "scattercarpet": [
           {
            "marker": {
             "colorbar": {
              "outlinewidth": 0,
              "ticks": ""
             }
            },
            "type": "scattercarpet"
           }
          ],
          "scattergeo": [
           {
            "marker": {
             "colorbar": {
              "outlinewidth": 0,
              "ticks": ""
             }
            },
            "type": "scattergeo"
           }
          ],
          "scattergl": [
           {
            "marker": {
             "colorbar": {
              "outlinewidth": 0,
              "ticks": ""
             }
            },
            "type": "scattergl"
           }
          ],
          "scattermapbox": [
           {
            "marker": {
             "colorbar": {
              "outlinewidth": 0,
              "ticks": ""
             }
            },
            "type": "scattermapbox"
           }
          ],
          "scatterpolar": [
           {
            "marker": {
             "colorbar": {
              "outlinewidth": 0,
              "ticks": ""
             }
            },
            "type": "scatterpolar"
           }
          ],
          "scatterpolargl": [
           {
            "marker": {
             "colorbar": {
              "outlinewidth": 0,
              "ticks": ""
             }
            },
            "type": "scatterpolargl"
           }
          ],
          "scatterternary": [
           {
            "marker": {
             "colorbar": {
              "outlinewidth": 0,
              "ticks": ""
             }
            },
            "type": "scatterternary"
           }
          ],
          "surface": [
           {
            "colorbar": {
             "outlinewidth": 0,
             "ticks": ""
            },
            "colorscale": [
             [
              0,
              "#0d0887"
             ],
             [
              0.1111111111111111,
              "#46039f"
             ],
             [
              0.2222222222222222,
              "#7201a8"
             ],
             [
              0.3333333333333333,
              "#9c179e"
             ],
             [
              0.4444444444444444,
              "#bd3786"
             ],
             [
              0.5555555555555556,
              "#d8576b"
             ],
             [
              0.6666666666666666,
              "#ed7953"
             ],
             [
              0.7777777777777778,
              "#fb9f3a"
             ],
             [
              0.8888888888888888,
              "#fdca26"
             ],
             [
              1,
              "#f0f921"
             ]
            ],
            "type": "surface"
           }
          ],
          "table": [
           {
            "cells": {
             "fill": {
              "color": "#EBF0F8"
             },
             "line": {
              "color": "white"
             }
            },
            "header": {
             "fill": {
              "color": "#C8D4E3"
             },
             "line": {
              "color": "white"
             }
            },
            "type": "table"
           }
          ]
         },
         "layout": {
          "annotationdefaults": {
           "arrowcolor": "#2a3f5f",
           "arrowhead": 0,
           "arrowwidth": 1
          },
          "autotypenumbers": "strict",
          "coloraxis": {
           "colorbar": {
            "outlinewidth": 0,
            "ticks": ""
           }
          },
          "colorscale": {
           "diverging": [
            [
             0,
             "#8e0152"
            ],
            [
             0.1,
             "#c51b7d"
            ],
            [
             0.2,
             "#de77ae"
            ],
            [
             0.3,
             "#f1b6da"
            ],
            [
             0.4,
             "#fde0ef"
            ],
            [
             0.5,
             "#f7f7f7"
            ],
            [
             0.6,
             "#e6f5d0"
            ],
            [
             0.7,
             "#b8e186"
            ],
            [
             0.8,
             "#7fbc41"
            ],
            [
             0.9,
             "#4d9221"
            ],
            [
             1,
             "#276419"
            ]
           ],
           "sequential": [
            [
             0,
             "#0d0887"
            ],
            [
             0.1111111111111111,
             "#46039f"
            ],
            [
             0.2222222222222222,
             "#7201a8"
            ],
            [
             0.3333333333333333,
             "#9c179e"
            ],
            [
             0.4444444444444444,
             "#bd3786"
            ],
            [
             0.5555555555555556,
             "#d8576b"
            ],
            [
             0.6666666666666666,
             "#ed7953"
            ],
            [
             0.7777777777777778,
             "#fb9f3a"
            ],
            [
             0.8888888888888888,
             "#fdca26"
            ],
            [
             1,
             "#f0f921"
            ]
           ],
           "sequentialminus": [
            [
             0,
             "#0d0887"
            ],
            [
             0.1111111111111111,
             "#46039f"
            ],
            [
             0.2222222222222222,
             "#7201a8"
            ],
            [
             0.3333333333333333,
             "#9c179e"
            ],
            [
             0.4444444444444444,
             "#bd3786"
            ],
            [
             0.5555555555555556,
             "#d8576b"
            ],
            [
             0.6666666666666666,
             "#ed7953"
            ],
            [
             0.7777777777777778,
             "#fb9f3a"
            ],
            [
             0.8888888888888888,
             "#fdca26"
            ],
            [
             1,
             "#f0f921"
            ]
           ]
          },
          "colorway": [
           "#636efa",
           "#EF553B",
           "#00cc96",
           "#ab63fa",
           "#FFA15A",
           "#19d3f3",
           "#FF6692",
           "#B6E880",
           "#FF97FF",
           "#FECB52"
          ],
          "font": {
           "color": "#2a3f5f"
          },
          "geo": {
           "bgcolor": "white",
           "lakecolor": "white",
           "landcolor": "#E5ECF6",
           "showlakes": true,
           "showland": true,
           "subunitcolor": "white"
          },
          "hoverlabel": {
           "align": "left"
          },
          "hovermode": "closest",
          "mapbox": {
           "style": "light"
          },
          "paper_bgcolor": "white",
          "plot_bgcolor": "#E5ECF6",
          "polar": {
           "angularaxis": {
            "gridcolor": "white",
            "linecolor": "white",
            "ticks": ""
           },
           "bgcolor": "#E5ECF6",
           "radialaxis": {
            "gridcolor": "white",
            "linecolor": "white",
            "ticks": ""
           }
          },
          "scene": {
           "xaxis": {
            "backgroundcolor": "#E5ECF6",
            "gridcolor": "white",
            "gridwidth": 2,
            "linecolor": "white",
            "showbackground": true,
            "ticks": "",
            "zerolinecolor": "white"
           },
           "yaxis": {
            "backgroundcolor": "#E5ECF6",
            "gridcolor": "white",
            "gridwidth": 2,
            "linecolor": "white",
            "showbackground": true,
            "ticks": "",
            "zerolinecolor": "white"
           },
           "zaxis": {
            "backgroundcolor": "#E5ECF6",
            "gridcolor": "white",
            "gridwidth": 2,
            "linecolor": "white",
            "showbackground": true,
            "ticks": "",
            "zerolinecolor": "white"
           }
          },
          "shapedefaults": {
           "line": {
            "color": "#2a3f5f"
           }
          },
          "ternary": {
           "aaxis": {
            "gridcolor": "white",
            "linecolor": "white",
            "ticks": ""
           },
           "baxis": {
            "gridcolor": "white",
            "linecolor": "white",
            "ticks": ""
           },
           "bgcolor": "#E5ECF6",
           "caxis": {
            "gridcolor": "white",
            "linecolor": "white",
            "ticks": ""
           }
          },
          "title": {
           "x": 0.05
          },
          "xaxis": {
           "automargin": true,
           "gridcolor": "white",
           "linecolor": "white",
           "ticks": "",
           "title": {
            "standoff": 15
           },
           "zerolinecolor": "white",
           "zerolinewidth": 2
          },
          "yaxis": {
           "automargin": true,
           "gridcolor": "white",
           "linecolor": "white",
           "ticks": "",
           "title": {
            "standoff": 15
           },
           "zerolinecolor": "white",
           "zerolinewidth": 2
          }
         }
        },
        "title": {
         "font": {
          "color": "black",
          "size": 20
         },
         "text": "<b>SCRAP TREND  2020 - 2021</b>",
         "x": 0.5
        },
        "width": 1100,
        "xaxis": {
         "title": {
          "text": "Month-Year"
         }
        },
        "yaxis": {
         "title": {
          "text": "NUMBER OF NRT"
         }
        }
       }
      }
     },
     "metadata": {},
     "output_type": "display_data"
    }
   ],
   "source": [
    "# Setup independent X Variables (which is just the month and save a list):\n",
    "Month_LIST = Merged_NRT_df_TRANSPOSED['month-yr'].to_list()\n",
    "\n",
    "\n",
    "#Setup a dependent Y Variables (By Creating separate lists for each type of service):\n",
    "\n",
    "Sidewall_Cut_List =  Merged_NRT_df_TRANSPOSED['Sidewall Cut(s)/Snag(s)'].to_list()\n",
    "Run_Under_Inflated_List = Merged_NRT_df_TRANSPOSED[\"Run Under-Inflated\"].to_list()\n",
    "Run_to_Destruction_List = Merged_NRT_df_TRANSPOSED[\"Run to Destruction\"].to_list()\n",
    "Impact_Split_List =  Merged_NRT_df_TRANSPOSED[\"Impact Split(s)\"].to_list()\n",
    "Pinch_Shock_List =  Merged_NRT_df_TRANSPOSED[\"Pinch Shock\"].to_list()\n",
    "Rock_Drilling_List =  Merged_NRT_df_TRANSPOSED[\"Rock Drilling\"].to_list()\n",
    "Bead_Damage_Mount_Dismount_R_List =  Merged_NRT_df_TRANSPOSED[\"Bead Damage - Mount/Dismount R\"].to_list()\n",
    "Worn_Too_Far_List =  Merged_NRT_df_TRANSPOSED[\"Worn Too Far\"].to_list()\n",
    "Shoulder_Separation_List =  Merged_NRT_df_TRANSPOSED[\"Shoulder Separation\"].to_list()\n",
    "Outside_Of_Fleet_Specifications_List =  Merged_NRT_df_TRANSPOSED[\"Outside of Fleet Specifications\"].to_list()\n",
    "Injuries_Too_Close_or_Large_List =  Merged_NRT_df_TRANSPOSED[\"Injuries too Close/Large\"].to_list()\n",
    "Other_NRT_Codes_List =  Merged_NRT_df_TRANSPOSED[\"OTHER NRT CODES\"].to_list()\n",
    "\n",
    "fig = go.Figure()\n",
    "\n",
    "# Create and Style Traces:\n",
    "fig.add_trace(go.Scatter(x=Month_LIST, y=Sidewall_Cut_List, name = 'Sidewall Cut(s)/Snag(s)',\n",
    "                         line=dict(color='red', width=2.2),\n",
    "                         # change the marker style to be so small it's unseen\n",
    "                        marker=dict(symbol='diamond', size=2, line=dict(width=0))))\n",
    "fig.add_trace(go.Scatter(x=Month_LIST, y=Run_Under_Inflated_List, name = 'Run Under-Inflated',\n",
    "                         line=dict(color='orange', width=2.2),\n",
    "                         # change the marker style to be so small it's unseen\n",
    "                        marker=dict(symbol='diamond', size=2, line=dict(width=0))))\n",
    "fig.add_trace(go.Scatter(x=Month_LIST, y=Run_to_Destruction_List, name = \"Run to Destruction\",\n",
    "                         line=dict(color='blue', width=2.2),\n",
    "                         # change the marker style to be so small it's unseen\n",
    "                        marker=dict(symbol='diamond', size=2, line=dict(width=0))))\n",
    "fig.add_trace(go.Scatter(x=Month_LIST, y=Pinch_Shock_List, name = \"Impact Split(s)\",\n",
    "                         line=dict(color='purple', width=2.2),\n",
    "                         # change the marker style to be so small it's unseen\n",
    "                        marker=dict(symbol='diamond', size=2, line=dict(width=0))))\n",
    "fig.add_trace(go.Scatter(x=Month_LIST, y=Worn_Too_Far_List, name = \"Pinch Shock\",\n",
    "                         line=dict(color='darkgreen', width=2.2),\n",
    "                         # change the marker style for this one to \"triangle-up\"\n",
    "                        marker=dict(symbol='diamond', size=2, line=dict(width=0))))\n",
    "\n",
    "fig.add_trace(go.Scatter(x=Month_LIST, y=Rock_Drilling_List, name = \"Rock Drilling\",\n",
    "                         line=dict(color='brown', width=2.2, dash='dot'),\n",
    "                         # change the marker style for this one to \"triangle-up\"\n",
    "                        marker=dict(symbol='diamond', size=6, line=dict(width=0))))\n",
    "fig.add_trace(go.Scatter(x=Month_LIST, y=Bead_Damage_Mount_Dismount_R_List, name = \"Bead Damage - Mount/Dismount R\",\n",
    "                         line=dict(color='orange', width=2.2, dash='dot'),\n",
    "                         # change the marker style for this one to \"triangle-up\"\n",
    "                        marker=dict(symbol='diamond', size=6, line=dict(width=0))))\n",
    "fig.add_trace(go.Scatter(x=Month_LIST, y=Worn_Too_Far_List, name = 'Worn Too Far',\n",
    "                         line=dict(color='royalblue', width=2.2, dash='dot'),\n",
    "                         # change the marker style for this one to \"triangle-up\"\n",
    "                        marker=dict(symbol='diamond', size=6, line=dict(width=0))))\n",
    "fig.add_trace(go.Scatter(x=Month_LIST, y=Shoulder_Separation_List, name = 'Shoulder Separation',\n",
    "                         line=dict(color='purple', width=2.2, dash='dot'),\n",
    "                         # change the marker style for this one to \"triangle-up\"\n",
    "                        marker=dict(symbol='diamond', size=6, line=dict(width=0))))\n",
    "fig.add_trace(go.Scatter(x=Month_LIST, y=Outside_Of_Fleet_Specifications_List, name = 'Outside of Fleet Specifications',\n",
    "                         line=dict(color='darkgreen', width=2.2, dash='dot'),\n",
    "                         # change the marker style for this one to \"triangle-up\"\n",
    "                        marker=dict(symbol='diamond', size=6, line=dict(width=0))))\n",
    "fig.add_trace(go.Scatter(x=Month_LIST, y=Injuries_Too_Close_or_Large_List, name = 'Injuries too Close/Large',\n",
    "                         line=dict(color='dimgray', width=3),\n",
    "                         # change the marker style for this one to \"star\"\n",
    "                        marker=dict(symbol='triangle-up', size=6, line=dict(width=0))))\n",
    "fig.add_trace(go.Scatter(x=Month_LIST, y=Other_NRT_Codes_List, name = 'OTHER NRT CODES',\n",
    "                         line=dict(color='turquoise', width=2.2),\n",
    "                         # change the marker style for this one to \"triangle-up\"\n",
    "                        marker=dict(symbol='diamond', size=2, line=dict(width=0))))\n",
    "\n",
    "\n",
    "\n",
    "# Edit the Layout:\n",
    "fig.update_layout(\n",
    "    title_text=f\"<b>SCRAP TREND  {Last_Year} - {Current_Year}</b>\", \n",
    "    title_x= 0.5,\n",
    "    title_font_size=29,\n",
    "    title_font_color=\"black\",\n",
    "    xaxis_title= \"Month-Year\",\n",
    "    yaxis_title= 'NUMBER OF NRT',\n",
    "    autosize=False, width=1445, height=1330,\n",
    "    showlegend=True, \n",
    "     legend=dict(\n",
    "        x=0,\n",
    "        y=-.76,\n",
    "        title_font_family=\"Times New Roman\",\n",
    "        font=dict(\n",
    "            family=None,\n",
    "            size=23,\n",
    "            color=\"black\"\n",
    "        ),\n",
    "        bgcolor=\"white\",\n",
    "        bordercolor=\"black\",\n",
    "        borderwidth=.03\n",
    "    ),\n",
    "    # General axes and axes labels fonts:\n",
    "    font=dict(\n",
    "        family='Arial',\n",
    "        size=19,\n",
    "        color=\"black\"\n",
    "    ))\n",
    "\n",
    "fig.add_vline(x=11.5, line_width=6, line_dash=\"dash\", line_color=\"green\")\n",
    "\n",
    "# For aesthetics, force the graph to display the zero point near the bottom IF THERE ARE NO VALUES.  Otherwise, plotly will automatically put the zero point in the middle.\n",
    "# if (sum(Crown_Cut_List) + sum(Sidewall_Cut_List) + sum(Run_Under_Inflated_List) + sum(Impact_Split_List) + sum(Bead_Damage_Mount_Dismount_List) + sum(Worn_Too_Far_List) + sum(Belt_Separation_Radial_Only_List) + sum(Bead_Separation_Splitting_List) + sum(Shoulder_Separation_List) + sum(Sidewall_Blisters_Or_Bumps_List) + sum(Outside_Of_Fleet_Specifications_List) + sum(Other_NRT_Codes_List)) == 0:\n",
    "#     fig.layout['yaxis1'] = {'range': [-.5, 5]}\n",
    "\n",
    "\n",
    "fig.add_vrect(x0=0, x1=12, \n",
    "              annotation_text=\"<b>LAST YEAR<b>\", annotation_position=\"top left\",\n",
    "              annotation=dict(font_size=30, font_family=\"Helvetica\"),\n",
    "              fillcolor=None, opacity=0.25, line_width=0)\n",
    "\n",
    "fig.add_vrect(x0=12, x1=12, \n",
    "              annotation_text=\"<b>CURRENT YEAR<b>\", annotation_position=\"top left\",\n",
    "              annotation=dict(font_size=30, font_family=\"Helvetica\"),\n",
    "              fillcolor=None, opacity=0.15, line_width=0)\n",
    "\n",
    "\n",
    "# file_name = f\"{Region_Name}_Service_Trend_Analysis\"\n",
    "fig.write_image(f'Images_graphs/NRT_Graph_{Last_Year}-{Current_Year}.svg')\n",
    "fig.show()\n",
    "\n",
    "\n",
    "\n",
    "\n",
    "\n",
    "\n",
    "# ============================================================================================================================================\n",
    "# ============================================================================================================================================\n",
    "# ============================================================================================================================================\n",
    "# ============================================================================================================================================\n",
    "# NOW that we've created to version for the initial index.html for the pdf... we can now create the image version with a smaller size along with interactivity for plotly for web page version:\n",
    "\n",
    "fig2 = go.Figure()\n",
    "\n",
    "# Create and Style Traces:\n",
    "fig2.add_trace(go.Scatter(x=Month_LIST, y=Sidewall_Cut_List, name = 'Sidewall Cut(s)/Snag(s)',\n",
    "                         line=dict(color='red', width=2),\n",
    "                         # change the marker style to be so small it's unseen\n",
    "                        marker=dict(symbol='diamond', size=2, line=dict(width=0))))\n",
    "fig2.add_trace(go.Scatter(x=Month_LIST, y=Run_Under_Inflated_List, name = 'Run Under-Inflated',\n",
    "                         line=dict(color='orange', width=2),\n",
    "                         # change the marker style to be so small it's unseen\n",
    "                        marker=dict(symbol='diamond', size=2, line=dict(width=0))))\n",
    "fig2.add_trace(go.Scatter(x=Month_LIST, y=Run_to_Destruction_List, name = \"Run to Destruction\",\n",
    "                         line=dict(color='blue', width=2),\n",
    "                         # change the marker style to be so small it's unseen\n",
    "                        marker=dict(symbol='diamond', size=2, line=dict(width=0))))\n",
    "fig2.add_trace(go.Scatter(x=Month_LIST, y=Pinch_Shock_List, name = \"Impact Split(s)\",\n",
    "                         line=dict(color='purple', width=2),\n",
    "                         # change the marker style to be so small it's unseen\n",
    "                        marker=dict(symbol='diamond', size=2, line=dict(width=0))))\n",
    "fig2.add_trace(go.Scatter(x=Month_LIST, y=Worn_Too_Far_List, name = \"Pinch Shock\",\n",
    "                         line=dict(color='darkgreen', width=2),\n",
    "                         # change the marker style for this one to \"triangle-up\"\n",
    "                        marker=dict(symbol='diamond', size=2, line=dict(width=0))))\n",
    "\n",
    "fig2.add_trace(go.Scatter(x=Month_LIST, y=Rock_Drilling_List, name = \"Rock Drilling\",\n",
    "                         line=dict(color='brown', width=2, dash='dot'),\n",
    "                         # change the marker style for this one to \"triangle-up\"\n",
    "                        marker=dict(symbol='diamond', size=6, line=dict(width=0))))\n",
    "fig2.add_trace(go.Scatter(x=Month_LIST, y=Bead_Damage_Mount_Dismount_R_List, name = \"Bead Damage - Mount/Dismount R\",\n",
    "                         line=dict(color='orange', width=2, dash='dot'),\n",
    "                         # change the marker style for this one to \"triangle-up\"\n",
    "                        marker=dict(symbol='diamond', size=6, line=dict(width=0))))\n",
    "fig2.add_trace(go.Scatter(x=Month_LIST, y=Worn_Too_Far_List, name = 'Worn Too Far',\n",
    "                         line=dict(color='royalblue', width=2, dash='dot'),\n",
    "                         # change the marker style for this one to \"triangle-up\"\n",
    "                        marker=dict(symbol='diamond', size=6, line=dict(width=0))))\n",
    "fig2.add_trace(go.Scatter(x=Month_LIST, y=Shoulder_Separation_List, name = 'Shoulder Separation',\n",
    "                         line=dict(color='purple', width=2, dash='dot'),\n",
    "                         # change the marker style for this one to \"triangle-up\"\n",
    "                        marker=dict(symbol='diamond', size=6, line=dict(width=0))))\n",
    "fig2.add_trace(go.Scatter(x=Month_LIST, y=Outside_Of_Fleet_Specifications_List, name = 'Outside of Fleet Specifications',\n",
    "                         line=dict(color='darkgreen', width=2, dash='dot'),\n",
    "                         # change the marker style for this one to \"triangle-up\"\n",
    "                        marker=dict(symbol='diamond', size=6, line=dict(width=0))))\n",
    "fig2.add_trace(go.Scatter(x=Month_LIST, y=Injuries_Too_Close_or_Large_List, name = 'Injuries too Close/Large',\n",
    "                         line=dict(color='dimgray', width=2),\n",
    "                         # change the marker style for this one to \"star\"\n",
    "                        marker=dict(symbol='triangle-up', size=6, line=dict(width=0))))\n",
    "fig2.add_trace(go.Scatter(x=Month_LIST, y=Other_NRT_Codes_List, name = 'OTHER NRT CODES',\n",
    "                         line=dict(color='turquoise', width=2),\n",
    "                         # change the marker style for this one to \"triangle-up\"\n",
    "                        marker=dict(symbol='diamond', size=2, line=dict(width=0))))\n",
    "\n",
    "\n",
    "\n",
    "# Edit the Layout:\n",
    "fig2.update_layout(\n",
    "    title_text=f\"<b>SCRAP TREND  {Last_Year} - {Current_Year}</b>\", \n",
    "    title_x= 0.5,\n",
    "    title_font_size=20,\n",
    "    title_font_color=\"black\",\n",
    "    xaxis_title= \"Month-Year\",\n",
    "    yaxis_title= 'NUMBER OF NRT',\n",
    "    autosize=False, width=1100, height=1020,\n",
    "    showlegend=True, \n",
    "     legend=dict(\n",
    "        x=0,\n",
    "        y=-.9,\n",
    "        title_font_family=\"Times New Roman\",\n",
    "        font=dict(\n",
    "            family=None,\n",
    "            size=19,\n",
    "            color=\"black\"\n",
    "        ),\n",
    "        bgcolor=\"white\",\n",
    "        bordercolor=\"black\",\n",
    "        borderwidth=.03\n",
    "    ),\n",
    "    # General axes and axes labels fonts:\n",
    "    font=dict(\n",
    "        family='Arial',\n",
    "        size=13,\n",
    "        color=\"black\"\n",
    "    ))\n",
    "\n",
    "fig2.add_vline(x=11.5, line_width=6, line_dash=\"dash\", line_color=\"green\")\n",
    "\n",
    "# For aesthetics, force the graph to display the zero point near the bottom IF THERE ARE NO VALUES.  Otherwise, plotly will automatically put the zero point in the middle.\n",
    "# if (sum(Crown_Cut_List) + sum(Sidewall_Cut_List) + sum(Run_Under_Inflated_List) + sum(Impact_Split_List) + sum(Bead_Damage_Mount_Dismount_List) + sum(Worn_Too_Far_List) + sum(Belt_Separation_Radial_Only_List) + sum(Bead_Separation_Splitting_List) + sum(Shoulder_Separation_List) + sum(Sidewall_Blisters_Or_Bumps_List) + sum(Outside_Of_Fleet_Specifications_List) + sum(Other_NRT_Codes_List)) == 0:\n",
    "#     fig.layout['yaxis1'] = {'range': [-.5, 5]}\n",
    "\n",
    "\n",
    "fig2.add_vrect(x0=0, x1=12, \n",
    "              annotation_text=\"<b>LAST YEAR<b>\", annotation_position=\"top left\",\n",
    "              annotation=dict(font_size=20, font_family=\"Helvetica\"),\n",
    "              fillcolor=None, opacity=0.25, line_width=0)\n",
    "\n",
    "fig2.add_vrect(x0=12, x1=12, \n",
    "              annotation_text=\"<b>CURRENT YEAR<b>\", annotation_position=\"top left\",\n",
    "              annotation=dict(font_size=20, font_family=\"Helvetica\"),\n",
    "              fillcolor=None, opacity=0.15, line_width=0)\n",
    "\n",
    "\n",
    "# PLOTLY INTERACTIVE:\n",
    "Scrap_Trend_graph = fig2\n",
    "Scrap_Trend_graph_for_iframe = py.plot(Scrap_Trend_graph, filename = 'Scrap_Trend_graph', auto_open=False)\n",
    "\n",
    "fig2.show()\n",
    "\n",
    "\n"
   ]
  },
  {
   "cell_type": "markdown",
   "metadata": {},
   "source": [
    "# First, Create the index.html for JUST the pdf:"
   ]
  },
  {
   "cell_type": "code",
   "execution_count": 38,
   "metadata": {},
   "outputs": [],
   "source": [
    "Create_html = f\"\"\"\n",
    "\n",
    "<!DOCTYPE html>\n",
    "<html lang=\"en\">\n",
    "\n",
    "<head>\n",
    "    <meta charset=\"UTF-8\" />\n",
    "    <meta name=\"viewport\" content=\"width=device-width, initial-scale=1.0\" />\n",
    "    <meta http-equiv=\"X-UA-Compatible\" content=\"ie=edge\" />\n",
    "    <!--Bootstrap CSS using CDN-->\n",
    "    <link rel=\"stylesheet\" href=\"https://maxcdn.bootstrapcdn.com/bootstrap/3.3.7/css/bootstrap.min.css\" />\n",
    "    <link rel=\"stylesheet\" href=\"css/main.css\">\n",
    "\n",
    "    <title>Report</title>\n",
    "</head>\n",
    "\n",
    "<body>\n",
    "    <!--------------------------------------INTRO PDF PAGE----------------------------------------------------------------->\n",
    "    <!-- STM LOGO -->\n",
    "    <br>\n",
    "    <br>\n",
    "    <div class=\"STM_logo\">\n",
    "        <img src=\".\\Images_logos\\STM_logo.svg\">\n",
    "    </div>\n",
    "    <br>\n",
    "    <br>\n",
    "    <br>\n",
    "    <br>\n",
    "    <!--YEAR TO DATE BANNER text-->\n",
    "    <h1 class=\"first_banner_text\">YEAR TO DATE - {Last_Month_Descriptive_Short} {Current_Year}</h1>\n",
    "    <br>\n",
    "    <br>\n",
    "    <br>\n",
    "    <br>\n",
    "    <br>\n",
    "    <!-- Lonestar LOGO -->\n",
    "    <div class=\"Customer_logo_image\">\n",
    "        <img src='./Images_logos/Lonestar_logo.jpg'>\n",
    "    </div>\n",
    "    <br>\n",
    "    <br>\n",
    "    <!--  Second Blue Banner Text -->\n",
    "    <h1 class=\"second_banner_text\">PURCHASE AND SCRAP PROFILE</h1>\n",
    "    <br>\n",
    "    <!--  BRIDGESTONE AND BANDAG LOGOS-->\n",
    "    <div class = \"bridgestone_and_bandag_logo_container\">\n",
    "    <img class= \"bridgestone_logo\" src= \"./Images_logos/Bridgestone_logo.svg\">\n",
    "    <img class= \"bandag_logo\" src= \"./Images_logos/Bandag_logo.svg\">\n",
    "    </div> \n",
    "    <!-----------------------------PURCHASES SUMMARY TABLE pdf page--------------------------------------------------------------->\n",
    "    <br>\n",
    "    <br>\n",
    "    <br>\n",
    "    <h1 class=page_title>{Current_Year} YTD PURCHASES</h1>\n",
    "    <br>\n",
    "    <br>\n",
    "    <br>\n",
    "    <br>\n",
    "    <table>\n",
    "        <!-- Start Sales Table -->\n",
    "        [[DATA_MAIN_TABLE]]\n",
    "        <!-- End Sales Table -->\n",
    "    </table>\n",
    "    <br>\n",
    "    <br>\n",
    "    <br>\n",
    "    <br>\n",
    "    <br>\n",
    "    <br>\n",
    "    <br>\n",
    "    <br>\n",
    "    <br>\n",
    "    <br>\n",
    "    <br>\n",
    "    <br>\n",
    "    <!----------------------------------------- SALES BREAKDOWN PERCENTAGE COLUMN GRAPHS pdf page --------------------------------------->\n",
    "    <br>\n",
    "    <div class = \"sales_percentage_breakdown_bar\">\n",
    "        <img src=\"Images_graphs/{Current_Year}_Sales_Percentage_Breakdown.svg\">\n",
    "        <br>\n",
    "        <br>\n",
    "        <br>\n",
    "        <br>\n",
    "        <br>\n",
    "        <br>\n",
    "        <img src=\"Images_graphs/{Current_Year}_Retreads_Percentage_Breakdown.svg\">\n",
    "    </div>\n",
    "    <br>\n",
    "    <!----------------------------------------- TREND LINE GRAPHS pdf page --------------------------------------------------------------------->\n",
    "    <div class = \"fit_three_graphs_on_pdf_page\">\n",
    "        <img src=\"Images_graphs/{Current_Year}_Service_Purchase_Analysis.svg\">\n",
    "        <img src=\"Images_graphs/{Current_Year}_Bandag_Purchase_Analysis.svg\">\n",
    "        <img src=\"Images_graphs/{Current_Year}_Bridgestone_Purchase_Analysis.svg\">\n",
    "    </div>\n",
    "    <!--------------------------- SCRAPS ANALYSIS pdf page ---------------------------------------------------------------------------------------->\n",
    "    <h1 class=page_title>{Current_Year} YTD SCRAP</h1>\n",
    "    <br>\n",
    "    <table>\n",
    "        <!-- Start NRT Table -->\n",
    "        [[DATA_MAIN_TABLE]]\n",
    "        <!-- End NRT Table -->\n",
    "    </table>\n",
    "    <br>\n",
    "    <br>\n",
    "    <div class = \"NRT_year_to_year_line_graph\">\n",
    "        <img src='Images_graphs/NRT_Graph_{Last_Year}-{Current_Year}.svg'>\n",
    "    </div>\n",
    "\n",
    "</body>\n",
    "\n",
    "</html>\n",
    "\n",
    "\"\"\"\n",
    "# ------------------------------------------------------------------------------------------------------------------------------\n",
    "# ADD THE SALES TABLE:\n",
    "with open('index.html', 'w') as f:\n",
    "    f.write(re.sub(r\"<\\!-- Start Sales Table -->.*<\\!-- End Sales Table -->\", html_table, Create_html, flags=re.DOTALL))\n",
    "\n",
    "# Then add NRT TABLE:\n",
    "index_exists = os.path.exists('index.html')\n",
    "current_index = ''\n",
    "with open('index.html', 'r') as f:\n",
    "    current_index = f.read()\n",
    "with open('index.html', 'w') as f:\n",
    "    f.write(re.sub(r\"<\\!-- Start NRT Table -->.*<\\!-- End NRT Table -->\",\n",
    "            html_table2, current_index, flags=re.DOTALL))\n",
    "\n"
   ]
  },
  {
   "cell_type": "markdown",
   "metadata": {},
   "source": [
    "# BUILD THE PDF:"
   ]
  },
  {
   "cell_type": "code",
   "execution_count": 39,
   "metadata": {},
   "outputs": [
    {
     "name": "stdout",
     "output_type": "stream",
     "text": [
      "Loading pages (1/6)\n",
      "Counting pages (2/6)                                               \n",
      "Resolving links (4/6)                                                       \n",
      "Loading headers and footers (5/6)                                           \n",
      "Printing pages (6/6)\n",
      "Done                                                                      \n"
     ]
    },
    {
     "data": {
      "text/plain": [
       "True"
      ]
     },
     "execution_count": 39,
     "metadata": {},
     "output_type": "execute_result"
    }
   ],
   "source": [
    "# !pip3 install pdfkit\n",
    "import pdfkit\n",
    "options = {\"enable-local-file-access\": None}\n",
    "\n",
    "# Save the a pdf with a name according to whether it's the current year or a previous year AND whether it's for all districts of a region or if it's for a subregion of desert mountain:\n",
    "\n",
    "# ------------ If running the report for the current year ----------------------:\n",
    "pdfkit.from_file(\"index.html\", f\"PDFs/{Last_Month}_Lonestar_YTD_Report_Purchase_and_Scrap_Report.pdf\", options=options)"
   ]
  },
  {
   "cell_type": "markdown",
   "metadata": {},
   "source": [
    "# Now that we have the PDF done, we'll RECREATE the index.html so it is more conducive to an interactive website\n",
    "# for both sizes of graphs and INTERACTIVITY of plotly graphs:"
   ]
  },
  {
   "cell_type": "markdown",
   "metadata": {},
   "source": [
    "### First, though, let's create some new html files for a navigation bar:"
   ]
  },
  {
   "cell_type": "code",
   "execution_count": 40,
   "metadata": {},
   "outputs": [],
   "source": [
    "# Create 3 new html files and write them as blank.\n",
    "# If they already exist before this code, when you run this cell each will be overwritten as blank:\n",
    "with open('index.html', 'w') as new_file:\n",
    "    new_file.write('')\n",
    "\n",
    "with open('Sales_Table.html', 'w') as new_file:\n",
    "    new_file.write('')\n",
    "\n",
    "with open('Sales_Breakdown_Column_Charts.html', 'w') as new_file:\n",
    "    new_file.write('')\n",
    "\n",
    "with open('Trend_Analysis_Line_Charts.html', 'w') as new_file:\n",
    "    new_file.write('')\n",
    "\n",
    "with open('BFI_Scraps_Analysis.html', 'w') as new_file:\n",
    "    new_file.write('')\n",
    "\n",
    "with open('Data_Downloads.html', 'w') as new_file:\n",
    "    new_file.write('')"
   ]
  },
  {
   "cell_type": "markdown",
   "metadata": {},
   "source": [
    "# NOW, we'll need to create EACH page of the website separately.  The next few cells will pertain to the following:\n",
    "## 1. Home page\n",
    "## 2. Sales Summary Table\n",
    "## 3. Sales Breakdown Graphs\n",
    "## 4. Sales Trend Line Graphs\n",
    "## 5. BFI Scrap Trend Analysis\n",
    "\n",
    "#### Note:  Every page will also include the Nav Bar to navigate to all of those pages."
   ]
  },
  {
   "cell_type": "markdown",
   "metadata": {},
   "source": [
    "# First, BUILD HOME PAGE:"
   ]
  },
  {
   "cell_type": "code",
   "execution_count": 41,
   "metadata": {},
   "outputs": [],
   "source": [
    "# Build Home Page (this will recreate index.html but NOT formatted for the pdf (since we already built that pdf)...instead it will be formatted for the website)\n",
    "# This will mostly just be the home page logos, intro, etc.\n",
    "\n",
    "Create_html = f\"\"\"\n",
    "\n",
    "<!DOCTYPE html>\n",
    "<html lang=\"en\">\n",
    "\n",
    "<head>\n",
    "    <meta charset=\"UTF-8\" />\n",
    "    <meta name=\"viewport\" content=\"width=device-width, initial-scale=1.0\" />\n",
    "    <meta http-equiv=\"X-UA-Compatible\" content=\"ie=edge\" />\n",
    "    <!--Bootstrap CSS using CDN-->\n",
    "    <link rel=\"stylesheet\" href=\"https://maxcdn.bootstrapcdn.com/bootstrap/3.3.7/css/bootstrap.min.css\" />\n",
    "    <link rel=\"stylesheet\" href=\"css/main.css\">\n",
    "\n",
    "    <title>Report</title>\n",
    "</head>\n",
    "\n",
    "<body class = 'container'>\n",
    "    <header>\n",
    "        <nav>\n",
    "            <ul class=\"./index_NAV_BAR_files/nav_bar_for_website\">\n",
    "                <li><a href=\"index.html\">Home</a></li>\n",
    "                <li><a href=\"Sales_Table.html\">Sales Summary Table</a></li>\n",
    "                <li><a href=\"Sales_Breakdown_Column_Charts.html\">Sales Breakdown</a></li>\n",
    "                <li><a href=\"Trend_Analysis_Line_Charts.html\">Sales Trend Lines</a></li>\n",
    "                <li><a href=\"BFI_Scraps_Analysis.html\">BFI Scraps Trend Analysis</a></li>\n",
    "                <li><a href=\"Data_Downloads.html\">Data Downloads</a></li>\n",
    "            </ul>\n",
    "        </nav>\n",
    "    </header>\n",
    "    <!--------------------------------------HOME PAGE----------------------------------------------------------------->\n",
    "    <!-- STM LOGO -->\n",
    "    <div class=\"STM_logo_for_website\">\n",
    "        <img src=\".\\Images_logos\\STM_logo.svg\">\n",
    "    </div>\n",
    "    <br>\n",
    "    <br>\n",
    "    <br>\n",
    "    <br>\n",
    "    <!--YEAR TO DATE BANNER text-->\n",
    "    <h1 class=\"first_banner_text_for_website\">YEAR TO DATE - {Last_Month_Descriptive_Short} {Current_Year}</h1>\n",
    "    <br>\n",
    "    <br>\n",
    "    <br>\n",
    "    <br>\n",
    "    <br>\n",
    "    <!-- Lonestar LOGO -->\n",
    "    <div class=\"Customer_logo_image_for_website\">\n",
    "        <img src='./Images_logos/Lonestar_logo.jpg'>\n",
    "    </div>\n",
    "    <br>\n",
    "    <br>\n",
    "    <!--  Second Blue Banner Text -->\n",
    "    <h1 class=\"second_banner_text_for_website\">PURCHASE AND SCRAP PROFILE</h1>\n",
    "    <br>\n",
    "    <!--  BRIDGESTONE AND BANDAG LOGOS-->\n",
    "    <div class = \"bridgestone_and_bandag_logo_container_for_website\">\n",
    "    <img class= \"bridgestone_logo_for_website\" src= \"./Images_logos/Bridgestone_logo.svg\">\n",
    "    <img class= \"bandag_logo_for_website\" src= \"./Images_logos/Bandag_logo.svg\">\n",
    "    </div> \n",
    "</body>\n",
    "\n",
    "</html>\n",
    "\n",
    "\"\"\"\n",
    "# ------------------------------------------------------------------------------------------------------------------------------\n",
    "with open('index.html', 'w') as f:\n",
    "    f.write(Create_html)\n",
    "\n",
    "\n",
    "# # Then add NRT TABLE:\n",
    "# index_exists = os.path.exists('index.html')\n",
    "# current_index = ''\n",
    "# with open('index.html', 'r') as f:\n",
    "#     current_index = f.read()\n",
    "# with open('index.html', 'w') as f:\n",
    "#     f.write(re.sub(r\"<\\!-- Start NRT Table -->.*<\\!-- End NRT Table -->\",\n",
    "#             html_table2, current_index, flags=re.DOTALL))"
   ]
  },
  {
   "cell_type": "markdown",
   "metadata": {},
   "source": [
    "# 2. Build the Sales Summary Table web page:"
   ]
  },
  {
   "cell_type": "code",
   "execution_count": 42,
   "metadata": {},
   "outputs": [
    {
     "name": "stdout",
     "output_type": "stream",
     "text": [
      "True\n"
     ]
    }
   ],
   "source": [
    "# For the html table only, we'll get rid of the name \"Category\" as the first column since we want that part blank in the final pdf table:\n",
    "df_just_for_html = df_DASHES_for_HTML.rename(\n",
    "    columns={'Category': ''})\n",
    "# If we don't want the \"SERVICE\" category to have totals, we can replace all the totals with empty strings:\n",
    "df_just_for_html.iloc[0, 1:] = ''\n",
    "\n",
    "# BUILD THE HTML TABLE for the MAIN TABLE:\n",
    "\n",
    "def create_html_table(Primary_table):\n",
    "\n",
    "    # Create headers for HTML\n",
    "    row_data = '<!-- Start Sales Table --><thead>\\n<tr class=\"header_for_website\">'\n",
    "\n",
    "    # Create columns for HTML:    \n",
    "    for column in range(Primary_table.shape[1]):\n",
    "        adjust_header_css = \"header_for_website\"\n",
    "        if column in [0,1]:\n",
    "            adjust_header_css += \" make_white_for_website\"\n",
    "        if column not in [0, 1]:\n",
    "            adjust_header_css += \" lonestar_gold_color_for_website\"\n",
    "        if column not in []:\n",
    "            adjust_header_css += \" center_for_website\"    \n",
    "        row_data += '\\n <th class = \"'+adjust_header_css+'\">'+df_just_for_html.columns[column]+'</th>'\n",
    "    row_data += '\\n</tr> \\n </head> \\n <tbody>'\n",
    "    \n",
    "    # Create Body (rows for table) for html\n",
    "    for row in range(Primary_table.shape[0]):\n",
    "        if row in [0, 6, 9, 13, 14, 28, 29, 30]:\n",
    "            row_data += '\\n<tr class = \"lonestar_gold_color_for_website make_bold_for_website\">'\n",
    "        else: row_data += '\\n<tr>'\n",
    "        for column in range(Primary_table.shape[1]):\n",
    "            td_class_name = 'text_column_for_website'\n",
    "            if column in [0] and row in [1, 2, 3, 4, 5, 7, 8, 10, 11, 12, 16, 17, 18, 19, 20, 21, 22, 28, 29, 30]:\n",
    "                td_class_name += \" right_align_for_website\"\n",
    "            if column not in [0]:\n",
    "                td_class_name += \" center_for_website\"\n",
    "            if column in [0] and row in [0, 6, 9, 13, 14, 15, 23, 24, 25, 26, 27]:\n",
    "                td_class_name += \" make_bold left_align_for_website\"\n",
    "            if column not in [0] and row in [14, 15]:\n",
    "                td_class_name += \" lonestar_gold_color_for_website\"\n",
    "            if column in [0] and row in [28, 29, 30]:\n",
    "                td_class_name += \" make_bold right_align_for_website\"\n",
    "            if column not in [] and row in [15]:\n",
    "                td_class_name += \" make_bold_for_website\"            \n",
    "            row_data += '\\n <td class = \"'+td_class_name+'\">'+str(Primary_table.iloc[row,column])+'</td>'\n",
    "    row_data += '\\n</tr> \\n</tbody><!-- End Sales Table -->'\n",
    "    # -------------------------------------------------------------------------------------------------\n",
    "\n",
    "    return row_data\n",
    "\n",
    "# Call the function:\n",
    "html_sales_table_for_website = create_html_table(df_just_for_html)\n",
    "\n",
    "Create_html = f\"\"\"\n",
    "\n",
    "<!DOCTYPE html>\n",
    "<html lang=\"en\">\n",
    "\n",
    "<head>\n",
    "    <meta charset=\"UTF-8\" />\n",
    "    <meta name=\"viewport\" content=\"width=device-width, initial-scale=1.0\" />\n",
    "    <meta http-equiv=\"X-UA-Compatible\" content=\"ie=edge\" />\n",
    "    <!--Bootstrap CSS using CDN-->\n",
    "    <link rel=\"stylesheet\" href=\"https://maxcdn.bootstrapcdn.com/bootstrap/3.3.7/css/bootstrap.min.css\" />\n",
    "    <link rel=\"stylesheet\" href=\"css/main.css\">\n",
    "\n",
    "    <title>Report</title>\n",
    "</head>\n",
    "\n",
    "<body class = 'container'>\n",
    "    <header>\n",
    "        <nav>\n",
    "            <ul class=\"./index_NAV_BAR_files/nav_bar_for_website\">\n",
    "                <li><a href=\"index.html\">Home</a></li>\n",
    "                <li><a href=\"Sales_Table.html\">Sales Summary Table</a></li>\n",
    "                <li><a href=\"Sales_Breakdown_Column_Charts.html\">Sales Breakdown</a></li>\n",
    "                <li><a href=\"Trend_Analysis_Line_Charts.html\">Sales Trend Lines</a></li>\n",
    "                <li><a href=\"BFI_Scraps_Analysis.html\">BFI Scraps Trend Analysis</a></li>\n",
    "                <li><a href=\"Data_Downloads.html\">Data Downloads</a></li>\n",
    "            </ul>\n",
    "        </nav>\n",
    "    </header>\n",
    "<!-------------------------SALES SUMMARY TABLE PAGE---------------------------------------------->\n",
    "    <br>\n",
    "    <br>\n",
    "    <h1 class=page_title_for_website>{Current_Year} YTD PURCHASES</h1>\n",
    "    <br>\n",
    "    <table class = \"make_table_smaller_for_website\">\n",
    "        <!-- Start Sales Table -->\n",
    "        [[DATA_MAIN_TABLE]]\n",
    "        <!-- End Sales Table -->\n",
    "    </table>\n",
    "\n",
    "</body>\n",
    "\n",
    "</html>\n",
    "\n",
    "\"\"\"\n",
    "\n",
    "# ADD THE SALES TABLE:\n",
    "# index_exists = os.path.exists('./index_NAV_BAR_files/Sales_Table.html')\n",
    "# current_index = ''\n",
    "# with open('./index_NAV_BAR_files/Sales_Table.html', 'r') as f:\n",
    "#     current_index = f.read()\n",
    "# with open('./index_NAV_BAR_files/Sales_Table.html', 'w') as f:\n",
    "#     f.write(re.sub(r\"<\\!-- Start NRT Table -->.*<\\!-- End NRT Table -->\",\n",
    "#             html_table2, current_index, flags=re.DOTALL))\n",
    "\n",
    "# ADD THE SALES TABLE:\n",
    "html_page_exists = os.path.exists('Sales_Table.html')\n",
    "current_index = ''\n",
    "with open('Sales_Table.html', 'r') as f:\n",
    "    current_index = f.read()\n",
    "with open('Sales_Table.html', 'w') as f:\n",
    "    f.write(re.sub(r\"<\\!-- Start Sales Table -->.*<\\!-- End Sales Table -->\", html_sales_table_for_website, Create_html, flags=re.DOTALL))\n",
    "\n",
    "print(html_page_exists)"
   ]
  },
  {
   "cell_type": "markdown",
   "metadata": {},
   "source": [
    "# 3. Build SALES BREAKDOWN percentage graphs page for website:"
   ]
  },
  {
   "cell_type": "code",
   "execution_count": 43,
   "metadata": {},
   "outputs": [],
   "source": [
    "Create_html_for_sales_breakdown = f\"\"\"\n",
    "\n",
    "<!DOCTYPE html>\n",
    "<html lang=\"en\">\n",
    "\n",
    "<head>\n",
    "    <meta charset=\"UTF-8\" />\n",
    "    <meta name=\"viewport\" content=\"width=device-width, initial-scale=1.0\" />\n",
    "    <meta http-equiv=\"X-UA-Compatible\" content=\"ie=edge\" />\n",
    "    <!--Bootstrap CSS using CDN-->\n",
    "    <link rel=\"stylesheet\" href=\"https://maxcdn.bootstrapcdn.com/bootstrap/3.3.7/css/bootstrap.min.css\" />\n",
    "    <link rel=\"stylesheet\" href=\"css/main.css\">\n",
    "\n",
    "    <title>Report</title>\n",
    "</head>\n",
    "\n",
    "<body class = 'container'>\n",
    "    <header>\n",
    "        <nav>\n",
    "            <ul class=\"./index_NAV_BAR_files/nav_bar_for_website\">\n",
    "                <li><a href=\"index.html\">Home</a></li>\n",
    "                <li><a href=\"Sales_Table.html\">Sales Summary Table</a></li>\n",
    "                <li><a href=\"Sales_Breakdown_Column_Charts.html\">Sales Breakdown</a></li>\n",
    "                <li><a href=\"Trend_Analysis_Line_Charts.html\">Sales Trend Lines</a></li>\n",
    "                <li><a href=\"BFI_Scraps_Analysis.html\">BFI Scraps Trend Analysis</a></li>\n",
    "                <li><a href=\"Data_Downloads.html\">Data Downloads</a></li>\n",
    "            </ul>\n",
    "        </nav>\n",
    "    </header>\n",
    "   <!----------------------------------------- SALES BREAKDOWN PERCENTAGE COLUMN GRAPHS for web page --------------------------------------->\n",
    "    <br>\n",
    "    <h1 class = \"page_title_smaller_for_website\">PURCHASES BREAKDOWN BY CATEGORY</h1>\n",
    "    <br>\n",
    "    <br>\n",
    "    <br>\n",
    "    <div class = \"sales_percentage_breakdown_bar_for_website\">\n",
    "        <img src=\"Images_graphs/{Current_Year}_Sales_Percentage_Breakdown.svg\">\n",
    "        <br>\n",
    "        <br>\n",
    "        <br>\n",
    "        <img src=\"Images_graphs/{Current_Year}_Retreads_Percentage_Breakdown.svg\">\n",
    "    </div>\n",
    "</body>\n",
    "\n",
    "</html>\n",
    "\n",
    "\"\"\"\n",
    "\n",
    "# html_page_exists = os.path.exists('Sales_Table.html')\n",
    "# current_index = ''\n",
    "# with open('Sales_Table.html', 'r') as f:\n",
    "#     current_index = f.read()\n",
    "\n",
    "with open('Sales_Breakdown_Column_Charts.html', 'w') as new_file:\n",
    "    new_file.write(Create_html_for_sales_breakdown)"
   ]
  },
  {
   "cell_type": "markdown",
   "metadata": {},
   "source": [
    "# Build webpage for TREND LINE GRAPHS:"
   ]
  },
  {
   "cell_type": "code",
   "execution_count": 44,
   "metadata": {},
   "outputs": [],
   "source": [
    "Create_html_for_trend_lines = f\"\"\"\n",
    "\n",
    "<!DOCTYPE html>\n",
    "<html lang=\"en\">\n",
    "\n",
    "<head>\n",
    "    <meta charset=\"UTF-8\" />\n",
    "    <meta name=\"viewport\" content=\"width=device-width, initial-scale=1.0\" />\n",
    "    <meta http-equiv=\"X-UA-Compatible\" content=\"ie=edge\" />\n",
    "    <!--Bootstrap CSS using CDN-->\n",
    "    <link rel=\"stylesheet\" href=\"https://maxcdn.bootstrapcdn.com/bootstrap/3.3.7/css/bootstrap.min.css\" />\n",
    "    <link rel=\"stylesheet\" href=\"css/main.css\">\n",
    "\n",
    "    <title>Report</title>\n",
    "</head>\n",
    "\n",
    "<body class = 'container'>\n",
    "    <header>\n",
    "        <nav>\n",
    "            <ul class=\"./index_NAV_BAR_files/nav_bar_for_website\">\n",
    "                <li><a href=\"index.html\">Home</a></li>\n",
    "                <li><a href=\"Sales_Table.html\">Sales Summary Table</a></li>\n",
    "                <li><a href=\"Sales_Breakdown_Column_Charts.html\">Sales Breakdown</a></li>\n",
    "                <li><a href=\"Trend_Analysis_Line_Charts.html\">Sales Trend Lines</a></li>\n",
    "                <li><a href=\"BFI_Scraps_Analysis.html\">BFI Scraps Trend Analysis</a></li>\n",
    "                <li><a href=\"Data_Downloads.html\">Data Downloads</a></li>\n",
    "            </ul>\n",
    "        </nav>\n",
    "    </header>\n",
    "   <!----------------------------------------- SALES TREND LINE GRAPHS for web page --------------------------------------->\n",
    "    <br>\n",
    "    <h1 class = \"page_title_smaller_for_website\">SALES TREND GRAPHS</h1>\n",
    "    <br>\n",
    "    <br>\n",
    "    <p>Note:  The graphs on this page are interactive.  A few common examples include:\n",
    "                    <br>- Single-click an item in the legend to exclude that category from view.\n",
    "                    <br>- Double-click an item in the legend to view ONLY that category.\n",
    "                    <br>- As you hover over the graph, additional functions will appear above the graph (feel free to experiment)\n",
    "                    <br>- To reset a graph, double-click the legend (or graph) or just refresh the webpage\n",
    "    <div class = \"fit_three_graphs_on_pdf_page_for_website\">\n",
    "        <iframe width=\"1050px\" height=\"525px\" frameborder=\"0\" scrolling=\"no\" src=\"{Service_Purchases_Trend_graph_for_iframe}\"></iframe>\n",
    "        <iframe width=\"1050px\" height=\"525px\" frameborder=\"0\" scrolling=\"no\" src=\"{Bandag_Purchases_Trend_graph_for_iframe}\"></iframe>\n",
    "        <iframe width=\"1050px\" height=\"525px\" frameborder=\"0\" scrolling=\"no\" src=\"{Bridgestone_Purchases_Trend_graph_for_iframe}\"></iframe>\n",
    "    </div>\n",
    "    <br>\n",
    "    <br>\n",
    "    <br>\n",
    "    <br>\n",
    "</body>\n",
    "\n",
    "</html>\n",
    "\n",
    "\"\"\"\n",
    "\n",
    "# html_page_exists = os.path.exists('Sales_Table.html')\n",
    "# current_index = ''\n",
    "# with open('Sales_Table.html', 'r') as f:\n",
    "#     current_index = f.read()\n",
    "\n",
    "with open('Trend_Analysis_Line_Charts.html', 'w') as new_file:\n",
    "    new_file.write(Create_html_for_trend_lines)"
   ]
  },
  {
   "cell_type": "markdown",
   "metadata": {},
   "source": [
    "# BUILD THE SCRAPS ANALYSIS Web Page:"
   ]
  },
  {
   "cell_type": "code",
   "execution_count": 45,
   "metadata": {},
   "outputs": [],
   "source": [
    "# BUILD THE HTML TABLE for the NRT TABLE:\n",
    "\n",
    "def create_html_table(Nrt_table):\n",
    "    \n",
    "    # Create headers for HTML\n",
    "    row_data = '<!-- Start NRT Table --><thead>\\n<tr class=\"NRT_header_for_website\">'\n",
    "\n",
    "    # Create columns for HTML:    \n",
    "    for column in range(Nrt_table.shape[1]):\n",
    "        adjust_header_css = \"NRT_header_for_website\"\n",
    "        if column not in [2]:\n",
    "            adjust_header_css += \" black_color_for_website make_bold_for_website make_text_white_for_website\"\n",
    "        if column in [2]:\n",
    "            adjust_header_css += \" lonestar_gold_color_for_website make_bold_for_website\"\n",
    "        if column not in []:\n",
    "            adjust_header_css += \" center_for_website\"    \n",
    "        row_data += '\\n <th class = \"'+adjust_header_css+'\">'+Lonestar_NRT_df_sorted_for_html.columns[column]+'</th>'\n",
    "    row_data += '\\n</tr> \\n </head> \\n <tbody>'\n",
    "    \n",
    "    # Create Body (rows for table) for html\n",
    "    for row in range(Nrt_table.shape[0]):\n",
    "        if row in [0,1,2,3,4,5,6,7,8,9,10,11,12]:\n",
    "            row_data += '\\n<tr class = \"make_bold_for_website\">'\n",
    "        else: row_data += '\\n<tr>'\n",
    "        for column in range(Nrt_table.shape[1]):\n",
    "            td_class_name = 'NRT_text_column_for_website'\n",
    "            if column not in []:\n",
    "                td_class_name += \" center_for_website\"\n",
    "            if row in [12]:\n",
    "                td_class_name += \" black_color_for_website make_bold_for_website make_text_white_for_website\"\n",
    "            # if column not in [2] and row in [13]:\n",
    "            #     td_class_name += \" blue_color make_text_white\"\n",
    "            if column in [2]:\n",
    "                td_class_name += \" lonestar_gold_color_for_website make_bold_for_website make_text_black_for_website\"\n",
    "            row_data += '\\n <td class = \"'+td_class_name+'\">'+str(Nrt_table.iloc[row,column])+'</td>'\n",
    "    row_data += '\\n</tr> \\n</tbody><!-- End NRT Table -->'\n",
    "                # -------------------------------------------------------------------------------------------------\n",
    "\n",
    "    return row_data\n",
    "\n",
    "# Call the function:\n",
    "html_table2 = create_html_table(Lonestar_NRT_df_sorted_for_html)\n",
    "\n",
    "Create_html_for_the_scraps_analysis = f\"\"\"\n",
    "\n",
    "<!DOCTYPE html>\n",
    "<html lang=\"en\">\n",
    "\n",
    "<head>\n",
    "    <meta charset=\"UTF-8\" />\n",
    "    <meta name=\"viewport\" content=\"width=device-width, initial-scale=1.0\" />\n",
    "    <meta http-equiv=\"X-UA-Compatible\" content=\"ie=edge\" />\n",
    "    <!--Bootstrap CSS using CDN-->\n",
    "    <link rel=\"stylesheet\" href=\"https://maxcdn.bootstrapcdn.com/bootstrap/3.3.7/css/bootstrap.min.css\" />\n",
    "    <link rel=\"stylesheet\" href=\"css/main.css\">\n",
    "\n",
    "    <title>Report</title>\n",
    "</head>\n",
    "\n",
    "<body class = 'container'>\n",
    "    <header>\n",
    "        <nav>\n",
    "            <ul class=\"./index_NAV_BAR_files/nav_bar_for_website\">\n",
    "                <li><a href=\"index.html\">Home</a></li>\n",
    "                <li><a href=\"Sales_Table.html\">Sales Summary Table</a></li>\n",
    "                <li><a href=\"Sales_Breakdown_Column_Charts.html\">Sales Breakdown</a></li>\n",
    "                <li><a href=\"Trend_Analysis_Line_Charts.html\">Sales Trend Lines</a></li>\n",
    "                <li><a href=\"BFI_Scraps_Analysis.html\">BFI Scraps Trend Analysis</a></li>\n",
    "                <li><a href=\"Data_Downloads.html\">Data Downloads</a></li>\n",
    "            </ul>\n",
    "        </nav>\n",
    "    </header>\n",
    "   <!----------------------------------------- SCRAPS TREND TABLE AND GRAPH for web page --------------------------------------->\n",
    "    <br>\n",
    "        <h1 class = \"page_title_smaller_for_website\">BFI SCRAP TREND ANALYSIS</h1>\n",
    "    <br>\n",
    "    <br>\n",
    "    <p>Note:  The graphs on this page are interactive.  A few common examples include:\n",
    "                    <br>- Single-click an item in the legend to exclude that category from view.\n",
    "                    <br>- Double-click an item in the legend to view ONLY that category.\n",
    "                    <br>- As you hover over the graph, additional functions will appear above the graph (feel free to experiment)\n",
    "                    <br>- To reset a graph, double-click the legend (or graph) or just refresh the webpage\n",
    "    <br>\n",
    "    <br>\n",
    "    <h2 class=scrap_summary_table_heading_for_website>SCRAP SUMMARY TABLE:<h2>\n",
    "    <table>\n",
    "        <!-- Start NRT Table -->\n",
    "        [[DATA_MAIN_TABLE]]\n",
    "        <!-- End NRT Table -->\n",
    "    </table>\n",
    "    <br>\n",
    "    <br>\n",
    "    <br>\n",
    "    <iframe width=\"1100px\" height=\"1020px\" frameborder=\"0\" scrolling=\"no\" src=\"{Scrap_Trend_graph_for_iframe}\"></iframe>\n",
    "    <br>\n",
    "    <br>\n",
    "    <br>\n",
    "</body>\n",
    "\n",
    "</html>\n",
    "\n",
    "\"\"\"\n",
    "\n",
    "# \n",
    "with open('BFI_Scraps_Analysis.html', 'w') as new_file:\n",
    "    new_file.write(Create_html_for_the_scraps_analysis)\n",
    "\n",
    "index_exists = os.path.exists('BFI_Scraps_Analysis.html')\n",
    "current_index = ''\n",
    "with open('BFI_Scraps_Analysis.html', 'r') as f:\n",
    "    current_index = f.read()\n",
    "with open('BFI_Scraps_Analysis.html', 'w') as f:\n",
    "    f.write(re.sub(r\"<\\!-- Start NRT Table -->.*<\\!-- End NRT Table -->\", html_table2, current_index, flags=re.DOTALL))\n"
   ]
  },
  {
   "cell_type": "markdown",
   "metadata": {},
   "source": [
    "# CREATE A PAGE THAT WILL HOUSE A LINK TO DOWNLOADS:"
   ]
  },
  {
   "cell_type": "code",
   "execution_count": 60,
   "metadata": {},
   "outputs": [],
   "source": [
    "Create_html_for_the_data_downloads_page = f\"\"\"\n",
    "\n",
    "<!DOCTYPE html>\n",
    "<html lang=\"en\">\n",
    "\n",
    "<head>\n",
    "    <meta charset=\"UTF-8\" />\n",
    "    <meta name=\"viewport\" content=\"width=device-width, initial-scale=1.0\" />\n",
    "    <meta http-equiv=\"X-UA-Compatible\" content=\"ie=edge\" />\n",
    "    <!--Bootstrap CSS using CDN-->\n",
    "    <link rel=\"stylesheet\" href=\"https://maxcdn.bootstrapcdn.com/bootstrap/3.3.7/css/bootstrap.min.css\" />\n",
    "    <link rel=\"stylesheet\" href=\"css/main.css\">\n",
    "\n",
    "    <title>Report</title>\n",
    "</head>\n",
    "\n",
    "<body class = 'container'>\n",
    "    <header>\n",
    "        <nav>\n",
    "            <ul class=\"./index_NAV_BAR_files/nav_bar_for_website\">\n",
    "                <li><a href=\"index.html\">Home</a></li>\n",
    "                <li><a href=\"Sales_Table.html\">Sales Summary Table</a></li>\n",
    "                <li><a href=\"Sales_Breakdown_Column_Charts.html\">Sales Breakdown</a></li>\n",
    "                <li><a href=\"Trend_Analysis_Line_Charts.html\">Sales Trend Lines</a></li>\n",
    "                <li><a href=\"BFI_Scraps_Analysis.html\">BFI Scraps Trend Analysis</a></li>\n",
    "                <li><a href=\"Data_Downloads.html\">Data Downloads</a></li>\n",
    "            </ul>\n",
    "        </nav>\n",
    "    </header>\n",
    "   <!----------------------------------------- Downloads data for web page --------------------------------------->\n",
    "    <br>\n",
    "        <h1 class = \"page_title_smaller_for_website\">DOWNLOADS</h1>\n",
    "    <br>\n",
    "    <br>\n",
    "    <br>\n",
    "    <form>\n",
    "        <input class = \"download_button\" type=\"button\" value=\"Download PDF Report\" onClick=\"window.location.href='{Last_Month}_Lonestar_YTD_Purchase_and_Scrap_Report.pdf'\">\n",
    "    </form>\n",
    "    <br>\n",
    "    <form>\n",
    "    <input class = \"download_button\" type=\"button\" value=\"Download Excel Data\" onClick=\"window.location.href='SAM_Steve_Walton_Customers_Purchases_Breakdown_10-22-2021_Starting_Template.xlsx'\">\n",
    "    </form>\n",
    "    <br>\n",
    "    <br>\n",
    "    <br>\n",
    "</body>\n",
    "\n",
    "</html>\n",
    "\n",
    "\"\"\"\n",
    "\n",
    "# \n",
    "with open('Data_Downloads.html', 'w') as new_file:\n",
    "    new_file.write(Create_html_for_the_data_downloads_page)\n"
   ]
  },
  {
   "cell_type": "code",
   "execution_count": 52,
   "metadata": {},
   "outputs": [
    {
     "data": {
      "text/plain": [
       "202110"
      ]
     },
     "execution_count": 52,
     "metadata": {},
     "output_type": "execute_result"
    }
   ],
   "source": [
    "Last_Month"
   ]
  },
  {
   "cell_type": "markdown",
   "metadata": {},
   "source": [
    "## Delete the contents no longer needed from certain folders after successfully generating website and pdf:"
   ]
  },
  {
   "cell_type": "code",
   "execution_count": 53,
   "metadata": {},
   "outputs": [],
   "source": [
    "# # Delete contents from various folders that we don't want to keep now that we have the report done:\n",
    "\n",
    "# folder = './CSVs'\n",
    "# for filename in os.listdir(folder):\n",
    "#     file_path = os.path.join(folder, filename)\n",
    "#     try:\n",
    "#         if os.path.isfile(file_path) or os.path.islink(file_path):\n",
    "#             os.unlink(file_path)\n",
    "#         elif os.path.isdir(file_path):\n",
    "#             shutil.rmtree(file_path)\n",
    "#     except Exception as e:\n",
    "#         print('Failed to delete CSVs' % (file_path, e))\n",
    "\n",
    "# # Delete contents form the \"Images_graphs\" folder:\n",
    "\n",
    "# folder = './Images_graphs'\n",
    "# for filename in os.listdir(folder):\n",
    "#     file_path = os.path.join(folder, filename)\n",
    "#     try:\n",
    "#         if os.path.isfile(file_path) or os.path.islink(file_path):\n",
    "#             os.unlink(file_path)\n",
    "#         elif os.path.isdir(file_path):\n",
    "#             shutil.rmtree(file_path)\n",
    "#     except Exception as e:\n",
    "#         print('Failed to delete CSVs' % (file_path, e))\n",
    "\n",
    "# # Delete contents form the \"NRT_CSVs_BFI_SCRAPE\" folder:\n",
    "\n",
    "# folder = './NRT_CSVs_BFI_SCRAPE'\n",
    "# for filename in os.listdir(folder):\n",
    "#     file_path = os.path.join(folder, filename)\n",
    "#     try:\n",
    "#         if os.path.isfile(file_path) or os.path.islink(file_path):\n",
    "#             os.unlink(file_path)\n",
    "#         elif os.path.isdir(file_path):\n",
    "#             shutil.rmtree(file_path)\n",
    "#     except Exception as e:\n",
    "#         print('Failed to delete CSVs' % (file_path, e))"
   ]
  },
  {
   "cell_type": "code",
   "execution_count": null,
   "metadata": {},
   "outputs": [],
   "source": []
  }
 ],
 "metadata": {
  "interpreter": {
   "hash": "263a0d6afd0d895d23b2198e3f07bb697c61bd3a3324adb6215346a769c69fe7"
  },
  "kernelspec": {
   "display_name": "Python 3.9.4 64-bit",
   "name": "python3"
  },
  "language_info": {
   "codemirror_mode": {
    "name": "ipython",
    "version": 3
   },
   "file_extension": ".py",
   "mimetype": "text/x-python",
   "name": "python",
   "nbconvert_exporter": "python",
   "pygments_lexer": "ipython3",
   "version": "3.9.4"
  },
  "metadata": {
   "interpreter": {
    "hash": "263a0d6afd0d895d23b2198e3f07bb697c61bd3a3324adb6215346a769c69fe7"
   }
  },
  "orig_nbformat": 2
 },
 "nbformat": 4,
 "nbformat_minor": 2
}
